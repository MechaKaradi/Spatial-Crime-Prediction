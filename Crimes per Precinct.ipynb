{
 "cells": [
  {
   "cell_type": "code",
   "execution_count": null,
   "metadata": {
    "collapsed": true
   },
   "outputs": [],
   "source": [
    "import geopandas as gpd\n",
    "import altair as alt\n",
    "import seaborn as sns\n",
    "import pandas as pd\n",
    "import scipy.stats as stats\n",
    "\n",
    "# craate a string to hold the path to the export folder\n",
    "export_folder = r'C:\\Users\\Kaninik\\OneDrive - Delft University of Technology\\MSc Cosem\\Q3\\Gedeelde documenten - Group 4 - Data Analytics\\General\\Report Part 1\\Graphs'"
   ]
  },
  {
   "cell_type": "code",
   "execution_count": null,
   "metadata": {
    "collapsed": false
   },
   "outputs": [],
   "source": [
    "\n",
    "import pickle\n",
    "\n",
    "with open('data.pickle', 'rb') as f:\n",
    "    data = pickle.load(f, encoding='binary')\n"
   ]
  },
  {
   "cell_type": "code",
   "execution_count": null,
   "metadata": {},
   "outputs": [],
   "source": [
    "# # Filtered the data to only include the year 2015\n",
    "# data = data.loc[data['OCC'].dt.year == 2016]\n",
    "# data = data.loc[data['VIC_SEX'] != 'D']\n",
    "# data = data.loc[data['VIC_SEX'] != 'E']\n",
    "# data.info()\n",
    "\n",
    "\n",
    "# Add a column for the year\n",
    "data['Year'] = data['OCC'].dt.year"
   ]
  },
  {
   "cell_type": "code",
   "execution_count": null,
   "metadata": {},
   "outputs": [],
   "source": [
    "# Create a box-plot of the number of crimes per precinct\n",
    "crime_per_precinct = data.groupby(['ADDR_PCT_CD']).size().reset_index(name='Count')\n",
    "\n",
    "# Create a box-plot of the number of crimes per precinct using seaborn\n",
    "bar_plot_precincts = alt.Chart(crime_per_precinct).mark_boxplot().encode(\n",
    "    y = alt.Y('Count:Q', title='Number of crimes'),\n",
    ")\n",
    "\n",
    "# save the altair plot to a png file in the export folder\n",
    "bar_plot_precincts.properties(width=500, height=500)"
   ]
  },
  {
   "cell_type": "code",
   "execution_count": null,
   "metadata": {},
   "outputs": [],
   "source": [
    "\n",
    "precint_counts = data.groupby(['ADDR_PCT_CD','Year']).size().reset_index(name='crime_count')\n",
    "precint_counts.head(5)\n",
    "\n",
    "# Convert Year and crime_count to int\n",
    "precint_counts['Year'] = precint_counts['Year'].astype(int)\n",
    "precint_counts['crime_count'] = precint_counts['crime_count'].astype(int)\n",
    "\n",
    "# convert ADDR_PCT_CD to int\n",
    "precint_counts['ADDR_PCT_CD'] = precint_counts['ADDR_PCT_CD'].astype(int)\n",
    "precint_counts['ADDR_PCT_CD'] = precint_counts['ADDR_PCT_CD'].astype(str)\n",
    "precint_counts.head(5)\n"
   ]
  },
  {
   "cell_type": "code",
   "execution_count": null,
   "metadata": {},
   "outputs": [],
   "source": [
    "# number of total unique precincts\n",
    "precincts = precint_counts['ADDR_PCT_CD'].unique()\n",
    "len(precincts)"
   ]
  },
  {
   "cell_type": "code",
   "execution_count": null,
   "metadata": {},
   "outputs": [],
   "source": [
    "# Create a Streamgraph to show the changes in crimes over years\n",
    "alt.Chart(precint_counts).mark_line().encode(\n",
    "    alt.X('Year:O', axis = alt.Axis(title = 'Year')),\n",
    "    alt.Y('crime_count:Q', stack = \"zero\", axis = alt.Axis(title = 'Crime Count')),\n",
    "    alt.Color('ADDR_PCT_CD:O', scale=alt.Scale(scheme='lighttealblue'),title = 'Precinct')\n",
    ").properties(\n",
    "    width = 1000,\n",
    "    height = 500\n",
    ")"
   ]
  },
  {
   "cell_type": "code",
   "execution_count": null,
   "metadata": {
    "collapsed": false
   },
   "outputs": [],
   "source": [
    "# load precinct shapefile\n",
    "precint_shape = gpd.read_file('..//data//Police Precincts.geojson')\n",
    "# merge the two dataframes\n",
    "precint_shape = precint_counts.merge(precint_shape, right_on='precinct', left_on='ADDR_PCT_CD')\n",
    "precint_shape = gpd.GeoDataFrame(precint_shape, geometry='geometry')\n",
    "precint_shape.info()"
   ]
  },
  {
   "cell_type": "code",
   "execution_count": null,
   "metadata": {},
   "outputs": [],
   "source": [
    "# plot the data using column 'counts' as the color and with one map for each year\n",
    "alt.Chart(precint_shape).mark_geoshape().encode(\n",
    "    color='precinct',\n",
    ").properties(\n",
    "    width=500,\n",
    "    height=500,\n",
    ")"
   ]
  },
  {
   "cell_type": "code",
   "execution_count": null,
   "metadata": {},
   "outputs": [],
   "source": [
    "# plot the data using column 'counts' as the color and with one map for each year\n",
    "alt.Chart(precint_shape).mark_geoshape().encode(\n",
    "    color='crime_count:Q',\n",
    ").properties(\n",
    "    width=500,\n",
    "    height=300,\n",
    ")"
   ]
  },
  {
   "cell_type": "code",
   "execution_count": null,
   "metadata": {},
   "outputs": [],
   "source": [
    "precint_w_trees = gpd.read_file('..//data//precincts_with_trees.geojson')\n",
    "\n",
    "# plot the data using column 'counts' as the color\n",
    "alt.Chart(precint_w_trees).mark_geoshape().encode(\n",
    "    color='tree_count:Q'\n",
    ").properties(\n",
    "    width=500,\n",
    "    height=300\n",
    ")\n"
   ]
  },
  {
   "cell_type": "code",
   "execution_count": null,
   "metadata": {},
   "outputs": [],
   "source": [
    "# merge the trees and crime data\n",
    "precint_w_trees = precint_w_trees.merge(precint_counts, left_on='precinct', right_on='ADDR_PCT_CD')"
   ]
  },
  {
   "cell_type": "code",
   "execution_count": null,
   "metadata": {},
   "outputs": [],
   "source": [
    "# create a box plot of the crime count and the tree count\n",
    "alt.Chart(precint_w_trees).mark_boxplot().encode(\n",
    "    y='crime_count:Q'\n",
    ")"
   ]
  },
  {
   "cell_type": "code",
   "execution_count": null,
   "metadata": {},
   "outputs": [],
   "source": [
    "# create a scatter plot of the data with the number of trees on the x axis and the number of crimes on the y axis\n",
    "alt.Chart(precint_w_trees).mark_circle(\n",
    "    size=50,\n",
    "    color='red',\n",
    ").encode(\n",
    "    x = alt.X('tree_count', axis= alt.Axis(title = 'Trees')),\n",
    "    y = alt.Y('crime_count', axis= alt.Axis(title = 'Crimes')),\n",
    "    tooltip = ['precinct', 'tree_count', 'crime_count'],\n",
    ").properties(\n",
    "    width=1000,\n",
    "    height=500,\n",
    "    title='Number of Crimes vs Number of Trees'\n",
    ")"
   ]
  },
  {
   "cell_type": "code",
   "execution_count": null,
   "metadata": {},
   "outputs": [],
   "source": [
    "stats.pearsonr(precint_w_trees['tree_count'], precint_w_trees['crime_count'])"
   ]
  },
  {
   "cell_type": "code",
   "execution_count": null,
   "metadata": {},
   "outputs": [],
   "source": [
    "# get he area of each precinct\n",
    "precint_w_trees.to_crs(epsg=2263, inplace=True)\n",
    "precint_w_trees['area'] = precint_w_trees['geometry'].area\n",
    "\n",
    "precint_w_trees['area'].head(5)"
   ]
  },
  {
   "cell_type": "code",
   "execution_count": null,
   "metadata": {},
   "outputs": [],
   "source": [
    "# calculate the number of trees per square kilometer and add it to the dataframe\n",
    "precint_w_trees['tree_density'] = precint_w_trees['tree_count'] / (precint_w_trees['area'] / 1000000)\n",
    "precint_w_trees['crime_density'] = precint_w_trees['crime_count'] / (precint_w_trees['area'] / 1000000)"
   ]
  },
  {
   "cell_type": "code",
   "execution_count": null,
   "metadata": {},
   "outputs": [],
   "source": [
    "# create a scatter plot of the data with the density of trees on the x axis and the density of crimes on the y axis\n",
    "fig = alt.Chart(precint_w_trees).mark_circle(\n",
    "    size=50,\n",
    "    color='red',\n",
    ").encode(\n",
    "    x = alt.X('tree_density:Q', axis= alt.Axis(title = 'Trees')),\n",
    "    y = alt.Y('crime_density:Q',axis= alt.Axis(title = 'Crimes per sq.km')),\n",
    "    tooltip = ['precinct', 'tree_count', 'crime_count'],\n",
    ").properties(\n",
    "    width=1000,\n",
    "    height=500,\n",
    "    title='Number of Crimes vs Number of Trees'\n",
    ")\n",
    "\n",
    "final_plot = fig + fig.transform_regression('tree_density','crime_density').mark_line()\n",
    "final_plot"
   ]
  },
  {
   "cell_type": "code",
   "execution_count": null,
   "metadata": {},
   "outputs": [],
   "source": [
    "stats.pearsonr(precint_w_trees['tree_density'], precint_w_trees['crime_density'])"
   ]
  },
  {
   "cell_type": "code",
   "execution_count": null,
   "metadata": {},
   "outputs": [],
   "source": [
    "\n",
    "alt.Chart(precint_w_trees).mark_circle().encode(\n",
    "    alt.X(alt.repeat(\"column\"), type='quantitative'),\n",
    "    alt.Y(alt.repeat(\"row\"), type='quantitative'),\n",
    ").properties(\n",
    "    width=300,\n",
    "    height=300\n",
    ").repeat(\n",
    "    row=['tree_density', 'crime_density', 'area'],\n",
    "    column=['tree_density', 'crime_density', 'area']\n",
    ")"
   ]
  },
  {
   "cell_type": "code",
   "execution_count": null,
   "metadata": {},
   "outputs": [],
   "source": [
    "# create a box plot of the crime count and the tree count\n",
    "bplot_crimedensity = alt.Chart(precint_w_trees).mark_boxplot().encode(\n",
    "    y='crime_density'\n",
    ")\n",
    "\n",
    "b_plot_treedensity = alt.Chart(precint_w_trees).mark_boxplot().encode(\n",
    "    y='tree_density'\n",
    ")\n",
    "\n",
    "bplot_crimedensity | b_plot_treedensity\n",
    "\n"
   ]
  }
 ],
 "metadata": {
  "kernelspec": {
   "display_name": "Python 3",
   "language": "python",
   "name": "python3"
  },
  "language_info": {
   "codemirror_mode": {
    "name": "ipython",
    "version": 3
   },
   "file_extension": ".py",
   "mimetype": "text/x-python",
   "name": "python",
   "nbconvert_exporter": "python",
   "pygments_lexer": "ipython3",
   "version": "3.11.0"
  }
 },
 "nbformat": 4,
 "nbformat_minor": 0
}
