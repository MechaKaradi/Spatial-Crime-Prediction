{
 "cells": [
  {
   "cell_type": "code",
   "execution_count": 1,
   "metadata": {},
   "outputs": [],
   "source": [
    "import pandas\n",
    "import altair\n",
    "import numpy"
   ]
  },
  {
   "cell_type": "code",
   "execution_count": 3,
   "metadata": {},
   "outputs": [
    {
     "name": "stderr",
     "output_type": "stream",
     "text": [
      "C:\\Users\\Kaninik\\AppData\\Local\\Temp\\ipykernel_28100\\1274182480.py:1: DtypeWarning: Columns (18,20) have mixed types. Specify dtype option on import or set low_memory=False.\n",
      "  data = pandas.read_csv(\"..//NYPD_Complaint_Data_Historic.csv\")\n"
     ]
    },
    {
     "name": "stdout",
     "output_type": "stream",
     "text": [
      "<class 'pandas.core.frame.DataFrame'>\n",
      "Int64Index: 50000 entries, 4359509 to 7587696\n",
      "Data columns (total 35 columns):\n",
      " #   Column             Non-Null Count  Dtype  \n",
      "---  ------             --------------  -----  \n",
      " 0   CMPLNT_NUM         50000 non-null  int64  \n",
      " 1   CMPLNT_FR_DT       49992 non-null  object \n",
      " 2   CMPLNT_FR_TM       49999 non-null  object \n",
      " 3   CMPLNT_TO_DT       38887 non-null  object \n",
      " 4   CMPLNT_TO_TM       38912 non-null  object \n",
      " 5   ADDR_PCT_CD        49990 non-null  float64\n",
      " 6   RPT_DT             50000 non-null  object \n",
      " 7   KY_CD              50000 non-null  int64  \n",
      " 8   OFNS_DESC          49878 non-null  object \n",
      " 9   PD_CD              49954 non-null  float64\n",
      " 10  PD_DESC            49954 non-null  object \n",
      " 11  CRM_ATPT_CPTD_CD   49999 non-null  object \n",
      " 12  LAW_CAT_CD         50000 non-null  object \n",
      " 13  BORO_NM            49914 non-null  object \n",
      " 14  LOC_OF_OCCUR_DESC  39579 non-null  object \n",
      " 15  PREM_TYP_DESC      49739 non-null  object \n",
      " 16  JURIS_DESC         50000 non-null  object \n",
      " 17  JURISDICTION_CODE  49954 non-null  float64\n",
      " 18  PARKS_NM           214 non-null    object \n",
      " 19  HADEVELOPT         2185 non-null   object \n",
      " 20  HOUSING_PSA        3812 non-null   object \n",
      " 21  X_COORD_CD         49903 non-null  float64\n",
      " 22  Y_COORD_CD         49903 non-null  float64\n",
      " 23  SUSP_AGE_GROUP     18862 non-null  object \n",
      " 24  SUSP_RACE          27664 non-null  object \n",
      " 25  SUSP_SEX           26836 non-null  object \n",
      " 26  TRANSIT_DISTRICT   1128 non-null   float64\n",
      " 27  Latitude           49903 non-null  float64\n",
      " 28  Longitude          49903 non-null  float64\n",
      " 29  Lat_Lon            49903 non-null  object \n",
      " 30  PATROL_BORO        49952 non-null  object \n",
      " 31  STATION_NAME       1128 non-null   object \n",
      " 32  VIC_AGE_GROUP      39613 non-null  object \n",
      " 33  VIC_RACE           50000 non-null  object \n",
      " 34  VIC_SEX            50000 non-null  object \n",
      "dtypes: float64(8), int64(2), object(25)\n",
      "memory usage: 13.7+ MB\n"
     ]
    }
   ],
   "source": [
    "data = pandas.read_csv(\"..//NYPD_Complaint_Data_Historic.csv\")\n",
    "data = data.sample(50000)\n",
    "data.info()"
   ]
  },
  {
   "cell_type": "code",
   "execution_count": 4,
   "metadata": {},
   "outputs": [],
   "source": [
    "def make_categorical(dataframe, column):\n",
    "    # make the column of the dataframe categorical\n",
    "    dataframe[column] = dataframe[column].astype('category')\n",
    "\n",
    "# get a lst of all the columns in the dataframe that need to be categorical\n",
    "\n",
    "columns = ['ADDR_PCT_CD', 'BORO_NM', 'CRM_ATPT_CPTD_CD', 'HADEVELOPT', 'HOUSING_PSA', 'JURISDICTION_CODE', 'JURIS_DESC', 'KY_CD', 'LAW_CAT_CD', 'LOC_OF_OCCUR_DESC', 'OFNS_DESC', 'PARKS_NM', 'PATROL_BORO', 'PD_CD', 'PD_DESC', 'STATION_NAME', 'SUSP_RACE', 'SUSP_SEX', 'TRANSIT_DISTRICT', 'VIC_RACE', 'VIC_SEX']\n",
    "\n",
    "    # make each column categorical\n",
    "for column in columns:\n",
    "    make_categorical(data, column)\n"
   ]
  },
  {
   "cell_type": "code",
   "execution_count": 5,
   "metadata": {},
   "outputs": [],
   "source": [
    "#remove values that don't belong to a suspect age group\n",
    "data['SUSP_AGE_GROUP'] = numpy.where(data['SUSP_AGE_GROUP'].str.len()==4, None, data['SUSP_AGE_GROUP'])\n",
    "data['SUSP_AGE_GROUP'] = numpy.where(data['SUSP_AGE_GROUP'].str.startswith(\"-\"), None, data['SUSP_AGE_GROUP'])\n",
    "data['SUSP_AGE_GROUP'] = numpy.where(data['SUSP_AGE_GROUP'].str.contains(\"<\"), data['SUSP_AGE_GROUP'] + ' ', data['SUSP_AGE_GROUP'])\n",
    "data['SUSP_AGE_GROUP'] = numpy.where(data['SUSP_AGE_GROUP'].str.endswith(\"+\"), data['SUSP_AGE_GROUP'] + ' ', data['SUSP_AGE_GROUP'])\n",
    "data['SUSP_AGE_GROUP'] = numpy.where(data['SUSP_AGE_GROUP'].str.len()==3, None, data['SUSP_AGE_GROUP'])\n",
    "data['SUSP_AGE_GROUP'] = numpy.where(data['SUSP_AGE_GROUP'].str.contains(\"UNKNOWN\"), None, data['SUSP_AGE_GROUP'])"
   ]
  },
  {
   "cell_type": "code",
   "execution_count": 6,
   "metadata": {},
   "outputs": [],
   "source": [
    "#remove values that don't belong to a victim age group\n",
    "data['VIC_AGE_GROUP'] = numpy.where(data['VIC_AGE_GROUP'].str.len()==4, None, data['VIC_AGE_GROUP'])\n",
    "data['VIC_AGE_GROUP'] = numpy.where(data['VIC_AGE_GROUP'].str.startswith(\"-\"), None, data['VIC_AGE_GROUP'])\n",
    "data['VIC_AGE_GROUP'] = numpy.where(data['VIC_AGE_GROUP'].str.contains(\"<\"), data['VIC_AGE_GROUP'] + ' ', data['VIC_AGE_GROUP'])\n",
    "data['VIC_AGE_GROUP'] = numpy.where(data['VIC_AGE_GROUP'].str.endswith(\"+\"), data['VIC_AGE_GROUP'] + ' ', data['VIC_AGE_GROUP'])\n",
    "data['VIC_AGE_GROUP'] = numpy.where(data['SUSP_AGE_GROUP'].str.contains(\"UNKNOWN\"), None, data['SUSP_AGE_GROUP'])\n",
    "data['VIC_AGE_GROUP'] = numpy.where(data['VIC_AGE_GROUP'].str.len()==3, None, data['VIC_AGE_GROUP'])"
   ]
  },
  {
   "cell_type": "code",
   "execution_count": 7,
   "metadata": {},
   "outputs": [],
   "source": [
    "def make_categorical(dataframe, column):\n",
    "    # make the column of the dataframe categorical\n",
    "    dataframe[column] = dataframe[column].astype('category')\n",
    "\n",
    "# get a lst of all the columns in the dataframe\n",
    "columns = ['SUSP_AGE_GROUP', 'VIC_AGE_GROUP']\n",
    "\n",
    "    # make each column categorical\n",
    "for column in columns:\n",
    "    make_categorical(data, column)\n"
   ]
  },
  {
   "cell_type": "code",
   "execution_count": 31,
   "metadata": {},
   "outputs": [],
   "source": [
    "# Define cleaners functions for date values\n",
    "\n",
    "def year(x):\n",
    "    if len(x)>5:\n",
    "        return x.split('/')[2]\n",
    "def day(x):\n",
    "    if len(x)>5:\n",
    "        return x.split('/')[1]\n",
    "def month(x):\n",
    "    if len(x)>5:\n",
    "        return x.split('/')[0]\n",
    "\n",
    "# Functions to eliminate invalid rows, True means Valid, False means Invalid\n",
    "def eliminateyear(x):\n",
    "    if (x<2006) | (x>2023):\n",
    "        return False\n",
    "    else:\n",
    "        return True\n",
    "\n",
    "def eliminatemonth(x):\n",
    "    if (x<1) | (x>12):\n",
    "        return False\n",
    "    else:\n",
    "        return True\n",
    "\n",
    "def eliminateday(x):\n",
    "    if (x<1) | (x>31):\n",
    "        return False\n",
    "    else:\n",
    "        return True"
   ]
  },
  {
   "cell_type": "code",
   "execution_count": 86,
   "metadata": {},
   "outputs": [
    {
     "ename": "ValueError",
     "evalue": "invalid literal for int() with base 10: 'nan'",
     "output_type": "error",
     "traceback": [
      "\u001b[1;31m---------------------------------------------------------------------------\u001b[0m",
      "\u001b[1;31mValueError\u001b[0m                                Traceback (most recent call last)",
      "Cell \u001b[1;32mIn[86], line 17\u001b[0m\n\u001b[0;32m     14\u001b[0m date_cleaning\u001b[39m.\u001b[39mdtypes\n\u001b[0;32m     15\u001b[0m date_cleaning \u001b[39m=\u001b[39m date_cleaning\u001b[39m.\u001b[39mconvert_dtypes(convert_string\u001b[39m=\u001b[39m \u001b[39mTrue\u001b[39;00m)\n\u001b[1;32m---> 17\u001b[0m date_cleaning\u001b[39m.\u001b[39;49mastype(\u001b[39m'\u001b[39;49m\u001b[39mint32\u001b[39;49m\u001b[39m'\u001b[39;49m)\n",
      "File \u001b[1;32mc:\\Users\\Kaninik\\anaconda3\\envs\\geo_env\\Lib\\site-packages\\pandas\\core\\generic.py:6240\u001b[0m, in \u001b[0;36mNDFrame.astype\u001b[1;34m(self, dtype, copy, errors)\u001b[0m\n\u001b[0;32m   6233\u001b[0m     results \u001b[39m=\u001b[39m [\n\u001b[0;32m   6234\u001b[0m         \u001b[39mself\u001b[39m\u001b[39m.\u001b[39miloc[:, i]\u001b[39m.\u001b[39mastype(dtype, copy\u001b[39m=\u001b[39mcopy)\n\u001b[0;32m   6235\u001b[0m         \u001b[39mfor\u001b[39;00m i \u001b[39min\u001b[39;00m \u001b[39mrange\u001b[39m(\u001b[39mlen\u001b[39m(\u001b[39mself\u001b[39m\u001b[39m.\u001b[39mcolumns))\n\u001b[0;32m   6236\u001b[0m     ]\n\u001b[0;32m   6238\u001b[0m \u001b[39melse\u001b[39;00m:\n\u001b[0;32m   6239\u001b[0m     \u001b[39m# else, only a single dtype is given\u001b[39;00m\n\u001b[1;32m-> 6240\u001b[0m     new_data \u001b[39m=\u001b[39m \u001b[39mself\u001b[39;49m\u001b[39m.\u001b[39;49m_mgr\u001b[39m.\u001b[39;49mastype(dtype\u001b[39m=\u001b[39;49mdtype, copy\u001b[39m=\u001b[39;49mcopy, errors\u001b[39m=\u001b[39;49merrors)\n\u001b[0;32m   6241\u001b[0m     \u001b[39mreturn\u001b[39;00m \u001b[39mself\u001b[39m\u001b[39m.\u001b[39m_constructor(new_data)\u001b[39m.\u001b[39m__finalize__(\u001b[39mself\u001b[39m, method\u001b[39m=\u001b[39m\u001b[39m\"\u001b[39m\u001b[39mastype\u001b[39m\u001b[39m\"\u001b[39m)\n\u001b[0;32m   6243\u001b[0m \u001b[39m# GH 33113: handle empty frame or series\u001b[39;00m\n",
      "File \u001b[1;32mc:\\Users\\Kaninik\\anaconda3\\envs\\geo_env\\Lib\\site-packages\\pandas\\core\\internals\\managers.py:448\u001b[0m, in \u001b[0;36mBaseBlockManager.astype\u001b[1;34m(self, dtype, copy, errors)\u001b[0m\n\u001b[0;32m    447\u001b[0m \u001b[39mdef\u001b[39;00m \u001b[39mastype\u001b[39m(\u001b[39mself\u001b[39m: T, dtype, copy: \u001b[39mbool\u001b[39m \u001b[39m=\u001b[39m \u001b[39mFalse\u001b[39;00m, errors: \u001b[39mstr\u001b[39m \u001b[39m=\u001b[39m \u001b[39m\"\u001b[39m\u001b[39mraise\u001b[39m\u001b[39m\"\u001b[39m) \u001b[39m-\u001b[39m\u001b[39m>\u001b[39m T:\n\u001b[1;32m--> 448\u001b[0m     \u001b[39mreturn\u001b[39;00m \u001b[39mself\u001b[39;49m\u001b[39m.\u001b[39;49mapply(\u001b[39m\"\u001b[39;49m\u001b[39mastype\u001b[39;49m\u001b[39m\"\u001b[39;49m, dtype\u001b[39m=\u001b[39;49mdtype, copy\u001b[39m=\u001b[39;49mcopy, errors\u001b[39m=\u001b[39;49merrors)\n",
      "File \u001b[1;32mc:\\Users\\Kaninik\\anaconda3\\envs\\geo_env\\Lib\\site-packages\\pandas\\core\\internals\\managers.py:352\u001b[0m, in \u001b[0;36mBaseBlockManager.apply\u001b[1;34m(self, f, align_keys, ignore_failures, **kwargs)\u001b[0m\n\u001b[0;32m    350\u001b[0m         applied \u001b[39m=\u001b[39m b\u001b[39m.\u001b[39mapply(f, \u001b[39m*\u001b[39m\u001b[39m*\u001b[39mkwargs)\n\u001b[0;32m    351\u001b[0m     \u001b[39melse\u001b[39;00m:\n\u001b[1;32m--> 352\u001b[0m         applied \u001b[39m=\u001b[39m \u001b[39mgetattr\u001b[39;49m(b, f)(\u001b[39m*\u001b[39;49m\u001b[39m*\u001b[39;49mkwargs)\n\u001b[0;32m    353\u001b[0m \u001b[39mexcept\u001b[39;00m (\u001b[39mTypeError\u001b[39;00m, \u001b[39mNotImplementedError\u001b[39;00m):\n\u001b[0;32m    354\u001b[0m     \u001b[39mif\u001b[39;00m \u001b[39mnot\u001b[39;00m ignore_failures:\n",
      "File \u001b[1;32mc:\\Users\\Kaninik\\anaconda3\\envs\\geo_env\\Lib\\site-packages\\pandas\\core\\internals\\blocks.py:526\u001b[0m, in \u001b[0;36mBlock.astype\u001b[1;34m(self, dtype, copy, errors)\u001b[0m\n\u001b[0;32m    508\u001b[0m \u001b[39m\u001b[39m\u001b[39m\"\"\"\u001b[39;00m\n\u001b[0;32m    509\u001b[0m \u001b[39mCoerce to the new dtype.\u001b[39;00m\n\u001b[0;32m    510\u001b[0m \n\u001b[1;32m   (...)\u001b[0m\n\u001b[0;32m    522\u001b[0m \u001b[39mBlock\u001b[39;00m\n\u001b[0;32m    523\u001b[0m \u001b[39m\"\"\"\u001b[39;00m\n\u001b[0;32m    524\u001b[0m values \u001b[39m=\u001b[39m \u001b[39mself\u001b[39m\u001b[39m.\u001b[39mvalues\n\u001b[1;32m--> 526\u001b[0m new_values \u001b[39m=\u001b[39m astype_array_safe(values, dtype, copy\u001b[39m=\u001b[39;49mcopy, errors\u001b[39m=\u001b[39;49merrors)\n\u001b[0;32m    528\u001b[0m new_values \u001b[39m=\u001b[39m maybe_coerce_values(new_values)\n\u001b[0;32m    529\u001b[0m newb \u001b[39m=\u001b[39m \u001b[39mself\u001b[39m\u001b[39m.\u001b[39mmake_block(new_values)\n",
      "File \u001b[1;32mc:\\Users\\Kaninik\\anaconda3\\envs\\geo_env\\Lib\\site-packages\\pandas\\core\\dtypes\\astype.py:299\u001b[0m, in \u001b[0;36mastype_array_safe\u001b[1;34m(values, dtype, copy, errors)\u001b[0m\n\u001b[0;32m    296\u001b[0m     \u001b[39mreturn\u001b[39;00m values\u001b[39m.\u001b[39mcopy()\n\u001b[0;32m    298\u001b[0m \u001b[39mtry\u001b[39;00m:\n\u001b[1;32m--> 299\u001b[0m     new_values \u001b[39m=\u001b[39m astype_array(values, dtype, copy\u001b[39m=\u001b[39;49mcopy)\n\u001b[0;32m    300\u001b[0m \u001b[39mexcept\u001b[39;00m (\u001b[39mValueError\u001b[39;00m, \u001b[39mTypeError\u001b[39;00m):\n\u001b[0;32m    301\u001b[0m     \u001b[39m# e.g. astype_nansafe can fail on object-dtype of strings\u001b[39;00m\n\u001b[0;32m    302\u001b[0m     \u001b[39m#  trying to convert to float\u001b[39;00m\n\u001b[0;32m    303\u001b[0m     \u001b[39mif\u001b[39;00m errors \u001b[39m==\u001b[39m \u001b[39m\"\u001b[39m\u001b[39mignore\u001b[39m\u001b[39m\"\u001b[39m:\n",
      "File \u001b[1;32mc:\\Users\\Kaninik\\anaconda3\\envs\\geo_env\\Lib\\site-packages\\pandas\\core\\dtypes\\astype.py:227\u001b[0m, in \u001b[0;36mastype_array\u001b[1;34m(values, dtype, copy)\u001b[0m\n\u001b[0;32m    223\u001b[0m     \u001b[39mreturn\u001b[39;00m values\n\u001b[0;32m    225\u001b[0m \u001b[39mif\u001b[39;00m \u001b[39mnot\u001b[39;00m \u001b[39misinstance\u001b[39m(values, np\u001b[39m.\u001b[39mndarray):\n\u001b[0;32m    226\u001b[0m     \u001b[39m# i.e. ExtensionArray\u001b[39;00m\n\u001b[1;32m--> 227\u001b[0m     values \u001b[39m=\u001b[39m values\u001b[39m.\u001b[39;49mastype(dtype, copy\u001b[39m=\u001b[39;49mcopy)\n\u001b[0;32m    229\u001b[0m \u001b[39melse\u001b[39;00m:\n\u001b[0;32m    230\u001b[0m     values \u001b[39m=\u001b[39m astype_nansafe(values, dtype, copy\u001b[39m=\u001b[39mcopy)\n",
      "File \u001b[1;32mc:\\Users\\Kaninik\\anaconda3\\envs\\geo_env\\Lib\\site-packages\\pandas\\core\\arrays\\string_.py:452\u001b[0m, in \u001b[0;36mStringArray.astype\u001b[1;34m(self, dtype, copy)\u001b[0m\n\u001b[0;32m    449\u001b[0m     values[mask] \u001b[39m=\u001b[39m np\u001b[39m.\u001b[39mnan\n\u001b[0;32m    450\u001b[0m     \u001b[39mreturn\u001b[39;00m values\n\u001b[1;32m--> 452\u001b[0m \u001b[39mreturn\u001b[39;00m \u001b[39msuper\u001b[39;49m()\u001b[39m.\u001b[39;49mastype(dtype, copy)\n",
      "File \u001b[1;32mc:\\Users\\Kaninik\\anaconda3\\envs\\geo_env\\Lib\\site-packages\\pandas\\core\\arrays\\base.py:610\u001b[0m, in \u001b[0;36mExtensionArray.astype\u001b[1;34m(self, dtype, copy)\u001b[0m\n\u001b[0;32m    607\u001b[0m     \u001b[39mcls\u001b[39m \u001b[39m=\u001b[39m dtype\u001b[39m.\u001b[39mconstruct_array_type()\n\u001b[0;32m    608\u001b[0m     \u001b[39mreturn\u001b[39;00m \u001b[39mcls\u001b[39m\u001b[39m.\u001b[39m_from_sequence(\u001b[39mself\u001b[39m, dtype\u001b[39m=\u001b[39mdtype, copy\u001b[39m=\u001b[39mcopy)\n\u001b[1;32m--> 610\u001b[0m \u001b[39mreturn\u001b[39;00m np\u001b[39m.\u001b[39;49marray(\u001b[39mself\u001b[39;49m, dtype\u001b[39m=\u001b[39;49mdtype, copy\u001b[39m=\u001b[39;49mcopy)\n",
      "File \u001b[1;32mc:\\Users\\Kaninik\\anaconda3\\envs\\geo_env\\Lib\\site-packages\\pandas\\core\\arrays\\numpy_.py:126\u001b[0m, in \u001b[0;36mPandasArray.__array__\u001b[1;34m(self, dtype)\u001b[0m\n\u001b[0;32m    125\u001b[0m \u001b[39mdef\u001b[39;00m \u001b[39m__array__\u001b[39m(\u001b[39mself\u001b[39m, dtype: NpDtype \u001b[39m|\u001b[39m \u001b[39mNone\u001b[39;00m \u001b[39m=\u001b[39m \u001b[39mNone\u001b[39;00m) \u001b[39m-\u001b[39m\u001b[39m>\u001b[39m np\u001b[39m.\u001b[39mndarray:\n\u001b[1;32m--> 126\u001b[0m     \u001b[39mreturn\u001b[39;00m np\u001b[39m.\u001b[39;49masarray(\u001b[39mself\u001b[39;49m\u001b[39m.\u001b[39;49m_ndarray, dtype\u001b[39m=\u001b[39;49mdtype)\n",
      "\u001b[1;31mValueError\u001b[0m: invalid literal for int() with base 10: 'nan'"
     ]
    }
   ],
   "source": [
    "#separate day from month and year\n",
    "data['CMPLNT_FR_DT'] = data['CMPLNT_FR_DT'].astype(str)\n",
    "data['CMPLNT_TO_DT'] = data['CMPLNT_TO_DT'].astype(str)\n",
    "\n",
    "# Create columns on which a cleaning mask will be created to eliminate invalid rows in the date\n",
    "\n",
    "date_cleaning\n",
    "\n",
    "date_cleaning[['Month','Day','Year']] = data['CMPLNT_FR_DT'].str.split('/',expand=True)\n",
    "\n",
    "date_cleaning[['MonthEnd','DayEnd','YearEnd']] = data['CMPLNT_TO_DT'].str.split('/',expand=True).astype(str)\n",
    "\n",
    "# Convert all columns to int\n",
    "date_cleaning.dtypes\n",
    "date_cleaning = date_cleaning.convert_dtypes(convert_string= True)\n",
    "\n",
    "date_cleaning.astype('int32')"
   ]
  },
  {
   "cell_type": "code",
   "execution_count": 52,
   "metadata": {},
   "outputs": [
    {
     "ename": "ValueError",
     "evalue": "invalid literal for int() with base 10: 'None'",
     "output_type": "error",
     "traceback": [
      "\u001b[1;31m---------------------------------------------------------------------------\u001b[0m",
      "\u001b[1;31mValueError\u001b[0m                                Traceback (most recent call last)",
      "Cell \u001b[1;32mIn[52], line 1\u001b[0m\n\u001b[1;32m----> 1\u001b[0m date_cleaning[\u001b[39m'\u001b[39m\u001b[39mYear\u001b[39m\u001b[39m'\u001b[39m] \u001b[39m=\u001b[39m date_cleaning[\u001b[39m'\u001b[39;49m\u001b[39mYear\u001b[39;49m\u001b[39m'\u001b[39;49m]\u001b[39m.\u001b[39;49mastype(\u001b[39mint\u001b[39;49m)\n\u001b[0;32m      2\u001b[0m date_cleaning[\u001b[39m'\u001b[39m\u001b[39mMonth\u001b[39m\u001b[39m'\u001b[39m] \u001b[39m=\u001b[39m date_cleaning[\u001b[39m'\u001b[39m\u001b[39mMonth\u001b[39m\u001b[39m'\u001b[39m]\u001b[39m.\u001b[39mastype(\u001b[39mint\u001b[39m)\n\u001b[0;32m      3\u001b[0m date_cleaning[\u001b[39m'\u001b[39m\u001b[39mDay\u001b[39m\u001b[39m'\u001b[39m] \u001b[39m=\u001b[39m date_cleaning[\u001b[39m'\u001b[39m\u001b[39mDay\u001b[39m\u001b[39m'\u001b[39m]\u001b[39m.\u001b[39mastype(\u001b[39mint\u001b[39m)\n",
      "File \u001b[1;32mc:\\Users\\Kaninik\\anaconda3\\envs\\geo_env\\Lib\\site-packages\\pandas\\core\\generic.py:6240\u001b[0m, in \u001b[0;36mNDFrame.astype\u001b[1;34m(self, dtype, copy, errors)\u001b[0m\n\u001b[0;32m   6233\u001b[0m     results \u001b[39m=\u001b[39m [\n\u001b[0;32m   6234\u001b[0m         \u001b[39mself\u001b[39m\u001b[39m.\u001b[39miloc[:, i]\u001b[39m.\u001b[39mastype(dtype, copy\u001b[39m=\u001b[39mcopy)\n\u001b[0;32m   6235\u001b[0m         \u001b[39mfor\u001b[39;00m i \u001b[39min\u001b[39;00m \u001b[39mrange\u001b[39m(\u001b[39mlen\u001b[39m(\u001b[39mself\u001b[39m\u001b[39m.\u001b[39mcolumns))\n\u001b[0;32m   6236\u001b[0m     ]\n\u001b[0;32m   6238\u001b[0m \u001b[39melse\u001b[39;00m:\n\u001b[0;32m   6239\u001b[0m     \u001b[39m# else, only a single dtype is given\u001b[39;00m\n\u001b[1;32m-> 6240\u001b[0m     new_data \u001b[39m=\u001b[39m \u001b[39mself\u001b[39;49m\u001b[39m.\u001b[39;49m_mgr\u001b[39m.\u001b[39;49mastype(dtype\u001b[39m=\u001b[39;49mdtype, copy\u001b[39m=\u001b[39;49mcopy, errors\u001b[39m=\u001b[39;49merrors)\n\u001b[0;32m   6241\u001b[0m     \u001b[39mreturn\u001b[39;00m \u001b[39mself\u001b[39m\u001b[39m.\u001b[39m_constructor(new_data)\u001b[39m.\u001b[39m__finalize__(\u001b[39mself\u001b[39m, method\u001b[39m=\u001b[39m\u001b[39m\"\u001b[39m\u001b[39mastype\u001b[39m\u001b[39m\"\u001b[39m)\n\u001b[0;32m   6243\u001b[0m \u001b[39m# GH 33113: handle empty frame or series\u001b[39;00m\n",
      "File \u001b[1;32mc:\\Users\\Kaninik\\anaconda3\\envs\\geo_env\\Lib\\site-packages\\pandas\\core\\internals\\managers.py:448\u001b[0m, in \u001b[0;36mBaseBlockManager.astype\u001b[1;34m(self, dtype, copy, errors)\u001b[0m\n\u001b[0;32m    447\u001b[0m \u001b[39mdef\u001b[39;00m \u001b[39mastype\u001b[39m(\u001b[39mself\u001b[39m: T, dtype, copy: \u001b[39mbool\u001b[39m \u001b[39m=\u001b[39m \u001b[39mFalse\u001b[39;00m, errors: \u001b[39mstr\u001b[39m \u001b[39m=\u001b[39m \u001b[39m\"\u001b[39m\u001b[39mraise\u001b[39m\u001b[39m\"\u001b[39m) \u001b[39m-\u001b[39m\u001b[39m>\u001b[39m T:\n\u001b[1;32m--> 448\u001b[0m     \u001b[39mreturn\u001b[39;00m \u001b[39mself\u001b[39;49m\u001b[39m.\u001b[39;49mapply(\u001b[39m\"\u001b[39;49m\u001b[39mastype\u001b[39;49m\u001b[39m\"\u001b[39;49m, dtype\u001b[39m=\u001b[39;49mdtype, copy\u001b[39m=\u001b[39;49mcopy, errors\u001b[39m=\u001b[39;49merrors)\n",
      "File \u001b[1;32mc:\\Users\\Kaninik\\anaconda3\\envs\\geo_env\\Lib\\site-packages\\pandas\\core\\internals\\managers.py:352\u001b[0m, in \u001b[0;36mBaseBlockManager.apply\u001b[1;34m(self, f, align_keys, ignore_failures, **kwargs)\u001b[0m\n\u001b[0;32m    350\u001b[0m         applied \u001b[39m=\u001b[39m b\u001b[39m.\u001b[39mapply(f, \u001b[39m*\u001b[39m\u001b[39m*\u001b[39mkwargs)\n\u001b[0;32m    351\u001b[0m     \u001b[39melse\u001b[39;00m:\n\u001b[1;32m--> 352\u001b[0m         applied \u001b[39m=\u001b[39m \u001b[39mgetattr\u001b[39;49m(b, f)(\u001b[39m*\u001b[39;49m\u001b[39m*\u001b[39;49mkwargs)\n\u001b[0;32m    353\u001b[0m \u001b[39mexcept\u001b[39;00m (\u001b[39mTypeError\u001b[39;00m, \u001b[39mNotImplementedError\u001b[39;00m):\n\u001b[0;32m    354\u001b[0m     \u001b[39mif\u001b[39;00m \u001b[39mnot\u001b[39;00m ignore_failures:\n",
      "File \u001b[1;32mc:\\Users\\Kaninik\\anaconda3\\envs\\geo_env\\Lib\\site-packages\\pandas\\core\\internals\\blocks.py:526\u001b[0m, in \u001b[0;36mBlock.astype\u001b[1;34m(self, dtype, copy, errors)\u001b[0m\n\u001b[0;32m    508\u001b[0m \u001b[39m\u001b[39m\u001b[39m\"\"\"\u001b[39;00m\n\u001b[0;32m    509\u001b[0m \u001b[39mCoerce to the new dtype.\u001b[39;00m\n\u001b[0;32m    510\u001b[0m \n\u001b[1;32m   (...)\u001b[0m\n\u001b[0;32m    522\u001b[0m \u001b[39mBlock\u001b[39;00m\n\u001b[0;32m    523\u001b[0m \u001b[39m\"\"\"\u001b[39;00m\n\u001b[0;32m    524\u001b[0m values \u001b[39m=\u001b[39m \u001b[39mself\u001b[39m\u001b[39m.\u001b[39mvalues\n\u001b[1;32m--> 526\u001b[0m new_values \u001b[39m=\u001b[39m astype_array_safe(values, dtype, copy\u001b[39m=\u001b[39;49mcopy, errors\u001b[39m=\u001b[39;49merrors)\n\u001b[0;32m    528\u001b[0m new_values \u001b[39m=\u001b[39m maybe_coerce_values(new_values)\n\u001b[0;32m    529\u001b[0m newb \u001b[39m=\u001b[39m \u001b[39mself\u001b[39m\u001b[39m.\u001b[39mmake_block(new_values)\n",
      "File \u001b[1;32mc:\\Users\\Kaninik\\anaconda3\\envs\\geo_env\\Lib\\site-packages\\pandas\\core\\dtypes\\astype.py:299\u001b[0m, in \u001b[0;36mastype_array_safe\u001b[1;34m(values, dtype, copy, errors)\u001b[0m\n\u001b[0;32m    296\u001b[0m     \u001b[39mreturn\u001b[39;00m values\u001b[39m.\u001b[39mcopy()\n\u001b[0;32m    298\u001b[0m \u001b[39mtry\u001b[39;00m:\n\u001b[1;32m--> 299\u001b[0m     new_values \u001b[39m=\u001b[39m astype_array(values, dtype, copy\u001b[39m=\u001b[39;49mcopy)\n\u001b[0;32m    300\u001b[0m \u001b[39mexcept\u001b[39;00m (\u001b[39mValueError\u001b[39;00m, \u001b[39mTypeError\u001b[39;00m):\n\u001b[0;32m    301\u001b[0m     \u001b[39m# e.g. astype_nansafe can fail on object-dtype of strings\u001b[39;00m\n\u001b[0;32m    302\u001b[0m     \u001b[39m#  trying to convert to float\u001b[39;00m\n\u001b[0;32m    303\u001b[0m     \u001b[39mif\u001b[39;00m errors \u001b[39m==\u001b[39m \u001b[39m\"\u001b[39m\u001b[39mignore\u001b[39m\u001b[39m\"\u001b[39m:\n",
      "File \u001b[1;32mc:\\Users\\Kaninik\\anaconda3\\envs\\geo_env\\Lib\\site-packages\\pandas\\core\\dtypes\\astype.py:230\u001b[0m, in \u001b[0;36mastype_array\u001b[1;34m(values, dtype, copy)\u001b[0m\n\u001b[0;32m    227\u001b[0m     values \u001b[39m=\u001b[39m values\u001b[39m.\u001b[39mastype(dtype, copy\u001b[39m=\u001b[39mcopy)\n\u001b[0;32m    229\u001b[0m \u001b[39melse\u001b[39;00m:\n\u001b[1;32m--> 230\u001b[0m     values \u001b[39m=\u001b[39m astype_nansafe(values, dtype, copy\u001b[39m=\u001b[39;49mcopy)\n\u001b[0;32m    232\u001b[0m \u001b[39m# in pandas we don't store numpy str dtypes, so convert to object\u001b[39;00m\n\u001b[0;32m    233\u001b[0m \u001b[39mif\u001b[39;00m \u001b[39misinstance\u001b[39m(dtype, np\u001b[39m.\u001b[39mdtype) \u001b[39mand\u001b[39;00m \u001b[39missubclass\u001b[39m(values\u001b[39m.\u001b[39mdtype\u001b[39m.\u001b[39mtype, \u001b[39mstr\u001b[39m):\n",
      "File \u001b[1;32mc:\\Users\\Kaninik\\anaconda3\\envs\\geo_env\\Lib\\site-packages\\pandas\\core\\dtypes\\astype.py:170\u001b[0m, in \u001b[0;36mastype_nansafe\u001b[1;34m(arr, dtype, copy, skipna)\u001b[0m\n\u001b[0;32m    166\u001b[0m     \u001b[39mraise\u001b[39;00m \u001b[39mValueError\u001b[39;00m(msg)\n\u001b[0;32m    168\u001b[0m \u001b[39mif\u001b[39;00m copy \u001b[39mor\u001b[39;00m is_object_dtype(arr\u001b[39m.\u001b[39mdtype) \u001b[39mor\u001b[39;00m is_object_dtype(dtype):\n\u001b[0;32m    169\u001b[0m     \u001b[39m# Explicit copy, or required since NumPy can't view from / to object.\u001b[39;00m\n\u001b[1;32m--> 170\u001b[0m     \u001b[39mreturn\u001b[39;00m arr\u001b[39m.\u001b[39;49mastype(dtype, copy\u001b[39m=\u001b[39;49m\u001b[39mTrue\u001b[39;49;00m)\n\u001b[0;32m    172\u001b[0m \u001b[39mreturn\u001b[39;00m arr\u001b[39m.\u001b[39mastype(dtype, copy\u001b[39m=\u001b[39mcopy)\n",
      "\u001b[1;31mValueError\u001b[0m: invalid literal for int() with base 10: 'None'"
     ]
    }
   ],
   "source": [
    "# date_cleaning['Year'] = date_cleaning['Year'].astype(int)\n",
    "# date_cleaning['Month'] = date_cleaning['Month'].astype(int)\n",
    "# date_cleaning['Day'] = date_cleaning['Day'].astype(int)\n",
    "\n",
    "# date_cleaning['YearEnd'] = date_cleaning['YearEnd'].astype(int)\n",
    "# date_cleaning['MonthEnd'] = date_cleaning['MonthEnd'].astype(int)\n",
    "# date_cleaning['DayEnd'] = date_cleaning['DayEnd'].astype(int)\n",
    "\n",
    "# # data['YearEnd']=data['CMPLNT_TO_DT'].apply(year).astype(int)\n",
    "# # data['MonthEnd']=data['CMPLNT_TO_DT'].apply(month).astype(int)\n",
    "# # data['DayEnd']=data['CMPLNT_TO_DT'].apply(day).astype(int) "
   ]
  },
  {
   "cell_type": "code",
   "execution_count": 27,
   "metadata": {},
   "outputs": [
    {
     "name": "stdout",
     "output_type": "stream",
     "text": [
      "<class 'pandas.core.frame.DataFrame'>\n",
      "Int64Index: 50000 entries, 4359509 to 7587696\n",
      "Data columns (total 6 columns):\n",
      " #   Column    Non-Null Count  Dtype \n",
      "---  ------    --------------  ----- \n",
      " 0   Year      50000 non-null  object\n",
      " 1   Month     49992 non-null  object\n",
      " 2   Day       49992 non-null  object\n",
      " 3   YearEnd   50000 non-null  object\n",
      " 4   MonthEnd  38887 non-null  object\n",
      " 5   DayEnd    38887 non-null  object\n",
      "dtypes: object(6)\n",
      "memory usage: 3.7+ MB\n"
     ]
    }
   ],
   "source": [
    "date_cleaning.info()"
   ]
  },
  {
   "cell_type": "code",
   "execution_count": 24,
   "metadata": {},
   "outputs": [
    {
     "name": "stdout",
     "output_type": "stream",
     "text": [
      "<class 'pandas.core.frame.DataFrame'>\n",
      "Int64Index: 50000 entries, 4359509 to 7587696\n",
      "Data columns (total 40 columns):\n",
      " #   Column             Non-Null Count  Dtype         \n",
      "---  ------             --------------  -----         \n",
      " 0   CMPLNT_NUM         50000 non-null  int64         \n",
      " 1   CMPLNT_FR_DT       50000 non-null  object        \n",
      " 2   CMPLNT_FR_TM       49999 non-null  object        \n",
      " 3   CMPLNT_TO_DT       50000 non-null  object        \n",
      " 4   CMPLNT_TO_TM       38912 non-null  object        \n",
      " 5   ADDR_PCT_CD        49990 non-null  category      \n",
      " 6   RPT_DT             50000 non-null  datetime64[ns]\n",
      " 7   KY_CD              50000 non-null  category      \n",
      " 8   OFNS_DESC          49878 non-null  category      \n",
      " 9   PD_CD              49954 non-null  category      \n",
      " 10  PD_DESC            49954 non-null  category      \n",
      " 11  CRM_ATPT_CPTD_CD   49999 non-null  category      \n",
      " 12  LAW_CAT_CD         50000 non-null  category      \n",
      " 13  BORO_NM            49914 non-null  category      \n",
      " 14  LOC_OF_OCCUR_DESC  39579 non-null  category      \n",
      " 15  PREM_TYP_DESC      49739 non-null  object        \n",
      " 16  JURIS_DESC         50000 non-null  category      \n",
      " 17  JURISDICTION_CODE  49954 non-null  category      \n",
      " 18  PARKS_NM           214 non-null    category      \n",
      " 19  HADEVELOPT         2185 non-null   category      \n",
      " 20  HOUSING_PSA        3812 non-null   category      \n",
      " 21  X_COORD_CD         49903 non-null  float64       \n",
      " 22  Y_COORD_CD         49903 non-null  float64       \n",
      " 23  SUSP_AGE_GROUP     13428 non-null  category      \n",
      " 24  SUSP_RACE          27664 non-null  category      \n",
      " 25  SUSP_SEX           26836 non-null  category      \n",
      " 26  TRANSIT_DISTRICT   1128 non-null   category      \n",
      " 27  Latitude           49903 non-null  float64       \n",
      " 28  Longitude          49903 non-null  float64       \n",
      " 29  Lat_Lon            49903 non-null  object        \n",
      " 30  PATROL_BORO        49952 non-null  category      \n",
      " 31  STATION_NAME       1128 non-null   category      \n",
      " 32  VIC_AGE_GROUP      13428 non-null  category      \n",
      " 33  VIC_RACE           50000 non-null  category      \n",
      " 34  VIC_SEX            50000 non-null  category      \n",
      " 35  OCC                49990 non-null  datetime64[ns]\n",
      " 36  OCC_END            38872 non-null  datetime64[ns]\n",
      " 37  Year               50000 non-null  object        \n",
      " 38  Month              49992 non-null  object        \n",
      " 39  Day                49992 non-null  object        \n",
      "dtypes: category(23), datetime64[ns](3), float64(4), int64(1), object(9)\n",
      "memory usage: 9.3+ MB\n"
     ]
    }
   ],
   "source": [
    "data.info( )"
   ]
  },
  {
   "cell_type": "code",
   "execution_count": 32,
   "metadata": {},
   "outputs": [
    {
     "ename": "TypeError",
     "evalue": "'<' not supported between instances of 'str' and 'int'",
     "output_type": "error",
     "traceback": [
      "\u001b[1;31m---------------------------------------------------------------------------\u001b[0m",
      "\u001b[1;31mTypeError\u001b[0m                                 Traceback (most recent call last)",
      "Cell \u001b[1;32mIn[32], line 1\u001b[0m\n\u001b[1;32m----> 1\u001b[0m y \u001b[39m=\u001b[39m date_cleaning[\u001b[39m'\u001b[39;49m\u001b[39mYear\u001b[39;49m\u001b[39m'\u001b[39;49m]\u001b[39m.\u001b[39;49mapply(eliminateyear)\n\u001b[0;32m      2\u001b[0m y\n",
      "File \u001b[1;32mc:\\Users\\Kaninik\\anaconda3\\envs\\geo_env\\Lib\\site-packages\\pandas\\core\\series.py:4771\u001b[0m, in \u001b[0;36mSeries.apply\u001b[1;34m(self, func, convert_dtype, args, **kwargs)\u001b[0m\n\u001b[0;32m   4661\u001b[0m \u001b[39mdef\u001b[39;00m \u001b[39mapply\u001b[39m(\n\u001b[0;32m   4662\u001b[0m     \u001b[39mself\u001b[39m,\n\u001b[0;32m   4663\u001b[0m     func: AggFuncType,\n\u001b[1;32m   (...)\u001b[0m\n\u001b[0;32m   4666\u001b[0m     \u001b[39m*\u001b[39m\u001b[39m*\u001b[39mkwargs,\n\u001b[0;32m   4667\u001b[0m ) \u001b[39m-\u001b[39m\u001b[39m>\u001b[39m DataFrame \u001b[39m|\u001b[39m Series:\n\u001b[0;32m   4668\u001b[0m \u001b[39m    \u001b[39m\u001b[39m\"\"\"\u001b[39;00m\n\u001b[0;32m   4669\u001b[0m \u001b[39m    Invoke function on values of Series.\u001b[39;00m\n\u001b[0;32m   4670\u001b[0m \n\u001b[1;32m   (...)\u001b[0m\n\u001b[0;32m   4769\u001b[0m \u001b[39m    dtype: float64\u001b[39;00m\n\u001b[0;32m   4770\u001b[0m \u001b[39m    \"\"\"\u001b[39;00m\n\u001b[1;32m-> 4771\u001b[0m     \u001b[39mreturn\u001b[39;00m SeriesApply(\u001b[39mself\u001b[39;49m, func, convert_dtype, args, kwargs)\u001b[39m.\u001b[39;49mapply()\n",
      "File \u001b[1;32mc:\\Users\\Kaninik\\anaconda3\\envs\\geo_env\\Lib\\site-packages\\pandas\\core\\apply.py:1123\u001b[0m, in \u001b[0;36mSeriesApply.apply\u001b[1;34m(self)\u001b[0m\n\u001b[0;32m   1120\u001b[0m     \u001b[39mreturn\u001b[39;00m \u001b[39mself\u001b[39m\u001b[39m.\u001b[39mapply_str()\n\u001b[0;32m   1122\u001b[0m \u001b[39m# self.f is Callable\u001b[39;00m\n\u001b[1;32m-> 1123\u001b[0m \u001b[39mreturn\u001b[39;00m \u001b[39mself\u001b[39;49m\u001b[39m.\u001b[39;49mapply_standard()\n",
      "File \u001b[1;32mc:\\Users\\Kaninik\\anaconda3\\envs\\geo_env\\Lib\\site-packages\\pandas\\core\\apply.py:1174\u001b[0m, in \u001b[0;36mSeriesApply.apply_standard\u001b[1;34m(self)\u001b[0m\n\u001b[0;32m   1172\u001b[0m     \u001b[39melse\u001b[39;00m:\n\u001b[0;32m   1173\u001b[0m         values \u001b[39m=\u001b[39m obj\u001b[39m.\u001b[39mastype(\u001b[39mobject\u001b[39m)\u001b[39m.\u001b[39m_values\n\u001b[1;32m-> 1174\u001b[0m         mapped \u001b[39m=\u001b[39m lib\u001b[39m.\u001b[39;49mmap_infer(\n\u001b[0;32m   1175\u001b[0m             values,\n\u001b[0;32m   1176\u001b[0m             f,\n\u001b[0;32m   1177\u001b[0m             convert\u001b[39m=\u001b[39;49m\u001b[39mself\u001b[39;49m\u001b[39m.\u001b[39;49mconvert_dtype,\n\u001b[0;32m   1178\u001b[0m         )\n\u001b[0;32m   1180\u001b[0m \u001b[39mif\u001b[39;00m \u001b[39mlen\u001b[39m(mapped) \u001b[39mand\u001b[39;00m \u001b[39misinstance\u001b[39m(mapped[\u001b[39m0\u001b[39m], ABCSeries):\n\u001b[0;32m   1181\u001b[0m     \u001b[39m# GH#43986 Need to do list(mapped) in order to get treated as nested\u001b[39;00m\n\u001b[0;32m   1182\u001b[0m     \u001b[39m#  See also GH#25959 regarding EA support\u001b[39;00m\n\u001b[0;32m   1183\u001b[0m     \u001b[39mreturn\u001b[39;00m obj\u001b[39m.\u001b[39m_constructor_expanddim(\u001b[39mlist\u001b[39m(mapped), index\u001b[39m=\u001b[39mobj\u001b[39m.\u001b[39mindex)\n",
      "File \u001b[1;32mc:\\Users\\Kaninik\\anaconda3\\envs\\geo_env\\Lib\\site-packages\\pandas\\_libs\\lib.pyx:2924\u001b[0m, in \u001b[0;36mpandas._libs.lib.map_infer\u001b[1;34m()\u001b[0m\n",
      "Cell \u001b[1;32mIn[31], line 15\u001b[0m, in \u001b[0;36meliminateyear\u001b[1;34m(x)\u001b[0m\n\u001b[0;32m     14\u001b[0m \u001b[39mdef\u001b[39;00m \u001b[39meliminateyear\u001b[39m(x):\n\u001b[1;32m---> 15\u001b[0m     \u001b[39mif\u001b[39;00m (x\u001b[39m<\u001b[39;49m\u001b[39m2006\u001b[39;49m) \u001b[39m|\u001b[39m (x\u001b[39m>\u001b[39m\u001b[39m2023\u001b[39m):\n\u001b[0;32m     16\u001b[0m         \u001b[39mreturn\u001b[39;00m \u001b[39mFalse\u001b[39;00m\n\u001b[0;32m     17\u001b[0m     \u001b[39melse\u001b[39;00m:\n",
      "\u001b[1;31mTypeError\u001b[0m: '<' not supported between instances of 'str' and 'int'"
     ]
    }
   ],
   "source": [
    "y = date_cleaning['Year'].apply(eliminateyear)\n",
    "y"
   ]
  },
  {
   "cell_type": "code",
   "execution_count": null,
   "metadata": {},
   "outputs": [],
   "source": [
    "m \n",
    "d\n",
    "\n",
    "y1=data['YearEnd'].apply(eliminateyear)\n",
    "m=data['Month'].apply(eliminatemonth)\n",
    "m1=data['MonthEnd'].apply(eliminatemonth)\n",
    "d=data['Day'].apply(eliminateday)\n",
    "d1=data['DayEnd'].apply(eliminateday)"
   ]
  },
  {
   "cell_type": "code",
   "execution_count": 10,
   "metadata": {},
   "outputs": [],
   "source": [
    "data['OCC'] = data['CMPLNT_FR_DT'].astype(str) + \" \" +data['CMPLNT_FR_TM']\n",
    "data['OCC_END'] = data['CMPLNT_TO_DT'].astype(str) + \" \" +data['CMPLNT_TO_TM']"
   ]
  },
  {
   "cell_type": "code",
   "execution_count": 11,
   "metadata": {},
   "outputs": [
    {
     "data": {
      "text/plain": [
       "4359509    10/06/2015 22:21:00\n",
       "6434359    04/17/2010 00:50:00\n",
       "574068     12/19/2014 20:00:00\n",
       "6063187    01/17/2010 20:30:00\n",
       "87475      11/08/2018 16:45:00\n",
       "Name: OCC, dtype: object"
      ]
     },
     "execution_count": 11,
     "metadata": {},
     "output_type": "execute_result"
    }
   ],
   "source": [
    "data['OCC'].head(5)"
   ]
  },
  {
   "cell_type": "code",
   "execution_count": 12,
   "metadata": {},
   "outputs": [
    {
     "data": {
      "text/plain": [
       "4359509                    NaN\n",
       "6434359                    NaN\n",
       "574068     12/19/2014 20:20:00\n",
       "6063187    01/17/2010 20:40:00\n",
       "87475      11/08/2018 17:00:00\n",
       "Name: OCC_END, dtype: object"
      ]
     },
     "execution_count": 12,
     "metadata": {},
     "output_type": "execute_result"
    }
   ],
   "source": [
    "data['OCC_END'].head(5)"
   ]
  },
  {
   "cell_type": "code",
   "execution_count": 13,
   "metadata": {},
   "outputs": [
    {
     "data": {
      "text/plain": [
       "4359509   2015-10-06 22:21:00\n",
       "6434359   2010-04-17 00:50:00\n",
       "574068    2014-12-19 20:00:00\n",
       "6063187   2010-01-17 20:30:00\n",
       "87475     2018-11-08 16:45:00\n",
       "1440410   2021-07-29 09:30:00\n",
       "3364029   2016-09-18 17:25:00\n",
       "387644    2012-11-25 01:47:00\n",
       "6632219   2006-12-22 19:15:00\n",
       "4404792   2016-04-17 23:46:00\n",
       "6329316   2007-11-16 18:30:00\n",
       "6002580   2011-07-12 08:00:00\n",
       "2129152   2015-04-23 03:42:00\n",
       "2019685   2017-04-16 10:00:00\n",
       "3229740   2017-01-01 12:00:00\n",
       "Name: OCC, dtype: datetime64[ns]"
      ]
     },
     "execution_count": 13,
     "metadata": {},
     "output_type": "execute_result"
    }
   ],
   "source": [
    "data['OCC'] = pandas.to_datetime(data['OCC'], errors = 'coerce')\n",
    "data['OCC'].head(15)"
   ]
  },
  {
   "cell_type": "code",
   "execution_count": 15,
   "metadata": {},
   "outputs": [],
   "source": [
    "data['OCC_END'] = pandas.to_datetime(data['OCC_END'], errors = 'coerce')\n",
    "data['RPT_DT'] = pandas.to_datetime(data['RPT_DT'], errors = 'coerce')"
   ]
  },
  {
   "cell_type": "code",
   "execution_count": 16,
   "metadata": {},
   "outputs": [
    {
     "data": {
      "text/plain": [
       "4359509                   NaT\n",
       "6434359                   NaT\n",
       "574068    2014-12-19 20:20:00\n",
       "6063187   2010-01-17 20:40:00\n",
       "87475     2018-11-08 17:00:00\n",
       "1440410   2021-07-29 11:20:00\n",
       "3364029   2016-09-18 17:30:00\n",
       "387644    2012-11-30 01:47:00\n",
       "6632219                   NaT\n",
       "4404792   2016-04-19 09:00:00\n",
       "6329316   2008-11-16 18:35:00\n",
       "6002580                   NaT\n",
       "2129152   2015-04-23 03:53:00\n",
       "2019685   2017-04-26 17:30:00\n",
       "3229740                   NaT\n",
       "Name: OCC_END, dtype: datetime64[ns]"
      ]
     },
     "execution_count": 16,
     "metadata": {},
     "output_type": "execute_result"
    }
   ],
   "source": [
    "data['OCC_END'].head(15)"
   ]
  },
  {
   "cell_type": "code",
   "execution_count": 19,
   "metadata": {},
   "outputs": [
    {
     "data": {
      "text/plain": [
       "4359509   2015-10-07\n",
       "6434359   2010-04-18\n",
       "574068    2014-12-22\n",
       "6063187   2010-01-17\n",
       "87475     2018-11-10\n",
       "Name: RPT_DT, dtype: datetime64[ns]"
      ]
     },
     "execution_count": 19,
     "metadata": {},
     "output_type": "execute_result"
    }
   ],
   "source": [
    "data['RPT_DT'].head(5)"
   ]
  },
  {
   "cell_type": "code",
   "execution_count": 34,
   "metadata": {},
   "outputs": [],
   "source": [
    "import pickle\n",
    "\n",
    "with open('data.pickle', 'wb') as f:\n",
    "    pickle.dump(data, f)\n",
    "\n"
   ]
  },
  {
   "cell_type": "code",
   "execution_count": null,
   "metadata": {},
   "outputs": [],
   "source": [
    "data = data[(data['PD_CD'] > 149) & (data['PD_CD'] < 181)]\n",
    "data\n",
    "#Filter data by se-related crimes"
   ]
  },
  {
   "cell_type": "code",
   "execution_count": null,
   "metadata": {},
   "outputs": [],
   "source": [
    "type_by_crimes = data.groupby(['PD_CD', 'PD_DESC']).size().reset_index(name='count')\n",
    "type_by_crimes\n",
    "\n",
    "altair.Chart(type_by_crimes).mark_bar().encode(\n",
    "    x='PD_CD',\n",
    "    y='count()',\n",
    "    color='PD_DESC'\n",
    ").properties(\n",
    "    title='Classification types of crime',\n",
    "    width=1000,\n",
    "    height=500\n",
    ")\n",
    "\n",
    "#Classification crimes by type"
   ]
  }
 ],
 "metadata": {
  "kernelspec": {
   "display_name": "Python 3",
   "language": "python",
   "name": "python3"
  },
  "language_info": {
   "codemirror_mode": {
    "name": "ipython",
    "version": 3
   },
   "file_extension": ".py",
   "mimetype": "text/x-python",
   "name": "python",
   "nbconvert_exporter": "python",
   "pygments_lexer": "ipython3",
   "version": "3.11.0"
  },
  "vscode": {
   "interpreter": {
    "hash": "38efaa045fcc2680aaeae51f7ac851acc4f32df019d3afeeab3c12114d76b9ae"
   }
  }
 },
 "nbformat": 4,
 "nbformat_minor": 1
}
