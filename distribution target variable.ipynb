{
 "cells": [
  {
   "cell_type": "code",
   "execution_count": 5,
   "id": "f82a072f",
   "metadata": {},
   "outputs": [
    {
     "name": "stdout",
     "output_type": "stream",
     "text": [
      "Collecting parquet\n",
      "  Downloading parquet-1.3.1-py3-none-any.whl (24 kB)\n",
      "Collecting thriftpy2\n",
      "  Downloading thriftpy2-0.4.16.tar.gz (643 kB)\n",
      "     -------------------------------------- 643.4/643.4 kB 5.8 MB/s eta 0:00:00\n",
      "  Preparing metadata (setup.py): started\n",
      "  Preparing metadata (setup.py): finished with status 'done'\n",
      "Collecting ply<4.0,>=3.4\n",
      "  Downloading ply-3.11-py2.py3-none-any.whl (49 kB)\n",
      "     ---------------------------------------- 49.6/49.6 kB ? eta 0:00:00\n",
      "Requirement already satisfied: six~=1.15 in c:\\users\\kelvi\\anaconda3\\lib\\site-packages (from thriftpy2->parquet) (1.16.0)\n",
      "Building wheels for collected packages: thriftpy2\n",
      "  Building wheel for thriftpy2 (setup.py): started\n",
      "  Building wheel for thriftpy2 (setup.py): finished with status 'done'\n",
      "  Created wheel for thriftpy2: filename=thriftpy2-0.4.16-py2.py3-none-any.whl size=337225 sha256=bb8473d6d60deddec23df040747a7b25c1ea46ddd27f16a461e512b6b787ecba\n",
      "  Stored in directory: c:\\users\\kelvi\\appdata\\local\\pip\\cache\\wheels\\88\\a4\\d5\\907737b4c175aec82087b815fa93a8afea5c6c5a3e7bb748b9\n",
      "Successfully built thriftpy2\n",
      "Installing collected packages: ply, thriftpy2, parquet\n",
      "Successfully installed parquet-1.3.1 ply-3.11 thriftpy2-0.4.16\n",
      "Note: you may need to restart the kernel to use updated packages.\n"
     ]
    }
   ],
   "source": [
    "pip install parquet"
   ]
  },
  {
   "cell_type": "code",
   "execution_count": 8,
   "id": "408e7e85",
   "metadata": {},
   "outputs": [
    {
     "name": "stdout",
     "output_type": "stream",
     "text": [
      "Collecting pyarrow\n",
      "  Downloading pyarrow-11.0.0-cp39-cp39-win_amd64.whl (20.6 MB)\n",
      "     --------------------------------------- 20.6/20.6 MB 10.1 MB/s eta 0:00:00\n",
      "Requirement already satisfied: numpy>=1.16.6 in c:\\users\\kelvi\\anaconda3\\lib\\site-packages (from pyarrow) (1.20.3)\n",
      "Installing collected packages: pyarrow\n",
      "Successfully installed pyarrow-11.0.0\n",
      "Note: you may need to restart the kernel to use updated packages.\n"
     ]
    }
   ],
   "source": [
    "pip install pyarrow"
   ]
  },
  {
   "cell_type": "code",
   "execution_count": 6,
   "id": "6a56ca25",
   "metadata": {},
   "outputs": [],
   "source": [
    "import parquet"
   ]
  },
  {
   "cell_type": "code",
   "execution_count": 10,
   "id": "f286ecdd",
   "metadata": {},
   "outputs": [
    {
     "data": {
      "text/html": [
       "<div>\n",
       "<style scoped>\n",
       "    .dataframe tbody tr th:only-of-type {\n",
       "        vertical-align: middle;\n",
       "    }\n",
       "\n",
       "    .dataframe tbody tr th {\n",
       "        vertical-align: top;\n",
       "    }\n",
       "\n",
       "    .dataframe thead th {\n",
       "        text-align: right;\n",
       "    }\n",
       "</style>\n",
       "<table border=\"1\" class=\"dataframe\">\n",
       "  <thead>\n",
       "    <tr style=\"text-align: right;\">\n",
       "      <th></th>\n",
       "      <th>Longitude</th>\n",
       "      <th>Latitude</th>\n",
       "      <th>hour_of_day</th>\n",
       "      <th>day_of_week</th>\n",
       "      <th>F</th>\n",
       "      <th>M</th>\n",
       "      <th>fair_tree_count</th>\n",
       "      <th>good_tree_count</th>\n",
       "      <th>poor_tree_count</th>\n",
       "    </tr>\n",
       "  </thead>\n",
       "  <tbody>\n",
       "    <tr>\n",
       "      <th>0</th>\n",
       "      <td>-74.2500</td>\n",
       "      <td>40.5004</td>\n",
       "      <td>0</td>\n",
       "      <td>0</td>\n",
       "      <td>0</td>\n",
       "      <td>1</td>\n",
       "      <td>20</td>\n",
       "      <td>154</td>\n",
       "      <td>0</td>\n",
       "    </tr>\n",
       "    <tr>\n",
       "      <th>1</th>\n",
       "      <td>-74.2500</td>\n",
       "      <td>40.5004</td>\n",
       "      <td>0</td>\n",
       "      <td>1</td>\n",
       "      <td>0</td>\n",
       "      <td>0</td>\n",
       "      <td>20</td>\n",
       "      <td>154</td>\n",
       "      <td>0</td>\n",
       "    </tr>\n",
       "    <tr>\n",
       "      <th>2</th>\n",
       "      <td>-74.2500</td>\n",
       "      <td>40.5004</td>\n",
       "      <td>0</td>\n",
       "      <td>2</td>\n",
       "      <td>0</td>\n",
       "      <td>1</td>\n",
       "      <td>20</td>\n",
       "      <td>154</td>\n",
       "      <td>0</td>\n",
       "    </tr>\n",
       "    <tr>\n",
       "      <th>3</th>\n",
       "      <td>-74.2500</td>\n",
       "      <td>40.5004</td>\n",
       "      <td>0</td>\n",
       "      <td>3</td>\n",
       "      <td>1</td>\n",
       "      <td>0</td>\n",
       "      <td>20</td>\n",
       "      <td>154</td>\n",
       "      <td>0</td>\n",
       "    </tr>\n",
       "    <tr>\n",
       "      <th>4</th>\n",
       "      <td>-74.2500</td>\n",
       "      <td>40.5004</td>\n",
       "      <td>0</td>\n",
       "      <td>4</td>\n",
       "      <td>0</td>\n",
       "      <td>0</td>\n",
       "      <td>20</td>\n",
       "      <td>154</td>\n",
       "      <td>0</td>\n",
       "    </tr>\n",
       "    <tr>\n",
       "      <th>...</th>\n",
       "      <td>...</td>\n",
       "      <td>...</td>\n",
       "      <td>...</td>\n",
       "      <td>...</td>\n",
       "      <td>...</td>\n",
       "      <td>...</td>\n",
       "      <td>...</td>\n",
       "      <td>...</td>\n",
       "      <td>...</td>\n",
       "    </tr>\n",
       "    <tr>\n",
       "      <th>589171</th>\n",
       "      <td>-73.7056</td>\n",
       "      <td>40.7546</td>\n",
       "      <td>23</td>\n",
       "      <td>2</td>\n",
       "      <td>2</td>\n",
       "      <td>0</td>\n",
       "      <td>23</td>\n",
       "      <td>57</td>\n",
       "      <td>12</td>\n",
       "    </tr>\n",
       "    <tr>\n",
       "      <th>589172</th>\n",
       "      <td>-73.7056</td>\n",
       "      <td>40.7546</td>\n",
       "      <td>23</td>\n",
       "      <td>3</td>\n",
       "      <td>2</td>\n",
       "      <td>0</td>\n",
       "      <td>23</td>\n",
       "      <td>57</td>\n",
       "      <td>12</td>\n",
       "    </tr>\n",
       "    <tr>\n",
       "      <th>589173</th>\n",
       "      <td>-73.7056</td>\n",
       "      <td>40.7546</td>\n",
       "      <td>23</td>\n",
       "      <td>4</td>\n",
       "      <td>0</td>\n",
       "      <td>0</td>\n",
       "      <td>23</td>\n",
       "      <td>57</td>\n",
       "      <td>12</td>\n",
       "    </tr>\n",
       "    <tr>\n",
       "      <th>589174</th>\n",
       "      <td>-73.7056</td>\n",
       "      <td>40.7546</td>\n",
       "      <td>23</td>\n",
       "      <td>5</td>\n",
       "      <td>2</td>\n",
       "      <td>0</td>\n",
       "      <td>23</td>\n",
       "      <td>57</td>\n",
       "      <td>12</td>\n",
       "    </tr>\n",
       "    <tr>\n",
       "      <th>589175</th>\n",
       "      <td>-73.7056</td>\n",
       "      <td>40.7546</td>\n",
       "      <td>23</td>\n",
       "      <td>6</td>\n",
       "      <td>1</td>\n",
       "      <td>0</td>\n",
       "      <td>23</td>\n",
       "      <td>57</td>\n",
       "      <td>12</td>\n",
       "    </tr>\n",
       "  </tbody>\n",
       "</table>\n",
       "<p>589176 rows × 9 columns</p>\n",
       "</div>"
      ],
      "text/plain": [
       "        Longitude  Latitude  hour_of_day  day_of_week  F  M  fair_tree_count  \\\n",
       "0        -74.2500   40.5004            0            0  0  1               20   \n",
       "1        -74.2500   40.5004            0            1  0  0               20   \n",
       "2        -74.2500   40.5004            0            2  0  1               20   \n",
       "3        -74.2500   40.5004            0            3  1  0               20   \n",
       "4        -74.2500   40.5004            0            4  0  0               20   \n",
       "...           ...       ...          ...          ... .. ..              ...   \n",
       "589171   -73.7056   40.7546           23            2  2  0               23   \n",
       "589172   -73.7056   40.7546           23            3  2  0               23   \n",
       "589173   -73.7056   40.7546           23            4  0  0               23   \n",
       "589174   -73.7056   40.7546           23            5  2  0               23   \n",
       "589175   -73.7056   40.7546           23            6  1  0               23   \n",
       "\n",
       "        good_tree_count  poor_tree_count  \n",
       "0                   154                0  \n",
       "1                   154                0  \n",
       "2                   154                0  \n",
       "3                   154                0  \n",
       "4                   154                0  \n",
       "...                 ...              ...  \n",
       "589171               57               12  \n",
       "589172               57               12  \n",
       "589173               57               12  \n",
       "589174               57               12  \n",
       "589175               57               12  \n",
       "\n",
       "[589176 rows x 9 columns]"
      ]
     },
     "execution_count": 10,
     "metadata": {},
     "output_type": "execute_result"
    }
   ],
   "source": [
    "import pandas as pd\n",
    "\n",
    "df =  pd.read_parquet('matched_data.parquet', engine='pyarrow')\n",
    "df"
   ]
  },
  {
   "cell_type": "code",
   "execution_count": 11,
   "id": "e0ce3e8b",
   "metadata": {},
   "outputs": [],
   "source": [
    "import matplotlib.pyplot as plt"
   ]
  },
  {
   "cell_type": "code",
   "execution_count": 12,
   "id": "914ffadf",
   "metadata": {},
   "outputs": [],
   "source": [
    "df['coordinates'] = df['Longitude'].astype(str) + ',' + df['Latitude'].astype(str)"
   ]
  },
  {
   "cell_type": "code",
   "execution_count": 13,
   "id": "c5ce1a99",
   "metadata": {},
   "outputs": [],
   "source": [
    "grouped = df.groupby('coordinates')['F'].sum().reset_index()"
   ]
  },
  {
   "cell_type": "code",
   "execution_count": 23,
   "id": "4475fefe",
   "metadata": {},
   "outputs": [
    {
     "data": {
      "image/png": "[encoded data removed]",
      "text/plain": [
       "<Figure size 640x480 with 1 Axes>"
      ]
     },
     "metadata": {},
     "output_type": "display_data"
    }
   ],
   "source": [
    "plt.bar(grouped.index, grouped['F'])\n",
    "\n",
    "# Add labels and title\n",
    "plt.xlabel('Data point')\n",
    "plt.ylabel('Number of female victims')\n",
    "plt.title('Bar Plot of female victims by data point')\n",
    "\n",
    "# Show the plot\n",
    "plt.show()"
   ]
  },
  {
   "cell_type": "code",
   "execution_count": 19,
   "id": "b1d9bdd1",
   "metadata": {},
   "outputs": [
    {
     "data": {
      "text/plain": [
       "8781"
      ]
     },
     "execution_count": 19,
     "metadata": {},
     "output_type": "execute_result"
    }
   ],
   "source": [
    "grouped['F'].max()"
   ]
  },
  {
   "cell_type": "code",
   "execution_count": 24,
   "id": "45912a66",
   "metadata": {},
   "outputs": [
    {
     "data": {
      "text/plain": [
       "0"
      ]
     },
     "execution_count": 24,
     "metadata": {},
     "output_type": "execute_result"
    }
   ],
   "source": [
    "grouped['F'].min()"
   ]
  },
  {
   "cell_type": "code",
   "execution_count": 25,
   "id": "09f5bdc0",
   "metadata": {},
   "outputs": [
    {
     "data": {
      "text/plain": [
       "862.6036498431708"
      ]
     },
     "execution_count": 25,
     "metadata": {},
     "output_type": "execute_result"
    }
   ],
   "source": [
    "grouped['F'].mean()"
   ]
  },
  {
   "cell_type": "code",
   "execution_count": null,
   "id": "1c370697",
   "metadata": {},
   "outputs": [],
   "source": []
  }
 ],
 "metadata": {
  "kernelspec": {
   "display_name": "Python 3 (ipykernel)",
   "language": "python",
   "name": "python3"
  },
  "language_info": {
   "codemirror_mode": {
    "name": "ipython",
    "version": 3
   },
   "file_extension": ".py",
   "mimetype": "text/x-python",
   "name": "python",
   "nbconvert_exporter": "python",
   "pygments_lexer": "ipython3",
   "version": "3.9.13"
  }
 },
 "nbformat": 4,
 "nbformat_minor": 5
}
