{
 "cells": [
  {
   "cell_type": "code",
   "execution_count": 1,
   "metadata": {},
   "outputs": [],
   "source": [
    "import geopandas as gpd\n",
    "import altair as alt\n",
    "import pandas as pd"
   ]
  },
  {
   "cell_type": "code",
   "execution_count": 3,
   "metadata": {},
   "outputs": [
    {
     "ename": "AttributeError",
     "evalue": "module 'geopandas' has no attribute 'read_file'",
     "output_type": "error",
     "traceback": [
      "\u001B[1;31m---------------------------------------------------------------------------\u001B[0m",
      "\u001B[1;31mAttributeError\u001B[0m                            Traceback (most recent call last)",
      "Cell \u001B[1;32mIn[3], line 1\u001B[0m\n\u001B[1;32m----> 1\u001B[0m precint_footprint \u001B[39m=\u001B[39m gpd\u001B[39m.\u001B[39;49mread_file(\u001B[39m'\u001B[39m\u001B[39m..//data//Police Precincts.geojson\u001B[39m\u001B[39m'\u001B[39m)\n\u001B[0;32m      3\u001B[0m trees \u001B[39m=\u001B[39m gpd\u001B[39m.\u001B[39mread_file(\u001B[39m'\u001B[39m\u001B[39m..//data//2015 Street Tree Census - Tree Data.geojson\u001B[39m\u001B[39m'\u001B[39m)\n",
      "\u001B[1;31mAttributeError\u001B[0m: module 'geopandas' has no attribute 'read_file'"
     ]
    }
   ],
   "source": [
    "precint_footprint = gpd.read_file('..//data//Police Precincts.geojson')\n",
    "\n",
    "trees = gpd.read_file('..//data//2015 Street Tree Census - Tree Data.geojson')\n"
   ]
  },
  {
   "cell_type": "code",
   "execution_count": 4,
   "metadata": {},
   "outputs": [],
   "source": [
    "# count the number of trees in each precinct\n",
    "precint_footprint['tree_count'] = precint_footprint.apply(lambda x: trees[trees.within(x.geometry)].shape[0], axis=1)"
   ]
  },
  {
   "cell_type": "code",
   "execution_count": 7,
   "metadata": {},
   "outputs": [],
   "source": [
    "# plot the precincts with the number of trees in each precinct\n",
    "alt.Chart(precint_footprint).mark_geoshape().encode(\n",
    "    color='tree_count:Q'\n",
    ")\n",
    "\n",
    "# save the precincts_footprint as a geojson file\n",
    "precint_footprint.to_file('..//data//precincts_with_trees.geojson', driver='GeoJSON')"
   ]
  }
 ],
 "metadata": {
  "kernelspec": {
   "display_name": "geo_env",
   "language": "python",
   "name": "python3"
  },
  "language_info": {
   "codemirror_mode": {
    "name": "ipython",
    "version": 3
   },
   "file_extension": ".py",
   "mimetype": "text/x-python",
   "name": "python",
   "nbconvert_exporter": "python",
   "pygments_lexer": "ipython3",
   "version": "3.11.0"
  },
  "orig_nbformat": 4
 },
 "nbformat": 4,
 "nbformat_minor": 2
}
