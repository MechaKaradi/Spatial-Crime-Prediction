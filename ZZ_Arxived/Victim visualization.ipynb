{
 "cells": [
  {
   "cell_type": "code",
   "execution_count": null,
   "metadata": {},
   "outputs": [],
   "source": [
    "import pandas\n",
    "import altair as alt\n",
    "import numpy\n",
    "import scipy\n",
    "import scipy.stats as stats"
   ]
  },
  {
   "cell_type": "code",
   "execution_count": null,
   "metadata": {},
   "outputs": [],
   "source": [
    "\n",
    "import pickle\n",
    "\n",
    "with open('data.pickle', 'rb') as f:\n",
    "    data = pickle.load(f, encoding='binary')\n",
    "\n",
    "data.head(5)\n"
   ]
  },
  {
   "cell_type": "code",
   "execution_count": null,
   "metadata": {},
   "outputs": [],
   "source": [
    "def make_categorical(dataframe, column):\n",
    "    # make the column of the dataframe categorical\n",
    "    dataframe[column] = dataframe[column].astype('category')\n",
    "\n",
    "# get a lst of all the columns in the dataframe\n",
    "columns = ['ADDR_PCT_CD', 'BORO_NM', 'CRM_ATPT_CPTD_CD', 'HADEVELOPT', 'HOUSING_PSA', 'JURISDICTION_CODE', 'JURIS_DESC', 'KY_CD', 'LAW_CAT_CD', 'LOC_OF_OCCUR_DESC', 'OFNS_DESC', 'PARKS_NM', 'PATROL_BORO', 'PD_CD', 'PD_DESC', 'STATION_NAME', 'SUSP_AGE_GROUP', 'SUSP_RACE', 'SUSP_SEX', 'TRANSIT_DISTRICT', 'VIC_AGE_GROUP', 'VIC_RACE', 'VIC_SEX']\n",
    "\n",
    "    # make each column categorical\n",
    "for column in columns:\n",
    "    make_categorical(data, column)\n"
   ]
  },
  {
   "cell_type": "code",
   "execution_count": null,
   "metadata": {},
   "outputs": [],
   "source": [
    "vic_sex_count = data['VIC_SEX'].value_counts()\n",
    "\n",
    "# using altair plot the number of crimes per SUSPECT SEX in a bar chart\n",
    "alt.Chart(vic_sex_count.reset_index()).mark_bar().encode(\n",
    "    x = alt.X('index', axis= alt.Axis(title = 'Victim Sex')),\n",
    "    y = alt.Y('VIC_SEX',axis= alt.Axis(format='e', title = 'Number of Complaints'))\n",
    ").properties(\n",
    "    title='Number of complaints per victim sex',\n",
    "    width=1000,\n",
    "    height=500\n",
    ")"
   ]
  },
  {
   "cell_type": "code",
   "execution_count": null,
   "metadata": {},
   "outputs": [],
   "source": [
    "#make a percentage distribution in a table\n",
    "vic_sex_counts = data.groupby('VIC_SEX').size().reset_index(name='complaint_count')\n",
    "vic_sex_counts['complaint_percentage'] = 100 * vic_sex_counts['complaint_count'] / vic_sex_counts['complaint_count'].sum()\n",
    "vic_sex_counts"
   ]
  },
  {
   "cell_type": "code",
   "execution_count": null,
   "metadata": {},
   "outputs": [],
   "source": [
    "vic_race_count = data['VIC_RACE'].value_counts()\n",
    "# using altair plot the number of crimes per SUSPECT RACE in a bar chart\n",
    "alt.Chart(vic_race_count.reset_index()).mark_bar().encode(\n",
    "    x = alt.X('index', axis= alt.Axis(title = 'Victim Race')),\n",
    "    y = alt.Y('VIC_RACE',axis= alt.Axis(format='e', title = 'Number of Complaints'))    \n",
    ").properties(\n",
    "    title='Number of complaints per victim race',\n",
    "    width=1000,\n",
    "    height=500\n",
    ")"
   ]
  },
  {
   "cell_type": "code",
   "execution_count": null,
   "metadata": {},
   "outputs": [],
   "source": [
    "#make a percentage distribution in a table\n",
    "vic_race_counts = data.groupby('VIC_RACE').size().reset_index(name='complaint_count')\n",
    "vic_race_counts['complaint_percentage'] = 100 * vic_race_counts['complaint_count'] / vic_race_counts['complaint_count'].sum()\n",
    "vic_race_counts"
   ]
  },
  {
   "cell_type": "code",
   "execution_count": null,
   "metadata": {},
   "outputs": [],
   "source": [
    "#create a new column to remove unknown values\n",
    "data['VIC_RACE2'] = numpy.where(data['VIC_RACE'].str.contains(\"UNKNOWN\"), None, data['VIC_RACE'])\n"
   ]
  },
  {
   "cell_type": "code",
   "execution_count": null,
   "metadata": {},
   "outputs": [],
   "source": [
    "vic_race_count2 = data['VIC_RACE2'].value_counts()\n",
    "# using altair plot the number of crimes per SUSPECT RACE in a bar chart without the unknown category\n",
    "alt.Chart(vic_race_count2.reset_index()).mark_bar().encode(\n",
    "    x = alt.X('index', axis= alt.Axis(title = 'Victim Race')),\n",
    "    y = alt.Y('VIC_RACE2',axis= alt.Axis(format='e', title = 'Number of complaints'))    \n",
    ").properties(\n",
    "    title='Number of complaints per victim race',\n",
    "    width=1000,\n",
    "    height=500\n",
    ")"
   ]
  },
  {
   "cell_type": "code",
   "execution_count": null,
   "metadata": {},
   "outputs": [],
   "source": [
    "#make a percentage distribution in a table without the unknown category\n",
    "vic_race_counts2 = data.groupby('VIC_RACE2').size().reset_index(name='complaint_count')\n",
    "vic_race_counts2['complaint_percentage'] = 100 * vic_race_counts['complaint_count'] / vic_race_counts['complaint_count'].sum()\n",
    "vic_race_counts2"
   ]
  },
  {
   "cell_type": "code",
   "execution_count": null,
   "metadata": {},
   "outputs": [],
   "source": [
    "#where there is NaN, fill it with unknown\n",
    "#data['VIC_AGE_GROUP'] = data['VIC_AGE_GROUP'].fillna('UNKNOWN')"
   ]
  },
  {
   "cell_type": "code",
   "execution_count": null,
   "metadata": {},
   "outputs": [],
   "source": [
    "#check whether the previous step worked\n",
    "data['VIC_AGE_GROUP'].unique()"
   ]
  },
  {
   "cell_type": "code",
   "execution_count": null,
   "metadata": {},
   "outputs": [],
   "source": [
    "vic_age_count = data['VIC_AGE_GROUP'].value_counts()\n",
    "\n",
    "categoryNames    = [ '<18', '18-24', '25-44', '45-64', '65+' ]\n",
    "\n",
    "# using altair plot the number of crimes per VICTIM AGE GROUP in a bar chart\n",
    "alt.Chart(vic_age_count.reset_index()).mark_bar().encode(\n",
    "    x = alt.X('index', sort = categoryNames, axis= alt.Axis(title = 'Victim Age Group')),\n",
    "    y = alt.Y('VIC_AGE_GROUP',axis= alt.Axis(format='e', title = 'Number of Complaints'))\n",
    ").properties(\n",
    "    title='Number of complaints per victim age group',\n",
    "    width=1000,\n",
    "    height=500\n",
    ")"
   ]
  },
  {
   "cell_type": "code",
   "execution_count": null,
   "metadata": {},
   "outputs": [],
   "source": [
    "#make a percentage distribution in a table\n",
    "vic_age_counts2 = data.groupby('VIC_AGE_GROUP').size().reset_index(name='complaint_count')\n",
    "vic_age_counts2['complaint_percentage'] = 100 * vic_age_counts2['complaint_count'] / vic_age_counts2['complaint_count'].sum()\n",
    "vic_age_counts2"
   ]
  },
  {
   "cell_type": "code",
   "execution_count": null,
   "metadata": {},
   "outputs": [],
   "source": [
    "#create a new column where unknown values are removed\n",
    "data['VIC_AGE_GROUP2'] = numpy.where(data['SUSP_AGE_GROUP'].str.contains(\"UNKNOWN\"), None, data['SUSP_AGE_GROUP'])\n",
    "\n"
   ]
  },
  {
   "cell_type": "code",
   "execution_count": null,
   "metadata": {},
   "outputs": [],
   "source": [
    "vic_age_count2 = data['VIC_AGE_GROUP2'].value_counts()\n",
    "\n",
    "categoryNames    = [ '<18', '18-24', '25-44', '45-64', '65+' ]\n",
    "\n",
    "# using altair plot the number of crimes per VICTIM AGE GROUP in a bar chart without the unknown category\n",
    "alt.Chart(vic_age_count2.reset_index()).mark_bar().encode(\n",
    "    x = alt.X('index', sort = categoryNames, axis= alt.Axis(title = 'Victim Age Group')),\n",
    "    y = alt.Y('VIC_AGE_GROUP2',axis= alt.Axis(format='e', title = 'Number of Complaints'))\n",
    ").properties(\n",
    "    title='Number of complaints per victim age group',\n",
    "    width=1000,\n",
    "    height=500\n",
    ")"
   ]
  },
  {
   "cell_type": "code",
   "execution_count": null,
   "metadata": {},
   "outputs": [],
   "source": [
    "#make a percentage distribution in a table without unknown category\n",
    "vic_age_counts = data.groupby('VIC_AGE_GROUP2').size().reset_index(name='complaint_count')\n",
    "vic_age_counts['complaint_percentage'] = 100 * vic_age_counts['complaint_count'] / vic_age_counts['complaint_count'].sum()\n",
    "vic_age_counts"
   ]
  },
  {
   "cell_type": "code",
   "execution_count": null,
   "metadata": {},
   "outputs": [],
   "source": [
    "#get year from occ\n",
    "data['Year']=data['OCC'].dt.year "
   ]
  },
  {
   "cell_type": "code",
   "execution_count": null,
   "metadata": {},
   "outputs": [],
   "source": [
    "#turn year into a string\n",
    "data['Year'] = data['Year'].astype(str)"
   ]
  },
  {
   "cell_type": "code",
   "execution_count": null,
   "metadata": {},
   "outputs": [],
   "source": [
    "#group complaints per year\n",
    "year_counts = data.groupby('Year').size().reset_index(name='complaint_count')"
   ]
  },
  {
   "cell_type": "code",
   "execution_count": null,
   "metadata": {},
   "outputs": [],
   "source": [
    "year_counts"
   ]
  },
  {
   "cell_type": "code",
   "execution_count": null,
   "metadata": {},
   "outputs": [],
   "source": [
    "#group so each year the distribution of complaints by victim sex is shown\n",
    "year_counts_sex = data.groupby(['Year', 'VIC_SEX']).size().reset_index(name='complaint_count')\n",
    "\n",
    "#turn year and complaint count into an integer\n",
    "year_counts_sex['Year'] = year_counts_sex['Year'].astype(int)\n",
    "year_counts_sex['complaint_count'] = year_counts_sex['complaint_count'].astype(int)\n",
    "\n",
    "#turn victim sex into a string\n",
    "year_counts_sex['VIC_SEX'] = year_counts_sex['VIC_SEX'].astype(str)\n"
   ]
  },
  {
   "cell_type": "code",
   "execution_count": null,
   "metadata": {},
   "outputs": [],
   "source": [
    "#plot a chart where the number of complaints per victim sex per year is shown\n",
    "alt.Chart(year_counts_sex).mark_line().encode(\n",
    "    alt.X('Year:O', axis = alt.Axis(title = 'Year')),\n",
    "    alt.Y('complaint_count:Q', stack = \"zero\", axis = alt.Axis(title = 'Complaint Count')),\n",
    "    alt.Color('VIC_SEX:O', scale=alt.Scale(scheme='lighttealblue'),title = 'Sex')\n",
    ").properties(\n",
    "    title='Number of complaints per victim sex per year',\n",
    "    width = 1000,\n",
    "    height = 500\n",
    ")"
   ]
  },
  {
   "cell_type": "code",
   "execution_count": null,
   "metadata": {},
   "outputs": [],
   "source": [
    "#group so each year the distribution of complaints by victim race is shown\n",
    "year_counts_race = data.groupby(['Year', 'VIC_RACE']).size().reset_index(name='complaint_count')\n",
    "\n",
    "#turn year and complaint count into an integer\n",
    "year_counts_race['Year'] = year_counts_race['Year'].astype(int)\n",
    "year_counts_race['complaint_count'] = year_counts_race['complaint_count'].astype(int)\n",
    "\n",
    "#turn victim race into a string\n",
    "year_counts_race['VIC_RACE'] = year_counts_race['VIC_RACE'].astype(str)\n"
   ]
  },
  {
   "cell_type": "code",
   "execution_count": null,
   "metadata": {},
   "outputs": [],
   "source": [
    "#plot a chart where the number of complaints per victim race per year is shown\n",
    "alt.Chart(year_counts_race).mark_line().encode(\n",
    "    alt.X('Year:O', axis = alt.Axis(title = 'Year')),\n",
    "    alt.Y('complaint_count:Q', stack = \"zero\", axis = alt.Axis(title = 'Complaint Count')),\n",
    "    alt.Color('VIC_RACE:O', scale=alt.Scale(scheme='lighttealblue'),title = 'Race')\n",
    ").properties(\n",
    "    title='Number of complaints per victim race per year',\n",
    "    width = 1000,\n",
    "    height = 500\n",
    ")"
   ]
  },
  {
   "cell_type": "code",
   "execution_count": null,
   "metadata": {},
   "outputs": [],
   "source": [
    "#group so each year the distribution of complaints by victim age group is shown\n",
    "year_counts_age = data.groupby(['Year', 'VIC_AGE_GROUP']).size().reset_index(name='complaint_count')\n",
    "\n",
    "#turn year and complaint count into an integer\n",
    "year_counts_age['Year'] = year_counts_age['Year'].astype(int)\n",
    "year_counts_age['complaint_count'] = year_counts_age['complaint_count'].astype(int)\n",
    "\n",
    "#turn victim age group into a string\n",
    "year_counts_age['VIC_AGE_GROUP'] = year_counts_age['VIC_AGE_GROUP'].astype(str)\n"
   ]
  },
  {
   "cell_type": "code",
   "execution_count": null,
   "metadata": {},
   "outputs": [],
   "source": [
    "#plot a chart where the number of complaints per victim age group per year is shown\n",
    "alt.Chart(year_counts_age).mark_line().encode(\n",
    "    alt.X('Year:O', axis = alt.Axis(title = 'Year')),\n",
    "    alt.Y('complaint_count:Q', stack = \"zero\", axis = alt.Axis(title = 'Complaint Count')),\n",
    "    alt.Color('VIC_AGE_GROUP:O', scale=alt.Scale(scheme='lighttealblue'),title = 'Age Group')\n",
    ").properties(\n",
    "    title='Number of complaints per age group per year',\n",
    "    width = 1000,\n",
    "    height = 500\n",
    ")"
   ]
  },
  {
   "cell_type": "code",
   "execution_count": null,
   "metadata": {},
   "outputs": [],
   "source": [
    "#make a new dataset with only sex category U\n",
    "data6 = data.loc[data['VIC_SEX'] == 'U']"
   ]
  },
  {
   "cell_type": "code",
   "execution_count": null,
   "metadata": {},
   "outputs": [],
   "source": [
    "#make a new dataset with only sex category D\n",
    "data2 =data.loc[data['VIC_SEX'] == 'D']"
   ]
  },
  {
   "cell_type": "code",
   "execution_count": null,
   "metadata": {},
   "outputs": [],
   "source": [
    "#make a new dataset with only sex category E\n",
    "data3 = data.loc[data['VIC_SEX'] == 'E']"
   ]
  },
  {
   "cell_type": "code",
   "execution_count": null,
   "metadata": {},
   "outputs": [],
   "source": [
    "data2"
   ]
  },
  {
   "cell_type": "code",
   "execution_count": null,
   "metadata": {},
   "outputs": [],
   "source": [
    "#count victim race of people with sex category D to see what gender they have\n",
    "data2['VIC_RACE'].value_counts()"
   ]
  },
  {
   "cell_type": "code",
   "execution_count": null,
   "metadata": {},
   "outputs": [],
   "source": [
    "#count victim race of people with sex category E to see what gender they have\n",
    "data3['VIC_RACE'].value_counts()"
   ]
  },
  {
   "cell_type": "code",
   "execution_count": null,
   "metadata": {},
   "outputs": [],
   "source": [
    "#count victim race of people with sex category U to see what gender they have\n",
    "data6['VIC_RACE'].value_counts()"
   ]
  },
  {
   "cell_type": "code",
   "execution_count": null,
   "metadata": {},
   "outputs": [],
   "source": [
    "#only select data in year 2010, as that is where the population census data is from. Done for the chi square test\n",
    "demographic = data.loc[data['Year'] == '2010']\n"
   ]
  },
  {
   "cell_type": "code",
   "execution_count": null,
   "metadata": {},
   "outputs": [],
   "source": [
    "demographic"
   ]
  },
  {
   "cell_type": "code",
   "execution_count": null,
   "metadata": {},
   "outputs": [],
   "source": [
    "#count amount of complaints by victim sex\n",
    "sex_demographic = demographic.groupby(['VIC_SEX']).size().reset_index(name='complaint_count')"
   ]
  },
  {
   "cell_type": "code",
   "execution_count": null,
   "metadata": {},
   "outputs": [],
   "source": [
    "#drop columns which aren't used\n",
    "sex_demographic1 = sex_demographic.drop([1,4])\n",
    "sex_demographic1"
   ]
  },
  {
   "cell_type": "code",
   "execution_count": null,
   "metadata": {},
   "outputs": [],
   "source": [
    "#https://www.nyc.gov/assets/smallbizfirst/downloads/pdf/small-business-first-report.pdf, D bases on this report, where it is stated that there are 220000 businesses in new york city\n",
    "#https://data.cityofnewyork.us/City-Government/Census-Demographics-at-the-NYC-City-Council-distri/ye4r-qpmp, male and female distribution based on this report\n",
    "#actual nyc population data\n",
    "sex_demographic1['SEX_DEM'] = [220000, 4214074, 3794204]"
   ]
  },
  {
   "cell_type": "code",
   "execution_count": null,
   "metadata": {},
   "outputs": [],
   "source": [
    "#create the expected distribution of complaints per category based on the population demographics\n",
    "sex_demographic1['SEX_DEM_PER'] = sex_demographic1['SEX_DEM'] / sex_demographic1['SEX_DEM'].sum()\n",
    "sex_demographic1['EXP_COM'] = sex_demographic1['SEX_DEM_PER'] * sex_demographic1['complaint_count'].sum()\n",
    "sex_demographic1['EXP_COM'] = sex_demographic1['EXP_COM'].round(0)\n",
    "sex_demographic1"
   ]
  },
  {
   "cell_type": "code",
   "execution_count": null,
   "metadata": {},
   "outputs": [],
   "source": [
    "#create a table with only the relevant values\n",
    "data2 = [sex_demographic1['complaint_count'],sex_demographic1['SEX_DEM']]"
   ]
  },
  {
   "cell_type": "code",
   "execution_count": null,
   "metadata": {},
   "outputs": [],
   "source": [
    "#chi square test\n",
    "scipy.stats.chisquare(data2)\n"
   ]
  },
  {
   "cell_type": "code",
   "execution_count": null,
   "metadata": {},
   "outputs": [],
   "source": [
    "#count amount of complaints by victim race\n",
    "race_demographic = demographic.groupby(['VIC_RACE2']).size().reset_index(name='complaint_count')"
   ]
  },
  {
   "cell_type": "code",
   "execution_count": null,
   "metadata": {},
   "outputs": [],
   "source": [
    "race_demographic"
   ]
  },
  {
   "cell_type": "code",
   "execution_count": null,
   "metadata": {},
   "outputs": [],
   "source": [
    "#https://slate.com/news-and-politics/2015/04/staten-island-for-sale-the-munsee-indians-sold-staten-island-under-duress-but-not-before-new-york-made-some-surprising-concessions.html, american indian/alaskan native from this article\n",
    "#https://data.cityofnewyork.us/City-Government/Census-Demographics-at-the-NYC-City-Council-distri/ye4r-qpmp, other races based on this report\n",
    "#https://furmancenter.org/files/sotc/The_Changing_Racial_and_Ethnic_Makeup_of_New_York_City_Neighborhoods_11.pdf, black/white hispanic composition based on this report\n",
    "#actual race demographics in nyc\n",
    "race_demographic['RACE_DEM'] = [111000, 783058, 1962154, 103707, 2801267, 198771\n",
    "]"
   ]
  },
  {
   "cell_type": "code",
   "execution_count": null,
   "metadata": {},
   "outputs": [],
   "source": [
    "race_demographic"
   ]
  },
  {
   "cell_type": "code",
   "execution_count": null,
   "metadata": {},
   "outputs": [],
   "source": [
    "#create the expected distribution of complaints per category based on the population demographics\n",
    "race_demographic['RACE_DEM_PER'] = race_demographic['RACE_DEM'] / race_demographic['RACE_DEM'].sum()\n",
    "race_demographic['EXP_COM'] = race_demographic['RACE_DEM_PER'] * race_demographic['complaint_count'].sum()\n",
    "race_demographic['EXP_COM'] = race_demographic['EXP_COM'].round(0)"
   ]
  },
  {
   "cell_type": "code",
   "execution_count": null,
   "metadata": {},
   "outputs": [],
   "source": [
    "race_demographic"
   ]
  },
  {
   "cell_type": "code",
   "execution_count": null,
   "metadata": {},
   "outputs": [],
   "source": [
    "#create a table with only the relevant values\n",
    "data3 = [race_demographic['complaint_count'],race_demographic['EXP_COM']]"
   ]
  },
  {
   "cell_type": "code",
   "execution_count": null,
   "metadata": {},
   "outputs": [],
   "source": [
    "#chi square test\n",
    "scipy.stats.chisquare(data3)\n"
   ]
  },
  {
   "cell_type": "code",
   "execution_count": null,
   "metadata": {},
   "outputs": [],
   "source": [
    "#count amount of complaints by victim sex and drop unused column\n",
    "age_demographic = demographic.groupby(['VIC_AGE_GROUP']).size().reset_index(name='complaint_count')\n",
    "#age_demographic = age_demographic.drop([5])"
   ]
  },
  {
   "cell_type": "code",
   "execution_count": null,
   "metadata": {},
   "outputs": [],
   "source": [
    "#actual age demographics in nyc\n",
    "age_demographic['AGE_DEM'] = [803012, 2631301, 1695839, 937857, 1940269]"
   ]
  },
  {
   "cell_type": "code",
   "execution_count": null,
   "metadata": {},
   "outputs": [],
   "source": [
    "#create the expected distribution of complaints per category based on the population demographics\n",
    "age_demographic['AGE_DEM_PER'] = age_demographic['AGE_DEM'] / age_demographic['AGE_DEM'].sum()\n",
    "age_demographic['EXP_COM'] = age_demographic['AGE_DEM_PER'] * age_demographic['complaint_count'].sum()\n",
    "age_demographic['EXP_COM'] = age_demographic['EXP_COM'].round(0)"
   ]
  },
  {
   "cell_type": "code",
   "execution_count": null,
   "metadata": {},
   "outputs": [],
   "source": [
    "#create a table with only the relevant values\n",
    "data4 = [age_demographic['complaint_count'],age_demographic['AGE_DEM']]"
   ]
  },
  {
   "cell_type": "code",
   "execution_count": null,
   "metadata": {},
   "outputs": [],
   "source": [
    "age_demographic"
   ]
  },
  {
   "cell_type": "code",
   "execution_count": null,
   "metadata": {},
   "outputs": [],
   "source": [
    "#chi square test\n",
    "scipy.stats.chisquare(data3)\n"
   ]
  },
  {
   "cell_type": "code",
   "execution_count": null,
   "metadata": {},
   "outputs": [],
   "source": [
    "#only look at the data where vic race is unknown\n",
    "data5 =data.loc[data['VIC_RACE'] == 'UNKNOWN']"
   ]
  },
  {
   "cell_type": "code",
   "execution_count": null,
   "metadata": {},
   "outputs": [],
   "source": [
    "#look at the sex of the victims whose race is unknown\n",
    "data5['VIC_SEX'].value_counts()"
   ]
  },
  {
   "cell_type": "code",
   "execution_count": null,
   "metadata": {},
   "outputs": [],
   "source": []
  }
 ],
 "metadata": {
  "kernelspec": {
   "display_name": "Python 3",
   "language": "python",
   "name": "python3"
  },
  "language_info": {
   "codemirror_mode": {
    "name": "ipython",
    "version": 3
   },
   "file_extension": ".py",
   "mimetype": "text/x-python",
   "name": "python",
   "nbconvert_exporter": "python",
   "pygments_lexer": "ipython3",
   "version": "3.11.0"
  }
 },
 "nbformat": 4,
 "nbformat_minor": 4
}
