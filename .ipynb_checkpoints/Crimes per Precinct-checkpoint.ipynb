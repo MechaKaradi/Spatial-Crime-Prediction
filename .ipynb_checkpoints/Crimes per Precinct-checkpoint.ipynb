{
 "cells": [
  {
   "cell_type": "code",
   "execution_count": 1,
   "metadata": {
    "collapsed": true
   },
   "outputs": [],
   "source": [
    "import geopandas as gpd\n",
    "import altair as alt\n",
    "import seaborn as sns\n",
    "import pandas as pd\n",
    "import scipy.stats as stats"
   ]
  },
  {
   "cell_type": "code",
   "execution_count": 2,
   "metadata": {},
   "outputs": [
    {
     "data": {
      "text/html": [
       "<div>\n",
       "<style scoped>\n",
       "    .dataframe tbody tr th:only-of-type {\n",
       "        vertical-align: middle;\n",
       "    }\n",
       "\n",
       "    .dataframe tbody tr th {\n",
       "        vertical-align: top;\n",
       "    }\n",
       "\n",
       "    .dataframe thead th {\n",
       "        text-align: right;\n",
       "    }\n",
       "</style>\n",
       "<table border=\"1\" class=\"dataframe\">\n",
       "  <thead>\n",
       "    <tr style=\"text-align: right;\">\n",
       "      <th></th>\n",
       "      <th>CMPLNT_NUM</th>\n",
       "      <th>CMPLNT_FR_DT</th>\n",
       "      <th>CMPLNT_FR_TM</th>\n",
       "      <th>CMPLNT_TO_DT</th>\n",
       "      <th>CMPLNT_TO_TM</th>\n",
       "      <th>ADDR_PCT_CD</th>\n",
       "      <th>RPT_DT</th>\n",
       "      <th>KY_CD</th>\n",
       "      <th>OFNS_DESC</th>\n",
       "      <th>PD_CD</th>\n",
       "      <th>...</th>\n",
       "      <th>Latitude</th>\n",
       "      <th>Longitude</th>\n",
       "      <th>Lat_Lon</th>\n",
       "      <th>PATROL_BORO</th>\n",
       "      <th>STATION_NAME</th>\n",
       "      <th>VIC_AGE_GROUP</th>\n",
       "      <th>VIC_RACE</th>\n",
       "      <th>VIC_SEX</th>\n",
       "      <th>OCC</th>\n",
       "      <th>OCC_END</th>\n",
       "    </tr>\n",
       "  </thead>\n",
       "  <tbody>\n",
       "    <tr>\n",
       "      <th>0</th>\n",
       "      <td>506547392</td>\n",
       "      <td>03/29/2018</td>\n",
       "      <td>20:30:00</td>\n",
       "      <td>&lt;NA&gt;</td>\n",
       "      <td>NaN</td>\n",
       "      <td>32.0</td>\n",
       "      <td>2018-03-30</td>\n",
       "      <td>351</td>\n",
       "      <td>CRIMINAL MISCHIEF &amp; RELATED OF</td>\n",
       "      <td>254.0</td>\n",
       "      <td>...</td>\n",
       "      <td>40.810877</td>\n",
       "      <td>-73.941064</td>\n",
       "      <td>(40.810877241, -73.941064151)</td>\n",
       "      <td>PATROL BORO MAN NORTH</td>\n",
       "      <td>NaN</td>\n",
       "      <td>NaN</td>\n",
       "      <td>WHITE</td>\n",
       "      <td>F</td>\n",
       "      <td>2018-03-29</td>\n",
       "      <td>&lt;NA&gt;</td>\n",
       "    </tr>\n",
       "    <tr>\n",
       "      <th>1</th>\n",
       "      <td>629632833</td>\n",
       "      <td>02/06/2018</td>\n",
       "      <td>23:15:00</td>\n",
       "      <td>&lt;NA&gt;</td>\n",
       "      <td>NaN</td>\n",
       "      <td>52.0</td>\n",
       "      <td>2018-02-07</td>\n",
       "      <td>341</td>\n",
       "      <td>PETIT LARCENY</td>\n",
       "      <td>333.0</td>\n",
       "      <td>...</td>\n",
       "      <td>40.873671</td>\n",
       "      <td>-73.908014</td>\n",
       "      <td>(40.873671035, -73.908013649)</td>\n",
       "      <td>PATROL BORO BRONX</td>\n",
       "      <td>NaN</td>\n",
       "      <td>45-64</td>\n",
       "      <td>UNKNOWN</td>\n",
       "      <td>D</td>\n",
       "      <td>2018-02-06</td>\n",
       "      <td>&lt;NA&gt;</td>\n",
       "    </tr>\n",
       "    <tr>\n",
       "      <th>2</th>\n",
       "      <td>787203902</td>\n",
       "      <td>11/21/2018</td>\n",
       "      <td>00:15:00</td>\n",
       "      <td>11/21/2018</td>\n",
       "      <td>00:20:00</td>\n",
       "      <td>75.0</td>\n",
       "      <td>2018-11-21</td>\n",
       "      <td>341</td>\n",
       "      <td>PETIT LARCENY</td>\n",
       "      <td>321.0</td>\n",
       "      <td>...</td>\n",
       "      <td>40.651782</td>\n",
       "      <td>-73.885457</td>\n",
       "      <td>(40.651782232, -73.885456761)</td>\n",
       "      <td>PATROL BORO BKLYN NORTH</td>\n",
       "      <td>NaN</td>\n",
       "      <td>25-44</td>\n",
       "      <td>UNKNOWN</td>\n",
       "      <td>D</td>\n",
       "      <td>2018-11-21</td>\n",
       "      <td>11/21/2018</td>\n",
       "    </tr>\n",
       "    <tr>\n",
       "      <th>3</th>\n",
       "      <td>280364018</td>\n",
       "      <td>06/09/2018</td>\n",
       "      <td>21:42:00</td>\n",
       "      <td>06/09/2018</td>\n",
       "      <td>21:43:00</td>\n",
       "      <td>10.0</td>\n",
       "      <td>2018-06-10</td>\n",
       "      <td>361</td>\n",
       "      <td>OFF. AGNST PUB ORD SENSBLTY &amp;</td>\n",
       "      <td>639.0</td>\n",
       "      <td>...</td>\n",
       "      <td>40.759310</td>\n",
       "      <td>-73.994706</td>\n",
       "      <td>(40.759310399, -73.994706072)</td>\n",
       "      <td>PATROL BORO MAN SOUTH</td>\n",
       "      <td>NaN</td>\n",
       "      <td>25-44</td>\n",
       "      <td>WHITE HISPANIC</td>\n",
       "      <td>F</td>\n",
       "      <td>2018-06-09</td>\n",
       "      <td>06/09/2018</td>\n",
       "    </tr>\n",
       "    <tr>\n",
       "      <th>4</th>\n",
       "      <td>985800320</td>\n",
       "      <td>11/10/2018</td>\n",
       "      <td>19:40:00</td>\n",
       "      <td>11/10/2018</td>\n",
       "      <td>19:45:00</td>\n",
       "      <td>19.0</td>\n",
       "      <td>2018-11-10</td>\n",
       "      <td>341</td>\n",
       "      <td>PETIT LARCENY</td>\n",
       "      <td>333.0</td>\n",
       "      <td>...</td>\n",
       "      <td>40.764536</td>\n",
       "      <td>-73.970728</td>\n",
       "      <td>(40.764535539, -73.970728388)</td>\n",
       "      <td>PATROL BORO MAN NORTH</td>\n",
       "      <td>NaN</td>\n",
       "      <td>&lt;18</td>\n",
       "      <td>UNKNOWN</td>\n",
       "      <td>D</td>\n",
       "      <td>2018-11-10</td>\n",
       "      <td>11/10/2018</td>\n",
       "    </tr>\n",
       "  </tbody>\n",
       "</table>\n",
       "<p>5 rows × 37 columns</p>\n",
       "</div>"
      ],
      "text/plain": [
       "   CMPLNT_NUM CMPLNT_FR_DT CMPLNT_FR_TM CMPLNT_TO_DT CMPLNT_TO_TM ADDR_PCT_CD  \\\n",
       "0   506547392   03/29/2018     20:30:00         <NA>          NaN        32.0   \n",
       "1   629632833   02/06/2018     23:15:00         <NA>          NaN        52.0   \n",
       "2   787203902   11/21/2018     00:15:00   11/21/2018     00:20:00        75.0   \n",
       "3   280364018   06/09/2018     21:42:00   06/09/2018     21:43:00        10.0   \n",
       "4   985800320   11/10/2018     19:40:00   11/10/2018     19:45:00        19.0   \n",
       "\n",
       "      RPT_DT KY_CD                       OFNS_DESC  PD_CD  ...   Latitude  \\\n",
       "0 2018-03-30   351  CRIMINAL MISCHIEF & RELATED OF  254.0  ...  40.810877   \n",
       "1 2018-02-07   341                   PETIT LARCENY  333.0  ...  40.873671   \n",
       "2 2018-11-21   341                   PETIT LARCENY  321.0  ...  40.651782   \n",
       "3 2018-06-10   361   OFF. AGNST PUB ORD SENSBLTY &  639.0  ...  40.759310   \n",
       "4 2018-11-10   341                   PETIT LARCENY  333.0  ...  40.764536   \n",
       "\n",
       "   Longitude                        Lat_Lon              PATROL_BORO  \\\n",
       "0 -73.941064  (40.810877241, -73.941064151)    PATROL BORO MAN NORTH   \n",
       "1 -73.908014  (40.873671035, -73.908013649)        PATROL BORO BRONX   \n",
       "2 -73.885457  (40.651782232, -73.885456761)  PATROL BORO BKLYN NORTH   \n",
       "3 -73.994706  (40.759310399, -73.994706072)    PATROL BORO MAN SOUTH   \n",
       "4 -73.970728  (40.764535539, -73.970728388)    PATROL BORO MAN NORTH   \n",
       "\n",
       "  STATION_NAME VIC_AGE_GROUP        VIC_RACE VIC_SEX        OCC     OCC_END  \n",
       "0          NaN           NaN           WHITE       F 2018-03-29        <NA>  \n",
       "1          NaN         45-64         UNKNOWN       D 2018-02-06        <NA>  \n",
       "2          NaN         25-44         UNKNOWN       D 2018-11-21  11/21/2018  \n",
       "3          NaN         25-44  WHITE HISPANIC       F 2018-06-09  06/09/2018  \n",
       "4          NaN          <18          UNKNOWN       D 2018-11-10  11/10/2018  \n",
       "\n",
       "[5 rows x 37 columns]"
      ]
     },
     "execution_count": 2,
     "metadata": {},
     "output_type": "execute_result"
    }
   ],
   "source": [
    "\n",
    "import pickle\n",
    "\n",
    "with open('data.pickle', 'rb') as f:\n",
    "    data = pickle.load(f, encoding='binary')\n",
    "\n",
    "data.head(5)"
   ]
  },
  {
   "cell_type": "code",
   "execution_count": 3,
   "metadata": {},
   "outputs": [],
   "source": [
    "# # Filtered the data to only include the year 2015\n",
    "# data = data.loc[data['OCC'].dt.year == 2016]\n",
    "# data = data.loc[data['VIC_SEX'] != 'D']\n",
    "# data = data.loc[data['VIC_SEX'] != 'E']\n",
    "# data.info()\n",
    "\n",
    "\n",
    "# Add a column for the year\n",
    "data['Year'] = data['OCC'].dt.year"
   ]
  },
  {
   "cell_type": "code",
   "execution_count": 4,
   "metadata": {},
   "outputs": [
    {
     "data": {
      "text/html": [
       "\n",
       "<div id=\"altair-viz-c5970ade8f4146f396a4adc32ac47430\"></div>\n",
       "<script type=\"text/javascript\">\n",
       "  var VEGA_DEBUG = (typeof VEGA_DEBUG == \"undefined\") ? {} : VEGA_DEBUG;\n",
       "  (function(spec, embedOpt){\n",
       "    let outputDiv = document.currentScript.previousElementSibling;\n",
       "    if (outputDiv.id !== \"altair-viz-c5970ade8f4146f396a4adc32ac47430\") {\n",
       "      outputDiv = document.getElementById(\"altair-viz-c5970ade8f4146f396a4adc32ac47430\");\n",
       "    }\n",
       "    const paths = {\n",
       "      \"vega\": \"https://cdn.jsdelivr.net/npm//vega@5?noext\",\n",
       "      \"vega-lib\": \"https://cdn.jsdelivr.net/npm//vega-lib?noext\",\n",
       "      \"vega-lite\": \"https://cdn.jsdelivr.net/npm//vega-lite@4.17.0?noext\",\n",
       "      \"vega-embed\": \"https://cdn.jsdelivr.net/npm//vega-embed@6?noext\",\n",
       "    };\n",
       "\n",
       "    function maybeLoadScript(lib, version) {\n",
       "      var key = `${lib.replace(\"-\", \"\")}_version`;\n",
       "      return (VEGA_DEBUG[key] == version) ?\n",
       "        Promise.resolve(paths[lib]) :\n",
       "        new Promise(function(resolve, reject) {\n",
       "          var s = document.createElement('script');\n",
       "          document.getElementsByTagName(\"head\")[0].appendChild(s);\n",
       "          s.async = true;\n",
       "          s.onload = () => {\n",
       "            VEGA_DEBUG[key] = version;\n",
       "            return resolve(paths[lib]);\n",
       "          };\n",
       "          s.onerror = () => reject(`Error loading script: ${paths[lib]}`);\n",
       "          s.src = paths[lib];\n",
       "        });\n",
       "    }\n",
       "\n",
       "    function showError(err) {\n",
       "      outputDiv.innerHTML = `<div class=\"error\" style=\"color:red;\">${err}</div>`;\n",
       "      throw err;\n",
       "    }\n",
       "\n",
       "    function displayChart(vegaEmbed) {\n",
       "      vegaEmbed(outputDiv, spec, embedOpt)\n",
       "        .catch(err => showError(`Javascript Error: ${err.message}<br>This usually means there's a typo in your chart specification. See the javascript console for the full traceback.`));\n",
       "    }\n",
       "\n",
       "    if(typeof define === \"function\" && define.amd) {\n",
       "      requirejs.config({paths});\n",
       "      require([\"vega-embed\"], displayChart, err => showError(`Error loading script: ${err.message}`));\n",
       "    } else {\n",
       "      maybeLoadScript(\"vega\", \"5\")\n",
       "        .then(() => maybeLoadScript(\"vega-lite\", \"4.17.0\"))\n",
       "        .then(() => maybeLoadScript(\"vega-embed\", \"6\"))\n",
       "        .catch(showError)\n",
       "        .then(() => displayChart(vegaEmbed));\n",
       "    }\n",
       "  })({\"config\": {\"view\": {\"continuousWidth\": 400, \"continuousHeight\": 300}}, \"data\": {\"name\": \"data-6cb01af2ef1105a26a2320bed0defe40\"}, \"mark\": \"boxplot\", \"encoding\": {\"y\": {\"field\": \"Count\", \"type\": \"quantitative\"}}, \"$schema\": \"https://vega.github.io/schema/vega-lite/v4.17.0.json\", \"datasets\": {\"data-6cb01af2ef1105a26a2320bed0defe40\": [{\"ADDR_PCT_CD\": 1.0, \"Count\": 98196}, {\"ADDR_PCT_CD\": 5.0, \"Count\": 69176}, {\"ADDR_PCT_CD\": 6.0, \"Count\": 83739}, {\"ADDR_PCT_CD\": 7.0, \"Count\": 66587}, {\"ADDR_PCT_CD\": 9.0, \"Count\": 92229}, {\"ADDR_PCT_CD\": 10.0, \"Count\": 65763}, {\"ADDR_PCT_CD\": 13.0, \"Count\": 114632}, {\"ADDR_PCT_CD\": 14.0, \"Count\": 176303}, {\"ADDR_PCT_CD\": 17.0, \"Count\": 53982}, {\"ADDR_PCT_CD\": 18.0, \"Count\": 123875}, {\"ADDR_PCT_CD\": 19.0, \"Count\": 106977}, {\"ADDR_PCT_CD\": 20.0, \"Count\": 64464}, {\"ADDR_PCT_CD\": 22.0, \"Count\": 5939}, {\"ADDR_PCT_CD\": 23.0, \"Count\": 101178}, {\"ADDR_PCT_CD\": 24.0, \"Count\": 77629}, {\"ADDR_PCT_CD\": 25.0, \"Count\": 106320}, {\"ADDR_PCT_CD\": 26.0, \"Count\": 51914}, {\"ADDR_PCT_CD\": 28.0, \"Count\": 83747}, {\"ADDR_PCT_CD\": 30.0, \"Count\": 72635}, {\"ADDR_PCT_CD\": 32.0, \"Count\": 105719}, {\"ADDR_PCT_CD\": 33.0, \"Count\": 70020}, {\"ADDR_PCT_CD\": 34.0, \"Count\": 85856}, {\"ADDR_PCT_CD\": 40.0, \"Count\": 188077}, {\"ADDR_PCT_CD\": 41.0, \"Count\": 104958}, {\"ADDR_PCT_CD\": 42.0, \"Count\": 126337}, {\"ADDR_PCT_CD\": 43.0, \"Count\": 199296}, {\"ADDR_PCT_CD\": 44.0, \"Count\": 193920}, {\"ADDR_PCT_CD\": 45.0, \"Count\": 98655}, {\"ADDR_PCT_CD\": 46.0, \"Count\": 163986}, {\"ADDR_PCT_CD\": 47.0, \"Count\": 148704}, {\"ADDR_PCT_CD\": 48.0, \"Count\": 126976}, {\"ADDR_PCT_CD\": 49.0, \"Count\": 105127}, {\"ADDR_PCT_CD\": 50.0, \"Count\": 72049}, {\"ADDR_PCT_CD\": 52.0, \"Count\": 162797}, {\"ADDR_PCT_CD\": 60.0, \"Count\": 98549}, {\"ADDR_PCT_CD\": 61.0, \"Count\": 94972}, {\"ADDR_PCT_CD\": 62.0, \"Count\": 93526}, {\"ADDR_PCT_CD\": 63.0, \"Count\": 79824}, {\"ADDR_PCT_CD\": 66.0, \"Count\": 73887}, {\"ADDR_PCT_CD\": 67.0, \"Count\": 147564}, {\"ADDR_PCT_CD\": 68.0, \"Count\": 78225}, {\"ADDR_PCT_CD\": 69.0, \"Count\": 74825}, {\"ADDR_PCT_CD\": 70.0, \"Count\": 121693}, {\"ADDR_PCT_CD\": 71.0, \"Count\": 107199}, {\"ADDR_PCT_CD\": 72.0, \"Count\": 85261}, {\"ADDR_PCT_CD\": 73.0, \"Count\": 158869}, {\"ADDR_PCT_CD\": 75.0, \"Count\": 250316}, {\"ADDR_PCT_CD\": 76.0, \"Count\": 42940}, {\"ADDR_PCT_CD\": 77.0, \"Count\": 111054}, {\"ADDR_PCT_CD\": 78.0, \"Count\": 57178}, {\"ADDR_PCT_CD\": 79.0, \"Count\": 124220}, {\"ADDR_PCT_CD\": 81.0, \"Count\": 94733}, {\"ADDR_PCT_CD\": 83.0, \"Count\": 106975}, {\"ADDR_PCT_CD\": 84.0, \"Count\": 80800}, {\"ADDR_PCT_CD\": 88.0, \"Count\": 68357}, {\"ADDR_PCT_CD\": 90.0, \"Count\": 101998}, {\"ADDR_PCT_CD\": 94.0, \"Count\": 55117}, {\"ADDR_PCT_CD\": 100.0, \"Count\": 41546}, {\"ADDR_PCT_CD\": 101.0, \"Count\": 67519}, {\"ADDR_PCT_CD\": 102.0, \"Count\": 96193}, {\"ADDR_PCT_CD\": 103.0, \"Count\": 121675}, {\"ADDR_PCT_CD\": 104.0, \"Count\": 111246}, {\"ADDR_PCT_CD\": 105.0, \"Count\": 116384}, {\"ADDR_PCT_CD\": 106.0, \"Count\": 95871}, {\"ADDR_PCT_CD\": 107.0, \"Count\": 81964}, {\"ADDR_PCT_CD\": 108.0, \"Count\": 82449}, {\"ADDR_PCT_CD\": 109.0, \"Count\": 129009}, {\"ADDR_PCT_CD\": 110.0, \"Count\": 108149}, {\"ADDR_PCT_CD\": 111.0, \"Count\": 48920}, {\"ADDR_PCT_CD\": 112.0, \"Count\": 56256}, {\"ADDR_PCT_CD\": 113.0, \"Count\": 131215}, {\"ADDR_PCT_CD\": 114.0, \"Count\": 144348}, {\"ADDR_PCT_CD\": 115.0, \"Count\": 127237}, {\"ADDR_PCT_CD\": 120.0, \"Count\": 150879}, {\"ADDR_PCT_CD\": 121.0, \"Count\": 52153}, {\"ADDR_PCT_CD\": 122.0, \"Count\": 109946}, {\"ADDR_PCT_CD\": 123.0, \"Count\": 48026}]}}, {\"mode\": \"vega-lite\"});\n",
       "</script>"
      ],
      "text/plain": [
       "alt.Chart(...)"
      ]
     },
     "execution_count": 4,
     "metadata": {},
     "output_type": "execute_result"
    }
   ],
   "source": [
    "# Create a box-plot of the number of crimes per precinct\n",
    "crime_per_precinct = data.groupby(['ADDR_PCT_CD']).size().reset_index(name='Count')\n",
    "\n",
    "# Create a box-plot of the number of crimes per precinct using seaborn\n",
    "alt.Chart(crime_per_precinct).mark_boxplot().encode(\n",
    "    y = 'Count:Q'\n",
    ")\n"
   ]
  },
  {
   "cell_type": "code",
   "execution_count": 5,
   "metadata": {},
   "outputs": [
    {
     "data": {
      "text/html": [
       "<div>\n",
       "<style scoped>\n",
       "    .dataframe tbody tr th:only-of-type {\n",
       "        vertical-align: middle;\n",
       "    }\n",
       "\n",
       "    .dataframe tbody tr th {\n",
       "        vertical-align: top;\n",
       "    }\n",
       "\n",
       "    .dataframe thead th {\n",
       "        text-align: right;\n",
       "    }\n",
       "</style>\n",
       "<table border=\"1\" class=\"dataframe\">\n",
       "  <thead>\n",
       "    <tr style=\"text-align: right;\">\n",
       "      <th></th>\n",
       "      <th>ADDR_PCT_CD</th>\n",
       "      <th>Year</th>\n",
       "      <th>crime_count</th>\n",
       "    </tr>\n",
       "  </thead>\n",
       "  <tbody>\n",
       "    <tr>\n",
       "      <th>0</th>\n",
       "      <td>1</td>\n",
       "      <td>2006</td>\n",
       "      <td>6288</td>\n",
       "    </tr>\n",
       "    <tr>\n",
       "      <th>1</th>\n",
       "      <td>1</td>\n",
       "      <td>2007</td>\n",
       "      <td>6780</td>\n",
       "    </tr>\n",
       "    <tr>\n",
       "      <th>2</th>\n",
       "      <td>1</td>\n",
       "      <td>2008</td>\n",
       "      <td>6617</td>\n",
       "    </tr>\n",
       "    <tr>\n",
       "      <th>3</th>\n",
       "      <td>1</td>\n",
       "      <td>2009</td>\n",
       "      <td>6225</td>\n",
       "    </tr>\n",
       "    <tr>\n",
       "      <th>4</th>\n",
       "      <td>1</td>\n",
       "      <td>2010</td>\n",
       "      <td>5876</td>\n",
       "    </tr>\n",
       "  </tbody>\n",
       "</table>\n",
       "</div>"
      ],
      "text/plain": [
       "  ADDR_PCT_CD  Year  crime_count\n",
       "0           1  2006         6288\n",
       "1           1  2007         6780\n",
       "2           1  2008         6617\n",
       "3           1  2009         6225\n",
       "4           1  2010         5876"
      ]
     },
     "execution_count": 5,
     "metadata": {},
     "output_type": "execute_result"
    }
   ],
   "source": [
    "\n",
    "precint_counts = data.groupby(['ADDR_PCT_CD','Year']).size().reset_index(name='crime_count')\n",
    "precint_counts.head(5)\n",
    "\n",
    "# convert ADDR_PCT_CD to int\n",
    "precint_counts['ADDR_PCT_CD'] = precint_counts['ADDR_PCT_CD'].astype(int)\n",
    "precint_counts['ADDR_PCT_CD'] = precint_counts['ADDR_PCT_CD'].astype(str)\n",
    "precint_counts.head(5)"
   ]
  },
  {
   "cell_type": "code",
   "execution_count": 6,
   "metadata": {},
   "outputs": [
    {
     "data": {
      "text/html": [
       "\n",
       "<div id=\"altair-viz-638530a4d08844e1881dcd053219fbd2\"></div>\n",
       "<script type=\"text/javascript\">\n",
       "  var VEGA_DEBUG = (typeof VEGA_DEBUG == \"undefined\") ? {} : VEGA_DEBUG;\n",
       "  (function(spec, embedOpt){\n",
       "    let outputDiv = document.currentScript.previousElementSibling;\n",
       "    if (outputDiv.id !== \"altair-viz-638530a4d08844e1881dcd053219fbd2\") {\n",
       "      outputDiv = document.getElementById(\"altair-viz-638530a4d08844e1881dcd053219fbd2\");\n",
       "    }\n",
       "    const paths = {\n",
       "      \"vega\": \"https://cdn.jsdelivr.net/npm//vega@5?noext\",\n",
       "      \"vega-lib\": \"https://cdn.jsdelivr.net/npm//vega-lib?noext\",\n",
       "      \"vega-lite\": \"https://cdn.jsdelivr.net/npm//vega-lite@4.17.0?noext\",\n",
       "      \"vega-embed\": \"https://cdn.jsdelivr.net/npm//vega-embed@6?noext\",\n",
       "    };\n",
       "\n",
       "    function maybeLoadScript(lib, version) {\n",
       "      var key = `${lib.replace(\"-\", \"\")}_version`;\n",
       "      return (VEGA_DEBUG[key] == version) ?\n",
       "        Promise.resolve(paths[lib]) :\n",
       "        new Promise(function(resolve, reject) {\n",
       "          var s = document.createElement('script');\n",
       "          document.getElementsByTagName(\"head\")[0].appendChild(s);\n",
       "          s.async = true;\n",
       "          s.onload = () => {\n",
       "            VEGA_DEBUG[key] = version;\n",
       "            return resolve(paths[lib]);\n",
       "          };\n",
       "          s.onerror = () => reject(`Error loading script: ${paths[lib]}`);\n",
       "          s.src = paths[lib];\n",
       "        });\n",
       "    }\n",
       "\n",
       "    function showError(err) {\n",
       "      outputDiv.innerHTML = `<div class=\"error\" style=\"color:red;\">${err}</div>`;\n",
       "      throw err;\n",
       "    }\n",
       "\n",
       "    function displayChart(vegaEmbed) {\n",
       "      vegaEmbed(outputDiv, spec, embedOpt)\n",
       "        .catch(err => showError(`Javascript Error: ${err.message}<br>This usually means there's a typo in your chart specification. See the javascript console for the full traceback.`));\n",
       "    }\n",
       "\n",
       "    if(typeof define === \"function\" && define.amd) {\n",
       "      requirejs.config({paths});\n",
       "      require([\"vega-embed\"], displayChart, err => showError(`Error loading script: ${err.message}`));\n",
       "    } else {\n",
       "      maybeLoadScript(\"vega\", \"5\")\n",
       "        .then(() => maybeLoadScript(\"vega-lite\", \"4.17.0\"))\n",
       "        .then(() => maybeLoadScript(\"vega-embed\", \"6\"))\n",
       "        .catch(showError)\n",
       "        .then(() => displayChart(vegaEmbed));\n",
       "    }\n",
       "  })({\"config\": {\"view\": {\"continuousWidth\": 400, \"continuousHeight\": 300}}, \"data\": {\"url\": \"precint_counts\"}, \"mark\": \"area\", \"encoding\": {\"color\": {\"field\": \"precint\", \"type\": \"ordinal\"}, \"x\": {\"axis\": {\"title\": \"Year\"}, \"field\": \"Year\", \"type\": \"ordinal\"}, \"y\": {\"field\": \"crime_count\", \"stack\": \"center\", \"type\": \"quantitative\"}}, \"height\": 1000, \"width\": 2000, \"$schema\": \"https://vega.github.io/schema/vega-lite/v4.17.0.json\"}, {\"mode\": \"vega-lite\"});\n",
       "</script>"
      ],
      "text/plain": [
       "alt.Chart(...)"
      ]
     },
     "execution_count": 6,
     "metadata": {},
     "output_type": "execute_result"
    }
   ],
   "source": [
    "# Create a Streamgraph to show the changes in crimes over years\n",
    "alt.Chart('precint_counts').mark_area().encode(\n",
    "    alt.X('Year:O', axis = alt.Axis(title = 'Year')),\n",
    "    alt.Y('crime_count:Q', stack = 'center'),\n",
    "    alt.Color('precint:O')\n",
    ").properties(\n",
    "    width = 2000,\n",
    "    height = 1000\n",
    ")"
   ]
  },
  {
   "cell_type": "code",
   "execution_count": 7,
   "metadata": {},
   "outputs": [],
   "source": [
    "# load precinct shapefile\n",
    "precint_shape = gpd.read_file('..//data//Police Precincts.geojson')"
   ]
  },
  {
   "cell_type": "code",
   "execution_count": 8,
   "metadata": {},
   "outputs": [
    {
     "data": {
      "text/html": [
       "<div>\n",
       "<style scoped>\n",
       "    .dataframe tbody tr th:only-of-type {\n",
       "        vertical-align: middle;\n",
       "    }\n",
       "\n",
       "    .dataframe tbody tr th {\n",
       "        vertical-align: top;\n",
       "    }\n",
       "\n",
       "    .dataframe thead th {\n",
       "        text-align: right;\n",
       "    }\n",
       "</style>\n",
       "<table border=\"1\" class=\"dataframe\">\n",
       "  <thead>\n",
       "    <tr style=\"text-align: right;\">\n",
       "      <th></th>\n",
       "      <th>precinct</th>\n",
       "      <th>shape_area</th>\n",
       "      <th>shape_leng</th>\n",
       "      <th>geometry</th>\n",
       "    </tr>\n",
       "  </thead>\n",
       "  <tbody>\n",
       "    <tr>\n",
       "      <th>0</th>\n",
       "      <td>1</td>\n",
       "      <td>47286422.9826</td>\n",
       "      <td>80283.5387782</td>\n",
       "      <td>MULTIPOLYGON (((-74.04388 40.69019, -74.04351 ...</td>\n",
       "    </tr>\n",
       "    <tr>\n",
       "      <th>1</th>\n",
       "      <td>5</td>\n",
       "      <td>18094527.4385</td>\n",
       "      <td>18807.1249114</td>\n",
       "      <td>MULTIPOLYGON (((-73.98864 40.72293, -73.98869 ...</td>\n",
       "    </tr>\n",
       "    <tr>\n",
       "      <th>2</th>\n",
       "      <td>6</td>\n",
       "      <td>22017946.5474</td>\n",
       "      <td>24875.9642171</td>\n",
       "      <td>MULTIPOLYGON (((-73.99968 40.73855, -73.99684 ...</td>\n",
       "    </tr>\n",
       "    <tr>\n",
       "      <th>3</th>\n",
       "      <td>7</td>\n",
       "      <td>18366669.928</td>\n",
       "      <td>17287.5444926</td>\n",
       "      <td>MULTIPOLYGON (((-73.97346 40.71896, -73.97357 ...</td>\n",
       "    </tr>\n",
       "    <tr>\n",
       "      <th>4</th>\n",
       "      <td>9</td>\n",
       "      <td>21395386.2669</td>\n",
       "      <td>19772.5107407</td>\n",
       "      <td>MULTIPOLYGON (((-73.97161 40.72672, -73.97163 ...</td>\n",
       "    </tr>\n",
       "    <tr>\n",
       "      <th>...</th>\n",
       "      <td>...</td>\n",
       "      <td>...</td>\n",
       "      <td>...</td>\n",
       "      <td>...</td>\n",
       "    </tr>\n",
       "    <tr>\n",
       "      <th>72</th>\n",
       "      <td>115</td>\n",
       "      <td>114119713.7</td>\n",
       "      <td>60059.4107576</td>\n",
       "      <td>MULTIPOLYGON (((-73.85892 40.76241, -73.85931 ...</td>\n",
       "    </tr>\n",
       "    <tr>\n",
       "      <th>73</th>\n",
       "      <td>120</td>\n",
       "      <td>232327994.252</td>\n",
       "      <td>92945.6971545</td>\n",
       "      <td>MULTIPOLYGON (((-74.05357 40.60370, -74.05407 ...</td>\n",
       "    </tr>\n",
       "    <tr>\n",
       "      <th>74</th>\n",
       "      <td>121</td>\n",
       "      <td>475577637.857</td>\n",
       "      <td>136811.464647</td>\n",
       "      <td>MULTIPOLYGON (((-74.15946 40.64145, -74.15975 ...</td>\n",
       "    </tr>\n",
       "    <tr>\n",
       "      <th>75</th>\n",
       "      <td>122</td>\n",
       "      <td>454852053.697</td>\n",
       "      <td>154842.385071</td>\n",
       "      <td>MULTIPOLYGON (((-74.05051 40.56642, -74.05047 ...</td>\n",
       "    </tr>\n",
       "    <tr>\n",
       "      <th>76</th>\n",
       "      <td>123</td>\n",
       "      <td>460863039.21</td>\n",
       "      <td>120813.673072</td>\n",
       "      <td>MULTIPOLYGON (((-74.16983 40.56109, -74.16983 ...</td>\n",
       "    </tr>\n",
       "  </tbody>\n",
       "</table>\n",
       "<p>77 rows × 4 columns</p>\n",
       "</div>"
      ],
      "text/plain": [
       "   precinct     shape_area     shape_leng  \\\n",
       "0         1  47286422.9826  80283.5387782   \n",
       "1         5  18094527.4385  18807.1249114   \n",
       "2         6  22017946.5474  24875.9642171   \n",
       "3         7   18366669.928  17287.5444926   \n",
       "4         9  21395386.2669  19772.5107407   \n",
       "..      ...            ...            ...   \n",
       "72      115    114119713.7  60059.4107576   \n",
       "73      120  232327994.252  92945.6971545   \n",
       "74      121  475577637.857  136811.464647   \n",
       "75      122  454852053.697  154842.385071   \n",
       "76      123   460863039.21  120813.673072   \n",
       "\n",
       "                                             geometry  \n",
       "0   MULTIPOLYGON (((-74.04388 40.69019, -74.04351 ...  \n",
       "1   MULTIPOLYGON (((-73.98864 40.72293, -73.98869 ...  \n",
       "2   MULTIPOLYGON (((-73.99968 40.73855, -73.99684 ...  \n",
       "3   MULTIPOLYGON (((-73.97346 40.71896, -73.97357 ...  \n",
       "4   MULTIPOLYGON (((-73.97161 40.72672, -73.97163 ...  \n",
       "..                                                ...  \n",
       "72  MULTIPOLYGON (((-73.85892 40.76241, -73.85931 ...  \n",
       "73  MULTIPOLYGON (((-74.05357 40.60370, -74.05407 ...  \n",
       "74  MULTIPOLYGON (((-74.15946 40.64145, -74.15975 ...  \n",
       "75  MULTIPOLYGON (((-74.05051 40.56642, -74.05047 ...  \n",
       "76  MULTIPOLYGON (((-74.16983 40.56109, -74.16983 ...  \n",
       "\n",
       "[77 rows x 4 columns]"
      ]
     },
     "execution_count": 8,
     "metadata": {},
     "output_type": "execute_result"
    }
   ],
   "source": [
    "precint_shape"
   ]
  },
  {
   "cell_type": "code",
   "execution_count": 9,
   "metadata": {},
   "outputs": [
    {
     "name": "stdout",
     "output_type": "stream",
     "text": [
      "<class 'geopandas.geodataframe.GeoDataFrame'>\n",
      "Int64Index: 1232 entries, 0 to 1231\n",
      "Data columns (total 7 columns):\n",
      " #   Column       Non-Null Count  Dtype   \n",
      "---  ------       --------------  -----   \n",
      " 0   precinct     1232 non-null   object  \n",
      " 1   shape_area   1232 non-null   object  \n",
      " 2   shape_leng   1232 non-null   object  \n",
      " 3   geometry     1232 non-null   geometry\n",
      " 4   ADDR_PCT_CD  1232 non-null   object  \n",
      " 5   Year         1232 non-null   int64   \n",
      " 6   crime_count  1232 non-null   int64   \n",
      "dtypes: geometry(1), int64(2), object(4)\n",
      "memory usage: 77.0+ KB\n"
     ]
    }
   ],
   "source": [
    "# merge the two dataframes\n",
    "precint_shape = precint_shape.merge(precint_counts, left_on='precinct', right_on='ADDR_PCT_CD')\n",
    "\n",
    "precint_shape.info()"
   ]
  },
  {
   "cell_type": "code",
   "execution_count": null,
   "metadata": {
    "pycharm": {
     "is_executing": true
    }
   },
   "outputs": [],
   "source": [
    "# plot the data using column 'counts' as the color and with one map for each year\n",
    "alt.Chart(precint_shape).mark_geoshape().encode(\n",
    "    color='crime_count:Q',\n",
    "    row='Year:Q'\n",
    ").properties(\n",
    "    width=500,\n",
    "    height=300,\n",
    ")"
   ]
  },
  {
   "cell_type": "code",
   "execution_count": null,
   "metadata": {
    "pycharm": {
     "is_executing": true
    }
   },
   "outputs": [],
   "source": [
    "precint_w_trees = gpd.read_file('..//data//precincts_with_trees.geojson')\n",
    "\n",
    "# plot the data using column 'counts' as the color\n",
    "alt.Chart(precint_w_trees).mark_geoshape().encode(\n",
    "    color='tree_count:Q'\n",
    ").properties(\n",
    "    width=500,\n",
    "    height=300\n",
    ")\n"
   ]
  },
  {
   "cell_type": "code",
   "execution_count": null,
   "metadata": {
    "pycharm": {
     "is_executing": true
    }
   },
   "outputs": [],
   "source": [
    "# merge the trees and crime data\n",
    "precint_w_trees = precint_w_trees.merge(precint_counts, left_on='precinct', right_on='ADDR_PCT_CD')"
   ]
  },
  {
   "cell_type": "code",
   "execution_count": null,
   "metadata": {
    "pycharm": {
     "is_executing": true
    }
   },
   "outputs": [],
   "source": [
    "# create a box plot of the crime count and the tree count\n",
    "alt.Chart(precint_w_trees).mark_boxplot().encode(\n",
    "    y='crime_count:Q'\n",
    ")"
   ]
  },
  {
   "cell_type": "code",
   "execution_count": null,
   "metadata": {
    "pycharm": {
     "is_executing": true
    }
   },
   "outputs": [],
   "source": [
    "# create a scatter plot of the data with the number of trees on the x axis and the number of crimes on the y axis\n",
    "alt.Chart(precint_w_trees).mark_circle(\n",
    "    size=50,\n",
    "    color='red',\n",
    ").encode(\n",
    "    x = alt.X('tree_count', axis= alt.Axis(title = 'Trees')),\n",
    "    y = alt.Y('crime_count', axis= alt.Axis(title = 'Crimes')),\n",
    "    tooltip = ['precinct', 'tree_count', 'crime_count'],\n",
    ").properties(\n",
    "    width=1000,\n",
    "    height=500,\n",
    "    title='Number of Crimes vs Number of Trees'\n",
    ")"
   ]
  },
  {
   "cell_type": "code",
   "execution_count": null,
   "metadata": {
    "pycharm": {
     "is_executing": true
    }
   },
   "outputs": [],
   "source": [
    "stats.pearsonr(precint_w_trees['tree_count'], precint_w_trees['crime_count'])"
   ]
  },
  {
   "cell_type": "code",
   "execution_count": null,
   "metadata": {
    "pycharm": {
     "is_executing": true
    }
   },
   "outputs": [],
   "source": [
    "# get he area of each precinct\n",
    "precint_w_trees.to_crs(epsg=2263, inplace=True)\n",
    "precint_w_trees['area'] = precint_w_trees['geometry'].area\n",
    "\n",
    "precint_w_trees['area'].head(5)"
   ]
  },
  {
   "cell_type": "code",
   "execution_count": null,
   "metadata": {
    "pycharm": {
     "is_executing": true
    }
   },
   "outputs": [],
   "source": [
    "# calculate the number of trees per square kilometer and add it to the dataframe\n",
    "precint_w_trees['tree_density'] = precint_w_trees['tree_count'] / (precint_w_trees['area'] / 1000000)\n",
    "precint_w_trees['crime_density'] = precint_w_trees['crime_count'] / (precint_w_trees['area'] / 1000000)"
   ]
  },
  {
   "cell_type": "code",
   "execution_count": null,
   "metadata": {
    "pycharm": {
     "is_executing": true
    }
   },
   "outputs": [],
   "source": [
    "# create a scatter plot of the data with the density of trees on the x axis and the density of crimes on the y axis\n",
    "fig = alt.Chart(precint_w_trees).mark_circle(\n",
    "    size=50,\n",
    "    color='red',\n",
    ").encode(\n",
    "    x = alt.X('tree_density:Q', axis= alt.Axis(title = 'Trees')),\n",
    "    y = alt.Y('crime_density:Q',axis= alt.Axis(title = 'Crimes per sq.km')),\n",
    "    tooltip = ['precinct', 'tree_count', 'crime_count'],\n",
    ").properties(\n",
    "    width=1000,\n",
    "    height=500,\n",
    "    title='Number of Crimes vs Number of Trees'\n",
    ")\n",
    "\n",
    "final_plot = fig + fig.transform_regression('tree_density','crime_density').mark_line()\n",
    "final_plot"
   ]
  },
  {
   "cell_type": "code",
   "execution_count": null,
   "metadata": {
    "pycharm": {
     "is_executing": true
    }
   },
   "outputs": [],
   "source": [
    "stats.pearsonr(precint_w_trees['tree_density'], precint_w_trees['crime_density'])"
   ]
  },
  {
   "cell_type": "code",
   "execution_count": null,
   "metadata": {
    "pycharm": {
     "is_executing": true
    }
   },
   "outputs": [],
   "source": [
    "\n",
    "alt.Chart(precint_w_trees).mark_circle().encode(\n",
    "    alt.X(alt.repeat(\"column\"), type='quantitative'),\n",
    "    alt.Y(alt.repeat(\"row\"), type='quantitative'),\n",
    ").properties(\n",
    "    width=300,\n",
    "    height=300\n",
    ").repeat(\n",
    "    row=['tree_density', 'crime_density', 'area'],\n",
    "    column=['tree_density', 'crime_density', 'area']\n",
    ")"
   ]
  },
  {
   "cell_type": "code",
   "execution_count": null,
   "metadata": {
    "pycharm": {
     "is_executing": true
    }
   },
   "outputs": [],
   "source": [
    "# create a box plot of the crime count and the tree count\n",
    "bplot_crimedensity = alt.Chart(precint_w_trees).mark_boxplot().encode(\n",
    "    y='crime_density'\n",
    ")\n",
    "\n",
    "b_plot_treedensity = alt.Chart(precint_w_trees).mark_boxplot().encode(\n",
    "    y='tree_density'\n",
    ")\n",
    "\n",
    "bplot_crimedensity | b_plot_treedensity\n",
    "\n"
   ]
  }
 ],
 "metadata": {
  "kernelspec": {
   "display_name": "Python 3 (ipykernel)",
   "language": "python",
   "name": "python3"
  },
  "language_info": {
   "codemirror_mode": {
    "name": "ipython",
    "version": 3
   },
   "file_extension": ".py",
   "mimetype": "text/x-python",
   "name": "python",
   "nbconvert_exporter": "python",
   "pygments_lexer": "ipython3",
   "version": "3.11.0"
  }
 },
 "nbformat": 4,
 "nbformat_minor": 1
}
