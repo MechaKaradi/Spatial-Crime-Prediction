{
 "cells": [
  {
   "cell_type": "markdown",
   "metadata": {
    "collapsed": false
   },
   "source": [
    "# Machine Learning to predict risk of crimes based on the location, time and presence of trees"
   ]
  },
  {
   "cell_type": "code",
   "execution_count": 1,
   "metadata": {
    "collapsed": true
   },
   "outputs": [],
   "source": [
    "# Importing the libraries\n",
    "import numpy as np\n",
    "import matplotlib.pyplot as plt\n",
    "import pandas as pd\n",
    "import altair as alt\n"
   ]
  },
  {
   "cell_type": "code",
   "execution_count": 2,
   "metadata": {
    "collapsed": false
   },
   "outputs": [
    {
     "data": {
      "text/html": [
       "<div>\n",
       "<style scoped>\n",
       "    .dataframe tbody tr th:only-of-type {\n",
       "        vertical-align: middle;\n",
       "    }\n",
       "\n",
       "    .dataframe tbody tr th {\n",
       "        vertical-align: top;\n",
       "    }\n",
       "\n",
       "    .dataframe thead th {\n",
       "        text-align: right;\n",
       "    }\n",
       "</style>\n",
       "<table border=\"1\" class=\"dataframe\">\n",
       "  <thead>\n",
       "    <tr style=\"text-align: right;\">\n",
       "      <th></th>\n",
       "      <th>Longitude</th>\n",
       "      <th>Latitude</th>\n",
       "      <th>hour_of_day</th>\n",
       "      <th>day_of_week</th>\n",
       "      <th>F</th>\n",
       "      <th>M</th>\n",
       "      <th>fair_tree_count</th>\n",
       "      <th>good_tree_count</th>\n",
       "      <th>poor_tree_count</th>\n",
       "    </tr>\n",
       "  </thead>\n",
       "  <tbody>\n",
       "    <tr>\n",
       "      <th>0</th>\n",
       "      <td>-74.25</td>\n",
       "      <td>40.5004</td>\n",
       "      <td>0</td>\n",
       "      <td>0</td>\n",
       "      <td>0</td>\n",
       "      <td>1</td>\n",
       "      <td>20</td>\n",
       "      <td>154</td>\n",
       "      <td>0</td>\n",
       "    </tr>\n",
       "    <tr>\n",
       "      <th>1</th>\n",
       "      <td>-74.25</td>\n",
       "      <td>40.5004</td>\n",
       "      <td>0</td>\n",
       "      <td>1</td>\n",
       "      <td>0</td>\n",
       "      <td>0</td>\n",
       "      <td>20</td>\n",
       "      <td>154</td>\n",
       "      <td>0</td>\n",
       "    </tr>\n",
       "    <tr>\n",
       "      <th>2</th>\n",
       "      <td>-74.25</td>\n",
       "      <td>40.5004</td>\n",
       "      <td>0</td>\n",
       "      <td>2</td>\n",
       "      <td>0</td>\n",
       "      <td>1</td>\n",
       "      <td>20</td>\n",
       "      <td>154</td>\n",
       "      <td>0</td>\n",
       "    </tr>\n",
       "    <tr>\n",
       "      <th>3</th>\n",
       "      <td>-74.25</td>\n",
       "      <td>40.5004</td>\n",
       "      <td>0</td>\n",
       "      <td>3</td>\n",
       "      <td>1</td>\n",
       "      <td>0</td>\n",
       "      <td>20</td>\n",
       "      <td>154</td>\n",
       "      <td>0</td>\n",
       "    </tr>\n",
       "    <tr>\n",
       "      <th>4</th>\n",
       "      <td>-74.25</td>\n",
       "      <td>40.5004</td>\n",
       "      <td>0</td>\n",
       "      <td>4</td>\n",
       "      <td>0</td>\n",
       "      <td>0</td>\n",
       "      <td>20</td>\n",
       "      <td>154</td>\n",
       "      <td>0</td>\n",
       "    </tr>\n",
       "  </tbody>\n",
       "</table>\n",
       "</div>"
      ],
      "text/plain": [
       "   Longitude  Latitude  hour_of_day  day_of_week  F  M  fair_tree_count   \n",
       "0     -74.25   40.5004            0            0  0  1               20  \\\n",
       "1     -74.25   40.5004            0            1  0  0               20   \n",
       "2     -74.25   40.5004            0            2  0  1               20   \n",
       "3     -74.25   40.5004            0            3  1  0               20   \n",
       "4     -74.25   40.5004            0            4  0  0               20   \n",
       "\n",
       "   good_tree_count  poor_tree_count  \n",
       "0              154                0  \n",
       "1              154                0  \n",
       "2              154                0  \n",
       "3              154                0  \n",
       "4              154                0  "
      ]
     },
     "execution_count": 2,
     "metadata": {},
     "output_type": "execute_result"
    }
   ],
   "source": [
    "# Importing the dataset from parquet file\n",
    "trees_crimes_people_df = pd.read_parquet('../data/matched_data.parquet')\n",
    "trees_crimes_people_df.head()"
   ]
  },
  {
   "cell_type": "markdown",
   "metadata": {
    "collapsed": false
   },
   "source": [
    "# Dividing the dataset into the feature matrix and the target vector"
   ]
  },
  {
   "cell_type": "code",
   "execution_count": 3,
   "metadata": {
    "collapsed": false
   },
   "outputs": [],
   "source": [
    "# Slide the dataframe and move colums 4 and 5 to df Y. Keep the rest in df X\n",
    "Y = trees_crimes_people_df.iloc[:, 4:5]\n",
    "\n",
    "X = trees_crimes_people_df.iloc[:,[0,1,2,3,6,7,8]]"
   ]
  },
  {
   "cell_type": "code",
   "execution_count": 4,
   "metadata": {
    "collapsed": false
   },
   "outputs": [],
   "source": [
    "from sklearn.model_selection import train_test_split\n",
    "X_train, X_test, Y_train, Y_test = train_test_split(X, Y, test_size = 0.25, random_state = 1337)"
   ]
  },
  {
   "cell_type": "markdown",
   "metadata": {
    "collapsed": false
   },
   "source": [
    "# Baseline: Linear Regression Model"
   ]
  },
  {
   "cell_type": "code",
   "execution_count": 5,
   "metadata": {
    "collapsed": false
   },
   "outputs": [
    {
     "name": "stdout",
     "output_type": "stream",
     "text": [
      "MSE:  55.38517833519647\n",
      "MAE:  4.687531267808573\n",
      "MAPE:  4865360272103536.0\n"
     ]
    }
   ],
   "source": [
    "from sklearn.linear_model import LinearRegression\n",
    "from sklearn.metrics import mean_squared_error, mean_absolute_error, mean_absolute_percentage_error\n",
    "\n",
    "lr = LinearRegression()\n",
    "lr.fit(X_train, Y_train)\n",
    "Y_pred = lr.predict(X_test)\n",
    "print(\"MSE: \", mean_squared_error(Y_test, Y_pred))\n",
    "print(\"MAE: \", mean_absolute_error(Y_test, Y_pred))\n",
    "print(\"MAPE: \", mean_absolute_percentage_error(Y_test, Y_pred))"
   ]
  },
  {
   "cell_type": "code",
   "execution_count": 6,
   "metadata": {
    "collapsed": false
   },
   "outputs": [
    {
     "data": {
      "image/png": "[encoded data removed]",
      "text/plain": [
       "<Figure size 640x480 with 1 Axes>"
      ]
     },
     "metadata": {},
     "output_type": "display_data"
    }
   ],
   "source": [
    "# plot the linear regression model using matplotlib\n",
    "plt.scatter(Y_test, Y_pred)\n",
    "plt.xlabel(\"True Values\")\n",
    "plt.ylabel(\"Predictions\")\n",
    "plt.show()\n"
   ]
  },
  {
   "cell_type": "markdown",
   "source": [
    "# Test different regression models"
   ],
   "metadata": {
    "collapsed": false
   }
  },
  {
   "cell_type": "code",
   "execution_count": 7,
   "metadata": {
    "collapsed": false
   },
   "outputs": [],
   "source": [
    "from sklearn.linear_model import Perceptron, Lasso, ElasticNet\n",
    "from sklearn.svm import SVR\n",
    "from sklearn.tree import DecisionTreeRegressor\n",
    "from sklearn.ensemble import RandomForestRegressor, AdaBoostRegressor\n",
    "from sklearn.neural_network import MLPRegressor\n",
    "from sklearn.neighbors import KNeighborsRegressor\n",
    "\n",
    "# Convert Y_train and Y_test to 1D array\n",
    "Y_train = Y_train.to_numpy().ravel()\n",
    "Y_test = Y_test.to_numpy().ravel()\n",
    "\n",
    "names = [\n",
    "    \"Lasso\",\n",
    "    \"Elastic Net\",\n",
    "    \"Linear SVM\",\n",
    "    \"Decision Tree\",\n",
    "    \"Random Forest\",\n",
    "    \"AdaBoost\",\n",
    "    \"Neural Net\",\n",
    "    \"K-Nearest Neighbours\"\n",
    "]\n",
    "\n",
    "regressors = [\n",
    "    Lasso(alpha=0.1),\n",
    "    ElasticNet(random_state=0),\n",
    "    # SVR(kernel=\"linear\", C=0.025),\n",
    "    DecisionTreeRegressor(max_depth=5),\n",
    "    RandomForestRegressor(max_depth=5, n_estimators=10, max_features=1),\n",
    "    # AdaBoostRegressor(),\n",
    "    # MLPRegressor(alpha=1, max_iter=1000),\n",
    "    KNeighborsRegressor(3),\n",
    "]"
   ]
  },
  {
   "cell_type": "code",
   "execution_count": 15,
   "metadata": {
    "collapsed": false
   },
   "outputs": [
    {
     "name": "stdout",
     "output_type": "stream",
     "text": [
      "[INFO] - Categorical technique:  Just one\n",
      "[INFO] - Regressor:  Lasso\n",
      "[INFO] - Regressor:  Elastic Net\n",
      "[INFO] - Regressor:  Linear SVM\n",
      "[INFO] - Regressor:  Decision Tree\n"
     ]
    },
    {
     "name": "stderr",
     "output_type": "stream",
     "text": [
      "C:\\Users\\Kaninik Baradi\\AppData\\Local\\Temp\\ipykernel_34608\\2889432465.py:17: DataConversionWarning: A column-vector y was passed when a 1d array was expected. Please change the shape of y to (n_samples,), for example using ravel().\n",
      "  regressor.fit(X_train, Y_train)\n"
     ]
    },
    {
     "name": "stdout",
     "output_type": "stream",
     "text": [
      "[INFO] - Regressor:  Random Forest\n"
     ]
    }
   ],
   "source": [
    "categorical_technique_list = [\"Just one\"]\n",
    "X_train_list = [X_train]\n",
    "X_test_list = [X_test]\n",
    "\n",
    "# Create a dictionary to store the dataframes of the results for each method\n",
    "results_dict = {}\n",
    "\n",
    "MSE_per_dataset_df = pd.DataFrame(columns=[\"Dataset Name\"].append(names))\n",
    "MAE_per_dataset_df = pd.DataFrame(columns=[\"Dataset Name\"].append(names))\n",
    "MAPE_per_dataset_df = pd.DataFrame(columns=[\"Dataset Name\"].append(names))\n",
    "\n",
    "for technique,X_train,X_test in zip(categorical_technique_list,X_train_list,X_test_list):\n",
    "    print(\"[INFO] - Categorical technique: \", technique)\n",
    "    MSE_line = {\"Dataset Name\": technique}\n",
    "    MAE_line = {\"Dataset Name\": technique}\n",
    "    MAPE_line = {\"Dataset Name\": technique}\n",
    "\n",
    "    for regressor,method_name in zip(regressors,names):\n",
    "        print(\"[INFO] - Regressor: \", method_name)\n",
    "        regressor.fit(X_train, Y_train)\n",
    "        Y_pred = regressor.predict(X_test)\n",
    "        # create a dataframe with the Y_test and Y_pred\n",
    "        Y_test_Y_pred_df = pd.DataFrame({'Y_test': Y_test, 'Y_pred': Y_pred})\n",
    "        # append the dataframe to the dictionary\n",
    "        results_dict[method_name] = Y_test_Y_pred_df\n",
    "        # calculate the MSE, MAE and MAPE\n",
    "        MSE_line[method_name] = mean_squared_error(Y_test, Y_pred)\n",
    "        MAE_line[method_name] = mean_absolute_error(Y_test, Y_pred)\n",
    "        MAPE_line[method_name] = mean_absolute_percentage_error(Y_test, Y_pred)\n",
    "\n",
    "\n",
    "    # using pandas concat to append the new line to the dataframe\n",
    "    MSE_per_dataset_df = pd.concat([MSE_per_dataset_df, pd.DataFrame([MSE_line])], ignore_index=True)\n",
    "    MAE_per_dataset_df = pd.concat([MAE_per_dataset_df, pd.DataFrame([MAE_line])], ignore_index=True)\n",
    "    MAPE_per_dataset_df = pd.concat([MAPE_per_dataset_df, pd.DataFrame([MAPE_line])], ignore_index=True)\n"
   ]
  },
  {
   "cell_type": "code",
   "execution_count": 16,
   "metadata": {
    "collapsed": false
   },
   "outputs": [
    {
     "data": {
      "text/html": [
       "<div>\n",
       "<style scoped>\n",
       "    .dataframe tbody tr th:only-of-type {\n",
       "        vertical-align: middle;\n",
       "    }\n",
       "\n",
       "    .dataframe tbody tr th {\n",
       "        vertical-align: top;\n",
       "    }\n",
       "\n",
       "    .dataframe thead th {\n",
       "        text-align: right;\n",
       "    }\n",
       "</style>\n",
       "<table border=\"1\" class=\"dataframe\">\n",
       "  <thead>\n",
       "    <tr style=\"text-align: right;\">\n",
       "      <th></th>\n",
       "      <th>Dataset Name</th>\n",
       "      <th>Method</th>\n",
       "      <th>MSE</th>\n",
       "    </tr>\n",
       "  </thead>\n",
       "  <tbody>\n",
       "    <tr>\n",
       "      <th>0</th>\n",
       "      <td>Just one</td>\n",
       "      <td>Lasso</td>\n",
       "      <td>57.277107</td>\n",
       "    </tr>\n",
       "    <tr>\n",
       "      <th>1</th>\n",
       "      <td>Just one</td>\n",
       "      <td>Elastic Net</td>\n",
       "      <td>59.650622</td>\n",
       "    </tr>\n",
       "    <tr>\n",
       "      <th>2</th>\n",
       "      <td>Just one</td>\n",
       "      <td>Linear SVM</td>\n",
       "      <td>41.548813</td>\n",
       "    </tr>\n",
       "    <tr>\n",
       "      <th>3</th>\n",
       "      <td>Just one</td>\n",
       "      <td>Decision Tree</td>\n",
       "      <td>47.422126</td>\n",
       "    </tr>\n",
       "    <tr>\n",
       "      <th>4</th>\n",
       "      <td>Just one</td>\n",
       "      <td>Random Forest</td>\n",
       "      <td>8.951414</td>\n",
       "    </tr>\n",
       "  </tbody>\n",
       "</table>\n",
       "</div>"
      ],
      "text/plain": [
       "  Dataset Name         Method        MSE\n",
       "0     Just one          Lasso  57.277107\n",
       "1     Just one    Elastic Net  59.650622\n",
       "2     Just one     Linear SVM  41.548813\n",
       "3     Just one  Decision Tree  47.422126\n",
       "4     Just one  Random Forest   8.951414"
      ]
     },
     "execution_count": 16,
     "metadata": {},
     "output_type": "execute_result"
    }
   ],
   "source": [
    "MSE_per_dataset_df\n",
    "# unpivot the dataframe\n",
    "MSE_per_dataset_df = MSE_per_dataset_df.melt(id_vars=['Dataset Name'], var_name='Method', value_name='MSE')\n",
    "MSE_per_dataset_df"
   ]
  },
  {
   "cell_type": "code",
   "execution_count": 10,
   "metadata": {
    "collapsed": false
   },
   "outputs": [
    {
     "data": {
      "text/html": [
       "<div>\n",
       "<style scoped>\n",
       "    .dataframe tbody tr th:only-of-type {\n",
       "        vertical-align: middle;\n",
       "    }\n",
       "\n",
       "    .dataframe tbody tr th {\n",
       "        vertical-align: top;\n",
       "    }\n",
       "\n",
       "    .dataframe thead th {\n",
       "        text-align: right;\n",
       "    }\n",
       "</style>\n",
       "<table border=\"1\" class=\"dataframe\">\n",
       "  <thead>\n",
       "    <tr style=\"text-align: right;\">\n",
       "      <th></th>\n",
       "      <th>Dataset Name</th>\n",
       "      <th>Lasso</th>\n",
       "      <th>Elastic Net</th>\n",
       "      <th>Linear SVM</th>\n",
       "      <th>Decision Tree</th>\n",
       "      <th>Random Forest</th>\n",
       "    </tr>\n",
       "  </thead>\n",
       "  <tbody>\n",
       "    <tr>\n",
       "      <th>0</th>\n",
       "      <td>Just one</td>\n",
       "      <td>4.639958</td>\n",
       "      <td>4.734257</td>\n",
       "      <td>3.620494</td>\n",
       "      <td>4.018853</td>\n",
       "      <td>1.74552</td>\n",
       "    </tr>\n",
       "  </tbody>\n",
       "</table>\n",
       "</div>"
      ],
      "text/plain": [
       "  Dataset Name     Lasso  Elastic Net  Linear SVM  Decision Tree   \n",
       "0     Just one  4.639958     4.734257    3.620494       4.018853  \\\n",
       "\n",
       "   Random Forest  \n",
       "0        1.74552  "
      ]
     },
     "execution_count": 10,
     "metadata": {},
     "output_type": "execute_result"
    }
   ],
   "source": [
    "MAE_per_dataset_df\n",
    "# unpivot the dataframe"
   ]
  },
  {
   "cell_type": "code",
   "execution_count": 11,
   "metadata": {
    "collapsed": false
   },
   "outputs": [
    {
     "data": {
      "text/html": [
       "<div>\n",
       "<style scoped>\n",
       "    .dataframe tbody tr th:only-of-type {\n",
       "        vertical-align: middle;\n",
       "    }\n",
       "\n",
       "    .dataframe tbody tr th {\n",
       "        vertical-align: top;\n",
       "    }\n",
       "\n",
       "    .dataframe thead th {\n",
       "        text-align: right;\n",
       "    }\n",
       "</style>\n",
       "<table border=\"1\" class=\"dataframe\">\n",
       "  <thead>\n",
       "    <tr style=\"text-align: right;\">\n",
       "      <th></th>\n",
       "      <th>Dataset Name</th>\n",
       "      <th>Method</th>\n",
       "      <th>MAE</th>\n",
       "    </tr>\n",
       "  </thead>\n",
       "  <tbody>\n",
       "    <tr>\n",
       "      <th>0</th>\n",
       "      <td>Just one</td>\n",
       "      <td>Lasso</td>\n",
       "      <td>4.639958</td>\n",
       "    </tr>\n",
       "    <tr>\n",
       "      <th>1</th>\n",
       "      <td>Just one</td>\n",
       "      <td>Elastic Net</td>\n",
       "      <td>4.734257</td>\n",
       "    </tr>\n",
       "    <tr>\n",
       "      <th>2</th>\n",
       "      <td>Just one</td>\n",
       "      <td>Linear SVM</td>\n",
       "      <td>3.620494</td>\n",
       "    </tr>\n",
       "    <tr>\n",
       "      <th>3</th>\n",
       "      <td>Just one</td>\n",
       "      <td>Decision Tree</td>\n",
       "      <td>4.018853</td>\n",
       "    </tr>\n",
       "    <tr>\n",
       "      <th>4</th>\n",
       "      <td>Just one</td>\n",
       "      <td>Random Forest</td>\n",
       "      <td>1.745520</td>\n",
       "    </tr>\n",
       "  </tbody>\n",
       "</table>\n",
       "</div>"
      ],
      "text/plain": [
       "  Dataset Name         Method       MAE\n",
       "0     Just one          Lasso  4.639958\n",
       "1     Just one    Elastic Net  4.734257\n",
       "2     Just one     Linear SVM  3.620494\n",
       "3     Just one  Decision Tree  4.018853\n",
       "4     Just one  Random Forest  1.745520"
      ]
     },
     "execution_count": 11,
     "metadata": {},
     "output_type": "execute_result"
    }
   ],
   "source": [
    "MAE_per_dataset_df = MAE_per_dataset_df.melt(id_vars=['Dataset Name'], var_name='Method', value_name='MAE')\n",
    "MAE_per_dataset_df"
   ]
  },
  {
   "cell_type": "code",
   "execution_count": 12,
   "metadata": {
    "collapsed": false
   },
   "outputs": [
    {
     "data": {
      "text/html": [
       "<div>\n",
       "<style scoped>\n",
       "    .dataframe tbody tr th:only-of-type {\n",
       "        vertical-align: middle;\n",
       "    }\n",
       "\n",
       "    .dataframe tbody tr th {\n",
       "        vertical-align: top;\n",
       "    }\n",
       "\n",
       "    .dataframe thead th {\n",
       "        text-align: right;\n",
       "    }\n",
       "</style>\n",
       "<table border=\"1\" class=\"dataframe\">\n",
       "  <thead>\n",
       "    <tr style=\"text-align: right;\">\n",
       "      <th></th>\n",
       "      <th>Dataset Name</th>\n",
       "      <th>Lasso</th>\n",
       "      <th>Elastic Net</th>\n",
       "      <th>Linear SVM</th>\n",
       "      <th>Decision Tree</th>\n",
       "      <th>Random Forest</th>\n",
       "    </tr>\n",
       "  </thead>\n",
       "  <tbody>\n",
       "    <tr>\n",
       "      <th>0</th>\n",
       "      <td>Just one</td>\n",
       "      <td>4.531975e+15</td>\n",
       "      <td>4.634670e+15</td>\n",
       "      <td>2.205110e+15</td>\n",
       "      <td>3.333702e+15</td>\n",
       "      <td>6.987336e+14</td>\n",
       "    </tr>\n",
       "  </tbody>\n",
       "</table>\n",
       "</div>"
      ],
      "text/plain": [
       "  Dataset Name         Lasso   Elastic Net    Linear SVM  Decision Tree   \n",
       "0     Just one  4.531975e+15  4.634670e+15  2.205110e+15   3.333702e+15  \\\n",
       "\n",
       "   Random Forest  \n",
       "0   6.987336e+14  "
      ]
     },
     "execution_count": 12,
     "metadata": {},
     "output_type": "execute_result"
    }
   ],
   "source": [
    "MAPE_per_dataset_df"
   ]
  },
  {
   "cell_type": "code",
   "execution_count": 13,
   "metadata": {
    "collapsed": false
   },
   "outputs": [
    {
     "data": {
      "text/html": [
       "\n",
       "<div id=\"altair-viz-3832a9bcfc8e4a3e87258f88059688fb\"></div>\n",
       "<script type=\"text/javascript\">\n",
       "  var VEGA_DEBUG = (typeof VEGA_DEBUG == \"undefined\") ? {} : VEGA_DEBUG;\n",
       "  (function(spec, embedOpt){\n",
       "    let outputDiv = document.currentScript.previousElementSibling;\n",
       "    if (outputDiv.id !== \"altair-viz-3832a9bcfc8e4a3e87258f88059688fb\") {\n",
       "      outputDiv = document.getElementById(\"altair-viz-3832a9bcfc8e4a3e87258f88059688fb\");\n",
       "    }\n",
       "    const paths = {\n",
       "      \"vega\": \"https://cdn.jsdelivr.net/npm//vega@5?noext\",\n",
       "      \"vega-lib\": \"https://cdn.jsdelivr.net/npm//vega-lib?noext\",\n",
       "      \"vega-lite\": \"https://cdn.jsdelivr.net/npm//vega-lite@4.17.0?noext\",\n",
       "      \"vega-embed\": \"https://cdn.jsdelivr.net/npm//vega-embed@6?noext\",\n",
       "    };\n",
       "\n",
       "    function maybeLoadScript(lib, version) {\n",
       "      var key = `${lib.replace(\"-\", \"\")}_version`;\n",
       "      return (VEGA_DEBUG[key] == version) ?\n",
       "        Promise.resolve(paths[lib]) :\n",
       "        new Promise(function(resolve, reject) {\n",
       "          var s = document.createElement('script');\n",
       "          document.getElementsByTagName(\"head\")[0].appendChild(s);\n",
       "          s.async = true;\n",
       "          s.onload = () => {\n",
       "            VEGA_DEBUG[key] = version;\n",
       "            return resolve(paths[lib]);\n",
       "          };\n",
       "          s.onerror = () => reject(`Error loading script: ${paths[lib]}`);\n",
       "          s.src = paths[lib];\n",
       "        });\n",
       "    }\n",
       "\n",
       "    function showError(err) {\n",
       "      outputDiv.innerHTML = `<div class=\"error\" style=\"color:red;\">${err}</div>`;\n",
       "      throw err;\n",
       "    }\n",
       "\n",
       "    function displayChart(vegaEmbed) {\n",
       "      vegaEmbed(outputDiv, spec, embedOpt)\n",
       "        .catch(err => showError(`Javascript Error: ${err.message}<br>This usually means there's a typo in your chart specification. See the javascript console for the full traceback.`));\n",
       "    }\n",
       "\n",
       "    if(typeof define === \"function\" && define.amd) {\n",
       "      requirejs.config({paths});\n",
       "      require([\"vega-embed\"], displayChart, err => showError(`Error loading script: ${err.message}`));\n",
       "    } else {\n",
       "      maybeLoadScript(\"vega\", \"5\")\n",
       "        .then(() => maybeLoadScript(\"vega-lite\", \"4.17.0\"))\n",
       "        .then(() => maybeLoadScript(\"vega-embed\", \"6\"))\n",
       "        .catch(showError)\n",
       "        .then(() => displayChart(vegaEmbed));\n",
       "    }\n",
       "  })({\"config\": {\"view\": {\"continuousWidth\": 400, \"continuousHeight\": 300}}, \"data\": {\"name\": \"data-0d4e8f401cc361347b85f668b8e934f0\"}, \"mark\": \"bar\", \"encoding\": {\"x\": {\"field\": \"Method\", \"type\": \"nominal\"}, \"y\": {\"field\": \"MSE\", \"type\": \"quantitative\"}}, \"height\": 300, \"width\": 300, \"$schema\": \"https://vega.github.io/schema/vega-lite/v4.17.0.json\", \"datasets\": {\"data-0d4e8f401cc361347b85f668b8e934f0\": [{\"Dataset Name\": \"Just one\", \"Method\": \"Lasso\", \"MSE\": 57.27710681677203}, {\"Dataset Name\": \"Just one\", \"Method\": \"Elastic Net\", \"MSE\": 59.650622384609555}, {\"Dataset Name\": \"Just one\", \"Method\": \"Linear SVM\", \"MSE\": 41.548812625960366}, {\"Dataset Name\": \"Just one\", \"Method\": \"Decision Tree\", \"MSE\": 47.17267907194337}, {\"Dataset Name\": \"Just one\", \"Method\": \"Random Forest\", \"MSE\": 8.951413876706148}]}}, {\"mode\": \"vega-lite\"});\n",
       "</script>"
      ],
      "text/plain": [
       "alt.Chart(...)"
      ]
     },
     "execution_count": 13,
     "metadata": {},
     "output_type": "execute_result"
    }
   ],
   "source": [
    "# For plot the MSE, MAE and MAPE in a bar chart for each method\n",
    "alt.Chart(MSE_per_dataset_df).mark_bar().encode(\n",
    "    x='Method',\n",
    "    y='MSE',\n",
    ").properties(\n",
    "    width=300,\n",
    "    height=300\n",
    ")\n",
    "\n"
   ]
  },
  {
   "cell_type": "code",
   "execution_count": null,
   "metadata": {
    "collapsed": false
   },
   "outputs": [],
   "source": []
  }
 ],
 "metadata": {
  "kernelspec": {
   "display_name": "Python 3",
   "language": "python",
   "name": "python3"
  },
  "language_info": {
   "codemirror_mode": {
    "name": "ipython",
    "version": 3
   },
   "file_extension": ".py",
   "mimetype": "text/x-python",
   "name": "python",
   "nbconvert_exporter": "python",
   "pygments_lexer": "ipython3",
   "version": "3.10.10"
  }
 },
 "nbformat": 4,
 "nbformat_minor": 0
}
