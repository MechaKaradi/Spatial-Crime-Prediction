{
 "cells": [
  {
   "cell_type": "markdown",
   "source": [
    "# Machine Learning to predict risk of crimes based on the location, time and presence of trees"
   ],
   "metadata": {
    "collapsed": false
   }
  },
  {
   "cell_type": "code",
   "execution_count": 24,
   "metadata": {
    "collapsed": true
   },
   "outputs": [],
   "source": [
    "# Importing the libraries\n",
    "import numpy as np\n",
    "import matplotlib.pyplot as plt\n",
    "import pandas as pd\n",
    "import altair as alt\n"
   ]
  },
  {
   "cell_type": "code",
   "execution_count": 25,
   "outputs": [
    {
     "data": {
      "text/plain": "   Longitude  Latitude  hour_of_day  day_of_week    F    M  fair_tree_count   \n0     -74.25   40.5004            0            0  0.0  0.0                0  \\\n1     -74.25   40.5004            0            1  0.0  0.0                0   \n2     -74.25   40.5004            0            2  0.0  0.0                0   \n3     -74.25   40.5004            0            3  0.0  0.0                0   \n4     -74.25   40.5004            0            4  0.0  0.0                0   \n\n   good_tree_count  poor_tree_count  \n0                0                0  \n1                0                0  \n2                0                0  \n3                0                0  \n4                0                0  ",
      "text/html": "<div>\n<style scoped>\n    .dataframe tbody tr th:only-of-type {\n        vertical-align: middle;\n    }\n\n    .dataframe tbody tr th {\n        vertical-align: top;\n    }\n\n    .dataframe thead th {\n        text-align: right;\n    }\n</style>\n<table border=\"1\" class=\"dataframe\">\n  <thead>\n    <tr style=\"text-align: right;\">\n      <th></th>\n      <th>Longitude</th>\n      <th>Latitude</th>\n      <th>hour_of_day</th>\n      <th>day_of_week</th>\n      <th>F</th>\n      <th>M</th>\n      <th>fair_tree_count</th>\n      <th>good_tree_count</th>\n      <th>poor_tree_count</th>\n    </tr>\n  </thead>\n  <tbody>\n    <tr>\n      <th>0</th>\n      <td>-74.25</td>\n      <td>40.5004</td>\n      <td>0</td>\n      <td>0</td>\n      <td>0.0</td>\n      <td>0.0</td>\n      <td>0</td>\n      <td>0</td>\n      <td>0</td>\n    </tr>\n    <tr>\n      <th>1</th>\n      <td>-74.25</td>\n      <td>40.5004</td>\n      <td>0</td>\n      <td>1</td>\n      <td>0.0</td>\n      <td>0.0</td>\n      <td>0</td>\n      <td>0</td>\n      <td>0</td>\n    </tr>\n    <tr>\n      <th>2</th>\n      <td>-74.25</td>\n      <td>40.5004</td>\n      <td>0</td>\n      <td>2</td>\n      <td>0.0</td>\n      <td>0.0</td>\n      <td>0</td>\n      <td>0</td>\n      <td>0</td>\n    </tr>\n    <tr>\n      <th>3</th>\n      <td>-74.25</td>\n      <td>40.5004</td>\n      <td>0</td>\n      <td>3</td>\n      <td>0.0</td>\n      <td>0.0</td>\n      <td>0</td>\n      <td>0</td>\n      <td>0</td>\n    </tr>\n    <tr>\n      <th>4</th>\n      <td>-74.25</td>\n      <td>40.5004</td>\n      <td>0</td>\n      <td>4</td>\n      <td>0.0</td>\n      <td>0.0</td>\n      <td>0</td>\n      <td>0</td>\n      <td>0</td>\n    </tr>\n  </tbody>\n</table>\n</div>"
     },
     "execution_count": 25,
     "metadata": {},
     "output_type": "execute_result"
    }
   ],
   "source": [
    "# Importing the dataset from parquet file\n",
    "trees_crimes_people_df = pd.read_parquet('../data/matched_data.parquet')\n",
    "trees_crimes_people_df.head()"
   ],
   "metadata": {
    "collapsed": false
   }
  },
  {
   "cell_type": "markdown",
   "source": [
    "# Dividing the dataset into the feature matrix and the target vector"
   ],
   "metadata": {
    "collapsed": false
   }
  },
  {
   "cell_type": "code",
   "execution_count": 26,
   "outputs": [],
   "source": [
    "# Slide the dataframe and move colums 4 and 5 to df Y. Keep the rest in df X\n",
    "Y = trees_crimes_people_df.iloc[:, 4:5]\n",
    "\n",
    "X = trees_crimes_people_df.iloc[:,[0,1,2,3,6,7,8]]"
   ],
   "metadata": {
    "collapsed": false
   }
  },
  {
   "cell_type": "code",
   "execution_count": 27,
   "outputs": [],
   "source": [
    "from sklearn.model_selection import train_test_split\n",
    "X_train, X_test, Y_train, Y_test = train_test_split(X, Y, test_size = 0.25, random_state = 1337)"
   ],
   "metadata": {
    "collapsed": false
   }
  },
  {
   "cell_type": "markdown",
   "source": [
    "# Baseline: Linear Regression Model"
   ],
   "metadata": {
    "collapsed": false
   }
  },
  {
   "cell_type": "code",
   "execution_count": 28,
   "outputs": [
    {
     "name": "stdout",
     "output_type": "stream",
     "text": [
      "MSE:  6.458328176495186e-08\n",
      "MAE:  0.00010313895539546784\n",
      "MAPE:  234900752643.24362\n"
     ]
    }
   ],
   "source": [
    "from sklearn.linear_model import LinearRegression\n",
    "from sklearn.metrics import mean_squared_error, mean_absolute_error, mean_absolute_percentage_error\n",
    "\n",
    "lr = LinearRegression()\n",
    "lr.fit(X_train, Y_train)\n",
    "Y_pred = lr.predict(X_test)\n",
    "print(\"MSE: \", mean_squared_error(Y_test, Y_pred))\n",
    "print(\"MAE: \", mean_absolute_error(Y_test, Y_pred))\n",
    "print(\"MAPE: \", mean_absolute_percentage_error(Y_test, Y_pred))"
   ],
   "metadata": {
    "collapsed": false
   }
  },
  {
   "cell_type": "code",
   "execution_count": 29,
   "outputs": [
    {
     "data": {
      "text/plain": "<Figure size 640x480 with 1 Axes>",
      "image/png": "[encoded data removed]"
     },
     "metadata": {},
     "output_type": "display_data"
    }
   ],
   "source": [
    "# plot the linear regression model using matplotlib\n",
    "plt.scatter(Y_test, Y_pred)\n",
    "plt.xlabel(\"True Values\")\n",
    "plt.ylabel(\"Predictions\")\n",
    "plt.show()\n"
   ],
   "metadata": {
    "collapsed": false
   }
  },
  {
   "cell_type": "code",
   "execution_count": 30,
   "outputs": [],
   "source": [
    "from sklearn.linear_model import Perceptron, Lasso, ElasticNet\n",
    "from sklearn.svm import SVR\n",
    "from sklearn.tree import DecisionTreeRegressor\n",
    "from sklearn.ensemble import RandomForestRegressor, AdaBoostRegressor\n",
    "from sklearn.neural_network import MLPRegressor\n",
    "from sklearn.neighbors import KNeighborsRegressor\n",
    "\n",
    "\n",
    "names = [\n",
    "    \"Lasso\",\n",
    "    \"Elastic Net\",\n",
    "    \"Linear SVM\",\n",
    "    \"Decision Tree\",\n",
    "    \"Random Forest\",\n",
    "    \"AdaBoost\",\n",
    "    \"Neural Net\",\n",
    "    \"K-Nearest Neighbours\"\n",
    "]\n",
    "\n",
    "regressors = [\n",
    "    Lasso(alpha=0.1),\n",
    "    ElasticNet(random_state=0),\n",
    "    SVR(kernel=\"linear\", C=0.025),\n",
    "    DecisionTreeRegressor(max_depth=5),\n",
    "    RandomForestRegressor(max_depth=5, n_estimators=10, max_features=1),\n",
    "    AdaBoostRegressor(),\n",
    "    MLPRegressor(alpha=1, max_iter=1000),\n",
    "    KNeighborsRegressor(3),\n",
    "]"
   ],
   "metadata": {
    "collapsed": false
   }
  },
  {
   "cell_type": "code",
   "execution_count": 32,
   "outputs": [
    {
     "name": "stdout",
     "output_type": "stream",
     "text": [
      "[INFO] - Categorical technique:  Just one\n",
      "[INFO] - Regressor:  Lasso\n",
      "[INFO] - Regressor:  Elastic Net\n",
      "[INFO] - Regressor:  Linear SVM\n"
     ]
    },
    {
     "name": "stderr",
     "output_type": "stream",
     "text": [
      "C:\\Users\\Kaninik\\anaconda3\\envs\\geo_env\\lib\\site-packages\\sklearn\\utils\\validation.py:1143: DataConversionWarning: A column-vector y was passed when a 1d array was expected. Please change the shape of y to (n_samples, ), for example using ravel().\n",
      "  y = column_or_1d(y, warn=True)\n"
     ]
    },
    {
     "name": "stdout",
     "output_type": "stream",
     "text": [
      "[INFO] - Regressor:  Decision Tree\n",
      "[INFO] - Regressor:  Random Forest\n"
     ]
    },
    {
     "name": "stderr",
     "output_type": "stream",
     "text": [
      "C:\\Users\\Kaninik\\AppData\\Local\\Temp\\ipykernel_14304\\136872568.py:17: DataConversionWarning: A column-vector y was passed when a 1d array was expected. Please change the shape of y to (n_samples,), for example using ravel().\n",
      "  regressor.fit(X_train, Y_train)\n"
     ]
    },
    {
     "name": "stdout",
     "output_type": "stream",
     "text": [
      "[INFO] - Regressor:  AdaBoost\n"
     ]
    },
    {
     "name": "stderr",
     "output_type": "stream",
     "text": [
      "C:\\Users\\Kaninik\\anaconda3\\envs\\geo_env\\lib\\site-packages\\sklearn\\utils\\validation.py:1143: DataConversionWarning: A column-vector y was passed when a 1d array was expected. Please change the shape of y to (n_samples, ), for example using ravel().\n",
      "  y = column_or_1d(y, warn=True)\n"
     ]
    },
    {
     "name": "stdout",
     "output_type": "stream",
     "text": [
      "[INFO] - Regressor:  Neural Net\n"
     ]
    },
    {
     "name": "stderr",
     "output_type": "stream",
     "text": [
      "C:\\Users\\Kaninik\\anaconda3\\envs\\geo_env\\lib\\site-packages\\sklearn\\neural_network\\_multilayer_perceptron.py:1623: DataConversionWarning: A column-vector y was passed when a 1d array was expected. Please change the shape of y to (n_samples, ), for example using ravel().\n",
      "  y = column_or_1d(y, warn=True)\n"
     ]
    },
    {
     "name": "stdout",
     "output_type": "stream",
     "text": [
      "[INFO] - Regressor:  K-Nearest Neighbours\n"
     ]
    }
   ],
   "source": [
    "categorical_technique_list = [\"Just one\"]\n",
    "X_train_list = [X_train]\n",
    "X_test_list = [X_test]\n",
    "\n",
    "MSE_per_dataset_df = pd.DataFrame(columns=[\"Dataset Name\"].append(names))\n",
    "MAE_per_dataset_df = pd.DataFrame(columns=[\"Dataset Name\"].append(names))\n",
    "MAPE_per_dataset_df = pd.DataFrame(columns=[\"Dataset Name\"].append(names))\n",
    "\n",
    "for technique,X_train,X_test in zip(categorical_technique_list,X_train_list,X_test_list):\n",
    "    print(\"[INFO] - Categorical technique: \", technique)\n",
    "    MSE_line = {\"Dataset Name\": technique}\n",
    "    MAE_line = {\"Dataset Name\": technique}\n",
    "    MAPE_line = {\"Dataset Name\": technique}\n",
    "\n",
    "    for regressor,method_name in zip(regressors,names):\n",
    "        print(\"[INFO] - Regressor: \", method_name)\n",
    "        regressor.fit(X_train, Y_train)\n",
    "        Y_pred = regressor.predict(X_test)\n",
    "        MSE_line[method_name] = mean_squared_error(Y_test, Y_pred)\n",
    "        MAE_line[method_name] = mean_absolute_error(Y_test, Y_pred)\n",
    "        MAPE_line[method_name] = mean_absolute_percentage_error(Y_test, Y_pred)\n",
    "\n",
    "    # using pandas concat to append the new line to the dataframe\n",
    "    MSE_per_dataset_df = pd.concat([MSE_per_dataset_df, pd.DataFrame([MSE_line])], ignore_index=True)\n",
    "    MAE_per_dataset_df = pd.concat([MAE_per_dataset_df, pd.DataFrame([MAE_line])], ignore_index=True)\n",
    "    MAPE_per_dataset_df = pd.concat([MAPE_per_dataset_df, pd.DataFrame([MAPE_line])], ignore_index=True)\n"
   ],
   "metadata": {
    "collapsed": false
   }
  },
  {
   "cell_type": "code",
   "execution_count": 42,
   "outputs": [],
   "source": [
    "MSE_per_dataset_df\n",
    "# unpivot the dataframe\n",
    "MSE_per_dataset_df = MSE_per_dataset_df.melt(id_vars=['Dataset Name'], var_name='Method', value_name='MSE')"
   ],
   "metadata": {
    "collapsed": false
   }
  },
  {
   "cell_type": "code",
   "execution_count": 41,
   "outputs": [
    {
     "data": {
      "text/plain": "  Dataset Name                Method       MAE\n0     Just one                 Lasso  0.000104\n1     Just one           Elastic Net  0.000104\n2     Just one            Linear SVM  0.002617\n3     Just one         Decision Tree  0.000100\n4     Just one         Random Forest  0.000103\n5     Just one              AdaBoost  0.000242\n6     Just one            Neural Net  0.000137\n7     Just one  K-Nearest Neighbours  0.000097",
      "text/html": "<div>\n<style scoped>\n    .dataframe tbody tr th:only-of-type {\n        vertical-align: middle;\n    }\n\n    .dataframe tbody tr th {\n        vertical-align: top;\n    }\n\n    .dataframe thead th {\n        text-align: right;\n    }\n</style>\n<table border=\"1\" class=\"dataframe\">\n  <thead>\n    <tr style=\"text-align: right;\">\n      <th></th>\n      <th>Dataset Name</th>\n      <th>Method</th>\n      <th>MAE</th>\n    </tr>\n  </thead>\n  <tbody>\n    <tr>\n      <th>0</th>\n      <td>Just one</td>\n      <td>Lasso</td>\n      <td>0.000104</td>\n    </tr>\n    <tr>\n      <th>1</th>\n      <td>Just one</td>\n      <td>Elastic Net</td>\n      <td>0.000104</td>\n    </tr>\n    <tr>\n      <th>2</th>\n      <td>Just one</td>\n      <td>Linear SVM</td>\n      <td>0.002617</td>\n    </tr>\n    <tr>\n      <th>3</th>\n      <td>Just one</td>\n      <td>Decision Tree</td>\n      <td>0.000100</td>\n    </tr>\n    <tr>\n      <th>4</th>\n      <td>Just one</td>\n      <td>Random Forest</td>\n      <td>0.000103</td>\n    </tr>\n    <tr>\n      <th>5</th>\n      <td>Just one</td>\n      <td>AdaBoost</td>\n      <td>0.000242</td>\n    </tr>\n    <tr>\n      <th>6</th>\n      <td>Just one</td>\n      <td>Neural Net</td>\n      <td>0.000137</td>\n    </tr>\n    <tr>\n      <th>7</th>\n      <td>Just one</td>\n      <td>K-Nearest Neighbours</td>\n      <td>0.000097</td>\n    </tr>\n  </tbody>\n</table>\n</div>"
     },
     "execution_count": 41,
     "metadata": {},
     "output_type": "execute_result"
    }
   ],
   "source": [
    "MAE_per_dataset_df\n",
    "# unpivot the dataframe"
   ],
   "metadata": {
    "collapsed": false
   }
  },
  {
   "cell_type": "code",
   "execution_count": 40,
   "outputs": [
    {
     "ename": "ValueError",
     "evalue": "value_name (MAE) cannot match an element in the DataFrame columns.",
     "output_type": "error",
     "traceback": [
      "\u001B[1;31m---------------------------------------------------------------------------\u001B[0m",
      "\u001B[1;31mValueError\u001B[0m                                Traceback (most recent call last)",
      "Cell \u001B[1;32mIn[40], line 3\u001B[0m\n\u001B[0;32m      1\u001B[0m MAE_per_dataset_df\n\u001B[0;32m      2\u001B[0m \u001B[38;5;66;03m# unpivot the dataframe\u001B[39;00m\n\u001B[1;32m----> 3\u001B[0m MAE_per_dataset_df \u001B[38;5;241m=\u001B[39m \u001B[43mMAE_per_dataset_df\u001B[49m\u001B[38;5;241;43m.\u001B[39;49m\u001B[43mmelt\u001B[49m\u001B[43m(\u001B[49m\u001B[43mid_vars\u001B[49m\u001B[38;5;241;43m=\u001B[39;49m\u001B[43m[\u001B[49m\u001B[38;5;124;43m'\u001B[39;49m\u001B[38;5;124;43mDataset Name\u001B[39;49m\u001B[38;5;124;43m'\u001B[39;49m\u001B[43m]\u001B[49m\u001B[43m,\u001B[49m\u001B[43m \u001B[49m\u001B[43mvar_name\u001B[49m\u001B[38;5;241;43m=\u001B[39;49m\u001B[38;5;124;43m'\u001B[39;49m\u001B[38;5;124;43mMethod\u001B[39;49m\u001B[38;5;124;43m'\u001B[39;49m\u001B[43m,\u001B[49m\u001B[43m \u001B[49m\u001B[43mvalue_name\u001B[49m\u001B[38;5;241;43m=\u001B[39;49m\u001B[38;5;124;43m'\u001B[39;49m\u001B[38;5;124;43mMAE\u001B[39;49m\u001B[38;5;124;43m'\u001B[39;49m\u001B[43m)\u001B[49m\n\u001B[0;32m      4\u001B[0m MAE_per_dataset_df\n",
      "File \u001B[1;32m~\\anaconda3\\envs\\geo_env\\lib\\site-packages\\pandas\\core\\frame.py:8980\u001B[0m, in \u001B[0;36mDataFrame.melt\u001B[1;34m(self, id_vars, value_vars, var_name, value_name, col_level, ignore_index)\u001B[0m\n\u001B[0;32m   8970\u001B[0m \u001B[38;5;129m@Appender\u001B[39m(_shared_docs[\u001B[38;5;124m\"\u001B[39m\u001B[38;5;124mmelt\u001B[39m\u001B[38;5;124m\"\u001B[39m] \u001B[38;5;241m%\u001B[39m {\u001B[38;5;124m\"\u001B[39m\u001B[38;5;124mcaller\u001B[39m\u001B[38;5;124m\"\u001B[39m: \u001B[38;5;124m\"\u001B[39m\u001B[38;5;124mdf.melt(\u001B[39m\u001B[38;5;124m\"\u001B[39m, \u001B[38;5;124m\"\u001B[39m\u001B[38;5;124mother\u001B[39m\u001B[38;5;124m\"\u001B[39m: \u001B[38;5;124m\"\u001B[39m\u001B[38;5;124mmelt\u001B[39m\u001B[38;5;124m\"\u001B[39m})\n\u001B[0;32m   8971\u001B[0m \u001B[38;5;28;01mdef\u001B[39;00m \u001B[38;5;21mmelt\u001B[39m(\n\u001B[0;32m   8972\u001B[0m     \u001B[38;5;28mself\u001B[39m,\n\u001B[1;32m   (...)\u001B[0m\n\u001B[0;32m   8978\u001B[0m     ignore_index: \u001B[38;5;28mbool\u001B[39m \u001B[38;5;241m=\u001B[39m \u001B[38;5;28;01mTrue\u001B[39;00m,\n\u001B[0;32m   8979\u001B[0m ) \u001B[38;5;241m-\u001B[39m\u001B[38;5;241m>\u001B[39m DataFrame:\n\u001B[1;32m-> 8980\u001B[0m     \u001B[38;5;28;01mreturn\u001B[39;00m \u001B[43mmelt\u001B[49m\u001B[43m(\u001B[49m\n\u001B[0;32m   8981\u001B[0m \u001B[43m        \u001B[49m\u001B[38;5;28;43mself\u001B[39;49m\u001B[43m,\u001B[49m\n\u001B[0;32m   8982\u001B[0m \u001B[43m        \u001B[49m\u001B[43mid_vars\u001B[49m\u001B[38;5;241;43m=\u001B[39;49m\u001B[43mid_vars\u001B[49m\u001B[43m,\u001B[49m\n\u001B[0;32m   8983\u001B[0m \u001B[43m        \u001B[49m\u001B[43mvalue_vars\u001B[49m\u001B[38;5;241;43m=\u001B[39;49m\u001B[43mvalue_vars\u001B[49m\u001B[43m,\u001B[49m\n\u001B[0;32m   8984\u001B[0m \u001B[43m        \u001B[49m\u001B[43mvar_name\u001B[49m\u001B[38;5;241;43m=\u001B[39;49m\u001B[43mvar_name\u001B[49m\u001B[43m,\u001B[49m\n\u001B[0;32m   8985\u001B[0m \u001B[43m        \u001B[49m\u001B[43mvalue_name\u001B[49m\u001B[38;5;241;43m=\u001B[39;49m\u001B[43mvalue_name\u001B[49m\u001B[43m,\u001B[49m\n\u001B[0;32m   8986\u001B[0m \u001B[43m        \u001B[49m\u001B[43mcol_level\u001B[49m\u001B[38;5;241;43m=\u001B[39;49m\u001B[43mcol_level\u001B[49m\u001B[43m,\u001B[49m\n\u001B[0;32m   8987\u001B[0m \u001B[43m        \u001B[49m\u001B[43mignore_index\u001B[49m\u001B[38;5;241;43m=\u001B[39;49m\u001B[43mignore_index\u001B[49m\u001B[43m,\u001B[49m\n\u001B[0;32m   8988\u001B[0m \u001B[43m    \u001B[49m\u001B[43m)\u001B[49m\u001B[38;5;241m.\u001B[39m__finalize__(\u001B[38;5;28mself\u001B[39m, method\u001B[38;5;241m=\u001B[39m\u001B[38;5;124m\"\u001B[39m\u001B[38;5;124mmelt\u001B[39m\u001B[38;5;124m\"\u001B[39m)\n",
      "File \u001B[1;32m~\\anaconda3\\envs\\geo_env\\lib\\site-packages\\pandas\\core\\reshape\\melt.py:56\u001B[0m, in \u001B[0;36mmelt\u001B[1;34m(frame, id_vars, value_vars, var_name, value_name, col_level, ignore_index)\u001B[0m\n\u001B[0;32m     53\u001B[0m     cols \u001B[38;5;241m=\u001B[39m \u001B[38;5;28mlist\u001B[39m(frame\u001B[38;5;241m.\u001B[39mcolumns)\n\u001B[0;32m     55\u001B[0m \u001B[38;5;28;01mif\u001B[39;00m value_name \u001B[38;5;129;01min\u001B[39;00m frame\u001B[38;5;241m.\u001B[39mcolumns:\n\u001B[1;32m---> 56\u001B[0m     \u001B[38;5;28;01mraise\u001B[39;00m \u001B[38;5;167;01mValueError\u001B[39;00m(\n\u001B[0;32m     57\u001B[0m         \u001B[38;5;124mf\u001B[39m\u001B[38;5;124m\"\u001B[39m\u001B[38;5;124mvalue_name (\u001B[39m\u001B[38;5;132;01m{\u001B[39;00mvalue_name\u001B[38;5;132;01m}\u001B[39;00m\u001B[38;5;124m) cannot match an element in \u001B[39m\u001B[38;5;124m\"\u001B[39m\n\u001B[0;32m     58\u001B[0m         \u001B[38;5;124m\"\u001B[39m\u001B[38;5;124mthe DataFrame columns.\u001B[39m\u001B[38;5;124m\"\u001B[39m\n\u001B[0;32m     59\u001B[0m     )\n\u001B[0;32m     61\u001B[0m \u001B[38;5;28;01mif\u001B[39;00m id_vars \u001B[38;5;129;01mis\u001B[39;00m \u001B[38;5;129;01mnot\u001B[39;00m \u001B[38;5;28;01mNone\u001B[39;00m:\n\u001B[0;32m     62\u001B[0m     \u001B[38;5;28;01mif\u001B[39;00m \u001B[38;5;129;01mnot\u001B[39;00m is_list_like(id_vars):\n",
      "\u001B[1;31mValueError\u001B[0m: value_name (MAE) cannot match an element in the DataFrame columns."
     ]
    }
   ],
   "source": [
    "MAE_per_dataset_df = MAE_per_dataset_df.melt(id_vars=['Dataset Name'], var_name='Method', value_name='MAE')\n",
    "MAE_per_dataset_df"
   ],
   "metadata": {
    "collapsed": false
   }
  },
  {
   "cell_type": "code",
   "execution_count": 35,
   "outputs": [
    {
     "data": {
      "text/plain": "  Dataset Name         Lasso   Elastic Net    Linear SVM  Decision Tree   \n0     Just one  2.370828e+11  2.370828e+11  1.146601e+13   2.269073e+11  \\\n\n   Random Forest      AdaBoost    Neural Net  K-Nearest Neighbours  \n0   2.338765e+11  9.185216e+11  3.913460e+11          2.215423e+11  ",
      "text/html": "<div>\n<style scoped>\n    .dataframe tbody tr th:only-of-type {\n        vertical-align: middle;\n    }\n\n    .dataframe tbody tr th {\n        vertical-align: top;\n    }\n\n    .dataframe thead th {\n        text-align: right;\n    }\n</style>\n<table border=\"1\" class=\"dataframe\">\n  <thead>\n    <tr style=\"text-align: right;\">\n      <th></th>\n      <th>Dataset Name</th>\n      <th>Lasso</th>\n      <th>Elastic Net</th>\n      <th>Linear SVM</th>\n      <th>Decision Tree</th>\n      <th>Random Forest</th>\n      <th>AdaBoost</th>\n      <th>Neural Net</th>\n      <th>K-Nearest Neighbours</th>\n    </tr>\n  </thead>\n  <tbody>\n    <tr>\n      <th>0</th>\n      <td>Just one</td>\n      <td>2.370828e+11</td>\n      <td>2.370828e+11</td>\n      <td>1.146601e+13</td>\n      <td>2.269073e+11</td>\n      <td>2.338765e+11</td>\n      <td>9.185216e+11</td>\n      <td>3.913460e+11</td>\n      <td>2.215423e+11</td>\n    </tr>\n  </tbody>\n</table>\n</div>"
     },
     "execution_count": 35,
     "metadata": {},
     "output_type": "execute_result"
    }
   ],
   "source": [
    "MAPE_per_dataset_df"
   ],
   "metadata": {
    "collapsed": false
   }
  },
  {
   "cell_type": "code",
   "execution_count": 44,
   "outputs": [
    {
     "data": {
      "text/html": "\n<div id=\"altair-viz-bf1b9fd7472a457e88379e0d96b87e88\"></div>\n<script type=\"text/javascript\">\n  var VEGA_DEBUG = (typeof VEGA_DEBUG == \"undefined\") ? {} : VEGA_DEBUG;\n  (function(spec, embedOpt){\n    let outputDiv = document.currentScript.previousElementSibling;\n    if (outputDiv.id !== \"altair-viz-bf1b9fd7472a457e88379e0d96b87e88\") {\n      outputDiv = document.getElementById(\"altair-viz-bf1b9fd7472a457e88379e0d96b87e88\");\n    }\n    const paths = {\n      \"vega\": \"https://cdn.jsdelivr.net/npm//vega@5?noext\",\n      \"vega-lib\": \"https://cdn.jsdelivr.net/npm//vega-lib?noext\",\n      \"vega-lite\": \"https://cdn.jsdelivr.net/npm//vega-lite@4.17.0?noext\",\n      \"vega-embed\": \"https://cdn.jsdelivr.net/npm//vega-embed@6?noext\",\n    };\n\n    function maybeLoadScript(lib, version) {\n      var key = `${lib.replace(\"-\", \"\")}_version`;\n      return (VEGA_DEBUG[key] == version) ?\n        Promise.resolve(paths[lib]) :\n        new Promise(function(resolve, reject) {\n          var s = document.createElement('script');\n          document.getElementsByTagName(\"head\")[0].appendChild(s);\n          s.async = true;\n          s.onload = () => {\n            VEGA_DEBUG[key] = version;\n            return resolve(paths[lib]);\n          };\n          s.onerror = () => reject(`Error loading script: ${paths[lib]}`);\n          s.src = paths[lib];\n        });\n    }\n\n    function showError(err) {\n      outputDiv.innerHTML = `<div class=\"error\" style=\"color:red;\">${err}</div>`;\n      throw err;\n    }\n\n    function displayChart(vegaEmbed) {\n      vegaEmbed(outputDiv, spec, embedOpt)\n        .catch(err => showError(`Javascript Error: ${err.message}<br>This usually means there's a typo in your chart specification. See the javascript console for the full traceback.`));\n    }\n\n    if(typeof define === \"function\" && define.amd) {\n      requirejs.config({paths});\n      require([\"vega-embed\"], displayChart, err => showError(`Error loading script: ${err.message}`));\n    } else {\n      maybeLoadScript(\"vega\", \"5\")\n        .then(() => maybeLoadScript(\"vega-lite\", \"4.17.0\"))\n        .then(() => maybeLoadScript(\"vega-embed\", \"6\"))\n        .catch(showError)\n        .then(() => displayChart(vegaEmbed));\n    }\n  })({\"config\": {\"view\": {\"continuousWidth\": 400, \"continuousHeight\": 300}}, \"data\": {\"name\": \"data-003a3b0b671f719c39bcb45162f1ddb4\"}, \"mark\": \"bar\", \"encoding\": {\"x\": {\"field\": \"Method\", \"type\": \"nominal\"}, \"y\": {\"field\": \"MSE\", \"type\": \"quantitative\"}}, \"height\": 300, \"width\": 300, \"$schema\": \"https://vega.github.io/schema/vega-lite/v4.17.0.json\", \"datasets\": {\"data-003a3b0b671f719c39bcb45162f1ddb4\": [{\"Dataset Name\": \"Just one\", \"Method\": \"Lasso\", \"MSE\": 6.541001813299033e-08}, {\"Dataset Name\": \"Just one\", \"Method\": \"Elastic Net\", \"MSE\": 6.541001813299033e-08}, {\"Dataset Name\": \"Just one\", \"Method\": \"Linear SVM\", \"MSE\": 6.912260025462786e-06}, {\"Dataset Name\": \"Just one\", \"Method\": \"Decision Tree\", \"MSE\": 6.281370788456834e-08}, {\"Dataset Name\": \"Just one\", \"Method\": \"Random Forest\", \"MSE\": 6.403297878416958e-08}, {\"Dataset Name\": \"Just one\", \"Method\": \"AdaBoost\", \"MSE\": 1.0457683294986039e-07}, {\"Dataset Name\": \"Just one\", \"Method\": \"Neural Net\", \"MSE\": 6.676857044818657e-08}, {\"Dataset Name\": \"Just one\", \"Method\": \"K-Nearest Neighbours\", \"MSE\": 8.067552262840972e-08}]}}, {\"mode\": \"vega-lite\"});\n</script>",
      "text/plain": "alt.Chart(...)"
     },
     "execution_count": 44,
     "metadata": {},
     "output_type": "execute_result"
    }
   ],
   "source": [
    "# For plot the MSE, MAE and MAPE in a bar chart for each method\n",
    "alt.Chart(MSE_per_dataset_df).mark_bar().encode(\n",
    "    x='Method',\n",
    "    y='MSE',\n",
    ").properties(\n",
    "    width=300,\n",
    "    height=300\n",
    ")\n",
    "\n"
   ],
   "metadata": {
    "collapsed": false
   }
  },
  {
   "cell_type": "code",
   "execution_count": null,
   "outputs": [],
   "source": [],
   "metadata": {
    "collapsed": false
   }
  }
 ],
 "metadata": {
  "kernelspec": {
   "display_name": "Python 3",
   "language": "python",
   "name": "python3"
  },
  "language_info": {
   "codemirror_mode": {
    "name": "ipython",
    "version": 2
   },
   "file_extension": ".py",
   "mimetype": "text/x-python",
   "name": "python",
   "nbconvert_exporter": "python",
   "pygments_lexer": "ipython2",
   "version": "2.7.6"
  }
 },
 "nbformat": 4,
 "nbformat_minor": 0
}
