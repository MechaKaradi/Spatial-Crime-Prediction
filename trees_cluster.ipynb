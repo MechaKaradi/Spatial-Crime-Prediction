{
 "cells": [
  {
   "cell_type": "code",
   "execution_count": 3,
   "metadata": {},
   "outputs": [],
   "source": [
    "import geopandas as gpd\n",
    "import altair as alt\n",
    "import pandas as pd\n",
    "\n",
    "import numpy as np\n",
    "from sklearn.cluster import DBSCAN\n",
    "from sklearn.preprocessing import StandardScaler\n",
    "import matplotlib.pyplot as plt\n",
    "import seaborn as sns\n",
    "from sklearn.neighbors import DistanceMetric"
   ]
  },
  {
   "cell_type": "code",
   "execution_count": 4,
   "metadata": {},
   "outputs": [],
   "source": [
    "# precint_footprint = gpd.read_file('..//data//Police Precincts.geojson')\n",
    "\n",
    "trees = gpd.read_file('..//data//2015 Street Tree Census - Tree Data.geojson')\n"
   ]
  },
  {
   "cell_type": "code",
   "execution_count": 5,
   "outputs": [],
   "source": [
    "\n",
    "# Preprocess data\n",
    "trees = trees[['longitude', 'latitude']]\n",
    "\n",
    "# Feature scaling\n",
    "scaler = StandardScaler()\n",
    "trees_scaled = scaler.fit_transform(trees)\n",
    "\n",
    "# Apply clustering algorithm\n",
    "db = DBSCAN(eps=0.0001, min_samples=2, metric='euclidean')\n",
    "db.fit(trees_scaled)\n",
    "labels = db.labels_"
   ],
   "metadata": {
    "collapsed": false
   }
  },
  {
   "cell_type": "code",
   "execution_count": null,
   "outputs": [],
   "source": [
    "# Visualize the results\n",
    "sns.scatterplot(x='longitude', y='latitude', hue=labels, data=trees)\n",
    "plt.title('Tree Clusters')\n",
    "plt.show()"
   ],
   "metadata": {
    "collapsed": false
   }
  }
 ],
 "metadata": {
  "kernelspec": {
   "display_name": "geo_env",
   "language": "python",
   "name": "python3"
  },
  "language_info": {
   "codemirror_mode": {
    "name": "ipython",
    "version": 3
   },
   "file_extension": ".py",
   "mimetype": "text/x-python",
   "name": "python",
   "nbconvert_exporter": "python",
   "pygments_lexer": "ipython3",
   "version": "3.11.0"
  },
  "orig_nbformat": 4
 },
 "nbformat": 4,
 "nbformat_minor": 2
}
