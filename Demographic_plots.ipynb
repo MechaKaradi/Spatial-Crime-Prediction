{
 "cells": [
  {
   "cell_type": "code",
   "execution_count": 36,
   "metadata": {},
   "outputs": [],
   "source": [
    "import pandas\n",
    "import seaborn as sns\n",
    "import matplotlib.pyplot as plt"
   ]
  },
  {
   "cell_type": "code",
   "execution_count": 9,
   "metadata": {},
   "outputs": [
    {
     "name": "stderr",
     "output_type": "stream",
     "text": [
      "C:\\Users\\Kelvi\\anaconda3\\lib\\site-packages\\IPython\\core\\interactiveshell.py:3071: DtypeWarning: Columns (18,20) have mixed types.Specify dtype option on import or set low_memory=False.\n",
      "  has_raised = await self.run_ast_nodes(code_ast.body, cell_name,\n"
     ]
    },
    {
     "data": {
      "text/plain": [
       "pandas.core.frame.DataFrame"
      ]
     },
     "execution_count": 9,
     "metadata": {},
     "output_type": "execute_result"
    }
   ],
   "source": [
    "data = pandas.read_csv(\"NYPD_Complaint_Data_Historic.csv\")\n",
    "type(data)"
   ]
  },
  {
   "cell_type": "code",
   "execution_count": 5,
   "metadata": {},
   "outputs": [
    {
     "name": "stdout",
     "output_type": "stream",
     "text": [
      "<class 'pandas.core.frame.DataFrame'>\n",
      "RangeIndex: 7825499 entries, 0 to 7825498\n",
      "Data columns (total 35 columns):\n",
      " #   Column             Dtype  \n",
      "---  ------             -----  \n",
      " 0   CMPLNT_NUM         int64  \n",
      " 1   CMPLNT_FR_DT       object \n",
      " 2   CMPLNT_FR_TM       object \n",
      " 3   CMPLNT_TO_DT       object \n",
      " 4   CMPLNT_TO_TM       object \n",
      " 5   ADDR_PCT_CD        float64\n",
      " 6   RPT_DT             object \n",
      " 7   KY_CD              int64  \n",
      " 8   OFNS_DESC          object \n",
      " 9   PD_CD              float64\n",
      " 10  PD_DESC            object \n",
      " 11  CRM_ATPT_CPTD_CD   object \n",
      " 12  LAW_CAT_CD         object \n",
      " 13  BORO_NM            object \n",
      " 14  LOC_OF_OCCUR_DESC  object \n",
      " 15  PREM_TYP_DESC      object \n",
      " 16  JURIS_DESC         object \n",
      " 17  JURISDICTION_CODE  float64\n",
      " 18  PARKS_NM           object \n",
      " 19  HADEVELOPT         object \n",
      " 20  HOUSING_PSA        object \n",
      " 21  X_COORD_CD         float64\n",
      " 22  Y_COORD_CD         float64\n",
      " 23  SUSP_AGE_GROUP     object \n",
      " 24  SUSP_RACE          object \n",
      " 25  SUSP_SEX           object \n",
      " 26  TRANSIT_DISTRICT   float64\n",
      " 27  Latitude           float64\n",
      " 28  Longitude          float64\n",
      " 29  Lat_Lon            object \n",
      " 30  PATROL_BORO        object \n",
      " 31  STATION_NAME       object \n",
      " 32  VIC_AGE_GROUP      object \n",
      " 33  VIC_RACE           object \n",
      " 34  VIC_SEX            object \n",
      "dtypes: float64(8), int64(2), object(25)\n",
      "memory usage: 2.0+ GB\n"
     ]
    },
    {
     "data": {
      "text/html": [
       "<div>\n",
       "<style scoped>\n",
       "    .dataframe tbody tr th:only-of-type {\n",
       "        vertical-align: middle;\n",
       "    }\n",
       "\n",
       "    .dataframe tbody tr th {\n",
       "        vertical-align: top;\n",
       "    }\n",
       "\n",
       "    .dataframe thead th {\n",
       "        text-align: right;\n",
       "    }\n",
       "</style>\n",
       "<table border=\"1\" class=\"dataframe\">\n",
       "  <thead>\n",
       "    <tr style=\"text-align: right;\">\n",
       "      <th></th>\n",
       "      <th>CMPLNT_NUM</th>\n",
       "      <th>ADDR_PCT_CD</th>\n",
       "      <th>KY_CD</th>\n",
       "      <th>PD_CD</th>\n",
       "      <th>JURISDICTION_CODE</th>\n",
       "      <th>X_COORD_CD</th>\n",
       "      <th>Y_COORD_CD</th>\n",
       "      <th>TRANSIT_DISTRICT</th>\n",
       "      <th>Latitude</th>\n",
       "      <th>Longitude</th>\n",
       "    </tr>\n",
       "  </thead>\n",
       "  <tbody>\n",
       "    <tr>\n",
       "      <th>count</th>\n",
       "      <td>7.825499e+06</td>\n",
       "      <td>7.823333e+06</td>\n",
       "      <td>7.825499e+06</td>\n",
       "      <td>7.818738e+06</td>\n",
       "      <td>7.818738e+06</td>\n",
       "      <td>7.808160e+06</td>\n",
       "      <td>7.808160e+06</td>\n",
       "      <td>172475.000000</td>\n",
       "      <td>7.808160e+06</td>\n",
       "      <td>7.808160e+06</td>\n",
       "    </tr>\n",
       "    <tr>\n",
       "      <th>mean</th>\n",
       "      <td>5.500321e+08</td>\n",
       "      <td>6.334306e+01</td>\n",
       "      <td>2.968756e+02</td>\n",
       "      <td>4.126822e+02</td>\n",
       "      <td>7.088369e-01</td>\n",
       "      <td>1.004886e+06</td>\n",
       "      <td>2.071330e+05</td>\n",
       "      <td>13.605833</td>\n",
       "      <td>4.073517e+01</td>\n",
       "      <td>-7.392551e+01</td>\n",
       "    </tr>\n",
       "    <tr>\n",
       "      <th>std</th>\n",
       "      <td>2.597822e+08</td>\n",
       "      <td>3.450825e+01</td>\n",
       "      <td>1.511127e+02</td>\n",
       "      <td>2.176568e+02</td>\n",
       "      <td>6.648380e+00</td>\n",
       "      <td>2.169996e+04</td>\n",
       "      <td>3.139557e+04</td>\n",
       "      <td>12.475836</td>\n",
       "      <td>8.609054e-02</td>\n",
       "      <td>7.825796e-02</td>\n",
       "    </tr>\n",
       "    <tr>\n",
       "      <th>min</th>\n",
       "      <td>1.000001e+08</td>\n",
       "      <td>1.000000e+00</td>\n",
       "      <td>1.010000e+02</td>\n",
       "      <td>1.000000e+02</td>\n",
       "      <td>0.000000e+00</td>\n",
       "      <td>1.110000e+02</td>\n",
       "      <td>1.110000e+02</td>\n",
       "      <td>1.000000</td>\n",
       "      <td>4.011271e+01</td>\n",
       "      <td>-7.751921e+01</td>\n",
       "    </tr>\n",
       "    <tr>\n",
       "      <th>25%</th>\n",
       "      <td>3.250977e+08</td>\n",
       "      <td>4.000000e+01</td>\n",
       "      <td>1.170000e+02</td>\n",
       "      <td>2.540000e+02</td>\n",
       "      <td>0.000000e+00</td>\n",
       "      <td>9.917690e+05</td>\n",
       "      <td>1.844240e+05</td>\n",
       "      <td>3.000000</td>\n",
       "      <td>4.067280e+01</td>\n",
       "      <td>-7.397287e+01</td>\n",
       "    </tr>\n",
       "    <tr>\n",
       "      <th>50%</th>\n",
       "      <td>5.500406e+08</td>\n",
       "      <td>6.300000e+01</td>\n",
       "      <td>3.410000e+02</td>\n",
       "      <td>3.800000e+02</td>\n",
       "      <td>0.000000e+00</td>\n",
       "      <td>1.004419e+06</td>\n",
       "      <td>2.061090e+05</td>\n",
       "      <td>11.000000</td>\n",
       "      <td>4.073236e+01</td>\n",
       "      <td>-7.392721e+01</td>\n",
       "    </tr>\n",
       "    <tr>\n",
       "      <th>75%</th>\n",
       "      <td>7.750019e+08</td>\n",
       "      <td>9.400000e+01</td>\n",
       "      <td>3.510000e+02</td>\n",
       "      <td>6.370000e+02</td>\n",
       "      <td>0.000000e+00</td>\n",
       "      <td>1.016689e+06</td>\n",
       "      <td>2.351720e+05</td>\n",
       "      <td>30.000000</td>\n",
       "      <td>4.081215e+01</td>\n",
       "      <td>-7.388291e+01</td>\n",
       "    </tr>\n",
       "    <tr>\n",
       "      <th>max</th>\n",
       "      <td>9.999999e+08</td>\n",
       "      <td>1.230000e+02</td>\n",
       "      <td>8.810000e+02</td>\n",
       "      <td>9.750000e+02</td>\n",
       "      <td>9.700000e+01</td>\n",
       "      <td>1.067298e+06</td>\n",
       "      <td>7.250292e+06</td>\n",
       "      <td>34.000000</td>\n",
       "      <td>5.965727e+01</td>\n",
       "      <td>-7.368479e+01</td>\n",
       "    </tr>\n",
       "  </tbody>\n",
       "</table>\n",
       "</div>"
      ],
      "text/plain": [
       "         CMPLNT_NUM   ADDR_PCT_CD         KY_CD         PD_CD  \\\n",
       "count  7.825499e+06  7.823333e+06  7.825499e+06  7.818738e+06   \n",
       "mean   5.500321e+08  6.334306e+01  2.968756e+02  4.126822e+02   \n",
       "std    2.597822e+08  3.450825e+01  1.511127e+02  2.176568e+02   \n",
       "min    1.000001e+08  1.000000e+00  1.010000e+02  1.000000e+02   \n",
       "25%    3.250977e+08  4.000000e+01  1.170000e+02  2.540000e+02   \n",
       "50%    5.500406e+08  6.300000e+01  3.410000e+02  3.800000e+02   \n",
       "75%    7.750019e+08  9.400000e+01  3.510000e+02  6.370000e+02   \n",
       "max    9.999999e+08  1.230000e+02  8.810000e+02  9.750000e+02   \n",
       "\n",
       "       JURISDICTION_CODE    X_COORD_CD    Y_COORD_CD  TRANSIT_DISTRICT  \\\n",
       "count       7.818738e+06  7.808160e+06  7.808160e+06     172475.000000   \n",
       "mean        7.088369e-01  1.004886e+06  2.071330e+05         13.605833   \n",
       "std         6.648380e+00  2.169996e+04  3.139557e+04         12.475836   \n",
       "min         0.000000e+00  1.110000e+02  1.110000e+02          1.000000   \n",
       "25%         0.000000e+00  9.917690e+05  1.844240e+05          3.000000   \n",
       "50%         0.000000e+00  1.004419e+06  2.061090e+05         11.000000   \n",
       "75%         0.000000e+00  1.016689e+06  2.351720e+05         30.000000   \n",
       "max         9.700000e+01  1.067298e+06  7.250292e+06         34.000000   \n",
       "\n",
       "           Latitude     Longitude  \n",
       "count  7.808160e+06  7.808160e+06  \n",
       "mean   4.073517e+01 -7.392551e+01  \n",
       "std    8.609054e-02  7.825796e-02  \n",
       "min    4.011271e+01 -7.751921e+01  \n",
       "25%    4.067280e+01 -7.397287e+01  \n",
       "50%    4.073236e+01 -7.392721e+01  \n",
       "75%    4.081215e+01 -7.388291e+01  \n",
       "max    5.965727e+01 -7.368479e+01  "
      ]
     },
     "execution_count": 5,
     "metadata": {},
     "output_type": "execute_result"
    }
   ],
   "source": [
    "data.info()\n",
    "data.describe()"
   ]
  },
  {
   "cell_type": "code",
   "execution_count": 6,
   "metadata": {},
   "outputs": [],
   "source": [
    "def make_categorical(dataframe, column):\n",
    "    # make the column of the dataframe categorical\n",
    "    dataframe[column] = dataframe[column].astype('category')\n",
    "\n",
    "# get a lst of all the columns in the dataframe\n",
    "columns = ['ADDR_PCT_CD', 'BORO_NM', 'CRM_ATPT_CPTD_CD', 'HADEVELOPT', 'HOUSING_PSA', 'JURISDICTION_CODE', 'JURIS_DESC', 'KY_CD', 'LAW_CAT_CD', 'LOC_OF_OCCUR_DESC', 'OFNS_DESC', 'PARKS_NM', 'PATROL_BORO', 'PD_CD', 'PD_DESC', 'RPT_DT', 'STATION_NAME', 'SUSP_AGE_GROUP', 'SUSP_RACE', 'SUSP_SEX', 'TRANSIT_DISTRICT', 'VIC_AGE_GROUP', 'VIC_RACE', 'VIC_SEX']\n",
    "\n",
    "    # make each column categorical\n",
    "for column in columns:\n",
    "    make_categorical(data, column)\n"
   ]
  },
  {
   "cell_type": "code",
   "execution_count": 73,
   "metadata": {},
   "outputs": [
    {
     "data": {
      "text/plain": [
       "<matplotlib.axes._subplots.AxesSubplot at 0x1f2f4432e20>"
      ]
     },
     "execution_count": 73,
     "metadata": {},
     "output_type": "execute_result"
    },
    {
     "data": {
      "image/png": "[encoded data removed]",
      "text/plain": [
       "<Figure size 432x288 with 1 Axes>"
      ]
     },
     "metadata": {},
     "output_type": "display_data"
    }
   ],
   "source": [
    "sns.set()\n",
    "plt.title(\"Distribution of Victim Race\")\n",
    "\n",
    "data['VIC_RACE'].value_counts().plot(kind = 'bar')"
   ]
  },
  {
   "cell_type": "code",
   "execution_count": 51,
   "metadata": {},
   "outputs": [
    {
     "data": {
      "text/plain": [
       "F    3068309\n",
       "M    2593114\n",
       "E    1188435\n",
       "D     975329\n",
       "U          4\n",
       "Name: VIC_SEX, dtype: int64"
      ]
     },
     "execution_count": 51,
     "metadata": {},
     "output_type": "execute_result"
    },
    {
     "data": {
      "image/png": "[encoded data removed]",
      "text/plain": [
       "<Figure size 432x288 with 1 Axes>"
      ]
     },
     "metadata": {},
     "output_type": "display_data"
    }
   ],
   "source": [
    "sns.set()\n",
    "plt.title(\"Distribution of Victim Sex\")\n",
    "\n",
    "data['VIC_SEX'].value_counts().plot(kind = 'bar')\n",
    "\n",
    "data['VIC_SEX'].value_counts()"
   ]
  },
  {
   "cell_type": "code",
   "execution_count": 52,
   "metadata": {},
   "outputs": [
    {
     "data": {
      "text/plain": [
       "<matplotlib.axes._subplots.AxesSubplot at 0x18a1a17d910>"
      ]
     },
     "execution_count": 52,
     "metadata": {},
     "output_type": "execute_result"
    },
    {
     "data": {
      "image/png": "[encoded data removed]",
      "text/plain": [
       "<Figure size 432x288 with 1 Axes>"
      ]
     },
     "metadata": {},
     "output_type": "display_data"
    }
   ],
   "source": [
    "sns.set()\n",
    "plt.title(\"Distribution of Victim Age Group\")\n",
    "\n",
    "data['VIC_AGE_GROUP'].value_counts().plot(kind = 'bar')"
   ]
  },
  {
   "cell_type": "code",
   "execution_count": 49,
   "metadata": {},
   "outputs": [
    {
     "data": {
      "text/plain": [
       "<matplotlib.axes._subplots.AxesSubplot at 0x18a1baa6d90>"
      ]
     },
     "execution_count": 49,
     "metadata": {},
     "output_type": "execute_result"
    },
    {
     "data": {
      "image/png": "[encoded data removed]",
      "text/plain": [
       "<Figure size 432x288 with 1 Axes>"
      ]
     },
     "metadata": {},
     "output_type": "display_data"
    }
   ],
   "source": [
    "sns.set()\n",
    "plt.title(\"Distribution of Suspect Race\")\n",
    "\n",
    "data['SUSP_RACE'].value_counts().plot(kind = 'bar')"
   ]
  },
  {
   "cell_type": "code",
   "execution_count": 50,
   "metadata": {},
   "outputs": [
    {
     "data": {
      "text/plain": [
       "<matplotlib.axes._subplots.AxesSubplot at 0x18a1be11580>"
      ]
     },
     "execution_count": 50,
     "metadata": {},
     "output_type": "execute_result"
    },
    {
     "data": {
      "image/png": "[encoded data removed]",
      "text/plain": [
       "<Figure size 432x288 with 1 Axes>"
      ]
     },
     "metadata": {},
     "output_type": "display_data"
    }
   ],
   "source": [
    "sns.set()\n",
    "plt.title(\"Distribution of Suspect Sex\")\n",
    "\n",
    "data['SUSP_SEX'].value_counts().plot(kind = 'bar')"
   ]
  },
  {
   "cell_type": "code",
   "execution_count": 52,
   "metadata": {},
   "outputs": [
    {
     "name": "stdout",
     "output_type": "stream",
     "text": [
      "         CMPLNT_NUM CMPLNT_FR_DT CMPLNT_FR_TM CMPLNT_TO_DT CMPLNT_TO_TM  \\\n",
      "0         506547392   03/29/2018     20:30:00          NaN          NaN   \n",
      "1         629632833   02/06/2018     23:15:00          NaN          NaN   \n",
      "2         787203902   11/21/2018     00:15:00   11/21/2018     00:20:00   \n",
      "3         280364018   06/09/2018     21:42:00   06/09/2018     21:43:00   \n",
      "4         985800320   11/10/2018     19:40:00   11/10/2018     19:45:00   \n",
      "...             ...          ...          ...          ...          ...   \n",
      "7825494   104527061   05/01/2008     18:55:00   05/01/2018     19:00:00   \n",
      "7825495   284201488   05/18/2018     14:50:00   05/18/2018     14:55:00   \n",
      "7825496   808565901   11/19/2018     02:25:00   11/19/2018     02:30:00   \n",
      "7825497   649441648   02/03/2018     10:02:00   02/03/2018     12:15:00   \n",
      "7825498   803166404   01/05/2018     14:40:00   01/05/2018     16:00:00   \n",
      "\n",
      "         ADDR_PCT_CD      RPT_DT  KY_CD                       OFNS_DESC  \\\n",
      "0               32.0  03/30/2018    351  CRIMINAL MISCHIEF & RELATED OF   \n",
      "1               52.0  02/07/2018    341                   PETIT LARCENY   \n",
      "2               75.0  11/21/2018    341                   PETIT LARCENY   \n",
      "3               10.0  06/10/2018    361   OFF. AGNST PUB ORD SENSBLTY &   \n",
      "4               19.0  11/10/2018    341                   PETIT LARCENY   \n",
      "...              ...         ...    ...                             ...   \n",
      "7825494         10.0  05/01/2018    235                 DANGEROUS DRUGS   \n",
      "7825495        122.0  05/22/2018    344    ASSAULT 3 & RELATED OFFENSES   \n",
      "7825496        110.0  11/19/2018    109                   GRAND LARCENY   \n",
      "7825497        122.0  02/03/2018    578                   HARRASSMENT 2   \n",
      "7825498         79.0  01/08/2018    233                      SEX CRIMES   \n",
      "\n",
      "         PD_CD  ... TRANSIT_DISTRICT   Latitude  Longitude  \\\n",
      "0        254.0  ...              NaN  40.810877 -73.941064   \n",
      "1        333.0  ...              NaN  40.873671 -73.908014   \n",
      "2        321.0  ...              NaN  40.651782 -73.885457   \n",
      "3        639.0  ...              NaN  40.759310 -73.994706   \n",
      "4        333.0  ...              NaN  40.764536 -73.970728   \n",
      "...        ...  ...              ...        ...        ...   \n",
      "7825494  511.0  ...              NaN  40.756788 -73.996540   \n",
      "7825495  101.0  ...              NaN  40.577953 -74.102317   \n",
      "7825496  421.0  ...              NaN  40.743188 -73.862427   \n",
      "7825497  638.0  ...              NaN  40.593665 -74.089000   \n",
      "7825498  175.0  ...              NaN  40.688872 -73.944529   \n",
      "\n",
      "                               Lat_Lon                PATROL_BORO  \\\n",
      "0        (40.810877241, -73.941064151)      PATROL BORO MAN NORTH   \n",
      "1        (40.873671035, -73.908013649)          PATROL BORO BRONX   \n",
      "2        (40.651782232, -73.885456761)    PATROL BORO BKLYN NORTH   \n",
      "3        (40.759310399, -73.994706072)      PATROL BORO MAN SOUTH   \n",
      "4        (40.764535539, -73.970728388)      PATROL BORO MAN NORTH   \n",
      "...                                ...                        ...   \n",
      "7825494  (40.756788048, -73.996539912)      PATROL BORO MAN SOUTH   \n",
      "7825495  (40.577953265, -74.102316756)  PATROL BORO STATEN ISLAND   \n",
      "7825496  (40.743188053, -73.862427079)   PATROL BORO QUEENS NORTH   \n",
      "7825497  (40.593664627, -74.089000194)  PATROL BORO STATEN ISLAND   \n",
      "7825498  (40.688872153, -73.944529032)    PATROL BORO BKLYN NORTH   \n",
      "\n",
      "        STATION_NAME VIC_AGE_GROUP                  VIC_RACE VIC_SEX  \\\n",
      "0                NaN         25-44                     WHITE       F   \n",
      "1                NaN       UNKNOWN                   UNKNOWN       D   \n",
      "2                NaN       UNKNOWN                   UNKNOWN       D   \n",
      "3                NaN         18-24            WHITE HISPANIC       F   \n",
      "4                NaN       UNKNOWN                   UNKNOWN       D   \n",
      "...              ...           ...                       ...     ...   \n",
      "7825494          NaN       UNKNOWN                   UNKNOWN       E   \n",
      "7825495          NaN           <18            WHITE HISPANIC       M   \n",
      "7825496          NaN         25-44  ASIAN / PACIFIC ISLANDER       M   \n",
      "7825497          NaN         45-64                     WHITE       M   \n",
      "7825498          NaN           <18                     WHITE       F   \n",
      "\n",
      "        VIC_AGE_GROUP_NEW  \n",
      "0                   10000  \n",
      "1                   50000  \n",
      "2                   50000  \n",
      "3                   30000  \n",
      "4                   50000  \n",
      "...                   ...  \n",
      "7825494             50000  \n",
      "7825495             40000  \n",
      "7825496             10000  \n",
      "7825497             20000  \n",
      "7825498             40000  \n",
      "\n",
      "[7825499 rows x 36 columns]\n"
     ]
    }
   ],
   "source": [
    "def new_age_VIC(row):\n",
    "    if row['VIC_AGE_GROUP'] == '25-44':\n",
    "        return '10000'\n",
    "    elif row['VIC_AGE_GROUP'] == '45-64':\n",
    "        return '20000'\n",
    "    elif row['VIC_AGE_GROUP'] == '18-24':\n",
    "        return '30000' \n",
    "    elif row['VIC_AGE_GROUP'] == '<18':\n",
    "        return '40000'\n",
    "    elif row['VIC_AGE_GROUP'] == 'UNKNOWN':\n",
    "        return '50000'\n",
    "    elif row['VIC_AGE_GROUP'] == '65+':\n",
    "        return '60000'\n",
    "    else: \n",
    "        return row['VIC_AGE_GROUP']\n",
    "\n",
    "data['VIC_AGE_GROUP_NEW'] = data.apply(new_age_VIC, axis=1)   \n",
    "print(data)"
   ]
  },
  {
   "cell_type": "code",
   "execution_count": 53,
   "metadata": {},
   "outputs": [],
   "source": [
    "data['VIC_AGE_GROUP_NEW'] = data['VIC_AGE_GROUP_NEW'].fillna('50000')"
   ]
  },
  {
   "cell_type": "code",
   "execution_count": 55,
   "metadata": {},
   "outputs": [],
   "source": [
    "data['VIC_AGE_GROUP_NEW'] = data['VIC_AGE_GROUP_NEW'].astype(int)"
   ]
  },
  {
   "cell_type": "code",
   "execution_count": 71,
   "metadata": {},
   "outputs": [
    {
     "name": "stdout",
     "output_type": "stream",
     "text": [
      "         CMPLNT_NUM CMPLNT_FR_DT CMPLNT_FR_TM CMPLNT_TO_DT CMPLNT_TO_TM  \\\n",
      "0         506547392   03/29/2018     20:30:00          NaN          NaN   \n",
      "1         629632833   02/06/2018     23:15:00          NaN          NaN   \n",
      "2         787203902   11/21/2018     00:15:00   11/21/2018     00:20:00   \n",
      "3         280364018   06/09/2018     21:42:00   06/09/2018     21:43:00   \n",
      "4         985800320   11/10/2018     19:40:00   11/10/2018     19:45:00   \n",
      "...             ...          ...          ...          ...          ...   \n",
      "7825494   104527061   05/01/2008     18:55:00   05/01/2018     19:00:00   \n",
      "7825495   284201488   05/18/2018     14:50:00   05/18/2018     14:55:00   \n",
      "7825496   808565901   11/19/2018     02:25:00   11/19/2018     02:30:00   \n",
      "7825497   649441648   02/03/2018     10:02:00   02/03/2018     12:15:00   \n",
      "7825498   803166404   01/05/2018     14:40:00   01/05/2018     16:00:00   \n",
      "\n",
      "         ADDR_PCT_CD      RPT_DT  KY_CD                       OFNS_DESC  \\\n",
      "0               32.0  03/30/2018    351  CRIMINAL MISCHIEF & RELATED OF   \n",
      "1               52.0  02/07/2018    341                   PETIT LARCENY   \n",
      "2               75.0  11/21/2018    341                   PETIT LARCENY   \n",
      "3               10.0  06/10/2018    361   OFF. AGNST PUB ORD SENSBLTY &   \n",
      "4               19.0  11/10/2018    341                   PETIT LARCENY   \n",
      "...              ...         ...    ...                             ...   \n",
      "7825494         10.0  05/01/2018    235                 DANGEROUS DRUGS   \n",
      "7825495        122.0  05/22/2018    344    ASSAULT 3 & RELATED OFFENSES   \n",
      "7825496        110.0  11/19/2018    109                   GRAND LARCENY   \n",
      "7825497        122.0  02/03/2018    578                   HARRASSMENT 2   \n",
      "7825498         79.0  01/08/2018    233                      SEX CRIMES   \n",
      "\n",
      "         PD_CD  ...   Latitude  Longitude                        Lat_Lon  \\\n",
      "0        254.0  ...  40.810877 -73.941064  (40.810877241, -73.941064151)   \n",
      "1        333.0  ...  40.873671 -73.908014  (40.873671035, -73.908013649)   \n",
      "2        321.0  ...  40.651782 -73.885457  (40.651782232, -73.885456761)   \n",
      "3        639.0  ...  40.759310 -73.994706  (40.759310399, -73.994706072)   \n",
      "4        333.0  ...  40.764536 -73.970728  (40.764535539, -73.970728388)   \n",
      "...        ...  ...        ...        ...                            ...   \n",
      "7825494  511.0  ...  40.756788 -73.996540  (40.756788048, -73.996539912)   \n",
      "7825495  101.0  ...  40.577953 -74.102317  (40.577953265, -74.102316756)   \n",
      "7825496  421.0  ...  40.743188 -73.862427  (40.743188053, -73.862427079)   \n",
      "7825497  638.0  ...  40.593665 -74.089000  (40.593664627, -74.089000194)   \n",
      "7825498  175.0  ...  40.688872 -73.944529  (40.688872153, -73.944529032)   \n",
      "\n",
      "                       PATROL_BORO STATION_NAME VIC_AGE_GROUP  \\\n",
      "0            PATROL BORO MAN NORTH          NaN         25-44   \n",
      "1                PATROL BORO BRONX          NaN       UNKNOWN   \n",
      "2          PATROL BORO BKLYN NORTH          NaN       UNKNOWN   \n",
      "3            PATROL BORO MAN SOUTH          NaN         18-24   \n",
      "4            PATROL BORO MAN NORTH          NaN       UNKNOWN   \n",
      "...                            ...          ...           ...   \n",
      "7825494      PATROL BORO MAN SOUTH          NaN       UNKNOWN   \n",
      "7825495  PATROL BORO STATEN ISLAND          NaN           <18   \n",
      "7825496   PATROL BORO QUEENS NORTH          NaN         25-44   \n",
      "7825497  PATROL BORO STATEN ISLAND          NaN         45-64   \n",
      "7825498    PATROL BORO BKLYN NORTH          NaN           <18   \n",
      "\n",
      "                         VIC_RACE  VIC_SEX VIC_AGE_GROUP_NEW VIC_AGE_GROUPING  \n",
      "0                           WHITE        F             10000            25-44  \n",
      "1                         UNKNOWN        D             50000          UNKNOWN  \n",
      "2                         UNKNOWN        D             50000          UNKNOWN  \n",
      "3                  WHITE HISPANIC        F             30000            18-24  \n",
      "4                         UNKNOWN        D             50000          UNKNOWN  \n",
      "...                           ...      ...               ...              ...  \n",
      "7825494                   UNKNOWN        E             50000          UNKNOWN  \n",
      "7825495            WHITE HISPANIC        M             40000              <18  \n",
      "7825496  ASIAN / PACIFIC ISLANDER        M             10000            25-44  \n",
      "7825497                     WHITE        M             20000            45-64  \n",
      "7825498                     WHITE        F             40000              <18  \n",
      "\n",
      "[7825499 rows x 37 columns]\n"
     ]
    }
   ],
   "source": [
    "def new_age_group_VIC(row):\n",
    "    if (row['VIC_AGE_GROUP_NEW'] == 10000):\n",
    "        return '25-44'\n",
    "    elif ((row['VIC_AGE_GROUP_NEW'] >= 25) and (row['VIC_AGE_GROUP_NEW'] <= 44)):\n",
    "        return '25-44'\n",
    "    elif (row['VIC_AGE_GROUP_NEW'] == 20000):\n",
    "        return '45-64'\n",
    "    elif ((row['VIC_AGE_GROUP_NEW'] >= 45) and (row['VIC_AGE_GROUP_NEW'] <= 64)):\n",
    "        return '45-64'\n",
    "    elif row['VIC_AGE_GROUP_NEW'] == 30000:\n",
    "        return '18-24' \n",
    "    elif ((row['VIC_AGE_GROUP_NEW'] >= 18) and (row['VIC_AGE_GROUP_NEW'] <= 24)):\n",
    "        return '18-24' \n",
    "    elif row['VIC_AGE_GROUP_NEW'] == 40000:\n",
    "        return '<18'\n",
    "    elif ((row['VIC_AGE_GROUP_NEW'] >= 0) and (row['VIC_AGE_GROUP_NEW'] <= 18)):\n",
    "        return '<18'\n",
    "    elif row['VIC_AGE_GROUP_NEW'] == 50000:\n",
    "        return 'UNKNOWN'\n",
    "    elif ((row['VIC_AGE_GROUP_NEW'] > 100) and (row['VIC_AGE_GROUP_NEW'] < 0)):\n",
    "        return 'UNKNOWN'\n",
    "    elif row['VIC_AGE_GROUP_NEW'] == 60000 or ((row['VIC_AGE_GROUP_NEW'] >= 65) and (row['VIC_AGE_GROUP_NEW'] <= 100)):\n",
    "        return '65+'\n",
    "    elif ((row['VIC_AGE_GROUP_NEW'] >= 65) and (row['VIC_AGE_GROUP_NEW'] <= 100)):\n",
    "        return '65+'\n",
    "\n",
    "data['VIC_AGE_GROUPING'] = data.apply(new_age_group_VIC, axis=1)   \n",
    "print(data)"
   ]
  },
  {
   "cell_type": "code",
   "execution_count": 74,
   "metadata": {},
   "outputs": [
    {
     "data": {
      "text/plain": [
       "<matplotlib.axes._subplots.AxesSubplot at 0x1f2f4438fd0>"
      ]
     },
     "execution_count": 74,
     "metadata": {},
     "output_type": "execute_result"
    },
    {
     "data": {
      "image/png": "[encoded data removed]",
      "text/plain": [
       "<Figure size 432x288 with 1 Axes>"
      ]
     },
     "metadata": {},
     "output_type": "display_data"
    }
   ],
   "source": [
    "sns.set()\n",
    "plt.title(\"Distribution of Victim Age\")\n",
    "\n",
    "data['VIC_AGE_GROUPING'].value_counts().plot(kind = 'bar')"
   ]
  },
  {
   "cell_type": "code",
   "execution_count": null,
   "metadata": {},
   "outputs": [],
   "source": []
  }
 ],
 "metadata": {
  "kernelspec": {
   "display_name": "Python 3",
   "language": "python",
   "name": "python3"
  },
  "language_info": {
   "codemirror_mode": {
    "name": "ipython",
    "version": 3
   },
   "file_extension": ".py",
   "mimetype": "text/x-python",
   "name": "python",
   "nbconvert_exporter": "python",
   "pygments_lexer": "ipython3",
   "version": "3.8.3"
  },
  "vscode": {
   "interpreter": {
    "hash": "38efaa045fcc2680aaeae51f7ac851acc4f32df019d3afeeab3c12114d76b9ae"
   }
  }
 },
 "nbformat": 4,
 "nbformat_minor": 1
}
