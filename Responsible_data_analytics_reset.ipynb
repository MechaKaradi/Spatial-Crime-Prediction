{
 "cells": [
  {
   "cell_type": "markdown",
   "id": "b31f3b48",
   "metadata": {
    "collapsed": false
   },
   "source": [
    "Modelling crime risk associated with Green Spaces\n",
    "---\n",
    "A case study of New York City using NYPD Complaint Data and Machine Learning models\n",
    "\n",
    "| Authors                        | Student ID   |\n",
    "|--------------------------------|--------------|\n",
    "| Kaninik Baradi                 | 5216664      |\n",
    "| Lala Sayyida Millati Nadhira   | 5844266      |\n",
    "| Rezzy Yolanda Wulandhari       | 4779487      |\n",
    "| Kelvin Engee                   | 4664043      |\n",
    "| Philippe Almeida Mirault       | 5898803      |\n",
    "Group 4\n",
    "\n",
    "For the course: Responsible Data Analytics, SEN 163B\n",
    "April 2023"
   ]
  },
  {
   "cell_type": "markdown",
   "id": "13f14471",
   "metadata": {
    "collapsed": false
   },
   "source": [
    "# Introduction\n",
    "This notebook is a companion to the report on Modelling Crime Risks associated with Green spaces. It contains all the code required to download, pre-process and analyse the data. The notebook is divided into the following sections:\n",
    "- Preparation\n",
    "- Descriptive Analytics\n",
    "    - Preliminary Analysis\n",
    "- Diagnostic Analytics\n",
    "    - Feature Analysis\n",
    "    - Feature Engineering\n",
    "    - Bias Analysis\n",
    "- Predictive Analysis\n",
    "    - Target Variable Analysis\n",
    "    - Train-Test Split Strategy\n",
    "    - Model Evaluation\n",
    "    - Model Interpretation\n",
    "- Prescriptive Analysis\n",
    "    - Cross Validation\n",
    "    - Ensemble Predictor\n",
    "    - Model Deployment"
   ]
  },
  {
   "cell_type": "markdown",
   "id": "a8f0723a",
   "metadata": {
    "collapsed": false
   },
   "source": [
    "# Preparation"
   ]
  },
  {
   "cell_type": "markdown",
   "id": "d8e9c8b8",
   "metadata": {
    "collapsed": false
   },
   "source": [
    "Dependencies:\n",
    "\n",
    "Data Sources:"
   ]
  },
  {
   "cell_type": "code",
   "execution_count": 93,
   "id": "79e7a06d",
   "metadata": {
    "collapsed": false
   },
   "outputs": [],
   "source": [
    "import pandas\n",
    "import altair\n",
    "import numpy\n",
    "import matplotlib.pyplot as plt\n",
    "import geopandas as gpd\n",
    "import numpy as np\n",
    "import seaborn as sns"
   ]
  },
  {
   "cell_type": "markdown",
   "id": "d9914f4b",
   "metadata": {
    "collapsed": false
   },
   "source": [
    "# Descriptive Analytics\n",
    "This section contains the initial analysis of the selected data sets. It identifies the underlying relationships of the variables and if used to determine vriables of interest for further analysis."
   ]
  },
  {
   "cell_type": "markdown",
   "id": "f0ade583",
   "metadata": {
    "collapsed": false
   },
   "source": [
    "## Complaints Data"
   ]
  },
  {
   "cell_type": "code",
   "execution_count": 94,
   "id": "c6da4154",
   "metadata": {
    "collapsed": false
   },
   "outputs": [
    {
     "name": "stderr",
     "output_type": "stream",
     "text": [
      "C:\\Users\\Kaninik\\AppData\\Local\\Temp\\ipykernel_35532\\178447485.py:5: DtypeWarning: Columns (18,20) have mixed types. Specify dtype option on import or set low_memory=False.\n",
      "  crime_data = pandas.read_csv(\"..\\\\NYPD_Complaint_Data_Historic.csv\", skiprows=lambda i: i>0 and every_nth(i))\n"
     ]
    }
   ],
   "source": [
    "# Create a function that selects every third number\n",
    "def every_nth(n):\n",
    "    return n % 10 == 0\n",
    "\n",
    "crime_data = pandas.read_csv(\"..\\\\NYPD_Complaint_Data_Historic.csv\", skiprows=lambda i: i>0 and every_nth(i))"
   ]
  },
  {
   "cell_type": "code",
   "execution_count": 95,
   "id": "58b4cddf",
   "metadata": {
    "collapsed": false
   },
   "outputs": [],
   "source": [
    "def make_categorical(dataframe, column):\n",
    "    # make the column of the dataframe categorical\n",
    "    dataframe[column] = dataframe[column].astype('category')\n",
    "\n",
    "# get a lst of all the columns in the dataframe that need to be categorical\n",
    "\n",
    "columns = ['ADDR_PCT_CD', 'BORO_NM', 'CRM_ATPT_CPTD_CD', 'HADEVELOPT', 'HOUSING_PSA', 'JURISDICTION_CODE', 'JURIS_DESC', 'KY_CD', 'LAW_CAT_CD', 'LOC_OF_OCCUR_DESC', 'OFNS_DESC', 'PARKS_NM', 'PATROL_BORO', 'PD_CD', 'PD_DESC', 'STATION_NAME', 'SUSP_RACE', 'SUSP_SEX', 'TRANSIT_DISTRICT', 'VIC_RACE', 'VIC_SEX']\n",
    "\n",
    "    # make each column categorical\n",
    "for column in columns:\n",
    "    make_categorical(crime_data, column)\n",
    "\n",
    "\n"
   ]
  },
  {
   "cell_type": "code",
   "execution_count": 96,
   "id": "29f0db37",
   "metadata": {
    "collapsed": false
   },
   "outputs": [
    {
     "name": "stdout",
     "output_type": "stream",
     "text": [
      "         CMPLNT_NUM CMPLNT_FR_DT CMPLNT_FR_TM CMPLNT_TO_DT CMPLNT_TO_TM   \n",
      "0         506547392   03/29/2018     20:30:00          NaN          NaN  \\\n",
      "1         629632833   02/06/2018     23:15:00          NaN          NaN   \n",
      "2         787203902   11/21/2018     00:15:00   11/21/2018     00:20:00   \n",
      "3         280364018   06/09/2018     21:42:00   06/09/2018     21:43:00   \n",
      "4         985800320   11/10/2018     19:40:00   11/10/2018     19:45:00   \n",
      "...             ...          ...          ...          ...          ...   \n",
      "7042945   104527061   05/01/2008     18:55:00   05/01/2018     19:00:00   \n",
      "7042946   284201488   05/18/2018     14:50:00   05/18/2018     14:55:00   \n",
      "7042947   808565901   11/19/2018     02:25:00   11/19/2018     02:30:00   \n",
      "7042948   649441648   02/03/2018     10:02:00   02/03/2018     12:15:00   \n",
      "7042949   803166404   01/05/2018     14:40:00   01/05/2018     16:00:00   \n",
      "\n",
      "        ADDR_PCT_CD      RPT_DT KY_CD                       OFNS_DESC  PD_CD   \n",
      "0              32.0  03/30/2018   351  CRIMINAL MISCHIEF & RELATED OF  254.0  \\\n",
      "1              52.0  02/07/2018   341                   PETIT LARCENY  333.0   \n",
      "2              75.0  11/21/2018   341                   PETIT LARCENY  321.0   \n",
      "3              10.0  06/10/2018   361   OFF. AGNST PUB ORD SENSBLTY &  639.0   \n",
      "4              19.0  11/10/2018   341                   PETIT LARCENY  333.0   \n",
      "...             ...         ...   ...                             ...    ...   \n",
      "7042945        10.0  05/01/2018   235                 DANGEROUS DRUGS  511.0   \n",
      "7042946       122.0  05/22/2018   344    ASSAULT 3 & RELATED OFFENSES  101.0   \n",
      "7042947       110.0  11/19/2018   109                   GRAND LARCENY  421.0   \n",
      "7042948       122.0  02/03/2018   578                   HARRASSMENT 2  638.0   \n",
      "7042949        79.0  01/08/2018   233                      SEX CRIMES  175.0   \n",
      "\n",
      "         ... SUSP_SEX TRANSIT_DISTRICT   Latitude  Longitude   \n",
      "0        ...      NaN              NaN  40.810877 -73.941064  \\\n",
      "1        ...        F              NaN  40.873671 -73.908014   \n",
      "2        ...        F              NaN  40.651782 -73.885457   \n",
      "3        ...        M              NaN  40.759310 -73.994706   \n",
      "4        ...        F              NaN  40.764536 -73.970728   \n",
      "...      ...      ...              ...        ...        ...   \n",
      "7042945  ...        F              NaN  40.756788 -73.996540   \n",
      "7042946  ...        M              NaN  40.577953 -74.102317   \n",
      "7042947  ...        M              NaN  40.743188 -73.862427   \n",
      "7042948  ...        F              NaN  40.593665 -74.089000   \n",
      "7042949  ...      NaN              NaN  40.688872 -73.944529   \n",
      "\n",
      "                               Lat_Lon                PATROL_BORO   \n",
      "0        (40.810877241, -73.941064151)      PATROL BORO MAN NORTH  \\\n",
      "1        (40.873671035, -73.908013649)          PATROL BORO BRONX   \n",
      "2        (40.651782232, -73.885456761)    PATROL BORO BKLYN NORTH   \n",
      "3        (40.759310399, -73.994706072)      PATROL BORO MAN SOUTH   \n",
      "4        (40.764535539, -73.970728388)      PATROL BORO MAN NORTH   \n",
      "...                                ...                        ...   \n",
      "7042945  (40.756788048, -73.996539912)      PATROL BORO MAN SOUTH   \n",
      "7042946  (40.577953265, -74.102316756)  PATROL BORO STATEN ISLAND   \n",
      "7042947  (40.743188053, -73.862427079)   PATROL BORO QUEENS NORTH   \n",
      "7042948  (40.593664627, -74.089000194)  PATROL BORO STATEN ISLAND   \n",
      "7042949  (40.688872153, -73.944529032)    PATROL BORO BKLYN NORTH   \n",
      "\n",
      "        STATION_NAME VIC_AGE_GROUP                  VIC_RACE VIC_SEX  \n",
      "0                NaN         25-44                     WHITE       F  \n",
      "1                NaN       UNKNOWN                   UNKNOWN       D  \n",
      "2                NaN       UNKNOWN                   UNKNOWN       D  \n",
      "3                NaN         18-24            WHITE HISPANIC       F  \n",
      "4                NaN       UNKNOWN                   UNKNOWN       D  \n",
      "...              ...           ...                       ...     ...  \n",
      "7042945          NaN       UNKNOWN                   UNKNOWN       E  \n",
      "7042946          NaN           <18            WHITE HISPANIC       M  \n",
      "7042947          NaN         25-44  ASIAN / PACIFIC ISLANDER       M  \n",
      "7042948          NaN         45-64                     WHITE       M  \n",
      "7042949          NaN           <18                     WHITE       F  \n",
      "\n",
      "[7042950 rows x 35 columns]\n"
     ]
    }
   ],
   "source": [
    "print(crime_data)"
   ]
  },
  {
   "cell_type": "code",
   "execution_count": 97,
   "id": "b1f75ee7",
   "metadata": {
    "collapsed": false
   },
   "outputs": [
    {
     "name": "stdout",
     "output_type": "stream",
     "text": [
      "         CMPLNT_NUM CMPLNT_FR_DT CMPLNT_FR_TM CMPLNT_TO_DT CMPLNT_TO_TM   \n",
      "0         506547392   03/29/2018     20:30:00          NaN          NaN  \\\n",
      "1         629632833   02/06/2018     23:15:00          NaN          NaN   \n",
      "2         787203902   11/21/2018     00:15:00   11/21/2018     00:20:00   \n",
      "3         280364018   06/09/2018     21:42:00   06/09/2018     21:43:00   \n",
      "4         985800320   11/10/2018     19:40:00   11/10/2018     19:45:00   \n",
      "...             ...          ...          ...          ...          ...   \n",
      "7042945   104527061   05/01/2008     18:55:00   05/01/2018     19:00:00   \n",
      "7042946   284201488   05/18/2018     14:50:00   05/18/2018     14:55:00   \n",
      "7042947   808565901   11/19/2018     02:25:00   11/19/2018     02:30:00   \n",
      "7042948   649441648   02/03/2018     10:02:00   02/03/2018     12:15:00   \n",
      "7042949   803166404   01/05/2018     14:40:00   01/05/2018     16:00:00   \n",
      "\n",
      "        ADDR_PCT_CD      RPT_DT KY_CD                       OFNS_DESC  PD_CD   \n",
      "0              32.0  03/30/2018   351  CRIMINAL MISCHIEF & RELATED OF  254.0  \\\n",
      "1              52.0  02/07/2018   341                   PETIT LARCENY  333.0   \n",
      "2              75.0  11/21/2018   341                   PETIT LARCENY  321.0   \n",
      "3              10.0  06/10/2018   361   OFF. AGNST PUB ORD SENSBLTY &  639.0   \n",
      "4              19.0  11/10/2018   341                   PETIT LARCENY  333.0   \n",
      "...             ...         ...   ...                             ...    ...   \n",
      "7042945        10.0  05/01/2018   235                 DANGEROUS DRUGS  511.0   \n",
      "7042946       122.0  05/22/2018   344    ASSAULT 3 & RELATED OFFENSES  101.0   \n",
      "7042947       110.0  11/19/2018   109                   GRAND LARCENY  421.0   \n",
      "7042948       122.0  02/03/2018   578                   HARRASSMENT 2  638.0   \n",
      "7042949        79.0  01/08/2018   233                      SEX CRIMES  175.0   \n",
      "\n",
      "         ... SUSP_SEX TRANSIT_DISTRICT   Latitude  Longitude   \n",
      "0        ...      NaN              NaN  40.810877 -73.941064  \\\n",
      "1        ...        F              NaN  40.873671 -73.908014   \n",
      "2        ...        F              NaN  40.651782 -73.885457   \n",
      "3        ...        M              NaN  40.759310 -73.994706   \n",
      "4        ...        F              NaN  40.764536 -73.970728   \n",
      "...      ...      ...              ...        ...        ...   \n",
      "7042945  ...        F              NaN  40.756788 -73.996540   \n",
      "7042946  ...        M              NaN  40.577953 -74.102317   \n",
      "7042947  ...        M              NaN  40.743188 -73.862427   \n",
      "7042948  ...        F              NaN  40.593665 -74.089000   \n",
      "7042949  ...      NaN              NaN  40.688872 -73.944529   \n",
      "\n",
      "                               Lat_Lon                PATROL_BORO   \n",
      "0        (40.810877241, -73.941064151)      PATROL BORO MAN NORTH  \\\n",
      "1        (40.873671035, -73.908013649)          PATROL BORO BRONX   \n",
      "2        (40.651782232, -73.885456761)    PATROL BORO BKLYN NORTH   \n",
      "3        (40.759310399, -73.994706072)      PATROL BORO MAN SOUTH   \n",
      "4        (40.764535539, -73.970728388)      PATROL BORO MAN NORTH   \n",
      "...                                ...                        ...   \n",
      "7042945  (40.756788048, -73.996539912)      PATROL BORO MAN SOUTH   \n",
      "7042946  (40.577953265, -74.102316756)  PATROL BORO STATEN ISLAND   \n",
      "7042947  (40.743188053, -73.862427079)   PATROL BORO QUEENS NORTH   \n",
      "7042948  (40.593664627, -74.089000194)  PATROL BORO STATEN ISLAND   \n",
      "7042949  (40.688872153, -73.944529032)    PATROL BORO BKLYN NORTH   \n",
      "\n",
      "        STATION_NAME VIC_AGE_GROUP                  VIC_RACE VIC_SEX  \n",
      "0                NaN         25-44                     WHITE       F  \n",
      "1                NaN       UNKNOWN                   UNKNOWN       D  \n",
      "2                NaN       UNKNOWN                   UNKNOWN       D  \n",
      "3                NaN         18-24            WHITE HISPANIC       F  \n",
      "4                NaN       UNKNOWN                   UNKNOWN       D  \n",
      "...              ...           ...                       ...     ...  \n",
      "7042945          NaN       UNKNOWN                   UNKNOWN       E  \n",
      "7042946          NaN           <18            WHITE HISPANIC       M  \n",
      "7042947          NaN         25-44  ASIAN / PACIFIC ISLANDER       M  \n",
      "7042948          NaN         45-64                     WHITE       M  \n",
      "7042949          NaN           <18                     WHITE       F  \n",
      "\n",
      "[7042950 rows x 35 columns]\n"
     ]
    }
   ],
   "source": [
    "#scrub for duplicate\n",
    "crime_data.drop_duplicates(inplace=True)\n",
    "print(crime_data)"
   ]
  },
  {
   "cell_type": "code",
   "execution_count": 98,
   "id": "a76c74c7",
   "metadata": {
    "collapsed": false
   },
   "outputs": [],
   "source": [
    "#scrub for irrelevant data (only use required columns)\n",
    "crime_data = crime_data[['CMPLNT_FR_DT','CMPLNT_FR_TM','Longitude','Latitude','VIC_SEX','VIC_RACE','VIC_AGE_GROUP']]\n"
   ]
  },
  {
   "cell_type": "code",
   "execution_count": 99,
   "id": "7f209f09",
   "metadata": {
    "collapsed": false
   },
   "outputs": [
    {
     "data": {
      "text/plain": "        CMPLNT_FR_DT CMPLNT_FR_TM  Longitude   Latitude VIC_SEX   \n0         03/29/2018     20:30:00 -73.941064  40.810877       F  \\\n1         02/06/2018     23:15:00 -73.908014  40.873671       D   \n2         11/21/2018     00:15:00 -73.885457  40.651782       D   \n3         06/09/2018     21:42:00 -73.994706  40.759310       F   \n4         11/10/2018     19:40:00 -73.970728  40.764536       D   \n...              ...          ...        ...        ...     ...   \n7042945   05/01/2008     18:55:00 -73.996540  40.756788       E   \n7042946   05/18/2018     14:50:00 -74.102317  40.577953       M   \n7042947   11/19/2018     02:25:00 -73.862427  40.743188       M   \n7042948   02/03/2018     10:02:00 -74.089000  40.593665       M   \n7042949   01/05/2018     14:40:00 -73.944529  40.688872       F   \n\n                         VIC_RACE VIC_AGE_GROUP  \n0                           WHITE         25-44  \n1                         UNKNOWN       UNKNOWN  \n2                         UNKNOWN       UNKNOWN  \n3                  WHITE HISPANIC         18-24  \n4                         UNKNOWN       UNKNOWN  \n...                           ...           ...  \n7042945                   UNKNOWN       UNKNOWN  \n7042946            WHITE HISPANIC           <18  \n7042947  ASIAN / PACIFIC ISLANDER         25-44  \n7042948                     WHITE         45-64  \n7042949                     WHITE           <18  \n\n[7042950 rows x 7 columns]",
      "text/html": "<div>\n<style scoped>\n    .dataframe tbody tr th:only-of-type {\n        vertical-align: middle;\n    }\n\n    .dataframe tbody tr th {\n        vertical-align: top;\n    }\n\n    .dataframe thead th {\n        text-align: right;\n    }\n</style>\n<table border=\"1\" class=\"dataframe\">\n  <thead>\n    <tr style=\"text-align: right;\">\n      <th></th>\n      <th>CMPLNT_FR_DT</th>\n      <th>CMPLNT_FR_TM</th>\n      <th>Longitude</th>\n      <th>Latitude</th>\n      <th>VIC_SEX</th>\n      <th>VIC_RACE</th>\n      <th>VIC_AGE_GROUP</th>\n    </tr>\n  </thead>\n  <tbody>\n    <tr>\n      <th>0</th>\n      <td>03/29/2018</td>\n      <td>20:30:00</td>\n      <td>-73.941064</td>\n      <td>40.810877</td>\n      <td>F</td>\n      <td>WHITE</td>\n      <td>25-44</td>\n    </tr>\n    <tr>\n      <th>1</th>\n      <td>02/06/2018</td>\n      <td>23:15:00</td>\n      <td>-73.908014</td>\n      <td>40.873671</td>\n      <td>D</td>\n      <td>UNKNOWN</td>\n      <td>UNKNOWN</td>\n    </tr>\n    <tr>\n      <th>2</th>\n      <td>11/21/2018</td>\n      <td>00:15:00</td>\n      <td>-73.885457</td>\n      <td>40.651782</td>\n      <td>D</td>\n      <td>UNKNOWN</td>\n      <td>UNKNOWN</td>\n    </tr>\n    <tr>\n      <th>3</th>\n      <td>06/09/2018</td>\n      <td>21:42:00</td>\n      <td>-73.994706</td>\n      <td>40.759310</td>\n      <td>F</td>\n      <td>WHITE HISPANIC</td>\n      <td>18-24</td>\n    </tr>\n    <tr>\n      <th>4</th>\n      <td>11/10/2018</td>\n      <td>19:40:00</td>\n      <td>-73.970728</td>\n      <td>40.764536</td>\n      <td>D</td>\n      <td>UNKNOWN</td>\n      <td>UNKNOWN</td>\n    </tr>\n    <tr>\n      <th>...</th>\n      <td>...</td>\n      <td>...</td>\n      <td>...</td>\n      <td>...</td>\n      <td>...</td>\n      <td>...</td>\n      <td>...</td>\n    </tr>\n    <tr>\n      <th>7042945</th>\n      <td>05/01/2008</td>\n      <td>18:55:00</td>\n      <td>-73.996540</td>\n      <td>40.756788</td>\n      <td>E</td>\n      <td>UNKNOWN</td>\n      <td>UNKNOWN</td>\n    </tr>\n    <tr>\n      <th>7042946</th>\n      <td>05/18/2018</td>\n      <td>14:50:00</td>\n      <td>-74.102317</td>\n      <td>40.577953</td>\n      <td>M</td>\n      <td>WHITE HISPANIC</td>\n      <td>&lt;18</td>\n    </tr>\n    <tr>\n      <th>7042947</th>\n      <td>11/19/2018</td>\n      <td>02:25:00</td>\n      <td>-73.862427</td>\n      <td>40.743188</td>\n      <td>M</td>\n      <td>ASIAN / PACIFIC ISLANDER</td>\n      <td>25-44</td>\n    </tr>\n    <tr>\n      <th>7042948</th>\n      <td>02/03/2018</td>\n      <td>10:02:00</td>\n      <td>-74.089000</td>\n      <td>40.593665</td>\n      <td>M</td>\n      <td>WHITE</td>\n      <td>45-64</td>\n    </tr>\n    <tr>\n      <th>7042949</th>\n      <td>01/05/2018</td>\n      <td>14:40:00</td>\n      <td>-73.944529</td>\n      <td>40.688872</td>\n      <td>F</td>\n      <td>WHITE</td>\n      <td>&lt;18</td>\n    </tr>\n  </tbody>\n</table>\n<p>7042950 rows × 7 columns</p>\n</div>"
     },
     "execution_count": 99,
     "metadata": {},
     "output_type": "execute_result"
    }
   ],
   "source": [
    "crime_data"
   ]
  },
  {
   "cell_type": "code",
   "execution_count": 100,
   "id": "bd42627d",
   "metadata": {
    "collapsed": false
   },
   "outputs": [
    {
     "name": "stdout",
     "output_type": "stream",
     "text": [
      "CMPLNT_FR_DT         579\n",
      "CMPLNT_FR_TM          46\n",
      "Longitude          15580\n",
      "Latitude           15580\n",
      "VIC_SEX              267\n",
      "VIC_RACE             341\n",
      "VIC_AGE_GROUP    1474595\n",
      "dtype: int64\n"
     ]
    }
   ],
   "source": [
    "#unlike usual, all the rows with missing data is deleted beforehand, because there all the data is missing completely at random\n",
    "missing_counts = crime_data.isna().sum()\n",
    "\n",
    "print(missing_counts)"
   ]
  },
  {
   "cell_type": "code",
   "execution_count": 101,
   "id": "244198cb",
   "metadata": {
    "collapsed": false
   },
   "outputs": [
    {
     "name": "stdout",
     "output_type": "stream",
     "text": [
      "        CMPLNT_FR_DT CMPLNT_FR_TM  Longitude   Latitude VIC_SEX   \n",
      "0         03/29/2018     20:30:00 -73.941064  40.810877       F  \\\n",
      "1         02/06/2018     23:15:00 -73.908014  40.873671       D   \n",
      "2         11/21/2018     00:15:00 -73.885457  40.651782       D   \n",
      "3         06/09/2018     21:42:00 -73.994706  40.759310       F   \n",
      "4         11/10/2018     19:40:00 -73.970728  40.764536       D   \n",
      "...              ...          ...        ...        ...     ...   \n",
      "7042945   05/01/2008     18:55:00 -73.996540  40.756788       E   \n",
      "7042946   05/18/2018     14:50:00 -74.102317  40.577953       M   \n",
      "7042947   11/19/2018     02:25:00 -73.862427  40.743188       M   \n",
      "7042948   02/03/2018     10:02:00 -74.089000  40.593665       M   \n",
      "7042949   01/05/2018     14:40:00 -73.944529  40.688872       F   \n",
      "\n",
      "                         VIC_RACE VIC_AGE_GROUP  \n",
      "0                           WHITE         25-44  \n",
      "1                         UNKNOWN       UNKNOWN  \n",
      "2                         UNKNOWN       UNKNOWN  \n",
      "3                  WHITE HISPANIC         18-24  \n",
      "4                         UNKNOWN       UNKNOWN  \n",
      "...                           ...           ...  \n",
      "7042945                   UNKNOWN       UNKNOWN  \n",
      "7042946            WHITE HISPANIC           <18  \n",
      "7042947  ASIAN / PACIFIC ISLANDER         25-44  \n",
      "7042948                     WHITE         45-64  \n",
      "7042949                     WHITE           <18  \n",
      "\n",
      "[5556623 rows x 7 columns]\n"
     ]
    }
   ],
   "source": [
    "crime_data = crime_data.dropna(axis=0)\n",
    "\n",
    "print(crime_data)"
   ]
  },
  {
   "cell_type": "code",
   "execution_count": 102,
   "id": "50d25977",
   "metadata": {
    "collapsed": false
   },
   "outputs": [
    {
     "name": "stdout",
     "output_type": "stream",
     "text": [
      "CMPLNT_FR_DT     0\n",
      "CMPLNT_FR_TM     0\n",
      "Longitude        0\n",
      "Latitude         0\n",
      "VIC_SEX          0\n",
      "VIC_RACE         0\n",
      "VIC_AGE_GROUP    0\n",
      "dtype: int64\n"
     ]
    }
   ],
   "source": [
    "#unlike usual, all the rows with missing data is deleted beforehand, because there all the data is missing completely at random\n",
    "missing_counts = crime_data.isna().sum()\n",
    "\n",
    "print(missing_counts)"
   ]
  },
  {
   "cell_type": "markdown",
   "id": "ee374ffb",
   "metadata": {
    "collapsed": false
   },
   "source": [
    "# CMPLNT_FR_DT\n"
   ]
  },
  {
   "cell_type": "code",
   "execution_count": 103,
   "id": "e6479f2f",
   "metadata": {
    "collapsed": false
   },
   "outputs": [
    {
     "name": "stderr",
     "output_type": "stream",
     "text": [
      "C:\\Users\\Kaninik\\AppData\\Local\\Temp\\ipykernel_35532\\132670575.py:1: SettingWithCopyWarning: \n",
      "A value is trying to be set on a copy of a slice from a DataFrame.\n",
      "Try using .loc[row_indexer,col_indexer] = value instead\n",
      "\n",
      "See the caveats in the documentation: https://pandas.pydata.org/pandas-docs/stable/user_guide/indexing.html#returning-a-view-versus-a-copy\n",
      "  crime_data[['month','day','year']] = crime_data['CMPLNT_FR_DT'].str.split('/',expand=True).astype(int)\n",
      "C:\\Users\\Kaninik\\AppData\\Local\\Temp\\ipykernel_35532\\132670575.py:1: SettingWithCopyWarning: \n",
      "A value is trying to be set on a copy of a slice from a DataFrame.\n",
      "Try using .loc[row_indexer,col_indexer] = value instead\n",
      "\n",
      "See the caveats in the documentation: https://pandas.pydata.org/pandas-docs/stable/user_guide/indexing.html#returning-a-view-versus-a-copy\n",
      "  crime_data[['month','day','year']] = crime_data['CMPLNT_FR_DT'].str.split('/',expand=True).astype(int)\n",
      "C:\\Users\\Kaninik\\AppData\\Local\\Temp\\ipykernel_35532\\132670575.py:1: SettingWithCopyWarning: \n",
      "A value is trying to be set on a copy of a slice from a DataFrame.\n",
      "Try using .loc[row_indexer,col_indexer] = value instead\n",
      "\n",
      "See the caveats in the documentation: https://pandas.pydata.org/pandas-docs/stable/user_guide/indexing.html#returning-a-view-versus-a-copy\n",
      "  crime_data[['month','day','year']] = crime_data['CMPLNT_FR_DT'].str.split('/',expand=True).astype(int)\n"
     ]
    }
   ],
   "source": [
    "crime_data[['month','day','year']] = crime_data['CMPLNT_FR_DT'].str.split('/',expand=True).astype(int)"
   ]
  },
  {
   "cell_type": "code",
   "execution_count": 104,
   "id": "dc3c6c36",
   "metadata": {
    "collapsed": false
   },
   "outputs": [
    {
     "data": {
      "text/plain": "        CMPLNT_FR_DT CMPLNT_FR_TM  Longitude   Latitude VIC_SEX   \n0         03/29/2018     20:30:00 -73.941064  40.810877       F  \\\n1         02/06/2018     23:15:00 -73.908014  40.873671       D   \n2         11/21/2018     00:15:00 -73.885457  40.651782       D   \n3         06/09/2018     21:42:00 -73.994706  40.759310       F   \n4         11/10/2018     19:40:00 -73.970728  40.764536       D   \n...              ...          ...        ...        ...     ...   \n7042945   05/01/2008     18:55:00 -73.996540  40.756788       E   \n7042946   05/18/2018     14:50:00 -74.102317  40.577953       M   \n7042947   11/19/2018     02:25:00 -73.862427  40.743188       M   \n7042948   02/03/2018     10:02:00 -74.089000  40.593665       M   \n7042949   01/05/2018     14:40:00 -73.944529  40.688872       F   \n\n                         VIC_RACE VIC_AGE_GROUP  month  day  year  \n0                           WHITE         25-44      3   29  2018  \n1                         UNKNOWN       UNKNOWN      2    6  2018  \n2                         UNKNOWN       UNKNOWN     11   21  2018  \n3                  WHITE HISPANIC         18-24      6    9  2018  \n4                         UNKNOWN       UNKNOWN     11   10  2018  \n...                           ...           ...    ...  ...   ...  \n7042945                   UNKNOWN       UNKNOWN      5    1  2008  \n7042946            WHITE HISPANIC           <18      5   18  2018  \n7042947  ASIAN / PACIFIC ISLANDER         25-44     11   19  2018  \n7042948                     WHITE         45-64      2    3  2018  \n7042949                     WHITE           <18      1    5  2018  \n\n[5556623 rows x 10 columns]",
      "text/html": "<div>\n<style scoped>\n    .dataframe tbody tr th:only-of-type {\n        vertical-align: middle;\n    }\n\n    .dataframe tbody tr th {\n        vertical-align: top;\n    }\n\n    .dataframe thead th {\n        text-align: right;\n    }\n</style>\n<table border=\"1\" class=\"dataframe\">\n  <thead>\n    <tr style=\"text-align: right;\">\n      <th></th>\n      <th>CMPLNT_FR_DT</th>\n      <th>CMPLNT_FR_TM</th>\n      <th>Longitude</th>\n      <th>Latitude</th>\n      <th>VIC_SEX</th>\n      <th>VIC_RACE</th>\n      <th>VIC_AGE_GROUP</th>\n      <th>month</th>\n      <th>day</th>\n      <th>year</th>\n    </tr>\n  </thead>\n  <tbody>\n    <tr>\n      <th>0</th>\n      <td>03/29/2018</td>\n      <td>20:30:00</td>\n      <td>-73.941064</td>\n      <td>40.810877</td>\n      <td>F</td>\n      <td>WHITE</td>\n      <td>25-44</td>\n      <td>3</td>\n      <td>29</td>\n      <td>2018</td>\n    </tr>\n    <tr>\n      <th>1</th>\n      <td>02/06/2018</td>\n      <td>23:15:00</td>\n      <td>-73.908014</td>\n      <td>40.873671</td>\n      <td>D</td>\n      <td>UNKNOWN</td>\n      <td>UNKNOWN</td>\n      <td>2</td>\n      <td>6</td>\n      <td>2018</td>\n    </tr>\n    <tr>\n      <th>2</th>\n      <td>11/21/2018</td>\n      <td>00:15:00</td>\n      <td>-73.885457</td>\n      <td>40.651782</td>\n      <td>D</td>\n      <td>UNKNOWN</td>\n      <td>UNKNOWN</td>\n      <td>11</td>\n      <td>21</td>\n      <td>2018</td>\n    </tr>\n    <tr>\n      <th>3</th>\n      <td>06/09/2018</td>\n      <td>21:42:00</td>\n      <td>-73.994706</td>\n      <td>40.759310</td>\n      <td>F</td>\n      <td>WHITE HISPANIC</td>\n      <td>18-24</td>\n      <td>6</td>\n      <td>9</td>\n      <td>2018</td>\n    </tr>\n    <tr>\n      <th>4</th>\n      <td>11/10/2018</td>\n      <td>19:40:00</td>\n      <td>-73.970728</td>\n      <td>40.764536</td>\n      <td>D</td>\n      <td>UNKNOWN</td>\n      <td>UNKNOWN</td>\n      <td>11</td>\n      <td>10</td>\n      <td>2018</td>\n    </tr>\n    <tr>\n      <th>...</th>\n      <td>...</td>\n      <td>...</td>\n      <td>...</td>\n      <td>...</td>\n      <td>...</td>\n      <td>...</td>\n      <td>...</td>\n      <td>...</td>\n      <td>...</td>\n      <td>...</td>\n    </tr>\n    <tr>\n      <th>7042945</th>\n      <td>05/01/2008</td>\n      <td>18:55:00</td>\n      <td>-73.996540</td>\n      <td>40.756788</td>\n      <td>E</td>\n      <td>UNKNOWN</td>\n      <td>UNKNOWN</td>\n      <td>5</td>\n      <td>1</td>\n      <td>2008</td>\n    </tr>\n    <tr>\n      <th>7042946</th>\n      <td>05/18/2018</td>\n      <td>14:50:00</td>\n      <td>-74.102317</td>\n      <td>40.577953</td>\n      <td>M</td>\n      <td>WHITE HISPANIC</td>\n      <td>&lt;18</td>\n      <td>5</td>\n      <td>18</td>\n      <td>2018</td>\n    </tr>\n    <tr>\n      <th>7042947</th>\n      <td>11/19/2018</td>\n      <td>02:25:00</td>\n      <td>-73.862427</td>\n      <td>40.743188</td>\n      <td>M</td>\n      <td>ASIAN / PACIFIC ISLANDER</td>\n      <td>25-44</td>\n      <td>11</td>\n      <td>19</td>\n      <td>2018</td>\n    </tr>\n    <tr>\n      <th>7042948</th>\n      <td>02/03/2018</td>\n      <td>10:02:00</td>\n      <td>-74.089000</td>\n      <td>40.593665</td>\n      <td>M</td>\n      <td>WHITE</td>\n      <td>45-64</td>\n      <td>2</td>\n      <td>3</td>\n      <td>2018</td>\n    </tr>\n    <tr>\n      <th>7042949</th>\n      <td>01/05/2018</td>\n      <td>14:40:00</td>\n      <td>-73.944529</td>\n      <td>40.688872</td>\n      <td>F</td>\n      <td>WHITE</td>\n      <td>&lt;18</td>\n      <td>1</td>\n      <td>5</td>\n      <td>2018</td>\n    </tr>\n  </tbody>\n</table>\n<p>5556623 rows × 10 columns</p>\n</div>"
     },
     "execution_count": 104,
     "metadata": {},
     "output_type": "execute_result"
    }
   ],
   "source": [
    "crime_data"
   ]
  },
  {
   "cell_type": "code",
   "execution_count": 105,
   "id": "fe7d7324",
   "metadata": {
    "collapsed": false
   },
   "outputs": [],
   "source": [
    "crime_data = crime_data.loc[crime_data['year'] >= 2006]"
   ]
  },
  {
   "cell_type": "code",
   "execution_count": 106,
   "id": "459425ce",
   "metadata": {
    "collapsed": false
   },
   "outputs": [
    {
     "name": "stderr",
     "output_type": "stream",
     "text": [
      "C:\\Users\\Kaninik\\AppData\\Local\\Temp\\ipykernel_35532\\3461495595.py:1: SettingWithCopyWarning: \n",
      "A value is trying to be set on a copy of a slice from a DataFrame.\n",
      "Try using .loc[row_indexer,col_indexer] = value instead\n",
      "\n",
      "See the caveats in the documentation: https://pandas.pydata.org/pandas-docs/stable/user_guide/indexing.html#returning-a-view-versus-a-copy\n",
      "  crime_data['CMPLNT_FR_DT'] = pandas.to_datetime(crime_data['CMPLNT_FR_DT'], format='%m/%d/%Y')\n",
      "C:\\Users\\Kaninik\\AppData\\Local\\Temp\\ipykernel_35532\\3461495595.py:2: SettingWithCopyWarning: \n",
      "A value is trying to be set on a copy of a slice from a DataFrame.\n",
      "Try using .loc[row_indexer,col_indexer] = value instead\n",
      "\n",
      "See the caveats in the documentation: https://pandas.pydata.org/pandas-docs/stable/user_guide/indexing.html#returning-a-view-versus-a-copy\n",
      "  crime_data['day_of_week'] = crime_data['CMPLNT_FR_DT'].dt.dayofweek\n"
     ]
    }
   ],
   "source": [
    "crime_data['CMPLNT_FR_DT'] = pandas.to_datetime(crime_data['CMPLNT_FR_DT'], format='%m/%d/%Y')\n",
    "crime_data['day_of_week'] = crime_data['CMPLNT_FR_DT'].dt.dayofweek"
   ]
  },
  {
   "cell_type": "code",
   "execution_count": 107,
   "id": "83097022",
   "metadata": {
    "collapsed": false
   },
   "outputs": [
    {
     "data": {
      "text/plain": "        CMPLNT_FR_TM  Longitude   Latitude VIC_SEX                  VIC_RACE   \n0           20:30:00 -73.941064  40.810877       F                     WHITE  \\\n1           23:15:00 -73.908014  40.873671       D                   UNKNOWN   \n2           00:15:00 -73.885457  40.651782       D                   UNKNOWN   \n3           21:42:00 -73.994706  40.759310       F            WHITE HISPANIC   \n4           19:40:00 -73.970728  40.764536       D                   UNKNOWN   \n...              ...        ...        ...     ...                       ...   \n7042945     18:55:00 -73.996540  40.756788       E                   UNKNOWN   \n7042946     14:50:00 -74.102317  40.577953       M            WHITE HISPANIC   \n7042947     02:25:00 -73.862427  40.743188       M  ASIAN / PACIFIC ISLANDER   \n7042948     10:02:00 -74.089000  40.593665       M                     WHITE   \n7042949     14:40:00 -73.944529  40.688872       F                     WHITE   \n\n        VIC_AGE_GROUP  year  day_of_week  \n0               25-44  2018            3  \n1             UNKNOWN  2018            1  \n2             UNKNOWN  2018            2  \n3               18-24  2018            5  \n4             UNKNOWN  2018            5  \n...               ...   ...          ...  \n7042945       UNKNOWN  2008            3  \n7042946           <18  2018            4  \n7042947         25-44  2018            0  \n7042948         45-64  2018            5  \n7042949           <18  2018            4  \n\n[5541879 rows x 8 columns]",
      "text/html": "<div>\n<style scoped>\n    .dataframe tbody tr th:only-of-type {\n        vertical-align: middle;\n    }\n\n    .dataframe tbody tr th {\n        vertical-align: top;\n    }\n\n    .dataframe thead th {\n        text-align: right;\n    }\n</style>\n<table border=\"1\" class=\"dataframe\">\n  <thead>\n    <tr style=\"text-align: right;\">\n      <th></th>\n      <th>CMPLNT_FR_TM</th>\n      <th>Longitude</th>\n      <th>Latitude</th>\n      <th>VIC_SEX</th>\n      <th>VIC_RACE</th>\n      <th>VIC_AGE_GROUP</th>\n      <th>year</th>\n      <th>day_of_week</th>\n    </tr>\n  </thead>\n  <tbody>\n    <tr>\n      <th>0</th>\n      <td>20:30:00</td>\n      <td>-73.941064</td>\n      <td>40.810877</td>\n      <td>F</td>\n      <td>WHITE</td>\n      <td>25-44</td>\n      <td>2018</td>\n      <td>3</td>\n    </tr>\n    <tr>\n      <th>1</th>\n      <td>23:15:00</td>\n      <td>-73.908014</td>\n      <td>40.873671</td>\n      <td>D</td>\n      <td>UNKNOWN</td>\n      <td>UNKNOWN</td>\n      <td>2018</td>\n      <td>1</td>\n    </tr>\n    <tr>\n      <th>2</th>\n      <td>00:15:00</td>\n      <td>-73.885457</td>\n      <td>40.651782</td>\n      <td>D</td>\n      <td>UNKNOWN</td>\n      <td>UNKNOWN</td>\n      <td>2018</td>\n      <td>2</td>\n    </tr>\n    <tr>\n      <th>3</th>\n      <td>21:42:00</td>\n      <td>-73.994706</td>\n      <td>40.759310</td>\n      <td>F</td>\n      <td>WHITE HISPANIC</td>\n      <td>18-24</td>\n      <td>2018</td>\n      <td>5</td>\n    </tr>\n    <tr>\n      <th>4</th>\n      <td>19:40:00</td>\n      <td>-73.970728</td>\n      <td>40.764536</td>\n      <td>D</td>\n      <td>UNKNOWN</td>\n      <td>UNKNOWN</td>\n      <td>2018</td>\n      <td>5</td>\n    </tr>\n    <tr>\n      <th>...</th>\n      <td>...</td>\n      <td>...</td>\n      <td>...</td>\n      <td>...</td>\n      <td>...</td>\n      <td>...</td>\n      <td>...</td>\n      <td>...</td>\n    </tr>\n    <tr>\n      <th>7042945</th>\n      <td>18:55:00</td>\n      <td>-73.996540</td>\n      <td>40.756788</td>\n      <td>E</td>\n      <td>UNKNOWN</td>\n      <td>UNKNOWN</td>\n      <td>2008</td>\n      <td>3</td>\n    </tr>\n    <tr>\n      <th>7042946</th>\n      <td>14:50:00</td>\n      <td>-74.102317</td>\n      <td>40.577953</td>\n      <td>M</td>\n      <td>WHITE HISPANIC</td>\n      <td>&lt;18</td>\n      <td>2018</td>\n      <td>4</td>\n    </tr>\n    <tr>\n      <th>7042947</th>\n      <td>02:25:00</td>\n      <td>-73.862427</td>\n      <td>40.743188</td>\n      <td>M</td>\n      <td>ASIAN / PACIFIC ISLANDER</td>\n      <td>25-44</td>\n      <td>2018</td>\n      <td>0</td>\n    </tr>\n    <tr>\n      <th>7042948</th>\n      <td>10:02:00</td>\n      <td>-74.089000</td>\n      <td>40.593665</td>\n      <td>M</td>\n      <td>WHITE</td>\n      <td>45-64</td>\n      <td>2018</td>\n      <td>5</td>\n    </tr>\n    <tr>\n      <th>7042949</th>\n      <td>14:40:00</td>\n      <td>-73.944529</td>\n      <td>40.688872</td>\n      <td>F</td>\n      <td>WHITE</td>\n      <td>&lt;18</td>\n      <td>2018</td>\n      <td>4</td>\n    </tr>\n  </tbody>\n</table>\n<p>5541879 rows × 8 columns</p>\n</div>"
     },
     "execution_count": 107,
     "metadata": {},
     "output_type": "execute_result"
    }
   ],
   "source": [
    "crime_data = crime_data.drop('CMPLNT_FR_DT', axis=1)\n",
    "crime_data = crime_data.drop('month', axis=1)\n",
    "crime_data = crime_data.drop('day', axis=1)\n",
    "crime_data"
   ]
  },
  {
   "cell_type": "markdown",
   "id": "bfc92ad3",
   "metadata": {
    "collapsed": false
   },
   "source": [
    "# CMPLNT_FR_TM"
   ]
  },
  {
   "cell_type": "code",
   "execution_count": 108,
   "id": "9c12afb9",
   "metadata": {
    "collapsed": false
   },
   "outputs": [],
   "source": [
    "crime_data[['hour','minute','second']] = crime_data['CMPLNT_FR_TM'].str.split(':',expand=True).astype(int)"
   ]
  },
  {
   "cell_type": "code",
   "execution_count": 109,
   "id": "c32c83ae",
   "metadata": {
    "collapsed": false
   },
   "outputs": [
    {
     "data": {
      "text/plain": "         Longitude   Latitude VIC_SEX                  VIC_RACE VIC_AGE_GROUP   \n0       -73.941064  40.810877       F                     WHITE         25-44  \\\n1       -73.908014  40.873671       D                   UNKNOWN       UNKNOWN   \n2       -73.885457  40.651782       D                   UNKNOWN       UNKNOWN   \n3       -73.994706  40.759310       F            WHITE HISPANIC         18-24   \n4       -73.970728  40.764536       D                   UNKNOWN       UNKNOWN   \n...            ...        ...     ...                       ...           ...   \n7042945 -73.996540  40.756788       E                   UNKNOWN       UNKNOWN   \n7042946 -74.102317  40.577953       M            WHITE HISPANIC           <18   \n7042947 -73.862427  40.743188       M  ASIAN / PACIFIC ISLANDER         25-44   \n7042948 -74.089000  40.593665       M                     WHITE         45-64   \n7042949 -73.944529  40.688872       F                     WHITE           <18   \n\n         year  day_of_week  hour  \n0        2018            3    20  \n1        2018            1    23  \n2        2018            2     0  \n3        2018            5    21  \n4        2018            5    19  \n...       ...          ...   ...  \n7042945  2008            3    18  \n7042946  2018            4    14  \n7042947  2018            0     2  \n7042948  2018            5    10  \n7042949  2018            4    14  \n\n[5541879 rows x 8 columns]",
      "text/html": "<div>\n<style scoped>\n    .dataframe tbody tr th:only-of-type {\n        vertical-align: middle;\n    }\n\n    .dataframe tbody tr th {\n        vertical-align: top;\n    }\n\n    .dataframe thead th {\n        text-align: right;\n    }\n</style>\n<table border=\"1\" class=\"dataframe\">\n  <thead>\n    <tr style=\"text-align: right;\">\n      <th></th>\n      <th>Longitude</th>\n      <th>Latitude</th>\n      <th>VIC_SEX</th>\n      <th>VIC_RACE</th>\n      <th>VIC_AGE_GROUP</th>\n      <th>year</th>\n      <th>day_of_week</th>\n      <th>hour</th>\n    </tr>\n  </thead>\n  <tbody>\n    <tr>\n      <th>0</th>\n      <td>-73.941064</td>\n      <td>40.810877</td>\n      <td>F</td>\n      <td>WHITE</td>\n      <td>25-44</td>\n      <td>2018</td>\n      <td>3</td>\n      <td>20</td>\n    </tr>\n    <tr>\n      <th>1</th>\n      <td>-73.908014</td>\n      <td>40.873671</td>\n      <td>D</td>\n      <td>UNKNOWN</td>\n      <td>UNKNOWN</td>\n      <td>2018</td>\n      <td>1</td>\n      <td>23</td>\n    </tr>\n    <tr>\n      <th>2</th>\n      <td>-73.885457</td>\n      <td>40.651782</td>\n      <td>D</td>\n      <td>UNKNOWN</td>\n      <td>UNKNOWN</td>\n      <td>2018</td>\n      <td>2</td>\n      <td>0</td>\n    </tr>\n    <tr>\n      <th>3</th>\n      <td>-73.994706</td>\n      <td>40.759310</td>\n      <td>F</td>\n      <td>WHITE HISPANIC</td>\n      <td>18-24</td>\n      <td>2018</td>\n      <td>5</td>\n      <td>21</td>\n    </tr>\n    <tr>\n      <th>4</th>\n      <td>-73.970728</td>\n      <td>40.764536</td>\n      <td>D</td>\n      <td>UNKNOWN</td>\n      <td>UNKNOWN</td>\n      <td>2018</td>\n      <td>5</td>\n      <td>19</td>\n    </tr>\n    <tr>\n      <th>...</th>\n      <td>...</td>\n      <td>...</td>\n      <td>...</td>\n      <td>...</td>\n      <td>...</td>\n      <td>...</td>\n      <td>...</td>\n      <td>...</td>\n    </tr>\n    <tr>\n      <th>7042945</th>\n      <td>-73.996540</td>\n      <td>40.756788</td>\n      <td>E</td>\n      <td>UNKNOWN</td>\n      <td>UNKNOWN</td>\n      <td>2008</td>\n      <td>3</td>\n      <td>18</td>\n    </tr>\n    <tr>\n      <th>7042946</th>\n      <td>-74.102317</td>\n      <td>40.577953</td>\n      <td>M</td>\n      <td>WHITE HISPANIC</td>\n      <td>&lt;18</td>\n      <td>2018</td>\n      <td>4</td>\n      <td>14</td>\n    </tr>\n    <tr>\n      <th>7042947</th>\n      <td>-73.862427</td>\n      <td>40.743188</td>\n      <td>M</td>\n      <td>ASIAN / PACIFIC ISLANDER</td>\n      <td>25-44</td>\n      <td>2018</td>\n      <td>0</td>\n      <td>2</td>\n    </tr>\n    <tr>\n      <th>7042948</th>\n      <td>-74.089000</td>\n      <td>40.593665</td>\n      <td>M</td>\n      <td>WHITE</td>\n      <td>45-64</td>\n      <td>2018</td>\n      <td>5</td>\n      <td>10</td>\n    </tr>\n    <tr>\n      <th>7042949</th>\n      <td>-73.944529</td>\n      <td>40.688872</td>\n      <td>F</td>\n      <td>WHITE</td>\n      <td>&lt;18</td>\n      <td>2018</td>\n      <td>4</td>\n      <td>14</td>\n    </tr>\n  </tbody>\n</table>\n<p>5541879 rows × 8 columns</p>\n</div>"
     },
     "execution_count": 109,
     "metadata": {},
     "output_type": "execute_result"
    }
   ],
   "source": [
    "crime_data = crime_data.drop('CMPLNT_FR_TM', axis=1)\n",
    "crime_data = crime_data.drop('second', axis=1)\n",
    "crime_data = crime_data.drop('minute', axis=1)\n",
    "crime_data"
   ]
  },
  {
   "cell_type": "markdown",
   "id": "a5592a96",
   "metadata": {
    "collapsed": false
   },
   "source": [
    "# Grid the Longitude and Latitude"
   ]
  },
  {
   "cell_type": "code",
   "execution_count": 110,
   "id": "e1658554",
   "metadata": {
    "collapsed": false
   },
   "outputs": [],
   "source": [
    "# Create a grid of points across the precincts to use as the center of the crime clusters\n",
    "# The size of the grid is n x n, where n is the number of points in each direction\n",
    "from shapely.geometry import Point, Polygon\n",
    "from rtree import index\n",
    "\n",
    "precint_footprint = gpd.read_file('..//data//Police Precincts.geojson')\n",
    "\n",
    "# get the bounds of the precincts\n",
    "min_x, min_y, max_x, max_y = precint_footprint.total_bounds\n",
    "\n",
    "idx = index.Index()\n",
    "for i, row in precint_footprint.iterrows():\n",
    "    idx.insert(i, row.geometry.bounds)\n",
    "\n",
    "grid_size = 100  # You can adjust this value\n",
    "x_points = np.linspace(min_x, max_x, grid_size)\n",
    "y_points = np.linspace(min_y, max_y, grid_size)\n",
    "\n",
    "# Round the points to 4 decimal places\n",
    "x_points = np.around(x_points, 5)\n",
    "y_points = np.around(y_points, 5)\n",
    "\n",
    "grid = [Point(x, y) for x in x_points for y in y_points]\n",
    "\n",
    "# drop the points that are not within the precincts\n",
    "def is_point_inside_precincts(point, precincts_gdf, idx):\n",
    "    for i in idx.intersection(point.bounds):\n",
    "        if point.within(precincts_gdf.iloc[i].geometry):\n",
    "            return True\n",
    "    return False\n",
    "\n",
    "filtered_grid = [point for point in grid if is_point_inside_precincts(point, precint_footprint, idx)]\n",
    "filtered_grid_df = pandas.DataFrame([(point.x, point.y) for point in filtered_grid], columns=['Longitude', 'Latitude'])\n",
    "#\n",
    "del grid\n",
    "del filtered_grid"
   ]
  },
  {
   "cell_type": "code",
   "execution_count": 111,
   "id": "59293688",
   "metadata": {
    "collapsed": false
   },
   "outputs": [],
   "source": [
    "from scipy.spatial import cKDTree\n",
    "\n",
    "# create a KD Tree with the Longitude and Latitude columns of filtered_grid_df\n",
    "kd_tree = cKDTree(filtered_grid_df[['Longitude', 'Latitude']])\n",
    "\n",
    "def nearest_grid_point(coord, grid_points):\n",
    "    nearest_index = np.argmin(np.abs(coord - grid_points))\n",
    "    return grid_points[nearest_index]"
   ]
  },
  {
   "cell_type": "code",
   "execution_count": 112,
   "id": "104058ce",
   "metadata": {
    "collapsed": false
   },
   "outputs": [],
   "source": [
    "\n",
    "# query the KD Tree with the Longitude and Latitude columns of crime_data\n",
    "distances, indices = kd_tree.query(crime_data[['Longitude', 'Latitude']])\n",
    "\n",
    "# use the indices to get the corresponding Longitude and Latitude values from filtered_grid_df\n",
    "crime_data['Longitude'] = filtered_grid_df.loc[indices, 'Longitude'].values\n",
    "crime_data['Latitude'] = filtered_grid_df.loc[indices, 'Latitude'].values"
   ]
  },
  {
   "cell_type": "code",
   "execution_count": 113,
   "id": "3527edc8",
   "metadata": {
    "collapsed": false
   },
   "outputs": [
    {
     "data": {
      "text/plain": "<matplotlib.collections.PathCollection at 0x2182312b3a0>"
     },
     "execution_count": 113,
     "metadata": {},
     "output_type": "execute_result"
    },
    {
     "data": {
      "text/plain": "<Figure size 640x480 with 1 Axes>",
      "image/png": "[encoded data removed]"
     },
     "metadata": {},
     "output_type": "display_data"
    }
   ],
   "source": [
    "plt.scatter(crime_data['Longitude'], crime_data['Latitude'])"
   ]
  },
  {
   "cell_type": "code",
   "execution_count": 114,
   "id": "06a6002e",
   "metadata": {
    "collapsed": false
   },
   "outputs": [],
   "source": [
    "crime_data = crime_data.loc[crime_data['Longitude'] > -74.5]"
   ]
  },
  {
   "cell_type": "code",
   "execution_count": 115,
   "id": "ea0625b0",
   "metadata": {
    "collapsed": false
   },
   "outputs": [],
   "source": [
    "crime_data = crime_data.loc[crime_data['Latitude'] < 42.5]"
   ]
  },
  {
   "cell_type": "code",
   "execution_count": 116,
   "id": "9a3f363c",
   "metadata": {
    "collapsed": false
   },
   "outputs": [
    {
     "data": {
      "text/plain": "         Longitude  Latitude VIC_SEX                  VIC_RACE VIC_AGE_GROUP   \n0        -73.94132  40.80962       F                     WHITE         25-44  \\\n1        -73.90765  40.87317       D                   UNKNOWN       UNKNOWN   \n2        -73.88520  40.65288       D                   UNKNOWN       UNKNOWN   \n3        -73.99744  40.75879       F            WHITE HISPANIC         18-24   \n4        -73.96938  40.76302       D                   UNKNOWN       UNKNOWN   \n...            ...       ...     ...                       ...           ...   \n7042945  -73.99744  40.75879       E                   UNKNOWN       UNKNOWN   \n7042946  -74.10407  40.57662       M            WHITE HISPANIC           <18   \n7042947  -73.86276  40.74184       M  ASIAN / PACIFIC ISLANDER         25-44   \n7042948  -74.08723  40.59357       M                     WHITE         45-64   \n7042949  -73.94693  40.68677       F                     WHITE           <18   \n\n         year  day_of_week  hour  \n0        2018            3    20  \n1        2018            1    23  \n2        2018            2     0  \n3        2018            5    21  \n4        2018            5    19  \n...       ...          ...   ...  \n7042945  2008            3    18  \n7042946  2018            4    14  \n7042947  2018            0     2  \n7042948  2018            5    10  \n7042949  2018            4    14  \n\n[5541879 rows x 8 columns]",
      "text/html": "<div>\n<style scoped>\n    .dataframe tbody tr th:only-of-type {\n        vertical-align: middle;\n    }\n\n    .dataframe tbody tr th {\n        vertical-align: top;\n    }\n\n    .dataframe thead th {\n        text-align: right;\n    }\n</style>\n<table border=\"1\" class=\"dataframe\">\n  <thead>\n    <tr style=\"text-align: right;\">\n      <th></th>\n      <th>Longitude</th>\n      <th>Latitude</th>\n      <th>VIC_SEX</th>\n      <th>VIC_RACE</th>\n      <th>VIC_AGE_GROUP</th>\n      <th>year</th>\n      <th>day_of_week</th>\n      <th>hour</th>\n    </tr>\n  </thead>\n  <tbody>\n    <tr>\n      <th>0</th>\n      <td>-73.94132</td>\n      <td>40.80962</td>\n      <td>F</td>\n      <td>WHITE</td>\n      <td>25-44</td>\n      <td>2018</td>\n      <td>3</td>\n      <td>20</td>\n    </tr>\n    <tr>\n      <th>1</th>\n      <td>-73.90765</td>\n      <td>40.87317</td>\n      <td>D</td>\n      <td>UNKNOWN</td>\n      <td>UNKNOWN</td>\n      <td>2018</td>\n      <td>1</td>\n      <td>23</td>\n    </tr>\n    <tr>\n      <th>2</th>\n      <td>-73.88520</td>\n      <td>40.65288</td>\n      <td>D</td>\n      <td>UNKNOWN</td>\n      <td>UNKNOWN</td>\n      <td>2018</td>\n      <td>2</td>\n      <td>0</td>\n    </tr>\n    <tr>\n      <th>3</th>\n      <td>-73.99744</td>\n      <td>40.75879</td>\n      <td>F</td>\n      <td>WHITE HISPANIC</td>\n      <td>18-24</td>\n      <td>2018</td>\n      <td>5</td>\n      <td>21</td>\n    </tr>\n    <tr>\n      <th>4</th>\n      <td>-73.96938</td>\n      <td>40.76302</td>\n      <td>D</td>\n      <td>UNKNOWN</td>\n      <td>UNKNOWN</td>\n      <td>2018</td>\n      <td>5</td>\n      <td>19</td>\n    </tr>\n    <tr>\n      <th>...</th>\n      <td>...</td>\n      <td>...</td>\n      <td>...</td>\n      <td>...</td>\n      <td>...</td>\n      <td>...</td>\n      <td>...</td>\n      <td>...</td>\n    </tr>\n    <tr>\n      <th>7042945</th>\n      <td>-73.99744</td>\n      <td>40.75879</td>\n      <td>E</td>\n      <td>UNKNOWN</td>\n      <td>UNKNOWN</td>\n      <td>2008</td>\n      <td>3</td>\n      <td>18</td>\n    </tr>\n    <tr>\n      <th>7042946</th>\n      <td>-74.10407</td>\n      <td>40.57662</td>\n      <td>M</td>\n      <td>WHITE HISPANIC</td>\n      <td>&lt;18</td>\n      <td>2018</td>\n      <td>4</td>\n      <td>14</td>\n    </tr>\n    <tr>\n      <th>7042947</th>\n      <td>-73.86276</td>\n      <td>40.74184</td>\n      <td>M</td>\n      <td>ASIAN / PACIFIC ISLANDER</td>\n      <td>25-44</td>\n      <td>2018</td>\n      <td>0</td>\n      <td>2</td>\n    </tr>\n    <tr>\n      <th>7042948</th>\n      <td>-74.08723</td>\n      <td>40.59357</td>\n      <td>M</td>\n      <td>WHITE</td>\n      <td>45-64</td>\n      <td>2018</td>\n      <td>5</td>\n      <td>10</td>\n    </tr>\n    <tr>\n      <th>7042949</th>\n      <td>-73.94693</td>\n      <td>40.68677</td>\n      <td>F</td>\n      <td>WHITE</td>\n      <td>&lt;18</td>\n      <td>2018</td>\n      <td>4</td>\n      <td>14</td>\n    </tr>\n  </tbody>\n</table>\n<p>5541879 rows × 8 columns</p>\n</div>"
     },
     "execution_count": 116,
     "metadata": {},
     "output_type": "execute_result"
    }
   ],
   "source": [
    "crime_data"
   ]
  },
  {
   "cell_type": "markdown",
   "id": "45b9075b",
   "metadata": {
    "collapsed": false
   },
   "source": [
    "# VIC_SEX"
   ]
  },
  {
   "cell_type": "code",
   "execution_count": 117,
   "id": "a8c63bcd",
   "metadata": {
    "collapsed": false
   },
   "outputs": [
    {
     "data": {
      "text/plain": "['F', 'D', 'E', 'M', 'U']\nCategories (5, object): ['D', 'E', 'F', 'M', 'U']"
     },
     "execution_count": 117,
     "metadata": {},
     "output_type": "execute_result"
    }
   ],
   "source": [
    "crime_data['VIC_SEX'].unique()"
   ]
  },
  {
   "cell_type": "code",
   "execution_count": 118,
   "id": "f4ea9612",
   "metadata": {
    "collapsed": false
   },
   "outputs": [
    {
     "name": "stderr",
     "output_type": "stream",
     "text": [
      "C:\\Users\\Kaninik\\AppData\\Local\\Temp\\ipykernel_35532\\2297743256.py:6: SettingWithCopyWarning: \n",
      "A value is trying to be set on a copy of a slice from a DataFrame.\n",
      "Try using .loc[row_indexer,col_indexer] = value instead\n",
      "\n",
      "See the caveats in the documentation: https://pandas.pydata.org/pandas-docs/stable/user_guide/indexing.html#returning-a-view-versus-a-copy\n",
      "  crime_data['VIC_SEX'] = crime_data['VIC_SEX'].cat.remove_unused_categories()\n"
     ]
    },
    {
     "data": {
      "text/plain": "    Longitude  Latitude VIC_SEX        VIC_RACE VIC_AGE_GROUP  year   \n0   -73.94132  40.80962       F           WHITE         25-44  2018  \\\n3   -73.99744  40.75879       F  WHITE HISPANIC         18-24  2018   \n8   -73.91326  40.63593       M           BLACK           <18  2018   \n9   -73.95255  40.80539       M           BLACK         25-44  2018   \n10  -73.89643  40.82657       F           BLACK         45-64  2018   \n\n    day_of_week  hour  \n0             3    20  \n3             5    21  \n8             1    14  \n9             2    18  \n10            6    17  ",
      "text/html": "<div>\n<style scoped>\n    .dataframe tbody tr th:only-of-type {\n        vertical-align: middle;\n    }\n\n    .dataframe tbody tr th {\n        vertical-align: top;\n    }\n\n    .dataframe thead th {\n        text-align: right;\n    }\n</style>\n<table border=\"1\" class=\"dataframe\">\n  <thead>\n    <tr style=\"text-align: right;\">\n      <th></th>\n      <th>Longitude</th>\n      <th>Latitude</th>\n      <th>VIC_SEX</th>\n      <th>VIC_RACE</th>\n      <th>VIC_AGE_GROUP</th>\n      <th>year</th>\n      <th>day_of_week</th>\n      <th>hour</th>\n    </tr>\n  </thead>\n  <tbody>\n    <tr>\n      <th>0</th>\n      <td>-73.94132</td>\n      <td>40.80962</td>\n      <td>F</td>\n      <td>WHITE</td>\n      <td>25-44</td>\n      <td>2018</td>\n      <td>3</td>\n      <td>20</td>\n    </tr>\n    <tr>\n      <th>3</th>\n      <td>-73.99744</td>\n      <td>40.75879</td>\n      <td>F</td>\n      <td>WHITE HISPANIC</td>\n      <td>18-24</td>\n      <td>2018</td>\n      <td>5</td>\n      <td>21</td>\n    </tr>\n    <tr>\n      <th>8</th>\n      <td>-73.91326</td>\n      <td>40.63593</td>\n      <td>M</td>\n      <td>BLACK</td>\n      <td>&lt;18</td>\n      <td>2018</td>\n      <td>1</td>\n      <td>14</td>\n    </tr>\n    <tr>\n      <th>9</th>\n      <td>-73.95255</td>\n      <td>40.80539</td>\n      <td>M</td>\n      <td>BLACK</td>\n      <td>25-44</td>\n      <td>2018</td>\n      <td>2</td>\n      <td>18</td>\n    </tr>\n    <tr>\n      <th>10</th>\n      <td>-73.89643</td>\n      <td>40.82657</td>\n      <td>F</td>\n      <td>BLACK</td>\n      <td>45-64</td>\n      <td>2018</td>\n      <td>6</td>\n      <td>17</td>\n    </tr>\n  </tbody>\n</table>\n</div>"
     },
     "execution_count": 118,
     "metadata": {},
     "output_type": "execute_result"
    }
   ],
   "source": [
    "# Only keep the M and F sex values\n",
    "sexes = ['M', 'F']\n",
    "\n",
    "crime_data = crime_data.loc[crime_data['VIC_SEX'].isin(sexes)]\n",
    "# Re calculate the categories for the Sex column\n",
    "crime_data['VIC_SEX'] = crime_data['VIC_SEX'].cat.remove_unused_categories()\n",
    "\n",
    "del sexes\n",
    "crime_data.head(5)"
   ]
  },
  {
   "cell_type": "code",
   "execution_count": 119,
   "id": "5881ddd6",
   "metadata": {
    "collapsed": false
   },
   "outputs": [
    {
     "data": {
      "text/plain": "['F', 'M']\nCategories (2, object): ['F', 'M']"
     },
     "execution_count": 119,
     "metadata": {},
     "output_type": "execute_result"
    }
   ],
   "source": [
    "crime_data['VIC_SEX'].unique()"
   ]
  },
  {
   "cell_type": "markdown",
   "id": "04a31765",
   "metadata": {
    "collapsed": false
   },
   "source": [
    "# VIC_RACE\n"
   ]
  },
  {
   "cell_type": "code",
   "execution_count": 120,
   "id": "b991c670",
   "metadata": {
    "collapsed": false
   },
   "outputs": [
    {
     "data": {
      "text/plain": "['WHITE', 'WHITE HISPANIC', 'BLACK', 'ASIAN / PACIFIC ISLANDER', 'BLACK HISPANIC', 'UNKNOWN', 'AMERICAN INDIAN/ALASKAN NATIVE', 'OTHER']\nCategories (8, object): ['AMERICAN INDIAN/ALASKAN NATIVE', 'ASIAN / PACIFIC ISLANDER', 'BLACK', 'BLACK HISPANIC', 'OTHER', 'UNKNOWN', 'WHITE', 'WHITE HISPANIC']"
     },
     "execution_count": 120,
     "metadata": {},
     "output_type": "execute_result"
    }
   ],
   "source": [
    "crime_data['VIC_RACE'].unique()"
   ]
  },
  {
   "cell_type": "code",
   "execution_count": 121,
   "id": "64f8e211",
   "metadata": {
    "collapsed": false
   },
   "outputs": [
    {
     "data": {
      "text/plain": "    Longitude  Latitude VIC_SEX        VIC_RACE VIC_AGE_GROUP  year   \n0   -73.94132  40.80962       F           WHITE         25-44  2018  \\\n3   -73.99744  40.75879       F  WHITE HISPANIC         18-24  2018   \n8   -73.91326  40.63593       M           BLACK           <18  2018   \n9   -73.95255  40.80539       M           BLACK         25-44  2018   \n10  -73.89643  40.82657       F           BLACK         45-64  2018   \n\n    day_of_week  hour  \n0             3    20  \n3             5    21  \n8             1    14  \n9             2    18  \n10            6    17  ",
      "text/html": "<div>\n<style scoped>\n    .dataframe tbody tr th:only-of-type {\n        vertical-align: middle;\n    }\n\n    .dataframe tbody tr th {\n        vertical-align: top;\n    }\n\n    .dataframe thead th {\n        text-align: right;\n    }\n</style>\n<table border=\"1\" class=\"dataframe\">\n  <thead>\n    <tr style=\"text-align: right;\">\n      <th></th>\n      <th>Longitude</th>\n      <th>Latitude</th>\n      <th>VIC_SEX</th>\n      <th>VIC_RACE</th>\n      <th>VIC_AGE_GROUP</th>\n      <th>year</th>\n      <th>day_of_week</th>\n      <th>hour</th>\n    </tr>\n  </thead>\n  <tbody>\n    <tr>\n      <th>0</th>\n      <td>-73.94132</td>\n      <td>40.80962</td>\n      <td>F</td>\n      <td>WHITE</td>\n      <td>25-44</td>\n      <td>2018</td>\n      <td>3</td>\n      <td>20</td>\n    </tr>\n    <tr>\n      <th>3</th>\n      <td>-73.99744</td>\n      <td>40.75879</td>\n      <td>F</td>\n      <td>WHITE HISPANIC</td>\n      <td>18-24</td>\n      <td>2018</td>\n      <td>5</td>\n      <td>21</td>\n    </tr>\n    <tr>\n      <th>8</th>\n      <td>-73.91326</td>\n      <td>40.63593</td>\n      <td>M</td>\n      <td>BLACK</td>\n      <td>&lt;18</td>\n      <td>2018</td>\n      <td>1</td>\n      <td>14</td>\n    </tr>\n    <tr>\n      <th>9</th>\n      <td>-73.95255</td>\n      <td>40.80539</td>\n      <td>M</td>\n      <td>BLACK</td>\n      <td>25-44</td>\n      <td>2018</td>\n      <td>2</td>\n      <td>18</td>\n    </tr>\n    <tr>\n      <th>10</th>\n      <td>-73.89643</td>\n      <td>40.82657</td>\n      <td>F</td>\n      <td>BLACK</td>\n      <td>45-64</td>\n      <td>2018</td>\n      <td>6</td>\n      <td>17</td>\n    </tr>\n  </tbody>\n</table>\n</div>"
     },
     "execution_count": 121,
     "metadata": {},
     "output_type": "execute_result"
    }
   ],
   "source": [
    "# Keep everything except for UNKNOWN and OTHER\n",
    "races = ['WHITE', 'WHITE HISPANIC', 'BLACK','ASIAN / PACIFIC ISLANDER', 'BLACK HISPANIC','AMERICAN INDIAN/ALASKAN NATIVE', 'OTHER']\n",
    "\n",
    "crime_data = crime_data.loc[crime_data['VIC_RACE'].isin(races)]\n",
    "# Re calculate the categories for the Sex column\n",
    "crime_data['VIC_RACE'] = crime_data['VIC_RACE'].cat.remove_unused_categories()\n",
    "\n",
    "del races\n",
    "crime_data.head(5)"
   ]
  },
  {
   "cell_type": "code",
   "execution_count": 122,
   "id": "bea07858",
   "metadata": {
    "collapsed": false
   },
   "outputs": [
    {
     "data": {
      "text/plain": "['WHITE', 'WHITE HISPANIC', 'BLACK', 'ASIAN / PACIFIC ISLANDER', 'BLACK HISPANIC', 'AMERICAN INDIAN/ALASKAN NATIVE', 'OTHER']\nCategories (7, object): ['AMERICAN INDIAN/ALASKAN NATIVE', 'ASIAN / PACIFIC ISLANDER', 'BLACK', 'BLACK HISPANIC', 'OTHER', 'WHITE', 'WHITE HISPANIC']"
     },
     "execution_count": 122,
     "metadata": {},
     "output_type": "execute_result"
    }
   ],
   "source": [
    "crime_data['VIC_RACE'].unique()"
   ]
  },
  {
   "cell_type": "markdown",
   "id": "dc22cc2d",
   "metadata": {
    "collapsed": false
   },
   "source": [
    "# VIC_AGE_GROUP"
   ]
  },
  {
   "cell_type": "code",
   "execution_count": 123,
   "id": "dfe5e167",
   "metadata": {
    "collapsed": false
   },
   "outputs": [
    {
     "data": {
      "text/plain": "array(['25-44', '18-24', '<18', '45-64', '65+', 'UNKNOWN', '-942', '970',\n       '1017', '-51', '954', '972', '-55', '-1', '-966', '-974', '-948',\n       '956', '-962', '-2', '-936', '-81', '-40', '-37', '-973', '154',\n       '-952', '-940', '-968', '-943', '-929', '-43', '-56', '-954',\n       '943', '-967', '1018', '929', '936', '-71', '-50', '-69', '-67',\n       '937', '-946', '941', '1013', '-39', '960', '927', '938', '-984',\n       '-978', '-970', '950', '-934', '-4', '-62', '-3', '-960', '-921',\n       '-61', '963', '945', '-935', '-48', '-975', '-980', '-72', '946',\n       '-959', '1014', '-931', '-972', '949', '-965', '-60', '1016',\n       '932', '-31', '-963', '930', '-7', '-73', '-938', '-937', '-45',\n       '951', '-902', '-63', '-70', '-981', '928', '-964', '-971', '-945',\n       '940', '-52', '-32', '922', '926', '-78', '914', '947', '810',\n       '-961', '942', '-923', '711', '924', '-982', '933', '309', '152',\n       '962', '-950', '-969', '-976', '151', '738', '912', '709', '944',\n       '-49', '-85', '160', '948', '-75', '214', '934', '953', '158',\n       '838', '909', '809', '-958', '931', '623', '939', '908', '-956',\n       '185', '-947', '923', '920', '508', '955', '895', '172', '811',\n       '340', '964', '-955', '959', '-953', '707', '952', '935', '808',\n       '961', '-932', '918', '917', '980', '913', '260', '-47', '342',\n       '509', '981', '507', '957', '-939', '188', '911', '958', '359',\n       '812', '-983', '925', '979', '806', '910', '-985', '334', '1012'],\n      dtype=object)"
     },
     "execution_count": 123,
     "metadata": {},
     "output_type": "execute_result"
    }
   ],
   "source": [
    "crime_data['VIC_AGE_GROUP'].unique()"
   ]
  },
  {
   "cell_type": "code",
   "execution_count": 124,
   "id": "9ed46799",
   "metadata": {
    "collapsed": false
   },
   "outputs": [],
   "source": [
    "#remove values that don't belong to a victim age group\n",
    "crime_data['VIC_AGE_GROUP'] = numpy.where(crime_data['VIC_AGE_GROUP'].str.len()==4, None, crime_data['VIC_AGE_GROUP'])\n",
    "crime_data['VIC_AGE_GROUP'] = numpy.where(crime_data['VIC_AGE_GROUP'].str.startswith(\"-\"), None, crime_data['VIC_AGE_GROUP'])\n",
    "crime_data['VIC_AGE_GROUP'] = numpy.where(crime_data['VIC_AGE_GROUP'].str.contains(\"<\"), crime_data['VIC_AGE_GROUP'] + ' ', crime_data['VIC_AGE_GROUP'])\n",
    "crime_data['VIC_AGE_GROUP'] = numpy.where(crime_data['VIC_AGE_GROUP'].str.endswith(\"+\"), crime_data['VIC_AGE_GROUP'] + ' ', crime_data['VIC_AGE_GROUP'])\n",
    "crime_data['VIC_AGE_GROUP'] = numpy.where(crime_data['VIC_AGE_GROUP'].str.contains(\"UNKNOWN\"), None, crime_data['VIC_AGE_GROUP'])\n",
    "crime_data['VIC_AGE_GROUP'] = numpy.where(crime_data['VIC_AGE_GROUP'].str.len()==3, None, crime_data['VIC_AGE_GROUP'])"
   ]
  },
  {
   "cell_type": "code",
   "execution_count": 125,
   "id": "cf79394a",
   "metadata": {
    "collapsed": false
   },
   "outputs": [
    {
     "data": {
      "text/plain": "    Longitude  Latitude VIC_SEX        VIC_RACE VIC_AGE_GROUP  year   \n0   -73.94132  40.80962       F           WHITE         25-44  2018  \\\n3   -73.99744  40.75879       F  WHITE HISPANIC         18-24  2018   \n8   -73.91326  40.63593       M           BLACK          <18   2018   \n9   -73.95255  40.80539       M           BLACK         25-44  2018   \n10  -73.89643  40.82657       F           BLACK         45-64  2018   \n\n    day_of_week  hour  \n0             3    20  \n3             5    21  \n8             1    14  \n9             2    18  \n10            6    17  ",
      "text/html": "<div>\n<style scoped>\n    .dataframe tbody tr th:only-of-type {\n        vertical-align: middle;\n    }\n\n    .dataframe tbody tr th {\n        vertical-align: top;\n    }\n\n    .dataframe thead th {\n        text-align: right;\n    }\n</style>\n<table border=\"1\" class=\"dataframe\">\n  <thead>\n    <tr style=\"text-align: right;\">\n      <th></th>\n      <th>Longitude</th>\n      <th>Latitude</th>\n      <th>VIC_SEX</th>\n      <th>VIC_RACE</th>\n      <th>VIC_AGE_GROUP</th>\n      <th>year</th>\n      <th>day_of_week</th>\n      <th>hour</th>\n    </tr>\n  </thead>\n  <tbody>\n    <tr>\n      <th>0</th>\n      <td>-73.94132</td>\n      <td>40.80962</td>\n      <td>F</td>\n      <td>WHITE</td>\n      <td>25-44</td>\n      <td>2018</td>\n      <td>3</td>\n      <td>20</td>\n    </tr>\n    <tr>\n      <th>3</th>\n      <td>-73.99744</td>\n      <td>40.75879</td>\n      <td>F</td>\n      <td>WHITE HISPANIC</td>\n      <td>18-24</td>\n      <td>2018</td>\n      <td>5</td>\n      <td>21</td>\n    </tr>\n    <tr>\n      <th>8</th>\n      <td>-73.91326</td>\n      <td>40.63593</td>\n      <td>M</td>\n      <td>BLACK</td>\n      <td>&lt;18</td>\n      <td>2018</td>\n      <td>1</td>\n      <td>14</td>\n    </tr>\n    <tr>\n      <th>9</th>\n      <td>-73.95255</td>\n      <td>40.80539</td>\n      <td>M</td>\n      <td>BLACK</td>\n      <td>25-44</td>\n      <td>2018</td>\n      <td>2</td>\n      <td>18</td>\n    </tr>\n    <tr>\n      <th>10</th>\n      <td>-73.89643</td>\n      <td>40.82657</td>\n      <td>F</td>\n      <td>BLACK</td>\n      <td>45-64</td>\n      <td>2018</td>\n      <td>6</td>\n      <td>17</td>\n    </tr>\n  </tbody>\n</table>\n</div>"
     },
     "execution_count": 125,
     "metadata": {},
     "output_type": "execute_result"
    }
   ],
   "source": [
    "crime_data.head(5)"
   ]
  },
  {
   "cell_type": "code",
   "execution_count": 126,
   "id": "e142633d",
   "metadata": {
    "collapsed": false
   },
   "outputs": [],
   "source": [
    "#delete None\n",
    "crime_data = crime_data.dropna(subset=['VIC_AGE_GROUP'])"
   ]
  },
  {
   "cell_type": "code",
   "execution_count": 127,
   "id": "4cbf14c2",
   "metadata": {
    "collapsed": false
   },
   "outputs": [
    {
     "data": {
      "text/plain": "array(['25-44', '18-24', '<18 ', '45-64', '65+ '], dtype=object)"
     },
     "execution_count": 127,
     "metadata": {},
     "output_type": "execute_result"
    }
   ],
   "source": [
    "crime_data['VIC_AGE_GROUP'].unique()"
   ]
  },
  {
   "cell_type": "code",
   "execution_count": 128,
   "id": "c0509f16",
   "metadata": {
    "collapsed": false
   },
   "outputs": [
    {
     "data": {
      "text/plain": "    Longitude  Latitude VIC_SEX        VIC_RACE VIC_AGE_GROUP  year   \n0   -73.94132  40.80962       F           WHITE         25-44  2018  \\\n3   -73.99744  40.75879       F  WHITE HISPANIC         18-24  2018   \n8   -73.91326  40.63593       M           BLACK          <18   2018   \n9   -73.95255  40.80539       M           BLACK         25-44  2018   \n10  -73.89643  40.82657       F           BLACK         45-64  2018   \n\n    day_of_week  hour  \n0             3    20  \n3             5    21  \n8             1    14  \n9             2    18  \n10            6    17  ",
      "text/html": "<div>\n<style scoped>\n    .dataframe tbody tr th:only-of-type {\n        vertical-align: middle;\n    }\n\n    .dataframe tbody tr th {\n        vertical-align: top;\n    }\n\n    .dataframe thead th {\n        text-align: right;\n    }\n</style>\n<table border=\"1\" class=\"dataframe\">\n  <thead>\n    <tr style=\"text-align: right;\">\n      <th></th>\n      <th>Longitude</th>\n      <th>Latitude</th>\n      <th>VIC_SEX</th>\n      <th>VIC_RACE</th>\n      <th>VIC_AGE_GROUP</th>\n      <th>year</th>\n      <th>day_of_week</th>\n      <th>hour</th>\n    </tr>\n  </thead>\n  <tbody>\n    <tr>\n      <th>0</th>\n      <td>-73.94132</td>\n      <td>40.80962</td>\n      <td>F</td>\n      <td>WHITE</td>\n      <td>25-44</td>\n      <td>2018</td>\n      <td>3</td>\n      <td>20</td>\n    </tr>\n    <tr>\n      <th>3</th>\n      <td>-73.99744</td>\n      <td>40.75879</td>\n      <td>F</td>\n      <td>WHITE HISPANIC</td>\n      <td>18-24</td>\n      <td>2018</td>\n      <td>5</td>\n      <td>21</td>\n    </tr>\n    <tr>\n      <th>8</th>\n      <td>-73.91326</td>\n      <td>40.63593</td>\n      <td>M</td>\n      <td>BLACK</td>\n      <td>&lt;18</td>\n      <td>2018</td>\n      <td>1</td>\n      <td>14</td>\n    </tr>\n    <tr>\n      <th>9</th>\n      <td>-73.95255</td>\n      <td>40.80539</td>\n      <td>M</td>\n      <td>BLACK</td>\n      <td>25-44</td>\n      <td>2018</td>\n      <td>2</td>\n      <td>18</td>\n    </tr>\n    <tr>\n      <th>10</th>\n      <td>-73.89643</td>\n      <td>40.82657</td>\n      <td>F</td>\n      <td>BLACK</td>\n      <td>45-64</td>\n      <td>2018</td>\n      <td>6</td>\n      <td>17</td>\n    </tr>\n  </tbody>\n</table>\n</div>"
     },
     "execution_count": 128,
     "metadata": {},
     "output_type": "execute_result"
    }
   ],
   "source": [
    "crime_data.head(5)"
   ]
  },
  {
   "cell_type": "markdown",
   "id": "49796758",
   "metadata": {
    "collapsed": false
   },
   "source": [
    "# One hot encoding"
   ]
  },
  {
   "cell_type": "code",
   "execution_count": 129,
   "id": "6efe1f1c",
   "metadata": {
    "collapsed": false
   },
   "outputs": [
    {
     "data": {
      "text/plain": "         VIC_SEX_F  VIC_SEX_M  VIC_RACE_AMERICAN INDIAN/ALASKAN NATIVE   \n0             True      False                                    False  \\\n3             True      False                                    False   \n8            False       True                                    False   \n9            False       True                                    False   \n10            True      False                                    False   \n...            ...        ...                                      ...   \n7042944      False       True                                    False   \n7042946      False       True                                    False   \n7042947      False       True                                    False   \n7042948      False       True                                    False   \n7042949       True      False                                    False   \n\n         VIC_RACE_ASIAN / PACIFIC ISLANDER  VIC_RACE_BLACK   \n0                                    False           False  \\\n3                                    False           False   \n8                                    False            True   \n9                                    False            True   \n10                                   False            True   \n...                                    ...             ...   \n7042944                              False           False   \n7042946                              False           False   \n7042947                               True           False   \n7042948                              False           False   \n7042949                              False           False   \n\n         VIC_RACE_BLACK HISPANIC  VIC_RACE_OTHER  VIC_RACE_WHITE   \n0                          False           False            True  \\\n3                          False           False           False   \n8                          False           False           False   \n9                          False           False           False   \n10                         False           False           False   \n...                          ...             ...             ...   \n7042944                    False           False           False   \n7042946                    False           False           False   \n7042947                    False           False           False   \n7042948                    False           False            True   \n7042949                    False           False            True   \n\n         VIC_RACE_WHITE HISPANIC  VIC_AGE_GROUP_18-24  VIC_AGE_GROUP_25-44   \n0                          False                False                 True  \\\n3                           True                 True                False   \n8                          False                False                False   \n9                          False                False                 True   \n10                         False                False                False   \n...                          ...                  ...                  ...   \n7042944                     True                False                False   \n7042946                     True                False                False   \n7042947                    False                False                 True   \n7042948                    False                False                False   \n7042949                    False                False                False   \n\n         VIC_AGE_GROUP_45-64  VIC_AGE_GROUP_65+   VIC_AGE_GROUP_<18   \n0                      False               False               False  \n3                      False               False               False  \n8                      False               False                True  \n9                      False               False               False  \n10                      True               False               False  \n...                      ...                 ...                 ...  \n7042944                 True               False               False  \n7042946                False               False                True  \n7042947                False               False               False  \n7042948                 True               False               False  \n7042949                False               False                True  \n\n[4618043 rows x 14 columns]",
      "text/html": "<div>\n<style scoped>\n    .dataframe tbody tr th:only-of-type {\n        vertical-align: middle;\n    }\n\n    .dataframe tbody tr th {\n        vertical-align: top;\n    }\n\n    .dataframe thead th {\n        text-align: right;\n    }\n</style>\n<table border=\"1\" class=\"dataframe\">\n  <thead>\n    <tr style=\"text-align: right;\">\n      <th></th>\n      <th>VIC_SEX_F</th>\n      <th>VIC_SEX_M</th>\n      <th>VIC_RACE_AMERICAN INDIAN/ALASKAN NATIVE</th>\n      <th>VIC_RACE_ASIAN / PACIFIC ISLANDER</th>\n      <th>VIC_RACE_BLACK</th>\n      <th>VIC_RACE_BLACK HISPANIC</th>\n      <th>VIC_RACE_OTHER</th>\n      <th>VIC_RACE_WHITE</th>\n      <th>VIC_RACE_WHITE HISPANIC</th>\n      <th>VIC_AGE_GROUP_18-24</th>\n      <th>VIC_AGE_GROUP_25-44</th>\n      <th>VIC_AGE_GROUP_45-64</th>\n      <th>VIC_AGE_GROUP_65+</th>\n      <th>VIC_AGE_GROUP_&lt;18</th>\n    </tr>\n  </thead>\n  <tbody>\n    <tr>\n      <th>0</th>\n      <td>True</td>\n      <td>False</td>\n      <td>False</td>\n      <td>False</td>\n      <td>False</td>\n      <td>False</td>\n      <td>False</td>\n      <td>True</td>\n      <td>False</td>\n      <td>False</td>\n      <td>True</td>\n      <td>False</td>\n      <td>False</td>\n      <td>False</td>\n    </tr>\n    <tr>\n      <th>3</th>\n      <td>True</td>\n      <td>False</td>\n      <td>False</td>\n      <td>False</td>\n      <td>False</td>\n      <td>False</td>\n      <td>False</td>\n      <td>False</td>\n      <td>True</td>\n      <td>True</td>\n      <td>False</td>\n      <td>False</td>\n      <td>False</td>\n      <td>False</td>\n    </tr>\n    <tr>\n      <th>8</th>\n      <td>False</td>\n      <td>True</td>\n      <td>False</td>\n      <td>False</td>\n      <td>True</td>\n      <td>False</td>\n      <td>False</td>\n      <td>False</td>\n      <td>False</td>\n      <td>False</td>\n      <td>False</td>\n      <td>False</td>\n      <td>False</td>\n      <td>True</td>\n    </tr>\n    <tr>\n      <th>9</th>\n      <td>False</td>\n      <td>True</td>\n      <td>False</td>\n      <td>False</td>\n      <td>True</td>\n      <td>False</td>\n      <td>False</td>\n      <td>False</td>\n      <td>False</td>\n      <td>False</td>\n      <td>True</td>\n      <td>False</td>\n      <td>False</td>\n      <td>False</td>\n    </tr>\n    <tr>\n      <th>10</th>\n      <td>True</td>\n      <td>False</td>\n      <td>False</td>\n      <td>False</td>\n      <td>True</td>\n      <td>False</td>\n      <td>False</td>\n      <td>False</td>\n      <td>False</td>\n      <td>False</td>\n      <td>False</td>\n      <td>True</td>\n      <td>False</td>\n      <td>False</td>\n    </tr>\n    <tr>\n      <th>...</th>\n      <td>...</td>\n      <td>...</td>\n      <td>...</td>\n      <td>...</td>\n      <td>...</td>\n      <td>...</td>\n      <td>...</td>\n      <td>...</td>\n      <td>...</td>\n      <td>...</td>\n      <td>...</td>\n      <td>...</td>\n      <td>...</td>\n      <td>...</td>\n    </tr>\n    <tr>\n      <th>7042944</th>\n      <td>False</td>\n      <td>True</td>\n      <td>False</td>\n      <td>False</td>\n      <td>False</td>\n      <td>False</td>\n      <td>False</td>\n      <td>False</td>\n      <td>True</td>\n      <td>False</td>\n      <td>False</td>\n      <td>True</td>\n      <td>False</td>\n      <td>False</td>\n    </tr>\n    <tr>\n      <th>7042946</th>\n      <td>False</td>\n      <td>True</td>\n      <td>False</td>\n      <td>False</td>\n      <td>False</td>\n      <td>False</td>\n      <td>False</td>\n      <td>False</td>\n      <td>True</td>\n      <td>False</td>\n      <td>False</td>\n      <td>False</td>\n      <td>False</td>\n      <td>True</td>\n    </tr>\n    <tr>\n      <th>7042947</th>\n      <td>False</td>\n      <td>True</td>\n      <td>False</td>\n      <td>True</td>\n      <td>False</td>\n      <td>False</td>\n      <td>False</td>\n      <td>False</td>\n      <td>False</td>\n      <td>False</td>\n      <td>True</td>\n      <td>False</td>\n      <td>False</td>\n      <td>False</td>\n    </tr>\n    <tr>\n      <th>7042948</th>\n      <td>False</td>\n      <td>True</td>\n      <td>False</td>\n      <td>False</td>\n      <td>False</td>\n      <td>False</td>\n      <td>False</td>\n      <td>True</td>\n      <td>False</td>\n      <td>False</td>\n      <td>False</td>\n      <td>True</td>\n      <td>False</td>\n      <td>False</td>\n    </tr>\n    <tr>\n      <th>7042949</th>\n      <td>True</td>\n      <td>False</td>\n      <td>False</td>\n      <td>False</td>\n      <td>False</td>\n      <td>False</td>\n      <td>False</td>\n      <td>True</td>\n      <td>False</td>\n      <td>False</td>\n      <td>False</td>\n      <td>False</td>\n      <td>False</td>\n      <td>True</td>\n    </tr>\n  </tbody>\n</table>\n<p>4618043 rows × 14 columns</p>\n</div>"
     },
     "execution_count": 129,
     "metadata": {},
     "output_type": "execute_result"
    }
   ],
   "source": [
    "one_hot_encoded = pandas.get_dummies(crime_data[['VIC_SEX','VIC_RACE','VIC_AGE_GROUP']])\n",
    "one_hot_encoded"
   ]
  },
  {
   "cell_type": "code",
   "execution_count": 130,
   "id": "4865a313",
   "metadata": {
    "collapsed": false
   },
   "outputs": [],
   "source": [
    "one_hot_encoded_df = crime_data\n",
    "\n",
    "# concatenate the one-hot encoded columns with the original dataframe\n",
    "one_hot_encoded_df = pandas.concat([one_hot_encoded_df, one_hot_encoded], axis=1)\n"
   ]
  },
  {
   "cell_type": "code",
   "execution_count": 131,
   "id": "c531fc00",
   "metadata": {
    "collapsed": false
   },
   "outputs": [
    {
     "data": {
      "text/plain": "         Longitude  Latitude VIC_SEX                  VIC_RACE VIC_AGE_GROUP   \n0        -73.94132  40.80962       F                     WHITE         25-44  \\\n3        -73.99744  40.75879       F            WHITE HISPANIC         18-24   \n8        -73.91326  40.63593       M                     BLACK          <18    \n9        -73.95255  40.80539       M                     BLACK         25-44   \n10       -73.89643  40.82657       F                     BLACK         45-64   \n...            ...       ...     ...                       ...           ...   \n7042944  -73.90765  40.85622       M            WHITE HISPANIC         45-64   \n7042946  -74.10407  40.57662       M            WHITE HISPANIC          <18    \n7042947  -73.86276  40.74184       M  ASIAN / PACIFIC ISLANDER         25-44   \n7042948  -74.08723  40.59357       M                     WHITE         45-64   \n7042949  -73.94693  40.68677       F                     WHITE          <18    \n\n         year  day_of_week  hour  VIC_SEX_F  VIC_SEX_M  ...  VIC_RACE_BLACK   \n0        2018            3    20       True      False  ...           False  \\\n3        2018            5    21       True      False  ...           False   \n8        2018            1    14      False       True  ...            True   \n9        2018            2    18      False       True  ...            True   \n10       2018            6    17       True      False  ...            True   \n...       ...          ...   ...        ...        ...  ...             ...   \n7042944  2018            1    15      False       True  ...           False   \n7042946  2018            4    14      False       True  ...           False   \n7042947  2018            0     2      False       True  ...           False   \n7042948  2018            5    10      False       True  ...           False   \n7042949  2018            4    14       True      False  ...           False   \n\n         VIC_RACE_BLACK HISPANIC  VIC_RACE_OTHER  VIC_RACE_WHITE   \n0                          False           False            True  \\\n3                          False           False           False   \n8                          False           False           False   \n9                          False           False           False   \n10                         False           False           False   \n...                          ...             ...             ...   \n7042944                    False           False           False   \n7042946                    False           False           False   \n7042947                    False           False           False   \n7042948                    False           False            True   \n7042949                    False           False            True   \n\n         VIC_RACE_WHITE HISPANIC  VIC_AGE_GROUP_18-24  VIC_AGE_GROUP_25-44   \n0                          False                False                 True  \\\n3                           True                 True                False   \n8                          False                False                False   \n9                          False                False                 True   \n10                         False                False                False   \n...                          ...                  ...                  ...   \n7042944                     True                False                False   \n7042946                     True                False                False   \n7042947                    False                False                 True   \n7042948                    False                False                False   \n7042949                    False                False                False   \n\n         VIC_AGE_GROUP_45-64  VIC_AGE_GROUP_65+   VIC_AGE_GROUP_<18   \n0                      False               False               False  \n3                      False               False               False  \n8                      False               False                True  \n9                      False               False               False  \n10                      True               False               False  \n...                      ...                 ...                 ...  \n7042944                 True               False               False  \n7042946                False               False                True  \n7042947                False               False               False  \n7042948                 True               False               False  \n7042949                False               False                True  \n\n[4618043 rows x 22 columns]",
      "text/html": "<div>\n<style scoped>\n    .dataframe tbody tr th:only-of-type {\n        vertical-align: middle;\n    }\n\n    .dataframe tbody tr th {\n        vertical-align: top;\n    }\n\n    .dataframe thead th {\n        text-align: right;\n    }\n</style>\n<table border=\"1\" class=\"dataframe\">\n  <thead>\n    <tr style=\"text-align: right;\">\n      <th></th>\n      <th>Longitude</th>\n      <th>Latitude</th>\n      <th>VIC_SEX</th>\n      <th>VIC_RACE</th>\n      <th>VIC_AGE_GROUP</th>\n      <th>year</th>\n      <th>day_of_week</th>\n      <th>hour</th>\n      <th>VIC_SEX_F</th>\n      <th>VIC_SEX_M</th>\n      <th>...</th>\n      <th>VIC_RACE_BLACK</th>\n      <th>VIC_RACE_BLACK HISPANIC</th>\n      <th>VIC_RACE_OTHER</th>\n      <th>VIC_RACE_WHITE</th>\n      <th>VIC_RACE_WHITE HISPANIC</th>\n      <th>VIC_AGE_GROUP_18-24</th>\n      <th>VIC_AGE_GROUP_25-44</th>\n      <th>VIC_AGE_GROUP_45-64</th>\n      <th>VIC_AGE_GROUP_65+</th>\n      <th>VIC_AGE_GROUP_&lt;18</th>\n    </tr>\n  </thead>\n  <tbody>\n    <tr>\n      <th>0</th>\n      <td>-73.94132</td>\n      <td>40.80962</td>\n      <td>F</td>\n      <td>WHITE</td>\n      <td>25-44</td>\n      <td>2018</td>\n      <td>3</td>\n      <td>20</td>\n      <td>True</td>\n      <td>False</td>\n      <td>...</td>\n      <td>False</td>\n      <td>False</td>\n      <td>False</td>\n      <td>True</td>\n      <td>False</td>\n      <td>False</td>\n      <td>True</td>\n      <td>False</td>\n      <td>False</td>\n      <td>False</td>\n    </tr>\n    <tr>\n      <th>3</th>\n      <td>-73.99744</td>\n      <td>40.75879</td>\n      <td>F</td>\n      <td>WHITE HISPANIC</td>\n      <td>18-24</td>\n      <td>2018</td>\n      <td>5</td>\n      <td>21</td>\n      <td>True</td>\n      <td>False</td>\n      <td>...</td>\n      <td>False</td>\n      <td>False</td>\n      <td>False</td>\n      <td>False</td>\n      <td>True</td>\n      <td>True</td>\n      <td>False</td>\n      <td>False</td>\n      <td>False</td>\n      <td>False</td>\n    </tr>\n    <tr>\n      <th>8</th>\n      <td>-73.91326</td>\n      <td>40.63593</td>\n      <td>M</td>\n      <td>BLACK</td>\n      <td>&lt;18</td>\n      <td>2018</td>\n      <td>1</td>\n      <td>14</td>\n      <td>False</td>\n      <td>True</td>\n      <td>...</td>\n      <td>True</td>\n      <td>False</td>\n      <td>False</td>\n      <td>False</td>\n      <td>False</td>\n      <td>False</td>\n      <td>False</td>\n      <td>False</td>\n      <td>False</td>\n      <td>True</td>\n    </tr>\n    <tr>\n      <th>9</th>\n      <td>-73.95255</td>\n      <td>40.80539</td>\n      <td>M</td>\n      <td>BLACK</td>\n      <td>25-44</td>\n      <td>2018</td>\n      <td>2</td>\n      <td>18</td>\n      <td>False</td>\n      <td>True</td>\n      <td>...</td>\n      <td>True</td>\n      <td>False</td>\n      <td>False</td>\n      <td>False</td>\n      <td>False</td>\n      <td>False</td>\n      <td>True</td>\n      <td>False</td>\n      <td>False</td>\n      <td>False</td>\n    </tr>\n    <tr>\n      <th>10</th>\n      <td>-73.89643</td>\n      <td>40.82657</td>\n      <td>F</td>\n      <td>BLACK</td>\n      <td>45-64</td>\n      <td>2018</td>\n      <td>6</td>\n      <td>17</td>\n      <td>True</td>\n      <td>False</td>\n      <td>...</td>\n      <td>True</td>\n      <td>False</td>\n      <td>False</td>\n      <td>False</td>\n      <td>False</td>\n      <td>False</td>\n      <td>False</td>\n      <td>True</td>\n      <td>False</td>\n      <td>False</td>\n    </tr>\n    <tr>\n      <th>...</th>\n      <td>...</td>\n      <td>...</td>\n      <td>...</td>\n      <td>...</td>\n      <td>...</td>\n      <td>...</td>\n      <td>...</td>\n      <td>...</td>\n      <td>...</td>\n      <td>...</td>\n      <td>...</td>\n      <td>...</td>\n      <td>...</td>\n      <td>...</td>\n      <td>...</td>\n      <td>...</td>\n      <td>...</td>\n      <td>...</td>\n      <td>...</td>\n      <td>...</td>\n      <td>...</td>\n    </tr>\n    <tr>\n      <th>7042944</th>\n      <td>-73.90765</td>\n      <td>40.85622</td>\n      <td>M</td>\n      <td>WHITE HISPANIC</td>\n      <td>45-64</td>\n      <td>2018</td>\n      <td>1</td>\n      <td>15</td>\n      <td>False</td>\n      <td>True</td>\n      <td>...</td>\n      <td>False</td>\n      <td>False</td>\n      <td>False</td>\n      <td>False</td>\n      <td>True</td>\n      <td>False</td>\n      <td>False</td>\n      <td>True</td>\n      <td>False</td>\n      <td>False</td>\n    </tr>\n    <tr>\n      <th>7042946</th>\n      <td>-74.10407</td>\n      <td>40.57662</td>\n      <td>M</td>\n      <td>WHITE HISPANIC</td>\n      <td>&lt;18</td>\n      <td>2018</td>\n      <td>4</td>\n      <td>14</td>\n      <td>False</td>\n      <td>True</td>\n      <td>...</td>\n      <td>False</td>\n      <td>False</td>\n      <td>False</td>\n      <td>False</td>\n      <td>True</td>\n      <td>False</td>\n      <td>False</td>\n      <td>False</td>\n      <td>False</td>\n      <td>True</td>\n    </tr>\n    <tr>\n      <th>7042947</th>\n      <td>-73.86276</td>\n      <td>40.74184</td>\n      <td>M</td>\n      <td>ASIAN / PACIFIC ISLANDER</td>\n      <td>25-44</td>\n      <td>2018</td>\n      <td>0</td>\n      <td>2</td>\n      <td>False</td>\n      <td>True</td>\n      <td>...</td>\n      <td>False</td>\n      <td>False</td>\n      <td>False</td>\n      <td>False</td>\n      <td>False</td>\n      <td>False</td>\n      <td>True</td>\n      <td>False</td>\n      <td>False</td>\n      <td>False</td>\n    </tr>\n    <tr>\n      <th>7042948</th>\n      <td>-74.08723</td>\n      <td>40.59357</td>\n      <td>M</td>\n      <td>WHITE</td>\n      <td>45-64</td>\n      <td>2018</td>\n      <td>5</td>\n      <td>10</td>\n      <td>False</td>\n      <td>True</td>\n      <td>...</td>\n      <td>False</td>\n      <td>False</td>\n      <td>False</td>\n      <td>True</td>\n      <td>False</td>\n      <td>False</td>\n      <td>False</td>\n      <td>True</td>\n      <td>False</td>\n      <td>False</td>\n    </tr>\n    <tr>\n      <th>7042949</th>\n      <td>-73.94693</td>\n      <td>40.68677</td>\n      <td>F</td>\n      <td>WHITE</td>\n      <td>&lt;18</td>\n      <td>2018</td>\n      <td>4</td>\n      <td>14</td>\n      <td>True</td>\n      <td>False</td>\n      <td>...</td>\n      <td>False</td>\n      <td>False</td>\n      <td>False</td>\n      <td>True</td>\n      <td>False</td>\n      <td>False</td>\n      <td>False</td>\n      <td>False</td>\n      <td>False</td>\n      <td>True</td>\n    </tr>\n  </tbody>\n</table>\n<p>4618043 rows × 22 columns</p>\n</div>"
     },
     "execution_count": 131,
     "metadata": {},
     "output_type": "execute_result"
    }
   ],
   "source": [
    "one_hot_encoded_df"
   ]
  },
  {
   "cell_type": "code",
   "execution_count": 132,
   "id": "a50ab3b0",
   "metadata": {
    "collapsed": false
   },
   "outputs": [],
   "source": [
    "# drop the VIC_SEX, VIC_Race, and VIC_AGE_GROUP columns\n",
    "one_hot_encoded_df = one_hot_encoded_df.drop('VIC_SEX', axis=1)\n",
    "one_hot_encoded_df = one_hot_encoded_df.drop('VIC_RACE', axis=1)\n",
    "one_hot_encoded_df = one_hot_encoded_df.drop('VIC_AGE_GROUP', axis=1)"
   ]
  },
  {
   "cell_type": "code",
   "execution_count": 133,
   "id": "fbacb51b",
   "metadata": {
    "collapsed": false
   },
   "outputs": [],
   "source": [
    "crime_counts = (\n",
    "    one_hot_encoded_df.groupby(['Longitude', 'Latitude', 'year', 'day_of_week', 'hour'])\n",
    "    .sum()\n",
    ")"
   ]
  },
  {
   "cell_type": "code",
   "execution_count": 134,
   "id": "0c62ac22",
   "metadata": {
    "collapsed": false
   },
   "outputs": [
    {
     "data": {
      "text/plain": "         Longitude  Latitude  year  day_of_week  hour  VIC_SEX_F  VIC_SEX_M   \n0        -74.24998  40.50037  2006            0    17          2          0  \\\n1        -74.24998  40.50037  2006            1    10          0          1   \n2        -74.24998  40.50037  2006            1    13          0          1   \n3        -74.24998  40.50037  2006            3     1          0          1   \n4        -74.24998  40.50037  2006            4     9          1          0   \n...            ...       ...   ...          ...   ...        ...        ...   \n2624987  -73.70562  40.75455  2021            5    22          1          0   \n2624988  -73.70562  40.75455  2021            6     1          0          1   \n2624989  -73.70562  40.75455  2021            6    11          0          1   \n2624990  -73.70562  40.75455  2021            6    16          0          1   \n2624991  -73.70562  40.75455  2021            6    20          0          2   \n\n         VIC_RACE_AMERICAN INDIAN/ALASKAN NATIVE   \n0                                              0  \\\n1                                              0   \n2                                              0   \n3                                              0   \n4                                              0   \n...                                          ...   \n2624987                                        0   \n2624988                                        0   \n2624989                                        0   \n2624990                                        0   \n2624991                                        0   \n\n         VIC_RACE_ASIAN / PACIFIC ISLANDER  VIC_RACE_BLACK   \n0                                        0               0  \\\n1                                        0               0   \n2                                        0               0   \n3                                        0               0   \n4                                        0               0   \n...                                    ...             ...   \n2624987                                  0               1   \n2624988                                  1               0   \n2624989                                  0               1   \n2624990                                  0               1   \n2624991                                  1               0   \n\n         VIC_RACE_BLACK HISPANIC  VIC_RACE_OTHER  VIC_RACE_WHITE   \n0                              0               0               2  \\\n1                              0               0               1   \n2                              0               0               1   \n3                              0               0               1   \n4                              0               0               1   \n...                          ...             ...             ...   \n2624987                        0               0               0   \n2624988                        0               0               0   \n2624989                        0               0               0   \n2624990                        0               0               0   \n2624991                        0               0               1   \n\n         VIC_RACE_WHITE HISPANIC  VIC_AGE_GROUP_18-24  VIC_AGE_GROUP_25-44   \n0                              0                    0                    0  \\\n1                              0                    1                    0   \n2                              0                    0                    0   \n3                              0                    1                    0   \n4                              0                    0                    1   \n...                          ...                  ...                  ...   \n2624987                        0                    0                    1   \n2624988                        0                    0                    1   \n2624989                        0                    0                    1   \n2624990                        0                    0                    1   \n2624991                        0                    0                    2   \n\n         VIC_AGE_GROUP_45-64  VIC_AGE_GROUP_65+   VIC_AGE_GROUP_<18   \n0                          0                   0                   2  \n1                          0                   0                   0  \n2                          1                   0                   0  \n3                          0                   0                   0  \n4                          0                   0                   0  \n...                      ...                 ...                 ...  \n2624987                    0                   0                   0  \n2624988                    0                   0                   0  \n2624989                    0                   0                   0  \n2624990                    0                   0                   0  \n2624991                    0                   0                   0  \n\n[2624992 rows x 19 columns]",
      "text/html": "<div>\n<style scoped>\n    .dataframe tbody tr th:only-of-type {\n        vertical-align: middle;\n    }\n\n    .dataframe tbody tr th {\n        vertical-align: top;\n    }\n\n    .dataframe thead th {\n        text-align: right;\n    }\n</style>\n<table border=\"1\" class=\"dataframe\">\n  <thead>\n    <tr style=\"text-align: right;\">\n      <th></th>\n      <th>Longitude</th>\n      <th>Latitude</th>\n      <th>year</th>\n      <th>day_of_week</th>\n      <th>hour</th>\n      <th>VIC_SEX_F</th>\n      <th>VIC_SEX_M</th>\n      <th>VIC_RACE_AMERICAN INDIAN/ALASKAN NATIVE</th>\n      <th>VIC_RACE_ASIAN / PACIFIC ISLANDER</th>\n      <th>VIC_RACE_BLACK</th>\n      <th>VIC_RACE_BLACK HISPANIC</th>\n      <th>VIC_RACE_OTHER</th>\n      <th>VIC_RACE_WHITE</th>\n      <th>VIC_RACE_WHITE HISPANIC</th>\n      <th>VIC_AGE_GROUP_18-24</th>\n      <th>VIC_AGE_GROUP_25-44</th>\n      <th>VIC_AGE_GROUP_45-64</th>\n      <th>VIC_AGE_GROUP_65+</th>\n      <th>VIC_AGE_GROUP_&lt;18</th>\n    </tr>\n  </thead>\n  <tbody>\n    <tr>\n      <th>0</th>\n      <td>-74.24998</td>\n      <td>40.50037</td>\n      <td>2006</td>\n      <td>0</td>\n      <td>17</td>\n      <td>2</td>\n      <td>0</td>\n      <td>0</td>\n      <td>0</td>\n      <td>0</td>\n      <td>0</td>\n      <td>0</td>\n      <td>2</td>\n      <td>0</td>\n      <td>0</td>\n      <td>0</td>\n      <td>0</td>\n      <td>0</td>\n      <td>2</td>\n    </tr>\n    <tr>\n      <th>1</th>\n      <td>-74.24998</td>\n      <td>40.50037</td>\n      <td>2006</td>\n      <td>1</td>\n      <td>10</td>\n      <td>0</td>\n      <td>1</td>\n      <td>0</td>\n      <td>0</td>\n      <td>0</td>\n      <td>0</td>\n      <td>0</td>\n      <td>1</td>\n      <td>0</td>\n      <td>1</td>\n      <td>0</td>\n      <td>0</td>\n      <td>0</td>\n      <td>0</td>\n    </tr>\n    <tr>\n      <th>2</th>\n      <td>-74.24998</td>\n      <td>40.50037</td>\n      <td>2006</td>\n      <td>1</td>\n      <td>13</td>\n      <td>0</td>\n      <td>1</td>\n      <td>0</td>\n      <td>0</td>\n      <td>0</td>\n      <td>0</td>\n      <td>0</td>\n      <td>1</td>\n      <td>0</td>\n      <td>0</td>\n      <td>0</td>\n      <td>1</td>\n      <td>0</td>\n      <td>0</td>\n    </tr>\n    <tr>\n      <th>3</th>\n      <td>-74.24998</td>\n      <td>40.50037</td>\n      <td>2006</td>\n      <td>3</td>\n      <td>1</td>\n      <td>0</td>\n      <td>1</td>\n      <td>0</td>\n      <td>0</td>\n      <td>0</td>\n      <td>0</td>\n      <td>0</td>\n      <td>1</td>\n      <td>0</td>\n      <td>1</td>\n      <td>0</td>\n      <td>0</td>\n      <td>0</td>\n      <td>0</td>\n    </tr>\n    <tr>\n      <th>4</th>\n      <td>-74.24998</td>\n      <td>40.50037</td>\n      <td>2006</td>\n      <td>4</td>\n      <td>9</td>\n      <td>1</td>\n      <td>0</td>\n      <td>0</td>\n      <td>0</td>\n      <td>0</td>\n      <td>0</td>\n      <td>0</td>\n      <td>1</td>\n      <td>0</td>\n      <td>0</td>\n      <td>1</td>\n      <td>0</td>\n      <td>0</td>\n      <td>0</td>\n    </tr>\n    <tr>\n      <th>...</th>\n      <td>...</td>\n      <td>...</td>\n      <td>...</td>\n      <td>...</td>\n      <td>...</td>\n      <td>...</td>\n      <td>...</td>\n      <td>...</td>\n      <td>...</td>\n      <td>...</td>\n      <td>...</td>\n      <td>...</td>\n      <td>...</td>\n      <td>...</td>\n      <td>...</td>\n      <td>...</td>\n      <td>...</td>\n      <td>...</td>\n      <td>...</td>\n    </tr>\n    <tr>\n      <th>2624987</th>\n      <td>-73.70562</td>\n      <td>40.75455</td>\n      <td>2021</td>\n      <td>5</td>\n      <td>22</td>\n      <td>1</td>\n      <td>0</td>\n      <td>0</td>\n      <td>0</td>\n      <td>1</td>\n      <td>0</td>\n      <td>0</td>\n      <td>0</td>\n      <td>0</td>\n      <td>0</td>\n      <td>1</td>\n      <td>0</td>\n      <td>0</td>\n      <td>0</td>\n    </tr>\n    <tr>\n      <th>2624988</th>\n      <td>-73.70562</td>\n      <td>40.75455</td>\n      <td>2021</td>\n      <td>6</td>\n      <td>1</td>\n      <td>0</td>\n      <td>1</td>\n      <td>0</td>\n      <td>1</td>\n      <td>0</td>\n      <td>0</td>\n      <td>0</td>\n      <td>0</td>\n      <td>0</td>\n      <td>0</td>\n      <td>1</td>\n      <td>0</td>\n      <td>0</td>\n      <td>0</td>\n    </tr>\n    <tr>\n      <th>2624989</th>\n      <td>-73.70562</td>\n      <td>40.75455</td>\n      <td>2021</td>\n      <td>6</td>\n      <td>11</td>\n      <td>0</td>\n      <td>1</td>\n      <td>0</td>\n      <td>0</td>\n      <td>1</td>\n      <td>0</td>\n      <td>0</td>\n      <td>0</td>\n      <td>0</td>\n      <td>0</td>\n      <td>1</td>\n      <td>0</td>\n      <td>0</td>\n      <td>0</td>\n    </tr>\n    <tr>\n      <th>2624990</th>\n      <td>-73.70562</td>\n      <td>40.75455</td>\n      <td>2021</td>\n      <td>6</td>\n      <td>16</td>\n      <td>0</td>\n      <td>1</td>\n      <td>0</td>\n      <td>0</td>\n      <td>1</td>\n      <td>0</td>\n      <td>0</td>\n      <td>0</td>\n      <td>0</td>\n      <td>0</td>\n      <td>1</td>\n      <td>0</td>\n      <td>0</td>\n      <td>0</td>\n    </tr>\n    <tr>\n      <th>2624991</th>\n      <td>-73.70562</td>\n      <td>40.75455</td>\n      <td>2021</td>\n      <td>6</td>\n      <td>20</td>\n      <td>0</td>\n      <td>2</td>\n      <td>0</td>\n      <td>1</td>\n      <td>0</td>\n      <td>0</td>\n      <td>0</td>\n      <td>1</td>\n      <td>0</td>\n      <td>0</td>\n      <td>2</td>\n      <td>0</td>\n      <td>0</td>\n      <td>0</td>\n    </tr>\n  </tbody>\n</table>\n<p>2624992 rows × 19 columns</p>\n</div>"
     },
     "execution_count": 134,
     "metadata": {},
     "output_type": "execute_result"
    }
   ],
   "source": [
    "crime_counts.reset_index(inplace=True)\n",
    "crime_counts"
   ]
  },
  {
   "cell_type": "markdown",
   "id": "3ae19311",
   "metadata": {
    "collapsed": false
   },
   "source": [
    "# Trees"
   ]
  },
  {
   "cell_type": "code",
   "execution_count": 135,
   "id": "3656f337",
   "metadata": {
    "collapsed": false
   },
   "outputs": [
    {
     "data": {
      "text/plain": "        nta health zipcode     latitude               nta_name     state   \n0      QN17   Fair   11375  40.72309177           Forest Hills  New York  \\\n1      QN49   Fair   11357  40.79411067             Whitestone  New York   \n2      BK90   Good   11211  40.71758074      East Williamsburg  New York   \n3      BK90   Good   11211  40.71353749      East Williamsburg  New York   \n4      BK37   Good   11215  40.66677776     Park Slope-Gowanus  New York   \n...     ...    ...     ...          ...                    ...       ...   \n19995  MN17   Good   10001  40.74695093  Midtown-Midtown South  New York   \n19996  QN63   Fair   11377  40.75050942               Woodside  New York   \n19997  BK61   Good   11216  40.67709924    Crown Heights North  New York   \n19998  QN21   Good   11379  40.71581201         Middle Village  New York   \n19999  BK63   Good   11225  40.66736304    Crown Heights South  New York   \n\n      trnk_wire           y_sp brnch_othe root_grate  ...   \n0            No  202756.768749         No         No  ...  \\\n1            No  228644.837379         No         No  ...   \n2            No  200716.891267         No         No  ...   \n3            No  199244.253136         No         No  ...   \n4            No  182202.425999         No         No  ...   \n...         ...            ...        ...        ...  ...   \n19995        No   211411.03228         No         No  ...   \n19996        No  212723.241598         No         No  ...   \n19997        No  185965.924706         No         No  ...   \n19998        No  200087.012605         No         No  ...   \n19999        No  182417.921959         No         No  ...   \n\n                   address  sidewalk root_other  created_at borocode block_id   \n0        108-005 70 AVENUE  NoDamage         No  08/27/2015        4   348711  \\\n1         147-074 7 AVENUE    Damage         No  09/03/2015        4   315986   \n2        390 MORGAN AVENUE    Damage         No  09/05/2015        3   218365   \n3        1027 GRAND STREET    Damage         No  09/05/2015        3   217969   \n4             603 6 STREET    Damage         No  08/30/2015        3   223043   \n...                    ...       ...        ...         ...      ...      ...   \n19995   249 WEST 26 STREET    Damage         No  08/28/2015        1   104482   \n19996      61-025 BROADWAY  NoDamage         No  09/12/2015        4   304517   \n19997  589 NOSTRAND AVENUE    Damage         No  08/12/2015        3   226455   \n19998     64-010 70 STREET    Damage         No  09/14/2015        4   346144   \n19999  1072 CARROLL STREET  NoDamage         No  09/13/2015        3   227218   \n\n      trnk_light tree_dbh root_stone                    geometry  \n0             No        3         No  POINT (-73.84422 40.72309)  \n1             No       21        Yes  POINT (-73.81868 40.79411)  \n2             No        3         No  POINT (-73.93661 40.71758)  \n3             No       10        Yes  POINT (-73.93446 40.71354)  \n4             No       21        Yes  POINT (-73.97598 40.66678)  \n...          ...      ...        ...                         ...  \n19995         No        9        Yes  POINT (-73.99639 40.74695)  \n19996         No       18        Yes  POINT (-73.90019 40.75051)  \n19997         No        5         No  POINT (-73.94974 40.67710)  \n19998         No       29        Yes  POINT (-73.88512 40.71581)  \n19999         No       24        Yes  POINT (-73.95524 40.66736)  \n\n[20000 rows x 42 columns]",
      "text/html": "<div>\n<style scoped>\n    .dataframe tbody tr th:only-of-type {\n        vertical-align: middle;\n    }\n\n    .dataframe tbody tr th {\n        vertical-align: top;\n    }\n\n    .dataframe thead th {\n        text-align: right;\n    }\n</style>\n<table border=\"1\" class=\"dataframe\">\n  <thead>\n    <tr style=\"text-align: right;\">\n      <th></th>\n      <th>nta</th>\n      <th>health</th>\n      <th>zipcode</th>\n      <th>latitude</th>\n      <th>nta_name</th>\n      <th>state</th>\n      <th>trnk_wire</th>\n      <th>y_sp</th>\n      <th>brnch_othe</th>\n      <th>root_grate</th>\n      <th>...</th>\n      <th>address</th>\n      <th>sidewalk</th>\n      <th>root_other</th>\n      <th>created_at</th>\n      <th>borocode</th>\n      <th>block_id</th>\n      <th>trnk_light</th>\n      <th>tree_dbh</th>\n      <th>root_stone</th>\n      <th>geometry</th>\n    </tr>\n  </thead>\n  <tbody>\n    <tr>\n      <th>0</th>\n      <td>QN17</td>\n      <td>Fair</td>\n      <td>11375</td>\n      <td>40.72309177</td>\n      <td>Forest Hills</td>\n      <td>New York</td>\n      <td>No</td>\n      <td>202756.768749</td>\n      <td>No</td>\n      <td>No</td>\n      <td>...</td>\n      <td>108-005 70 AVENUE</td>\n      <td>NoDamage</td>\n      <td>No</td>\n      <td>08/27/2015</td>\n      <td>4</td>\n      <td>348711</td>\n      <td>No</td>\n      <td>3</td>\n      <td>No</td>\n      <td>POINT (-73.84422 40.72309)</td>\n    </tr>\n    <tr>\n      <th>1</th>\n      <td>QN49</td>\n      <td>Fair</td>\n      <td>11357</td>\n      <td>40.79411067</td>\n      <td>Whitestone</td>\n      <td>New York</td>\n      <td>No</td>\n      <td>228644.837379</td>\n      <td>No</td>\n      <td>No</td>\n      <td>...</td>\n      <td>147-074 7 AVENUE</td>\n      <td>Damage</td>\n      <td>No</td>\n      <td>09/03/2015</td>\n      <td>4</td>\n      <td>315986</td>\n      <td>No</td>\n      <td>21</td>\n      <td>Yes</td>\n      <td>POINT (-73.81868 40.79411)</td>\n    </tr>\n    <tr>\n      <th>2</th>\n      <td>BK90</td>\n      <td>Good</td>\n      <td>11211</td>\n      <td>40.71758074</td>\n      <td>East Williamsburg</td>\n      <td>New York</td>\n      <td>No</td>\n      <td>200716.891267</td>\n      <td>No</td>\n      <td>No</td>\n      <td>...</td>\n      <td>390 MORGAN AVENUE</td>\n      <td>Damage</td>\n      <td>No</td>\n      <td>09/05/2015</td>\n      <td>3</td>\n      <td>218365</td>\n      <td>No</td>\n      <td>3</td>\n      <td>No</td>\n      <td>POINT (-73.93661 40.71758)</td>\n    </tr>\n    <tr>\n      <th>3</th>\n      <td>BK90</td>\n      <td>Good</td>\n      <td>11211</td>\n      <td>40.71353749</td>\n      <td>East Williamsburg</td>\n      <td>New York</td>\n      <td>No</td>\n      <td>199244.253136</td>\n      <td>No</td>\n      <td>No</td>\n      <td>...</td>\n      <td>1027 GRAND STREET</td>\n      <td>Damage</td>\n      <td>No</td>\n      <td>09/05/2015</td>\n      <td>3</td>\n      <td>217969</td>\n      <td>No</td>\n      <td>10</td>\n      <td>Yes</td>\n      <td>POINT (-73.93446 40.71354)</td>\n    </tr>\n    <tr>\n      <th>4</th>\n      <td>BK37</td>\n      <td>Good</td>\n      <td>11215</td>\n      <td>40.66677776</td>\n      <td>Park Slope-Gowanus</td>\n      <td>New York</td>\n      <td>No</td>\n      <td>182202.425999</td>\n      <td>No</td>\n      <td>No</td>\n      <td>...</td>\n      <td>603 6 STREET</td>\n      <td>Damage</td>\n      <td>No</td>\n      <td>08/30/2015</td>\n      <td>3</td>\n      <td>223043</td>\n      <td>No</td>\n      <td>21</td>\n      <td>Yes</td>\n      <td>POINT (-73.97598 40.66678)</td>\n    </tr>\n    <tr>\n      <th>...</th>\n      <td>...</td>\n      <td>...</td>\n      <td>...</td>\n      <td>...</td>\n      <td>...</td>\n      <td>...</td>\n      <td>...</td>\n      <td>...</td>\n      <td>...</td>\n      <td>...</td>\n      <td>...</td>\n      <td>...</td>\n      <td>...</td>\n      <td>...</td>\n      <td>...</td>\n      <td>...</td>\n      <td>...</td>\n      <td>...</td>\n      <td>...</td>\n      <td>...</td>\n      <td>...</td>\n    </tr>\n    <tr>\n      <th>19995</th>\n      <td>MN17</td>\n      <td>Good</td>\n      <td>10001</td>\n      <td>40.74695093</td>\n      <td>Midtown-Midtown South</td>\n      <td>New York</td>\n      <td>No</td>\n      <td>211411.03228</td>\n      <td>No</td>\n      <td>No</td>\n      <td>...</td>\n      <td>249 WEST 26 STREET</td>\n      <td>Damage</td>\n      <td>No</td>\n      <td>08/28/2015</td>\n      <td>1</td>\n      <td>104482</td>\n      <td>No</td>\n      <td>9</td>\n      <td>Yes</td>\n      <td>POINT (-73.99639 40.74695)</td>\n    </tr>\n    <tr>\n      <th>19996</th>\n      <td>QN63</td>\n      <td>Fair</td>\n      <td>11377</td>\n      <td>40.75050942</td>\n      <td>Woodside</td>\n      <td>New York</td>\n      <td>No</td>\n      <td>212723.241598</td>\n      <td>No</td>\n      <td>No</td>\n      <td>...</td>\n      <td>61-025 BROADWAY</td>\n      <td>NoDamage</td>\n      <td>No</td>\n      <td>09/12/2015</td>\n      <td>4</td>\n      <td>304517</td>\n      <td>No</td>\n      <td>18</td>\n      <td>Yes</td>\n      <td>POINT (-73.90019 40.75051)</td>\n    </tr>\n    <tr>\n      <th>19997</th>\n      <td>BK61</td>\n      <td>Good</td>\n      <td>11216</td>\n      <td>40.67709924</td>\n      <td>Crown Heights North</td>\n      <td>New York</td>\n      <td>No</td>\n      <td>185965.924706</td>\n      <td>No</td>\n      <td>No</td>\n      <td>...</td>\n      <td>589 NOSTRAND AVENUE</td>\n      <td>Damage</td>\n      <td>No</td>\n      <td>08/12/2015</td>\n      <td>3</td>\n      <td>226455</td>\n      <td>No</td>\n      <td>5</td>\n      <td>No</td>\n      <td>POINT (-73.94974 40.67710)</td>\n    </tr>\n    <tr>\n      <th>19998</th>\n      <td>QN21</td>\n      <td>Good</td>\n      <td>11379</td>\n      <td>40.71581201</td>\n      <td>Middle Village</td>\n      <td>New York</td>\n      <td>No</td>\n      <td>200087.012605</td>\n      <td>No</td>\n      <td>No</td>\n      <td>...</td>\n      <td>64-010 70 STREET</td>\n      <td>Damage</td>\n      <td>No</td>\n      <td>09/14/2015</td>\n      <td>4</td>\n      <td>346144</td>\n      <td>No</td>\n      <td>29</td>\n      <td>Yes</td>\n      <td>POINT (-73.88512 40.71581)</td>\n    </tr>\n    <tr>\n      <th>19999</th>\n      <td>BK63</td>\n      <td>Good</td>\n      <td>11225</td>\n      <td>40.66736304</td>\n      <td>Crown Heights South</td>\n      <td>New York</td>\n      <td>No</td>\n      <td>182417.921959</td>\n      <td>No</td>\n      <td>No</td>\n      <td>...</td>\n      <td>1072 CARROLL STREET</td>\n      <td>NoDamage</td>\n      <td>No</td>\n      <td>09/13/2015</td>\n      <td>3</td>\n      <td>227218</td>\n      <td>No</td>\n      <td>24</td>\n      <td>Yes</td>\n      <td>POINT (-73.95524 40.66736)</td>\n    </tr>\n  </tbody>\n</table>\n<p>20000 rows × 42 columns</p>\n</div>"
     },
     "execution_count": 135,
     "metadata": {},
     "output_type": "execute_result"
    }
   ],
   "source": [
    "rows = 20000\n",
    "\n",
    "trees = gpd.read_file('../data/2015 Street Tree Census - Tree Data.geojson', rows=rows)\n",
    "# trees = trees.to_crs(epsg=4326)\n",
    "trees"
   ]
  },
  {
   "cell_type": "code",
   "execution_count": 136,
   "id": "a1cfbd9b",
   "metadata": {
    "collapsed": false
   },
   "outputs": [],
   "source": [
    "# drop the columns that we don't need\n",
    "trees = trees[['health', 'longitude', 'latitude']]\n"
   ]
  },
  {
   "cell_type": "code",
   "execution_count": 137,
   "id": "93d51716",
   "metadata": {
    "collapsed": false
   },
   "outputs": [
    {
     "name": "stderr",
     "output_type": "stream",
     "text": [
      "C:\\Users\\Kaninik\\AppData\\Local\\Temp\\ipykernel_35532\\3686419509.py:5: SettingWithCopyWarning: \n",
      "A value is trying to be set on a copy of a slice from a DataFrame.\n",
      "Try using .loc[row_indexer,col_indexer] = value instead\n",
      "\n",
      "See the caveats in the documentation: https://pandas.pydata.org/pandas-docs/stable/user_guide/indexing.html#returning-a-view-versus-a-copy\n",
      "  trees['Longitude'] = filtered_grid_df.loc[indices, 'Longitude'].values\n",
      "C:\\Users\\Kaninik\\AppData\\Local\\Temp\\ipykernel_35532\\3686419509.py:6: SettingWithCopyWarning: \n",
      "A value is trying to be set on a copy of a slice from a DataFrame.\n",
      "Try using .loc[row_indexer,col_indexer] = value instead\n",
      "\n",
      "See the caveats in the documentation: https://pandas.pydata.org/pandas-docs/stable/user_guide/indexing.html#returning-a-view-versus-a-copy\n",
      "  trees['Latitude'] = filtered_grid_df.loc[indices, 'Latitude'].values\n"
     ]
    }
   ],
   "source": [
    "\n",
    "# query the KD Tree with the Longitude and Latitude columns of crime_data\n",
    "distances, indices = kd_tree.query(trees[['longitude', 'latitude']])\n",
    "\n",
    "# use the indices to get the corresponding Longitude and Latitude values from filtered_grid_df\n",
    "trees['Longitude'] = filtered_grid_df.loc[indices, 'Longitude'].values\n",
    "trees['Latitude'] = filtered_grid_df.loc[indices, 'Latitude'].values\n",
    "\n",
    "tree_counts = (\n",
    "    trees.groupby(['Longitude', 'Latitude','health'])\n",
    "    .size()\n",
    "    .reset_index(name='tree_count')\n",
    ")\n"
   ]
  },
  {
   "cell_type": "code",
   "execution_count": 138,
   "id": "3f2a58bc",
   "metadata": {
    "collapsed": false
   },
   "outputs": [],
   "source": [
    "tree_counts.head()\n",
    "\n",
    "tree_counts_pivoted = pandas.pivot_table(tree_counts, values='tree_count', index=['Longitude', 'Latitude'], columns=['health'], fill_value=0)\n",
    "tree_counts_pivoted = tree_counts_pivoted.reset_index().rename(columns={'Good': 'good_tree_count', 'Fair': 'fair_tree_count', 'Poor': 'poor_tree_count'})\n",
    "\n",
    "# Remove index name\n",
    "tree_counts_pivoted.index.name = None"
   ]
  },
  {
   "cell_type": "code",
   "execution_count": 139,
   "id": "4ad265ef",
   "metadata": {
    "collapsed": false
   },
   "outputs": [
    {
     "data": {
      "text/plain": "health  Longitude  Latitude  fair_tree_count  good_tree_count  poor_tree_count\n0       -74.24998  40.50461                0                6                0\n1       -74.24998  40.50884                0                6                0\n2       -74.24437  40.50037                0                3                0\n3       -74.23876  40.50037                3                9                0\n4       -74.21631  40.54697                0                2                0\n...           ...       ...              ...              ...              ...\n1323    -73.71684  40.73337                0                5                0\n1324    -73.71684  40.73761                0                3                0\n1325    -73.71684  40.75032                0                2                0\n1326    -73.70562  40.74608                2               37                0\n1327    -73.70562  40.75455                0                4                0\n\n[1328 rows x 5 columns]",
      "text/html": "<div>\n<style scoped>\n    .dataframe tbody tr th:only-of-type {\n        vertical-align: middle;\n    }\n\n    .dataframe tbody tr th {\n        vertical-align: top;\n    }\n\n    .dataframe thead th {\n        text-align: right;\n    }\n</style>\n<table border=\"1\" class=\"dataframe\">\n  <thead>\n    <tr style=\"text-align: right;\">\n      <th>health</th>\n      <th>Longitude</th>\n      <th>Latitude</th>\n      <th>fair_tree_count</th>\n      <th>good_tree_count</th>\n      <th>poor_tree_count</th>\n    </tr>\n  </thead>\n  <tbody>\n    <tr>\n      <th>0</th>\n      <td>-74.24998</td>\n      <td>40.50461</td>\n      <td>0</td>\n      <td>6</td>\n      <td>0</td>\n    </tr>\n    <tr>\n      <th>1</th>\n      <td>-74.24998</td>\n      <td>40.50884</td>\n      <td>0</td>\n      <td>6</td>\n      <td>0</td>\n    </tr>\n    <tr>\n      <th>2</th>\n      <td>-74.24437</td>\n      <td>40.50037</td>\n      <td>0</td>\n      <td>3</td>\n      <td>0</td>\n    </tr>\n    <tr>\n      <th>3</th>\n      <td>-74.23876</td>\n      <td>40.50037</td>\n      <td>3</td>\n      <td>9</td>\n      <td>0</td>\n    </tr>\n    <tr>\n      <th>4</th>\n      <td>-74.21631</td>\n      <td>40.54697</td>\n      <td>0</td>\n      <td>2</td>\n      <td>0</td>\n    </tr>\n    <tr>\n      <th>...</th>\n      <td>...</td>\n      <td>...</td>\n      <td>...</td>\n      <td>...</td>\n      <td>...</td>\n    </tr>\n    <tr>\n      <th>1323</th>\n      <td>-73.71684</td>\n      <td>40.73337</td>\n      <td>0</td>\n      <td>5</td>\n      <td>0</td>\n    </tr>\n    <tr>\n      <th>1324</th>\n      <td>-73.71684</td>\n      <td>40.73761</td>\n      <td>0</td>\n      <td>3</td>\n      <td>0</td>\n    </tr>\n    <tr>\n      <th>1325</th>\n      <td>-73.71684</td>\n      <td>40.75032</td>\n      <td>0</td>\n      <td>2</td>\n      <td>0</td>\n    </tr>\n    <tr>\n      <th>1326</th>\n      <td>-73.70562</td>\n      <td>40.74608</td>\n      <td>2</td>\n      <td>37</td>\n      <td>0</td>\n    </tr>\n    <tr>\n      <th>1327</th>\n      <td>-73.70562</td>\n      <td>40.75455</td>\n      <td>0</td>\n      <td>4</td>\n      <td>0</td>\n    </tr>\n  </tbody>\n</table>\n<p>1328 rows × 5 columns</p>\n</div>"
     },
     "execution_count": 139,
     "metadata": {},
     "output_type": "execute_result"
    }
   ],
   "source": [
    "tree_counts_pivoted"
   ]
  },
  {
   "cell_type": "markdown",
   "id": "44a4a6af",
   "metadata": {
    "collapsed": false
   },
   "source": [
    "# Feature Creation"
   ]
  },
  {
   "cell_type": "code",
   "execution_count": 140,
   "id": "554cf091",
   "metadata": {
    "collapsed": false
   },
   "outputs": [],
   "source": [
    "import itertools\n",
    "\n",
    "def point_hour_day_combinations(points, hours, days_of_week, years):\n",
    "    for point, hour, day, year in itertools.product(points, hours, days_of_week, years):\n",
    "        yield point.x, point.y, hour, day, year\n",
    "\n",
    "# Convert filtered grid points to a list of Point objects\n",
    "points = [Point(lon, lat) for lon, lat in filtered_grid_df[['Longitude', 'Latitude']].values]\n",
    "\n",
    "# Define hours and days_of_week\n",
    "hours = range(24)\n",
    "days_of_week = range(7)\n",
    "years = range(2006, 2021)"
   ]
  },
  {
   "cell_type": "code",
   "execution_count": 141,
   "id": "4c835cc5",
   "metadata": {},
   "outputs": [
    {
     "ename": "NameError",
     "evalue": "name 'crime_' is not defined",
     "output_type": "error",
     "traceback": [
      "\u001B[1;31m---------------------------------------------------------------------------\u001B[0m",
      "\u001B[1;31mNameError\u001B[0m                                 Traceback (most recent call last)",
      "Cell \u001B[1;32mIn[141], line 1\u001B[0m\n\u001B[1;32m----> 1\u001B[0m \u001B[43mcrime_\u001B[49m\n",
      "\u001B[1;31mNameError\u001B[0m: name 'crime_' is not defined"
     ]
    }
   ],
   "source": [
    "crime_"
   ]
  },
  {
   "cell_type": "code",
   "execution_count": 142,
   "id": "35ed48f0",
   "metadata": {
    "collapsed": false
   },
   "outputs": [],
   "source": [
    "all_combinations = np.array(list(point_hour_day_combinations(points, hours, days_of_week, years)))\n",
    "crime_counts.set_index(['Longitude', 'Latitude', 'hour', 'day_of_week', 'year'], inplace=True)"
   ]
  },
  {
   "cell_type": "code",
   "execution_count": 144,
   "id": "3cc845a2",
   "metadata": {},
   "outputs": [],
   "source": [
    "matched_data = crime_counts.reindex(\n",
    "    pandas.MultiIndex.from_arrays(all_combinations.T, names=crime_counts.index.names),\n",
    "    fill_value=0\n",
    ")\n",
    "matched_data.reset_index(inplace=True)\n",
    "\n",
    "matched_data = matched_data.merge(tree_counts_pivoted, on=['Longitude', 'Latitude'], how='left').fillna(0)"
   ]
  },
  {
   "cell_type": "code",
   "execution_count": 145,
   "id": "129f6a1a",
   "metadata": {
    "collapsed": false
   },
   "outputs": [
    {
     "data": {
      "text/plain": "         Longitude  Latitude  hour  day_of_week    year  VIC_SEX_F  VIC_SEX_M   \n0        -74.24998  40.50037   0.0          0.0  2006.0          0          0  \\\n1        -74.24998  40.50037   0.0          0.0  2007.0          0          0   \n2        -74.24998  40.50037   0.0          0.0  2008.0          0          0   \n3        -74.24998  40.50037   0.0          0.0  2009.0          0          0   \n4        -74.24998  40.50037   0.0          0.0  2010.0          0          0   \n...            ...       ...   ...          ...     ...        ...        ...   \n8837635  -73.70562  40.75455  23.0          6.0  2016.0          1          0   \n8837636  -73.70562  40.75455  23.0          6.0  2017.0          0          0   \n8837637  -73.70562  40.75455  23.0          6.0  2018.0          0          0   \n8837638  -73.70562  40.75455  23.0          6.0  2019.0          0          0   \n8837639  -73.70562  40.75455  23.0          6.0  2020.0          0          0   \n\n         VIC_RACE_AMERICAN INDIAN/ALASKAN NATIVE   \n0                                              0  \\\n1                                              0   \n2                                              0   \n3                                              0   \n4                                              0   \n...                                          ...   \n8837635                                        0   \n8837636                                        0   \n8837637                                        0   \n8837638                                        0   \n8837639                                        0   \n\n         VIC_RACE_ASIAN / PACIFIC ISLANDER  VIC_RACE_BLACK  ...   \n0                                        0               0  ...  \\\n1                                        0               0  ...   \n2                                        0               0  ...   \n3                                        0               0  ...   \n4                                        0               0  ...   \n...                                    ...             ...  ...   \n8837635                                  0               1  ...   \n8837636                                  0               0  ...   \n8837637                                  0               0  ...   \n8837638                                  0               0  ...   \n8837639                                  0               0  ...   \n\n         VIC_RACE_WHITE  VIC_RACE_WHITE HISPANIC  VIC_AGE_GROUP_18-24   \n0                     0                        0                    0  \\\n1                     0                        0                    0   \n2                     0                        0                    0   \n3                     0                        0                    0   \n4                     0                        0                    0   \n...                 ...                      ...                  ...   \n8837635               0                        0                    0   \n8837636               0                        0                    0   \n8837637               0                        0                    0   \n8837638               0                        0                    0   \n8837639               0                        0                    0   \n\n         VIC_AGE_GROUP_25-44  VIC_AGE_GROUP_45-64  VIC_AGE_GROUP_65+    \n0                          0                    0                   0  \\\n1                          0                    0                   0   \n2                          0                    0                   0   \n3                          0                    0                   0   \n4                          0                    0                   0   \n...                      ...                  ...                 ...   \n8837635                    1                    0                   0   \n8837636                    0                    0                   0   \n8837637                    0                    0                   0   \n8837638                    0                    0                   0   \n8837639                    0                    0                   0   \n\n         VIC_AGE_GROUP_<18   fair_tree_count  good_tree_count  poor_tree_count  \n0                         0              0.0              0.0              0.0  \n1                         0              0.0              0.0              0.0  \n2                         0              0.0              0.0              0.0  \n3                         0              0.0              0.0              0.0  \n4                         0              0.0              0.0              0.0  \n...                     ...              ...              ...              ...  \n8837635                   0              0.0              4.0              0.0  \n8837636                   0              0.0              4.0              0.0  \n8837637                   0              0.0              4.0              0.0  \n8837638                   0              0.0              4.0              0.0  \n8837639                   0              0.0              4.0              0.0  \n\n[8837640 rows x 22 columns]",
      "text/html": "<div>\n<style scoped>\n    .dataframe tbody tr th:only-of-type {\n        vertical-align: middle;\n    }\n\n    .dataframe tbody tr th {\n        vertical-align: top;\n    }\n\n    .dataframe thead th {\n        text-align: right;\n    }\n</style>\n<table border=\"1\" class=\"dataframe\">\n  <thead>\n    <tr style=\"text-align: right;\">\n      <th></th>\n      <th>Longitude</th>\n      <th>Latitude</th>\n      <th>hour</th>\n      <th>day_of_week</th>\n      <th>year</th>\n      <th>VIC_SEX_F</th>\n      <th>VIC_SEX_M</th>\n      <th>VIC_RACE_AMERICAN INDIAN/ALASKAN NATIVE</th>\n      <th>VIC_RACE_ASIAN / PACIFIC ISLANDER</th>\n      <th>VIC_RACE_BLACK</th>\n      <th>...</th>\n      <th>VIC_RACE_WHITE</th>\n      <th>VIC_RACE_WHITE HISPANIC</th>\n      <th>VIC_AGE_GROUP_18-24</th>\n      <th>VIC_AGE_GROUP_25-44</th>\n      <th>VIC_AGE_GROUP_45-64</th>\n      <th>VIC_AGE_GROUP_65+</th>\n      <th>VIC_AGE_GROUP_&lt;18</th>\n      <th>fair_tree_count</th>\n      <th>good_tree_count</th>\n      <th>poor_tree_count</th>\n    </tr>\n  </thead>\n  <tbody>\n    <tr>\n      <th>0</th>\n      <td>-74.24998</td>\n      <td>40.50037</td>\n      <td>0.0</td>\n      <td>0.0</td>\n      <td>2006.0</td>\n      <td>0</td>\n      <td>0</td>\n      <td>0</td>\n      <td>0</td>\n      <td>0</td>\n      <td>...</td>\n      <td>0</td>\n      <td>0</td>\n      <td>0</td>\n      <td>0</td>\n      <td>0</td>\n      <td>0</td>\n      <td>0</td>\n      <td>0.0</td>\n      <td>0.0</td>\n      <td>0.0</td>\n    </tr>\n    <tr>\n      <th>1</th>\n      <td>-74.24998</td>\n      <td>40.50037</td>\n      <td>0.0</td>\n      <td>0.0</td>\n      <td>2007.0</td>\n      <td>0</td>\n      <td>0</td>\n      <td>0</td>\n      <td>0</td>\n      <td>0</td>\n      <td>...</td>\n      <td>0</td>\n      <td>0</td>\n      <td>0</td>\n      <td>0</td>\n      <td>0</td>\n      <td>0</td>\n      <td>0</td>\n      <td>0.0</td>\n      <td>0.0</td>\n      <td>0.0</td>\n    </tr>\n    <tr>\n      <th>2</th>\n      <td>-74.24998</td>\n      <td>40.50037</td>\n      <td>0.0</td>\n      <td>0.0</td>\n      <td>2008.0</td>\n      <td>0</td>\n      <td>0</td>\n      <td>0</td>\n      <td>0</td>\n      <td>0</td>\n      <td>...</td>\n      <td>0</td>\n      <td>0</td>\n      <td>0</td>\n      <td>0</td>\n      <td>0</td>\n      <td>0</td>\n      <td>0</td>\n      <td>0.0</td>\n      <td>0.0</td>\n      <td>0.0</td>\n    </tr>\n    <tr>\n      <th>3</th>\n      <td>-74.24998</td>\n      <td>40.50037</td>\n      <td>0.0</td>\n      <td>0.0</td>\n      <td>2009.0</td>\n      <td>0</td>\n      <td>0</td>\n      <td>0</td>\n      <td>0</td>\n      <td>0</td>\n      <td>...</td>\n      <td>0</td>\n      <td>0</td>\n      <td>0</td>\n      <td>0</td>\n      <td>0</td>\n      <td>0</td>\n      <td>0</td>\n      <td>0.0</td>\n      <td>0.0</td>\n      <td>0.0</td>\n    </tr>\n    <tr>\n      <th>4</th>\n      <td>-74.24998</td>\n      <td>40.50037</td>\n      <td>0.0</td>\n      <td>0.0</td>\n      <td>2010.0</td>\n      <td>0</td>\n      <td>0</td>\n      <td>0</td>\n      <td>0</td>\n      <td>0</td>\n      <td>...</td>\n      <td>0</td>\n      <td>0</td>\n      <td>0</td>\n      <td>0</td>\n      <td>0</td>\n      <td>0</td>\n      <td>0</td>\n      <td>0.0</td>\n      <td>0.0</td>\n      <td>0.0</td>\n    </tr>\n    <tr>\n      <th>...</th>\n      <td>...</td>\n      <td>...</td>\n      <td>...</td>\n      <td>...</td>\n      <td>...</td>\n      <td>...</td>\n      <td>...</td>\n      <td>...</td>\n      <td>...</td>\n      <td>...</td>\n      <td>...</td>\n      <td>...</td>\n      <td>...</td>\n      <td>...</td>\n      <td>...</td>\n      <td>...</td>\n      <td>...</td>\n      <td>...</td>\n      <td>...</td>\n      <td>...</td>\n      <td>...</td>\n    </tr>\n    <tr>\n      <th>8837635</th>\n      <td>-73.70562</td>\n      <td>40.75455</td>\n      <td>23.0</td>\n      <td>6.0</td>\n      <td>2016.0</td>\n      <td>1</td>\n      <td>0</td>\n      <td>0</td>\n      <td>0</td>\n      <td>1</td>\n      <td>...</td>\n      <td>0</td>\n      <td>0</td>\n      <td>0</td>\n      <td>1</td>\n      <td>0</td>\n      <td>0</td>\n      <td>0</td>\n      <td>0.0</td>\n      <td>4.0</td>\n      <td>0.0</td>\n    </tr>\n    <tr>\n      <th>8837636</th>\n      <td>-73.70562</td>\n      <td>40.75455</td>\n      <td>23.0</td>\n      <td>6.0</td>\n      <td>2017.0</td>\n      <td>0</td>\n      <td>0</td>\n      <td>0</td>\n      <td>0</td>\n      <td>0</td>\n      <td>...</td>\n      <td>0</td>\n      <td>0</td>\n      <td>0</td>\n      <td>0</td>\n      <td>0</td>\n      <td>0</td>\n      <td>0</td>\n      <td>0.0</td>\n      <td>4.0</td>\n      <td>0.0</td>\n    </tr>\n    <tr>\n      <th>8837637</th>\n      <td>-73.70562</td>\n      <td>40.75455</td>\n      <td>23.0</td>\n      <td>6.0</td>\n      <td>2018.0</td>\n      <td>0</td>\n      <td>0</td>\n      <td>0</td>\n      <td>0</td>\n      <td>0</td>\n      <td>...</td>\n      <td>0</td>\n      <td>0</td>\n      <td>0</td>\n      <td>0</td>\n      <td>0</td>\n      <td>0</td>\n      <td>0</td>\n      <td>0.0</td>\n      <td>4.0</td>\n      <td>0.0</td>\n    </tr>\n    <tr>\n      <th>8837638</th>\n      <td>-73.70562</td>\n      <td>40.75455</td>\n      <td>23.0</td>\n      <td>6.0</td>\n      <td>2019.0</td>\n      <td>0</td>\n      <td>0</td>\n      <td>0</td>\n      <td>0</td>\n      <td>0</td>\n      <td>...</td>\n      <td>0</td>\n      <td>0</td>\n      <td>0</td>\n      <td>0</td>\n      <td>0</td>\n      <td>0</td>\n      <td>0</td>\n      <td>0.0</td>\n      <td>4.0</td>\n      <td>0.0</td>\n    </tr>\n    <tr>\n      <th>8837639</th>\n      <td>-73.70562</td>\n      <td>40.75455</td>\n      <td>23.0</td>\n      <td>6.0</td>\n      <td>2020.0</td>\n      <td>0</td>\n      <td>0</td>\n      <td>0</td>\n      <td>0</td>\n      <td>0</td>\n      <td>...</td>\n      <td>0</td>\n      <td>0</td>\n      <td>0</td>\n      <td>0</td>\n      <td>0</td>\n      <td>0</td>\n      <td>0</td>\n      <td>0.0</td>\n      <td>4.0</td>\n      <td>0.0</td>\n    </tr>\n  </tbody>\n</table>\n<p>8837640 rows × 22 columns</p>\n</div>"
     },
     "execution_count": 145,
     "metadata": {},
     "output_type": "execute_result"
    }
   ],
   "source": [
    "matched_data"
   ]
  },
  {
   "cell_type": "code",
   "execution_count": 146,
   "id": "0fc8a714",
   "metadata": {},
   "outputs": [],
   "source": [
    "# define risk count as the sum of all columns that start with 'VIC'\n",
    "matched_data['crime_count'] = matched_data.filter(regex='VIC').sum(axis=1)"
   ]
  },
  {
   "cell_type": "code",
   "execution_count": 149,
   "outputs": [
    {
     "data": {
      "text/plain": "         Longitude  Latitude  hour  day_of_week    year  VIC_SEX_F  VIC_SEX_M   \n0        -74.24998  40.50037   0.0          0.0  2006.0          0          0  \\\n1        -74.24998  40.50037   0.0          0.0  2007.0          0          0   \n2        -74.24998  40.50037   0.0          0.0  2008.0          0          0   \n3        -74.24998  40.50037   0.0          0.0  2009.0          0          0   \n4        -74.24998  40.50037   0.0          0.0  2010.0          0          0   \n...            ...       ...   ...          ...     ...        ...        ...   \n8837635  -73.70562  40.75455  23.0          6.0  2016.0          1          0   \n8837636  -73.70562  40.75455  23.0          6.0  2017.0          0          0   \n8837637  -73.70562  40.75455  23.0          6.0  2018.0          0          0   \n8837638  -73.70562  40.75455  23.0          6.0  2019.0          0          0   \n8837639  -73.70562  40.75455  23.0          6.0  2020.0          0          0   \n\n         VIC_RACE_AMERICAN INDIAN/ALASKAN NATIVE   \n0                                              0  \\\n1                                              0   \n2                                              0   \n3                                              0   \n4                                              0   \n...                                          ...   \n8837635                                        0   \n8837636                                        0   \n8837637                                        0   \n8837638                                        0   \n8837639                                        0   \n\n         VIC_RACE_ASIAN / PACIFIC ISLANDER  VIC_RACE_BLACK  ...   \n0                                        0               0  ...  \\\n1                                        0               0  ...   \n2                                        0               0  ...   \n3                                        0               0  ...   \n4                                        0               0  ...   \n...                                    ...             ...  ...   \n8837635                                  0               1  ...   \n8837636                                  0               0  ...   \n8837637                                  0               0  ...   \n8837638                                  0               0  ...   \n8837639                                  0               0  ...   \n\n         VIC_AGE_GROUP_18-24  VIC_AGE_GROUP_25-44  VIC_AGE_GROUP_45-64   \n0                          0                    0                    0  \\\n1                          0                    0                    0   \n2                          0                    0                    0   \n3                          0                    0                    0   \n4                          0                    0                    0   \n...                      ...                  ...                  ...   \n8837635                    0                    1                    0   \n8837636                    0                    0                    0   \n8837637                    0                    0                    0   \n8837638                    0                    0                    0   \n8837639                    0                    0                    0   \n\n         VIC_AGE_GROUP_65+   VIC_AGE_GROUP_<18   fair_tree_count   \n0                         0                   0              0.0  \\\n1                         0                   0              0.0   \n2                         0                   0              0.0   \n3                         0                   0              0.0   \n4                         0                   0              0.0   \n...                     ...                 ...              ...   \n8837635                   0                   0              0.0   \n8837636                   0                   0              0.0   \n8837637                   0                   0              0.0   \n8837638                   0                   0              0.0   \n8837639                   0                   0              0.0   \n\n         good_tree_count  poor_tree_count  crime_count  Risk_level  \n0                    0.0              0.0            0           0  \n1                    0.0              0.0            0           0  \n2                    0.0              0.0            0           0  \n3                    0.0              0.0            0           0  \n4                    0.0              0.0            0           0  \n...                  ...              ...          ...         ...  \n8837635              4.0              0.0            3           1  \n8837636              4.0              0.0            0           0  \n8837637              4.0              0.0            0           0  \n8837638              4.0              0.0            0           0  \n8837639              4.0              0.0            0           0  \n\n[8837640 rows x 24 columns]",
      "text/html": "<div>\n<style scoped>\n    .dataframe tbody tr th:only-of-type {\n        vertical-align: middle;\n    }\n\n    .dataframe tbody tr th {\n        vertical-align: top;\n    }\n\n    .dataframe thead th {\n        text-align: right;\n    }\n</style>\n<table border=\"1\" class=\"dataframe\">\n  <thead>\n    <tr style=\"text-align: right;\">\n      <th></th>\n      <th>Longitude</th>\n      <th>Latitude</th>\n      <th>hour</th>\n      <th>day_of_week</th>\n      <th>year</th>\n      <th>VIC_SEX_F</th>\n      <th>VIC_SEX_M</th>\n      <th>VIC_RACE_AMERICAN INDIAN/ALASKAN NATIVE</th>\n      <th>VIC_RACE_ASIAN / PACIFIC ISLANDER</th>\n      <th>VIC_RACE_BLACK</th>\n      <th>...</th>\n      <th>VIC_AGE_GROUP_18-24</th>\n      <th>VIC_AGE_GROUP_25-44</th>\n      <th>VIC_AGE_GROUP_45-64</th>\n      <th>VIC_AGE_GROUP_65+</th>\n      <th>VIC_AGE_GROUP_&lt;18</th>\n      <th>fair_tree_count</th>\n      <th>good_tree_count</th>\n      <th>poor_tree_count</th>\n      <th>crime_count</th>\n      <th>Risk_level</th>\n    </tr>\n  </thead>\n  <tbody>\n    <tr>\n      <th>0</th>\n      <td>-74.24998</td>\n      <td>40.50037</td>\n      <td>0.0</td>\n      <td>0.0</td>\n      <td>2006.0</td>\n      <td>0</td>\n      <td>0</td>\n      <td>0</td>\n      <td>0</td>\n      <td>0</td>\n      <td>...</td>\n      <td>0</td>\n      <td>0</td>\n      <td>0</td>\n      <td>0</td>\n      <td>0</td>\n      <td>0.0</td>\n      <td>0.0</td>\n      <td>0.0</td>\n      <td>0</td>\n      <td>0</td>\n    </tr>\n    <tr>\n      <th>1</th>\n      <td>-74.24998</td>\n      <td>40.50037</td>\n      <td>0.0</td>\n      <td>0.0</td>\n      <td>2007.0</td>\n      <td>0</td>\n      <td>0</td>\n      <td>0</td>\n      <td>0</td>\n      <td>0</td>\n      <td>...</td>\n      <td>0</td>\n      <td>0</td>\n      <td>0</td>\n      <td>0</td>\n      <td>0</td>\n      <td>0.0</td>\n      <td>0.0</td>\n      <td>0.0</td>\n      <td>0</td>\n      <td>0</td>\n    </tr>\n    <tr>\n      <th>2</th>\n      <td>-74.24998</td>\n      <td>40.50037</td>\n      <td>0.0</td>\n      <td>0.0</td>\n      <td>2008.0</td>\n      <td>0</td>\n      <td>0</td>\n      <td>0</td>\n      <td>0</td>\n      <td>0</td>\n      <td>...</td>\n      <td>0</td>\n      <td>0</td>\n      <td>0</td>\n      <td>0</td>\n      <td>0</td>\n      <td>0.0</td>\n      <td>0.0</td>\n      <td>0.0</td>\n      <td>0</td>\n      <td>0</td>\n    </tr>\n    <tr>\n      <th>3</th>\n      <td>-74.24998</td>\n      <td>40.50037</td>\n      <td>0.0</td>\n      <td>0.0</td>\n      <td>2009.0</td>\n      <td>0</td>\n      <td>0</td>\n      <td>0</td>\n      <td>0</td>\n      <td>0</td>\n      <td>...</td>\n      <td>0</td>\n      <td>0</td>\n      <td>0</td>\n      <td>0</td>\n      <td>0</td>\n      <td>0.0</td>\n      <td>0.0</td>\n      <td>0.0</td>\n      <td>0</td>\n      <td>0</td>\n    </tr>\n    <tr>\n      <th>4</th>\n      <td>-74.24998</td>\n      <td>40.50037</td>\n      <td>0.0</td>\n      <td>0.0</td>\n      <td>2010.0</td>\n      <td>0</td>\n      <td>0</td>\n      <td>0</td>\n      <td>0</td>\n      <td>0</td>\n      <td>...</td>\n      <td>0</td>\n      <td>0</td>\n      <td>0</td>\n      <td>0</td>\n      <td>0</td>\n      <td>0.0</td>\n      <td>0.0</td>\n      <td>0.0</td>\n      <td>0</td>\n      <td>0</td>\n    </tr>\n    <tr>\n      <th>...</th>\n      <td>...</td>\n      <td>...</td>\n      <td>...</td>\n      <td>...</td>\n      <td>...</td>\n      <td>...</td>\n      <td>...</td>\n      <td>...</td>\n      <td>...</td>\n      <td>...</td>\n      <td>...</td>\n      <td>...</td>\n      <td>...</td>\n      <td>...</td>\n      <td>...</td>\n      <td>...</td>\n      <td>...</td>\n      <td>...</td>\n      <td>...</td>\n      <td>...</td>\n      <td>...</td>\n    </tr>\n    <tr>\n      <th>8837635</th>\n      <td>-73.70562</td>\n      <td>40.75455</td>\n      <td>23.0</td>\n      <td>6.0</td>\n      <td>2016.0</td>\n      <td>1</td>\n      <td>0</td>\n      <td>0</td>\n      <td>0</td>\n      <td>1</td>\n      <td>...</td>\n      <td>0</td>\n      <td>1</td>\n      <td>0</td>\n      <td>0</td>\n      <td>0</td>\n      <td>0.0</td>\n      <td>4.0</td>\n      <td>0.0</td>\n      <td>3</td>\n      <td>1</td>\n    </tr>\n    <tr>\n      <th>8837636</th>\n      <td>-73.70562</td>\n      <td>40.75455</td>\n      <td>23.0</td>\n      <td>6.0</td>\n      <td>2017.0</td>\n      <td>0</td>\n      <td>0</td>\n      <td>0</td>\n      <td>0</td>\n      <td>0</td>\n      <td>...</td>\n      <td>0</td>\n      <td>0</td>\n      <td>0</td>\n      <td>0</td>\n      <td>0</td>\n      <td>0.0</td>\n      <td>4.0</td>\n      <td>0.0</td>\n      <td>0</td>\n      <td>0</td>\n    </tr>\n    <tr>\n      <th>8837637</th>\n      <td>-73.70562</td>\n      <td>40.75455</td>\n      <td>23.0</td>\n      <td>6.0</td>\n      <td>2018.0</td>\n      <td>0</td>\n      <td>0</td>\n      <td>0</td>\n      <td>0</td>\n      <td>0</td>\n      <td>...</td>\n      <td>0</td>\n      <td>0</td>\n      <td>0</td>\n      <td>0</td>\n      <td>0</td>\n      <td>0.0</td>\n      <td>4.0</td>\n      <td>0.0</td>\n      <td>0</td>\n      <td>0</td>\n    </tr>\n    <tr>\n      <th>8837638</th>\n      <td>-73.70562</td>\n      <td>40.75455</td>\n      <td>23.0</td>\n      <td>6.0</td>\n      <td>2019.0</td>\n      <td>0</td>\n      <td>0</td>\n      <td>0</td>\n      <td>0</td>\n      <td>0</td>\n      <td>...</td>\n      <td>0</td>\n      <td>0</td>\n      <td>0</td>\n      <td>0</td>\n      <td>0</td>\n      <td>0.0</td>\n      <td>4.0</td>\n      <td>0.0</td>\n      <td>0</td>\n      <td>0</td>\n    </tr>\n    <tr>\n      <th>8837639</th>\n      <td>-73.70562</td>\n      <td>40.75455</td>\n      <td>23.0</td>\n      <td>6.0</td>\n      <td>2020.0</td>\n      <td>0</td>\n      <td>0</td>\n      <td>0</td>\n      <td>0</td>\n      <td>0</td>\n      <td>...</td>\n      <td>0</td>\n      <td>0</td>\n      <td>0</td>\n      <td>0</td>\n      <td>0</td>\n      <td>0.0</td>\n      <td>4.0</td>\n      <td>0.0</td>\n      <td>0</td>\n      <td>0</td>\n    </tr>\n  </tbody>\n</table>\n<p>8837640 rows × 24 columns</p>\n</div>"
     },
     "execution_count": 149,
     "metadata": {},
     "output_type": "execute_result"
    }
   ],
   "source": [
    "matched_data"
   ],
   "metadata": {
    "collapsed": false
   }
  },
  {
   "cell_type": "code",
   "execution_count": 148,
   "outputs": [],
   "source": [
    "# Create columns in matched_data called Risk_level\n",
    "# if the sum of the crime counts is 0 then risk level is 0, if it is greater than 0 and less than 4 then risk level is 1, if it is greater than 3 then risk level is 2 and if it is greater than 6 then risk level is 3\n",
    "def risk_level(crime_count):\n",
    "    if crime_count == 0:\n",
    "        return 0\n",
    "    elif 0 < crime_count < 4:\n",
    "        return 1\n",
    "    elif 3 < crime_count < 7:\n",
    "        return 2\n",
    "    else:\n",
    "        return 3\n",
    "\n",
    "matched_data['Risk_level'] = matched_data['crime_count'].apply(risk_level)"
   ],
   "metadata": {
    "collapsed": false
   }
  },
  {
   "cell_type": "code",
   "execution_count": 150,
   "id": "b400eeca",
   "metadata": {
    "collapsed": false
   },
   "outputs": [],
   "source": [
    "# export matched_data to a parquet file\n",
    "matched_data.to_parquet('..\\\\data\\\\matched_data.parquet')"
   ]
  },
  {
   "cell_type": "markdown",
   "id": "a513ff8c",
   "metadata": {
    "collapsed": false
   },
   "source": [
    "# LAB 4"
   ]
  },
  {
   "cell_type": "markdown",
   "id": "43f66ee4",
   "metadata": {
    "collapsed": false
   },
   "source": [
    "## Proxies"
   ]
  },
  {
   "cell_type": "code",
   "execution_count": null,
   "id": "54c11001",
   "metadata": {
    "collapsed": false
   },
   "outputs": [],
   "source": [
    "corr_matrix = matched_data.corr().round(2)\n",
    "# print(corr_matrix)\n",
    "mask = np.triu(np.ones_like(corr_matrix, dtype=bool))\n",
    "\n",
    "fig, ax = plt.subplots(figsize=(40,40))       \n",
    "sns.heatmap(corr_matrix, annot=True, vmax=1, vmin=-1, center=0, cmap='vlag', mask=mask, ax=ax)\n",
    "plt.show()"
   ]
  },
  {
   "cell_type": "markdown",
   "id": "2c7fda89",
   "metadata": {
    "collapsed": false
   },
   "source": [
    "## Representation bias"
   ]
  },
  {
   "cell_type": "code",
   "execution_count": null,
   "id": "379a38ac",
   "metadata": {
    "collapsed": false
   },
   "outputs": [],
   "source": [
    "import pickle\n",
    "\n",
    "with open('merged_data.pickle', 'rb') as f:\n",
    "    matched_data = pickle.load(f, encoding='binary')\n",
    "matched_data"
   ]
  },
  {
   "cell_type": "code",
   "execution_count": null,
   "id": "671ee309",
   "metadata": {
    "collapsed": false
   },
   "outputs": [],
   "source": [
    "merged_data2010 = matched_data.loc[matched_data['year'] == 2010]"
   ]
  },
  {
   "cell_type": "code",
   "execution_count": null,
   "id": "c4c5a4d8",
   "metadata": {
    "collapsed": false
   },
   "outputs": [],
   "source": [
    "merged_data2010"
   ]
  },
  {
   "cell_type": "code",
   "execution_count": null,
   "id": "c0650454",
   "metadata": {
    "collapsed": false
   },
   "outputs": [],
   "source": [
    "total_male = merged_data2010['VIC_SEX_M'].sum()\n",
    "total_female = merged_data2010['VIC_SEX_F'].sum()\n"
   ]
  },
  {
   "cell_type": "code",
   "execution_count": null,
   "id": "62d87ab9",
   "metadata": {
    "collapsed": false
   },
   "outputs": [],
   "source": [
    "x = ['F', 'M']  # categories\n",
    "y = [total_female, total_male]  # values\n",
    "bin_edges = range(len(x) + 1)  # define bin edges\n",
    "\n",
    "plt.bar(x, y)\n",
    "plt.xticks(range(len(x)), x)\n",
    "plt.xlabel('Sex of victims')\n",
    "plt.ylabel('Number of victims')\n",
    "plt.title('Sex distribution of victims')\n",
    "plt.plot(range(len(x)), [167849, 151816], 'o--', c='red', linewidth=0, markersize=8, label='Expected sex distribution according to New York Census 2010')\n",
    "plt.legend(loc='center left', bbox_to_anchor=(1, 0.5))"
   ]
  },
  {
   "cell_type": "code",
   "execution_count": null,
   "id": "062578e9",
   "metadata": {
    "collapsed": false
   },
   "outputs": [],
   "source": [
    "total_18 = merged_data2010.iloc[:, 17].sum()\n",
    "total_24 = merged_data2010['VIC_AGE_GROUP_18-24'].sum()\n",
    "total_44 = merged_data2010['VIC_AGE_GROUP_25-44'].sum()\n",
    "total_64 = merged_data2010['VIC_AGE_GROUP_45-64'].sum()\n",
    "total_65 = merged_data2010.iloc[:, 16].sum()"
   ]
  },
  {
   "cell_type": "code",
   "execution_count": null,
   "id": "cd4201d9",
   "metadata": {
    "collapsed": false
   },
   "outputs": [],
   "source": [
    "x = ['<18', '18-24', '25-44', '45-64', '65+']\n",
    "y = [total_18, total_24, total_44, total_64, total_65]\n",
    "\n",
    "bin_edges = np.arange(len(x) + 1) - 0.5  # add a half bin width to shift the edges to the center of the bars\n",
    "bin_edges = range(len(x) + 1)  # define bin edges\n",
    "\n",
    "plt.bar(x, y)\n",
    "plt.xticks(range(len(x)), x)\n",
    "plt.xlabel('Age group of victims')\n",
    "plt.ylabel('Number of victims')\n",
    "plt.title('Age group distribution of victims')\n",
    "plt.plot(range(len(x)), [69137, 33993, 99598, 78102, 38835], 'o--', c='red', linewidth=0, markersize=8, label='Expected age distribution according to New York Census 2010')\n",
    "plt.legend(loc='center left', bbox_to_anchor=(1, 0.5))"
   ]
  },
  {
   "cell_type": "code",
   "execution_count": null,
   "id": "e3d2e3ca",
   "metadata": {
    "collapsed": false
   },
   "outputs": [],
   "source": [
    "white_hispanic = merged_data2010['VIC_RACE_WHITE HISPANIC'].sum()\n",
    "black = merged_data2010['VIC_RACE_BLACK'].sum()\n",
    "white = merged_data2010['VIC_RACE_WHITE'].sum()\n",
    "black_hispanic = merged_data2010['VIC_RACE_BLACK HISPANIC'].sum()\n",
    "asian_pacific = merged_data2010['VIC_RACE_ASIAN / PACIFIC ISLANDER'].sum()\n",
    "american_alaskan = merged_data2010['VIC_RACE_AMERICAN INDIAN/ALASKAN NATIVE'].sum()\n",
    "other = merged_data2010['VIC_RACE_OTHER'].sum()"
   ]
  },
  {
   "cell_type": "code",
   "execution_count": null,
   "id": "c6aa51dd",
   "metadata": {
    "collapsed": false
   },
   "outputs": [],
   "source": [
    "x = ['WH','B','W','BH','A/P','A/A', 'Other']\n",
    "y = [white_hispanic, black, white, black_hispanic, asian_pacific, american_alaskan, other]\n",
    "\n",
    "bin_edges = np.arange(len(x) + 1) - 0.5  # add a half bin width to shift the edges to the center of the bars\n",
    "bin_edges = range(len(x) + 1)  # define bin edges\n",
    "\n",
    "plt.bar(x, y)\n",
    "plt.xticks(range(len(x)), x)\n",
    "plt.xlabel('Race group of victims')\n",
    "plt.ylabel('Number of victims')\n",
    "plt.title('Race group distribution of victims')\n",
    "plt.plot(range(len(x)), [45673 , 72781, 106471, 45673, 40311, 681 ,2262], 'o--', c='red', linewidth=0, markersize=8, label='Expected race distribution according to New York Census 2010')\n",
    "plt.legend(loc='center left', bbox_to_anchor=(1, 0.5))"
   ]
  },
  {
   "cell_type": "markdown",
   "id": "689803ee",
   "metadata": {
    "collapsed": false
   },
   "source": [
    "## Historical bias"
   ]
  },
  {
   "cell_type": "code",
   "execution_count": null,
   "id": "a5495ce1",
   "metadata": {
    "collapsed": false
   },
   "outputs": [],
   "source": [
    "non_victim_male = 3882544 - merged_data2010['VIC_SEX_M'].sum()\n",
    "non_victim_female = 4292589 - merged_data2010['VIC_SEX_F'].sum()"
   ]
  },
  {
   "cell_type": "code",
   "execution_count": null,
   "id": "b1f30f08",
   "metadata": {
    "collapsed": false
   },
   "outputs": [],
   "source": [
    "import matplotlib.ticker as ticker\n",
    "\n",
    "# Define the data and log scale it\n",
    "victims = [total_male, total_female]\n",
    "non_victims = [non_victim_male, non_victim_female]\n",
    "\n",
    "labels = ['male', 'female']\n",
    "colors = ['orange', 'blue']\n",
    "\n",
    "# Create the stacked bar plot\n",
    "x = np.arange(len(labels))\n",
    "plt.bar(x, victims, color=colors[0], label='victims')\n",
    "plt.bar(x, non_victims, bottom=victims, color=colors[1], label='non_victims')\n",
    "plt.xticks(x, labels)\n",
    "plt.ylabel('Value')\n",
    "plt.title('Stacked Bar Plot with Two Numbers')\n",
    "plt.legend()\n",
    "\n",
    "# Set y-axis to log scale and adjust limits\n",
    "plt.yscale('log')\n",
    "plt.ylim([1, 10**7])\n",
    "\n",
    "# Set y-axis tick labels to display original scale values\n",
    "\n",
    "# Show the plot\n",
    "plt.show()"
   ]
  },
  {
   "cell_type": "code",
   "execution_count": null,
   "id": "b6526aaa",
   "metadata": {
    "collapsed": false
   },
   "outputs": [],
   "source": [
    "non_victim_male"
   ]
  },
  {
   "cell_type": "code",
   "execution_count": null,
   "id": "b1a1fa5e",
   "metadata": {
    "collapsed": false
   },
   "outputs": [],
   "source": [
    "non_victim_18 = 1768111 - merged_data2010.iloc[:, 17].sum()\n",
    "non_victim_24 = merged_data2010['VIC_AGE_GROUP_18-24'].sum()\n",
    "non_victim_44 = merged_data2010['VIC_AGE_GROUP_25-44'].sum()\n",
    "non_victim_64 = merged_data2010['VIC_AGE_GROUP_45-64'].sum()\n",
    "non_victim_65 = merged_data2010.iloc[:, 16].sum()"
   ]
  },
  {
   "cell_type": "markdown",
   "id": "183114f9",
   "metadata": {
    "collapsed": false
   },
   "source": [
    "# Predictive Analytics"
   ]
  },
  {
   "cell_type": "code",
   "execution_count": 152,
   "metadata": {
    "collapsed": false
   },
   "outputs": [],
   "source": [
    "trees_crimes_people_df = matched_data"
   ]
  },
  {
   "cell_type": "code",
   "execution_count": 153,
   "outputs": [],
   "source": [
    "# Slide the dataframe and move colums 4 and 5 to df Y. Keep the rest in df X\n",
    "Y = trees_crimes_people_df.iloc[:, [23]]\n",
    "\n",
    "X = trees_crimes_people_df.iloc[:,[0,1,2,3,4,19,20,21]]"
   ],
   "metadata": {
    "collapsed": false
   }
  },
  {
   "cell_type": "code",
   "execution_count": 154,
   "outputs": [],
   "source": [
    "from sklearn.model_selection import train_test_split\n",
    "X_train, X_test, Y_train, Y_test = train_test_split(X, Y, test_size = 0.25)"
   ],
   "metadata": {
    "collapsed": false
   }
  },
  {
   "cell_type": "markdown",
   "source": [
    "## Baseline: Linear Regression Model"
   ],
   "metadata": {
    "collapsed": false
   }
  },
  {
   "cell_type": "code",
   "execution_count": null,
   "outputs": [],
   "source": [
    "from sklearn.linear_model import LinearRegression\n",
    "from sklearn.metrics import mean_squared_error, mean_absolute_error, mean_absolute_percentage_error\n",
    "\n",
    "lr = LinearRegression()\n",
    "lr.fit(X_train, Y_train)\n",
    "Y_pred = lr.predict(X_test)\n",
    "print(\"MSE: \", mean_squared_error(Y_test, Y_pred))\n",
    "print(\"MAE: \", mean_absolute_error(Y_test, Y_pred))\n",
    "print(\"MAPE: \", mean_absolute_percentage_error(Y_test, Y_pred))"
   ],
   "metadata": {
    "collapsed": false
   }
  },
  {
   "cell_type": "code",
   "execution_count": null,
   "outputs": [],
   "source": [
    "# plot the linear regression model using matplotlib\n",
    "plt.scatter(Y_test, Y_pred)\n",
    "plt.xlabel(\"True Values\")\n",
    "plt.ylabel(\"Predictions\")\n",
    "plt.show()\n"
   ],
   "metadata": {
    "collapsed": false
   }
  },
  {
   "cell_type": "markdown",
   "source": [
    "## Baseline: Naive Bayes Classification"
   ],
   "metadata": {
    "collapsed": false
   }
  },
  {
   "cell_type": "code",
   "execution_count": 160,
   "outputs": [
    {
     "name": "stdout",
     "output_type": "stream",
     "text": [
      "Accuracy (Dropped categorical):  0.6908025219402465\n",
      "F1 (Dropped categorical):  0.6146968902144773\n"
     ]
    }
   ],
   "source": [
    "from sklearn.naive_bayes import GaussianNB\n",
    "from sklearn.metrics import accuracy_score, balanced_accuracy_score, f1_score\n",
    "\n",
    "gnb = GaussianNB()\n",
    "gnb.fit(X_train, Y_train)\n",
    "Y_pred = gnb.predict(X_test)\n",
    "print(\"Accuracy (Dropped categorical): \", accuracy_score(Y_test, Y_pred))\n",
    "print(\"F1 (Dropped categorical): \", f1_score(Y_test, Y_pred, average='weighted'))"
   ],
   "metadata": {
    "collapsed": false
   }
  },
  {
   "cell_type": "markdown",
   "source": [
    "## Initialise models for testing"
   ],
   "metadata": {
    "collapsed": false
   }
  },
  {
   "cell_type": "code",
   "execution_count": 156,
   "outputs": [],
   "source": [
    "from sklearn.linear_model import Perceptron, Lasso, ElasticNet\n",
    "from sklearn.svm import SVR\n",
    "from sklearn.tree import DecisionTreeRegressor\n",
    "from sklearn.ensemble import RandomForestRegressor, AdaBoostRegressor\n",
    "from sklearn.neural_network import MLPRegressor\n",
    "from sklearn.neighbors import KNeighborsRegressor\n",
    "\n",
    "from sklearn.linear_model import LogisticRegression\n",
    "from sklearn.svm import SVC\n",
    "from sklearn.tree import DecisionTreeClassifier\n",
    "from sklearn.ensemble import RandomForestClassifier, AdaBoostClassifier\n",
    "from sklearn.neural_network import MLPClassifier\n",
    "from sklearn.neighbors import KNeighborsClassifier\n",
    "\n",
    "# Convert Y_train and Y_test to 1D array\n",
    "Y_train = Y_train.to_numpy().ravel()\n",
    "Y_test = Y_test.to_numpy().ravel()\n",
    "\n",
    "names = [\n",
    "    \"Lasso\",\n",
    "    \"Elastic Net\",\n",
    "    \"Decision Tree\",\n",
    "    \"Random Forest\",\n",
    "    \"Neural Net\",\n",
    "    \"K-Nearest Neighbours\"\n",
    "]\n",
    "\n",
    "regressors = [\n",
    "    Lasso(alpha=0.1),\n",
    "    ElasticNet(random_state=0),\n",
    "    DecisionTreeRegressor(max_depth=5),\n",
    "    RandomForestRegressor(max_depth=5, n_estimators=10, max_features=1),\n",
    "    MLPRegressor(alpha=1, max_iter=1000),\n",
    "    KNeighborsRegressor(3),\n",
    "]\n",
    "\n",
    "classifiers = [\n",
    "    LogisticRegression(random_state=0),\n",
    "    SVC(kernel=\"linear\", C=0.025),\n",
    "    DecisionTreeClassifier(max_depth=5),\n",
    "    RandomForestClassifier(max_depth=5, n_estimators=10, max_features=1),\n",
    "    AdaBoostClassifier(),\n",
    "    MLPClassifier(alpha=1, max_iter=1000),\n",
    "    KNeighborsClassifier(3),\n",
    "]"
   ],
   "metadata": {
    "collapsed": false
   }
  },
  {
   "cell_type": "markdown",
   "source": [],
   "metadata": {
    "collapsed": false
   }
  },
  {
   "cell_type": "markdown",
   "source": [
    "## Test different Classification models"
   ],
   "metadata": {
    "collapsed": false
   }
  },
  {
   "cell_type": "code",
   "execution_count": null,
   "outputs": [
    {
     "name": "stdout",
     "output_type": "stream",
     "text": [
      "[INFO] - Categorical technique:  Drop Variables\n",
      "[INFO] - Classifier:  Lasso\n"
     ]
    },
    {
     "name": "stderr",
     "output_type": "stream",
     "text": [
      "C:\\Users\\Kaninik\\anaconda3\\envs\\geo_env\\lib\\site-packages\\sklearn\\linear_model\\_logistic.py:458: ConvergenceWarning: lbfgs failed to converge (status=1):\n",
      "STOP: TOTAL NO. of ITERATIONS REACHED LIMIT.\n",
      "\n",
      "Increase the number of iterations (max_iter) or scale the data as shown in:\n",
      "    https://scikit-learn.org/stable/modules/preprocessing.html\n",
      "Please also refer to the documentation for alternative solver options:\n",
      "    https://scikit-learn.org/stable/modules/linear_model.html#logistic-regression\n",
      "  n_iter_i = _check_optimize_result(\n"
     ]
    },
    {
     "name": "stdout",
     "output_type": "stream",
     "text": [
      "[INFO] - Classifier:  Elastic Net\n"
     ]
    }
   ],
   "source": [
    "categorical_technique_list = [\"Drop Variables\", \"Ordinal\", \"One-hot\"]\n",
    "X_train_list = [X_train]\n",
    "X_test_list = [X_test]\n",
    "\n",
    "accuracy_per_dataset_df = pandas.DataFrame(columns=[\"Dataset Name\"].append(names))\n",
    "balanced_accuracy_per_dataset_df = pandas.DataFrame(columns=[\"Dataset Name\"].append(names))\n",
    "f1_score_per_dataset_df = pandas.DataFrame(columns=[\"Dataset Name\"].append(names))\n",
    "\n",
    "for technique,X_train,X_test in zip(categorical_technique_list,X_train_list,X_test_list):\n",
    "    print(\"[INFO] - Categorical technique: \", technique)\n",
    "    accuracy_line = {\"Dataset Name\": technique}\n",
    "    balanced_accuracy_line = {\"Dataset Name\": technique}\n",
    "    f1_score_line = {\"Dataset Name\": technique}\n",
    "\n",
    "    for classifier,method_name in zip(classifiers,names):\n",
    "        print(\"[INFO] - Classifier: \", method_name)\n",
    "        classifier.fit(X_train, Y_train)\n",
    "        Y_pred = classifier.predict(X_test)\n",
    "        accuracy_line[method_name] = accuracy_score(Y_test,Y_pred)\n",
    "        balanced_accuracy_line[method_name] = balanced_accuracy_score(Y_test,Y_pred)\n",
    "        f1_score_line[method_name] = f1_score(Y_test,Y_pred, average='weighted')\n",
    "\n",
    "    accuracy_per_dataset_df = accuracy_per_dataset_df.append(accuracy_line,ignore_index=True)\n",
    "    balanced_accuracy_per_dataset_df = balanced_accuracy_per_dataset_df.append(balanced_accuracy_line,ignore_index=True)\n",
    "    f1_score_per_dataset_df = f1_score_per_dataset_df.append(f1_score_line,ignore_index=True)"
   ],
   "metadata": {
    "collapsed": false,
    "pycharm": {
     "is_executing": true
    }
   }
  },
  {
   "cell_type": "code",
   "execution_count": null,
   "outputs": [],
   "source": [
    "# unpivot the dataframe\n",
    "accuracy_per_dataset_df = accuracy_per_dataset_df.melt(id_vars=['Dataset Name'], var_name='Method', value_name='Accuracy')\n",
    "accuracy_per_dataset_df"
   ],
   "metadata": {
    "collapsed": false
   }
  },
  {
   "cell_type": "code",
   "execution_count": null,
   "outputs": [],
   "source": [
    "# unpivot the dataframe\n",
    "balanced_accuracy_per_dataset_df = balanced_accuracy_per_dataset_df.melt(id_vars=['Dataset Name'], var_name='Method', value_name='Balanced Accuracy')\n",
    "balanced_accuracy_per_dataset_df"
   ],
   "metadata": {
    "collapsed": false
   }
  },
  {
   "cell_type": "code",
   "execution_count": null,
   "outputs": [],
   "source": [
    "# unpivot the dataframe\n",
    "f1_score_per_dataset_df = f1_score_per_dataset_df.melt(id_vars=['Dataset Name'], var_name='Method', value_name='F1 Score')\n",
    "f1_score_per_dataset_df"
   ],
   "metadata": {
    "collapsed": false
   }
  },
  {
   "cell_type": "markdown",
   "source": [
    "## Test different Regression models"
   ],
   "metadata": {
    "collapsed": false
   }
  },
  {
   "cell_type": "code",
   "execution_count": null,
   "outputs": [],
   "source": [
    "categorical_technique_list = [\"Just one\"]\n",
    "X_train_list = [X_train]\n",
    "X_test_list = [X_test]\n",
    "\n",
    "# Create a dictionary to store the dataframes of the results for each method\n",
    "results_dict = {}\n",
    "\n",
    "MSE_per_dataset_df = pd.DataFrame(columns=[\"Dataset Name\"].append(names))\n",
    "MAE_per_dataset_df = pd.DataFrame(columns=[\"Dataset Name\"].append(names))\n",
    "MAPE_per_dataset_df = pd.DataFrame(columns=[\"Dataset Name\"].append(names))\n",
    "\n",
    "for technique,X_train,X_test in zip(categorical_technique_list,X_train_list,X_test_list):\n",
    "    print(\"[INFO] - Categorical technique: \", technique)\n",
    "    MSE_line = {\"Dataset Name\": technique}\n",
    "    MAE_line = {\"Dataset Name\": technique}\n",
    "    MAPE_line = {\"Dataset Name\": technique}\n",
    "\n",
    "    for regressor,method_name in zip(regressors,names):\n",
    "        print(\"[INFO] - Regressor: \", method_name)\n",
    "        regressor.fit(X_train, Y_train)\n",
    "        Y_pred = regressor.predict(X_test)\n",
    "        # create a dataframe with the Y_test and Y_pred\n",
    "        Y_test_Y_pred_df = pd.DataFrame({'Y_test': Y_test, 'Y_pred': Y_pred})\n",
    "        # append the dataframe to the dictionary\n",
    "        results_dict[method_name] = Y_test_Y_pred_df\n",
    "        # calculate the MSE, MAE and MAPE\n",
    "        MSE_line[method_name] = mean_squared_error(Y_test, Y_pred)\n",
    "        MAE_line[method_name] = mean_absolute_error(Y_test, Y_pred)\n",
    "        MAPE_line[method_name] = mean_absolute_percentage_error(Y_test, Y_pred)\n",
    "\n",
    "\n",
    "    # using pandas concat to append the new line to the dataframe\n",
    "    MSE_per_dataset_df = pd.concat([MSE_per_dataset_df, pd.DataFrame([MSE_line])], ignore_index=True)\n",
    "    MAE_per_dataset_df = pd.concat([MAE_per_dataset_df, pd.DataFrame([MAE_line])], ignore_index=True)\n",
    "    MAPE_per_dataset_df = pd.concat([MAPE_per_dataset_df, pd.DataFrame([MAPE_line])], ignore_index=True)\n"
   ],
   "metadata": {
    "collapsed": false
   }
  },
  {
   "cell_type": "code",
   "execution_count": null,
   "outputs": [],
   "source": [
    "# unpivot the dataframe\n",
    "MSE_per_dataset_df = MSE_per_dataset_df.melt(id_vars=['Dataset Name'], var_name='Method', value_name='MSE')\n",
    "MSE_per_dataset_df"
   ],
   "metadata": {
    "collapsed": false
   }
  },
  {
   "cell_type": "code",
   "execution_count": null,
   "outputs": [],
   "source": [
    "MAE_per_dataset_df = MAE_per_dataset_df.melt(id_vars=['Dataset Name'], var_name='Method', value_name='MAE')\n",
    "MAE_per_dataset_df"
   ],
   "metadata": {
    "collapsed": false
   }
  },
  {
   "cell_type": "code",
   "execution_count": null,
   "outputs": [],
   "source": [
    "MAPE_per_dataset_df"
   ],
   "metadata": {
    "collapsed": false
   }
  },
  {
   "cell_type": "markdown",
   "source": [
    "## Intrinsic Explainability"
   ],
   "metadata": {
    "collapsed": false
   }
  },
  {
   "cell_type": "code",
   "execution_count": null,
   "outputs": [],
   "source": [
    "import numpy as np\n",
    "import matplotlib.pyplot as plt\n",
    "from sklearn.datasets import make_regression\n",
    "from sklearn.neighbors import KNeighborsRegressor\n",
    "from sklearn.inspection import permutation_importance\n",
    "\n",
    "# define the model\n",
    "model = KNeighborsRegressor(3)\n",
    "\n",
    "# fit the model\n",
    "model.fit(X_train, Y_train)\n",
    "\n",
    "# perform permutation importance\n",
    "results = permutation_importance(model, X_test, Y_test, scoring='neg_mean_squared_error')\n",
    "\n",
    "# get importance\n",
    "importance = results.importances_mean"
   ],
   "metadata": {
    "collapsed": false
   }
  },
  {
   "cell_type": "markdown",
   "source": [],
   "metadata": {
    "collapsed": false
   }
  }
 ],
 "metadata": {
  "kernelspec": {
   "display_name": "Python 3 (ipykernel)",
   "language": "python",
   "name": "python3"
  },
  "language_info": {
   "codemirror_mode": {
    "name": "ipython",
    "version": 3
   },
   "file_extension": ".py",
   "mimetype": "text/x-python",
   "name": "python",
   "nbconvert_exporter": "python",
   "pygments_lexer": "ipython3",
   "version": "3.10.10"
  }
 },
 "nbformat": 4,
 "nbformat_minor": 5
}
