{
 "cells": [
  {
   "cell_type": "markdown",
   "source": [
    "Modelling crime risk associated with Green Spaces\n",
    "---\n",
    "A case study of New York City using NYPD Complaint Data and Machine Learning models\n",
    "\n",
    "| Authors                        | Student ID   |\n",
    "|--------------------------------|--------------|\n",
    "| Kaninik Baradi                 | 5216664      |\n",
    "| Lala Sayyida Millati Nadhira   | 5844266      |\n",
    "| Rezzy Yolanda Wulandhari       | 4779487      |\n",
    "| Kelvin Engee                   | 4664043      |\n",
    "| Philippe Almeida Mirault       | 5898803      |\n",
    "Group 4\n",
    "\n",
    "For the course: Responsible Data Analytics, SEN 163B\n",
    "April 2023"
   ],
   "metadata": {
    "collapsed": false
   }
  },
  {
   "cell_type": "markdown",
   "source": [
    "# Introduction\n",
    "This notebook is a companion to the report on Modelling Crime Risks associated with Green spaces. It contains all the code required to download, pre-process and analyse the data. The notebook is divided into the following sections:\n",
    "- Preparation\n",
    "- Descriptive Analytics\n",
    "    - Preliminary Analysis\n",
    "- Diagnostic Analytics\n",
    "    - Feature Analysis\n",
    "    - Feature Engineering\n",
    "    - Bias Analysis\n",
    "- Predictive Analysis\n",
    "    - Target Variable Analysis\n",
    "    - Train-Test Split Strategy\n",
    "    - Model Evaluation\n",
    "    - Model Interpretation\n",
    "- Prescriptive Analysis\n",
    "    - Cross Validation\n",
    "    - Ensemble Predictor\n",
    "    - Model Deployment"
   ],
   "metadata": {
    "collapsed": false
   }
  },
  {
   "cell_type": "markdown",
   "source": [
    "# Preparation"
   ],
   "metadata": {
    "collapsed": false
   }
  },
  {
   "cell_type": "markdown",
   "source": [
    "Dependencies:\n",
    "\n",
    "Data Sources:"
   ],
   "metadata": {
    "collapsed": false
   }
  },
  {
   "cell_type": "code",
   "execution_count": 47,
   "outputs": [],
   "source": [],
   "metadata": {
    "collapsed": false
   }
  },
  {
   "cell_type": "code",
   "execution_count": 48,
   "outputs": [],
   "source": [
    "import pandas\n",
    "import altair\n",
    "import numpy\n",
    "import matplotlib.pyplot as plt\n",
    "import geopandas as gpd\n",
    "import numpy as np\n",
    "import seaborn as sns"
   ],
   "metadata": {
    "collapsed": false
   }
  },
  {
   "cell_type": "markdown",
   "source": [
    "# Descriptive Analytics\n",
    "This section contains the initial analysis of the selected data sets. It identifies the underlying relationships of the variables and if used to determine vriables of interest for further analysis."
   ],
   "metadata": {
    "collapsed": false
   }
  },
  {
   "cell_type": "markdown",
   "source": [
    "## Complaints Data"
   ],
   "metadata": {
    "collapsed": false
   }
  },
  {
   "cell_type": "code",
   "execution_count": 49,
   "outputs": [
    {
     "name": "stderr",
     "output_type": "stream",
     "text": [
      "C:\\Users\\Kaninik\\AppData\\Local\\Temp\\ipykernel_35532\\2623146973.py:1: DtypeWarning: Columns (18,20) have mixed types. Specify dtype option on import or set low_memory=False.\n",
      "  crime_data = pandas.read_csv(\"..\\\\NYPD_Complaint_Data_Historic.csv\")\n"
     ]
    }
   ],
   "source": [
    "crime_data = pandas.read_csv(\"..\\\\NYPD_Complaint_Data_Historic.csv\")"
   ],
   "metadata": {
    "collapsed": false
   }
  },
  {
   "cell_type": "code",
   "execution_count": 50,
   "outputs": [],
   "source": [
    "def make_categorical(dataframe, column):\n",
    "    # make the column of the dataframe categorical\n",
    "    dataframe[column] = dataframe[column].astype('category')\n",
    "\n",
    "# get a lst of all the columns in the dataframe that need to be categorical\n",
    "\n",
    "columns = ['ADDR_PCT_CD', 'BORO_NM', 'CRM_ATPT_CPTD_CD', 'HADEVELOPT', 'HOUSING_PSA', 'JURISDICTION_CODE', 'JURIS_DESC', 'KY_CD', 'LAW_CAT_CD', 'LOC_OF_OCCUR_DESC', 'OFNS_DESC', 'PARKS_NM', 'PATROL_BORO', 'PD_CD', 'PD_DESC', 'STATION_NAME', 'SUSP_RACE', 'SUSP_SEX', 'TRANSIT_DISTRICT', 'VIC_RACE', 'VIC_SEX']\n",
    "\n",
    "    # make each column categorical\n",
    "for column in columns:\n",
    "    make_categorical(crime_data, column)\n",
    "\n",
    "#scrub for duplicate\n",
    "crime_data.drop_duplicates(inplace=True)"
   ],
   "metadata": {
    "collapsed": false
   }
  },
  {
   "cell_type": "markdown",
   "source": [],
   "metadata": {
    "collapsed": false
   }
  },
  {
   "cell_type": "code",
   "execution_count": 51,
   "outputs": [],
   "source": [
    "#scrub for irrelevant data (only use required columns)\n",
    "crime_data = crime_data[['CMPLNT_FR_DT','CMPLNT_FR_TM','Longitude','Latitude','VIC_SEX','VIC_RACE','VIC_AGE_GROUP']]\n"
   ],
   "metadata": {
    "collapsed": false
   }
  },
  {
   "cell_type": "code",
   "execution_count": 52,
   "outputs": [
    {
     "data": {
      "text/plain": "        CMPLNT_FR_DT CMPLNT_FR_TM  Longitude   Latitude VIC_SEX   \n0         03/29/2018     20:30:00 -73.941064  40.810877       F  \\\n1         02/06/2018     23:15:00 -73.908014  40.873671       D   \n2         11/21/2018     00:15:00 -73.885457  40.651782       D   \n3         06/09/2018     21:42:00 -73.994706  40.759310       F   \n4         11/10/2018     19:40:00 -73.970728  40.764536       D   \n...              ...          ...        ...        ...     ...   \n7825494   05/01/2008     18:55:00 -73.996540  40.756788       E   \n7825495   05/18/2018     14:50:00 -74.102317  40.577953       M   \n7825496   11/19/2018     02:25:00 -73.862427  40.743188       M   \n7825497   02/03/2018     10:02:00 -74.089000  40.593665       M   \n7825498   01/05/2018     14:40:00 -73.944529  40.688872       F   \n\n                         VIC_RACE VIC_AGE_GROUP  \n0                           WHITE         25-44  \n1                         UNKNOWN       UNKNOWN  \n2                         UNKNOWN       UNKNOWN  \n3                  WHITE HISPANIC         18-24  \n4                         UNKNOWN       UNKNOWN  \n...                           ...           ...  \n7825494                   UNKNOWN       UNKNOWN  \n7825495            WHITE HISPANIC           <18  \n7825496  ASIAN / PACIFIC ISLANDER         25-44  \n7825497                     WHITE         45-64  \n7825498                     WHITE           <18  \n\n[7825499 rows x 7 columns]",
      "text/html": "<div>\n<style scoped>\n    .dataframe tbody tr th:only-of-type {\n        vertical-align: middle;\n    }\n\n    .dataframe tbody tr th {\n        vertical-align: top;\n    }\n\n    .dataframe thead th {\n        text-align: right;\n    }\n</style>\n<table border=\"1\" class=\"dataframe\">\n  <thead>\n    <tr style=\"text-align: right;\">\n      <th></th>\n      <th>CMPLNT_FR_DT</th>\n      <th>CMPLNT_FR_TM</th>\n      <th>Longitude</th>\n      <th>Latitude</th>\n      <th>VIC_SEX</th>\n      <th>VIC_RACE</th>\n      <th>VIC_AGE_GROUP</th>\n    </tr>\n  </thead>\n  <tbody>\n    <tr>\n      <th>0</th>\n      <td>03/29/2018</td>\n      <td>20:30:00</td>\n      <td>-73.941064</td>\n      <td>40.810877</td>\n      <td>F</td>\n      <td>WHITE</td>\n      <td>25-44</td>\n    </tr>\n    <tr>\n      <th>1</th>\n      <td>02/06/2018</td>\n      <td>23:15:00</td>\n      <td>-73.908014</td>\n      <td>40.873671</td>\n      <td>D</td>\n      <td>UNKNOWN</td>\n      <td>UNKNOWN</td>\n    </tr>\n    <tr>\n      <th>2</th>\n      <td>11/21/2018</td>\n      <td>00:15:00</td>\n      <td>-73.885457</td>\n      <td>40.651782</td>\n      <td>D</td>\n      <td>UNKNOWN</td>\n      <td>UNKNOWN</td>\n    </tr>\n    <tr>\n      <th>3</th>\n      <td>06/09/2018</td>\n      <td>21:42:00</td>\n      <td>-73.994706</td>\n      <td>40.759310</td>\n      <td>F</td>\n      <td>WHITE HISPANIC</td>\n      <td>18-24</td>\n    </tr>\n    <tr>\n      <th>4</th>\n      <td>11/10/2018</td>\n      <td>19:40:00</td>\n      <td>-73.970728</td>\n      <td>40.764536</td>\n      <td>D</td>\n      <td>UNKNOWN</td>\n      <td>UNKNOWN</td>\n    </tr>\n    <tr>\n      <th>...</th>\n      <td>...</td>\n      <td>...</td>\n      <td>...</td>\n      <td>...</td>\n      <td>...</td>\n      <td>...</td>\n      <td>...</td>\n    </tr>\n    <tr>\n      <th>7825494</th>\n      <td>05/01/2008</td>\n      <td>18:55:00</td>\n      <td>-73.996540</td>\n      <td>40.756788</td>\n      <td>E</td>\n      <td>UNKNOWN</td>\n      <td>UNKNOWN</td>\n    </tr>\n    <tr>\n      <th>7825495</th>\n      <td>05/18/2018</td>\n      <td>14:50:00</td>\n      <td>-74.102317</td>\n      <td>40.577953</td>\n      <td>M</td>\n      <td>WHITE HISPANIC</td>\n      <td>&lt;18</td>\n    </tr>\n    <tr>\n      <th>7825496</th>\n      <td>11/19/2018</td>\n      <td>02:25:00</td>\n      <td>-73.862427</td>\n      <td>40.743188</td>\n      <td>M</td>\n      <td>ASIAN / PACIFIC ISLANDER</td>\n      <td>25-44</td>\n    </tr>\n    <tr>\n      <th>7825497</th>\n      <td>02/03/2018</td>\n      <td>10:02:00</td>\n      <td>-74.089000</td>\n      <td>40.593665</td>\n      <td>M</td>\n      <td>WHITE</td>\n      <td>45-64</td>\n    </tr>\n    <tr>\n      <th>7825498</th>\n      <td>01/05/2018</td>\n      <td>14:40:00</td>\n      <td>-73.944529</td>\n      <td>40.688872</td>\n      <td>F</td>\n      <td>WHITE</td>\n      <td>&lt;18</td>\n    </tr>\n  </tbody>\n</table>\n<p>7825499 rows × 7 columns</p>\n</div>"
     },
     "execution_count": 52,
     "metadata": {},
     "output_type": "execute_result"
    }
   ],
   "source": [
    "crime_data"
   ],
   "metadata": {
    "collapsed": false
   }
  },
  {
   "cell_type": "code",
   "execution_count": 53,
   "outputs": [
    {
     "name": "stdout",
     "output_type": "stream",
     "text": [
      "CMPLNT_FR_DT         655\n",
      "CMPLNT_FR_TM          48\n",
      "Longitude          17339\n",
      "Latitude           17339\n",
      "VIC_SEX              308\n",
      "VIC_RACE             390\n",
      "VIC_AGE_GROUP    1638445\n",
      "dtype: int64\n"
     ]
    }
   ],
   "source": [
    "#unlike usual, all the rows with missing data is deleted beforehand, because there all the data is missing completely at random\n",
    "missing_counts = crime_data.isna().sum()\n",
    "\n",
    "print(missing_counts)"
   ],
   "metadata": {
    "collapsed": false
   }
  },
  {
   "cell_type": "code",
   "execution_count": 54,
   "outputs": [
    {
     "name": "stdout",
     "output_type": "stream",
     "text": [
      "        CMPLNT_FR_DT CMPLNT_FR_TM  Longitude   Latitude VIC_SEX   \n",
      "0         03/29/2018     20:30:00 -73.941064  40.810877       F  \\\n",
      "1         02/06/2018     23:15:00 -73.908014  40.873671       D   \n",
      "2         11/21/2018     00:15:00 -73.885457  40.651782       D   \n",
      "3         06/09/2018     21:42:00 -73.994706  40.759310       F   \n",
      "4         11/10/2018     19:40:00 -73.970728  40.764536       D   \n",
      "...              ...          ...        ...        ...     ...   \n",
      "7825494   05/01/2008     18:55:00 -73.996540  40.756788       E   \n",
      "7825495   05/18/2018     14:50:00 -74.102317  40.577953       M   \n",
      "7825496   11/19/2018     02:25:00 -73.862427  40.743188       M   \n",
      "7825497   02/03/2018     10:02:00 -74.089000  40.593665       M   \n",
      "7825498   01/05/2018     14:40:00 -73.944529  40.688872       F   \n",
      "\n",
      "                         VIC_RACE VIC_AGE_GROUP  \n",
      "0                           WHITE         25-44  \n",
      "1                         UNKNOWN       UNKNOWN  \n",
      "2                         UNKNOWN       UNKNOWN  \n",
      "3                  WHITE HISPANIC         18-24  \n",
      "4                         UNKNOWN       UNKNOWN  \n",
      "...                           ...           ...  \n",
      "7825494                   UNKNOWN       UNKNOWN  \n",
      "7825495            WHITE HISPANIC           <18  \n",
      "7825496  ASIAN / PACIFIC ISLANDER         25-44  \n",
      "7825497                     WHITE         45-64  \n",
      "7825498                     WHITE           <18  \n",
      "\n",
      "[6173999 rows x 7 columns]\n"
     ]
    }
   ],
   "source": [
    "crime_data = crime_data.dropna(axis=0)\n",
    "\n",
    "print(crime_data)"
   ],
   "metadata": {
    "collapsed": false
   }
  },
  {
   "cell_type": "code",
   "execution_count": 55,
   "outputs": [
    {
     "name": "stdout",
     "output_type": "stream",
     "text": [
      "CMPLNT_FR_DT     0\n",
      "CMPLNT_FR_TM     0\n",
      "Longitude        0\n",
      "Latitude         0\n",
      "VIC_SEX          0\n",
      "VIC_RACE         0\n",
      "VIC_AGE_GROUP    0\n",
      "dtype: int64\n"
     ]
    }
   ],
   "source": [
    "#unlike usual, all the rows with missing data is deleted beforehand, because there all the data is missing completely at random\n",
    "missing_counts = crime_data.isna().sum()\n",
    "\n",
    "print(missing_counts)"
   ],
   "metadata": {
    "collapsed": false
   }
  },
  {
   "cell_type": "markdown",
   "source": [
    "# CMPLNT_FR_DT\n"
   ],
   "metadata": {
    "collapsed": false
   }
  },
  {
   "cell_type": "code",
   "execution_count": 56,
   "outputs": [
    {
     "name": "stderr",
     "output_type": "stream",
     "text": [
      "C:\\Users\\Kaninik\\AppData\\Local\\Temp\\ipykernel_35532\\132670575.py:1: SettingWithCopyWarning: \n",
      "A value is trying to be set on a copy of a slice from a DataFrame.\n",
      "Try using .loc[row_indexer,col_indexer] = value instead\n",
      "\n",
      "See the caveats in the documentation: https://pandas.pydata.org/pandas-docs/stable/user_guide/indexing.html#returning-a-view-versus-a-copy\n",
      "  crime_data[['month','day','year']] = crime_data['CMPLNT_FR_DT'].str.split('/',expand=True).astype(int)\n",
      "C:\\Users\\Kaninik\\AppData\\Local\\Temp\\ipykernel_35532\\132670575.py:1: SettingWithCopyWarning: \n",
      "A value is trying to be set on a copy of a slice from a DataFrame.\n",
      "Try using .loc[row_indexer,col_indexer] = value instead\n",
      "\n",
      "See the caveats in the documentation: https://pandas.pydata.org/pandas-docs/stable/user_guide/indexing.html#returning-a-view-versus-a-copy\n",
      "  crime_data[['month','day','year']] = crime_data['CMPLNT_FR_DT'].str.split('/',expand=True).astype(int)\n",
      "C:\\Users\\Kaninik\\AppData\\Local\\Temp\\ipykernel_35532\\132670575.py:1: SettingWithCopyWarning: \n",
      "A value is trying to be set on a copy of a slice from a DataFrame.\n",
      "Try using .loc[row_indexer,col_indexer] = value instead\n",
      "\n",
      "See the caveats in the documentation: https://pandas.pydata.org/pandas-docs/stable/user_guide/indexing.html#returning-a-view-versus-a-copy\n",
      "  crime_data[['month','day','year']] = crime_data['CMPLNT_FR_DT'].str.split('/',expand=True).astype(int)\n"
     ]
    }
   ],
   "source": [
    "crime_data[['month','day','year']] = crime_data['CMPLNT_FR_DT'].str.split('/',expand=True).astype(int)"
   ],
   "metadata": {
    "collapsed": false
   }
  },
  {
   "cell_type": "code",
   "execution_count": 57,
   "outputs": [
    {
     "data": {
      "text/plain": "        CMPLNT_FR_DT CMPLNT_FR_TM  Longitude   Latitude VIC_SEX   \n0         03/29/2018     20:30:00 -73.941064  40.810877       F  \\\n1         02/06/2018     23:15:00 -73.908014  40.873671       D   \n2         11/21/2018     00:15:00 -73.885457  40.651782       D   \n3         06/09/2018     21:42:00 -73.994706  40.759310       F   \n4         11/10/2018     19:40:00 -73.970728  40.764536       D   \n...              ...          ...        ...        ...     ...   \n7825494   05/01/2008     18:55:00 -73.996540  40.756788       E   \n7825495   05/18/2018     14:50:00 -74.102317  40.577953       M   \n7825496   11/19/2018     02:25:00 -73.862427  40.743188       M   \n7825497   02/03/2018     10:02:00 -74.089000  40.593665       M   \n7825498   01/05/2018     14:40:00 -73.944529  40.688872       F   \n\n                         VIC_RACE VIC_AGE_GROUP  month  day  year  \n0                           WHITE         25-44      3   29  2018  \n1                         UNKNOWN       UNKNOWN      2    6  2018  \n2                         UNKNOWN       UNKNOWN     11   21  2018  \n3                  WHITE HISPANIC         18-24      6    9  2018  \n4                         UNKNOWN       UNKNOWN     11   10  2018  \n...                           ...           ...    ...  ...   ...  \n7825494                   UNKNOWN       UNKNOWN      5    1  2008  \n7825495            WHITE HISPANIC           <18      5   18  2018  \n7825496  ASIAN / PACIFIC ISLANDER         25-44     11   19  2018  \n7825497                     WHITE         45-64      2    3  2018  \n7825498                     WHITE           <18      1    5  2018  \n\n[6173999 rows x 10 columns]",
      "text/html": "<div>\n<style scoped>\n    .dataframe tbody tr th:only-of-type {\n        vertical-align: middle;\n    }\n\n    .dataframe tbody tr th {\n        vertical-align: top;\n    }\n\n    .dataframe thead th {\n        text-align: right;\n    }\n</style>\n<table border=\"1\" class=\"dataframe\">\n  <thead>\n    <tr style=\"text-align: right;\">\n      <th></th>\n      <th>CMPLNT_FR_DT</th>\n      <th>CMPLNT_FR_TM</th>\n      <th>Longitude</th>\n      <th>Latitude</th>\n      <th>VIC_SEX</th>\n      <th>VIC_RACE</th>\n      <th>VIC_AGE_GROUP</th>\n      <th>month</th>\n      <th>day</th>\n      <th>year</th>\n    </tr>\n  </thead>\n  <tbody>\n    <tr>\n      <th>0</th>\n      <td>03/29/2018</td>\n      <td>20:30:00</td>\n      <td>-73.941064</td>\n      <td>40.810877</td>\n      <td>F</td>\n      <td>WHITE</td>\n      <td>25-44</td>\n      <td>3</td>\n      <td>29</td>\n      <td>2018</td>\n    </tr>\n    <tr>\n      <th>1</th>\n      <td>02/06/2018</td>\n      <td>23:15:00</td>\n      <td>-73.908014</td>\n      <td>40.873671</td>\n      <td>D</td>\n      <td>UNKNOWN</td>\n      <td>UNKNOWN</td>\n      <td>2</td>\n      <td>6</td>\n      <td>2018</td>\n    </tr>\n    <tr>\n      <th>2</th>\n      <td>11/21/2018</td>\n      <td>00:15:00</td>\n      <td>-73.885457</td>\n      <td>40.651782</td>\n      <td>D</td>\n      <td>UNKNOWN</td>\n      <td>UNKNOWN</td>\n      <td>11</td>\n      <td>21</td>\n      <td>2018</td>\n    </tr>\n    <tr>\n      <th>3</th>\n      <td>06/09/2018</td>\n      <td>21:42:00</td>\n      <td>-73.994706</td>\n      <td>40.759310</td>\n      <td>F</td>\n      <td>WHITE HISPANIC</td>\n      <td>18-24</td>\n      <td>6</td>\n      <td>9</td>\n      <td>2018</td>\n    </tr>\n    <tr>\n      <th>4</th>\n      <td>11/10/2018</td>\n      <td>19:40:00</td>\n      <td>-73.970728</td>\n      <td>40.764536</td>\n      <td>D</td>\n      <td>UNKNOWN</td>\n      <td>UNKNOWN</td>\n      <td>11</td>\n      <td>10</td>\n      <td>2018</td>\n    </tr>\n    <tr>\n      <th>...</th>\n      <td>...</td>\n      <td>...</td>\n      <td>...</td>\n      <td>...</td>\n      <td>...</td>\n      <td>...</td>\n      <td>...</td>\n      <td>...</td>\n      <td>...</td>\n      <td>...</td>\n    </tr>\n    <tr>\n      <th>7825494</th>\n      <td>05/01/2008</td>\n      <td>18:55:00</td>\n      <td>-73.996540</td>\n      <td>40.756788</td>\n      <td>E</td>\n      <td>UNKNOWN</td>\n      <td>UNKNOWN</td>\n      <td>5</td>\n      <td>1</td>\n      <td>2008</td>\n    </tr>\n    <tr>\n      <th>7825495</th>\n      <td>05/18/2018</td>\n      <td>14:50:00</td>\n      <td>-74.102317</td>\n      <td>40.577953</td>\n      <td>M</td>\n      <td>WHITE HISPANIC</td>\n      <td>&lt;18</td>\n      <td>5</td>\n      <td>18</td>\n      <td>2018</td>\n    </tr>\n    <tr>\n      <th>7825496</th>\n      <td>11/19/2018</td>\n      <td>02:25:00</td>\n      <td>-73.862427</td>\n      <td>40.743188</td>\n      <td>M</td>\n      <td>ASIAN / PACIFIC ISLANDER</td>\n      <td>25-44</td>\n      <td>11</td>\n      <td>19</td>\n      <td>2018</td>\n    </tr>\n    <tr>\n      <th>7825497</th>\n      <td>02/03/2018</td>\n      <td>10:02:00</td>\n      <td>-74.089000</td>\n      <td>40.593665</td>\n      <td>M</td>\n      <td>WHITE</td>\n      <td>45-64</td>\n      <td>2</td>\n      <td>3</td>\n      <td>2018</td>\n    </tr>\n    <tr>\n      <th>7825498</th>\n      <td>01/05/2018</td>\n      <td>14:40:00</td>\n      <td>-73.944529</td>\n      <td>40.688872</td>\n      <td>F</td>\n      <td>WHITE</td>\n      <td>&lt;18</td>\n      <td>1</td>\n      <td>5</td>\n      <td>2018</td>\n    </tr>\n  </tbody>\n</table>\n<p>6173999 rows × 10 columns</p>\n</div>"
     },
     "execution_count": 57,
     "metadata": {},
     "output_type": "execute_result"
    }
   ],
   "source": [
    "crime_data"
   ],
   "metadata": {
    "collapsed": false
   }
  },
  {
   "cell_type": "code",
   "execution_count": 58,
   "outputs": [],
   "source": [
    "crime_data = crime_data.loc[crime_data['year'] >= 2006]"
   ],
   "metadata": {
    "collapsed": false
   }
  },
  {
   "cell_type": "code",
   "execution_count": 59,
   "outputs": [
    {
     "name": "stderr",
     "output_type": "stream",
     "text": [
      "C:\\Users\\Kaninik\\AppData\\Local\\Temp\\ipykernel_35532\\3461495595.py:1: SettingWithCopyWarning: \n",
      "A value is trying to be set on a copy of a slice from a DataFrame.\n",
      "Try using .loc[row_indexer,col_indexer] = value instead\n",
      "\n",
      "See the caveats in the documentation: https://pandas.pydata.org/pandas-docs/stable/user_guide/indexing.html#returning-a-view-versus-a-copy\n",
      "  crime_data['CMPLNT_FR_DT'] = pandas.to_datetime(crime_data['CMPLNT_FR_DT'], format='%m/%d/%Y')\n",
      "C:\\Users\\Kaninik\\AppData\\Local\\Temp\\ipykernel_35532\\3461495595.py:2: SettingWithCopyWarning: \n",
      "A value is trying to be set on a copy of a slice from a DataFrame.\n",
      "Try using .loc[row_indexer,col_indexer] = value instead\n",
      "\n",
      "See the caveats in the documentation: https://pandas.pydata.org/pandas-docs/stable/user_guide/indexing.html#returning-a-view-versus-a-copy\n",
      "  crime_data['day_of_week'] = crime_data['CMPLNT_FR_DT'].dt.dayofweek\n"
     ]
    }
   ],
   "source": [
    "crime_data['CMPLNT_FR_DT'] = pandas.to_datetime(crime_data['CMPLNT_FR_DT'], format='%m/%d/%Y')\n",
    "crime_data['day_of_week'] = crime_data['CMPLNT_FR_DT'].dt.dayofweek"
   ],
   "metadata": {
    "collapsed": false
   }
  },
  {
   "cell_type": "code",
   "execution_count": 60,
   "outputs": [
    {
     "data": {
      "text/plain": "        CMPLNT_FR_TM  Longitude   Latitude VIC_SEX                  VIC_RACE   \n0           20:30:00 -73.941064  40.810877       F                     WHITE  \\\n1           23:15:00 -73.908014  40.873671       D                   UNKNOWN   \n2           00:15:00 -73.885457  40.651782       D                   UNKNOWN   \n3           21:42:00 -73.994706  40.759310       F            WHITE HISPANIC   \n4           19:40:00 -73.970728  40.764536       D                   UNKNOWN   \n...              ...        ...        ...     ...                       ...   \n7825494     18:55:00 -73.996540  40.756788       E                   UNKNOWN   \n7825495     14:50:00 -74.102317  40.577953       M            WHITE HISPANIC   \n7825496     02:25:00 -73.862427  40.743188       M  ASIAN / PACIFIC ISLANDER   \n7825497     10:02:00 -74.089000  40.593665       M                     WHITE   \n7825498     14:40:00 -73.944529  40.688872       F                     WHITE   \n\n        VIC_AGE_GROUP  year  day_of_week  \n0               25-44  2018            3  \n1             UNKNOWN  2018            1  \n2             UNKNOWN  2018            2  \n3               18-24  2018            5  \n4             UNKNOWN  2018            5  \n...               ...   ...          ...  \n7825494       UNKNOWN  2008            3  \n7825495           <18  2018            4  \n7825496         25-44  2018            0  \n7825497         45-64  2018            5  \n7825498           <18  2018            4  \n\n[6157611 rows x 8 columns]",
      "text/html": "<div>\n<style scoped>\n    .dataframe tbody tr th:only-of-type {\n        vertical-align: middle;\n    }\n\n    .dataframe tbody tr th {\n        vertical-align: top;\n    }\n\n    .dataframe thead th {\n        text-align: right;\n    }\n</style>\n<table border=\"1\" class=\"dataframe\">\n  <thead>\n    <tr style=\"text-align: right;\">\n      <th></th>\n      <th>CMPLNT_FR_TM</th>\n      <th>Longitude</th>\n      <th>Latitude</th>\n      <th>VIC_SEX</th>\n      <th>VIC_RACE</th>\n      <th>VIC_AGE_GROUP</th>\n      <th>year</th>\n      <th>day_of_week</th>\n    </tr>\n  </thead>\n  <tbody>\n    <tr>\n      <th>0</th>\n      <td>20:30:00</td>\n      <td>-73.941064</td>\n      <td>40.810877</td>\n      <td>F</td>\n      <td>WHITE</td>\n      <td>25-44</td>\n      <td>2018</td>\n      <td>3</td>\n    </tr>\n    <tr>\n      <th>1</th>\n      <td>23:15:00</td>\n      <td>-73.908014</td>\n      <td>40.873671</td>\n      <td>D</td>\n      <td>UNKNOWN</td>\n      <td>UNKNOWN</td>\n      <td>2018</td>\n      <td>1</td>\n    </tr>\n    <tr>\n      <th>2</th>\n      <td>00:15:00</td>\n      <td>-73.885457</td>\n      <td>40.651782</td>\n      <td>D</td>\n      <td>UNKNOWN</td>\n      <td>UNKNOWN</td>\n      <td>2018</td>\n      <td>2</td>\n    </tr>\n    <tr>\n      <th>3</th>\n      <td>21:42:00</td>\n      <td>-73.994706</td>\n      <td>40.759310</td>\n      <td>F</td>\n      <td>WHITE HISPANIC</td>\n      <td>18-24</td>\n      <td>2018</td>\n      <td>5</td>\n    </tr>\n    <tr>\n      <th>4</th>\n      <td>19:40:00</td>\n      <td>-73.970728</td>\n      <td>40.764536</td>\n      <td>D</td>\n      <td>UNKNOWN</td>\n      <td>UNKNOWN</td>\n      <td>2018</td>\n      <td>5</td>\n    </tr>\n    <tr>\n      <th>...</th>\n      <td>...</td>\n      <td>...</td>\n      <td>...</td>\n      <td>...</td>\n      <td>...</td>\n      <td>...</td>\n      <td>...</td>\n      <td>...</td>\n    </tr>\n    <tr>\n      <th>7825494</th>\n      <td>18:55:00</td>\n      <td>-73.996540</td>\n      <td>40.756788</td>\n      <td>E</td>\n      <td>UNKNOWN</td>\n      <td>UNKNOWN</td>\n      <td>2008</td>\n      <td>3</td>\n    </tr>\n    <tr>\n      <th>7825495</th>\n      <td>14:50:00</td>\n      <td>-74.102317</td>\n      <td>40.577953</td>\n      <td>M</td>\n      <td>WHITE HISPANIC</td>\n      <td>&lt;18</td>\n      <td>2018</td>\n      <td>4</td>\n    </tr>\n    <tr>\n      <th>7825496</th>\n      <td>02:25:00</td>\n      <td>-73.862427</td>\n      <td>40.743188</td>\n      <td>M</td>\n      <td>ASIAN / PACIFIC ISLANDER</td>\n      <td>25-44</td>\n      <td>2018</td>\n      <td>0</td>\n    </tr>\n    <tr>\n      <th>7825497</th>\n      <td>10:02:00</td>\n      <td>-74.089000</td>\n      <td>40.593665</td>\n      <td>M</td>\n      <td>WHITE</td>\n      <td>45-64</td>\n      <td>2018</td>\n      <td>5</td>\n    </tr>\n    <tr>\n      <th>7825498</th>\n      <td>14:40:00</td>\n      <td>-73.944529</td>\n      <td>40.688872</td>\n      <td>F</td>\n      <td>WHITE</td>\n      <td>&lt;18</td>\n      <td>2018</td>\n      <td>4</td>\n    </tr>\n  </tbody>\n</table>\n<p>6157611 rows × 8 columns</p>\n</div>"
     },
     "execution_count": 60,
     "metadata": {},
     "output_type": "execute_result"
    }
   ],
   "source": [
    "crime_data = crime_data.drop('CMPLNT_FR_DT', axis=1)\n",
    "crime_data = crime_data.drop('month', axis=1)\n",
    "crime_data = crime_data.drop('day', axis=1)\n",
    "crime_data"
   ],
   "metadata": {
    "collapsed": false
   }
  },
  {
   "cell_type": "markdown",
   "source": [
    "# CMPLNT_FR_TM"
   ],
   "metadata": {
    "collapsed": false
   }
  },
  {
   "cell_type": "code",
   "execution_count": 61,
   "outputs": [],
   "source": [
    "crime_data[['hour','minute','second']] = crime_data['CMPLNT_FR_TM'].str.split(':',expand=True).astype(int)"
   ],
   "metadata": {
    "collapsed": false
   }
  },
  {
   "cell_type": "code",
   "execution_count": 62,
   "outputs": [
    {
     "data": {
      "text/plain": "         Longitude   Latitude VIC_SEX                  VIC_RACE VIC_AGE_GROUP   \n0       -73.941064  40.810877       F                     WHITE         25-44  \\\n1       -73.908014  40.873671       D                   UNKNOWN       UNKNOWN   \n2       -73.885457  40.651782       D                   UNKNOWN       UNKNOWN   \n3       -73.994706  40.759310       F            WHITE HISPANIC         18-24   \n4       -73.970728  40.764536       D                   UNKNOWN       UNKNOWN   \n...            ...        ...     ...                       ...           ...   \n7825494 -73.996540  40.756788       E                   UNKNOWN       UNKNOWN   \n7825495 -74.102317  40.577953       M            WHITE HISPANIC           <18   \n7825496 -73.862427  40.743188       M  ASIAN / PACIFIC ISLANDER         25-44   \n7825497 -74.089000  40.593665       M                     WHITE         45-64   \n7825498 -73.944529  40.688872       F                     WHITE           <18   \n\n         year  day_of_week  hour  \n0        2018            3    20  \n1        2018            1    23  \n2        2018            2     0  \n3        2018            5    21  \n4        2018            5    19  \n...       ...          ...   ...  \n7825494  2008            3    18  \n7825495  2018            4    14  \n7825496  2018            0     2  \n7825497  2018            5    10  \n7825498  2018            4    14  \n\n[6157611 rows x 8 columns]",
      "text/html": "<div>\n<style scoped>\n    .dataframe tbody tr th:only-of-type {\n        vertical-align: middle;\n    }\n\n    .dataframe tbody tr th {\n        vertical-align: top;\n    }\n\n    .dataframe thead th {\n        text-align: right;\n    }\n</style>\n<table border=\"1\" class=\"dataframe\">\n  <thead>\n    <tr style=\"text-align: right;\">\n      <th></th>\n      <th>Longitude</th>\n      <th>Latitude</th>\n      <th>VIC_SEX</th>\n      <th>VIC_RACE</th>\n      <th>VIC_AGE_GROUP</th>\n      <th>year</th>\n      <th>day_of_week</th>\n      <th>hour</th>\n    </tr>\n  </thead>\n  <tbody>\n    <tr>\n      <th>0</th>\n      <td>-73.941064</td>\n      <td>40.810877</td>\n      <td>F</td>\n      <td>WHITE</td>\n      <td>25-44</td>\n      <td>2018</td>\n      <td>3</td>\n      <td>20</td>\n    </tr>\n    <tr>\n      <th>1</th>\n      <td>-73.908014</td>\n      <td>40.873671</td>\n      <td>D</td>\n      <td>UNKNOWN</td>\n      <td>UNKNOWN</td>\n      <td>2018</td>\n      <td>1</td>\n      <td>23</td>\n    </tr>\n    <tr>\n      <th>2</th>\n      <td>-73.885457</td>\n      <td>40.651782</td>\n      <td>D</td>\n      <td>UNKNOWN</td>\n      <td>UNKNOWN</td>\n      <td>2018</td>\n      <td>2</td>\n      <td>0</td>\n    </tr>\n    <tr>\n      <th>3</th>\n      <td>-73.994706</td>\n      <td>40.759310</td>\n      <td>F</td>\n      <td>WHITE HISPANIC</td>\n      <td>18-24</td>\n      <td>2018</td>\n      <td>5</td>\n      <td>21</td>\n    </tr>\n    <tr>\n      <th>4</th>\n      <td>-73.970728</td>\n      <td>40.764536</td>\n      <td>D</td>\n      <td>UNKNOWN</td>\n      <td>UNKNOWN</td>\n      <td>2018</td>\n      <td>5</td>\n      <td>19</td>\n    </tr>\n    <tr>\n      <th>...</th>\n      <td>...</td>\n      <td>...</td>\n      <td>...</td>\n      <td>...</td>\n      <td>...</td>\n      <td>...</td>\n      <td>...</td>\n      <td>...</td>\n    </tr>\n    <tr>\n      <th>7825494</th>\n      <td>-73.996540</td>\n      <td>40.756788</td>\n      <td>E</td>\n      <td>UNKNOWN</td>\n      <td>UNKNOWN</td>\n      <td>2008</td>\n      <td>3</td>\n      <td>18</td>\n    </tr>\n    <tr>\n      <th>7825495</th>\n      <td>-74.102317</td>\n      <td>40.577953</td>\n      <td>M</td>\n      <td>WHITE HISPANIC</td>\n      <td>&lt;18</td>\n      <td>2018</td>\n      <td>4</td>\n      <td>14</td>\n    </tr>\n    <tr>\n      <th>7825496</th>\n      <td>-73.862427</td>\n      <td>40.743188</td>\n      <td>M</td>\n      <td>ASIAN / PACIFIC ISLANDER</td>\n      <td>25-44</td>\n      <td>2018</td>\n      <td>0</td>\n      <td>2</td>\n    </tr>\n    <tr>\n      <th>7825497</th>\n      <td>-74.089000</td>\n      <td>40.593665</td>\n      <td>M</td>\n      <td>WHITE</td>\n      <td>45-64</td>\n      <td>2018</td>\n      <td>5</td>\n      <td>10</td>\n    </tr>\n    <tr>\n      <th>7825498</th>\n      <td>-73.944529</td>\n      <td>40.688872</td>\n      <td>F</td>\n      <td>WHITE</td>\n      <td>&lt;18</td>\n      <td>2018</td>\n      <td>4</td>\n      <td>14</td>\n    </tr>\n  </tbody>\n</table>\n<p>6157611 rows × 8 columns</p>\n</div>"
     },
     "execution_count": 62,
     "metadata": {},
     "output_type": "execute_result"
    }
   ],
   "source": [
    "crime_data = crime_data.drop('CMPLNT_FR_TM', axis=1)\n",
    "crime_data = crime_data.drop('second', axis=1)\n",
    "crime_data = crime_data.drop('minute', axis=1)\n",
    "crime_data"
   ],
   "metadata": {
    "collapsed": false
   }
  },
  {
   "cell_type": "markdown",
   "source": [
    "# Grid the Longitude and Latitude"
   ],
   "metadata": {
    "collapsed": false
   }
  },
  {
   "cell_type": "code",
   "execution_count": 63,
   "outputs": [],
   "source": [
    "# Create a grid of points across the precincts to use as the center of the crime clusters\n",
    "# The size of the grid is n x n, where n is the number of points in each direction\n",
    "from shapely.geometry import Point, Polygon\n",
    "from rtree import index\n",
    "\n",
    "precint_footprint = gpd.read_file('..//data//Police Precincts.geojson')\n",
    "\n",
    "# get the bounds of the precincts\n",
    "min_x, min_y, max_x, max_y = precint_footprint.total_bounds\n",
    "\n",
    "idx = index.Index()\n",
    "for i, row in precint_footprint.iterrows():\n",
    "    idx.insert(i, row.geometry.bounds)\n",
    "\n",
    "grid_size = 100  # You can adjust this value\n",
    "x_points = np.linspace(min_x, max_x, grid_size)\n",
    "y_points = np.linspace(min_y, max_y, grid_size)\n",
    "\n",
    "# Round the points to 4 decimal places\n",
    "x_points = np.around(x_points, 5)\n",
    "y_points = np.around(y_points, 5)\n",
    "\n",
    "grid = [Point(x, y) for x in x_points for y in y_points]\n",
    "\n",
    "# drop the points that are not within the precincts\n",
    "def is_point_inside_precincts(point, precincts_gdf, idx):\n",
    "    for i in idx.intersection(point.bounds):\n",
    "        if point.within(precincts_gdf.iloc[i].geometry):\n",
    "            return True\n",
    "    return False\n",
    "\n",
    "filtered_grid = [point for point in grid if is_point_inside_precincts(point, precint_footprint, idx)]\n",
    "filtered_grid_df = pandas.DataFrame([(point.x, point.y) for point in filtered_grid], columns=['Longitude', 'Latitude'])\n",
    "#\n",
    "del grid\n",
    "del filtered_grid"
   ],
   "metadata": {
    "collapsed": false
   }
  },
  {
   "cell_type": "code",
   "execution_count": 64,
   "outputs": [],
   "source": [
    "from scipy.spatial import cKDTree\n",
    "\n",
    "# create a KD Tree with the Longitude and Latitude columns of filtered_grid_df\n",
    "kd_tree = cKDTree(filtered_grid_df[['Longitude', 'Latitude']])\n",
    "\n",
    "def nearest_grid_point(coord, grid_points):\n",
    "    nearest_index = np.argmin(np.abs(coord - grid_points))\n",
    "    return grid_points[nearest_index]"
   ],
   "metadata": {
    "collapsed": false
   }
  },
  {
   "cell_type": "code",
   "execution_count": 65,
   "outputs": [],
   "source": [
    "\n",
    "# query the KD Tree with the Longitude and Latitude columns of crime_data\n",
    "distances, indices = kd_tree.query(crime_data[['Longitude', 'Latitude']])\n",
    "\n",
    "# use the indices to get the corresponding Longitude and Latitude values from filtered_grid_df\n",
    "crime_data['Longitude'] = filtered_grid_df.loc[indices, 'Longitude'].values\n",
    "crime_data['Latitude'] = filtered_grid_df.loc[indices, 'Latitude'].values"
   ],
   "metadata": {
    "collapsed": false
   }
  },
  {
   "cell_type": "code",
   "execution_count": 66,
   "outputs": [
    {
     "data": {
      "text/plain": "<matplotlib.collections.PathCollection at 0x216ae735a80>"
     },
     "execution_count": 66,
     "metadata": {},
     "output_type": "execute_result"
    },
    {
     "data": {
      "text/plain": "<Figure size 640x480 with 1 Axes>",
      "image/png": "[encoded data removed]"
     },
     "metadata": {},
     "output_type": "display_data"
    }
   ],
   "source": [
    "plt.scatter(crime_data['Longitude'], crime_data['Latitude'])"
   ],
   "metadata": {
    "collapsed": false
   }
  },
  {
   "cell_type": "code",
   "execution_count": 67,
   "outputs": [],
   "source": [
    "crime_data = crime_data.loc[crime_data['Longitude'] > -74.5]"
   ],
   "metadata": {
    "collapsed": false
   }
  },
  {
   "cell_type": "code",
   "execution_count": 68,
   "outputs": [],
   "source": [
    "crime_data = crime_data.loc[crime_data['Latitude'] < 42.5]"
   ],
   "metadata": {
    "collapsed": false
   }
  },
  {
   "cell_type": "code",
   "execution_count": 69,
   "outputs": [
    {
     "data": {
      "text/plain": "         Longitude  Latitude VIC_SEX                  VIC_RACE VIC_AGE_GROUP   \n0        -73.94132  40.80962       F                     WHITE         25-44  \\\n1        -73.90765  40.87317       D                   UNKNOWN       UNKNOWN   \n2        -73.88520  40.65288       D                   UNKNOWN       UNKNOWN   \n3        -73.99744  40.75879       F            WHITE HISPANIC         18-24   \n4        -73.96938  40.76302       D                   UNKNOWN       UNKNOWN   \n...            ...       ...     ...                       ...           ...   \n7825494  -73.99744  40.75879       E                   UNKNOWN       UNKNOWN   \n7825495  -74.10407  40.57662       M            WHITE HISPANIC           <18   \n7825496  -73.86276  40.74184       M  ASIAN / PACIFIC ISLANDER         25-44   \n7825497  -74.08723  40.59357       M                     WHITE         45-64   \n7825498  -73.94693  40.68677       F                     WHITE           <18   \n\n         year  day_of_week  hour  \n0        2018            3    20  \n1        2018            1    23  \n2        2018            2     0  \n3        2018            5    21  \n4        2018            5    19  \n...       ...          ...   ...  \n7825494  2008            3    18  \n7825495  2018            4    14  \n7825496  2018            0     2  \n7825497  2018            5    10  \n7825498  2018            4    14  \n\n[6157611 rows x 8 columns]",
      "text/html": "<div>\n<style scoped>\n    .dataframe tbody tr th:only-of-type {\n        vertical-align: middle;\n    }\n\n    .dataframe tbody tr th {\n        vertical-align: top;\n    }\n\n    .dataframe thead th {\n        text-align: right;\n    }\n</style>\n<table border=\"1\" class=\"dataframe\">\n  <thead>\n    <tr style=\"text-align: right;\">\n      <th></th>\n      <th>Longitude</th>\n      <th>Latitude</th>\n      <th>VIC_SEX</th>\n      <th>VIC_RACE</th>\n      <th>VIC_AGE_GROUP</th>\n      <th>year</th>\n      <th>day_of_week</th>\n      <th>hour</th>\n    </tr>\n  </thead>\n  <tbody>\n    <tr>\n      <th>0</th>\n      <td>-73.94132</td>\n      <td>40.80962</td>\n      <td>F</td>\n      <td>WHITE</td>\n      <td>25-44</td>\n      <td>2018</td>\n      <td>3</td>\n      <td>20</td>\n    </tr>\n    <tr>\n      <th>1</th>\n      <td>-73.90765</td>\n      <td>40.87317</td>\n      <td>D</td>\n      <td>UNKNOWN</td>\n      <td>UNKNOWN</td>\n      <td>2018</td>\n      <td>1</td>\n      <td>23</td>\n    </tr>\n    <tr>\n      <th>2</th>\n      <td>-73.88520</td>\n      <td>40.65288</td>\n      <td>D</td>\n      <td>UNKNOWN</td>\n      <td>UNKNOWN</td>\n      <td>2018</td>\n      <td>2</td>\n      <td>0</td>\n    </tr>\n    <tr>\n      <th>3</th>\n      <td>-73.99744</td>\n      <td>40.75879</td>\n      <td>F</td>\n      <td>WHITE HISPANIC</td>\n      <td>18-24</td>\n      <td>2018</td>\n      <td>5</td>\n      <td>21</td>\n    </tr>\n    <tr>\n      <th>4</th>\n      <td>-73.96938</td>\n      <td>40.76302</td>\n      <td>D</td>\n      <td>UNKNOWN</td>\n      <td>UNKNOWN</td>\n      <td>2018</td>\n      <td>5</td>\n      <td>19</td>\n    </tr>\n    <tr>\n      <th>...</th>\n      <td>...</td>\n      <td>...</td>\n      <td>...</td>\n      <td>...</td>\n      <td>...</td>\n      <td>...</td>\n      <td>...</td>\n      <td>...</td>\n    </tr>\n    <tr>\n      <th>7825494</th>\n      <td>-73.99744</td>\n      <td>40.75879</td>\n      <td>E</td>\n      <td>UNKNOWN</td>\n      <td>UNKNOWN</td>\n      <td>2008</td>\n      <td>3</td>\n      <td>18</td>\n    </tr>\n    <tr>\n      <th>7825495</th>\n      <td>-74.10407</td>\n      <td>40.57662</td>\n      <td>M</td>\n      <td>WHITE HISPANIC</td>\n      <td>&lt;18</td>\n      <td>2018</td>\n      <td>4</td>\n      <td>14</td>\n    </tr>\n    <tr>\n      <th>7825496</th>\n      <td>-73.86276</td>\n      <td>40.74184</td>\n      <td>M</td>\n      <td>ASIAN / PACIFIC ISLANDER</td>\n      <td>25-44</td>\n      <td>2018</td>\n      <td>0</td>\n      <td>2</td>\n    </tr>\n    <tr>\n      <th>7825497</th>\n      <td>-74.08723</td>\n      <td>40.59357</td>\n      <td>M</td>\n      <td>WHITE</td>\n      <td>45-64</td>\n      <td>2018</td>\n      <td>5</td>\n      <td>10</td>\n    </tr>\n    <tr>\n      <th>7825498</th>\n      <td>-73.94693</td>\n      <td>40.68677</td>\n      <td>F</td>\n      <td>WHITE</td>\n      <td>&lt;18</td>\n      <td>2018</td>\n      <td>4</td>\n      <td>14</td>\n    </tr>\n  </tbody>\n</table>\n<p>6157611 rows × 8 columns</p>\n</div>"
     },
     "execution_count": 69,
     "metadata": {},
     "output_type": "execute_result"
    }
   ],
   "source": [
    "crime_data"
   ],
   "metadata": {
    "collapsed": false
   }
  },
  {
   "cell_type": "markdown",
   "source": [
    "# VIC_SEX"
   ],
   "metadata": {
    "collapsed": false
   }
  },
  {
   "cell_type": "code",
   "execution_count": 70,
   "outputs": [
    {
     "data": {
      "text/plain": "['F', 'D', 'E', 'M', 'U']\nCategories (5, object): ['D', 'E', 'F', 'M', 'U']"
     },
     "execution_count": 70,
     "metadata": {},
     "output_type": "execute_result"
    }
   ],
   "source": [
    "crime_data['VIC_SEX'].unique()"
   ],
   "metadata": {
    "collapsed": false
   }
  },
  {
   "cell_type": "code",
   "execution_count": 71,
   "outputs": [
    {
     "name": "stderr",
     "output_type": "stream",
     "text": [
      "C:\\Users\\Kaninik\\AppData\\Local\\Temp\\ipykernel_35532\\2297743256.py:6: SettingWithCopyWarning: \n",
      "A value is trying to be set on a copy of a slice from a DataFrame.\n",
      "Try using .loc[row_indexer,col_indexer] = value instead\n",
      "\n",
      "See the caveats in the documentation: https://pandas.pydata.org/pandas-docs/stable/user_guide/indexing.html#returning-a-view-versus-a-copy\n",
      "  crime_data['VIC_SEX'] = crime_data['VIC_SEX'].cat.remove_unused_categories()\n"
     ]
    },
    {
     "data": {
      "text/plain": "    Longitude  Latitude VIC_SEX        VIC_RACE VIC_AGE_GROUP  year   \n0   -73.94132  40.80962       F           WHITE         25-44  2018  \\\n3   -73.99744  40.75879       F  WHITE HISPANIC         18-24  2018   \n8   -73.91326  40.63593       M           BLACK           <18  2018   \n9   -73.91887  40.82657       F  WHITE HISPANIC         25-44  2018   \n10  -73.95255  40.80539       M           BLACK         25-44  2018   \n\n    day_of_week  hour  \n0             3    20  \n3             5    21  \n8             1    14  \n9             5    22  \n10            2    18  ",
      "text/html": "<div>\n<style scoped>\n    .dataframe tbody tr th:only-of-type {\n        vertical-align: middle;\n    }\n\n    .dataframe tbody tr th {\n        vertical-align: top;\n    }\n\n    .dataframe thead th {\n        text-align: right;\n    }\n</style>\n<table border=\"1\" class=\"dataframe\">\n  <thead>\n    <tr style=\"text-align: right;\">\n      <th></th>\n      <th>Longitude</th>\n      <th>Latitude</th>\n      <th>VIC_SEX</th>\n      <th>VIC_RACE</th>\n      <th>VIC_AGE_GROUP</th>\n      <th>year</th>\n      <th>day_of_week</th>\n      <th>hour</th>\n    </tr>\n  </thead>\n  <tbody>\n    <tr>\n      <th>0</th>\n      <td>-73.94132</td>\n      <td>40.80962</td>\n      <td>F</td>\n      <td>WHITE</td>\n      <td>25-44</td>\n      <td>2018</td>\n      <td>3</td>\n      <td>20</td>\n    </tr>\n    <tr>\n      <th>3</th>\n      <td>-73.99744</td>\n      <td>40.75879</td>\n      <td>F</td>\n      <td>WHITE HISPANIC</td>\n      <td>18-24</td>\n      <td>2018</td>\n      <td>5</td>\n      <td>21</td>\n    </tr>\n    <tr>\n      <th>8</th>\n      <td>-73.91326</td>\n      <td>40.63593</td>\n      <td>M</td>\n      <td>BLACK</td>\n      <td>&lt;18</td>\n      <td>2018</td>\n      <td>1</td>\n      <td>14</td>\n    </tr>\n    <tr>\n      <th>9</th>\n      <td>-73.91887</td>\n      <td>40.82657</td>\n      <td>F</td>\n      <td>WHITE HISPANIC</td>\n      <td>25-44</td>\n      <td>2018</td>\n      <td>5</td>\n      <td>22</td>\n    </tr>\n    <tr>\n      <th>10</th>\n      <td>-73.95255</td>\n      <td>40.80539</td>\n      <td>M</td>\n      <td>BLACK</td>\n      <td>25-44</td>\n      <td>2018</td>\n      <td>2</td>\n      <td>18</td>\n    </tr>\n  </tbody>\n</table>\n</div>"
     },
     "execution_count": 71,
     "metadata": {},
     "output_type": "execute_result"
    }
   ],
   "source": [
    "# Only keep the M and F sex values\n",
    "sexes = ['M', 'F']\n",
    "\n",
    "crime_data = crime_data.loc[crime_data['VIC_SEX'].isin(sexes)]\n",
    "# Re calculate the categories for the Sex column\n",
    "crime_data['VIC_SEX'] = crime_data['VIC_SEX'].cat.remove_unused_categories()\n",
    "\n",
    "del sexes\n",
    "crime_data.head(5)"
   ],
   "metadata": {
    "collapsed": false
   }
  },
  {
   "cell_type": "code",
   "execution_count": 72,
   "outputs": [
    {
     "data": {
      "text/plain": "['F', 'M']\nCategories (2, object): ['F', 'M']"
     },
     "execution_count": 72,
     "metadata": {},
     "output_type": "execute_result"
    }
   ],
   "source": [
    "crime_data['VIC_SEX'].unique()"
   ],
   "metadata": {
    "collapsed": false
   }
  },
  {
   "cell_type": "markdown",
   "source": [
    "# VIC_RACE\n"
   ],
   "metadata": {
    "collapsed": false
   }
  },
  {
   "cell_type": "code",
   "execution_count": 73,
   "outputs": [
    {
     "data": {
      "text/plain": "['WHITE', 'WHITE HISPANIC', 'BLACK', 'ASIAN / PACIFIC ISLANDER', 'BLACK HISPANIC', 'UNKNOWN', 'AMERICAN INDIAN/ALASKAN NATIVE', 'OTHER']\nCategories (8, object): ['AMERICAN INDIAN/ALASKAN NATIVE', 'ASIAN / PACIFIC ISLANDER', 'BLACK', 'BLACK HISPANIC', 'OTHER', 'UNKNOWN', 'WHITE', 'WHITE HISPANIC']"
     },
     "execution_count": 73,
     "metadata": {},
     "output_type": "execute_result"
    }
   ],
   "source": [
    "crime_data['VIC_RACE'].unique()"
   ],
   "metadata": {
    "collapsed": false
   }
  },
  {
   "cell_type": "code",
   "execution_count": 74,
   "outputs": [
    {
     "data": {
      "text/plain": "    Longitude  Latitude VIC_SEX        VIC_RACE VIC_AGE_GROUP  year   \n0   -73.94132  40.80962       F           WHITE         25-44  2018  \\\n3   -73.99744  40.75879       F  WHITE HISPANIC         18-24  2018   \n8   -73.91326  40.63593       M           BLACK           <18  2018   \n9   -73.91887  40.82657       F  WHITE HISPANIC         25-44  2018   \n10  -73.95255  40.80539       M           BLACK         25-44  2018   \n\n    day_of_week  hour  \n0             3    20  \n3             5    21  \n8             1    14  \n9             5    22  \n10            2    18  ",
      "text/html": "<div>\n<style scoped>\n    .dataframe tbody tr th:only-of-type {\n        vertical-align: middle;\n    }\n\n    .dataframe tbody tr th {\n        vertical-align: top;\n    }\n\n    .dataframe thead th {\n        text-align: right;\n    }\n</style>\n<table border=\"1\" class=\"dataframe\">\n  <thead>\n    <tr style=\"text-align: right;\">\n      <th></th>\n      <th>Longitude</th>\n      <th>Latitude</th>\n      <th>VIC_SEX</th>\n      <th>VIC_RACE</th>\n      <th>VIC_AGE_GROUP</th>\n      <th>year</th>\n      <th>day_of_week</th>\n      <th>hour</th>\n    </tr>\n  </thead>\n  <tbody>\n    <tr>\n      <th>0</th>\n      <td>-73.94132</td>\n      <td>40.80962</td>\n      <td>F</td>\n      <td>WHITE</td>\n      <td>25-44</td>\n      <td>2018</td>\n      <td>3</td>\n      <td>20</td>\n    </tr>\n    <tr>\n      <th>3</th>\n      <td>-73.99744</td>\n      <td>40.75879</td>\n      <td>F</td>\n      <td>WHITE HISPANIC</td>\n      <td>18-24</td>\n      <td>2018</td>\n      <td>5</td>\n      <td>21</td>\n    </tr>\n    <tr>\n      <th>8</th>\n      <td>-73.91326</td>\n      <td>40.63593</td>\n      <td>M</td>\n      <td>BLACK</td>\n      <td>&lt;18</td>\n      <td>2018</td>\n      <td>1</td>\n      <td>14</td>\n    </tr>\n    <tr>\n      <th>9</th>\n      <td>-73.91887</td>\n      <td>40.82657</td>\n      <td>F</td>\n      <td>WHITE HISPANIC</td>\n      <td>25-44</td>\n      <td>2018</td>\n      <td>5</td>\n      <td>22</td>\n    </tr>\n    <tr>\n      <th>10</th>\n      <td>-73.95255</td>\n      <td>40.80539</td>\n      <td>M</td>\n      <td>BLACK</td>\n      <td>25-44</td>\n      <td>2018</td>\n      <td>2</td>\n      <td>18</td>\n    </tr>\n  </tbody>\n</table>\n</div>"
     },
     "execution_count": 74,
     "metadata": {},
     "output_type": "execute_result"
    }
   ],
   "source": [
    "# Keep everything except for UNKNOWN and OTHER\n",
    "races = ['WHITE', 'WHITE HISPANIC', 'BLACK','ASIAN / PACIFIC ISLANdER', 'BLACK HISPANIC','AMERICAN INDIAN/ALASKAN NATIVE', 'OTHER']\n",
    "\n",
    "crime_data = crime_data.loc[crime_data['VIC_RACE'].isin(races)]\n",
    "# Re calculate the categories for the Sex column\n",
    "crime_data['VIC_RACE'] = crime_data['VIC_RACE'].cat.remove_unused_categories()\n",
    "\n",
    "del races\n",
    "crime_data.head(5)"
   ],
   "metadata": {
    "collapsed": false
   }
  },
  {
   "cell_type": "code",
   "execution_count": 75,
   "outputs": [
    {
     "data": {
      "text/plain": "['WHITE', 'WHITE HISPANIC', 'BLACK', 'BLACK HISPANIC', 'AMERICAN INDIAN/ALASKAN NATIVE', 'OTHER']\nCategories (6, object): ['AMERICAN INDIAN/ALASKAN NATIVE', 'BLACK', 'BLACK HISPANIC', 'OTHER', 'WHITE', 'WHITE HISPANIC']"
     },
     "execution_count": 75,
     "metadata": {},
     "output_type": "execute_result"
    }
   ],
   "source": [
    "crime_data['VIC_RACE'].unique()"
   ],
   "metadata": {
    "collapsed": false
   }
  },
  {
   "cell_type": "markdown",
   "source": [
    "# VIC_AGE_GROUP"
   ],
   "metadata": {
    "collapsed": false
   }
  },
  {
   "cell_type": "code",
   "execution_count": 76,
   "outputs": [
    {
     "data": {
      "text/plain": "array(['25-44', '18-24', '<18', '45-64', '65+', 'UNKNOWN', '-942', '1017',\n       '-51', '954', '972', '951', '-55', '-1', '-966', '-59', '-974',\n       '-948', '956', '-2', '-936', '-81', '-40', '-37', '-973', '-957',\n       '-952', '-943', '-929', '-43', '-56', '-954', '943', '-961',\n       '1018', '929', '936', '-71', '-50', '-69', '-967', '937', '-946',\n       '941', '1013', '-39', '960', '927', '938', '-978', '-970', '950',\n       '-934', '-4', '-62', '-3', '-960', '-921', '-61', '-48', '970',\n       '963', '945', '-935', '-975', '-980', '-72', '946', '-959', '-931',\n       '-972', '949', '-965', '-60', '1016', '932', '1014', '-968', '-31',\n       '-963', '930', '-962', '-73', '-938', '-937', '-45', '-902', '-63',\n       '-70', '-981', '928', '-964', '-950', '-971', '-945', '940', '-36',\n       '-52', '922', '914', '926', '-78', '947', '810', '-923', '711',\n       '924', '-982', '933', '309', '152', '962', '-32', '-969', '-976',\n       '151', '808', '738', '912', '939', '942', '709', '944', '812',\n       '-49', '-85', '160', '948', '-75', '-940', '214', '934', '953',\n       '158', '838', '909', '809', '-958', '931', '623', '908', '-955',\n       '-956', '185', '-947', '923', '920', '508', '955', '895', '172',\n       '811', '340', '964', '959', '-953', '707', '952', '935', '961',\n       '-932', '918', '-984', '917', '980', '913', '260', '-47', '342',\n       '981', '324', '507', '957', '-939', '188', '911', '958', '359',\n       '-983', '925', '979', '806', '910', '-985', '334', '1012', '977',\n       '-76', '-67', '965'], dtype=object)"
     },
     "execution_count": 76,
     "metadata": {},
     "output_type": "execute_result"
    }
   ],
   "source": [
    "crime_data['VIC_AGE_GROUP'].unique()"
   ],
   "metadata": {
    "collapsed": false
   }
  },
  {
   "cell_type": "code",
   "execution_count": 77,
   "outputs": [],
   "source": [
    "#remove values that don't belong to a victim age group\n",
    "crime_data['VIC_AGE_GROUP'] = numpy.where(crime_data['VIC_AGE_GROUP'].str.len()==4, None, crime_data['VIC_AGE_GROUP'])\n",
    "crime_data['VIC_AGE_GROUP'] = numpy.where(crime_data['VIC_AGE_GROUP'].str.startswith(\"-\"), None, crime_data['VIC_AGE_GROUP'])\n",
    "crime_data['VIC_AGE_GROUP'] = numpy.where(crime_data['VIC_AGE_GROUP'].str.contains(\"<\"), crime_data['VIC_AGE_GROUP'] + ' ', crime_data['VIC_AGE_GROUP'])\n",
    "crime_data['VIC_AGE_GROUP'] = numpy.where(crime_data['VIC_AGE_GROUP'].str.endswith(\"+\"), crime_data['VIC_AGE_GROUP'] + ' ', crime_data['VIC_AGE_GROUP'])\n",
    "crime_data['VIC_AGE_GROUP'] = numpy.where(crime_data['VIC_AGE_GROUP'].str.contains(\"UNKNOWN\"), None, crime_data['VIC_AGE_GROUP'])\n",
    "crime_data['VIC_AGE_GROUP'] = numpy.where(crime_data['VIC_AGE_GROUP'].str.len()==3, None, crime_data['VIC_AGE_GROUP'])"
   ],
   "metadata": {
    "collapsed": false
   }
  },
  {
   "cell_type": "code",
   "execution_count": 78,
   "outputs": [
    {
     "data": {
      "text/plain": "    Longitude  Latitude VIC_SEX        VIC_RACE VIC_AGE_GROUP  year   \n0   -73.94132  40.80962       F           WHITE         25-44  2018  \\\n3   -73.99744  40.75879       F  WHITE HISPANIC         18-24  2018   \n8   -73.91326  40.63593       M           BLACK          <18   2018   \n9   -73.91887  40.82657       F  WHITE HISPANIC         25-44  2018   \n10  -73.95255  40.80539       M           BLACK         25-44  2018   \n\n    day_of_week  hour  \n0             3    20  \n3             5    21  \n8             1    14  \n9             5    22  \n10            2    18  ",
      "text/html": "<div>\n<style scoped>\n    .dataframe tbody tr th:only-of-type {\n        vertical-align: middle;\n    }\n\n    .dataframe tbody tr th {\n        vertical-align: top;\n    }\n\n    .dataframe thead th {\n        text-align: right;\n    }\n</style>\n<table border=\"1\" class=\"dataframe\">\n  <thead>\n    <tr style=\"text-align: right;\">\n      <th></th>\n      <th>Longitude</th>\n      <th>Latitude</th>\n      <th>VIC_SEX</th>\n      <th>VIC_RACE</th>\n      <th>VIC_AGE_GROUP</th>\n      <th>year</th>\n      <th>day_of_week</th>\n      <th>hour</th>\n    </tr>\n  </thead>\n  <tbody>\n    <tr>\n      <th>0</th>\n      <td>-73.94132</td>\n      <td>40.80962</td>\n      <td>F</td>\n      <td>WHITE</td>\n      <td>25-44</td>\n      <td>2018</td>\n      <td>3</td>\n      <td>20</td>\n    </tr>\n    <tr>\n      <th>3</th>\n      <td>-73.99744</td>\n      <td>40.75879</td>\n      <td>F</td>\n      <td>WHITE HISPANIC</td>\n      <td>18-24</td>\n      <td>2018</td>\n      <td>5</td>\n      <td>21</td>\n    </tr>\n    <tr>\n      <th>8</th>\n      <td>-73.91326</td>\n      <td>40.63593</td>\n      <td>M</td>\n      <td>BLACK</td>\n      <td>&lt;18</td>\n      <td>2018</td>\n      <td>1</td>\n      <td>14</td>\n    </tr>\n    <tr>\n      <th>9</th>\n      <td>-73.91887</td>\n      <td>40.82657</td>\n      <td>F</td>\n      <td>WHITE HISPANIC</td>\n      <td>25-44</td>\n      <td>2018</td>\n      <td>5</td>\n      <td>22</td>\n    </tr>\n    <tr>\n      <th>10</th>\n      <td>-73.95255</td>\n      <td>40.80539</td>\n      <td>M</td>\n      <td>BLACK</td>\n      <td>25-44</td>\n      <td>2018</td>\n      <td>2</td>\n      <td>18</td>\n    </tr>\n  </tbody>\n</table>\n</div>"
     },
     "execution_count": 78,
     "metadata": {},
     "output_type": "execute_result"
    }
   ],
   "source": [
    "crime_data.head(5)"
   ],
   "metadata": {
    "collapsed": false
   }
  },
  {
   "cell_type": "code",
   "execution_count": 79,
   "outputs": [],
   "source": [
    "#delete None\n",
    "crime_data = crime_data.dropna(subset=['VIC_AGE_GROUP'])"
   ],
   "metadata": {
    "collapsed": false
   }
  },
  {
   "cell_type": "code",
   "execution_count": 80,
   "outputs": [
    {
     "data": {
      "text/plain": "array(['25-44', '18-24', '<18 ', '45-64', '65+ '], dtype=object)"
     },
     "execution_count": 80,
     "metadata": {},
     "output_type": "execute_result"
    }
   ],
   "source": [
    "crime_data['VIC_AGE_GROUP'].unique()"
   ],
   "metadata": {
    "collapsed": false
   }
  },
  {
   "cell_type": "code",
   "execution_count": 81,
   "outputs": [
    {
     "data": {
      "text/plain": "    Longitude  Latitude VIC_SEX        VIC_RACE VIC_AGE_GROUP  year   \n0   -73.94132  40.80962       F           WHITE         25-44  2018  \\\n3   -73.99744  40.75879       F  WHITE HISPANIC         18-24  2018   \n8   -73.91326  40.63593       M           BLACK          <18   2018   \n9   -73.91887  40.82657       F  WHITE HISPANIC         25-44  2018   \n10  -73.95255  40.80539       M           BLACK         25-44  2018   \n\n    day_of_week  hour  \n0             3    20  \n3             5    21  \n8             1    14  \n9             5    22  \n10            2    18  ",
      "text/html": "<div>\n<style scoped>\n    .dataframe tbody tr th:only-of-type {\n        vertical-align: middle;\n    }\n\n    .dataframe tbody tr th {\n        vertical-align: top;\n    }\n\n    .dataframe thead th {\n        text-align: right;\n    }\n</style>\n<table border=\"1\" class=\"dataframe\">\n  <thead>\n    <tr style=\"text-align: right;\">\n      <th></th>\n      <th>Longitude</th>\n      <th>Latitude</th>\n      <th>VIC_SEX</th>\n      <th>VIC_RACE</th>\n      <th>VIC_AGE_GROUP</th>\n      <th>year</th>\n      <th>day_of_week</th>\n      <th>hour</th>\n    </tr>\n  </thead>\n  <tbody>\n    <tr>\n      <th>0</th>\n      <td>-73.94132</td>\n      <td>40.80962</td>\n      <td>F</td>\n      <td>WHITE</td>\n      <td>25-44</td>\n      <td>2018</td>\n      <td>3</td>\n      <td>20</td>\n    </tr>\n    <tr>\n      <th>3</th>\n      <td>-73.99744</td>\n      <td>40.75879</td>\n      <td>F</td>\n      <td>WHITE HISPANIC</td>\n      <td>18-24</td>\n      <td>2018</td>\n      <td>5</td>\n      <td>21</td>\n    </tr>\n    <tr>\n      <th>8</th>\n      <td>-73.91326</td>\n      <td>40.63593</td>\n      <td>M</td>\n      <td>BLACK</td>\n      <td>&lt;18</td>\n      <td>2018</td>\n      <td>1</td>\n      <td>14</td>\n    </tr>\n    <tr>\n      <th>9</th>\n      <td>-73.91887</td>\n      <td>40.82657</td>\n      <td>F</td>\n      <td>WHITE HISPANIC</td>\n      <td>25-44</td>\n      <td>2018</td>\n      <td>5</td>\n      <td>22</td>\n    </tr>\n    <tr>\n      <th>10</th>\n      <td>-73.95255</td>\n      <td>40.80539</td>\n      <td>M</td>\n      <td>BLACK</td>\n      <td>25-44</td>\n      <td>2018</td>\n      <td>2</td>\n      <td>18</td>\n    </tr>\n  </tbody>\n</table>\n</div>"
     },
     "execution_count": 81,
     "metadata": {},
     "output_type": "execute_result"
    }
   ],
   "source": [
    "crime_data.head(5)"
   ],
   "metadata": {
    "collapsed": false
   }
  },
  {
   "cell_type": "markdown",
   "source": [
    "# One hot encoding"
   ],
   "metadata": {
    "collapsed": false
   }
  },
  {
   "cell_type": "code",
   "execution_count": 82,
   "outputs": [
    {
     "data": {
      "text/plain": "         VIC_SEX_F  VIC_SEX_M  VIC_RACE_AMERICAN INDIAN/ALASKAN NATIVE   \n0             True      False                                    False  \\\n3             True      False                                    False   \n8            False       True                                    False   \n9             True      False                                    False   \n10           False       True                                    False   \n...            ...        ...                                      ...   \n7825492       True      False                                    False   \n7825493      False       True                                    False   \n7825495      False       True                                    False   \n7825497      False       True                                    False   \n7825498       True      False                                    False   \n\n         VIC_RACE_BLACK  VIC_RACE_BLACK HISPANIC  VIC_RACE_OTHER   \n0                 False                    False           False  \\\n3                 False                    False           False   \n8                  True                    False           False   \n9                 False                    False           False   \n10                 True                    False           False   \n...                 ...                      ...             ...   \n7825492            True                    False           False   \n7825493           False                    False           False   \n7825495           False                    False           False   \n7825497           False                    False           False   \n7825498           False                    False           False   \n\n         VIC_RACE_WHITE  VIC_RACE_WHITE HISPANIC  VIC_AGE_GROUP_18-24   \n0                  True                    False                False  \\\n3                 False                     True                 True   \n8                 False                    False                False   \n9                 False                     True                False   \n10                False                    False                False   \n...                 ...                      ...                  ...   \n7825492           False                    False                False   \n7825493           False                     True                False   \n7825495           False                     True                False   \n7825497            True                    False                False   \n7825498            True                    False                False   \n\n         VIC_AGE_GROUP_25-44  VIC_AGE_GROUP_45-64  VIC_AGE_GROUP_65+    \n0                       True                False               False  \\\n3                      False                False               False   \n8                      False                False               False   \n9                       True                False               False   \n10                      True                False               False   \n...                      ...                  ...                 ...   \n7825492                 True                False               False   \n7825493                False                 True               False   \n7825495                False                False               False   \n7825497                False                 True               False   \n7825498                False                False               False   \n\n         VIC_AGE_GROUP_<18   \n0                     False  \n3                     False  \n8                      True  \n9                     False  \n10                    False  \n...                     ...  \n7825492               False  \n7825493               False  \n7825495                True  \n7825497               False  \n7825498                True  \n\n[4678620 rows x 13 columns]",
      "text/html": "<div>\n<style scoped>\n    .dataframe tbody tr th:only-of-type {\n        vertical-align: middle;\n    }\n\n    .dataframe tbody tr th {\n        vertical-align: top;\n    }\n\n    .dataframe thead th {\n        text-align: right;\n    }\n</style>\n<table border=\"1\" class=\"dataframe\">\n  <thead>\n    <tr style=\"text-align: right;\">\n      <th></th>\n      <th>VIC_SEX_F</th>\n      <th>VIC_SEX_M</th>\n      <th>VIC_RACE_AMERICAN INDIAN/ALASKAN NATIVE</th>\n      <th>VIC_RACE_BLACK</th>\n      <th>VIC_RACE_BLACK HISPANIC</th>\n      <th>VIC_RACE_OTHER</th>\n      <th>VIC_RACE_WHITE</th>\n      <th>VIC_RACE_WHITE HISPANIC</th>\n      <th>VIC_AGE_GROUP_18-24</th>\n      <th>VIC_AGE_GROUP_25-44</th>\n      <th>VIC_AGE_GROUP_45-64</th>\n      <th>VIC_AGE_GROUP_65+</th>\n      <th>VIC_AGE_GROUP_&lt;18</th>\n    </tr>\n  </thead>\n  <tbody>\n    <tr>\n      <th>0</th>\n      <td>True</td>\n      <td>False</td>\n      <td>False</td>\n      <td>False</td>\n      <td>False</td>\n      <td>False</td>\n      <td>True</td>\n      <td>False</td>\n      <td>False</td>\n      <td>True</td>\n      <td>False</td>\n      <td>False</td>\n      <td>False</td>\n    </tr>\n    <tr>\n      <th>3</th>\n      <td>True</td>\n      <td>False</td>\n      <td>False</td>\n      <td>False</td>\n      <td>False</td>\n      <td>False</td>\n      <td>False</td>\n      <td>True</td>\n      <td>True</td>\n      <td>False</td>\n      <td>False</td>\n      <td>False</td>\n      <td>False</td>\n    </tr>\n    <tr>\n      <th>8</th>\n      <td>False</td>\n      <td>True</td>\n      <td>False</td>\n      <td>True</td>\n      <td>False</td>\n      <td>False</td>\n      <td>False</td>\n      <td>False</td>\n      <td>False</td>\n      <td>False</td>\n      <td>False</td>\n      <td>False</td>\n      <td>True</td>\n    </tr>\n    <tr>\n      <th>9</th>\n      <td>True</td>\n      <td>False</td>\n      <td>False</td>\n      <td>False</td>\n      <td>False</td>\n      <td>False</td>\n      <td>False</td>\n      <td>True</td>\n      <td>False</td>\n      <td>True</td>\n      <td>False</td>\n      <td>False</td>\n      <td>False</td>\n    </tr>\n    <tr>\n      <th>10</th>\n      <td>False</td>\n      <td>True</td>\n      <td>False</td>\n      <td>True</td>\n      <td>False</td>\n      <td>False</td>\n      <td>False</td>\n      <td>False</td>\n      <td>False</td>\n      <td>True</td>\n      <td>False</td>\n      <td>False</td>\n      <td>False</td>\n    </tr>\n    <tr>\n      <th>...</th>\n      <td>...</td>\n      <td>...</td>\n      <td>...</td>\n      <td>...</td>\n      <td>...</td>\n      <td>...</td>\n      <td>...</td>\n      <td>...</td>\n      <td>...</td>\n      <td>...</td>\n      <td>...</td>\n      <td>...</td>\n      <td>...</td>\n    </tr>\n    <tr>\n      <th>7825492</th>\n      <td>True</td>\n      <td>False</td>\n      <td>False</td>\n      <td>True</td>\n      <td>False</td>\n      <td>False</td>\n      <td>False</td>\n      <td>False</td>\n      <td>False</td>\n      <td>True</td>\n      <td>False</td>\n      <td>False</td>\n      <td>False</td>\n    </tr>\n    <tr>\n      <th>7825493</th>\n      <td>False</td>\n      <td>True</td>\n      <td>False</td>\n      <td>False</td>\n      <td>False</td>\n      <td>False</td>\n      <td>False</td>\n      <td>True</td>\n      <td>False</td>\n      <td>False</td>\n      <td>True</td>\n      <td>False</td>\n      <td>False</td>\n    </tr>\n    <tr>\n      <th>7825495</th>\n      <td>False</td>\n      <td>True</td>\n      <td>False</td>\n      <td>False</td>\n      <td>False</td>\n      <td>False</td>\n      <td>False</td>\n      <td>True</td>\n      <td>False</td>\n      <td>False</td>\n      <td>False</td>\n      <td>False</td>\n      <td>True</td>\n    </tr>\n    <tr>\n      <th>7825497</th>\n      <td>False</td>\n      <td>True</td>\n      <td>False</td>\n      <td>False</td>\n      <td>False</td>\n      <td>False</td>\n      <td>True</td>\n      <td>False</td>\n      <td>False</td>\n      <td>False</td>\n      <td>True</td>\n      <td>False</td>\n      <td>False</td>\n    </tr>\n    <tr>\n      <th>7825498</th>\n      <td>True</td>\n      <td>False</td>\n      <td>False</td>\n      <td>False</td>\n      <td>False</td>\n      <td>False</td>\n      <td>True</td>\n      <td>False</td>\n      <td>False</td>\n      <td>False</td>\n      <td>False</td>\n      <td>False</td>\n      <td>True</td>\n    </tr>\n  </tbody>\n</table>\n<p>4678620 rows × 13 columns</p>\n</div>"
     },
     "execution_count": 82,
     "metadata": {},
     "output_type": "execute_result"
    }
   ],
   "source": [
    "one_hot_encoded = pandas.get_dummies(crime_data[['VIC_SEX','VIC_RACE','VIC_AGE_GROUP']])\n",
    "one_hot_encoded"
   ],
   "metadata": {
    "collapsed": false
   }
  },
  {
   "cell_type": "code",
   "execution_count": 83,
   "outputs": [],
   "source": [
    "one_hot_encoded_df = crime_data\n",
    "\n",
    "# concatenate the one-hot encoded columns with the original dataframe\n",
    "one_hot_encoded_df = pandas.concat([one_hot_encoded_df, one_hot_encoded], axis=1)\n"
   ],
   "metadata": {
    "collapsed": false
   }
  },
  {
   "cell_type": "code",
   "execution_count": 84,
   "outputs": [
    {
     "data": {
      "text/plain": "         Longitude  Latitude VIC_SEX        VIC_RACE VIC_AGE_GROUP  year   \n0        -73.94132  40.80962       F           WHITE         25-44  2018  \\\n3        -73.99744  40.75879       F  WHITE HISPANIC         18-24  2018   \n8        -73.91326  40.63593       M           BLACK          <18   2018   \n9        -73.91887  40.82657       F  WHITE HISPANIC         25-44  2018   \n10       -73.95255  40.80539       M           BLACK         25-44  2018   \n...            ...       ...     ...             ...           ...   ...   \n7825492  -73.89082  40.86470       F           BLACK         25-44  2018   \n7825493  -73.90765  40.85622       M  WHITE HISPANIC         45-64  2018   \n7825495  -74.10407  40.57662       M  WHITE HISPANIC          <18   2018   \n7825497  -74.08723  40.59357       M           WHITE         45-64  2018   \n7825498  -73.94693  40.68677       F           WHITE          <18   2018   \n\n         day_of_week  hour  VIC_SEX_F  VIC_SEX_M  ...  VIC_RACE_BLACK   \n0                  3    20       True      False  ...           False  \\\n3                  5    21       True      False  ...           False   \n8                  1    14      False       True  ...            True   \n9                  5    22       True      False  ...           False   \n10                 2    18      False       True  ...            True   \n...              ...   ...        ...        ...  ...             ...   \n7825492            5    20       True      False  ...            True   \n7825493            1    15      False       True  ...           False   \n7825495            4    14      False       True  ...           False   \n7825497            5    10      False       True  ...           False   \n7825498            4    14       True      False  ...           False   \n\n         VIC_RACE_BLACK HISPANIC  VIC_RACE_OTHER  VIC_RACE_WHITE   \n0                          False           False            True  \\\n3                          False           False           False   \n8                          False           False           False   \n9                          False           False           False   \n10                         False           False           False   \n...                          ...             ...             ...   \n7825492                    False           False           False   \n7825493                    False           False           False   \n7825495                    False           False           False   \n7825497                    False           False            True   \n7825498                    False           False            True   \n\n         VIC_RACE_WHITE HISPANIC  VIC_AGE_GROUP_18-24  VIC_AGE_GROUP_25-44   \n0                          False                False                 True  \\\n3                           True                 True                False   \n8                          False                False                False   \n9                           True                False                 True   \n10                         False                False                 True   \n...                          ...                  ...                  ...   \n7825492                    False                False                 True   \n7825493                     True                False                False   \n7825495                     True                False                False   \n7825497                    False                False                False   \n7825498                    False                False                False   \n\n         VIC_AGE_GROUP_45-64  VIC_AGE_GROUP_65+   VIC_AGE_GROUP_<18   \n0                      False               False               False  \n3                      False               False               False  \n8                      False               False                True  \n9                      False               False               False  \n10                     False               False               False  \n...                      ...                 ...                 ...  \n7825492                False               False               False  \n7825493                 True               False               False  \n7825495                False               False                True  \n7825497                 True               False               False  \n7825498                False               False                True  \n\n[4678620 rows x 21 columns]",
      "text/html": "<div>\n<style scoped>\n    .dataframe tbody tr th:only-of-type {\n        vertical-align: middle;\n    }\n\n    .dataframe tbody tr th {\n        vertical-align: top;\n    }\n\n    .dataframe thead th {\n        text-align: right;\n    }\n</style>\n<table border=\"1\" class=\"dataframe\">\n  <thead>\n    <tr style=\"text-align: right;\">\n      <th></th>\n      <th>Longitude</th>\n      <th>Latitude</th>\n      <th>VIC_SEX</th>\n      <th>VIC_RACE</th>\n      <th>VIC_AGE_GROUP</th>\n      <th>year</th>\n      <th>day_of_week</th>\n      <th>hour</th>\n      <th>VIC_SEX_F</th>\n      <th>VIC_SEX_M</th>\n      <th>...</th>\n      <th>VIC_RACE_BLACK</th>\n      <th>VIC_RACE_BLACK HISPANIC</th>\n      <th>VIC_RACE_OTHER</th>\n      <th>VIC_RACE_WHITE</th>\n      <th>VIC_RACE_WHITE HISPANIC</th>\n      <th>VIC_AGE_GROUP_18-24</th>\n      <th>VIC_AGE_GROUP_25-44</th>\n      <th>VIC_AGE_GROUP_45-64</th>\n      <th>VIC_AGE_GROUP_65+</th>\n      <th>VIC_AGE_GROUP_&lt;18</th>\n    </tr>\n  </thead>\n  <tbody>\n    <tr>\n      <th>0</th>\n      <td>-73.94132</td>\n      <td>40.80962</td>\n      <td>F</td>\n      <td>WHITE</td>\n      <td>25-44</td>\n      <td>2018</td>\n      <td>3</td>\n      <td>20</td>\n      <td>True</td>\n      <td>False</td>\n      <td>...</td>\n      <td>False</td>\n      <td>False</td>\n      <td>False</td>\n      <td>True</td>\n      <td>False</td>\n      <td>False</td>\n      <td>True</td>\n      <td>False</td>\n      <td>False</td>\n      <td>False</td>\n    </tr>\n    <tr>\n      <th>3</th>\n      <td>-73.99744</td>\n      <td>40.75879</td>\n      <td>F</td>\n      <td>WHITE HISPANIC</td>\n      <td>18-24</td>\n      <td>2018</td>\n      <td>5</td>\n      <td>21</td>\n      <td>True</td>\n      <td>False</td>\n      <td>...</td>\n      <td>False</td>\n      <td>False</td>\n      <td>False</td>\n      <td>False</td>\n      <td>True</td>\n      <td>True</td>\n      <td>False</td>\n      <td>False</td>\n      <td>False</td>\n      <td>False</td>\n    </tr>\n    <tr>\n      <th>8</th>\n      <td>-73.91326</td>\n      <td>40.63593</td>\n      <td>M</td>\n      <td>BLACK</td>\n      <td>&lt;18</td>\n      <td>2018</td>\n      <td>1</td>\n      <td>14</td>\n      <td>False</td>\n      <td>True</td>\n      <td>...</td>\n      <td>True</td>\n      <td>False</td>\n      <td>False</td>\n      <td>False</td>\n      <td>False</td>\n      <td>False</td>\n      <td>False</td>\n      <td>False</td>\n      <td>False</td>\n      <td>True</td>\n    </tr>\n    <tr>\n      <th>9</th>\n      <td>-73.91887</td>\n      <td>40.82657</td>\n      <td>F</td>\n      <td>WHITE HISPANIC</td>\n      <td>25-44</td>\n      <td>2018</td>\n      <td>5</td>\n      <td>22</td>\n      <td>True</td>\n      <td>False</td>\n      <td>...</td>\n      <td>False</td>\n      <td>False</td>\n      <td>False</td>\n      <td>False</td>\n      <td>True</td>\n      <td>False</td>\n      <td>True</td>\n      <td>False</td>\n      <td>False</td>\n      <td>False</td>\n    </tr>\n    <tr>\n      <th>10</th>\n      <td>-73.95255</td>\n      <td>40.80539</td>\n      <td>M</td>\n      <td>BLACK</td>\n      <td>25-44</td>\n      <td>2018</td>\n      <td>2</td>\n      <td>18</td>\n      <td>False</td>\n      <td>True</td>\n      <td>...</td>\n      <td>True</td>\n      <td>False</td>\n      <td>False</td>\n      <td>False</td>\n      <td>False</td>\n      <td>False</td>\n      <td>True</td>\n      <td>False</td>\n      <td>False</td>\n      <td>False</td>\n    </tr>\n    <tr>\n      <th>...</th>\n      <td>...</td>\n      <td>...</td>\n      <td>...</td>\n      <td>...</td>\n      <td>...</td>\n      <td>...</td>\n      <td>...</td>\n      <td>...</td>\n      <td>...</td>\n      <td>...</td>\n      <td>...</td>\n      <td>...</td>\n      <td>...</td>\n      <td>...</td>\n      <td>...</td>\n      <td>...</td>\n      <td>...</td>\n      <td>...</td>\n      <td>...</td>\n      <td>...</td>\n      <td>...</td>\n    </tr>\n    <tr>\n      <th>7825492</th>\n      <td>-73.89082</td>\n      <td>40.86470</td>\n      <td>F</td>\n      <td>BLACK</td>\n      <td>25-44</td>\n      <td>2018</td>\n      <td>5</td>\n      <td>20</td>\n      <td>True</td>\n      <td>False</td>\n      <td>...</td>\n      <td>True</td>\n      <td>False</td>\n      <td>False</td>\n      <td>False</td>\n      <td>False</td>\n      <td>False</td>\n      <td>True</td>\n      <td>False</td>\n      <td>False</td>\n      <td>False</td>\n    </tr>\n    <tr>\n      <th>7825493</th>\n      <td>-73.90765</td>\n      <td>40.85622</td>\n      <td>M</td>\n      <td>WHITE HISPANIC</td>\n      <td>45-64</td>\n      <td>2018</td>\n      <td>1</td>\n      <td>15</td>\n      <td>False</td>\n      <td>True</td>\n      <td>...</td>\n      <td>False</td>\n      <td>False</td>\n      <td>False</td>\n      <td>False</td>\n      <td>True</td>\n      <td>False</td>\n      <td>False</td>\n      <td>True</td>\n      <td>False</td>\n      <td>False</td>\n    </tr>\n    <tr>\n      <th>7825495</th>\n      <td>-74.10407</td>\n      <td>40.57662</td>\n      <td>M</td>\n      <td>WHITE HISPANIC</td>\n      <td>&lt;18</td>\n      <td>2018</td>\n      <td>4</td>\n      <td>14</td>\n      <td>False</td>\n      <td>True</td>\n      <td>...</td>\n      <td>False</td>\n      <td>False</td>\n      <td>False</td>\n      <td>False</td>\n      <td>True</td>\n      <td>False</td>\n      <td>False</td>\n      <td>False</td>\n      <td>False</td>\n      <td>True</td>\n    </tr>\n    <tr>\n      <th>7825497</th>\n      <td>-74.08723</td>\n      <td>40.59357</td>\n      <td>M</td>\n      <td>WHITE</td>\n      <td>45-64</td>\n      <td>2018</td>\n      <td>5</td>\n      <td>10</td>\n      <td>False</td>\n      <td>True</td>\n      <td>...</td>\n      <td>False</td>\n      <td>False</td>\n      <td>False</td>\n      <td>True</td>\n      <td>False</td>\n      <td>False</td>\n      <td>False</td>\n      <td>True</td>\n      <td>False</td>\n      <td>False</td>\n    </tr>\n    <tr>\n      <th>7825498</th>\n      <td>-73.94693</td>\n      <td>40.68677</td>\n      <td>F</td>\n      <td>WHITE</td>\n      <td>&lt;18</td>\n      <td>2018</td>\n      <td>4</td>\n      <td>14</td>\n      <td>True</td>\n      <td>False</td>\n      <td>...</td>\n      <td>False</td>\n      <td>False</td>\n      <td>False</td>\n      <td>True</td>\n      <td>False</td>\n      <td>False</td>\n      <td>False</td>\n      <td>False</td>\n      <td>False</td>\n      <td>True</td>\n    </tr>\n  </tbody>\n</table>\n<p>4678620 rows × 21 columns</p>\n</div>"
     },
     "execution_count": 84,
     "metadata": {},
     "output_type": "execute_result"
    }
   ],
   "source": [
    "one_hot_encoded_df"
   ],
   "metadata": {
    "collapsed": false
   }
  },
  {
   "cell_type": "code",
   "execution_count": 85,
   "outputs": [],
   "source": [
    "# drop the VIC_SEX, VIC_Race, and VIC_AGE_GROUP columns\n",
    "one_hot_encoded_df = one_hot_encoded_df.drop('VIC_SEX', axis=1)\n",
    "one_hot_encoded_df = one_hot_encoded_df.drop('VIC_RACE', axis=1)\n",
    "one_hot_encoded_df = one_hot_encoded_df.drop('VIC_AGE_GROUP', axis=1)"
   ],
   "metadata": {
    "collapsed": false
   }
  },
  {
   "cell_type": "code",
   "execution_count": 86,
   "outputs": [],
   "source": [
    "crime_counts = (\n",
    "    one_hot_encoded_df.groupby(['Longitude', 'Latitude', 'year', 'day_of_week', 'hour'])\n",
    "    .sum()\n",
    ")"
   ],
   "metadata": {
    "collapsed": false
   }
  },
  {
   "cell_type": "code",
   "execution_count": 87,
   "outputs": [
    {
     "data": {
      "text/plain": "         Longitude  Latitude  year  day_of_week  hour  VIC_SEX_F  VIC_SEX_M   \n0        -74.24998  40.50037  2006            0    17          2          0  \\\n1        -74.24998  40.50037  2006            1    10          0          1   \n2        -74.24998  40.50037  2006            1    13          0          1   \n3        -74.24998  40.50037  2006            3     1          0          1   \n4        -74.24998  40.50037  2006            4     8          0          1   \n...            ...       ...   ...          ...   ...        ...        ...   \n2601514  -73.70562  40.75455  2021            5    13          0          1   \n2601515  -73.70562  40.75455  2021            5    22          1          0   \n2601516  -73.70562  40.75455  2021            6    11          0          1   \n2601517  -73.70562  40.75455  2021            6    16          0          1   \n2601518  -73.70562  40.75455  2021            6    20          0          1   \n\n         VIC_RACE_AMERICAN INDIAN/ALASKAN NATIVE  VIC_RACE_BLACK   \n0                                              0               0  \\\n1                                              0               0   \n2                                              0               0   \n3                                              0               0   \n4                                              0               0   \n...                                          ...             ...   \n2601514                                        0               0   \n2601515                                        0               1   \n2601516                                        0               1   \n2601517                                        0               1   \n2601518                                        0               0   \n\n         VIC_RACE_BLACK HISPANIC  VIC_RACE_OTHER  VIC_RACE_WHITE   \n0                              0               0               2  \\\n1                              0               0               1   \n2                              0               0               1   \n3                              0               0               1   \n4                              0               0               1   \n...                          ...             ...             ...   \n2601514                        0               0               1   \n2601515                        0               0               0   \n2601516                        0               0               0   \n2601517                        0               0               0   \n2601518                        0               0               1   \n\n         VIC_RACE_WHITE HISPANIC  VIC_AGE_GROUP_18-24  VIC_AGE_GROUP_25-44   \n0                              0                    0                    0  \\\n1                              0                    1                    0   \n2                              0                    0                    0   \n3                              0                    1                    0   \n4                              0                    0                    0   \n...                          ...                  ...                  ...   \n2601514                        0                    0                    1   \n2601515                        0                    0                    1   \n2601516                        0                    0                    1   \n2601517                        0                    0                    1   \n2601518                        0                    0                    1   \n\n         VIC_AGE_GROUP_45-64  VIC_AGE_GROUP_65+   VIC_AGE_GROUP_<18   \n0                          0                   0                   2  \n1                          0                   0                   0  \n2                          1                   0                   0  \n3                          0                   0                   0  \n4                          1                   0                   0  \n...                      ...                 ...                 ...  \n2601514                    0                   0                   0  \n2601515                    0                   0                   0  \n2601516                    0                   0                   0  \n2601517                    0                   0                   0  \n2601518                    0                   0                   0  \n\n[2601519 rows x 18 columns]",
      "text/html": "<div>\n<style scoped>\n    .dataframe tbody tr th:only-of-type {\n        vertical-align: middle;\n    }\n\n    .dataframe tbody tr th {\n        vertical-align: top;\n    }\n\n    .dataframe thead th {\n        text-align: right;\n    }\n</style>\n<table border=\"1\" class=\"dataframe\">\n  <thead>\n    <tr style=\"text-align: right;\">\n      <th></th>\n      <th>Longitude</th>\n      <th>Latitude</th>\n      <th>year</th>\n      <th>day_of_week</th>\n      <th>hour</th>\n      <th>VIC_SEX_F</th>\n      <th>VIC_SEX_M</th>\n      <th>VIC_RACE_AMERICAN INDIAN/ALASKAN NATIVE</th>\n      <th>VIC_RACE_BLACK</th>\n      <th>VIC_RACE_BLACK HISPANIC</th>\n      <th>VIC_RACE_OTHER</th>\n      <th>VIC_RACE_WHITE</th>\n      <th>VIC_RACE_WHITE HISPANIC</th>\n      <th>VIC_AGE_GROUP_18-24</th>\n      <th>VIC_AGE_GROUP_25-44</th>\n      <th>VIC_AGE_GROUP_45-64</th>\n      <th>VIC_AGE_GROUP_65+</th>\n      <th>VIC_AGE_GROUP_&lt;18</th>\n    </tr>\n  </thead>\n  <tbody>\n    <tr>\n      <th>0</th>\n      <td>-74.24998</td>\n      <td>40.50037</td>\n      <td>2006</td>\n      <td>0</td>\n      <td>17</td>\n      <td>2</td>\n      <td>0</td>\n      <td>0</td>\n      <td>0</td>\n      <td>0</td>\n      <td>0</td>\n      <td>2</td>\n      <td>0</td>\n      <td>0</td>\n      <td>0</td>\n      <td>0</td>\n      <td>0</td>\n      <td>2</td>\n    </tr>\n    <tr>\n      <th>1</th>\n      <td>-74.24998</td>\n      <td>40.50037</td>\n      <td>2006</td>\n      <td>1</td>\n      <td>10</td>\n      <td>0</td>\n      <td>1</td>\n      <td>0</td>\n      <td>0</td>\n      <td>0</td>\n      <td>0</td>\n      <td>1</td>\n      <td>0</td>\n      <td>1</td>\n      <td>0</td>\n      <td>0</td>\n      <td>0</td>\n      <td>0</td>\n    </tr>\n    <tr>\n      <th>2</th>\n      <td>-74.24998</td>\n      <td>40.50037</td>\n      <td>2006</td>\n      <td>1</td>\n      <td>13</td>\n      <td>0</td>\n      <td>1</td>\n      <td>0</td>\n      <td>0</td>\n      <td>0</td>\n      <td>0</td>\n      <td>1</td>\n      <td>0</td>\n      <td>0</td>\n      <td>0</td>\n      <td>1</td>\n      <td>0</td>\n      <td>0</td>\n    </tr>\n    <tr>\n      <th>3</th>\n      <td>-74.24998</td>\n      <td>40.50037</td>\n      <td>2006</td>\n      <td>3</td>\n      <td>1</td>\n      <td>0</td>\n      <td>1</td>\n      <td>0</td>\n      <td>0</td>\n      <td>0</td>\n      <td>0</td>\n      <td>1</td>\n      <td>0</td>\n      <td>1</td>\n      <td>0</td>\n      <td>0</td>\n      <td>0</td>\n      <td>0</td>\n    </tr>\n    <tr>\n      <th>4</th>\n      <td>-74.24998</td>\n      <td>40.50037</td>\n      <td>2006</td>\n      <td>4</td>\n      <td>8</td>\n      <td>0</td>\n      <td>1</td>\n      <td>0</td>\n      <td>0</td>\n      <td>0</td>\n      <td>0</td>\n      <td>1</td>\n      <td>0</td>\n      <td>0</td>\n      <td>0</td>\n      <td>1</td>\n      <td>0</td>\n      <td>0</td>\n    </tr>\n    <tr>\n      <th>...</th>\n      <td>...</td>\n      <td>...</td>\n      <td>...</td>\n      <td>...</td>\n      <td>...</td>\n      <td>...</td>\n      <td>...</td>\n      <td>...</td>\n      <td>...</td>\n      <td>...</td>\n      <td>...</td>\n      <td>...</td>\n      <td>...</td>\n      <td>...</td>\n      <td>...</td>\n      <td>...</td>\n      <td>...</td>\n      <td>...</td>\n    </tr>\n    <tr>\n      <th>2601514</th>\n      <td>-73.70562</td>\n      <td>40.75455</td>\n      <td>2021</td>\n      <td>5</td>\n      <td>13</td>\n      <td>0</td>\n      <td>1</td>\n      <td>0</td>\n      <td>0</td>\n      <td>0</td>\n      <td>0</td>\n      <td>1</td>\n      <td>0</td>\n      <td>0</td>\n      <td>1</td>\n      <td>0</td>\n      <td>0</td>\n      <td>0</td>\n    </tr>\n    <tr>\n      <th>2601515</th>\n      <td>-73.70562</td>\n      <td>40.75455</td>\n      <td>2021</td>\n      <td>5</td>\n      <td>22</td>\n      <td>1</td>\n      <td>0</td>\n      <td>0</td>\n      <td>1</td>\n      <td>0</td>\n      <td>0</td>\n      <td>0</td>\n      <td>0</td>\n      <td>0</td>\n      <td>1</td>\n      <td>0</td>\n      <td>0</td>\n      <td>0</td>\n    </tr>\n    <tr>\n      <th>2601516</th>\n      <td>-73.70562</td>\n      <td>40.75455</td>\n      <td>2021</td>\n      <td>6</td>\n      <td>11</td>\n      <td>0</td>\n      <td>1</td>\n      <td>0</td>\n      <td>1</td>\n      <td>0</td>\n      <td>0</td>\n      <td>0</td>\n      <td>0</td>\n      <td>0</td>\n      <td>1</td>\n      <td>0</td>\n      <td>0</td>\n      <td>0</td>\n    </tr>\n    <tr>\n      <th>2601517</th>\n      <td>-73.70562</td>\n      <td>40.75455</td>\n      <td>2021</td>\n      <td>6</td>\n      <td>16</td>\n      <td>0</td>\n      <td>1</td>\n      <td>0</td>\n      <td>1</td>\n      <td>0</td>\n      <td>0</td>\n      <td>0</td>\n      <td>0</td>\n      <td>0</td>\n      <td>1</td>\n      <td>0</td>\n      <td>0</td>\n      <td>0</td>\n    </tr>\n    <tr>\n      <th>2601518</th>\n      <td>-73.70562</td>\n      <td>40.75455</td>\n      <td>2021</td>\n      <td>6</td>\n      <td>20</td>\n      <td>0</td>\n      <td>1</td>\n      <td>0</td>\n      <td>0</td>\n      <td>0</td>\n      <td>0</td>\n      <td>1</td>\n      <td>0</td>\n      <td>0</td>\n      <td>1</td>\n      <td>0</td>\n      <td>0</td>\n      <td>0</td>\n    </tr>\n  </tbody>\n</table>\n<p>2601519 rows × 18 columns</p>\n</div>"
     },
     "execution_count": 87,
     "metadata": {},
     "output_type": "execute_result"
    }
   ],
   "source": [
    "crime_counts.reset_index(inplace=True)\n",
    "crime_counts"
   ],
   "metadata": {
    "collapsed": false
   }
  },
  {
   "cell_type": "markdown",
   "source": [
    "# Trees"
   ],
   "metadata": {
    "collapsed": false
   }
  },
  {
   "cell_type": "code",
   "execution_count": 89,
   "outputs": [
    {
     "ename": "KeyboardInterrupt",
     "evalue": "",
     "output_type": "error",
     "traceback": [
      "\u001B[1;31m---------------------------------------------------------------------------\u001B[0m",
      "\u001B[1;31mKeyboardInterrupt\u001B[0m                         Traceback (most recent call last)",
      "Cell \u001B[1;32mIn[89], line 3\u001B[0m\n\u001B[0;32m      1\u001B[0m rows \u001B[38;5;241m=\u001B[39m \u001B[38;5;28;01mNone\u001B[39;00m\n\u001B[1;32m----> 3\u001B[0m trees \u001B[38;5;241m=\u001B[39m \u001B[43mgpd\u001B[49m\u001B[38;5;241;43m.\u001B[39;49m\u001B[43mread_file\u001B[49m\u001B[43m(\u001B[49m\u001B[38;5;124;43m'\u001B[39;49m\u001B[38;5;124;43m../data/2015 Street Tree Census - Tree Data.geojson\u001B[39;49m\u001B[38;5;124;43m'\u001B[39;49m\u001B[43m,\u001B[49m\u001B[43m \u001B[49m\u001B[43mrows\u001B[49m\u001B[38;5;241;43m=\u001B[39;49m\u001B[43mrows\u001B[49m\u001B[43m)\u001B[49m\n\u001B[0;32m      4\u001B[0m \u001B[38;5;66;03m# trees = trees.to_crs(epsg=4326)\u001B[39;00m\n\u001B[0;32m      5\u001B[0m trees\n",
      "File \u001B[1;32m~\\anaconda3\\envs\\geo_env\\lib\\site-packages\\geopandas\\io\\file.py:259\u001B[0m, in \u001B[0;36m_read_file\u001B[1;34m(filename, bbox, mask, rows, engine, **kwargs)\u001B[0m\n\u001B[0;32m    256\u001B[0m     path_or_bytes \u001B[38;5;241m=\u001B[39m filename\n\u001B[0;32m    258\u001B[0m \u001B[38;5;28;01mif\u001B[39;00m engine \u001B[38;5;241m==\u001B[39m \u001B[38;5;124m\"\u001B[39m\u001B[38;5;124mfiona\u001B[39m\u001B[38;5;124m\"\u001B[39m:\n\u001B[1;32m--> 259\u001B[0m     \u001B[38;5;28;01mreturn\u001B[39;00m _read_file_fiona(\n\u001B[0;32m    260\u001B[0m         path_or_bytes, from_bytes, bbox\u001B[38;5;241m=\u001B[39mbbox, mask\u001B[38;5;241m=\u001B[39mmask, rows\u001B[38;5;241m=\u001B[39mrows, \u001B[38;5;241m*\u001B[39m\u001B[38;5;241m*\u001B[39mkwargs\n\u001B[0;32m    261\u001B[0m     )\n\u001B[0;32m    262\u001B[0m \u001B[38;5;28;01melif\u001B[39;00m engine \u001B[38;5;241m==\u001B[39m \u001B[38;5;124m\"\u001B[39m\u001B[38;5;124mpyogrio\u001B[39m\u001B[38;5;124m\"\u001B[39m:\n\u001B[0;32m    263\u001B[0m     \u001B[38;5;28;01mreturn\u001B[39;00m _read_file_pyogrio(\n\u001B[0;32m    264\u001B[0m         path_or_bytes, bbox\u001B[38;5;241m=\u001B[39mbbox, mask\u001B[38;5;241m=\u001B[39mmask, rows\u001B[38;5;241m=\u001B[39mrows, \u001B[38;5;241m*\u001B[39m\u001B[38;5;241m*\u001B[39mkwargs\n\u001B[0;32m    265\u001B[0m     )\n",
      "File \u001B[1;32m~\\anaconda3\\envs\\geo_env\\lib\\site-packages\\geopandas\\io\\file.py:360\u001B[0m, in \u001B[0;36m_read_file_fiona\u001B[1;34m(path_or_bytes, from_bytes, bbox, mask, rows, where, **kwargs)\u001B[0m\n\u001B[0;32m    356\u001B[0m     df \u001B[38;5;241m=\u001B[39m pd\u001B[38;5;241m.\u001B[39mDataFrame(\n\u001B[0;32m    357\u001B[0m         [record[\u001B[38;5;124m\"\u001B[39m\u001B[38;5;124mproperties\u001B[39m\u001B[38;5;124m\"\u001B[39m] \u001B[38;5;28;01mfor\u001B[39;00m record \u001B[38;5;129;01min\u001B[39;00m f_filt], columns\u001B[38;5;241m=\u001B[39mcolumns\n\u001B[0;32m    358\u001B[0m     )\n\u001B[0;32m    359\u001B[0m \u001B[38;5;28;01melse\u001B[39;00m:\n\u001B[1;32m--> 360\u001B[0m     df \u001B[38;5;241m=\u001B[39m \u001B[43mGeoDataFrame\u001B[49m\u001B[38;5;241;43m.\u001B[39;49m\u001B[43mfrom_features\u001B[49m\u001B[43m(\u001B[49m\n\u001B[0;32m    361\u001B[0m \u001B[43m        \u001B[49m\u001B[43mf_filt\u001B[49m\u001B[43m,\u001B[49m\u001B[43m \u001B[49m\u001B[43mcrs\u001B[49m\u001B[38;5;241;43m=\u001B[39;49m\u001B[43mcrs\u001B[49m\u001B[43m,\u001B[49m\u001B[43m \u001B[49m\u001B[43mcolumns\u001B[49m\u001B[38;5;241;43m=\u001B[39;49m\u001B[43mcolumns\u001B[49m\u001B[43m \u001B[49m\u001B[38;5;241;43m+\u001B[39;49m\u001B[43m \u001B[49m\u001B[43m[\u001B[49m\u001B[38;5;124;43m\"\u001B[39;49m\u001B[38;5;124;43mgeometry\u001B[39;49m\u001B[38;5;124;43m\"\u001B[39;49m\u001B[43m]\u001B[49m\n\u001B[0;32m    362\u001B[0m \u001B[43m    \u001B[49m\u001B[43m)\u001B[49m\n\u001B[0;32m    363\u001B[0m \u001B[38;5;28;01mfor\u001B[39;00m k \u001B[38;5;129;01min\u001B[39;00m datetime_fields:\n\u001B[0;32m    364\u001B[0m     as_dt \u001B[38;5;241m=\u001B[39m pd\u001B[38;5;241m.\u001B[39mto_datetime(df[k], errors\u001B[38;5;241m=\u001B[39m\u001B[38;5;124m\"\u001B[39m\u001B[38;5;124mignore\u001B[39m\u001B[38;5;124m\"\u001B[39m)\n",
      "File \u001B[1;32m~\\anaconda3\\envs\\geo_env\\lib\\site-packages\\geopandas\\geodataframe.py:635\u001B[0m, in \u001B[0;36mGeoDataFrame.from_features\u001B[1;34m(cls, features, crs, columns)\u001B[0m\n\u001B[0;32m    632\u001B[0m \u001B[38;5;28;01mif\u001B[39;00m \u001B[38;5;28mhasattr\u001B[39m(feature, \u001B[38;5;124m\"\u001B[39m\u001B[38;5;124m__geo_interface__\u001B[39m\u001B[38;5;124m\"\u001B[39m):\n\u001B[0;32m    633\u001B[0m     feature \u001B[38;5;241m=\u001B[39m feature\u001B[38;5;241m.\u001B[39m__geo_interface__\n\u001B[0;32m    634\u001B[0m row \u001B[38;5;241m=\u001B[39m {\n\u001B[1;32m--> 635\u001B[0m     \u001B[38;5;124m\"\u001B[39m\u001B[38;5;124mgeometry\u001B[39m\u001B[38;5;124m\"\u001B[39m: \u001B[43mshape\u001B[49m\u001B[43m(\u001B[49m\u001B[43mfeature\u001B[49m\u001B[43m[\u001B[49m\u001B[38;5;124;43m\"\u001B[39;49m\u001B[38;5;124;43mgeometry\u001B[39;49m\u001B[38;5;124;43m\"\u001B[39;49m\u001B[43m]\u001B[49m\u001B[43m)\u001B[49m \u001B[38;5;28;01mif\u001B[39;00m feature[\u001B[38;5;124m\"\u001B[39m\u001B[38;5;124mgeometry\u001B[39m\u001B[38;5;124m\"\u001B[39m] \u001B[38;5;28;01melse\u001B[39;00m \u001B[38;5;28;01mNone\u001B[39;00m\n\u001B[0;32m    636\u001B[0m }\n\u001B[0;32m    637\u001B[0m \u001B[38;5;66;03m# load properties\u001B[39;00m\n\u001B[0;32m    638\u001B[0m properties \u001B[38;5;241m=\u001B[39m feature[\u001B[38;5;124m\"\u001B[39m\u001B[38;5;124mproperties\u001B[39m\u001B[38;5;124m\"\u001B[39m]\n",
      "File \u001B[1;32m~\\anaconda3\\envs\\geo_env\\lib\\site-packages\\shapely\\geometry\\geo.py:96\u001B[0m, in \u001B[0;36mshape\u001B[1;34m(context)\u001B[0m\n\u001B[0;32m     94\u001B[0m     \u001B[38;5;28;01mreturn\u001B[39;00m _empty_shape_for_no_coordinates(geom_type)\n\u001B[0;32m     95\u001B[0m \u001B[38;5;28;01melif\u001B[39;00m geom_type \u001B[38;5;241m==\u001B[39m \u001B[38;5;124m\"\u001B[39m\u001B[38;5;124mpoint\u001B[39m\u001B[38;5;124m\"\u001B[39m:\n\u001B[1;32m---> 96\u001B[0m     \u001B[38;5;28;01mreturn\u001B[39;00m \u001B[43mPoint\u001B[49m\u001B[43m(\u001B[49m\u001B[43mob\u001B[49m\u001B[43m[\u001B[49m\u001B[38;5;124;43m\"\u001B[39;49m\u001B[38;5;124;43mcoordinates\u001B[39;49m\u001B[38;5;124;43m\"\u001B[39;49m\u001B[43m]\u001B[49m\u001B[43m)\u001B[49m\n\u001B[0;32m     97\u001B[0m \u001B[38;5;28;01melif\u001B[39;00m geom_type \u001B[38;5;241m==\u001B[39m \u001B[38;5;124m\"\u001B[39m\u001B[38;5;124mlinestring\u001B[39m\u001B[38;5;124m\"\u001B[39m:\n\u001B[0;32m     98\u001B[0m     \u001B[38;5;28;01mreturn\u001B[39;00m LineString(ob[\u001B[38;5;124m\"\u001B[39m\u001B[38;5;124mcoordinates\u001B[39m\u001B[38;5;124m\"\u001B[39m])\n",
      "File \u001B[1;32m~\\anaconda3\\envs\\geo_env\\lib\\site-packages\\shapely\\geometry\\point.py:78\u001B[0m, in \u001B[0;36mPoint.__new__\u001B[1;34m(self, *args)\u001B[0m\n\u001B[0;32m     76\u001B[0m \u001B[38;5;28;01mif\u001B[39;00m \u001B[38;5;129;01mnot\u001B[39;00m np\u001B[38;5;241m.\u001B[39missubdtype(coords\u001B[38;5;241m.\u001B[39mdtype, np\u001B[38;5;241m.\u001B[39mnumber):\n\u001B[0;32m     77\u001B[0m     coords \u001B[38;5;241m=\u001B[39m [\u001B[38;5;28mfloat\u001B[39m(c) \u001B[38;5;28;01mfor\u001B[39;00m c \u001B[38;5;129;01min\u001B[39;00m coords]\n\u001B[1;32m---> 78\u001B[0m geom \u001B[38;5;241m=\u001B[39m \u001B[43mshapely\u001B[49m\u001B[38;5;241;43m.\u001B[39;49m\u001B[43mpoints\u001B[49m\u001B[43m(\u001B[49m\u001B[43mcoords\u001B[49m\u001B[43m)\u001B[49m\n\u001B[0;32m     79\u001B[0m \u001B[38;5;28;01mif\u001B[39;00m \u001B[38;5;129;01mnot\u001B[39;00m \u001B[38;5;28misinstance\u001B[39m(geom, Point):\n\u001B[0;32m     80\u001B[0m     \u001B[38;5;28;01mraise\u001B[39;00m \u001B[38;5;167;01mValueError\u001B[39;00m(\u001B[38;5;124m\"\u001B[39m\u001B[38;5;124mInvalid values passed to Point constructor\u001B[39m\u001B[38;5;124m\"\u001B[39m)\n",
      "File \u001B[1;32m~\\anaconda3\\envs\\geo_env\\lib\\site-packages\\shapely\\decorators.py:77\u001B[0m, in \u001B[0;36mmultithreading_enabled.<locals>.wrapped\u001B[1;34m(*args, **kwargs)\u001B[0m\n\u001B[0;32m     75\u001B[0m     \u001B[38;5;28;01mfor\u001B[39;00m arr \u001B[38;5;129;01min\u001B[39;00m array_args:\n\u001B[0;32m     76\u001B[0m         arr\u001B[38;5;241m.\u001B[39mflags\u001B[38;5;241m.\u001B[39mwriteable \u001B[38;5;241m=\u001B[39m \u001B[38;5;28;01mFalse\u001B[39;00m\n\u001B[1;32m---> 77\u001B[0m     \u001B[38;5;28;01mreturn\u001B[39;00m func(\u001B[38;5;241m*\u001B[39margs, \u001B[38;5;241m*\u001B[39m\u001B[38;5;241m*\u001B[39mkwargs)\n\u001B[0;32m     78\u001B[0m \u001B[38;5;28;01mfinally\u001B[39;00m:\n\u001B[0;32m     79\u001B[0m     \u001B[38;5;28;01mfor\u001B[39;00m arr, old_flag \u001B[38;5;129;01min\u001B[39;00m \u001B[38;5;28mzip\u001B[39m(array_args, old_flags):\n",
      "File \u001B[1;32m~\\anaconda3\\envs\\geo_env\\lib\\site-packages\\shapely\\creation.py:74\u001B[0m, in \u001B[0;36mpoints\u001B[1;34m(coords, y, z, indices, out, **kwargs)\u001B[0m\n\u001B[0;32m     72\u001B[0m coords \u001B[38;5;241m=\u001B[39m _xyz_to_coords(coords, y, z)\n\u001B[0;32m     73\u001B[0m \u001B[38;5;28;01mif\u001B[39;00m indices \u001B[38;5;129;01mis\u001B[39;00m \u001B[38;5;28;01mNone\u001B[39;00m:\n\u001B[1;32m---> 74\u001B[0m     \u001B[38;5;28;01mreturn\u001B[39;00m lib\u001B[38;5;241m.\u001B[39mpoints(coords, out\u001B[38;5;241m=\u001B[39mout, \u001B[38;5;241m*\u001B[39m\u001B[38;5;241m*\u001B[39mkwargs)\n\u001B[0;32m     75\u001B[0m \u001B[38;5;28;01melse\u001B[39;00m:\n\u001B[0;32m     76\u001B[0m     \u001B[38;5;28;01mreturn\u001B[39;00m simple_geometries_1d(coords, indices, GeometryType\u001B[38;5;241m.\u001B[39mPOINT, out\u001B[38;5;241m=\u001B[39mout)\n",
      "\u001B[1;31mKeyboardInterrupt\u001B[0m: "
     ]
    }
   ],
   "source": [
    "rows = None\n",
    "\n",
    "trees = gpd.read_file('../data/2015 Street Tree Census - Tree Data.geojson', rows=rows)\n",
    "# trees = trees.to_crs(epsg=4326)\n",
    "trees"
   ],
   "metadata": {
    "collapsed": false
   }
  },
  {
   "cell_type": "code",
   "execution_count": 41,
   "outputs": [
    {
     "ename": "KeyboardInterrupt",
     "evalue": "",
     "output_type": "error",
     "traceback": [
      "\u001B[1;31m---------------------------------------------------------------------------\u001B[0m",
      "\u001B[1;31mKeyboardInterrupt\u001B[0m                         Traceback (most recent call last)",
      "Cell \u001B[1;32mIn[41], line 4\u001B[0m\n\u001B[0;32m      1\u001B[0m rows \u001B[38;5;241m=\u001B[39m \u001B[38;5;28;01mNone\u001B[39;00m\n\u001B[0;32m      2\u001B[0m rows \u001B[38;5;241m=\u001B[39m \u001B[38;5;28;01mNone\u001B[39;00m\n\u001B[1;32m----> 4\u001B[0m trees \u001B[38;5;241m=\u001B[39m \u001B[43mgpd\u001B[49m\u001B[38;5;241;43m.\u001B[39;49m\u001B[43mread_file\u001B[49m\u001B[43m(\u001B[49m\u001B[38;5;124;43m'\u001B[39;49m\u001B[38;5;124;43m../data/2015 Street Tree Census - Tree Data.geojson\u001B[39;49m\u001B[38;5;124;43m'\u001B[39;49m\u001B[43m,\u001B[49m\u001B[43m \u001B[49m\u001B[43mrows\u001B[49m\u001B[38;5;241;43m=\u001B[39;49m\u001B[43mrows\u001B[49m\u001B[43m)\u001B[49m\n\u001B[0;32m      5\u001B[0m trees \u001B[38;5;241m=\u001B[39m trees\u001B[38;5;241m.\u001B[39mto_crs(epsg\u001B[38;5;241m=\u001B[39m\u001B[38;5;241m4326\u001B[39m)\n\u001B[0;32m      9\u001B[0m trees[\u001B[38;5;124m'\u001B[39m\u001B[38;5;124mLongitude\u001B[39m\u001B[38;5;124m'\u001B[39m] \u001B[38;5;241m=\u001B[39m trees[\u001B[38;5;124m'\u001B[39m\u001B[38;5;124mlongitude\u001B[39m\u001B[38;5;124m'\u001B[39m]\u001B[38;5;241m.\u001B[39mapply(nearest_grid_point, grid_points\u001B[38;5;241m=\u001B[39mx_points)\n",
      "File \u001B[1;32m~\\anaconda3\\envs\\geo_env\\lib\\site-packages\\geopandas\\io\\file.py:259\u001B[0m, in \u001B[0;36m_read_file\u001B[1;34m(filename, bbox, mask, rows, engine, **kwargs)\u001B[0m\n\u001B[0;32m    256\u001B[0m     path_or_bytes \u001B[38;5;241m=\u001B[39m filename\n\u001B[0;32m    258\u001B[0m \u001B[38;5;28;01mif\u001B[39;00m engine \u001B[38;5;241m==\u001B[39m \u001B[38;5;124m\"\u001B[39m\u001B[38;5;124mfiona\u001B[39m\u001B[38;5;124m\"\u001B[39m:\n\u001B[1;32m--> 259\u001B[0m     \u001B[38;5;28;01mreturn\u001B[39;00m _read_file_fiona(\n\u001B[0;32m    260\u001B[0m         path_or_bytes, from_bytes, bbox\u001B[38;5;241m=\u001B[39mbbox, mask\u001B[38;5;241m=\u001B[39mmask, rows\u001B[38;5;241m=\u001B[39mrows, \u001B[38;5;241m*\u001B[39m\u001B[38;5;241m*\u001B[39mkwargs\n\u001B[0;32m    261\u001B[0m     )\n\u001B[0;32m    262\u001B[0m \u001B[38;5;28;01melif\u001B[39;00m engine \u001B[38;5;241m==\u001B[39m \u001B[38;5;124m\"\u001B[39m\u001B[38;5;124mpyogrio\u001B[39m\u001B[38;5;124m\"\u001B[39m:\n\u001B[0;32m    263\u001B[0m     \u001B[38;5;28;01mreturn\u001B[39;00m _read_file_pyogrio(\n\u001B[0;32m    264\u001B[0m         path_or_bytes, bbox\u001B[38;5;241m=\u001B[39mbbox, mask\u001B[38;5;241m=\u001B[39mmask, rows\u001B[38;5;241m=\u001B[39mrows, \u001B[38;5;241m*\u001B[39m\u001B[38;5;241m*\u001B[39mkwargs\n\u001B[0;32m    265\u001B[0m     )\n",
      "File \u001B[1;32m~\\anaconda3\\envs\\geo_env\\lib\\site-packages\\geopandas\\io\\file.py:360\u001B[0m, in \u001B[0;36m_read_file_fiona\u001B[1;34m(path_or_bytes, from_bytes, bbox, mask, rows, where, **kwargs)\u001B[0m\n\u001B[0;32m    356\u001B[0m     df \u001B[38;5;241m=\u001B[39m pd\u001B[38;5;241m.\u001B[39mDataFrame(\n\u001B[0;32m    357\u001B[0m         [record[\u001B[38;5;124m\"\u001B[39m\u001B[38;5;124mproperties\u001B[39m\u001B[38;5;124m\"\u001B[39m] \u001B[38;5;28;01mfor\u001B[39;00m record \u001B[38;5;129;01min\u001B[39;00m f_filt], columns\u001B[38;5;241m=\u001B[39mcolumns\n\u001B[0;32m    358\u001B[0m     )\n\u001B[0;32m    359\u001B[0m \u001B[38;5;28;01melse\u001B[39;00m:\n\u001B[1;32m--> 360\u001B[0m     df \u001B[38;5;241m=\u001B[39m \u001B[43mGeoDataFrame\u001B[49m\u001B[38;5;241;43m.\u001B[39;49m\u001B[43mfrom_features\u001B[49m\u001B[43m(\u001B[49m\n\u001B[0;32m    361\u001B[0m \u001B[43m        \u001B[49m\u001B[43mf_filt\u001B[49m\u001B[43m,\u001B[49m\u001B[43m \u001B[49m\u001B[43mcrs\u001B[49m\u001B[38;5;241;43m=\u001B[39;49m\u001B[43mcrs\u001B[49m\u001B[43m,\u001B[49m\u001B[43m \u001B[49m\u001B[43mcolumns\u001B[49m\u001B[38;5;241;43m=\u001B[39;49m\u001B[43mcolumns\u001B[49m\u001B[43m \u001B[49m\u001B[38;5;241;43m+\u001B[39;49m\u001B[43m \u001B[49m\u001B[43m[\u001B[49m\u001B[38;5;124;43m\"\u001B[39;49m\u001B[38;5;124;43mgeometry\u001B[39;49m\u001B[38;5;124;43m\"\u001B[39;49m\u001B[43m]\u001B[49m\n\u001B[0;32m    362\u001B[0m \u001B[43m    \u001B[49m\u001B[43m)\u001B[49m\n\u001B[0;32m    363\u001B[0m \u001B[38;5;28;01mfor\u001B[39;00m k \u001B[38;5;129;01min\u001B[39;00m datetime_fields:\n\u001B[0;32m    364\u001B[0m     as_dt \u001B[38;5;241m=\u001B[39m pd\u001B[38;5;241m.\u001B[39mto_datetime(df[k], errors\u001B[38;5;241m=\u001B[39m\u001B[38;5;124m\"\u001B[39m\u001B[38;5;124mignore\u001B[39m\u001B[38;5;124m\"\u001B[39m)\n",
      "File \u001B[1;32m~\\anaconda3\\envs\\geo_env\\lib\\site-packages\\geopandas\\geodataframe.py:635\u001B[0m, in \u001B[0;36mGeoDataFrame.from_features\u001B[1;34m(cls, features, crs, columns)\u001B[0m\n\u001B[0;32m    632\u001B[0m \u001B[38;5;28;01mif\u001B[39;00m \u001B[38;5;28mhasattr\u001B[39m(feature, \u001B[38;5;124m\"\u001B[39m\u001B[38;5;124m__geo_interface__\u001B[39m\u001B[38;5;124m\"\u001B[39m):\n\u001B[0;32m    633\u001B[0m     feature \u001B[38;5;241m=\u001B[39m feature\u001B[38;5;241m.\u001B[39m__geo_interface__\n\u001B[0;32m    634\u001B[0m row \u001B[38;5;241m=\u001B[39m {\n\u001B[1;32m--> 635\u001B[0m     \u001B[38;5;124m\"\u001B[39m\u001B[38;5;124mgeometry\u001B[39m\u001B[38;5;124m\"\u001B[39m: \u001B[43mshape\u001B[49m\u001B[43m(\u001B[49m\u001B[43mfeature\u001B[49m\u001B[43m[\u001B[49m\u001B[38;5;124;43m\"\u001B[39;49m\u001B[38;5;124;43mgeometry\u001B[39;49m\u001B[38;5;124;43m\"\u001B[39;49m\u001B[43m]\u001B[49m\u001B[43m)\u001B[49m \u001B[38;5;28;01mif\u001B[39;00m feature[\u001B[38;5;124m\"\u001B[39m\u001B[38;5;124mgeometry\u001B[39m\u001B[38;5;124m\"\u001B[39m] \u001B[38;5;28;01melse\u001B[39;00m \u001B[38;5;28;01mNone\u001B[39;00m\n\u001B[0;32m    636\u001B[0m }\n\u001B[0;32m    637\u001B[0m \u001B[38;5;66;03m# load properties\u001B[39;00m\n\u001B[0;32m    638\u001B[0m properties \u001B[38;5;241m=\u001B[39m feature[\u001B[38;5;124m\"\u001B[39m\u001B[38;5;124mproperties\u001B[39m\u001B[38;5;124m\"\u001B[39m]\n",
      "File \u001B[1;32m~\\anaconda3\\envs\\geo_env\\lib\\site-packages\\shapely\\geometry\\geo.py:96\u001B[0m, in \u001B[0;36mshape\u001B[1;34m(context)\u001B[0m\n\u001B[0;32m     94\u001B[0m     \u001B[38;5;28;01mreturn\u001B[39;00m _empty_shape_for_no_coordinates(geom_type)\n\u001B[0;32m     95\u001B[0m \u001B[38;5;28;01melif\u001B[39;00m geom_type \u001B[38;5;241m==\u001B[39m \u001B[38;5;124m\"\u001B[39m\u001B[38;5;124mpoint\u001B[39m\u001B[38;5;124m\"\u001B[39m:\n\u001B[1;32m---> 96\u001B[0m     \u001B[38;5;28;01mreturn\u001B[39;00m \u001B[43mPoint\u001B[49m\u001B[43m(\u001B[49m\u001B[43mob\u001B[49m\u001B[43m[\u001B[49m\u001B[38;5;124;43m\"\u001B[39;49m\u001B[38;5;124;43mcoordinates\u001B[39;49m\u001B[38;5;124;43m\"\u001B[39;49m\u001B[43m]\u001B[49m\u001B[43m)\u001B[49m\n\u001B[0;32m     97\u001B[0m \u001B[38;5;28;01melif\u001B[39;00m geom_type \u001B[38;5;241m==\u001B[39m \u001B[38;5;124m\"\u001B[39m\u001B[38;5;124mlinestring\u001B[39m\u001B[38;5;124m\"\u001B[39m:\n\u001B[0;32m     98\u001B[0m     \u001B[38;5;28;01mreturn\u001B[39;00m LineString(ob[\u001B[38;5;124m\"\u001B[39m\u001B[38;5;124mcoordinates\u001B[39m\u001B[38;5;124m\"\u001B[39m])\n",
      "File \u001B[1;32m~\\anaconda3\\envs\\geo_env\\lib\\site-packages\\shapely\\geometry\\point.py:78\u001B[0m, in \u001B[0;36mPoint.__new__\u001B[1;34m(self, *args)\u001B[0m\n\u001B[0;32m     76\u001B[0m \u001B[38;5;28;01mif\u001B[39;00m \u001B[38;5;129;01mnot\u001B[39;00m np\u001B[38;5;241m.\u001B[39missubdtype(coords\u001B[38;5;241m.\u001B[39mdtype, np\u001B[38;5;241m.\u001B[39mnumber):\n\u001B[0;32m     77\u001B[0m     coords \u001B[38;5;241m=\u001B[39m [\u001B[38;5;28mfloat\u001B[39m(c) \u001B[38;5;28;01mfor\u001B[39;00m c \u001B[38;5;129;01min\u001B[39;00m coords]\n\u001B[1;32m---> 78\u001B[0m geom \u001B[38;5;241m=\u001B[39m \u001B[43mshapely\u001B[49m\u001B[38;5;241;43m.\u001B[39;49m\u001B[43mpoints\u001B[49m\u001B[43m(\u001B[49m\u001B[43mcoords\u001B[49m\u001B[43m)\u001B[49m\n\u001B[0;32m     79\u001B[0m \u001B[38;5;28;01mif\u001B[39;00m \u001B[38;5;129;01mnot\u001B[39;00m \u001B[38;5;28misinstance\u001B[39m(geom, Point):\n\u001B[0;32m     80\u001B[0m     \u001B[38;5;28;01mraise\u001B[39;00m \u001B[38;5;167;01mValueError\u001B[39;00m(\u001B[38;5;124m\"\u001B[39m\u001B[38;5;124mInvalid values passed to Point constructor\u001B[39m\u001B[38;5;124m\"\u001B[39m)\n",
      "File \u001B[1;32m~\\anaconda3\\envs\\geo_env\\lib\\site-packages\\shapely\\decorators.py:77\u001B[0m, in \u001B[0;36mmultithreading_enabled.<locals>.wrapped\u001B[1;34m(*args, **kwargs)\u001B[0m\n\u001B[0;32m     75\u001B[0m     \u001B[38;5;28;01mfor\u001B[39;00m arr \u001B[38;5;129;01min\u001B[39;00m array_args:\n\u001B[0;32m     76\u001B[0m         arr\u001B[38;5;241m.\u001B[39mflags\u001B[38;5;241m.\u001B[39mwriteable \u001B[38;5;241m=\u001B[39m \u001B[38;5;28;01mFalse\u001B[39;00m\n\u001B[1;32m---> 77\u001B[0m     \u001B[38;5;28;01mreturn\u001B[39;00m func(\u001B[38;5;241m*\u001B[39margs, \u001B[38;5;241m*\u001B[39m\u001B[38;5;241m*\u001B[39mkwargs)\n\u001B[0;32m     78\u001B[0m \u001B[38;5;28;01mfinally\u001B[39;00m:\n\u001B[0;32m     79\u001B[0m     \u001B[38;5;28;01mfor\u001B[39;00m arr, old_flag \u001B[38;5;129;01min\u001B[39;00m \u001B[38;5;28mzip\u001B[39m(array_args, old_flags):\n",
      "File \u001B[1;32m~\\anaconda3\\envs\\geo_env\\lib\\site-packages\\shapely\\creation.py:74\u001B[0m, in \u001B[0;36mpoints\u001B[1;34m(coords, y, z, indices, out, **kwargs)\u001B[0m\n\u001B[0;32m     72\u001B[0m coords \u001B[38;5;241m=\u001B[39m _xyz_to_coords(coords, y, z)\n\u001B[0;32m     73\u001B[0m \u001B[38;5;28;01mif\u001B[39;00m indices \u001B[38;5;129;01mis\u001B[39;00m \u001B[38;5;28;01mNone\u001B[39;00m:\n\u001B[1;32m---> 74\u001B[0m     \u001B[38;5;28;01mreturn\u001B[39;00m lib\u001B[38;5;241m.\u001B[39mpoints(coords, out\u001B[38;5;241m=\u001B[39mout, \u001B[38;5;241m*\u001B[39m\u001B[38;5;241m*\u001B[39mkwargs)\n\u001B[0;32m     75\u001B[0m \u001B[38;5;28;01melse\u001B[39;00m:\n\u001B[0;32m     76\u001B[0m     \u001B[38;5;28;01mreturn\u001B[39;00m simple_geometries_1d(coords, indices, GeometryType\u001B[38;5;241m.\u001B[39mPOINT, out\u001B[38;5;241m=\u001B[39mout)\n",
      "\u001B[1;31mKeyboardInterrupt\u001B[0m: "
     ]
    }
   ],
   "source": [
    "# drop the columns that we don't need\n",
    "trees = trees[['health', 'longitude', 'latitude']]\n",
    "\n",
    "# query the KD Tree with the Longitude and Latitude columns of crime_data\n",
    "distances, indices = kd_tree.query(trees[['longitude', 'latitude']])\n",
    "\n",
    "# use the indices to get the corresponding Longitude and Latitude values from filtered_grid_df\n",
    "trees['Longitude'] = filtered_grid_df.loc[indices, 'longitude'].values\n",
    "trees['Latitude'] = filtered_grid_df.loc[indices, 'latitude'].values\n",
    "\n",
    "tree_counts = (\n",
    "    trees.groupby(['Longitude', 'Latitude','health'])\n",
    "    .size()\n",
    "    .reset_index(name='tree_count')\n",
    ")\n",
    "\n",
    "tree_counts_by_location = tree_counts_pivoted.groupby(['Longitude', 'Latitude']).sum().reset_index()\n",
    "tree_counts_by_location\n"
   ],
   "metadata": {
    "collapsed": false
   }
  },
  {
   "cell_type": "code",
   "execution_count": null,
   "id": "a4a9617f",
   "metadata": {},
   "outputs": [],
   "source": [
    "tree_counts = (\n",
    "    trees.groupby(['Longitude', 'Latitude','health'])\n",
    "    .size()\n",
    "    .reset_index(name='tree_count')\n",
    ")\n",
    "tree_counts"
   ]
  },
  {
   "cell_type": "code",
   "execution_count": null,
   "id": "e3c2c4e8",
   "metadata": {},
   "outputs": [],
   "source": [
    "tree_counts.head()\n",
    "\n",
    "tree_counts_pivoted = pandas.pivot_table(tree_counts, values='tree_count', index=['Longitude', 'Latitude'], columns=['health'], fill_value=0)\n",
    "tree_counts_pivoted = tree_counts_pivoted.reset_index().rename(columns={'Good': 'good_tree_count', 'Fair': 'fair_tree_count', 'Poor': 'poor_tree_count'})\n",
    "\n",
    "# Remove index name\n",
    "tree_counts_pivoted.index.name = None"
   ]
  },
  {
   "cell_type": "code",
   "execution_count": null,
   "id": "04899d31",
   "metadata": {},
   "outputs": [],
   "source": [
    "tree_counts_pivoted"
   ]
  },
  {
   "cell_type": "markdown",
   "source": [
    "# Grid the longitude and latitude\n"
   ],
   "metadata": {
    "collapsed": false
   }
  },
  {
   "cell_type": "code",
   "execution_count": null,
   "id": "def8d082",
   "metadata": {},
   "outputs": [],
   "source": []
  },
  {
   "cell_type": "code",
   "execution_count": null,
   "id": "3112343b",
   "metadata": {},
   "outputs": [],
   "source": [
    "tree_counts_by_location = tree_counts_pivoted.groupby(['Longitude', 'Latitude']).sum().reset_index()\n",
    "tree_counts_by_location"
   ]
  },
  {
   "cell_type": "code",
   "execution_count": null,
   "id": "4320f08e",
   "metadata": {},
   "outputs": [],
   "source": [
    "crime_counts"
   ]
  },
  {
   "cell_type": "code",
   "execution_count": null,
   "id": "606ee37c",
   "metadata": {},
   "outputs": [],
   "source": [
    "merged_data = pandas.merge(crime_counts, tree_counts_by_location, on=['Longitude', 'Latitude'], how='left')\n"
   ]
  },
  {
   "cell_type": "code",
   "execution_count": null,
   "id": "40d7ebc0",
   "metadata": {},
   "outputs": [],
   "source": [
    "merged_data"
   ]
  },
  {
   "cell_type": "code",
   "execution_count": null,
   "id": "324e97af",
   "metadata": {},
   "outputs": [],
   "source": [
    "import pickle\n",
    "\n",
    "with open('merged_data.pickle', 'wb') as f:\n",
    "    pickle.dump(merged_data, f)"
   ]
  },
  {
   "cell_type": "markdown",
   "id": "c75b5fca",
   "metadata": {},
   "source": [
    "# LAB 4"
   ]
  },
  {
   "cell_type": "markdown",
   "source": [
    "# Proxies"
   ],
   "metadata": {
    "collapsed": false
   }
  },
  {
   "cell_type": "code",
   "execution_count": null,
   "outputs": [],
   "source": [
    "corr_matrix = merged_data.corr().round(2)\n",
    "# print(corr_matrix)\n",
    "mask = np.triu(np.ones_like(corr_matrix, dtype=bool))\n",
    "\n",
    "fig, ax = plt.subplots(figsize=(40,40))       \n",
    "sns.heatmap(corr_matrix, annot=True, vmax=1, vmin=-1, center=0, cmap='vlag', mask=mask, ax=ax)\n",
    "plt.show()"
   ],
   "metadata": {
    "collapsed": false
   }
  },
  {
   "cell_type": "markdown",
   "source": [
    "# Representation bias"
   ],
   "metadata": {
    "collapsed": false
   }
  },
  {
   "cell_type": "code",
   "execution_count": null,
   "outputs": [],
   "source": [
    "merged_data2010 = merged_data.loc[merged_data['year'] == 2010]"
   ],
   "metadata": {
    "collapsed": false
   }
  },
  {
   "cell_type": "code",
   "execution_count": null,
   "outputs": [],
   "source": [
    "merged_data2010['VIC_SEX_F'].sum()"
   ],
   "metadata": {
    "collapsed": false
   }
  },
  {
   "cell_type": "code",
   "execution_count": null,
   "outputs": [],
   "source": [
    "merged_data2010['VIC_SEX_M'].sum()"
   ],
   "metadata": {
    "collapsed": false
   }
  },
  {
   "cell_type": "code",
   "execution_count": null,
   "outputs": [],
   "source": [
    "merged_data2010"
   ],
   "metadata": {
    "collapsed": false
   }
  },
  {
   "cell_type": "code",
   "execution_count": null,
   "id": "14e70c36",
   "metadata": {},
   "outputs": [],
   "source": []
  }
 ],
 "metadata": {
  "kernelspec": {
   "display_name": "Python 3 (ipykernel)",
   "language": "python",
   "name": "python3"
  },
  "language_info": {
   "codemirror_mode": {
    "name": "ipython",
    "version": 3
   },
   "file_extension": ".py",
   "mimetype": "text/x-python",
   "name": "python",
   "nbconvert_exporter": "python",
   "pygments_lexer": "ipython3",
   "version": "3.9.13"
  }
 },
 "nbformat": 4,
 "nbformat_minor": 5
}
