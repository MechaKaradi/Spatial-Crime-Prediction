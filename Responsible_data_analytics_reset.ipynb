{
 "cells": [
  {
   "cell_type": "code",
   "execution_count": 26,
   "id": "aa6a8b04",
   "metadata": {
    "ExecuteTime": {
     "start_time": "2023-04-22T15:51:22.174269Z",
     "end_time": "2023-04-22T15:51:22.353160Z"
    }
   },
   "outputs": [],
   "source": [
    "import pandas\n",
    "import altair\n",
    "import numpy\n",
    "import matplotlib.pyplot as plt\n",
    "import geopandas as gpd\n",
    "import numpy as np"
   ]
  },
  {
   "cell_type": "markdown",
   "id": "1eb9f21d",
   "metadata": {},
   "source": [
    "# Complaints"
   ]
  },
  {
   "cell_type": "code",
   "execution_count": 27,
   "id": "3703e1ca",
   "metadata": {
    "ExecuteTime": {
     "start_time": "2023-04-22T15:51:22.210137Z",
     "end_time": "2023-04-22T15:52:22.480506Z"
    }
   },
   "outputs": [
    {
     "name": "stderr",
     "output_type": "stream",
     "text": [
      "C:\\Users\\Kaninik\\AppData\\Local\\Temp\\ipykernel_1592\\2623146973.py:1: DtypeWarning: Columns (18,20) have mixed types. Specify dtype option on import or set low_memory=False.\n",
      "  crime_data = pandas.read_csv(\"..\\\\NYPD_Complaint_Data_Historic.csv\")\n"
     ]
    }
   ],
   "source": [
    "crime_data = pandas.read_csv(\"..\\\\NYPD_Complaint_Data_Historic.csv\")"
   ]
  },
  {
   "cell_type": "code",
   "execution_count": 28,
   "id": "4b614d07",
   "metadata": {
    "ExecuteTime": {
     "start_time": "2023-04-22T15:52:22.513481Z",
     "end_time": "2023-04-22T15:52:31.467326Z"
    }
   },
   "outputs": [],
   "source": [
    "def make_categorical(dataframe, column):\n",
    "    # make the column of the dataframe categorical\n",
    "    dataframe[column] = dataframe[column].astype('category')\n",
    "\n",
    "# get a lst of all the columns in the dataframe that need to be categorical\n",
    "\n",
    "columns = ['ADDR_PCT_CD', 'BORO_NM', 'CRM_ATPT_CPTD_CD', 'HADEVELOPT', 'HOUSING_PSA', 'JURISDICTION_CODE', 'JURIS_DESC', 'KY_CD', 'LAW_CAT_CD', 'LOC_OF_OCCUR_DESC', 'OFNS_DESC', 'PARKS_NM', 'PATROL_BORO', 'PD_CD', 'PD_DESC', 'STATION_NAME', 'SUSP_RACE', 'SUSP_SEX', 'TRANSIT_DISTRICT', 'VIC_RACE', 'VIC_SEX']\n",
    "\n",
    "    # make each column categorical\n",
    "for column in columns:\n",
    "    make_categorical(crime_data, column)\n",
    "\n",
    "\n"
   ]
  },
  {
   "cell_type": "code",
   "execution_count": 29,
   "id": "38020087",
   "metadata": {
    "ExecuteTime": {
     "start_time": "2023-04-22T15:52:31.506328Z",
     "end_time": "2023-04-22T15:52:32.663714Z"
    }
   },
   "outputs": [
    {
     "name": "stdout",
     "output_type": "stream",
     "text": [
      "         CMPLNT_NUM CMPLNT_FR_DT CMPLNT_FR_TM CMPLNT_TO_DT CMPLNT_TO_TM   \n",
      "0         506547392   03/29/2018     20:30:00          NaN          NaN  \\\n",
      "1         629632833   02/06/2018     23:15:00          NaN          NaN   \n",
      "2         787203902   11/21/2018     00:15:00   11/21/2018     00:20:00   \n",
      "3         280364018   06/09/2018     21:42:00   06/09/2018     21:43:00   \n",
      "4         985800320   11/10/2018     19:40:00   11/10/2018     19:45:00   \n",
      "...             ...          ...          ...          ...          ...   \n",
      "7825494   104527061   05/01/2008     18:55:00   05/01/2018     19:00:00   \n",
      "7825495   284201488   05/18/2018     14:50:00   05/18/2018     14:55:00   \n",
      "7825496   808565901   11/19/2018     02:25:00   11/19/2018     02:30:00   \n",
      "7825497   649441648   02/03/2018     10:02:00   02/03/2018     12:15:00   \n",
      "7825498   803166404   01/05/2018     14:40:00   01/05/2018     16:00:00   \n",
      "\n",
      "        ADDR_PCT_CD      RPT_DT KY_CD                       OFNS_DESC  PD_CD   \n",
      "0              32.0  03/30/2018   351  CRIMINAL MISCHIEF & RELATED OF  254.0  \\\n",
      "1              52.0  02/07/2018   341                   PETIT LARCENY  333.0   \n",
      "2              75.0  11/21/2018   341                   PETIT LARCENY  321.0   \n",
      "3              10.0  06/10/2018   361   OFF. AGNST PUB ORD SENSBLTY &  639.0   \n",
      "4              19.0  11/10/2018   341                   PETIT LARCENY  333.0   \n",
      "...             ...         ...   ...                             ...    ...   \n",
      "7825494        10.0  05/01/2018   235                 DANGEROUS DRUGS  511.0   \n",
      "7825495       122.0  05/22/2018   344    ASSAULT 3 & RELATED OFFENSES  101.0   \n",
      "7825496       110.0  11/19/2018   109                   GRAND LARCENY  421.0   \n",
      "7825497       122.0  02/03/2018   578                   HARRASSMENT 2  638.0   \n",
      "7825498        79.0  01/08/2018   233                      SEX CRIMES  175.0   \n",
      "\n",
      "         ... SUSP_SEX TRANSIT_DISTRICT   Latitude  Longitude   \n",
      "0        ...      NaN              NaN  40.810877 -73.941064  \\\n",
      "1        ...        F              NaN  40.873671 -73.908014   \n",
      "2        ...        F              NaN  40.651782 -73.885457   \n",
      "3        ...        M              NaN  40.759310 -73.994706   \n",
      "4        ...        F              NaN  40.764536 -73.970728   \n",
      "...      ...      ...              ...        ...        ...   \n",
      "7825494  ...        F              NaN  40.756788 -73.996540   \n",
      "7825495  ...        M              NaN  40.577953 -74.102317   \n",
      "7825496  ...        M              NaN  40.743188 -73.862427   \n",
      "7825497  ...        F              NaN  40.593665 -74.089000   \n",
      "7825498  ...      NaN              NaN  40.688872 -73.944529   \n",
      "\n",
      "                               Lat_Lon                PATROL_BORO   \n",
      "0        (40.810877241, -73.941064151)      PATROL BORO MAN NORTH  \\\n",
      "1        (40.873671035, -73.908013649)          PATROL BORO BRONX   \n",
      "2        (40.651782232, -73.885456761)    PATROL BORO BKLYN NORTH   \n",
      "3        (40.759310399, -73.994706072)      PATROL BORO MAN SOUTH   \n",
      "4        (40.764535539, -73.970728388)      PATROL BORO MAN NORTH   \n",
      "...                                ...                        ...   \n",
      "7825494  (40.756788048, -73.996539912)      PATROL BORO MAN SOUTH   \n",
      "7825495  (40.577953265, -74.102316756)  PATROL BORO STATEN ISLAND   \n",
      "7825496  (40.743188053, -73.862427079)   PATROL BORO QUEENS NORTH   \n",
      "7825497  (40.593664627, -74.089000194)  PATROL BORO STATEN ISLAND   \n",
      "7825498  (40.688872153, -73.944529032)    PATROL BORO BKLYN NORTH   \n",
      "\n",
      "        STATION_NAME VIC_AGE_GROUP                  VIC_RACE VIC_SEX  \n",
      "0                NaN         25-44                     WHITE       F  \n",
      "1                NaN       UNKNOWN                   UNKNOWN       D  \n",
      "2                NaN       UNKNOWN                   UNKNOWN       D  \n",
      "3                NaN         18-24            WHITE HISPANIC       F  \n",
      "4                NaN       UNKNOWN                   UNKNOWN       D  \n",
      "...              ...           ...                       ...     ...  \n",
      "7825494          NaN       UNKNOWN                   UNKNOWN       E  \n",
      "7825495          NaN           <18            WHITE HISPANIC       M  \n",
      "7825496          NaN         25-44  ASIAN / PACIFIC ISLANDER       M  \n",
      "7825497          NaN         45-64                     WHITE       M  \n",
      "7825498          NaN           <18                     WHITE       F  \n",
      "\n",
      "[7825499 rows x 35 columns]\n"
     ]
    }
   ],
   "source": [
    "print(crime_data)"
   ]
  },
  {
   "cell_type": "code",
   "execution_count": 30,
   "id": "f15fb458",
   "metadata": {
    "ExecuteTime": {
     "start_time": "2023-04-22T15:52:32.668727Z",
     "end_time": "2023-04-22T15:53:03.825949Z"
    }
   },
   "outputs": [
    {
     "name": "stdout",
     "output_type": "stream",
     "text": [
      "         CMPLNT_NUM CMPLNT_FR_DT CMPLNT_FR_TM CMPLNT_TO_DT CMPLNT_TO_TM   \n",
      "0         506547392   03/29/2018     20:30:00          NaN          NaN  \\\n",
      "1         629632833   02/06/2018     23:15:00          NaN          NaN   \n",
      "2         787203902   11/21/2018     00:15:00   11/21/2018     00:20:00   \n",
      "3         280364018   06/09/2018     21:42:00   06/09/2018     21:43:00   \n",
      "4         985800320   11/10/2018     19:40:00   11/10/2018     19:45:00   \n",
      "...             ...          ...          ...          ...          ...   \n",
      "7825494   104527061   05/01/2008     18:55:00   05/01/2018     19:00:00   \n",
      "7825495   284201488   05/18/2018     14:50:00   05/18/2018     14:55:00   \n",
      "7825496   808565901   11/19/2018     02:25:00   11/19/2018     02:30:00   \n",
      "7825497   649441648   02/03/2018     10:02:00   02/03/2018     12:15:00   \n",
      "7825498   803166404   01/05/2018     14:40:00   01/05/2018     16:00:00   \n",
      "\n",
      "        ADDR_PCT_CD      RPT_DT KY_CD                       OFNS_DESC  PD_CD   \n",
      "0              32.0  03/30/2018   351  CRIMINAL MISCHIEF & RELATED OF  254.0  \\\n",
      "1              52.0  02/07/2018   341                   PETIT LARCENY  333.0   \n",
      "2              75.0  11/21/2018   341                   PETIT LARCENY  321.0   \n",
      "3              10.0  06/10/2018   361   OFF. AGNST PUB ORD SENSBLTY &  639.0   \n",
      "4              19.0  11/10/2018   341                   PETIT LARCENY  333.0   \n",
      "...             ...         ...   ...                             ...    ...   \n",
      "7825494        10.0  05/01/2018   235                 DANGEROUS DRUGS  511.0   \n",
      "7825495       122.0  05/22/2018   344    ASSAULT 3 & RELATED OFFENSES  101.0   \n",
      "7825496       110.0  11/19/2018   109                   GRAND LARCENY  421.0   \n",
      "7825497       122.0  02/03/2018   578                   HARRASSMENT 2  638.0   \n",
      "7825498        79.0  01/08/2018   233                      SEX CRIMES  175.0   \n",
      "\n",
      "         ... SUSP_SEX TRANSIT_DISTRICT   Latitude  Longitude   \n",
      "0        ...      NaN              NaN  40.810877 -73.941064  \\\n",
      "1        ...        F              NaN  40.873671 -73.908014   \n",
      "2        ...        F              NaN  40.651782 -73.885457   \n",
      "3        ...        M              NaN  40.759310 -73.994706   \n",
      "4        ...        F              NaN  40.764536 -73.970728   \n",
      "...      ...      ...              ...        ...        ...   \n",
      "7825494  ...        F              NaN  40.756788 -73.996540   \n",
      "7825495  ...        M              NaN  40.577953 -74.102317   \n",
      "7825496  ...        M              NaN  40.743188 -73.862427   \n",
      "7825497  ...        F              NaN  40.593665 -74.089000   \n",
      "7825498  ...      NaN              NaN  40.688872 -73.944529   \n",
      "\n",
      "                               Lat_Lon                PATROL_BORO   \n",
      "0        (40.810877241, -73.941064151)      PATROL BORO MAN NORTH  \\\n",
      "1        (40.873671035, -73.908013649)          PATROL BORO BRONX   \n",
      "2        (40.651782232, -73.885456761)    PATROL BORO BKLYN NORTH   \n",
      "3        (40.759310399, -73.994706072)      PATROL BORO MAN SOUTH   \n",
      "4        (40.764535539, -73.970728388)      PATROL BORO MAN NORTH   \n",
      "...                                ...                        ...   \n",
      "7825494  (40.756788048, -73.996539912)      PATROL BORO MAN SOUTH   \n",
      "7825495  (40.577953265, -74.102316756)  PATROL BORO STATEN ISLAND   \n",
      "7825496  (40.743188053, -73.862427079)   PATROL BORO QUEENS NORTH   \n",
      "7825497  (40.593664627, -74.089000194)  PATROL BORO STATEN ISLAND   \n",
      "7825498  (40.688872153, -73.944529032)    PATROL BORO BKLYN NORTH   \n",
      "\n",
      "        STATION_NAME VIC_AGE_GROUP                  VIC_RACE VIC_SEX  \n",
      "0                NaN         25-44                     WHITE       F  \n",
      "1                NaN       UNKNOWN                   UNKNOWN       D  \n",
      "2                NaN       UNKNOWN                   UNKNOWN       D  \n",
      "3                NaN         18-24            WHITE HISPANIC       F  \n",
      "4                NaN       UNKNOWN                   UNKNOWN       D  \n",
      "...              ...           ...                       ...     ...  \n",
      "7825494          NaN       UNKNOWN                   UNKNOWN       E  \n",
      "7825495          NaN           <18            WHITE HISPANIC       M  \n",
      "7825496          NaN         25-44  ASIAN / PACIFIC ISLANDER       M  \n",
      "7825497          NaN         45-64                     WHITE       M  \n",
      "7825498          NaN           <18                     WHITE       F  \n",
      "\n",
      "[7825499 rows x 35 columns]\n"
     ]
    }
   ],
   "source": [
    "#scrub for duplicate \n",
    "crime_data.drop_duplicates(inplace=True)\n",
    "print(crime_data)"
   ]
  },
  {
   "cell_type": "code",
   "execution_count": 31,
   "id": "1289030d",
   "metadata": {
    "ExecuteTime": {
     "start_time": "2023-04-22T15:53:03.826956Z",
     "end_time": "2023-04-22T15:53:04.352462Z"
    }
   },
   "outputs": [],
   "source": [
    "#scrub for irrelevant data (only use required columns)\n",
    "crime_data = crime_data[['CMPLNT_FR_DT','CMPLNT_FR_TM','Longitude','Latitude','VIC_SEX','VIC_RACE','VIC_AGE_GROUP']]\n"
   ]
  },
  {
   "cell_type": "code",
   "execution_count": 32,
   "id": "d14fd4e0",
   "metadata": {
    "ExecuteTime": {
     "start_time": "2023-04-22T15:53:04.355475Z",
     "end_time": "2023-04-22T15:53:04.387473Z"
    }
   },
   "outputs": [
    {
     "data": {
      "text/plain": "        CMPLNT_FR_DT CMPLNT_FR_TM  Longitude   Latitude VIC_SEX   \n0         03/29/2018     20:30:00 -73.941064  40.810877       F  \\\n1         02/06/2018     23:15:00 -73.908014  40.873671       D   \n2         11/21/2018     00:15:00 -73.885457  40.651782       D   \n3         06/09/2018     21:42:00 -73.994706  40.759310       F   \n4         11/10/2018     19:40:00 -73.970728  40.764536       D   \n...              ...          ...        ...        ...     ...   \n7825494   05/01/2008     18:55:00 -73.996540  40.756788       E   \n7825495   05/18/2018     14:50:00 -74.102317  40.577953       M   \n7825496   11/19/2018     02:25:00 -73.862427  40.743188       M   \n7825497   02/03/2018     10:02:00 -74.089000  40.593665       M   \n7825498   01/05/2018     14:40:00 -73.944529  40.688872       F   \n\n                         VIC_RACE VIC_AGE_GROUP  \n0                           WHITE         25-44  \n1                         UNKNOWN       UNKNOWN  \n2                         UNKNOWN       UNKNOWN  \n3                  WHITE HISPANIC         18-24  \n4                         UNKNOWN       UNKNOWN  \n...                           ...           ...  \n7825494                   UNKNOWN       UNKNOWN  \n7825495            WHITE HISPANIC           <18  \n7825496  ASIAN / PACIFIC ISLANDER         25-44  \n7825497                     WHITE         45-64  \n7825498                     WHITE           <18  \n\n[7825499 rows x 7 columns]",
      "text/html": "<div>\n<style scoped>\n    .dataframe tbody tr th:only-of-type {\n        vertical-align: middle;\n    }\n\n    .dataframe tbody tr th {\n        vertical-align: top;\n    }\n\n    .dataframe thead th {\n        text-align: right;\n    }\n</style>\n<table border=\"1\" class=\"dataframe\">\n  <thead>\n    <tr style=\"text-align: right;\">\n      <th></th>\n      <th>CMPLNT_FR_DT</th>\n      <th>CMPLNT_FR_TM</th>\n      <th>Longitude</th>\n      <th>Latitude</th>\n      <th>VIC_SEX</th>\n      <th>VIC_RACE</th>\n      <th>VIC_AGE_GROUP</th>\n    </tr>\n  </thead>\n  <tbody>\n    <tr>\n      <th>0</th>\n      <td>03/29/2018</td>\n      <td>20:30:00</td>\n      <td>-73.941064</td>\n      <td>40.810877</td>\n      <td>F</td>\n      <td>WHITE</td>\n      <td>25-44</td>\n    </tr>\n    <tr>\n      <th>1</th>\n      <td>02/06/2018</td>\n      <td>23:15:00</td>\n      <td>-73.908014</td>\n      <td>40.873671</td>\n      <td>D</td>\n      <td>UNKNOWN</td>\n      <td>UNKNOWN</td>\n    </tr>\n    <tr>\n      <th>2</th>\n      <td>11/21/2018</td>\n      <td>00:15:00</td>\n      <td>-73.885457</td>\n      <td>40.651782</td>\n      <td>D</td>\n      <td>UNKNOWN</td>\n      <td>UNKNOWN</td>\n    </tr>\n    <tr>\n      <th>3</th>\n      <td>06/09/2018</td>\n      <td>21:42:00</td>\n      <td>-73.994706</td>\n      <td>40.759310</td>\n      <td>F</td>\n      <td>WHITE HISPANIC</td>\n      <td>18-24</td>\n    </tr>\n    <tr>\n      <th>4</th>\n      <td>11/10/2018</td>\n      <td>19:40:00</td>\n      <td>-73.970728</td>\n      <td>40.764536</td>\n      <td>D</td>\n      <td>UNKNOWN</td>\n      <td>UNKNOWN</td>\n    </tr>\n    <tr>\n      <th>...</th>\n      <td>...</td>\n      <td>...</td>\n      <td>...</td>\n      <td>...</td>\n      <td>...</td>\n      <td>...</td>\n      <td>...</td>\n    </tr>\n    <tr>\n      <th>7825494</th>\n      <td>05/01/2008</td>\n      <td>18:55:00</td>\n      <td>-73.996540</td>\n      <td>40.756788</td>\n      <td>E</td>\n      <td>UNKNOWN</td>\n      <td>UNKNOWN</td>\n    </tr>\n    <tr>\n      <th>7825495</th>\n      <td>05/18/2018</td>\n      <td>14:50:00</td>\n      <td>-74.102317</td>\n      <td>40.577953</td>\n      <td>M</td>\n      <td>WHITE HISPANIC</td>\n      <td>&lt;18</td>\n    </tr>\n    <tr>\n      <th>7825496</th>\n      <td>11/19/2018</td>\n      <td>02:25:00</td>\n      <td>-73.862427</td>\n      <td>40.743188</td>\n      <td>M</td>\n      <td>ASIAN / PACIFIC ISLANDER</td>\n      <td>25-44</td>\n    </tr>\n    <tr>\n      <th>7825497</th>\n      <td>02/03/2018</td>\n      <td>10:02:00</td>\n      <td>-74.089000</td>\n      <td>40.593665</td>\n      <td>M</td>\n      <td>WHITE</td>\n      <td>45-64</td>\n    </tr>\n    <tr>\n      <th>7825498</th>\n      <td>01/05/2018</td>\n      <td>14:40:00</td>\n      <td>-73.944529</td>\n      <td>40.688872</td>\n      <td>F</td>\n      <td>WHITE</td>\n      <td>&lt;18</td>\n    </tr>\n  </tbody>\n</table>\n<p>7825499 rows × 7 columns</p>\n</div>"
     },
     "execution_count": 32,
     "metadata": {},
     "output_type": "execute_result"
    }
   ],
   "source": [
    "crime_data"
   ]
  },
  {
   "cell_type": "code",
   "execution_count": 33,
   "id": "0103bbc6",
   "metadata": {
    "ExecuteTime": {
     "start_time": "2023-04-22T15:53:04.990480Z",
     "end_time": "2023-04-22T15:53:05.097623Z"
    }
   },
   "outputs": [
    {
     "name": "stdout",
     "output_type": "stream",
     "text": [
      "CMPLNT_FR_DT         655\n",
      "CMPLNT_FR_TM          48\n",
      "Longitude          17339\n",
      "Latitude           17339\n",
      "VIC_SEX              308\n",
      "VIC_RACE             390\n",
      "VIC_AGE_GROUP    1638445\n",
      "dtype: int64\n"
     ]
    }
   ],
   "source": [
    "#unlike usual, all the rows with missing data is deleted beforehand, because there all the data is missing completely at random\n",
    "missing_counts = crime_data.isna().sum()\n",
    "\n",
    "print(missing_counts)"
   ]
  },
  {
   "cell_type": "code",
   "execution_count": 34,
   "id": "6ab38be8",
   "metadata": {
    "ExecuteTime": {
     "start_time": "2023-04-22T15:53:05.661624Z",
     "end_time": "2023-04-22T15:53:06.021332Z"
    }
   },
   "outputs": [
    {
     "name": "stdout",
     "output_type": "stream",
     "text": [
      "        CMPLNT_FR_DT CMPLNT_FR_TM  Longitude   Latitude VIC_SEX   \n",
      "0         03/29/2018     20:30:00 -73.941064  40.810877       F  \\\n",
      "1         02/06/2018     23:15:00 -73.908014  40.873671       D   \n",
      "2         11/21/2018     00:15:00 -73.885457  40.651782       D   \n",
      "3         06/09/2018     21:42:00 -73.994706  40.759310       F   \n",
      "4         11/10/2018     19:40:00 -73.970728  40.764536       D   \n",
      "...              ...          ...        ...        ...     ...   \n",
      "7825494   05/01/2008     18:55:00 -73.996540  40.756788       E   \n",
      "7825495   05/18/2018     14:50:00 -74.102317  40.577953       M   \n",
      "7825496   11/19/2018     02:25:00 -73.862427  40.743188       M   \n",
      "7825497   02/03/2018     10:02:00 -74.089000  40.593665       M   \n",
      "7825498   01/05/2018     14:40:00 -73.944529  40.688872       F   \n",
      "\n",
      "                         VIC_RACE VIC_AGE_GROUP  \n",
      "0                           WHITE         25-44  \n",
      "1                         UNKNOWN       UNKNOWN  \n",
      "2                         UNKNOWN       UNKNOWN  \n",
      "3                  WHITE HISPANIC         18-24  \n",
      "4                         UNKNOWN       UNKNOWN  \n",
      "...                           ...           ...  \n",
      "7825494                   UNKNOWN       UNKNOWN  \n",
      "7825495            WHITE HISPANIC           <18  \n",
      "7825496  ASIAN / PACIFIC ISLANDER         25-44  \n",
      "7825497                     WHITE         45-64  \n",
      "7825498                     WHITE           <18  \n",
      "\n",
      "[6173999 rows x 7 columns]\n"
     ]
    }
   ],
   "source": [
    "crime_data = crime_data.dropna(axis=0)\n",
    "\n",
    "print(crime_data)"
   ]
  },
  {
   "cell_type": "code",
   "execution_count": 35,
   "id": "2c6eabf4",
   "metadata": {
    "ExecuteTime": {
     "start_time": "2023-04-22T15:53:06.023330Z",
     "end_time": "2023-04-22T15:53:06.513915Z"
    }
   },
   "outputs": [
    {
     "name": "stdout",
     "output_type": "stream",
     "text": [
      "CMPLNT_FR_DT     0\n",
      "CMPLNT_FR_TM     0\n",
      "Longitude        0\n",
      "Latitude         0\n",
      "VIC_SEX          0\n",
      "VIC_RACE         0\n",
      "VIC_AGE_GROUP    0\n",
      "dtype: int64\n"
     ]
    }
   ],
   "source": [
    "#unlike usual, all the rows with missing data is deleted beforehand, because there all the data is missing completely at random\n",
    "missing_counts = crime_data.isna().sum()\n",
    "\n",
    "print(missing_counts)"
   ]
  },
  {
   "cell_type": "markdown",
   "id": "93169f35",
   "metadata": {},
   "source": [
    "# CMPLNT_FR_DT\n"
   ]
  },
  {
   "cell_type": "code",
   "execution_count": 36,
   "id": "13895f2c",
   "metadata": {
    "ExecuteTime": {
     "start_time": "2023-04-22T15:53:06.571019Z",
     "end_time": "2023-04-22T15:56:18.997042Z"
    }
   },
   "outputs": [
    {
     "name": "stderr",
     "output_type": "stream",
     "text": [
      "C:\\Users\\Kaninik\\AppData\\Local\\Temp\\ipykernel_1592\\132670575.py:1: SettingWithCopyWarning: \n",
      "A value is trying to be set on a copy of a slice from a DataFrame.\n",
      "Try using .loc[row_indexer,col_indexer] = value instead\n",
      "\n",
      "See the caveats in the documentation: https://pandas.pydata.org/pandas-docs/stable/user_guide/indexing.html#returning-a-view-versus-a-copy\n",
      "  crime_data[['month','day','year']] = crime_data['CMPLNT_FR_DT'].str.split('/',expand=True).astype(int)\n",
      "C:\\Users\\Kaninik\\AppData\\Local\\Temp\\ipykernel_1592\\132670575.py:1: SettingWithCopyWarning: \n",
      "A value is trying to be set on a copy of a slice from a DataFrame.\n",
      "Try using .loc[row_indexer,col_indexer] = value instead\n",
      "\n",
      "See the caveats in the documentation: https://pandas.pydata.org/pandas-docs/stable/user_guide/indexing.html#returning-a-view-versus-a-copy\n",
      "  crime_data[['month','day','year']] = crime_data['CMPLNT_FR_DT'].str.split('/',expand=True).astype(int)\n",
      "C:\\Users\\Kaninik\\AppData\\Local\\Temp\\ipykernel_1592\\132670575.py:1: SettingWithCopyWarning: \n",
      "A value is trying to be set on a copy of a slice from a DataFrame.\n",
      "Try using .loc[row_indexer,col_indexer] = value instead\n",
      "\n",
      "See the caveats in the documentation: https://pandas.pydata.org/pandas-docs/stable/user_guide/indexing.html#returning-a-view-versus-a-copy\n",
      "  crime_data[['month','day','year']] = crime_data['CMPLNT_FR_DT'].str.split('/',expand=True).astype(int)\n"
     ]
    }
   ],
   "source": [
    "crime_data[['month','day','year']] = crime_data['CMPLNT_FR_DT'].str.split('/',expand=True).astype(int)"
   ]
  },
  {
   "cell_type": "code",
   "execution_count": 37,
   "id": "ec74eae9",
   "metadata": {
    "ExecuteTime": {
     "start_time": "2023-04-22T15:56:18.999036Z",
     "end_time": "2023-04-22T15:56:19.056258Z"
    }
   },
   "outputs": [
    {
     "data": {
      "text/plain": "        CMPLNT_FR_DT CMPLNT_FR_TM  Longitude   Latitude VIC_SEX   \n0         03/29/2018     20:30:00 -73.941064  40.810877       F  \\\n1         02/06/2018     23:15:00 -73.908014  40.873671       D   \n2         11/21/2018     00:15:00 -73.885457  40.651782       D   \n3         06/09/2018     21:42:00 -73.994706  40.759310       F   \n4         11/10/2018     19:40:00 -73.970728  40.764536       D   \n...              ...          ...        ...        ...     ...   \n7825494   05/01/2008     18:55:00 -73.996540  40.756788       E   \n7825495   05/18/2018     14:50:00 -74.102317  40.577953       M   \n7825496   11/19/2018     02:25:00 -73.862427  40.743188       M   \n7825497   02/03/2018     10:02:00 -74.089000  40.593665       M   \n7825498   01/05/2018     14:40:00 -73.944529  40.688872       F   \n\n                         VIC_RACE VIC_AGE_GROUP  month  day  year  \n0                           WHITE         25-44      3   29  2018  \n1                         UNKNOWN       UNKNOWN      2    6  2018  \n2                         UNKNOWN       UNKNOWN     11   21  2018  \n3                  WHITE HISPANIC         18-24      6    9  2018  \n4                         UNKNOWN       UNKNOWN     11   10  2018  \n...                           ...           ...    ...  ...   ...  \n7825494                   UNKNOWN       UNKNOWN      5    1  2008  \n7825495            WHITE HISPANIC           <18      5   18  2018  \n7825496  ASIAN / PACIFIC ISLANDER         25-44     11   19  2018  \n7825497                     WHITE         45-64      2    3  2018  \n7825498                     WHITE           <18      1    5  2018  \n\n[6173999 rows x 10 columns]",
      "text/html": "<div>\n<style scoped>\n    .dataframe tbody tr th:only-of-type {\n        vertical-align: middle;\n    }\n\n    .dataframe tbody tr th {\n        vertical-align: top;\n    }\n\n    .dataframe thead th {\n        text-align: right;\n    }\n</style>\n<table border=\"1\" class=\"dataframe\">\n  <thead>\n    <tr style=\"text-align: right;\">\n      <th></th>\n      <th>CMPLNT_FR_DT</th>\n      <th>CMPLNT_FR_TM</th>\n      <th>Longitude</th>\n      <th>Latitude</th>\n      <th>VIC_SEX</th>\n      <th>VIC_RACE</th>\n      <th>VIC_AGE_GROUP</th>\n      <th>month</th>\n      <th>day</th>\n      <th>year</th>\n    </tr>\n  </thead>\n  <tbody>\n    <tr>\n      <th>0</th>\n      <td>03/29/2018</td>\n      <td>20:30:00</td>\n      <td>-73.941064</td>\n      <td>40.810877</td>\n      <td>F</td>\n      <td>WHITE</td>\n      <td>25-44</td>\n      <td>3</td>\n      <td>29</td>\n      <td>2018</td>\n    </tr>\n    <tr>\n      <th>1</th>\n      <td>02/06/2018</td>\n      <td>23:15:00</td>\n      <td>-73.908014</td>\n      <td>40.873671</td>\n      <td>D</td>\n      <td>UNKNOWN</td>\n      <td>UNKNOWN</td>\n      <td>2</td>\n      <td>6</td>\n      <td>2018</td>\n    </tr>\n    <tr>\n      <th>2</th>\n      <td>11/21/2018</td>\n      <td>00:15:00</td>\n      <td>-73.885457</td>\n      <td>40.651782</td>\n      <td>D</td>\n      <td>UNKNOWN</td>\n      <td>UNKNOWN</td>\n      <td>11</td>\n      <td>21</td>\n      <td>2018</td>\n    </tr>\n    <tr>\n      <th>3</th>\n      <td>06/09/2018</td>\n      <td>21:42:00</td>\n      <td>-73.994706</td>\n      <td>40.759310</td>\n      <td>F</td>\n      <td>WHITE HISPANIC</td>\n      <td>18-24</td>\n      <td>6</td>\n      <td>9</td>\n      <td>2018</td>\n    </tr>\n    <tr>\n      <th>4</th>\n      <td>11/10/2018</td>\n      <td>19:40:00</td>\n      <td>-73.970728</td>\n      <td>40.764536</td>\n      <td>D</td>\n      <td>UNKNOWN</td>\n      <td>UNKNOWN</td>\n      <td>11</td>\n      <td>10</td>\n      <td>2018</td>\n    </tr>\n    <tr>\n      <th>...</th>\n      <td>...</td>\n      <td>...</td>\n      <td>...</td>\n      <td>...</td>\n      <td>...</td>\n      <td>...</td>\n      <td>...</td>\n      <td>...</td>\n      <td>...</td>\n      <td>...</td>\n    </tr>\n    <tr>\n      <th>7825494</th>\n      <td>05/01/2008</td>\n      <td>18:55:00</td>\n      <td>-73.996540</td>\n      <td>40.756788</td>\n      <td>E</td>\n      <td>UNKNOWN</td>\n      <td>UNKNOWN</td>\n      <td>5</td>\n      <td>1</td>\n      <td>2008</td>\n    </tr>\n    <tr>\n      <th>7825495</th>\n      <td>05/18/2018</td>\n      <td>14:50:00</td>\n      <td>-74.102317</td>\n      <td>40.577953</td>\n      <td>M</td>\n      <td>WHITE HISPANIC</td>\n      <td>&lt;18</td>\n      <td>5</td>\n      <td>18</td>\n      <td>2018</td>\n    </tr>\n    <tr>\n      <th>7825496</th>\n      <td>11/19/2018</td>\n      <td>02:25:00</td>\n      <td>-73.862427</td>\n      <td>40.743188</td>\n      <td>M</td>\n      <td>ASIAN / PACIFIC ISLANDER</td>\n      <td>25-44</td>\n      <td>11</td>\n      <td>19</td>\n      <td>2018</td>\n    </tr>\n    <tr>\n      <th>7825497</th>\n      <td>02/03/2018</td>\n      <td>10:02:00</td>\n      <td>-74.089000</td>\n      <td>40.593665</td>\n      <td>M</td>\n      <td>WHITE</td>\n      <td>45-64</td>\n      <td>2</td>\n      <td>3</td>\n      <td>2018</td>\n    </tr>\n    <tr>\n      <th>7825498</th>\n      <td>01/05/2018</td>\n      <td>14:40:00</td>\n      <td>-73.944529</td>\n      <td>40.688872</td>\n      <td>F</td>\n      <td>WHITE</td>\n      <td>&lt;18</td>\n      <td>1</td>\n      <td>5</td>\n      <td>2018</td>\n    </tr>\n  </tbody>\n</table>\n<p>6173999 rows × 10 columns</p>\n</div>"
     },
     "execution_count": 37,
     "metadata": {},
     "output_type": "execute_result"
    }
   ],
   "source": [
    "crime_data"
   ]
  },
  {
   "cell_type": "code",
   "execution_count": 38,
   "id": "e16a7966",
   "metadata": {
    "ExecuteTime": {
     "start_time": "2023-04-22T15:56:19.030191Z",
     "end_time": "2023-04-22T15:56:19.385087Z"
    }
   },
   "outputs": [],
   "source": [
    "crime_data = crime_data.loc[crime_data['year'] >= 2006]"
   ]
  },
  {
   "cell_type": "code",
   "execution_count": 39,
   "id": "9fc33878",
   "metadata": {
    "ExecuteTime": {
     "start_time": "2023-04-22T15:56:19.538084Z",
     "end_time": "2023-04-22T15:56:20.632865Z"
    }
   },
   "outputs": [
    {
     "name": "stderr",
     "output_type": "stream",
     "text": [
      "C:\\Users\\Kaninik\\AppData\\Local\\Temp\\ipykernel_1592\\3461495595.py:1: SettingWithCopyWarning: \n",
      "A value is trying to be set on a copy of a slice from a DataFrame.\n",
      "Try using .loc[row_indexer,col_indexer] = value instead\n",
      "\n",
      "See the caveats in the documentation: https://pandas.pydata.org/pandas-docs/stable/user_guide/indexing.html#returning-a-view-versus-a-copy\n",
      "  crime_data['CMPLNT_FR_DT'] = pandas.to_datetime(crime_data['CMPLNT_FR_DT'], format='%m/%d/%Y')\n",
      "C:\\Users\\Kaninik\\AppData\\Local\\Temp\\ipykernel_1592\\3461495595.py:2: SettingWithCopyWarning: \n",
      "A value is trying to be set on a copy of a slice from a DataFrame.\n",
      "Try using .loc[row_indexer,col_indexer] = value instead\n",
      "\n",
      "See the caveats in the documentation: https://pandas.pydata.org/pandas-docs/stable/user_guide/indexing.html#returning-a-view-versus-a-copy\n",
      "  crime_data['day_of_week'] = crime_data['CMPLNT_FR_DT'].dt.dayofweek\n"
     ]
    }
   ],
   "source": [
    "crime_data['CMPLNT_FR_DT'] = pandas.to_datetime(crime_data['CMPLNT_FR_DT'], format='%m/%d/%Y')\n",
    "crime_data['day_of_week'] = crime_data['CMPLNT_FR_DT'].dt.dayofweek"
   ]
  },
  {
   "cell_type": "code",
   "execution_count": 40,
   "id": "7abb0b0b",
   "metadata": {
    "ExecuteTime": {
     "start_time": "2023-04-22T15:56:20.621850Z",
     "end_time": "2023-04-22T15:56:21.086384Z"
    }
   },
   "outputs": [
    {
     "data": {
      "text/plain": "        CMPLNT_FR_TM  Longitude   Latitude VIC_SEX                  VIC_RACE   \n0           20:30:00 -73.941064  40.810877       F                     WHITE  \\\n1           23:15:00 -73.908014  40.873671       D                   UNKNOWN   \n2           00:15:00 -73.885457  40.651782       D                   UNKNOWN   \n3           21:42:00 -73.994706  40.759310       F            WHITE HISPANIC   \n4           19:40:00 -73.970728  40.764536       D                   UNKNOWN   \n...              ...        ...        ...     ...                       ...   \n7825494     18:55:00 -73.996540  40.756788       E                   UNKNOWN   \n7825495     14:50:00 -74.102317  40.577953       M            WHITE HISPANIC   \n7825496     02:25:00 -73.862427  40.743188       M  ASIAN / PACIFIC ISLANDER   \n7825497     10:02:00 -74.089000  40.593665       M                     WHITE   \n7825498     14:40:00 -73.944529  40.688872       F                     WHITE   \n\n        VIC_AGE_GROUP  year  day_of_week  \n0               25-44  2018            3  \n1             UNKNOWN  2018            1  \n2             UNKNOWN  2018            2  \n3               18-24  2018            5  \n4             UNKNOWN  2018            5  \n...               ...   ...          ...  \n7825494       UNKNOWN  2008            3  \n7825495           <18  2018            4  \n7825496         25-44  2018            0  \n7825497         45-64  2018            5  \n7825498           <18  2018            4  \n\n[6157611 rows x 8 columns]",
      "text/html": "<div>\n<style scoped>\n    .dataframe tbody tr th:only-of-type {\n        vertical-align: middle;\n    }\n\n    .dataframe tbody tr th {\n        vertical-align: top;\n    }\n\n    .dataframe thead th {\n        text-align: right;\n    }\n</style>\n<table border=\"1\" class=\"dataframe\">\n  <thead>\n    <tr style=\"text-align: right;\">\n      <th></th>\n      <th>CMPLNT_FR_TM</th>\n      <th>Longitude</th>\n      <th>Latitude</th>\n      <th>VIC_SEX</th>\n      <th>VIC_RACE</th>\n      <th>VIC_AGE_GROUP</th>\n      <th>year</th>\n      <th>day_of_week</th>\n    </tr>\n  </thead>\n  <tbody>\n    <tr>\n      <th>0</th>\n      <td>20:30:00</td>\n      <td>-73.941064</td>\n      <td>40.810877</td>\n      <td>F</td>\n      <td>WHITE</td>\n      <td>25-44</td>\n      <td>2018</td>\n      <td>3</td>\n    </tr>\n    <tr>\n      <th>1</th>\n      <td>23:15:00</td>\n      <td>-73.908014</td>\n      <td>40.873671</td>\n      <td>D</td>\n      <td>UNKNOWN</td>\n      <td>UNKNOWN</td>\n      <td>2018</td>\n      <td>1</td>\n    </tr>\n    <tr>\n      <th>2</th>\n      <td>00:15:00</td>\n      <td>-73.885457</td>\n      <td>40.651782</td>\n      <td>D</td>\n      <td>UNKNOWN</td>\n      <td>UNKNOWN</td>\n      <td>2018</td>\n      <td>2</td>\n    </tr>\n    <tr>\n      <th>3</th>\n      <td>21:42:00</td>\n      <td>-73.994706</td>\n      <td>40.759310</td>\n      <td>F</td>\n      <td>WHITE HISPANIC</td>\n      <td>18-24</td>\n      <td>2018</td>\n      <td>5</td>\n    </tr>\n    <tr>\n      <th>4</th>\n      <td>19:40:00</td>\n      <td>-73.970728</td>\n      <td>40.764536</td>\n      <td>D</td>\n      <td>UNKNOWN</td>\n      <td>UNKNOWN</td>\n      <td>2018</td>\n      <td>5</td>\n    </tr>\n    <tr>\n      <th>...</th>\n      <td>...</td>\n      <td>...</td>\n      <td>...</td>\n      <td>...</td>\n      <td>...</td>\n      <td>...</td>\n      <td>...</td>\n      <td>...</td>\n    </tr>\n    <tr>\n      <th>7825494</th>\n      <td>18:55:00</td>\n      <td>-73.996540</td>\n      <td>40.756788</td>\n      <td>E</td>\n      <td>UNKNOWN</td>\n      <td>UNKNOWN</td>\n      <td>2008</td>\n      <td>3</td>\n    </tr>\n    <tr>\n      <th>7825495</th>\n      <td>14:50:00</td>\n      <td>-74.102317</td>\n      <td>40.577953</td>\n      <td>M</td>\n      <td>WHITE HISPANIC</td>\n      <td>&lt;18</td>\n      <td>2018</td>\n      <td>4</td>\n    </tr>\n    <tr>\n      <th>7825496</th>\n      <td>02:25:00</td>\n      <td>-73.862427</td>\n      <td>40.743188</td>\n      <td>M</td>\n      <td>ASIAN / PACIFIC ISLANDER</td>\n      <td>25-44</td>\n      <td>2018</td>\n      <td>0</td>\n    </tr>\n    <tr>\n      <th>7825497</th>\n      <td>10:02:00</td>\n      <td>-74.089000</td>\n      <td>40.593665</td>\n      <td>M</td>\n      <td>WHITE</td>\n      <td>45-64</td>\n      <td>2018</td>\n      <td>5</td>\n    </tr>\n    <tr>\n      <th>7825498</th>\n      <td>14:40:00</td>\n      <td>-73.944529</td>\n      <td>40.688872</td>\n      <td>F</td>\n      <td>WHITE</td>\n      <td>&lt;18</td>\n      <td>2018</td>\n      <td>4</td>\n    </tr>\n  </tbody>\n</table>\n<p>6157611 rows × 8 columns</p>\n</div>"
     },
     "execution_count": 40,
     "metadata": {},
     "output_type": "execute_result"
    }
   ],
   "source": [
    "crime_data = crime_data.drop('CMPLNT_FR_DT', axis=1)\n",
    "crime_data = crime_data.drop('month', axis=1)\n",
    "crime_data = crime_data.drop('day', axis=1)\n",
    "crime_data"
   ]
  },
  {
   "cell_type": "markdown",
   "id": "fdc27884",
   "metadata": {},
   "source": [
    "# CMPLNT_FR_TM"
   ]
  },
  {
   "cell_type": "code",
   "execution_count": 41,
   "id": "915f5d3b",
   "metadata": {
    "ExecuteTime": {
     "start_time": "2023-04-22T15:56:21.090390Z",
     "end_time": "2023-04-22T15:56:37.887995Z"
    }
   },
   "outputs": [],
   "source": [
    "crime_data[['hour','minute','second']] = crime_data['CMPLNT_FR_TM'].str.split(':',expand=True).astype(int)"
   ]
  },
  {
   "cell_type": "code",
   "execution_count": 42,
   "id": "94b26c00",
   "metadata": {
    "ExecuteTime": {
     "start_time": "2023-04-22T15:56:37.662999Z",
     "end_time": "2023-04-22T15:56:38.800030Z"
    }
   },
   "outputs": [
    {
     "data": {
      "text/plain": "         Longitude   Latitude VIC_SEX                  VIC_RACE VIC_AGE_GROUP   \n0       -73.941064  40.810877       F                     WHITE         25-44  \\\n1       -73.908014  40.873671       D                   UNKNOWN       UNKNOWN   \n2       -73.885457  40.651782       D                   UNKNOWN       UNKNOWN   \n3       -73.994706  40.759310       F            WHITE HISPANIC         18-24   \n4       -73.970728  40.764536       D                   UNKNOWN       UNKNOWN   \n...            ...        ...     ...                       ...           ...   \n7825494 -73.996540  40.756788       E                   UNKNOWN       UNKNOWN   \n7825495 -74.102317  40.577953       M            WHITE HISPANIC           <18   \n7825496 -73.862427  40.743188       M  ASIAN / PACIFIC ISLANDER         25-44   \n7825497 -74.089000  40.593665       M                     WHITE         45-64   \n7825498 -73.944529  40.688872       F                     WHITE           <18   \n\n         year  day_of_week  hour  \n0        2018            3    20  \n1        2018            1    23  \n2        2018            2     0  \n3        2018            5    21  \n4        2018            5    19  \n...       ...          ...   ...  \n7825494  2008            3    18  \n7825495  2018            4    14  \n7825496  2018            0     2  \n7825497  2018            5    10  \n7825498  2018            4    14  \n\n[6157611 rows x 8 columns]",
      "text/html": "<div>\n<style scoped>\n    .dataframe tbody tr th:only-of-type {\n        vertical-align: middle;\n    }\n\n    .dataframe tbody tr th {\n        vertical-align: top;\n    }\n\n    .dataframe thead th {\n        text-align: right;\n    }\n</style>\n<table border=\"1\" class=\"dataframe\">\n  <thead>\n    <tr style=\"text-align: right;\">\n      <th></th>\n      <th>Longitude</th>\n      <th>Latitude</th>\n      <th>VIC_SEX</th>\n      <th>VIC_RACE</th>\n      <th>VIC_AGE_GROUP</th>\n      <th>year</th>\n      <th>day_of_week</th>\n      <th>hour</th>\n    </tr>\n  </thead>\n  <tbody>\n    <tr>\n      <th>0</th>\n      <td>-73.941064</td>\n      <td>40.810877</td>\n      <td>F</td>\n      <td>WHITE</td>\n      <td>25-44</td>\n      <td>2018</td>\n      <td>3</td>\n      <td>20</td>\n    </tr>\n    <tr>\n      <th>1</th>\n      <td>-73.908014</td>\n      <td>40.873671</td>\n      <td>D</td>\n      <td>UNKNOWN</td>\n      <td>UNKNOWN</td>\n      <td>2018</td>\n      <td>1</td>\n      <td>23</td>\n    </tr>\n    <tr>\n      <th>2</th>\n      <td>-73.885457</td>\n      <td>40.651782</td>\n      <td>D</td>\n      <td>UNKNOWN</td>\n      <td>UNKNOWN</td>\n      <td>2018</td>\n      <td>2</td>\n      <td>0</td>\n    </tr>\n    <tr>\n      <th>3</th>\n      <td>-73.994706</td>\n      <td>40.759310</td>\n      <td>F</td>\n      <td>WHITE HISPANIC</td>\n      <td>18-24</td>\n      <td>2018</td>\n      <td>5</td>\n      <td>21</td>\n    </tr>\n    <tr>\n      <th>4</th>\n      <td>-73.970728</td>\n      <td>40.764536</td>\n      <td>D</td>\n      <td>UNKNOWN</td>\n      <td>UNKNOWN</td>\n      <td>2018</td>\n      <td>5</td>\n      <td>19</td>\n    </tr>\n    <tr>\n      <th>...</th>\n      <td>...</td>\n      <td>...</td>\n      <td>...</td>\n      <td>...</td>\n      <td>...</td>\n      <td>...</td>\n      <td>...</td>\n      <td>...</td>\n    </tr>\n    <tr>\n      <th>7825494</th>\n      <td>-73.996540</td>\n      <td>40.756788</td>\n      <td>E</td>\n      <td>UNKNOWN</td>\n      <td>UNKNOWN</td>\n      <td>2008</td>\n      <td>3</td>\n      <td>18</td>\n    </tr>\n    <tr>\n      <th>7825495</th>\n      <td>-74.102317</td>\n      <td>40.577953</td>\n      <td>M</td>\n      <td>WHITE HISPANIC</td>\n      <td>&lt;18</td>\n      <td>2018</td>\n      <td>4</td>\n      <td>14</td>\n    </tr>\n    <tr>\n      <th>7825496</th>\n      <td>-73.862427</td>\n      <td>40.743188</td>\n      <td>M</td>\n      <td>ASIAN / PACIFIC ISLANDER</td>\n      <td>25-44</td>\n      <td>2018</td>\n      <td>0</td>\n      <td>2</td>\n    </tr>\n    <tr>\n      <th>7825497</th>\n      <td>-74.089000</td>\n      <td>40.593665</td>\n      <td>M</td>\n      <td>WHITE</td>\n      <td>45-64</td>\n      <td>2018</td>\n      <td>5</td>\n      <td>10</td>\n    </tr>\n    <tr>\n      <th>7825498</th>\n      <td>-73.944529</td>\n      <td>40.688872</td>\n      <td>F</td>\n      <td>WHITE</td>\n      <td>&lt;18</td>\n      <td>2018</td>\n      <td>4</td>\n      <td>14</td>\n    </tr>\n  </tbody>\n</table>\n<p>6157611 rows × 8 columns</p>\n</div>"
     },
     "execution_count": 42,
     "metadata": {},
     "output_type": "execute_result"
    }
   ],
   "source": [
    "crime_data = crime_data.drop('CMPLNT_FR_TM', axis=1)\n",
    "crime_data = crime_data.drop('second', axis=1)\n",
    "crime_data = crime_data.drop('minute', axis=1)\n",
    "crime_data"
   ]
  },
  {
   "cell_type": "markdown",
   "id": "2d773f98",
   "metadata": {},
   "source": [
    "# Longitude, Latitude"
   ]
  },
  {
   "cell_type": "code",
   "execution_count": 43,
   "outputs": [],
   "source": [
    "# Create a grid of points across the precincts to use as the center of the crime clusters\n",
    "# The size of the grid is n x n, where n is the number of points in each direction\n",
    "from shapely.geometry import Point, Polygon\n",
    "from rtree import index\n",
    "\n",
    "precint_footprint = gpd.read_file('..//data//Police Precincts.geojson')\n",
    "\n",
    "# get the bounds of the precincts\n",
    "min_x, min_y, max_x, max_y = precint_footprint.total_bounds\n",
    "\n",
    "idx = index.Index()\n",
    "for i, row in precint_footprint.iterrows():\n",
    "    idx.insert(i, row.geometry.bounds)\n",
    "\n",
    "grid_size = 100  # You can adjust this value\n",
    "x_points = np.linspace(min_x, max_x, grid_size)\n",
    "y_points = np.linspace(min_y, max_y, grid_size)\n",
    "\n",
    "# Round the points to 4 decimal places\n",
    "x_points = np.around(x_points, 4)\n",
    "y_points = np.around(y_points, 4)\n",
    "\n",
    "grid = [Point(x, y) for x in x_points for y in y_points]\n",
    "\n",
    "# drop the points that are not within the precincts\n",
    "def is_point_inside_precincts(point, precincts_gdf, idx):\n",
    "    for i in idx.intersection(point.bounds):\n",
    "        if point.within(precincts_gdf.iloc[i].geometry):\n",
    "            return True\n",
    "    return False\n",
    "\n",
    "filtered_grid = [point for point in grid if is_point_inside_precincts(point, precint_footprint, idx)]\n",
    "filtered_grid_df = pandas.DataFrame([(point.x, point.y) for point in filtered_grid], columns=['Longitude', 'Latitude'])\n",
    "#\n",
    "del grid\n",
    "del filtered_grid"
   ],
   "metadata": {
    "collapsed": false,
    "ExecuteTime": {
     "start_time": "2023-04-22T15:56:38.128994Z",
     "end_time": "2023-04-22T15:56:45.915864Z"
    }
   }
  },
  {
   "cell_type": "code",
   "execution_count": 44,
   "outputs": [],
   "source": [
    "def nearest_grid_point(coord, grid_points):\n",
    "    nearest_index = np.argmin(np.abs(coord - grid_points))\n",
    "    return grid_points[nearest_index]\n",
    "\n",
    "# Find the nearest grid point for the longitude and latitude coordinates using the defined function\n",
    "crime_data['Longitude'] = crime_data['Longitude'].apply(nearest_grid_point, grid_points=x_points)\n",
    "crime_data['Latitude'] = crime_data['Latitude'].apply(nearest_grid_point, grid_points=y_points)"
   ],
   "metadata": {
    "collapsed": false,
    "ExecuteTime": {
     "start_time": "2023-04-22T15:56:45.903861Z",
     "end_time": "2023-04-22T15:57:50.799030Z"
    }
   }
  },
  {
   "cell_type": "code",
   "execution_count": 45,
   "id": "988c3c6a",
   "metadata": {
    "ExecuteTime": {
     "start_time": "2023-04-22T15:57:50.824025Z",
     "end_time": "2023-04-22T15:58:24.815469Z"
    }
   },
   "outputs": [
    {
     "data": {
      "text/plain": "<matplotlib.collections.PathCollection at 0x1ef892a7ac0>"
     },
     "execution_count": 45,
     "metadata": {},
     "output_type": "execute_result"
    },
    {
     "data": {
      "text/plain": "<Figure size 640x480 with 1 Axes>",
      "image/png": "[encoded data removed]"
     },
     "metadata": {},
     "output_type": "display_data"
    }
   ],
   "source": [
    "plt.scatter(crime_data['Longitude'], crime_data['Latitude'])"
   ]
  },
  {
   "cell_type": "code",
   "execution_count": 46,
   "id": "10969aa9",
   "metadata": {
    "ExecuteTime": {
     "start_time": "2023-04-22T15:58:24.818473Z",
     "end_time": "2023-04-22T15:58:25.095521Z"
    }
   },
   "outputs": [],
   "source": [
    "crime_data = crime_data.loc[crime_data['Longitude'] > -74.5]"
   ]
  },
  {
   "cell_type": "code",
   "execution_count": 47,
   "id": "9247ab84",
   "metadata": {
    "ExecuteTime": {
     "start_time": "2023-04-22T15:58:25.098541Z",
     "end_time": "2023-04-22T15:58:25.386601Z"
    }
   },
   "outputs": [],
   "source": [
    "crime_data = crime_data.loc[crime_data['Latitude'] < 42.5]"
   ]
  },
  {
   "cell_type": "code",
   "execution_count": 48,
   "id": "6488b139",
   "metadata": {
    "ExecuteTime": {
     "start_time": "2023-04-22T15:58:25.388604Z",
     "end_time": "2023-04-22T15:58:25.427596Z"
    }
   },
   "outputs": [
    {
     "data": {
      "text/plain": "         Longitude  Latitude VIC_SEX                  VIC_RACE VIC_AGE_GROUP   \n0         -73.9413   40.8096       F                     WHITE         25-44  \\\n1         -73.9077   40.8732       D                   UNKNOWN       UNKNOWN   \n2         -73.8852   40.6529       D                   UNKNOWN       UNKNOWN   \n3         -73.9974   40.7588       F            WHITE HISPANIC         18-24   \n4         -73.9694   40.7630       D                   UNKNOWN       UNKNOWN   \n...            ...       ...     ...                       ...           ...   \n7825494   -73.9974   40.7588       E                   UNKNOWN       UNKNOWN   \n7825495   -74.1041   40.5766       M            WHITE HISPANIC           <18   \n7825496   -73.8628   40.7418       M  ASIAN / PACIFIC ISLANDER         25-44   \n7825497   -74.0872   40.5936       M                     WHITE         45-64   \n7825498   -73.9469   40.6868       F                     WHITE           <18   \n\n         year  day_of_week  hour  \n0        2018            3    20  \n1        2018            1    23  \n2        2018            2     0  \n3        2018            5    21  \n4        2018            5    19  \n...       ...          ...   ...  \n7825494  2008            3    18  \n7825495  2018            4    14  \n7825496  2018            0     2  \n7825497  2018            5    10  \n7825498  2018            4    14  \n\n[6157611 rows x 8 columns]",
      "text/html": "<div>\n<style scoped>\n    .dataframe tbody tr th:only-of-type {\n        vertical-align: middle;\n    }\n\n    .dataframe tbody tr th {\n        vertical-align: top;\n    }\n\n    .dataframe thead th {\n        text-align: right;\n    }\n</style>\n<table border=\"1\" class=\"dataframe\">\n  <thead>\n    <tr style=\"text-align: right;\">\n      <th></th>\n      <th>Longitude</th>\n      <th>Latitude</th>\n      <th>VIC_SEX</th>\n      <th>VIC_RACE</th>\n      <th>VIC_AGE_GROUP</th>\n      <th>year</th>\n      <th>day_of_week</th>\n      <th>hour</th>\n    </tr>\n  </thead>\n  <tbody>\n    <tr>\n      <th>0</th>\n      <td>-73.9413</td>\n      <td>40.8096</td>\n      <td>F</td>\n      <td>WHITE</td>\n      <td>25-44</td>\n      <td>2018</td>\n      <td>3</td>\n      <td>20</td>\n    </tr>\n    <tr>\n      <th>1</th>\n      <td>-73.9077</td>\n      <td>40.8732</td>\n      <td>D</td>\n      <td>UNKNOWN</td>\n      <td>UNKNOWN</td>\n      <td>2018</td>\n      <td>1</td>\n      <td>23</td>\n    </tr>\n    <tr>\n      <th>2</th>\n      <td>-73.8852</td>\n      <td>40.6529</td>\n      <td>D</td>\n      <td>UNKNOWN</td>\n      <td>UNKNOWN</td>\n      <td>2018</td>\n      <td>2</td>\n      <td>0</td>\n    </tr>\n    <tr>\n      <th>3</th>\n      <td>-73.9974</td>\n      <td>40.7588</td>\n      <td>F</td>\n      <td>WHITE HISPANIC</td>\n      <td>18-24</td>\n      <td>2018</td>\n      <td>5</td>\n      <td>21</td>\n    </tr>\n    <tr>\n      <th>4</th>\n      <td>-73.9694</td>\n      <td>40.7630</td>\n      <td>D</td>\n      <td>UNKNOWN</td>\n      <td>UNKNOWN</td>\n      <td>2018</td>\n      <td>5</td>\n      <td>19</td>\n    </tr>\n    <tr>\n      <th>...</th>\n      <td>...</td>\n      <td>...</td>\n      <td>...</td>\n      <td>...</td>\n      <td>...</td>\n      <td>...</td>\n      <td>...</td>\n      <td>...</td>\n    </tr>\n    <tr>\n      <th>7825494</th>\n      <td>-73.9974</td>\n      <td>40.7588</td>\n      <td>E</td>\n      <td>UNKNOWN</td>\n      <td>UNKNOWN</td>\n      <td>2008</td>\n      <td>3</td>\n      <td>18</td>\n    </tr>\n    <tr>\n      <th>7825495</th>\n      <td>-74.1041</td>\n      <td>40.5766</td>\n      <td>M</td>\n      <td>WHITE HISPANIC</td>\n      <td>&lt;18</td>\n      <td>2018</td>\n      <td>4</td>\n      <td>14</td>\n    </tr>\n    <tr>\n      <th>7825496</th>\n      <td>-73.8628</td>\n      <td>40.7418</td>\n      <td>M</td>\n      <td>ASIAN / PACIFIC ISLANDER</td>\n      <td>25-44</td>\n      <td>2018</td>\n      <td>0</td>\n      <td>2</td>\n    </tr>\n    <tr>\n      <th>7825497</th>\n      <td>-74.0872</td>\n      <td>40.5936</td>\n      <td>M</td>\n      <td>WHITE</td>\n      <td>45-64</td>\n      <td>2018</td>\n      <td>5</td>\n      <td>10</td>\n    </tr>\n    <tr>\n      <th>7825498</th>\n      <td>-73.9469</td>\n      <td>40.6868</td>\n      <td>F</td>\n      <td>WHITE</td>\n      <td>&lt;18</td>\n      <td>2018</td>\n      <td>4</td>\n      <td>14</td>\n    </tr>\n  </tbody>\n</table>\n<p>6157611 rows × 8 columns</p>\n</div>"
     },
     "execution_count": 48,
     "metadata": {},
     "output_type": "execute_result"
    }
   ],
   "source": [
    "crime_data"
   ]
  },
  {
   "cell_type": "markdown",
   "id": "7a471f25",
   "metadata": {},
   "source": [
    "# VIC_SEX"
   ]
  },
  {
   "cell_type": "code",
   "execution_count": 49,
   "id": "abd5dfa6",
   "metadata": {
    "ExecuteTime": {
     "start_time": "2023-04-22T15:58:25.420604Z",
     "end_time": "2023-04-22T15:58:25.582609Z"
    }
   },
   "outputs": [
    {
     "data": {
      "text/plain": "['F', 'D', 'E', 'M', 'U']\nCategories (5, object): ['D', 'E', 'F', 'M', 'U']"
     },
     "execution_count": 49,
     "metadata": {},
     "output_type": "execute_result"
    }
   ],
   "source": [
    "crime_data['VIC_SEX'].unique()"
   ]
  },
  {
   "cell_type": "code",
   "execution_count": 50,
   "id": "3e04b5a4",
   "metadata": {
    "ExecuteTime": {
     "start_time": "2023-04-22T15:58:25.465613Z",
     "end_time": "2023-04-22T15:58:25.923128Z"
    }
   },
   "outputs": [
    {
     "name": "stderr",
     "output_type": "stream",
     "text": [
      "C:\\Users\\Kaninik\\AppData\\Local\\Temp\\ipykernel_1592\\2297743256.py:6: SettingWithCopyWarning: \n",
      "A value is trying to be set on a copy of a slice from a DataFrame.\n",
      "Try using .loc[row_indexer,col_indexer] = value instead\n",
      "\n",
      "See the caveats in the documentation: https://pandas.pydata.org/pandas-docs/stable/user_guide/indexing.html#returning-a-view-versus-a-copy\n",
      "  crime_data['VIC_SEX'] = crime_data['VIC_SEX'].cat.remove_unused_categories()\n"
     ]
    },
    {
     "data": {
      "text/plain": "    Longitude  Latitude VIC_SEX        VIC_RACE VIC_AGE_GROUP  year   \n0    -73.9413   40.8096       F           WHITE         25-44  2018  \\\n3    -73.9974   40.7588       F  WHITE HISPANIC         18-24  2018   \n8    -73.9133   40.6359       M           BLACK           <18  2018   \n9    -73.9189   40.8266       F  WHITE HISPANIC         25-44  2018   \n10   -73.9525   40.8054       M           BLACK         25-44  2018   \n\n    day_of_week  hour  \n0             3    20  \n3             5    21  \n8             1    14  \n9             5    22  \n10            2    18  ",
      "text/html": "<div>\n<style scoped>\n    .dataframe tbody tr th:only-of-type {\n        vertical-align: middle;\n    }\n\n    .dataframe tbody tr th {\n        vertical-align: top;\n    }\n\n    .dataframe thead th {\n        text-align: right;\n    }\n</style>\n<table border=\"1\" class=\"dataframe\">\n  <thead>\n    <tr style=\"text-align: right;\">\n      <th></th>\n      <th>Longitude</th>\n      <th>Latitude</th>\n      <th>VIC_SEX</th>\n      <th>VIC_RACE</th>\n      <th>VIC_AGE_GROUP</th>\n      <th>year</th>\n      <th>day_of_week</th>\n      <th>hour</th>\n    </tr>\n  </thead>\n  <tbody>\n    <tr>\n      <th>0</th>\n      <td>-73.9413</td>\n      <td>40.8096</td>\n      <td>F</td>\n      <td>WHITE</td>\n      <td>25-44</td>\n      <td>2018</td>\n      <td>3</td>\n      <td>20</td>\n    </tr>\n    <tr>\n      <th>3</th>\n      <td>-73.9974</td>\n      <td>40.7588</td>\n      <td>F</td>\n      <td>WHITE HISPANIC</td>\n      <td>18-24</td>\n      <td>2018</td>\n      <td>5</td>\n      <td>21</td>\n    </tr>\n    <tr>\n      <th>8</th>\n      <td>-73.9133</td>\n      <td>40.6359</td>\n      <td>M</td>\n      <td>BLACK</td>\n      <td>&lt;18</td>\n      <td>2018</td>\n      <td>1</td>\n      <td>14</td>\n    </tr>\n    <tr>\n      <th>9</th>\n      <td>-73.9189</td>\n      <td>40.8266</td>\n      <td>F</td>\n      <td>WHITE HISPANIC</td>\n      <td>25-44</td>\n      <td>2018</td>\n      <td>5</td>\n      <td>22</td>\n    </tr>\n    <tr>\n      <th>10</th>\n      <td>-73.9525</td>\n      <td>40.8054</td>\n      <td>M</td>\n      <td>BLACK</td>\n      <td>25-44</td>\n      <td>2018</td>\n      <td>2</td>\n      <td>18</td>\n    </tr>\n  </tbody>\n</table>\n</div>"
     },
     "execution_count": 50,
     "metadata": {},
     "output_type": "execute_result"
    }
   ],
   "source": [
    "# Only keep the M and F sex values\n",
    "sexes = ['M', 'F']\n",
    "\n",
    "crime_data = crime_data.loc[crime_data['VIC_SEX'].isin(sexes)]\n",
    "# Re calculate the categories for the Sex column\n",
    "crime_data['VIC_SEX'] = crime_data['VIC_SEX'].cat.remove_unused_categories()\n",
    "\n",
    "del sexes\n",
    "crime_data.head(5)"
   ]
  },
  {
   "cell_type": "code",
   "execution_count": 51,
   "id": "3c350bc0",
   "metadata": {
    "ExecuteTime": {
     "start_time": "2023-04-22T15:58:25.924138Z",
     "end_time": "2023-04-22T15:58:26.020127Z"
    }
   },
   "outputs": [
    {
     "data": {
      "text/plain": "['F', 'M']\nCategories (2, object): ['F', 'M']"
     },
     "execution_count": 51,
     "metadata": {},
     "output_type": "execute_result"
    }
   ],
   "source": [
    "crime_data['VIC_SEX'].unique()"
   ]
  },
  {
   "cell_type": "markdown",
   "id": "0b35ae62",
   "metadata": {},
   "source": [
    "# VIC_RACE\n"
   ]
  },
  {
   "cell_type": "code",
   "execution_count": 52,
   "id": "8e9fca40",
   "metadata": {
    "ExecuteTime": {
     "start_time": "2023-04-22T15:58:25.971130Z",
     "end_time": "2023-04-22T15:58:26.040129Z"
    }
   },
   "outputs": [
    {
     "data": {
      "text/plain": "['WHITE', 'WHITE HISPANIC', 'BLACK', 'ASIAN / PACIFIC ISLANDER', 'BLACK HISPANIC', 'UNKNOWN', 'AMERICAN INDIAN/ALASKAN NATIVE', 'OTHER']\nCategories (8, object): ['AMERICAN INDIAN/ALASKAN NATIVE', 'ASIAN / PACIFIC ISLANDER', 'BLACK', 'BLACK HISPANIC', 'OTHER', 'UNKNOWN', 'WHITE', 'WHITE HISPANIC']"
     },
     "execution_count": 52,
     "metadata": {},
     "output_type": "execute_result"
    }
   ],
   "source": [
    "crime_data['VIC_RACE'].unique()"
   ]
  },
  {
   "cell_type": "code",
   "execution_count": 53,
   "id": "312d4a7a",
   "metadata": {
    "ExecuteTime": {
     "start_time": "2023-04-22T15:58:26.018132Z",
     "end_time": "2023-04-22T15:58:26.478147Z"
    }
   },
   "outputs": [
    {
     "data": {
      "text/plain": "    Longitude  Latitude VIC_SEX        VIC_RACE VIC_AGE_GROUP  year   \n0    -73.9413   40.8096       F           WHITE         25-44  2018  \\\n3    -73.9974   40.7588       F  WHITE HISPANIC         18-24  2018   \n8    -73.9133   40.6359       M           BLACK           <18  2018   \n9    -73.9189   40.8266       F  WHITE HISPANIC         25-44  2018   \n10   -73.9525   40.8054       M           BLACK         25-44  2018   \n\n    day_of_week  hour  \n0             3    20  \n3             5    21  \n8             1    14  \n9             5    22  \n10            2    18  ",
      "text/html": "<div>\n<style scoped>\n    .dataframe tbody tr th:only-of-type {\n        vertical-align: middle;\n    }\n\n    .dataframe tbody tr th {\n        vertical-align: top;\n    }\n\n    .dataframe thead th {\n        text-align: right;\n    }\n</style>\n<table border=\"1\" class=\"dataframe\">\n  <thead>\n    <tr style=\"text-align: right;\">\n      <th></th>\n      <th>Longitude</th>\n      <th>Latitude</th>\n      <th>VIC_SEX</th>\n      <th>VIC_RACE</th>\n      <th>VIC_AGE_GROUP</th>\n      <th>year</th>\n      <th>day_of_week</th>\n      <th>hour</th>\n    </tr>\n  </thead>\n  <tbody>\n    <tr>\n      <th>0</th>\n      <td>-73.9413</td>\n      <td>40.8096</td>\n      <td>F</td>\n      <td>WHITE</td>\n      <td>25-44</td>\n      <td>2018</td>\n      <td>3</td>\n      <td>20</td>\n    </tr>\n    <tr>\n      <th>3</th>\n      <td>-73.9974</td>\n      <td>40.7588</td>\n      <td>F</td>\n      <td>WHITE HISPANIC</td>\n      <td>18-24</td>\n      <td>2018</td>\n      <td>5</td>\n      <td>21</td>\n    </tr>\n    <tr>\n      <th>8</th>\n      <td>-73.9133</td>\n      <td>40.6359</td>\n      <td>M</td>\n      <td>BLACK</td>\n      <td>&lt;18</td>\n      <td>2018</td>\n      <td>1</td>\n      <td>14</td>\n    </tr>\n    <tr>\n      <th>9</th>\n      <td>-73.9189</td>\n      <td>40.8266</td>\n      <td>F</td>\n      <td>WHITE HISPANIC</td>\n      <td>25-44</td>\n      <td>2018</td>\n      <td>5</td>\n      <td>22</td>\n    </tr>\n    <tr>\n      <th>10</th>\n      <td>-73.9525</td>\n      <td>40.8054</td>\n      <td>M</td>\n      <td>BLACK</td>\n      <td>25-44</td>\n      <td>2018</td>\n      <td>2</td>\n      <td>18</td>\n    </tr>\n  </tbody>\n</table>\n</div>"
     },
     "execution_count": 53,
     "metadata": {},
     "output_type": "execute_result"
    }
   ],
   "source": [
    "# Keep everything except for UNKNOWN and OTHER\n",
    "races = ['WHITE', 'WHITE HISPANIC', 'BLACK','ASIAN / PACIFIC ISLANdER', 'BLACK HISPANIC','AMERICAN INDIAN/ALASKAN NATIVE', 'OTHER']\n",
    "\n",
    "crime_data = crime_data.loc[crime_data['VIC_RACE'].isin(races)]\n",
    "# Re calculate the categories for the Sex column\n",
    "crime_data['VIC_RACE'] = crime_data['VIC_RACE'].cat.remove_unused_categories()\n",
    "\n",
    "del races\n",
    "crime_data.head(5)"
   ]
  },
  {
   "cell_type": "code",
   "execution_count": 54,
   "id": "6880b633",
   "metadata": {
    "ExecuteTime": {
     "start_time": "2023-04-22T15:58:26.484152Z",
     "end_time": "2023-04-22T15:58:26.662850Z"
    }
   },
   "outputs": [
    {
     "data": {
      "text/plain": "['WHITE', 'WHITE HISPANIC', 'BLACK', 'BLACK HISPANIC', 'AMERICAN INDIAN/ALASKAN NATIVE', 'OTHER']\nCategories (6, object): ['AMERICAN INDIAN/ALASKAN NATIVE', 'BLACK', 'BLACK HISPANIC', 'OTHER', 'WHITE', 'WHITE HISPANIC']"
     },
     "execution_count": 54,
     "metadata": {},
     "output_type": "execute_result"
    }
   ],
   "source": [
    "crime_data['VIC_RACE'].unique()"
   ]
  },
  {
   "cell_type": "markdown",
   "id": "4cab9b4b",
   "metadata": {},
   "source": [
    "# VIC_AGE_GROUP"
   ]
  },
  {
   "cell_type": "code",
   "execution_count": 55,
   "id": "c7443b09",
   "metadata": {
    "ExecuteTime": {
     "start_time": "2023-04-22T15:58:26.527161Z",
     "end_time": "2023-04-22T15:58:26.751873Z"
    }
   },
   "outputs": [
    {
     "data": {
      "text/plain": "array(['25-44', '18-24', '<18', '45-64', '65+', 'UNKNOWN', '-942', '1017',\n       '-51', '954', '972', '951', '-55', '-1', '-966', '-59', '-974',\n       '-948', '956', '-2', '-936', '-81', '-40', '-37', '-973', '-957',\n       '-952', '-943', '-929', '-43', '-56', '-954', '943', '-961',\n       '1018', '929', '936', '-71', '-50', '-69', '-967', '937', '-946',\n       '941', '1013', '-39', '960', '927', '938', '-978', '-970', '950',\n       '-934', '-4', '-62', '-3', '-960', '-921', '-61', '-48', '970',\n       '963', '945', '-935', '-975', '-980', '-72', '946', '-959', '-931',\n       '-972', '949', '-965', '-60', '1016', '932', '1014', '-968', '-31',\n       '-963', '930', '-962', '-73', '-938', '-937', '-45', '-902', '-63',\n       '-70', '-981', '928', '-964', '-950', '-971', '-945', '940', '-36',\n       '-52', '922', '914', '926', '-78', '947', '810', '-923', '711',\n       '924', '-982', '933', '309', '152', '962', '-32', '-969', '-976',\n       '151', '808', '738', '912', '939', '942', '709', '944', '812',\n       '-49', '-85', '160', '948', '-75', '-940', '214', '934', '953',\n       '158', '838', '909', '809', '-958', '931', '623', '908', '-955',\n       '-956', '185', '-947', '923', '920', '508', '955', '895', '172',\n       '811', '340', '964', '959', '-953', '707', '952', '935', '961',\n       '-932', '918', '-984', '917', '980', '913', '260', '-47', '342',\n       '981', '324', '507', '957', '-939', '188', '911', '958', '359',\n       '-983', '925', '979', '806', '910', '-985', '334', '1012', '977',\n       '-76', '-67', '965'], dtype=object)"
     },
     "execution_count": 55,
     "metadata": {},
     "output_type": "execute_result"
    }
   ],
   "source": [
    "crime_data['VIC_AGE_GROUP'].unique()"
   ]
  },
  {
   "cell_type": "code",
   "execution_count": 56,
   "id": "79963fa2",
   "metadata": {
    "ExecuteTime": {
     "start_time": "2023-04-22T15:58:26.744853Z",
     "end_time": "2023-04-22T15:58:37.751040Z"
    }
   },
   "outputs": [],
   "source": [
    "#remove values that don't belong to a victim age group\n",
    "crime_data['VIC_AGE_GROUP'] = numpy.where(crime_data['VIC_AGE_GROUP'].str.len()==4, None, crime_data['VIC_AGE_GROUP'])\n",
    "crime_data['VIC_AGE_GROUP'] = numpy.where(crime_data['VIC_AGE_GROUP'].str.startswith(\"-\"), None, crime_data['VIC_AGE_GROUP'])\n",
    "crime_data['VIC_AGE_GROUP'] = numpy.where(crime_data['VIC_AGE_GROUP'].str.contains(\"<\"), crime_data['VIC_AGE_GROUP'] + ' ', crime_data['VIC_AGE_GROUP'])\n",
    "crime_data['VIC_AGE_GROUP'] = numpy.where(crime_data['VIC_AGE_GROUP'].str.endswith(\"+\"), crime_data['VIC_AGE_GROUP'] + ' ', crime_data['VIC_AGE_GROUP'])\n",
    "crime_data['VIC_AGE_GROUP'] = numpy.where(crime_data['VIC_AGE_GROUP'].str.contains(\"UNKNOWN\"), None, crime_data['VIC_AGE_GROUP'])\n",
    "crime_data['VIC_AGE_GROUP'] = numpy.where(crime_data['VIC_AGE_GROUP'].str.len()==3, None, crime_data['VIC_AGE_GROUP'])"
   ]
  },
  {
   "cell_type": "code",
   "execution_count": 63,
   "outputs": [
    {
     "data": {
      "text/plain": "    Longitude  Latitude VIC_SEX        VIC_RACE VIC_AGE_GROUP  year   \n0    -73.9413   40.8096       F           WHITE         25-44  2018  \\\n3    -73.9974   40.7588       F  WHITE HISPANIC         18-24  2018   \n8    -73.9133   40.6359       M           BLACK          <18   2018   \n9    -73.9189   40.8266       F  WHITE HISPANIC         25-44  2018   \n10   -73.9525   40.8054       M           BLACK         25-44  2018   \n\n    day_of_week  hour  \n0             3    20  \n3             5    21  \n8             1    14  \n9             5    22  \n10            2    18  ",
      "text/html": "<div>\n<style scoped>\n    .dataframe tbody tr th:only-of-type {\n        vertical-align: middle;\n    }\n\n    .dataframe tbody tr th {\n        vertical-align: top;\n    }\n\n    .dataframe thead th {\n        text-align: right;\n    }\n</style>\n<table border=\"1\" class=\"dataframe\">\n  <thead>\n    <tr style=\"text-align: right;\">\n      <th></th>\n      <th>Longitude</th>\n      <th>Latitude</th>\n      <th>VIC_SEX</th>\n      <th>VIC_RACE</th>\n      <th>VIC_AGE_GROUP</th>\n      <th>year</th>\n      <th>day_of_week</th>\n      <th>hour</th>\n    </tr>\n  </thead>\n  <tbody>\n    <tr>\n      <th>0</th>\n      <td>-73.9413</td>\n      <td>40.8096</td>\n      <td>F</td>\n      <td>WHITE</td>\n      <td>25-44</td>\n      <td>2018</td>\n      <td>3</td>\n      <td>20</td>\n    </tr>\n    <tr>\n      <th>3</th>\n      <td>-73.9974</td>\n      <td>40.7588</td>\n      <td>F</td>\n      <td>WHITE HISPANIC</td>\n      <td>18-24</td>\n      <td>2018</td>\n      <td>5</td>\n      <td>21</td>\n    </tr>\n    <tr>\n      <th>8</th>\n      <td>-73.9133</td>\n      <td>40.6359</td>\n      <td>M</td>\n      <td>BLACK</td>\n      <td>&lt;18</td>\n      <td>2018</td>\n      <td>1</td>\n      <td>14</td>\n    </tr>\n    <tr>\n      <th>9</th>\n      <td>-73.9189</td>\n      <td>40.8266</td>\n      <td>F</td>\n      <td>WHITE HISPANIC</td>\n      <td>25-44</td>\n      <td>2018</td>\n      <td>5</td>\n      <td>22</td>\n    </tr>\n    <tr>\n      <th>10</th>\n      <td>-73.9525</td>\n      <td>40.8054</td>\n      <td>M</td>\n      <td>BLACK</td>\n      <td>25-44</td>\n      <td>2018</td>\n      <td>2</td>\n      <td>18</td>\n    </tr>\n  </tbody>\n</table>\n</div>"
     },
     "execution_count": 63,
     "metadata": {},
     "output_type": "execute_result"
    }
   ],
   "source": [
    "crime_data.head(5)"
   ],
   "metadata": {
    "collapsed": false,
    "ExecuteTime": {
     "start_time": "2023-04-22T16:02:59.837851Z",
     "end_time": "2023-04-22T16:02:59.875909Z"
    }
   }
  },
  {
   "cell_type": "code",
   "execution_count": 57,
   "id": "c7607fad",
   "metadata": {
    "ExecuteTime": {
     "start_time": "2023-04-22T15:58:37.751040Z",
     "end_time": "2023-04-22T15:58:38.242350Z"
    }
   },
   "outputs": [],
   "source": [
    "#delete None\n",
    "crime_data = crime_data.dropna(subset=['VIC_AGE_GROUP'])"
   ]
  },
  {
   "cell_type": "code",
   "execution_count": 58,
   "id": "868de91b",
   "metadata": {
    "ExecuteTime": {
     "start_time": "2023-04-22T15:58:38.241358Z",
     "end_time": "2023-04-22T15:58:38.545357Z"
    }
   },
   "outputs": [
    {
     "data": {
      "text/plain": "array(['25-44', '18-24', '<18 ', '45-64', '65+ '], dtype=object)"
     },
     "execution_count": 58,
     "metadata": {},
     "output_type": "execute_result"
    }
   ],
   "source": [
    "crime_data['VIC_AGE_GROUP'].unique()"
   ]
  },
  {
   "cell_type": "code",
   "execution_count": 62,
   "id": "9d4eac6b",
   "metadata": {
    "ExecuteTime": {
     "start_time": "2023-04-22T16:02:55.912814Z",
     "end_time": "2023-04-22T16:02:55.943123Z"
    }
   },
   "outputs": [
    {
     "data": {
      "text/plain": "    Longitude  Latitude VIC_SEX        VIC_RACE VIC_AGE_GROUP  year   \n0    -73.9413   40.8096       F           WHITE         25-44  2018  \\\n3    -73.9974   40.7588       F  WHITE HISPANIC         18-24  2018   \n8    -73.9133   40.6359       M           BLACK          <18   2018   \n9    -73.9189   40.8266       F  WHITE HISPANIC         25-44  2018   \n10   -73.9525   40.8054       M           BLACK         25-44  2018   \n\n    day_of_week  hour  \n0             3    20  \n3             5    21  \n8             1    14  \n9             5    22  \n10            2    18  ",
      "text/html": "<div>\n<style scoped>\n    .dataframe tbody tr th:only-of-type {\n        vertical-align: middle;\n    }\n\n    .dataframe tbody tr th {\n        vertical-align: top;\n    }\n\n    .dataframe thead th {\n        text-align: right;\n    }\n</style>\n<table border=\"1\" class=\"dataframe\">\n  <thead>\n    <tr style=\"text-align: right;\">\n      <th></th>\n      <th>Longitude</th>\n      <th>Latitude</th>\n      <th>VIC_SEX</th>\n      <th>VIC_RACE</th>\n      <th>VIC_AGE_GROUP</th>\n      <th>year</th>\n      <th>day_of_week</th>\n      <th>hour</th>\n    </tr>\n  </thead>\n  <tbody>\n    <tr>\n      <th>0</th>\n      <td>-73.9413</td>\n      <td>40.8096</td>\n      <td>F</td>\n      <td>WHITE</td>\n      <td>25-44</td>\n      <td>2018</td>\n      <td>3</td>\n      <td>20</td>\n    </tr>\n    <tr>\n      <th>3</th>\n      <td>-73.9974</td>\n      <td>40.7588</td>\n      <td>F</td>\n      <td>WHITE HISPANIC</td>\n      <td>18-24</td>\n      <td>2018</td>\n      <td>5</td>\n      <td>21</td>\n    </tr>\n    <tr>\n      <th>8</th>\n      <td>-73.9133</td>\n      <td>40.6359</td>\n      <td>M</td>\n      <td>BLACK</td>\n      <td>&lt;18</td>\n      <td>2018</td>\n      <td>1</td>\n      <td>14</td>\n    </tr>\n    <tr>\n      <th>9</th>\n      <td>-73.9189</td>\n      <td>40.8266</td>\n      <td>F</td>\n      <td>WHITE HISPANIC</td>\n      <td>25-44</td>\n      <td>2018</td>\n      <td>5</td>\n      <td>22</td>\n    </tr>\n    <tr>\n      <th>10</th>\n      <td>-73.9525</td>\n      <td>40.8054</td>\n      <td>M</td>\n      <td>BLACK</td>\n      <td>25-44</td>\n      <td>2018</td>\n      <td>2</td>\n      <td>18</td>\n    </tr>\n  </tbody>\n</table>\n</div>"
     },
     "execution_count": 62,
     "metadata": {},
     "output_type": "execute_result"
    }
   ],
   "source": [
    "crime_data.head(5)"
   ]
  },
  {
   "cell_type": "code",
   "execution_count": 64,
   "outputs": [
    {
     "data": {
      "text/plain": "         VIC_SEX_F  VIC_SEX_M  VIC_RACE_AMERICAN INDIAN/ALASKAN NATIVE   \n0             True      False                                    False  \\\n3             True      False                                    False   \n8            False       True                                    False   \n9             True      False                                    False   \n10           False       True                                    False   \n...            ...        ...                                      ...   \n7825492       True      False                                    False   \n7825493      False       True                                    False   \n7825495      False       True                                    False   \n7825497      False       True                                    False   \n7825498       True      False                                    False   \n\n         VIC_RACE_BLACK  VIC_RACE_BLACK HISPANIC  VIC_RACE_OTHER   \n0                 False                    False           False  \\\n3                 False                    False           False   \n8                  True                    False           False   \n9                 False                    False           False   \n10                 True                    False           False   \n...                 ...                      ...             ...   \n7825492            True                    False           False   \n7825493           False                    False           False   \n7825495           False                    False           False   \n7825497           False                    False           False   \n7825498           False                    False           False   \n\n         VIC_RACE_WHITE  VIC_RACE_WHITE HISPANIC  VIC_AGE_GROUP_18-24   \n0                  True                    False                False  \\\n3                 False                     True                 True   \n8                 False                    False                False   \n9                 False                     True                False   \n10                False                    False                False   \n...                 ...                      ...                  ...   \n7825492           False                    False                False   \n7825493           False                     True                False   \n7825495           False                     True                False   \n7825497            True                    False                False   \n7825498            True                    False                False   \n\n         VIC_AGE_GROUP_25-44  VIC_AGE_GROUP_45-64  VIC_AGE_GROUP_65+    \n0                       True                False               False  \\\n3                      False                False               False   \n8                      False                False               False   \n9                       True                False               False   \n10                      True                False               False   \n...                      ...                  ...                 ...   \n7825492                 True                False               False   \n7825493                False                 True               False   \n7825495                False                False               False   \n7825497                False                 True               False   \n7825498                False                False               False   \n\n         VIC_AGE_GROUP_<18   \n0                     False  \n3                     False  \n8                      True  \n9                     False  \n10                    False  \n...                     ...  \n7825492               False  \n7825493               False  \n7825495                True  \n7825497               False  \n7825498                True  \n\n[4678620 rows x 13 columns]",
      "text/html": "<div>\n<style scoped>\n    .dataframe tbody tr th:only-of-type {\n        vertical-align: middle;\n    }\n\n    .dataframe tbody tr th {\n        vertical-align: top;\n    }\n\n    .dataframe thead th {\n        text-align: right;\n    }\n</style>\n<table border=\"1\" class=\"dataframe\">\n  <thead>\n    <tr style=\"text-align: right;\">\n      <th></th>\n      <th>VIC_SEX_F</th>\n      <th>VIC_SEX_M</th>\n      <th>VIC_RACE_AMERICAN INDIAN/ALASKAN NATIVE</th>\n      <th>VIC_RACE_BLACK</th>\n      <th>VIC_RACE_BLACK HISPANIC</th>\n      <th>VIC_RACE_OTHER</th>\n      <th>VIC_RACE_WHITE</th>\n      <th>VIC_RACE_WHITE HISPANIC</th>\n      <th>VIC_AGE_GROUP_18-24</th>\n      <th>VIC_AGE_GROUP_25-44</th>\n      <th>VIC_AGE_GROUP_45-64</th>\n      <th>VIC_AGE_GROUP_65+</th>\n      <th>VIC_AGE_GROUP_&lt;18</th>\n    </tr>\n  </thead>\n  <tbody>\n    <tr>\n      <th>0</th>\n      <td>True</td>\n      <td>False</td>\n      <td>False</td>\n      <td>False</td>\n      <td>False</td>\n      <td>False</td>\n      <td>True</td>\n      <td>False</td>\n      <td>False</td>\n      <td>True</td>\n      <td>False</td>\n      <td>False</td>\n      <td>False</td>\n    </tr>\n    <tr>\n      <th>3</th>\n      <td>True</td>\n      <td>False</td>\n      <td>False</td>\n      <td>False</td>\n      <td>False</td>\n      <td>False</td>\n      <td>False</td>\n      <td>True</td>\n      <td>True</td>\n      <td>False</td>\n      <td>False</td>\n      <td>False</td>\n      <td>False</td>\n    </tr>\n    <tr>\n      <th>8</th>\n      <td>False</td>\n      <td>True</td>\n      <td>False</td>\n      <td>True</td>\n      <td>False</td>\n      <td>False</td>\n      <td>False</td>\n      <td>False</td>\n      <td>False</td>\n      <td>False</td>\n      <td>False</td>\n      <td>False</td>\n      <td>True</td>\n    </tr>\n    <tr>\n      <th>9</th>\n      <td>True</td>\n      <td>False</td>\n      <td>False</td>\n      <td>False</td>\n      <td>False</td>\n      <td>False</td>\n      <td>False</td>\n      <td>True</td>\n      <td>False</td>\n      <td>True</td>\n      <td>False</td>\n      <td>False</td>\n      <td>False</td>\n    </tr>\n    <tr>\n      <th>10</th>\n      <td>False</td>\n      <td>True</td>\n      <td>False</td>\n      <td>True</td>\n      <td>False</td>\n      <td>False</td>\n      <td>False</td>\n      <td>False</td>\n      <td>False</td>\n      <td>True</td>\n      <td>False</td>\n      <td>False</td>\n      <td>False</td>\n    </tr>\n    <tr>\n      <th>...</th>\n      <td>...</td>\n      <td>...</td>\n      <td>...</td>\n      <td>...</td>\n      <td>...</td>\n      <td>...</td>\n      <td>...</td>\n      <td>...</td>\n      <td>...</td>\n      <td>...</td>\n      <td>...</td>\n      <td>...</td>\n      <td>...</td>\n    </tr>\n    <tr>\n      <th>7825492</th>\n      <td>True</td>\n      <td>False</td>\n      <td>False</td>\n      <td>True</td>\n      <td>False</td>\n      <td>False</td>\n      <td>False</td>\n      <td>False</td>\n      <td>False</td>\n      <td>True</td>\n      <td>False</td>\n      <td>False</td>\n      <td>False</td>\n    </tr>\n    <tr>\n      <th>7825493</th>\n      <td>False</td>\n      <td>True</td>\n      <td>False</td>\n      <td>False</td>\n      <td>False</td>\n      <td>False</td>\n      <td>False</td>\n      <td>True</td>\n      <td>False</td>\n      <td>False</td>\n      <td>True</td>\n      <td>False</td>\n      <td>False</td>\n    </tr>\n    <tr>\n      <th>7825495</th>\n      <td>False</td>\n      <td>True</td>\n      <td>False</td>\n      <td>False</td>\n      <td>False</td>\n      <td>False</td>\n      <td>False</td>\n      <td>True</td>\n      <td>False</td>\n      <td>False</td>\n      <td>False</td>\n      <td>False</td>\n      <td>True</td>\n    </tr>\n    <tr>\n      <th>7825497</th>\n      <td>False</td>\n      <td>True</td>\n      <td>False</td>\n      <td>False</td>\n      <td>False</td>\n      <td>False</td>\n      <td>True</td>\n      <td>False</td>\n      <td>False</td>\n      <td>False</td>\n      <td>True</td>\n      <td>False</td>\n      <td>False</td>\n    </tr>\n    <tr>\n      <th>7825498</th>\n      <td>True</td>\n      <td>False</td>\n      <td>False</td>\n      <td>False</td>\n      <td>False</td>\n      <td>False</td>\n      <td>True</td>\n      <td>False</td>\n      <td>False</td>\n      <td>False</td>\n      <td>False</td>\n      <td>False</td>\n      <td>True</td>\n    </tr>\n  </tbody>\n</table>\n<p>4678620 rows × 13 columns</p>\n</div>"
     },
     "execution_count": 64,
     "metadata": {},
     "output_type": "execute_result"
    }
   ],
   "source": [
    "one_hot_encoded = pandas.get_dummies(crime_data[['VIC_SEX','VIC_RACE','VIC_AGE_GROUP']])\n",
    "one_hot_encoded"
   ],
   "metadata": {
    "collapsed": false,
    "ExecuteTime": {
     "start_time": "2023-04-22T16:03:34.105678Z",
     "end_time": "2023-04-22T16:03:35.031308Z"
    }
   }
  },
  {
   "cell_type": "code",
   "execution_count": 0,
   "outputs": [],
   "source": [
    "one_hot_encoded_df = crime_data\n",
    "\n",
    "# concatenate the one-hot encoded columns with the original dataframe\n",
    "one_hot_encoded_df = pandas.concat([one_hot_encoded_df, one_hot_encoded], axis=1)\n"
   ],
   "metadata": {
    "collapsed": false,
    "ExecuteTime": {
     "start_time": "2023-04-22T16:04:12.347406Z",
     "end_time": "2023-04-22T16:04:12.846715Z"
    }
   }
  },
  {
   "cell_type": "code",
   "execution_count": 72,
   "outputs": [
    {
     "data": {
      "text/plain": "         Longitude  Latitude VIC_SEX        VIC_RACE VIC_AGE_GROUP  year   \n0         -73.9413   40.8096       F           WHITE         25-44  2018  \\\n3         -73.9974   40.7588       F  WHITE HISPANIC         18-24  2018   \n8         -73.9133   40.6359       M           BLACK          <18   2018   \n9         -73.9189   40.8266       F  WHITE HISPANIC         25-44  2018   \n10        -73.9525   40.8054       M           BLACK         25-44  2018   \n...            ...       ...     ...             ...           ...   ...   \n7825492   -73.8908   40.8647       F           BLACK         25-44  2018   \n7825493   -73.9077   40.8562       M  WHITE HISPANIC         45-64  2018   \n7825495   -74.1041   40.5766       M  WHITE HISPANIC          <18   2018   \n7825497   -74.0872   40.5936       M           WHITE         45-64  2018   \n7825498   -73.9469   40.6868       F           WHITE          <18   2018   \n\n         day_of_week  hour  VIC_SEX_F  VIC_SEX_M  ...  VIC_RACE_BLACK   \n0                  3    20       True      False  ...           False  \\\n3                  5    21       True      False  ...           False   \n8                  1    14      False       True  ...            True   \n9                  5    22       True      False  ...           False   \n10                 2    18      False       True  ...            True   \n...              ...   ...        ...        ...  ...             ...   \n7825492            5    20       True      False  ...            True   \n7825493            1    15      False       True  ...           False   \n7825495            4    14      False       True  ...           False   \n7825497            5    10      False       True  ...           False   \n7825498            4    14       True      False  ...           False   \n\n         VIC_RACE_BLACK HISPANIC  VIC_RACE_OTHER  VIC_RACE_WHITE   \n0                          False           False            True  \\\n3                          False           False           False   \n8                          False           False           False   \n9                          False           False           False   \n10                         False           False           False   \n...                          ...             ...             ...   \n7825492                    False           False           False   \n7825493                    False           False           False   \n7825495                    False           False           False   \n7825497                    False           False            True   \n7825498                    False           False            True   \n\n         VIC_RACE_WHITE HISPANIC  VIC_AGE_GROUP_18-24  VIC_AGE_GROUP_25-44   \n0                          False                False                 True  \\\n3                           True                 True                False   \n8                          False                False                False   \n9                           True                False                 True   \n10                         False                False                 True   \n...                          ...                  ...                  ...   \n7825492                    False                False                 True   \n7825493                     True                False                False   \n7825495                     True                False                False   \n7825497                    False                False                False   \n7825498                    False                False                False   \n\n         VIC_AGE_GROUP_45-64  VIC_AGE_GROUP_65+   VIC_AGE_GROUP_<18   \n0                      False               False               False  \n3                      False               False               False  \n8                      False               False                True  \n9                      False               False               False  \n10                     False               False               False  \n...                      ...                 ...                 ...  \n7825492                False               False               False  \n7825493                 True               False               False  \n7825495                False               False                True  \n7825497                 True               False               False  \n7825498                False               False                True  \n\n[4678620 rows x 21 columns]",
      "text/html": "<div>\n<style scoped>\n    .dataframe tbody tr th:only-of-type {\n        vertical-align: middle;\n    }\n\n    .dataframe tbody tr th {\n        vertical-align: top;\n    }\n\n    .dataframe thead th {\n        text-align: right;\n    }\n</style>\n<table border=\"1\" class=\"dataframe\">\n  <thead>\n    <tr style=\"text-align: right;\">\n      <th></th>\n      <th>Longitude</th>\n      <th>Latitude</th>\n      <th>VIC_SEX</th>\n      <th>VIC_RACE</th>\n      <th>VIC_AGE_GROUP</th>\n      <th>year</th>\n      <th>day_of_week</th>\n      <th>hour</th>\n      <th>VIC_SEX_F</th>\n      <th>VIC_SEX_M</th>\n      <th>...</th>\n      <th>VIC_RACE_BLACK</th>\n      <th>VIC_RACE_BLACK HISPANIC</th>\n      <th>VIC_RACE_OTHER</th>\n      <th>VIC_RACE_WHITE</th>\n      <th>VIC_RACE_WHITE HISPANIC</th>\n      <th>VIC_AGE_GROUP_18-24</th>\n      <th>VIC_AGE_GROUP_25-44</th>\n      <th>VIC_AGE_GROUP_45-64</th>\n      <th>VIC_AGE_GROUP_65+</th>\n      <th>VIC_AGE_GROUP_&lt;18</th>\n    </tr>\n  </thead>\n  <tbody>\n    <tr>\n      <th>0</th>\n      <td>-73.9413</td>\n      <td>40.8096</td>\n      <td>F</td>\n      <td>WHITE</td>\n      <td>25-44</td>\n      <td>2018</td>\n      <td>3</td>\n      <td>20</td>\n      <td>True</td>\n      <td>False</td>\n      <td>...</td>\n      <td>False</td>\n      <td>False</td>\n      <td>False</td>\n      <td>True</td>\n      <td>False</td>\n      <td>False</td>\n      <td>True</td>\n      <td>False</td>\n      <td>False</td>\n      <td>False</td>\n    </tr>\n    <tr>\n      <th>3</th>\n      <td>-73.9974</td>\n      <td>40.7588</td>\n      <td>F</td>\n      <td>WHITE HISPANIC</td>\n      <td>18-24</td>\n      <td>2018</td>\n      <td>5</td>\n      <td>21</td>\n      <td>True</td>\n      <td>False</td>\n      <td>...</td>\n      <td>False</td>\n      <td>False</td>\n      <td>False</td>\n      <td>False</td>\n      <td>True</td>\n      <td>True</td>\n      <td>False</td>\n      <td>False</td>\n      <td>False</td>\n      <td>False</td>\n    </tr>\n    <tr>\n      <th>8</th>\n      <td>-73.9133</td>\n      <td>40.6359</td>\n      <td>M</td>\n      <td>BLACK</td>\n      <td>&lt;18</td>\n      <td>2018</td>\n      <td>1</td>\n      <td>14</td>\n      <td>False</td>\n      <td>True</td>\n      <td>...</td>\n      <td>True</td>\n      <td>False</td>\n      <td>False</td>\n      <td>False</td>\n      <td>False</td>\n      <td>False</td>\n      <td>False</td>\n      <td>False</td>\n      <td>False</td>\n      <td>True</td>\n    </tr>\n    <tr>\n      <th>9</th>\n      <td>-73.9189</td>\n      <td>40.8266</td>\n      <td>F</td>\n      <td>WHITE HISPANIC</td>\n      <td>25-44</td>\n      <td>2018</td>\n      <td>5</td>\n      <td>22</td>\n      <td>True</td>\n      <td>False</td>\n      <td>...</td>\n      <td>False</td>\n      <td>False</td>\n      <td>False</td>\n      <td>False</td>\n      <td>True</td>\n      <td>False</td>\n      <td>True</td>\n      <td>False</td>\n      <td>False</td>\n      <td>False</td>\n    </tr>\n    <tr>\n      <th>10</th>\n      <td>-73.9525</td>\n      <td>40.8054</td>\n      <td>M</td>\n      <td>BLACK</td>\n      <td>25-44</td>\n      <td>2018</td>\n      <td>2</td>\n      <td>18</td>\n      <td>False</td>\n      <td>True</td>\n      <td>...</td>\n      <td>True</td>\n      <td>False</td>\n      <td>False</td>\n      <td>False</td>\n      <td>False</td>\n      <td>False</td>\n      <td>True</td>\n      <td>False</td>\n      <td>False</td>\n      <td>False</td>\n    </tr>\n    <tr>\n      <th>...</th>\n      <td>...</td>\n      <td>...</td>\n      <td>...</td>\n      <td>...</td>\n      <td>...</td>\n      <td>...</td>\n      <td>...</td>\n      <td>...</td>\n      <td>...</td>\n      <td>...</td>\n      <td>...</td>\n      <td>...</td>\n      <td>...</td>\n      <td>...</td>\n      <td>...</td>\n      <td>...</td>\n      <td>...</td>\n      <td>...</td>\n      <td>...</td>\n      <td>...</td>\n      <td>...</td>\n    </tr>\n    <tr>\n      <th>7825492</th>\n      <td>-73.8908</td>\n      <td>40.8647</td>\n      <td>F</td>\n      <td>BLACK</td>\n      <td>25-44</td>\n      <td>2018</td>\n      <td>5</td>\n      <td>20</td>\n      <td>True</td>\n      <td>False</td>\n      <td>...</td>\n      <td>True</td>\n      <td>False</td>\n      <td>False</td>\n      <td>False</td>\n      <td>False</td>\n      <td>False</td>\n      <td>True</td>\n      <td>False</td>\n      <td>False</td>\n      <td>False</td>\n    </tr>\n    <tr>\n      <th>7825493</th>\n      <td>-73.9077</td>\n      <td>40.8562</td>\n      <td>M</td>\n      <td>WHITE HISPANIC</td>\n      <td>45-64</td>\n      <td>2018</td>\n      <td>1</td>\n      <td>15</td>\n      <td>False</td>\n      <td>True</td>\n      <td>...</td>\n      <td>False</td>\n      <td>False</td>\n      <td>False</td>\n      <td>False</td>\n      <td>True</td>\n      <td>False</td>\n      <td>False</td>\n      <td>True</td>\n      <td>False</td>\n      <td>False</td>\n    </tr>\n    <tr>\n      <th>7825495</th>\n      <td>-74.1041</td>\n      <td>40.5766</td>\n      <td>M</td>\n      <td>WHITE HISPANIC</td>\n      <td>&lt;18</td>\n      <td>2018</td>\n      <td>4</td>\n      <td>14</td>\n      <td>False</td>\n      <td>True</td>\n      <td>...</td>\n      <td>False</td>\n      <td>False</td>\n      <td>False</td>\n      <td>False</td>\n      <td>True</td>\n      <td>False</td>\n      <td>False</td>\n      <td>False</td>\n      <td>False</td>\n      <td>True</td>\n    </tr>\n    <tr>\n      <th>7825497</th>\n      <td>-74.0872</td>\n      <td>40.5936</td>\n      <td>M</td>\n      <td>WHITE</td>\n      <td>45-64</td>\n      <td>2018</td>\n      <td>5</td>\n      <td>10</td>\n      <td>False</td>\n      <td>True</td>\n      <td>...</td>\n      <td>False</td>\n      <td>False</td>\n      <td>False</td>\n      <td>True</td>\n      <td>False</td>\n      <td>False</td>\n      <td>False</td>\n      <td>True</td>\n      <td>False</td>\n      <td>False</td>\n    </tr>\n    <tr>\n      <th>7825498</th>\n      <td>-73.9469</td>\n      <td>40.6868</td>\n      <td>F</td>\n      <td>WHITE</td>\n      <td>&lt;18</td>\n      <td>2018</td>\n      <td>4</td>\n      <td>14</td>\n      <td>True</td>\n      <td>False</td>\n      <td>...</td>\n      <td>False</td>\n      <td>False</td>\n      <td>False</td>\n      <td>True</td>\n      <td>False</td>\n      <td>False</td>\n      <td>False</td>\n      <td>False</td>\n      <td>False</td>\n      <td>True</td>\n    </tr>\n  </tbody>\n</table>\n<p>4678620 rows × 21 columns</p>\n</div>"
     },
     "execution_count": 72,
     "metadata": {},
     "output_type": "execute_result"
    }
   ],
   "source": [
    "one_hot_encoded_df"
   ],
   "metadata": {
    "collapsed": false,
    "ExecuteTime": {
     "start_time": "2023-04-22T16:08:59.304178Z",
     "end_time": "2023-04-22T16:08:59.947233Z"
    }
   }
  },
  {
   "cell_type": "code",
   "execution_count": 74,
   "outputs": [],
   "source": [
    "# drop the VIC_SEX, VIC_Race, and VIC_AGE_GROUP columns\n",
    "one_hot_encoded_df = one_hot_encoded_df.drop('VIC_SEX', axis=1)\n",
    "one_hot_encoded_df = one_hot_encoded_df.drop('VIC_RACE', axis=1)\n",
    "one_hot_encoded_df = one_hot_encoded_df.drop('VIC_AGE_GROUP', axis=1)"
   ],
   "metadata": {
    "collapsed": false,
    "ExecuteTime": {
     "start_time": "2023-04-22T16:09:18.603138Z",
     "end_time": "2023-04-22T16:09:19.126109Z"
    }
   }
  },
  {
   "cell_type": "code",
   "execution_count": 75,
   "outputs": [],
   "source": [
    "crime_counts = (\n",
    "    one_hot_encoded_df.groupby(['Longitude', 'Latitude', 'year', 'day_of_week', 'hour'])\n",
    "    .sum()\n",
    ")"
   ],
   "metadata": {
    "collapsed": false,
    "ExecuteTime": {
     "start_time": "2023-04-22T16:09:21.698571Z",
     "end_time": "2023-04-22T16:09:26.517377Z"
    }
   }
  },
  {
   "cell_type": "code",
   "execution_count": 78,
   "outputs": [
    {
     "data": {
      "text/plain": "           index  Longitude  Latitude  year  day_of_week  hour  VIC_SEX_F   \n0              0   -74.2556   40.4961  2007            5    22          0  \\\n1              1   -74.2556   40.5004  2006            6    13          0   \n2              2   -74.2556   40.5004  2007            4    21          0   \n3              3   -74.2556   40.5004  2008            5    15          0   \n4              4   -74.2556   40.5004  2009            0    21          0   \n...          ...        ...       ...   ...          ...   ...        ...   \n2614010  2614010   -73.7000   40.7503  2021            3    11          0   \n2614011  2614011   -73.7000   40.7503  2021            3    13          1   \n2614012  2614012   -73.7000   40.7503  2021            4     6          0   \n2614013  2614013   -73.7000   40.7546  2006            5    20          0   \n2614014  2614014   -73.7000   40.9155  2010            6    23          1   \n\n         VIC_SEX_M  VIC_RACE_AMERICAN INDIAN/ALASKAN NATIVE  VIC_RACE_BLACK   \n0                1                                        0               0  \\\n1                1                                        0               0   \n2                1                                        0               1   \n3                1                                        0               0   \n4                1                                        0               0   \n...            ...                                      ...             ...   \n2614010          1                                        0               1   \n2614011          0                                        0               0   \n2614012          1                                        0               0   \n2614013          1                                        0               0   \n2614014          0                                        0               1   \n\n         VIC_RACE_BLACK HISPANIC  VIC_RACE_OTHER  VIC_RACE_WHITE   \n0                              0               0               1  \\\n1                              0               0               1   \n2                              0               0               0   \n3                              0               0               1   \n4                              0               0               1   \n...                          ...             ...             ...   \n2614010                        0               0               0   \n2614011                        0               0               0   \n2614012                        0               0               1   \n2614013                        0               0               1   \n2614014                        0               0               0   \n\n         VIC_RACE_WHITE HISPANIC  VIC_AGE_GROUP_18-24  VIC_AGE_GROUP_25-44   \n0                              0                    1                    0  \\\n1                              0                    0                    0   \n2                              0                    0                    1   \n3                              0                    0                    1   \n4                              0                    0                    0   \n...                          ...                  ...                  ...   \n2614010                        0                    0                    1   \n2614011                        1                    0                    1   \n2614012                        0                    0                    0   \n2614013                        0                    0                    0   \n2614014                        0                    1                    0   \n\n         VIC_AGE_GROUP_45-64  VIC_AGE_GROUP_65+   VIC_AGE_GROUP_<18   \n0                          0                   0                   0  \n1                          1                   0                   0  \n2                          0                   0                   0  \n3                          0                   0                   0  \n4                          0                   1                   0  \n...                      ...                 ...                 ...  \n2614010                    0                   0                   0  \n2614011                    0                   0                   0  \n2614012                    0                   1                   0  \n2614013                    1                   0                   0  \n2614014                    0                   0                   0  \n\n[2614015 rows x 19 columns]",
      "text/html": "<div>\n<style scoped>\n    .dataframe tbody tr th:only-of-type {\n        vertical-align: middle;\n    }\n\n    .dataframe tbody tr th {\n        vertical-align: top;\n    }\n\n    .dataframe thead th {\n        text-align: right;\n    }\n</style>\n<table border=\"1\" class=\"dataframe\">\n  <thead>\n    <tr style=\"text-align: right;\">\n      <th></th>\n      <th>index</th>\n      <th>Longitude</th>\n      <th>Latitude</th>\n      <th>year</th>\n      <th>day_of_week</th>\n      <th>hour</th>\n      <th>VIC_SEX_F</th>\n      <th>VIC_SEX_M</th>\n      <th>VIC_RACE_AMERICAN INDIAN/ALASKAN NATIVE</th>\n      <th>VIC_RACE_BLACK</th>\n      <th>VIC_RACE_BLACK HISPANIC</th>\n      <th>VIC_RACE_OTHER</th>\n      <th>VIC_RACE_WHITE</th>\n      <th>VIC_RACE_WHITE HISPANIC</th>\n      <th>VIC_AGE_GROUP_18-24</th>\n      <th>VIC_AGE_GROUP_25-44</th>\n      <th>VIC_AGE_GROUP_45-64</th>\n      <th>VIC_AGE_GROUP_65+</th>\n      <th>VIC_AGE_GROUP_&lt;18</th>\n    </tr>\n  </thead>\n  <tbody>\n    <tr>\n      <th>0</th>\n      <td>0</td>\n      <td>-74.2556</td>\n      <td>40.4961</td>\n      <td>2007</td>\n      <td>5</td>\n      <td>22</td>\n      <td>0</td>\n      <td>1</td>\n      <td>0</td>\n      <td>0</td>\n      <td>0</td>\n      <td>0</td>\n      <td>1</td>\n      <td>0</td>\n      <td>1</td>\n      <td>0</td>\n      <td>0</td>\n      <td>0</td>\n      <td>0</td>\n    </tr>\n    <tr>\n      <th>1</th>\n      <td>1</td>\n      <td>-74.2556</td>\n      <td>40.5004</td>\n      <td>2006</td>\n      <td>6</td>\n      <td>13</td>\n      <td>0</td>\n      <td>1</td>\n      <td>0</td>\n      <td>0</td>\n      <td>0</td>\n      <td>0</td>\n      <td>1</td>\n      <td>0</td>\n      <td>0</td>\n      <td>0</td>\n      <td>1</td>\n      <td>0</td>\n      <td>0</td>\n    </tr>\n    <tr>\n      <th>2</th>\n      <td>2</td>\n      <td>-74.2556</td>\n      <td>40.5004</td>\n      <td>2007</td>\n      <td>4</td>\n      <td>21</td>\n      <td>0</td>\n      <td>1</td>\n      <td>0</td>\n      <td>1</td>\n      <td>0</td>\n      <td>0</td>\n      <td>0</td>\n      <td>0</td>\n      <td>0</td>\n      <td>1</td>\n      <td>0</td>\n      <td>0</td>\n      <td>0</td>\n    </tr>\n    <tr>\n      <th>3</th>\n      <td>3</td>\n      <td>-74.2556</td>\n      <td>40.5004</td>\n      <td>2008</td>\n      <td>5</td>\n      <td>15</td>\n      <td>0</td>\n      <td>1</td>\n      <td>0</td>\n      <td>0</td>\n      <td>0</td>\n      <td>0</td>\n      <td>1</td>\n      <td>0</td>\n      <td>0</td>\n      <td>1</td>\n      <td>0</td>\n      <td>0</td>\n      <td>0</td>\n    </tr>\n    <tr>\n      <th>4</th>\n      <td>4</td>\n      <td>-74.2556</td>\n      <td>40.5004</td>\n      <td>2009</td>\n      <td>0</td>\n      <td>21</td>\n      <td>0</td>\n      <td>1</td>\n      <td>0</td>\n      <td>0</td>\n      <td>0</td>\n      <td>0</td>\n      <td>1</td>\n      <td>0</td>\n      <td>0</td>\n      <td>0</td>\n      <td>0</td>\n      <td>1</td>\n      <td>0</td>\n    </tr>\n    <tr>\n      <th>...</th>\n      <td>...</td>\n      <td>...</td>\n      <td>...</td>\n      <td>...</td>\n      <td>...</td>\n      <td>...</td>\n      <td>...</td>\n      <td>...</td>\n      <td>...</td>\n      <td>...</td>\n      <td>...</td>\n      <td>...</td>\n      <td>...</td>\n      <td>...</td>\n      <td>...</td>\n      <td>...</td>\n      <td>...</td>\n      <td>...</td>\n      <td>...</td>\n    </tr>\n    <tr>\n      <th>2614010</th>\n      <td>2614010</td>\n      <td>-73.7000</td>\n      <td>40.7503</td>\n      <td>2021</td>\n      <td>3</td>\n      <td>11</td>\n      <td>0</td>\n      <td>1</td>\n      <td>0</td>\n      <td>1</td>\n      <td>0</td>\n      <td>0</td>\n      <td>0</td>\n      <td>0</td>\n      <td>0</td>\n      <td>1</td>\n      <td>0</td>\n      <td>0</td>\n      <td>0</td>\n    </tr>\n    <tr>\n      <th>2614011</th>\n      <td>2614011</td>\n      <td>-73.7000</td>\n      <td>40.7503</td>\n      <td>2021</td>\n      <td>3</td>\n      <td>13</td>\n      <td>1</td>\n      <td>0</td>\n      <td>0</td>\n      <td>0</td>\n      <td>0</td>\n      <td>0</td>\n      <td>0</td>\n      <td>1</td>\n      <td>0</td>\n      <td>1</td>\n      <td>0</td>\n      <td>0</td>\n      <td>0</td>\n    </tr>\n    <tr>\n      <th>2614012</th>\n      <td>2614012</td>\n      <td>-73.7000</td>\n      <td>40.7503</td>\n      <td>2021</td>\n      <td>4</td>\n      <td>6</td>\n      <td>0</td>\n      <td>1</td>\n      <td>0</td>\n      <td>0</td>\n      <td>0</td>\n      <td>0</td>\n      <td>1</td>\n      <td>0</td>\n      <td>0</td>\n      <td>0</td>\n      <td>0</td>\n      <td>1</td>\n      <td>0</td>\n    </tr>\n    <tr>\n      <th>2614013</th>\n      <td>2614013</td>\n      <td>-73.7000</td>\n      <td>40.7546</td>\n      <td>2006</td>\n      <td>5</td>\n      <td>20</td>\n      <td>0</td>\n      <td>1</td>\n      <td>0</td>\n      <td>0</td>\n      <td>0</td>\n      <td>0</td>\n      <td>1</td>\n      <td>0</td>\n      <td>0</td>\n      <td>0</td>\n      <td>1</td>\n      <td>0</td>\n      <td>0</td>\n    </tr>\n    <tr>\n      <th>2614014</th>\n      <td>2614014</td>\n      <td>-73.7000</td>\n      <td>40.9155</td>\n      <td>2010</td>\n      <td>6</td>\n      <td>23</td>\n      <td>1</td>\n      <td>0</td>\n      <td>0</td>\n      <td>1</td>\n      <td>0</td>\n      <td>0</td>\n      <td>0</td>\n      <td>0</td>\n      <td>1</td>\n      <td>0</td>\n      <td>0</td>\n      <td>0</td>\n      <td>0</td>\n    </tr>\n  </tbody>\n</table>\n<p>2614015 rows × 19 columns</p>\n</div>"
     },
     "execution_count": 78,
     "metadata": {},
     "output_type": "execute_result"
    }
   ],
   "source": [
    "crime_counts.reset_index(inplace=True)\n",
    "crime_counts"
   ],
   "metadata": {
    "collapsed": false,
    "ExecuteTime": {
     "start_time": "2023-04-22T16:10:42.730197Z",
     "end_time": "2023-04-22T16:10:42.788195Z"
    }
   }
  },
  {
   "cell_type": "markdown",
   "id": "2abe19df",
   "metadata": {},
   "source": [
    "# Trees"
   ]
  },
  {
   "cell_type": "code",
   "execution_count": null,
   "id": "0c0feb29",
   "metadata": {},
   "outputs": [],
   "source": [
    "trees = gpd.read_file('../data/2015 Street Tree Census - Tree Data.geojson', rows=rows)\n",
    "trees = trees.to_crs(epsg=4326)\n",
    "\n",
    "trees['longitude'] = trees['longitude'].astype(float)\n",
    "trees['latitude'] = trees['latitude'].astype(float)\n",
    "\n",
    "trees['Longitude'] = trees['longitude'].apply(nearest_grid_point, grid_points=x_points)\n",
    "trees['Latitude'] = trees['latitude'].apply(nearest_grid_point, grid_points=y_points)\n",
    "\n",
    "tree_counts = (\n",
    "    trees.groupby(['Longitude', 'Latitude','health'])\n",
    "    .size()\n",
    "    .reset_index(name='tree_count')\n",
    ")\n",
    "\n",
    "\n",
    "tree_counts_pivoted = pd.pivot_table(tree_counts, values='tree_count', index=['Longitude', 'Latitude'], columns=['health'], fill_value=0)\n",
    "tree_counts_pivoted = tree_counts_pivoted.reset_index().rename(columns={'Good': 'good_tree_count', 'Fair': 'fair_tree_count', 'Poor': 'poor_tree_count'})\n",
    "\n",
    "# Remove index name\n",
    "tree_counts_pivoted.index.name = None"
   ]
  },
  {
   "cell_type": "code",
   "execution_count": null,
   "id": "a4a9617f",
   "metadata": {},
   "outputs": [],
   "source": [
    "tree_counts"
   ]
  },
  {
   "cell_type": "code",
   "execution_count": null,
   "id": "e3c2c4e8",
   "metadata": {},
   "outputs": [],
   "source": [
    "tree_counts.head()\n",
    "\n",
    "tree_counts_pivoted = pandas.pivot_table(tree_counts, values='tree_count', index=['Longitude', 'Latitude'], columns=['health'], fill_value=0)\n",
    "tree_counts_pivoted = tree_counts_pivoted.reset_index().rename(columns={'Good': 'good_tree_count', 'Fair': 'fair_tree_count', 'Poor': 'poor_tree_count'})\n",
    "\n",
    "# Remove index name\n",
    "tree_counts_pivoted.index.name = None\n"
   ]
  },
  {
   "cell_type": "code",
   "execution_count": null,
   "id": "04899d31",
   "metadata": {},
   "outputs": [],
   "source": [
    "tree_counts_pivoted\n"
   ]
  },
  {
   "cell_type": "markdown",
   "id": "5fc52b2c",
   "metadata": {},
   "source": [
    "# Police precincts"
   ]
  },
  {
   "cell_type": "code",
   "execution_count": null,
   "id": "e78c3ee4",
   "metadata": {},
   "outputs": [],
   "source": [
    "filtered_grid_df"
   ]
  },
  {
   "cell_type": "code",
   "execution_count": null,
   "id": "c73413c4",
   "metadata": {},
   "outputs": [],
   "source": [
    "from scipy.spatial import cKDTree\n",
    "\n",
    "# create a KD Tree with the Longitude and Latitude columns of filtered_grid_df\n",
    "tree = cKDTree(filtered_grid_df[['Longitude', 'Latitude']])\n",
    "\n",
    "# query the KD Tree with the Longitude and Latitude columns of crime_data\n",
    "distances, indices = tree.query(crime_data[['Longitude', 'Latitude']])\n",
    "\n",
    "# use the indices to get the corresponding Longitude and Latitude values from filtered_grid_df\n",
    "crime_data['Longitude'] = filtered_grid_df.loc[indices, 'Longitude'].values\n",
    "crime_data['Latitude'] = filtered_grid_df.loc[indices, 'Latitude'].values"
   ]
  },
  {
   "cell_type": "code",
   "execution_count": null,
   "id": "def8d082",
   "metadata": {},
   "outputs": [],
   "source": [
    "from scipy.spatial import cKDTree\n",
    "\n",
    "# create a KD Tree with the Longitude and Latitude columns of filtered_grid_df\n",
    "tree = cKDTree(filtered_grid_df[['Longitude', 'Latitude']])\n",
    "\n",
    "# query the KD Tree with the Longitude and Latitude columns of crime_data\n",
    "distances, indices = tree.query(tree_counts_pivoted[['Longitude', 'Latitude']])\n",
    "\n",
    "# use the indices to get the corresponding Longitude and Latitude values from filtered_grid_df\n",
    "tree_counts_pivoted['Longitude'] = filtered_grid_df.loc[indices, 'Longitude'].values\n",
    "tree_counts_pivoted['Latitude'] = filtered_grid_df.loc[indices, 'Latitude'].values"
   ]
  },
  {
   "cell_type": "code",
   "execution_count": null,
   "id": "3112343b",
   "metadata": {},
   "outputs": [],
   "source": [
    "tree_counts_by_location = tree_counts_pivoted.groupby(['Longitude', 'Latitude']).sum().reset_index()\n",
    "tree_counts_by_location"
   ]
  },
  {
   "cell_type": "code",
   "execution_count": null,
   "id": "4320f08e",
   "metadata": {},
   "outputs": [],
   "source": [
    "crime_data"
   ]
  },
  {
   "cell_type": "code",
   "execution_count": null,
   "id": "606ee37c",
   "metadata": {},
   "outputs": [],
   "source": [
    "merged_data = pandas.merge(crime_data, tree_counts_by_location, on=['Longitude', 'Latitude'], how='left')\n"
   ]
  },
  {
   "cell_type": "code",
   "execution_count": null,
   "id": "40d7ebc0",
   "metadata": {},
   "outputs": [],
   "source": [
    "merged_data"
   ]
  },
  {
   "cell_type": "markdown",
   "id": "c6c5b56b",
   "metadata": {},
   "source": [
    "# One hot encoded"
   ]
  },
  {
   "cell_type": "code",
   "execution_count": null,
   "id": "324e97af",
   "metadata": {},
   "outputs": [],
   "source": [
    "import pickle\n",
    "\n",
    "with open('data.pickle', 'wb') as f:\n",
    "    pickle.dump(data, f)"
   ]
  },
  {
   "cell_type": "markdown",
   "id": "c75b5fca",
   "metadata": {},
   "source": [
    "# LAB 4"
   ]
  },
  {
   "cell_type": "code",
   "execution_count": null,
   "id": "6a45df30",
   "metadata": {},
   "outputs": [],
   "source": [
    "data.columns"
   ]
  },
  {
   "cell_type": "code",
   "execution_count": null,
   "id": "14e70c36",
   "metadata": {},
   "outputs": [],
   "source": []
  }
 ],
 "metadata": {
  "kernelspec": {
   "display_name": "Python 3 (ipykernel)",
   "language": "python",
   "name": "python3"
  },
  "language_info": {
   "codemirror_mode": {
    "name": "ipython",
    "version": 3
   },
   "file_extension": ".py",
   "mimetype": "text/x-python",
   "name": "python",
   "nbconvert_exporter": "python",
   "pygments_lexer": "ipython3",
   "version": "3.9.13"
  }
 },
 "nbformat": 4,
 "nbformat_minor": 5
}
