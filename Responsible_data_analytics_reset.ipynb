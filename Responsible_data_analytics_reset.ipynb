{
 "cells": [
  {
   "cell_type": "markdown",
   "source": [
    "Modelling crime risk associated with Green Spaces\n",
    "---\n",
    "A case study of New York City using NYPD Complaint Data and Machine Learning models\n",
    "\n",
    "| Authors                        | Student ID   |\n",
    "|--------------------------------|--------------|\n",
    "| Kaninik Baradi                 | 5216664      |\n",
    "| Lala Sayyida Millati Nadhira   | 5844266      |\n",
    "| Rezzy Yolanda Wulandhari       | 4779487      |\n",
    "| Kelvin Engee                   | 4664043      |\n",
    "| Philippe Almeida Mirault       | 5898803      |\n",
    "Group 4\n",
    "\n",
    "For the course: Responsible Data Analytics, SEN 163B\n",
    "April 2023"
   ],
   "metadata": {
    "collapsed": false
   }
  },
  {
   "cell_type": "markdown",
   "source": [
    "# Introduction\n",
    "This notebook is a companion to the report on Modelling Crime Risks associated with Green spaces. It contains all the code required to download, pre-process and analyse the data. The notebook is divided into the following sections:\n",
    "- Preparation\n",
    "- Descriptive Analytics\n",
    "    - Preliminary Analysis\n",
    "- Diagnostic Analytics\n",
    "    - Feature Analysis\n",
    "    - Feature Engineering\n",
    "    - Bias Analysis\n",
    "- Predictive Analysis\n",
    "    - Target Variable Analysis\n",
    "    - Train-Test Split Strategy\n",
    "    - Model Evaluation\n",
    "    - Model Interpretation\n",
    "- Prescriptive Analysis\n",
    "    - Cross Validation\n",
    "    - Ensemble Predictor\n",
    "    - Model Deployment"
   ],
   "metadata": {
    "collapsed": false
   }
  },
  {
   "cell_type": "markdown",
   "source": [
    "# Preparation"
   ],
   "metadata": {
    "collapsed": false
   }
  },
  {
   "cell_type": "markdown",
   "source": [
    "Dependencies:\n",
    "\n",
    "Data Sources:"
   ],
   "metadata": {
    "collapsed": false
   }
  },
  {
   "cell_type": "code",
   "execution_count": null,
   "outputs": [],
   "source": [],
   "metadata": {
    "collapsed": false
   }
  },
  {
   "cell_type": "code",
   "execution_count": null,
   "outputs": [],
   "source": [
    "import pandas\n",
    "import altair\n",
    "import numpy\n",
    "import matplotlib.pyplot as plt\n",
    "import geopandas as gpd\n",
    "import numpy as np\n",
    "import seaborn as sns"
   ],
   "metadata": {
    "collapsed": false
   }
  },
  {
   "cell_type": "markdown",
   "source": [
    "# Descriptive Analytics\n",
    "This section contains the initial analysis of the selected data sets. It identifies the underlying relationships of the variables and if used to determine vriables of interest for further analysis."
   ],
   "metadata": {
    "collapsed": false
   }
  },
  {
   "cell_type": "markdown",
   "source": [
    "## Complaints Data"
   ],
   "metadata": {
    "collapsed": false
   }
  },
  {
   "cell_type": "code",
   "execution_count": null,
   "outputs": [],
   "source": [
    "crime_data = pandas.read_csv(\"..\\\\NYPD_Complaint_Data_Historic.csv\")"
   ],
   "metadata": {
    "collapsed": false
   }
  },
  {
   "cell_type": "code",
   "execution_count": null,
   "outputs": [],
   "source": [
    "def make_categorical(dataframe, column):\n",
    "    # make the column of the dataframe categorical\n",
    "    dataframe[column] = dataframe[column].astype('category')\n",
    "\n",
    "# get a lst of all the columns in the dataframe that need to be categorical\n",
    "\n",
    "columns = ['ADDR_PCT_CD', 'BORO_NM', 'CRM_ATPT_CPTD_CD', 'HADEVELOPT', 'HOUSING_PSA', 'JURISDICTION_CODE', 'JURIS_DESC', 'KY_CD', 'LAW_CAT_CD', 'LOC_OF_OCCUR_DESC', 'OFNS_DESC', 'PARKS_NM', 'PATROL_BORO', 'PD_CD', 'PD_DESC', 'STATION_NAME', 'SUSP_RACE', 'SUSP_SEX', 'TRANSIT_DISTRICT', 'VIC_RACE', 'VIC_SEX']\n",
    "\n",
    "    # make each column categorical\n",
    "for column in columns:\n",
    "    make_categorical(crime_data, column)\n",
    "\n",
    "#scrub for duplicate\n",
    "crime_data.drop_duplicates(inplace=True)"
   ],
   "metadata": {
    "collapsed": false
   }
  },
  {
   "cell_type": "markdown",
   "source": [],
   "metadata": {
    "collapsed": false
   }
  },
  {
   "cell_type": "code",
   "execution_count": null,
   "outputs": [],
   "source": [
    "#scrub for irrelevant data (only use required columns)\n",
    "crime_data = crime_data[['CMPLNT_FR_DT','CMPLNT_FR_TM','Longitude','Latitude','VIC_SEX','VIC_RACE','VIC_AGE_GROUP']]\n"
   ],
   "metadata": {
    "collapsed": false
   }
  },
  {
   "cell_type": "code",
   "execution_count": null,
   "outputs": [],
   "source": [
    "crime_data"
   ],
   "metadata": {
    "collapsed": false
   }
  },
  {
   "cell_type": "code",
   "execution_count": null,
   "outputs": [],
   "source": [
    "#unlike usual, all the rows with missing data is deleted beforehand, because there all the data is missing completely at random\n",
    "missing_counts = crime_data.isna().sum()\n",
    "\n",
    "print(missing_counts)"
   ],
   "metadata": {
    "collapsed": false
   }
  },
  {
   "cell_type": "code",
   "execution_count": null,
   "outputs": [],
   "source": [
    "crime_data = crime_data.dropna(axis=0)\n",
    "\n",
    "print(crime_data)"
   ],
   "metadata": {
    "collapsed": false
   }
  },
  {
   "cell_type": "code",
   "execution_count": null,
   "outputs": [],
   "source": [
    "#unlike usual, all the rows with missing data is deleted beforehand, because there all the data is missing completely at random\n",
    "missing_counts = crime_data.isna().sum()\n",
    "\n",
    "print(missing_counts)"
   ],
   "metadata": {
    "collapsed": false
   }
  },
  {
   "cell_type": "markdown",
   "source": [
    "# CMPLNT_FR_DT\n"
   ],
   "metadata": {
    "collapsed": false
   }
  },
  {
   "cell_type": "code",
   "execution_count": null,
   "outputs": [],
   "source": [
    "crime_data[['month','day','year']] = crime_data['CMPLNT_FR_DT'].str.split('/',expand=True).astype(int)"
   ],
   "metadata": {
    "collapsed": false
   }
  },
  {
   "cell_type": "code",
   "execution_count": null,
   "outputs": [],
   "source": [
    "crime_data"
   ],
   "metadata": {
    "collapsed": false
   }
  },
  {
   "cell_type": "code",
   "execution_count": null,
   "outputs": [],
   "source": [
    "crime_data = crime_data.loc[crime_data['year'] >= 2006]"
   ],
   "metadata": {
    "collapsed": false
   }
  },
  {
   "cell_type": "code",
   "execution_count": null,
   "outputs": [],
   "source": [
    "crime_data['CMPLNT_FR_DT'] = pandas.to_datetime(crime_data['CMPLNT_FR_DT'], format='%m/%d/%Y')\n",
    "crime_data['day_of_week'] = crime_data['CMPLNT_FR_DT'].dt.dayofweek"
   ],
   "metadata": {
    "collapsed": false
   }
  },
  {
   "cell_type": "code",
   "execution_count": null,
   "outputs": [],
   "source": [
    "crime_data = crime_data.drop('CMPLNT_FR_DT', axis=1)\n",
    "crime_data = crime_data.drop('month', axis=1)\n",
    "crime_data = crime_data.drop('day', axis=1)\n",
    "crime_data"
   ],
   "metadata": {
    "collapsed": false
   }
  },
  {
   "cell_type": "markdown",
   "source": [
    "# CMPLNT_FR_TM"
   ],
   "metadata": {
    "collapsed": false
   }
  },
  {
   "cell_type": "code",
   "execution_count": null,
   "outputs": [],
   "source": [
    "crime_data[['hour','minute','second']] = crime_data['CMPLNT_FR_TM'].str.split(':',expand=True).astype(int)"
   ],
   "metadata": {
    "collapsed": false
   }
  },
  {
   "cell_type": "code",
   "execution_count": null,
   "outputs": [],
   "source": [
    "crime_data = crime_data.drop('CMPLNT_FR_TM', axis=1)\n",
    "crime_data = crime_data.drop('second', axis=1)\n",
    "crime_data = crime_data.drop('minute', axis=1)\n",
    "crime_data"
   ],
   "metadata": {
    "collapsed": false
   }
  },
  {
   "cell_type": "markdown",
   "source": [
    "# Grid the Longitude and Latitude"
   ],
   "metadata": {
    "collapsed": false
   }
  },
  {
   "cell_type": "code",
   "execution_count": null,
   "outputs": [],
   "source": [
    "# Create a grid of points across the precincts to use as the center of the crime clusters\n",
    "# The size of the grid is n x n, where n is the number of points in each direction\n",
    "from shapely.geometry import Point, Polygon\n",
    "from rtree import index\n",
    "\n",
    "precint_footprint = gpd.read_file('..//data//Police Precincts.geojson')\n",
    "\n",
    "# get the bounds of the precincts\n",
    "min_x, min_y, max_x, max_y = precint_footprint.total_bounds\n",
    "\n",
    "idx = index.Index()\n",
    "for i, row in precint_footprint.iterrows():\n",
    "    idx.insert(i, row.geometry.bounds)\n",
    "\n",
    "grid_size = 100  # You can adjust this value\n",
    "x_points = np.linspace(min_x, max_x, grid_size)\n",
    "y_points = np.linspace(min_y, max_y, grid_size)\n",
    "\n",
    "# Round the points to 4 decimal places\n",
    "x_points = np.around(x_points, 5)\n",
    "y_points = np.around(y_points, 5)\n",
    "\n",
    "grid = [Point(x, y) for x in x_points for y in y_points]\n",
    "\n",
    "# drop the points that are not within the precincts\n",
    "def is_point_inside_precincts(point, precincts_gdf, idx):\n",
    "    for i in idx.intersection(point.bounds):\n",
    "        if point.within(precincts_gdf.iloc[i].geometry):\n",
    "            return True\n",
    "    return False\n",
    "\n",
    "filtered_grid = [point for point in grid if is_point_inside_precincts(point, precint_footprint, idx)]\n",
    "filtered_grid_df = pandas.DataFrame([(point.x, point.y) for point in filtered_grid], columns=['Longitude', 'Latitude'])\n",
    "#\n",
    "del grid\n",
    "del filtered_grid"
   ],
   "metadata": {
    "collapsed": false
   }
  },
  {
   "cell_type": "code",
   "execution_count": null,
   "outputs": [],
   "source": [
    "from scipy.spatial import cKDTree\n",
    "\n",
    "# create a KD Tree with the Longitude and Latitude columns of filtered_grid_df\n",
    "tree = cKDTree(filtered_grid_df[['Longitude', 'Latitude']])\n",
    "\n",
    "def nearest_grid_point(coord, grid_points):\n",
    "    nearest_index = np.argmin(np.abs(coord - grid_points))\n",
    "    return grid_points[nearest_index]"
   ],
   "metadata": {
    "collapsed": false
   }
  },
  {
   "cell_type": "code",
   "execution_count": null,
   "outputs": [],
   "source": [
    "\n",
    "# query the KD Tree with the Longitude and Latitude columns of crime_data\n",
    "distances, indices = tree.query(crime_data[['Longitude', 'Latitude']])\n",
    "\n",
    "# use the indices to get the corresponding Longitude and Latitude values from filtered_grid_df\n",
    "crime_data['Longitude'] = filtered_grid_df.loc[indices, 'Longitude'].values\n",
    "crime_data['Latitude'] = filtered_grid_df.loc[indices, 'Latitude'].values"
   ],
   "metadata": {
    "collapsed": false
   }
  },
  {
   "cell_type": "code",
   "execution_count": null,
   "outputs": [],
   "source": [
    "plt.scatter(crime_data['Longitude'], crime_data['Latitude'])"
   ],
   "metadata": {
    "collapsed": false
   }
  },
  {
   "cell_type": "code",
   "execution_count": null,
   "outputs": [],
   "source": [
    "crime_data = crime_data.loc[crime_data['Longitude'] > -74.5]"
   ],
   "metadata": {
    "collapsed": false
   }
  },
  {
   "cell_type": "code",
   "execution_count": null,
   "outputs": [],
   "source": [
    "crime_data = crime_data.loc[crime_data['Latitude'] < 42.5]"
   ],
   "metadata": {
    "collapsed": false
   }
  },
  {
   "cell_type": "code",
   "execution_count": null,
   "outputs": [],
   "source": [
    "crime_data"
   ],
   "metadata": {
    "collapsed": false
   }
  },
  {
   "cell_type": "markdown",
   "source": [
    "# VIC_SEX"
   ],
   "metadata": {
    "collapsed": false
   }
  },
  {
   "cell_type": "code",
   "execution_count": null,
   "outputs": [],
   "source": [
    "crime_data['VIC_SEX'].unique()"
   ],
   "metadata": {
    "collapsed": false
   }
  },
  {
   "cell_type": "code",
   "execution_count": null,
   "outputs": [],
   "source": [
    "# Only keep the M and F sex values\n",
    "sexes = ['M', 'F']\n",
    "\n",
    "crime_data = crime_data.loc[crime_data['VIC_SEX'].isin(sexes)]\n",
    "# Re calculate the categories for the Sex column\n",
    "crime_data['VIC_SEX'] = crime_data['VIC_SEX'].cat.remove_unused_categories()\n",
    "\n",
    "del sexes\n",
    "crime_data.head(5)"
   ],
   "metadata": {
    "collapsed": false
   }
  },
  {
   "cell_type": "code",
   "execution_count": null,
   "outputs": [],
   "source": [
    "crime_data['VIC_SEX'].unique()"
   ],
   "metadata": {
    "collapsed": false
   }
  },
  {
   "cell_type": "markdown",
   "source": [
    "# VIC_RACE\n"
   ],
   "metadata": {
    "collapsed": false
   }
  },
  {
   "cell_type": "code",
   "execution_count": null,
   "outputs": [],
   "source": [
    "crime_data['VIC_RACE'].unique()"
   ],
   "metadata": {
    "collapsed": false
   }
  },
  {
   "cell_type": "code",
   "execution_count": null,
   "outputs": [],
   "source": [
    "# Keep everything except for UNKNOWN and OTHER\n",
    "races = ['WHITE', 'WHITE HISPANIC', 'BLACK','ASIAN / PACIFIC ISLANdER', 'BLACK HISPANIC','AMERICAN INDIAN/ALASKAN NATIVE', 'OTHER']\n",
    "\n",
    "crime_data = crime_data.loc[crime_data['VIC_RACE'].isin(races)]\n",
    "# Re calculate the categories for the Sex column\n",
    "crime_data['VIC_RACE'] = crime_data['VIC_RACE'].cat.remove_unused_categories()\n",
    "\n",
    "del races\n",
    "crime_data.head(5)"
   ],
   "metadata": {
    "collapsed": false
   }
  },
  {
   "cell_type": "code",
   "execution_count": null,
   "outputs": [],
   "source": [
    "crime_data['VIC_RACE'].unique()"
   ],
   "metadata": {
    "collapsed": false
   }
  },
  {
   "cell_type": "markdown",
   "source": [
    "# VIC_AGE_GROUP"
   ],
   "metadata": {
    "collapsed": false
   }
  },
  {
   "cell_type": "code",
   "execution_count": null,
   "outputs": [],
   "source": [
    "crime_data['VIC_AGE_GROUP'].unique()"
   ],
   "metadata": {
    "collapsed": false
   }
  },
  {
   "cell_type": "code",
   "execution_count": null,
   "outputs": [],
   "source": [
    "#remove values that don't belong to a victim age group\n",
    "crime_data['VIC_AGE_GROUP'] = numpy.where(crime_data['VIC_AGE_GROUP'].str.len()==4, None, crime_data['VIC_AGE_GROUP'])\n",
    "crime_data['VIC_AGE_GROUP'] = numpy.where(crime_data['VIC_AGE_GROUP'].str.startswith(\"-\"), None, crime_data['VIC_AGE_GROUP'])\n",
    "crime_data['VIC_AGE_GROUP'] = numpy.where(crime_data['VIC_AGE_GROUP'].str.contains(\"<\"), crime_data['VIC_AGE_GROUP'] + ' ', crime_data['VIC_AGE_GROUP'])\n",
    "crime_data['VIC_AGE_GROUP'] = numpy.where(crime_data['VIC_AGE_GROUP'].str.endswith(\"+\"), crime_data['VIC_AGE_GROUP'] + ' ', crime_data['VIC_AGE_GROUP'])\n",
    "crime_data['VIC_AGE_GROUP'] = numpy.where(crime_data['VIC_AGE_GROUP'].str.contains(\"UNKNOWN\"), None, crime_data['VIC_AGE_GROUP'])\n",
    "crime_data['VIC_AGE_GROUP'] = numpy.where(crime_data['VIC_AGE_GROUP'].str.len()==3, None, crime_data['VIC_AGE_GROUP'])"
   ],
   "metadata": {
    "collapsed": false
   }
  },
  {
   "cell_type": "code",
   "execution_count": null,
   "outputs": [],
   "source": [
    "crime_data.head(5)"
   ],
   "metadata": {
    "collapsed": false
   }
  },
  {
   "cell_type": "code",
   "execution_count": null,
   "outputs": [],
   "source": [
    "#delete None\n",
    "crime_data = crime_data.dropna(subset=['VIC_AGE_GROUP'])"
   ],
   "metadata": {
    "collapsed": false
   }
  },
  {
   "cell_type": "code",
   "execution_count": null,
   "outputs": [],
   "source": [
    "crime_data['VIC_AGE_GROUP'].unique()"
   ],
   "metadata": {
    "collapsed": false
   }
  },
  {
   "cell_type": "code",
   "execution_count": null,
   "outputs": [],
   "source": [
    "crime_data.head(5)"
   ],
   "metadata": {
    "collapsed": false
   }
  },
  {
   "cell_type": "markdown",
   "source": [
    "# One hot encoding"
   ],
   "metadata": {
    "collapsed": false
   }
  },
  {
   "cell_type": "code",
   "execution_count": null,
   "outputs": [],
   "source": [
    "one_hot_encoded = pandas.get_dummies(crime_data[['VIC_SEX','VIC_RACE','VIC_AGE_GROUP']])\n",
    "one_hot_encoded"
   ],
   "metadata": {
    "collapsed": false
   }
  },
  {
   "cell_type": "code",
   "execution_count": null,
   "outputs": [],
   "source": [
    "one_hot_encoded_df = crime_data\n",
    "\n",
    "# concatenate the one-hot encoded columns with the original dataframe\n",
    "one_hot_encoded_df = pandas.concat([one_hot_encoded_df, one_hot_encoded], axis=1)\n"
   ],
   "metadata": {
    "collapsed": false
   }
  },
  {
   "cell_type": "code",
   "execution_count": null,
   "outputs": [],
   "source": [
    "one_hot_encoded_df"
   ],
   "metadata": {
    "collapsed": false
   }
  },
  {
   "cell_type": "code",
   "execution_count": null,
   "outputs": [],
   "source": [
    "# drop the VIC_SEX, VIC_Race, and VIC_AGE_GROUP columns\n",
    "one_hot_encoded_df = one_hot_encoded_df.drop('VIC_SEX', axis=1)\n",
    "one_hot_encoded_df = one_hot_encoded_df.drop('VIC_RACE', axis=1)\n",
    "one_hot_encoded_df = one_hot_encoded_df.drop('VIC_AGE_GROUP', axis=1)"
   ],
   "metadata": {
    "collapsed": false
   }
  },
  {
   "cell_type": "code",
   "execution_count": null,
   "outputs": [],
   "source": [
    "crime_counts = (\n",
    "    one_hot_encoded_df.groupby(['Longitude', 'Latitude', 'year', 'day_of_week', 'hour'])\n",
    "    .sum()\n",
    ")"
   ],
   "metadata": {
    "collapsed": false
   }
  },
  {
   "cell_type": "code",
   "execution_count": null,
   "outputs": [],
   "source": [
    "crime_counts.reset_index(inplace=True)\n",
    "crime_counts"
   ],
   "metadata": {
    "collapsed": false
   }
  },
  {
   "cell_type": "markdown",
   "source": [
    "# Trees"
   ],
   "metadata": {
    "collapsed": false
   }
  },
  {
   "cell_type": "code",
   "execution_count": null,
   "outputs": [],
   "source": [
    "rows = None\n",
    "rows = None\n",
    "\n",
    "trees = gpd.read_file('../data/2015 Street Tree Census - Tree Data.geojson', rows=rows)\n",
    "trees = trees.to_crs(epsg=4326)\n",
    "\n",
    "\n",
    "\n",
    "trees['Longitude'] = trees['longitude'].apply(nearest_grid_point, grid_points=x_points)\n",
    "trees['Latitude'] = trees['latitude'].apply(nearest_grid_point, grid_points=y_points)\n",
    "\n",
    "tree_counts = (\n",
    "    trees.groupby(['Longitude', 'Latitude','health'])\n",
    "    .size()\n",
    "    .reset_index(name='tree_count')\n",
    ")\n",
    "\n",
    "\n",
    "tree_counts_pivoted = pd.pivot_table(tree_counts, values='tree_count', index=['Longitude', 'Latitude'], columns=['health'], fill_value=0)\n",
    "tree_counts_pivoted = tree_counts_pivoted.reset_index().rename(columns={'Good': 'good_tree_count', 'Fair': 'fair_tree_count', 'Poor': 'poor_tree_count'})\n",
    "\n",
    "# Remove index name\n",
    "tree_counts_pivoted.index.name = None"
   ],
   "metadata": {
    "collapsed": false
   }
  },
  {
   "cell_type": "code",
   "execution_count": null,
   "id": "a4a9617f",
   "metadata": {},
   "outputs": [],
   "source": [
    "tree_counts"
   ]
  },
  {
   "cell_type": "code",
   "execution_count": null,
   "id": "e3c2c4e8",
   "metadata": {},
   "outputs": [],
   "source": [
    "tree_counts.head()\n",
    "\n",
    "tree_counts_pivoted = pandas.pivot_table(tree_counts, values='tree_count', index=['Longitude', 'Latitude'], columns=['health'], fill_value=0)\n",
    "tree_counts_pivoted = tree_counts_pivoted.reset_index().rename(columns={'Good': 'good_tree_count', 'Fair': 'fair_tree_count', 'Poor': 'poor_tree_count'})\n",
    "\n",
    "# Remove index name\n",
    "tree_counts_pivoted.index.name = None"
   ]
  },
  {
   "cell_type": "code",
   "execution_count": null,
   "id": "04899d31",
   "metadata": {},
   "outputs": [],
   "source": [
    "tree_counts_pivoted"
   ]
  },
  {
   "cell_type": "markdown",
   "source": [
    "# Grid the longitude and latitude\n"
   ],
   "metadata": {
    "collapsed": false
   }
  },
  {
   "cell_type": "code",
   "execution_count": null,
   "id": "def8d082",
   "metadata": {},
   "outputs": [],
   "source": [
    "from scipy.spatial import cKDTree\n",
    "\n",
    "# create a KD Tree with the Longitude and Latitude columns of filtered_grid_df\n",
    "tree = cKDTree(filtered_grid_df[['Longitude', 'Latitude']])\n",
    "\n",
    "# query the KD Tree with the Longitude and Latitude columns of crime_data\n",
    "distances, indices = tree.query(tree_counts_pivoted[['Longitude', 'Latitude']])\n",
    "\n",
    "# use the indices to get the corresponding Longitude and Latitude values from filtered_grid_df\n",
    "tree_counts_pivoted['Longitude'] = filtered_grid_df.loc[indices, 'Longitude'].values\n",
    "tree_counts_pivoted['Latitude'] = filtered_grid_df.loc[indices, 'Latitude'].values"
   ]
  },
  {
   "cell_type": "code",
   "execution_count": null,
   "id": "3112343b",
   "metadata": {},
   "outputs": [],
   "source": [
    "tree_counts_by_location = tree_counts_pivoted.groupby(['Longitude', 'Latitude']).sum().reset_index()\n",
    "tree_counts_by_location"
   ]
  },
  {
   "cell_type": "code",
   "execution_count": null,
   "id": "4320f08e",
   "metadata": {},
   "outputs": [],
   "source": [
    "crime_counts"
   ]
  },
  {
   "cell_type": "code",
   "execution_count": null,
   "id": "606ee37c",
   "metadata": {},
   "outputs": [],
   "source": [
    "merged_data = pandas.merge(crime_counts, tree_counts_by_location, on=['Longitude', 'Latitude'], how='left')\n"
   ]
  },
  {
   "cell_type": "code",
   "execution_count": null,
   "id": "40d7ebc0",
   "metadata": {},
   "outputs": [],
   "source": [
    "merged_data"
   ]
  },
  {
   "cell_type": "code",
   "execution_count": null,
   "id": "324e97af",
   "metadata": {},
   "outputs": [],
   "source": [
    "import pickle\n",
    "\n",
    "with open('merged_data.pickle', 'wb') as f:\n",
    "    pickle.dump(merged_data, f)"
   ]
  },
  {
   "cell_type": "markdown",
   "id": "c75b5fca",
   "metadata": {},
   "source": [
    "# LAB 4"
   ]
  },
  {
   "cell_type": "markdown",
   "source": [
    "# Proxies"
   ],
   "metadata": {
    "collapsed": false
   }
  },
  {
   "cell_type": "code",
   "execution_count": null,
   "outputs": [],
   "source": [
    "corr_matrix = merged_data.corr().round(2)\n",
    "# print(corr_matrix)\n",
    "mask = np.triu(np.ones_like(corr_matrix, dtype=bool))\n",
    "\n",
    "fig, ax = plt.subplots(figsize=(40,40))       \n",
    "sns.heatmap(corr_matrix, annot=True, vmax=1, vmin=-1, center=0, cmap='vlag', mask=mask, ax=ax)\n",
    "plt.show()"
   ],
   "metadata": {
    "collapsed": false
   }
  },
  {
   "cell_type": "markdown",
   "source": [
    "# Representation bias"
   ],
   "metadata": {
    "collapsed": false
   }
  },
  {
   "cell_type": "code",
   "execution_count": null,
   "outputs": [],
   "source": [
    "merged_data2010 = merged_data.loc[merged_data['year'] == 2010]"
   ],
   "metadata": {
    "collapsed": false
   }
  },
  {
   "cell_type": "code",
   "execution_count": null,
   "outputs": [],
   "source": [
    "merged_data2010['VIC_SEX_F'].sum()"
   ],
   "metadata": {
    "collapsed": false
   }
  },
  {
   "cell_type": "code",
   "execution_count": null,
   "outputs": [],
   "source": [
    "merged_data2010['VIC_SEX_M'].sum()"
   ],
   "metadata": {
    "collapsed": false
   }
  },
  {
   "cell_type": "code",
   "execution_count": null,
   "outputs": [],
   "source": [
    "merged_data2010"
   ],
   "metadata": {
    "collapsed": false
   }
  },
  {
   "cell_type": "code",
   "execution_count": null,
   "id": "14e70c36",
   "metadata": {},
   "outputs": [],
   "source": []
  }
 ],
 "metadata": {
  "kernelspec": {
   "display_name": "Python 3 (ipykernel)",
   "language": "python",
   "name": "python3"
  },
  "language_info": {
   "codemirror_mode": {
    "name": "ipython",
    "version": 3
   },
   "file_extension": ".py",
   "mimetype": "text/x-python",
   "name": "python",
   "nbconvert_exporter": "python",
   "pygments_lexer": "ipython3",
   "version": "3.9.13"
  }
 },
 "nbformat": 4,
 "nbformat_minor": 5
}
