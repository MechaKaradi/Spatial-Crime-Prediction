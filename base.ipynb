{
 "cells": [
  {
   "cell_type": "code",
   "execution_count": 18,
   "metadata": {},
   "outputs": [],
   "source": [
    "import pandas\n",
    "import altair"
   ]
  },
  {
   "cell_type": "code",
   "execution_count": 3,
   "metadata": {},
   "outputs": [
    {
     "name": "stderr",
     "output_type": "stream",
     "text": [
      "C:\\Users\\Kaninik\\AppData\\Local\\Temp\\ipykernel_19076\\2705847737.py:1: DtypeWarning: Columns (18,20) have mixed types. Specify dtype option on import or set low_memory=False.\n",
      "  data = pandas.read_csv(\"..//NYPD_Complaint_Data_Historic.csv\")\n"
     ]
    },
    {
     "data": {
      "text/plain": "pandas.core.frame.DataFrame"
     },
     "execution_count": 3,
     "metadata": {},
     "output_type": "execute_result"
    }
   ],
   "source": [
    "data = pandas.read_csv(\"..//NYPD_Complaint_Data_Historic.csv\")\n",
    "type(data)"
   ]
  },
  {
   "cell_type": "code",
   "execution_count": 4,
   "metadata": {},
   "outputs": [
    {
     "name": "stdout",
     "output_type": "stream",
     "text": [
      "<class 'pandas.core.frame.DataFrame'>\n",
      "RangeIndex: 7825499 entries, 0 to 7825498\n",
      "Data columns (total 35 columns):\n",
      " #   Column             Dtype  \n",
      "---  ------             -----  \n",
      " 0   CMPLNT_NUM         int64  \n",
      " 1   CMPLNT_FR_DT       object \n",
      " 2   CMPLNT_FR_TM       object \n",
      " 3   CMPLNT_TO_DT       object \n",
      " 4   CMPLNT_TO_TM       object \n",
      " 5   ADDR_PCT_CD        float64\n",
      " 6   RPT_DT             object \n",
      " 7   KY_CD              int64  \n",
      " 8   OFNS_DESC          object \n",
      " 9   PD_CD              float64\n",
      " 10  PD_DESC            object \n",
      " 11  CRM_ATPT_CPTD_CD   object \n",
      " 12  LAW_CAT_CD         object \n",
      " 13  BORO_NM            object \n",
      " 14  LOC_OF_OCCUR_DESC  object \n",
      " 15  PREM_TYP_DESC      object \n",
      " 16  JURIS_DESC         object \n",
      " 17  JURISDICTION_CODE  float64\n",
      " 18  PARKS_NM           object \n",
      " 19  HADEVELOPT         object \n",
      " 20  HOUSING_PSA        object \n",
      " 21  X_COORD_CD         float64\n",
      " 22  Y_COORD_CD         float64\n",
      " 23  SUSP_AGE_GROUP     object \n",
      " 24  SUSP_RACE          object \n",
      " 25  SUSP_SEX           object \n",
      " 26  TRANSIT_DISTRICT   float64\n",
      " 27  Latitude           float64\n",
      " 28  Longitude          float64\n",
      " 29  Lat_Lon            object \n",
      " 30  PATROL_BORO        object \n",
      " 31  STATION_NAME       object \n",
      " 32  VIC_AGE_GROUP      object \n",
      " 33  VIC_RACE           object \n",
      " 34  VIC_SEX            object \n",
      "dtypes: float64(8), int64(2), object(25)\n",
      "memory usage: 2.0+ GB\n"
     ]
    },
    {
     "data": {
      "text/plain": "         CMPLNT_NUM   ADDR_PCT_CD         KY_CD         PD_CD  \\\ncount  7.825499e+06  7.823333e+06  7.825499e+06  7.818738e+06   \nmean   5.500321e+08  6.334306e+01  2.968756e+02  4.126822e+02   \nstd    2.597822e+08  3.450825e+01  1.511127e+02  2.176568e+02   \nmin    1.000001e+08  1.000000e+00  1.010000e+02  1.000000e+02   \n25%    3.250977e+08  4.000000e+01  1.170000e+02  2.540000e+02   \n50%    5.500406e+08  6.300000e+01  3.410000e+02  3.800000e+02   \n75%    7.750019e+08  9.400000e+01  3.510000e+02  6.370000e+02   \nmax    9.999999e+08  1.230000e+02  8.810000e+02  9.750000e+02   \n\n       JURISDICTION_CODE    X_COORD_CD    Y_COORD_CD  TRANSIT_DISTRICT  \\\ncount       7.818738e+06  7.808160e+06  7.808160e+06     172475.000000   \nmean        7.088369e-01  1.004886e+06  2.071330e+05         13.605833   \nstd         6.648380e+00  2.169996e+04  3.139557e+04         12.475836   \nmin         0.000000e+00  1.110000e+02  1.110000e+02          1.000000   \n25%         0.000000e+00  9.917690e+05  1.844240e+05          3.000000   \n50%         0.000000e+00  1.004419e+06  2.061090e+05         11.000000   \n75%         0.000000e+00  1.016689e+06  2.351720e+05         30.000000   \nmax         9.700000e+01  1.067298e+06  7.250292e+06         34.000000   \n\n           Latitude     Longitude  \ncount  7.808160e+06  7.808160e+06  \nmean   4.073517e+01 -7.392551e+01  \nstd    8.609054e-02  7.825796e-02  \nmin    4.011271e+01 -7.751921e+01  \n25%    4.067280e+01 -7.397287e+01  \n50%    4.073236e+01 -7.392721e+01  \n75%    4.081215e+01 -7.388291e+01  \nmax    5.965727e+01 -7.368479e+01  ",
      "text/html": "<div>\n<style scoped>\n    .dataframe tbody tr th:only-of-type {\n        vertical-align: middle;\n    }\n\n    .dataframe tbody tr th {\n        vertical-align: top;\n    }\n\n    .dataframe thead th {\n        text-align: right;\n    }\n</style>\n<table border=\"1\" class=\"dataframe\">\n  <thead>\n    <tr style=\"text-align: right;\">\n      <th></th>\n      <th>CMPLNT_NUM</th>\n      <th>ADDR_PCT_CD</th>\n      <th>KY_CD</th>\n      <th>PD_CD</th>\n      <th>JURISDICTION_CODE</th>\n      <th>X_COORD_CD</th>\n      <th>Y_COORD_CD</th>\n      <th>TRANSIT_DISTRICT</th>\n      <th>Latitude</th>\n      <th>Longitude</th>\n    </tr>\n  </thead>\n  <tbody>\n    <tr>\n      <th>count</th>\n      <td>7.825499e+06</td>\n      <td>7.823333e+06</td>\n      <td>7.825499e+06</td>\n      <td>7.818738e+06</td>\n      <td>7.818738e+06</td>\n      <td>7.808160e+06</td>\n      <td>7.808160e+06</td>\n      <td>172475.000000</td>\n      <td>7.808160e+06</td>\n      <td>7.808160e+06</td>\n    </tr>\n    <tr>\n      <th>mean</th>\n      <td>5.500321e+08</td>\n      <td>6.334306e+01</td>\n      <td>2.968756e+02</td>\n      <td>4.126822e+02</td>\n      <td>7.088369e-01</td>\n      <td>1.004886e+06</td>\n      <td>2.071330e+05</td>\n      <td>13.605833</td>\n      <td>4.073517e+01</td>\n      <td>-7.392551e+01</td>\n    </tr>\n    <tr>\n      <th>std</th>\n      <td>2.597822e+08</td>\n      <td>3.450825e+01</td>\n      <td>1.511127e+02</td>\n      <td>2.176568e+02</td>\n      <td>6.648380e+00</td>\n      <td>2.169996e+04</td>\n      <td>3.139557e+04</td>\n      <td>12.475836</td>\n      <td>8.609054e-02</td>\n      <td>7.825796e-02</td>\n    </tr>\n    <tr>\n      <th>min</th>\n      <td>1.000001e+08</td>\n      <td>1.000000e+00</td>\n      <td>1.010000e+02</td>\n      <td>1.000000e+02</td>\n      <td>0.000000e+00</td>\n      <td>1.110000e+02</td>\n      <td>1.110000e+02</td>\n      <td>1.000000</td>\n      <td>4.011271e+01</td>\n      <td>-7.751921e+01</td>\n    </tr>\n    <tr>\n      <th>25%</th>\n      <td>3.250977e+08</td>\n      <td>4.000000e+01</td>\n      <td>1.170000e+02</td>\n      <td>2.540000e+02</td>\n      <td>0.000000e+00</td>\n      <td>9.917690e+05</td>\n      <td>1.844240e+05</td>\n      <td>3.000000</td>\n      <td>4.067280e+01</td>\n      <td>-7.397287e+01</td>\n    </tr>\n    <tr>\n      <th>50%</th>\n      <td>5.500406e+08</td>\n      <td>6.300000e+01</td>\n      <td>3.410000e+02</td>\n      <td>3.800000e+02</td>\n      <td>0.000000e+00</td>\n      <td>1.004419e+06</td>\n      <td>2.061090e+05</td>\n      <td>11.000000</td>\n      <td>4.073236e+01</td>\n      <td>-7.392721e+01</td>\n    </tr>\n    <tr>\n      <th>75%</th>\n      <td>7.750019e+08</td>\n      <td>9.400000e+01</td>\n      <td>3.510000e+02</td>\n      <td>6.370000e+02</td>\n      <td>0.000000e+00</td>\n      <td>1.016689e+06</td>\n      <td>2.351720e+05</td>\n      <td>30.000000</td>\n      <td>4.081215e+01</td>\n      <td>-7.388291e+01</td>\n    </tr>\n    <tr>\n      <th>max</th>\n      <td>9.999999e+08</td>\n      <td>1.230000e+02</td>\n      <td>8.810000e+02</td>\n      <td>9.750000e+02</td>\n      <td>9.700000e+01</td>\n      <td>1.067298e+06</td>\n      <td>7.250292e+06</td>\n      <td>34.000000</td>\n      <td>5.965727e+01</td>\n      <td>-7.368479e+01</td>\n    </tr>\n  </tbody>\n</table>\n</div>"
     },
     "execution_count": 4,
     "metadata": {},
     "output_type": "execute_result"
    }
   ],
   "source": [
    "data.info()\n",
    "data.describe()"
   ]
  },
  {
   "cell_type": "code",
   "execution_count": 5,
   "outputs": [],
   "source": [
    "def make_categorical(dataframe, column):\n",
    "    # make the column of the dataframe categorical\n",
    "    dataframe[column] = dataframe[column].astype('category')\n",
    "\n",
    "# get a lst of all the columns in the dataframe\n",
    "columns = ['ADDR_PCT_CD', 'BORO_NM', 'CRM_ATPT_CPTD_CD', 'HADEVELOPT', 'HOUSING_PSA', 'JURISDICTION_CODE', 'JURIS_DESC', 'KY_CD', 'LAW_CAT_CD', 'LOC_OF_OCCUR_DESC', 'OFNS_DESC', 'PARKS_NM', 'PATROL_BORO', 'PD_CD', 'PD_DESC', 'RPT_DT', 'STATION_NAME', 'SUSP_AGE_GROUP', 'SUSP_RACE', 'SUSP_SEX', 'TRANSIT_DISTRICT', 'VIC_AGE_GROUP', 'VIC_RACE', 'VIC_SEX']\n",
    "\n",
    "    # make each column categorical\n",
    "for column in columns:\n",
    "    make_categorical(data, column)\n"
   ],
   "metadata": {
    "collapsed": false
   }
  },
  {
   "cell_type": "code",
   "execution_count": 21,
   "outputs": [],
   "source": [
    "patrol_count = data['ADDR_PCT_CD'].value_counts()"
   ],
   "metadata": {
    "collapsed": false
   }
  },
  {
   "cell_type": "code",
   "execution_count": 27,
   "outputs": [
    {
     "data": {
      "text/html": "\n<div id=\"altair-viz-3fd55fdea2b74295855c5de2f4a7fddf\"></div>\n<script type=\"text/javascript\">\n  var VEGA_DEBUG = (typeof VEGA_DEBUG == \"undefined\") ? {} : VEGA_DEBUG;\n  (function(spec, embedOpt){\n    let outputDiv = document.currentScript.previousElementSibling;\n    if (outputDiv.id !== \"altair-viz-3fd55fdea2b74295855c5de2f4a7fddf\") {\n      outputDiv = document.getElementById(\"altair-viz-3fd55fdea2b74295855c5de2f4a7fddf\");\n    }\n    const paths = {\n      \"vega\": \"https://cdn.jsdelivr.net/npm//vega@5?noext\",\n      \"vega-lib\": \"https://cdn.jsdelivr.net/npm//vega-lib?noext\",\n      \"vega-lite\": \"https://cdn.jsdelivr.net/npm//vega-lite@4.17.0?noext\",\n      \"vega-embed\": \"https://cdn.jsdelivr.net/npm//vega-embed@6?noext\",\n    };\n\n    function maybeLoadScript(lib, version) {\n      var key = `${lib.replace(\"-\", \"\")}_version`;\n      return (VEGA_DEBUG[key] == version) ?\n        Promise.resolve(paths[lib]) :\n        new Promise(function(resolve, reject) {\n          var s = document.createElement('script');\n          document.getElementsByTagName(\"head\")[0].appendChild(s);\n          s.async = true;\n          s.onload = () => {\n            VEGA_DEBUG[key] = version;\n            return resolve(paths[lib]);\n          };\n          s.onerror = () => reject(`Error loading script: ${paths[lib]}`);\n          s.src = paths[lib];\n        });\n    }\n\n    function showError(err) {\n      outputDiv.innerHTML = `<div class=\"error\" style=\"color:red;\">${err}</div>`;\n      throw err;\n    }\n\n    function displayChart(vegaEmbed) {\n      vegaEmbed(outputDiv, spec, embedOpt)\n        .catch(err => showError(`Javascript Error: ${err.message}<br>This usually means there's a typo in your chart specification. See the javascript console for the full traceback.`));\n    }\n\n    if(typeof define === \"function\" && define.amd) {\n      requirejs.config({paths});\n      require([\"vega-embed\"], displayChart, err => showError(`Error loading script: ${err.message}`));\n    } else {\n      maybeLoadScript(\"vega\", \"5\")\n        .then(() => maybeLoadScript(\"vega-lite\", \"4.17.0\"))\n        .then(() => maybeLoadScript(\"vega-embed\", \"6\"))\n        .catch(showError)\n        .then(() => displayChart(vegaEmbed));\n    }\n  })({\"config\": {\"view\": {\"continuousWidth\": 400, \"continuousHeight\": 300}}, \"data\": {\"name\": \"data-8848e6214820e4e7cba951c1a898ad7f\"}, \"mark\": \"bar\", \"encoding\": {\"x\": {\"field\": \"index\", \"type\": \"nominal\"}, \"y\": {\"field\": \"ADDR_PCT_CD\", \"type\": \"quantitative\"}}, \"height\": 500, \"title\": \"Number of crimes per patrol_boro\", \"width\": 1000, \"$schema\": \"https://vega.github.io/schema/vega-lite/v4.17.0.json\", \"datasets\": {\"data-8848e6214820e4e7cba951c1a898ad7f\": [{\"index\": 75.0, \"ADDR_PCT_CD\": 251053}, {\"index\": 43.0, \"ADDR_PCT_CD\": 200123}, {\"index\": 44.0, \"ADDR_PCT_CD\": 194402}, {\"index\": 40.0, \"ADDR_PCT_CD\": 188532}, {\"index\": 14.0, \"ADDR_PCT_CD\": 176797}, {\"index\": 46.0, \"ADDR_PCT_CD\": 164512}, {\"index\": 52.0, \"ADDR_PCT_CD\": 163235}, {\"index\": 73.0, \"ADDR_PCT_CD\": 159316}, {\"index\": 120.0, \"ADDR_PCT_CD\": 151535}, {\"index\": 47.0, \"ADDR_PCT_CD\": 149147}, {\"index\": 67.0, \"ADDR_PCT_CD\": 148169}, {\"index\": 114.0, \"ADDR_PCT_CD\": 144861}, {\"index\": 113.0, \"ADDR_PCT_CD\": 131608}, {\"index\": 109.0, \"ADDR_PCT_CD\": 129408}, {\"index\": 115.0, \"ADDR_PCT_CD\": 127727}, {\"index\": 48.0, \"ADDR_PCT_CD\": 127307}, {\"index\": 42.0, \"ADDR_PCT_CD\": 126706}, {\"index\": 79.0, \"ADDR_PCT_CD\": 124529}, {\"index\": 18.0, \"ADDR_PCT_CD\": 124321}, {\"index\": 70.0, \"ADDR_PCT_CD\": 122478}, {\"index\": 103.0, \"ADDR_PCT_CD\": 122035}, {\"index\": 105.0, \"ADDR_PCT_CD\": 117005}, {\"index\": 13.0, \"ADDR_PCT_CD\": 114926}, {\"index\": 104.0, \"ADDR_PCT_CD\": 111624}, {\"index\": 77.0, \"ADDR_PCT_CD\": 111447}, {\"index\": 122.0, \"ADDR_PCT_CD\": 110354}, {\"index\": 110.0, \"ADDR_PCT_CD\": 108546}, {\"index\": 71.0, \"ADDR_PCT_CD\": 107590}, {\"index\": 19.0, \"ADDR_PCT_CD\": 107469}, {\"index\": 83.0, \"ADDR_PCT_CD\": 107423}, {\"index\": 25.0, \"ADDR_PCT_CD\": 106608}, {\"index\": 32.0, \"ADDR_PCT_CD\": 106041}, {\"index\": 49.0, \"ADDR_PCT_CD\": 105546}, {\"index\": 41.0, \"ADDR_PCT_CD\": 105310}, {\"index\": 90.0, \"ADDR_PCT_CD\": 102389}, {\"index\": 23.0, \"ADDR_PCT_CD\": 101459}, {\"index\": 45.0, \"ADDR_PCT_CD\": 98938}, {\"index\": 60.0, \"ADDR_PCT_CD\": 98865}, {\"index\": 1.0, \"ADDR_PCT_CD\": 98493}, {\"index\": 102.0, \"ADDR_PCT_CD\": 96550}, {\"index\": 106.0, \"ADDR_PCT_CD\": 96228}, {\"index\": 61.0, \"ADDR_PCT_CD\": 95352}, {\"index\": 81.0, \"ADDR_PCT_CD\": 95024}, {\"index\": 62.0, \"ADDR_PCT_CD\": 93921}, {\"index\": 9.0, \"ADDR_PCT_CD\": 92556}, {\"index\": 34.0, \"ADDR_PCT_CD\": 86149}, {\"index\": 72.0, \"ADDR_PCT_CD\": 85596}, {\"index\": 6.0, \"ADDR_PCT_CD\": 83956}, {\"index\": 28.0, \"ADDR_PCT_CD\": 83930}, {\"index\": 108.0, \"ADDR_PCT_CD\": 82789}, {\"index\": 107.0, \"ADDR_PCT_CD\": 82258}, {\"index\": 84.0, \"ADDR_PCT_CD\": 81053}, {\"index\": 63.0, \"ADDR_PCT_CD\": 80233}, {\"index\": 68.0, \"ADDR_PCT_CD\": 78463}, {\"index\": 24.0, \"ADDR_PCT_CD\": 77876}, {\"index\": 69.0, \"ADDR_PCT_CD\": 75126}, {\"index\": 66.0, \"ADDR_PCT_CD\": 74189}, {\"index\": 30.0, \"ADDR_PCT_CD\": 72810}, {\"index\": 50.0, \"ADDR_PCT_CD\": 72325}, {\"index\": 33.0, \"ADDR_PCT_CD\": 70253}, {\"index\": 5.0, \"ADDR_PCT_CD\": 69360}, {\"index\": 88.0, \"ADDR_PCT_CD\": 68583}, {\"index\": 101.0, \"ADDR_PCT_CD\": 67744}, {\"index\": 7.0, \"ADDR_PCT_CD\": 66773}, {\"index\": 10.0, \"ADDR_PCT_CD\": 65978}, {\"index\": 20.0, \"ADDR_PCT_CD\": 64774}, {\"index\": 78.0, \"ADDR_PCT_CD\": 57354}, {\"index\": 112.0, \"ADDR_PCT_CD\": 56483}, {\"index\": 94.0, \"ADDR_PCT_CD\": 55290}, {\"index\": 17.0, \"ADDR_PCT_CD\": 54235}, {\"index\": 121.0, \"ADDR_PCT_CD\": 52204}, {\"index\": 26.0, \"ADDR_PCT_CD\": 52068}, {\"index\": 111.0, \"ADDR_PCT_CD\": 49140}, {\"index\": 123.0, \"ADDR_PCT_CD\": 48182}, {\"index\": 76.0, \"ADDR_PCT_CD\": 43073}, {\"index\": 100.0, \"ADDR_PCT_CD\": 41673}, {\"index\": 22.0, \"ADDR_PCT_CD\": 5948}]}}, {\"mode\": \"vega-lite\"});\n</script>",
      "text/plain": "alt.Chart(...)"
     },
     "execution_count": 27,
     "metadata": {},
     "output_type": "execute_result"
    }
   ],
   "source": [
    "# using altair plot the number of crimes per patrol_boro in a bar chart\n",
    "altair.Chart(patrol_count.reset_index()).mark_bar().encode(\n",
    "    x='index',\n",
    "    y='ADDR_PCT_CD',\n",
    ").properties(\n",
    "    title='Number of crimes per patrol_boro',\n",
    "    width=1000,\n",
    "    height=500\n",
    ")"
   ],
   "metadata": {
    "collapsed": false
   }
  },
  {
   "cell_type": "code",
   "execution_count": 7,
   "metadata": {},
   "outputs": [],
   "source": [
    "data['OCC'] = data['CMPLNT_FR_DT'].astype(str) + \" \" +data['CMPLNT_FR_TM']\n",
    "data['OCC_END'] = data['CMPLNT_TO_DT'].astype(str) + \" \" +data['CMPLNT_TO_TM']"
   ]
  },
  {
   "cell_type": "code",
   "execution_count": 8,
   "metadata": {},
   "outputs": [
    {
     "data": {
      "text/plain": "0    03/29/2018 20:30:00\n1    02/06/2018 23:15:00\n2    11/21/2018 00:15:00\n3    06/09/2018 21:42:00\n4    11/10/2018 19:40:00\nName: OCC, dtype: object"
     },
     "execution_count": 8,
     "metadata": {},
     "output_type": "execute_result"
    }
   ],
   "source": [
    "data['OCC'].head(5)"
   ]
  },
  {
   "cell_type": "code",
   "execution_count": 9,
   "metadata": {},
   "outputs": [
    {
     "data": {
      "text/plain": "0                    NaN\n1                    NaN\n2    11/21/2018 00:20:00\n3    06/09/2018 21:43:00\n4    11/10/2018 19:45:00\nName: OCC_END, dtype: object"
     },
     "execution_count": 9,
     "metadata": {},
     "output_type": "execute_result"
    }
   ],
   "source": [
    "data['OCC_END'].head(5)"
   ]
  },
  {
   "cell_type": "code",
   "execution_count": 9,
   "outputs": [],
   "source": [],
   "metadata": {
    "collapsed": false
   }
  },
  {
   "cell_type": "code",
   "execution_count": 10,
   "metadata": {},
   "outputs": [
    {
     "ename": "OutOfBoundsDatetime",
     "evalue": "Out of bounds nanosecond timestamp: 1028-06-21 18:00:00 present at position 27658",
     "output_type": "error",
     "traceback": [
      "\u001B[1;31m---------------------------------------------------------------------------\u001B[0m",
      "\u001B[1;31mOutOfBoundsDatetime\u001B[0m                       Traceback (most recent call last)",
      "Cell \u001B[1;32mIn[10], line 1\u001B[0m\n\u001B[1;32m----> 1\u001B[0m data[\u001B[38;5;124m'\u001B[39m\u001B[38;5;124mOCC\u001B[39m\u001B[38;5;124m'\u001B[39m] \u001B[38;5;241m=\u001B[39m pandas\u001B[38;5;241m.\u001B[39mto_datetime(data[\u001B[38;5;124m'\u001B[39m\u001B[38;5;124mOCC\u001B[39m\u001B[38;5;124m'\u001B[39m])\n\u001B[0;32m      2\u001B[0m data[\u001B[38;5;124m'\u001B[39m\u001B[38;5;124mOCC\u001B[39m\u001B[38;5;124m'\u001B[39m]\u001B[38;5;241m.\u001B[39mhead(\u001B[38;5;241m15\u001B[39m)\n",
      "File \u001B[1;32m~\\anaconda3\\envs\\Py311\\Lib\\site-packages\\pandas\\core\\tools\\datetimes.py:1068\u001B[0m, in \u001B[0;36mto_datetime\u001B[1;34m(arg, errors, dayfirst, yearfirst, utc, format, exact, unit, infer_datetime_format, origin, cache)\u001B[0m\n\u001B[0;32m   1066\u001B[0m         result \u001B[38;5;241m=\u001B[39m arg\u001B[38;5;241m.\u001B[39mmap(cache_array)\n\u001B[0;32m   1067\u001B[0m     \u001B[38;5;28;01melse\u001B[39;00m:\n\u001B[1;32m-> 1068\u001B[0m         values \u001B[38;5;241m=\u001B[39m convert_listlike(arg\u001B[38;5;241m.\u001B[39m_values, \u001B[38;5;28mformat\u001B[39m)\n\u001B[0;32m   1069\u001B[0m         result \u001B[38;5;241m=\u001B[39m arg\u001B[38;5;241m.\u001B[39m_constructor(values, index\u001B[38;5;241m=\u001B[39marg\u001B[38;5;241m.\u001B[39mindex, name\u001B[38;5;241m=\u001B[39marg\u001B[38;5;241m.\u001B[39mname)\n\u001B[0;32m   1070\u001B[0m \u001B[38;5;28;01melif\u001B[39;00m \u001B[38;5;28misinstance\u001B[39m(arg, (ABCDataFrame, abc\u001B[38;5;241m.\u001B[39mMutableMapping)):\n",
      "File \u001B[1;32m~\\anaconda3\\envs\\Py311\\Lib\\site-packages\\pandas\\core\\tools\\datetimes.py:438\u001B[0m, in \u001B[0;36m_convert_listlike_datetimes\u001B[1;34m(arg, format, name, tz, unit, errors, infer_datetime_format, dayfirst, yearfirst, exact)\u001B[0m\n\u001B[0;32m    436\u001B[0m \u001B[38;5;28;01massert\u001B[39;00m \u001B[38;5;28mformat\u001B[39m \u001B[38;5;129;01mis\u001B[39;00m \u001B[38;5;28;01mNone\u001B[39;00m \u001B[38;5;129;01mor\u001B[39;00m infer_datetime_format\n\u001B[0;32m    437\u001B[0m utc \u001B[38;5;241m=\u001B[39m tz \u001B[38;5;241m==\u001B[39m \u001B[38;5;124m\"\u001B[39m\u001B[38;5;124mutc\u001B[39m\u001B[38;5;124m\"\u001B[39m\n\u001B[1;32m--> 438\u001B[0m result, tz_parsed \u001B[38;5;241m=\u001B[39m objects_to_datetime64ns(\n\u001B[0;32m    439\u001B[0m     arg,\n\u001B[0;32m    440\u001B[0m     dayfirst\u001B[38;5;241m=\u001B[39mdayfirst,\n\u001B[0;32m    441\u001B[0m     yearfirst\u001B[38;5;241m=\u001B[39myearfirst,\n\u001B[0;32m    442\u001B[0m     utc\u001B[38;5;241m=\u001B[39mutc,\n\u001B[0;32m    443\u001B[0m     errors\u001B[38;5;241m=\u001B[39merrors,\n\u001B[0;32m    444\u001B[0m     require_iso8601\u001B[38;5;241m=\u001B[39mrequire_iso8601,\n\u001B[0;32m    445\u001B[0m     allow_object\u001B[38;5;241m=\u001B[39m\u001B[38;5;28;01mTrue\u001B[39;00m,\n\u001B[0;32m    446\u001B[0m )\n\u001B[0;32m    448\u001B[0m \u001B[38;5;28;01mif\u001B[39;00m tz_parsed \u001B[38;5;129;01mis\u001B[39;00m \u001B[38;5;129;01mnot\u001B[39;00m \u001B[38;5;28;01mNone\u001B[39;00m:\n\u001B[0;32m    449\u001B[0m     \u001B[38;5;66;03m# We can take a shortcut since the datetime64 numpy array\u001B[39;00m\n\u001B[0;32m    450\u001B[0m     \u001B[38;5;66;03m# is in UTC\u001B[39;00m\n\u001B[0;32m    451\u001B[0m     dta \u001B[38;5;241m=\u001B[39m DatetimeArray(result, dtype\u001B[38;5;241m=\u001B[39mtz_to_dtype(tz_parsed))\n",
      "File \u001B[1;32m~\\anaconda3\\envs\\Py311\\Lib\\site-packages\\pandas\\core\\arrays\\datetimes.py:2177\u001B[0m, in \u001B[0;36mobjects_to_datetime64ns\u001B[1;34m(data, dayfirst, yearfirst, utc, errors, require_iso8601, allow_object, allow_mixed)\u001B[0m\n\u001B[0;32m   2175\u001B[0m order: Literal[\u001B[38;5;124m\"\u001B[39m\u001B[38;5;124mF\u001B[39m\u001B[38;5;124m\"\u001B[39m, \u001B[38;5;124m\"\u001B[39m\u001B[38;5;124mC\u001B[39m\u001B[38;5;124m\"\u001B[39m] \u001B[38;5;241m=\u001B[39m \u001B[38;5;124m\"\u001B[39m\u001B[38;5;124mF\u001B[39m\u001B[38;5;124m\"\u001B[39m \u001B[38;5;28;01mif\u001B[39;00m flags\u001B[38;5;241m.\u001B[39mf_contiguous \u001B[38;5;28;01melse\u001B[39;00m \u001B[38;5;124m\"\u001B[39m\u001B[38;5;124mC\u001B[39m\u001B[38;5;124m\"\u001B[39m\n\u001B[0;32m   2176\u001B[0m \u001B[38;5;28;01mtry\u001B[39;00m:\n\u001B[1;32m-> 2177\u001B[0m     result, tz_parsed \u001B[38;5;241m=\u001B[39m tslib\u001B[38;5;241m.\u001B[39marray_to_datetime(\n\u001B[0;32m   2178\u001B[0m         data\u001B[38;5;241m.\u001B[39mravel(\u001B[38;5;124m\"\u001B[39m\u001B[38;5;124mK\u001B[39m\u001B[38;5;124m\"\u001B[39m),\n\u001B[0;32m   2179\u001B[0m         errors\u001B[38;5;241m=\u001B[39merrors,\n\u001B[0;32m   2180\u001B[0m         utc\u001B[38;5;241m=\u001B[39mutc,\n\u001B[0;32m   2181\u001B[0m         dayfirst\u001B[38;5;241m=\u001B[39mdayfirst,\n\u001B[0;32m   2182\u001B[0m         yearfirst\u001B[38;5;241m=\u001B[39myearfirst,\n\u001B[0;32m   2183\u001B[0m         require_iso8601\u001B[38;5;241m=\u001B[39mrequire_iso8601,\n\u001B[0;32m   2184\u001B[0m         allow_mixed\u001B[38;5;241m=\u001B[39mallow_mixed,\n\u001B[0;32m   2185\u001B[0m     )\n\u001B[0;32m   2186\u001B[0m     result \u001B[38;5;241m=\u001B[39m result\u001B[38;5;241m.\u001B[39mreshape(data\u001B[38;5;241m.\u001B[39mshape, order\u001B[38;5;241m=\u001B[39morder)\n\u001B[0;32m   2187\u001B[0m \u001B[38;5;28;01mexcept\u001B[39;00m \u001B[38;5;167;01mOverflowError\u001B[39;00m \u001B[38;5;28;01mas\u001B[39;00m err:\n\u001B[0;32m   2188\u001B[0m     \u001B[38;5;66;03m# Exception is raised when a part of date is greater than 32 bit signed int\u001B[39;00m\n",
      "File \u001B[1;32m~\\anaconda3\\envs\\Py311\\Lib\\site-packages\\pandas\\_libs\\tslib.pyx:427\u001B[0m, in \u001B[0;36mpandas._libs.tslib.array_to_datetime\u001B[1;34m()\u001B[0m\n",
      "File \u001B[1;32m~\\anaconda3\\envs\\Py311\\Lib\\site-packages\\pandas\\_libs\\tslib.pyx:678\u001B[0m, in \u001B[0;36mpandas._libs.tslib.array_to_datetime\u001B[1;34m()\u001B[0m\n",
      "File \u001B[1;32m~\\anaconda3\\envs\\Py311\\Lib\\site-packages\\pandas\\_libs\\tslib.pyx:674\u001B[0m, in \u001B[0;36mpandas._libs.tslib.array_to_datetime\u001B[1;34m()\u001B[0m\n",
      "File \u001B[1;32m~\\anaconda3\\envs\\Py311\\Lib\\site-packages\\pandas\\_libs\\tslib.pyx:628\u001B[0m, in \u001B[0;36mpandas._libs.tslib.array_to_datetime\u001B[1;34m()\u001B[0m\n",
      "File \u001B[1;32m~\\anaconda3\\envs\\Py311\\Lib\\site-packages\\pandas\\_libs\\tslibs\\conversion.pyx:391\u001B[0m, in \u001B[0;36mpandas._libs.tslibs.conversion.convert_datetime_to_tsobject\u001B[1;34m()\u001B[0m\n",
      "File \u001B[1;32m~\\anaconda3\\envs\\Py311\\Lib\\site-packages\\pandas\\_libs\\tslibs\\np_datetime.pyx:212\u001B[0m, in \u001B[0;36mpandas._libs.tslibs.np_datetime.check_dts_bounds\u001B[1;34m()\u001B[0m\n",
      "\u001B[1;31mOutOfBoundsDatetime\u001B[0m: Out of bounds nanosecond timestamp: 1028-06-21 18:00:00 present at position 27658"
     ]
    }
   ],
   "source": [
    "data['OCC'] = pandas.to_datetime(data['OCC'])\n",
    "data['OCC'].head(15)"
   ]
  },
  {
   "cell_type": "code",
   "execution_count": null,
   "metadata": {
    "collapsed": false
   },
   "outputs": [],
   "source": [
    "data['OCC_END'] = pandas.to_datetime(data['OCC_END'], errors = 'ignore')\n",
    "data['RPT_DT'] = pandas.to_datetime(data['RPT_DT'], errors = 'ignore')"
   ]
  },
  {
   "cell_type": "code",
   "execution_count": null,
   "metadata": {},
   "outputs": [],
   "source": [
    "(data['OCC'][3])"
   ]
  },
  {
   "cell_type": "code",
   "execution_count": null,
   "metadata": {},
   "outputs": [],
   "source": [
    "data['OCC_END'].head(5)"
   ]
  },
  {
   "cell_type": "code",
   "execution_count": null,
   "metadata": {},
   "outputs": [],
   "source": [
    "data['RPT_DT'].head(5)"
   ]
  },
  {
   "cell_type": "code",
   "execution_count": null,
   "metadata": {},
   "outputs": [],
   "source": [
    "import pickle\n",
    "\n",
    "with open('data.pickle', 'wb') as f:\n",
    "    pickle.dump(data, f)\n",
    "\n"
   ]
  },
  {
   "cell_type": "code",
   "execution_count": null,
   "metadata": {},
   "outputs": [],
   "source": [
    "data_notexact=data[~data['CMPLNT_TO_DT'].isna()]\n",
    "data_exact=data[data['CMPLNT_TO_DT'].isna()]\n"
   ]
  },
  {
   "cell_type": "code",
   "execution_count": null,
   "metadata": {},
   "outputs": [],
   "source": [
    "def exact_moment(x):\n",
    "    if (x < pandas.to_datetime('12:00:00')) & (x  >= pandas.to_datetime('06:00:00')):\n",
    "            return \"Morning\" \n",
    "    else:\n",
    "        if (x < pandas.to_datetime('18:00:00')) & (x >= pandas.to_datetime('12:00:00')):\n",
    "            return \"Afternoon\"\n",
    "        else:\n",
    "            if (x  <= pandas.to_datetime('23:59:59')) & (x >= pandas.to_datetime('18:00:00')):    \n",
    "                return \"Night\"\n",
    "            else:\n",
    "                return \"Dawn\"  "
   ]
  },
  {
   "cell_type": "code",
   "execution_count": null,
   "metadata": {},
   "outputs": [],
   "source": [
    "data_exact['Moment'] = data_exact['OCC'].apply(exact_moment)"
   ]
  },
  {
   "cell_type": "code",
   "execution_count": null,
   "metadata": {},
   "outputs": [],
   "source": [
    "data = data[(data['PD_CD'] > 149) & (data['PD_CD'] < 181)]\n",
    "data\n",
    "#Filter data by se-related crimes"
   ]
  },
  {
   "cell_type": "code",
   "execution_count": null,
   "metadata": {},
   "outputs": [],
   "source": [
    "def notexact_moment(x):\n",
    "    if x[2]==x[3]:    \n",
    "        if (x[1] < pandas.to_datetime('12:00:00')) & (x[0]  >= pandas.to_datetime('06:00:00')):\n",
    "                return \"Morning\" \n",
    "        else:\n",
    "            if (x[1] < pandas.to_datetime('18:00:00')) & (x[0] >= pandas.to_datetime('12:00:00')):\n",
    "                return \"Afternoon\"\n",
    "            else:\n",
    "                if (x[1]  <= pandas.to_datetime('23:59:59')) & (x[0] >= pandas.to_datetime('18:00:00')):    \n",
    "                    return \"Night\"\n",
    "                else:\n",
    "                    if (x[1] < pandas.to_datetime('06:00:00')) & (x[0] >= pandas.to_datetime('00:00:00')):\n",
    "                            return \"Dawn\"    \n",
    "                    else:\n",
    "                            return \"Not certain\"\n",
    "    else:\n",
    "         return 'Not certain'    "
   ]
  },
  {
   "cell_type": "code",
   "execution_count": null,
   "metadata": {},
   "outputs": [],
   "source": [
    "data_notexact['Moment']=data_notexact[['OCC','OCC_END','CMPLNT_FR_DT','CMPLNT_TO_DT']].apply(notexact_moment)"
   ]
  }
 ],
 "metadata": {
  "kernelspec": {
   "display_name": "base",
   "language": "python",
   "name": "python3"
  },
  "language_info": {
   "codemirror_mode": {
    "name": "ipython",
    "version": 3
   },
   "file_extension": ".py",
   "mimetype": "text/x-python",
   "name": "python",
   "nbconvert_exporter": "python",
   "pygments_lexer": "ipython3",
   "version": "3.9.13"
  },
  "vscode": {
   "interpreter": {
    "hash": "38efaa045fcc2680aaeae51f7ac851acc4f32df019d3afeeab3c12114d76b9ae"
   }
  }
 },
 "nbformat": 4,
 "nbformat_minor": 1
}
