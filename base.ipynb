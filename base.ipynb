{
 "cells": [
  {
   "cell_type": "code",
   "execution_count": 6,
   "metadata": {
    "collapsed": true
   },
   "outputs": [],
   "source": [
    "import pandas\n"
   ]
  },
  {
   "cell_type": "code",
   "execution_count": 27,
   "outputs": [
    {
     "name": "stderr",
     "output_type": "stream",
     "text": [
      "C:\\Users\\Kaninik\\AppData\\Local\\Temp\\ipykernel_836\\3142929872.py:1: DtypeWarning: Columns (18,20) have mixed types. Specify dtype option on import or set low_memory=False.\n",
      "  data = pandas.read_csv(\"..\\\\NYPD_Complaint_Data_Historic.csv\")\n"
     ]
    },
    {
     "data": {
      "text/plain": "pandas.core.frame.DataFrame"
     },
     "execution_count": 27,
     "metadata": {},
     "output_type": "execute_result"
    }
   ],
   "source": [
    "data = pandas.read_csv(\"..\\\\NYPD_Complaint_Data_Historic.csv\")\n",
    "type(data)"
   ],
   "metadata": {
    "collapsed": false
   }
  },
  {
   "cell_type": "code",
   "execution_count": 28,
   "outputs": [
    {
     "name": "stdout",
     "output_type": "stream",
     "text": [
      "<class 'pandas.core.frame.DataFrame'>\n",
      "RangeIndex: 7825499 entries, 0 to 7825498\n",
      "Data columns (total 35 columns):\n",
      " #   Column             Dtype  \n",
      "---  ------             -----  \n",
      " 0   CMPLNT_NUM         int64  \n",
      " 1   CMPLNT_FR_DT       object \n",
      " 2   CMPLNT_FR_TM       object \n",
      " 3   CMPLNT_TO_DT       object \n",
      " 4   CMPLNT_TO_TM       object \n",
      " 5   ADDR_PCT_CD        float64\n",
      " 6   RPT_DT             object \n",
      " 7   KY_CD              int64  \n",
      " 8   OFNS_DESC          object \n",
      " 9   PD_CD              float64\n",
      " 10  PD_DESC            object \n",
      " 11  CRM_ATPT_CPTD_CD   object \n",
      " 12  LAW_CAT_CD         object \n",
      " 13  BORO_NM            object \n",
      " 14  LOC_OF_OCCUR_DESC  object \n",
      " 15  PREM_TYP_DESC      object \n",
      " 16  JURIS_DESC         object \n",
      " 17  JURISDICTION_CODE  float64\n",
      " 18  PARKS_NM           object \n",
      " 19  HADEVELOPT         object \n",
      " 20  HOUSING_PSA        object \n",
      " 21  X_COORD_CD         float64\n",
      " 22  Y_COORD_CD         float64\n",
      " 23  SUSP_AGE_GROUP     object \n",
      " 24  SUSP_RACE          object \n",
      " 25  SUSP_SEX           object \n",
      " 26  TRANSIT_DISTRICT   float64\n",
      " 27  Latitude           float64\n",
      " 28  Longitude          float64\n",
      " 29  Lat_Lon            object \n",
      " 30  PATROL_BORO        object \n",
      " 31  STATION_NAME       object \n",
      " 32  VIC_AGE_GROUP      object \n",
      " 33  VIC_RACE           object \n",
      " 34  VIC_SEX            object \n",
      "dtypes: float64(8), int64(2), object(25)\n",
      "memory usage: 2.0+ GB\n"
     ]
    },
    {
     "data": {
      "text/plain": "         CMPLNT_NUM   ADDR_PCT_CD         KY_CD         PD_CD  \\\ncount  7.825499e+06  7.823333e+06  7.825499e+06  7.818738e+06   \nmean   5.500321e+08  6.334306e+01  2.968756e+02  4.126822e+02   \nstd    2.597822e+08  3.450825e+01  1.511127e+02  2.176568e+02   \nmin    1.000001e+08  1.000000e+00  1.010000e+02  1.000000e+02   \n25%    3.250977e+08  4.000000e+01  1.170000e+02  2.540000e+02   \n50%    5.500406e+08  6.300000e+01  3.410000e+02  3.800000e+02   \n75%    7.750019e+08  9.400000e+01  3.510000e+02  6.370000e+02   \nmax    9.999999e+08  1.230000e+02  8.810000e+02  9.750000e+02   \n\n       JURISDICTION_CODE    X_COORD_CD    Y_COORD_CD  TRANSIT_DISTRICT  \\\ncount       7.818738e+06  7.808160e+06  7.808160e+06     172475.000000   \nmean        7.088369e-01  1.004886e+06  2.071330e+05         13.605833   \nstd         6.648380e+00  2.169996e+04  3.139557e+04         12.475836   \nmin         0.000000e+00  1.110000e+02  1.110000e+02          1.000000   \n25%         0.000000e+00  9.917690e+05  1.844240e+05          3.000000   \n50%         0.000000e+00  1.004419e+06  2.061090e+05         11.000000   \n75%         0.000000e+00  1.016689e+06  2.351720e+05         30.000000   \nmax         9.700000e+01  1.067298e+06  7.250292e+06         34.000000   \n\n           Latitude     Longitude  \ncount  7.808160e+06  7.808160e+06  \nmean   4.073517e+01 -7.392551e+01  \nstd    8.609054e-02  7.825796e-02  \nmin    4.011271e+01 -7.751921e+01  \n25%    4.067280e+01 -7.397287e+01  \n50%    4.073236e+01 -7.392721e+01  \n75%    4.081215e+01 -7.388291e+01  \nmax    5.965727e+01 -7.368479e+01  ",
      "text/html": "<div>\n<style scoped>\n    .dataframe tbody tr th:only-of-type {\n        vertical-align: middle;\n    }\n\n    .dataframe tbody tr th {\n        vertical-align: top;\n    }\n\n    .dataframe thead th {\n        text-align: right;\n    }\n</style>\n<table border=\"1\" class=\"dataframe\">\n  <thead>\n    <tr style=\"text-align: right;\">\n      <th></th>\n      <th>CMPLNT_NUM</th>\n      <th>ADDR_PCT_CD</th>\n      <th>KY_CD</th>\n      <th>PD_CD</th>\n      <th>JURISDICTION_CODE</th>\n      <th>X_COORD_CD</th>\n      <th>Y_COORD_CD</th>\n      <th>TRANSIT_DISTRICT</th>\n      <th>Latitude</th>\n      <th>Longitude</th>\n    </tr>\n  </thead>\n  <tbody>\n    <tr>\n      <th>count</th>\n      <td>7.825499e+06</td>\n      <td>7.823333e+06</td>\n      <td>7.825499e+06</td>\n      <td>7.818738e+06</td>\n      <td>7.818738e+06</td>\n      <td>7.808160e+06</td>\n      <td>7.808160e+06</td>\n      <td>172475.000000</td>\n      <td>7.808160e+06</td>\n      <td>7.808160e+06</td>\n    </tr>\n    <tr>\n      <th>mean</th>\n      <td>5.500321e+08</td>\n      <td>6.334306e+01</td>\n      <td>2.968756e+02</td>\n      <td>4.126822e+02</td>\n      <td>7.088369e-01</td>\n      <td>1.004886e+06</td>\n      <td>2.071330e+05</td>\n      <td>13.605833</td>\n      <td>4.073517e+01</td>\n      <td>-7.392551e+01</td>\n    </tr>\n    <tr>\n      <th>std</th>\n      <td>2.597822e+08</td>\n      <td>3.450825e+01</td>\n      <td>1.511127e+02</td>\n      <td>2.176568e+02</td>\n      <td>6.648380e+00</td>\n      <td>2.169996e+04</td>\n      <td>3.139557e+04</td>\n      <td>12.475836</td>\n      <td>8.609054e-02</td>\n      <td>7.825796e-02</td>\n    </tr>\n    <tr>\n      <th>min</th>\n      <td>1.000001e+08</td>\n      <td>1.000000e+00</td>\n      <td>1.010000e+02</td>\n      <td>1.000000e+02</td>\n      <td>0.000000e+00</td>\n      <td>1.110000e+02</td>\n      <td>1.110000e+02</td>\n      <td>1.000000</td>\n      <td>4.011271e+01</td>\n      <td>-7.751921e+01</td>\n    </tr>\n    <tr>\n      <th>25%</th>\n      <td>3.250977e+08</td>\n      <td>4.000000e+01</td>\n      <td>1.170000e+02</td>\n      <td>2.540000e+02</td>\n      <td>0.000000e+00</td>\n      <td>9.917690e+05</td>\n      <td>1.844240e+05</td>\n      <td>3.000000</td>\n      <td>4.067280e+01</td>\n      <td>-7.397287e+01</td>\n    </tr>\n    <tr>\n      <th>50%</th>\n      <td>5.500406e+08</td>\n      <td>6.300000e+01</td>\n      <td>3.410000e+02</td>\n      <td>3.800000e+02</td>\n      <td>0.000000e+00</td>\n      <td>1.004419e+06</td>\n      <td>2.061090e+05</td>\n      <td>11.000000</td>\n      <td>4.073236e+01</td>\n      <td>-7.392721e+01</td>\n    </tr>\n    <tr>\n      <th>75%</th>\n      <td>7.750019e+08</td>\n      <td>9.400000e+01</td>\n      <td>3.510000e+02</td>\n      <td>6.370000e+02</td>\n      <td>0.000000e+00</td>\n      <td>1.016689e+06</td>\n      <td>2.351720e+05</td>\n      <td>30.000000</td>\n      <td>4.081215e+01</td>\n      <td>-7.388291e+01</td>\n    </tr>\n    <tr>\n      <th>max</th>\n      <td>9.999999e+08</td>\n      <td>1.230000e+02</td>\n      <td>8.810000e+02</td>\n      <td>9.750000e+02</td>\n      <td>9.700000e+01</td>\n      <td>1.067298e+06</td>\n      <td>7.250292e+06</td>\n      <td>34.000000</td>\n      <td>5.965727e+01</td>\n      <td>-7.368479e+01</td>\n    </tr>\n  </tbody>\n</table>\n</div>"
     },
     "execution_count": 28,
     "metadata": {},
     "output_type": "execute_result"
    }
   ],
   "source": [
    "\n",
    "data.info()\n",
    "data.describe()"
   ],
   "metadata": {
    "collapsed": false
   }
  },
  {
   "cell_type": "code",
   "execution_count": 25,
   "outputs": [
    {
     "data": {
      "text/plain": "ASSAULT 3                         676780\nHARASSMENT,SUBD 3,4,5             668605\nLARCENY,PETIT FROM STORE-SHOPL    402081\nAGGRAVATED HARASSMENT 2           390612\nHARASSMENT,SUBD 1,CIVILIAN        351525\n                                   ...  \nSMOKING TRANSPORTATION FACILIT         1\nABORTION 2, 1, SELF                    1\nEDUCATION LAW,STREET TRADE             1\nANARCHY,CRIMINAL                       1\nENVIRONMENTAL CONTROL BOARD            1\nName: PD_DESC, Length: 422, dtype: int64"
     },
     "execution_count": 25,
     "metadata": {},
     "output_type": "execute_result"
    }
   ],
   "source": [
    "data['PD_DESC'].value_counts()"
   ],
   "metadata": {
    "collapsed": false
   }
  },
  {
   "cell_type": "code",
   "execution_count": 26,
   "outputs": [
    {
     "data": {
      "text/plain": "101.0    676780\n638.0    668605\n333.0    402081\n639.0    390612\n637.0    351525\n          ...  \n522.0         1\n667.0         1\n440.0         1\n839.0         1\n975.0         1\nName: PD_CD, Length: 432, dtype: int64"
     },
     "execution_count": 26,
     "metadata": {},
     "output_type": "execute_result"
    }
   ],
   "source": [
    "data['PD_CD'].value_counts()"
   ],
   "metadata": {
    "collapsed": false
   }
  }
 ],
 "metadata": {
  "kernelspec": {
   "display_name": "Python 3",
   "language": "python",
   "name": "python3"
  },
  "language_info": {
   "codemirror_mode": {
    "name": "ipython",
    "version": 2
   },
   "file_extension": ".py",
   "mimetype": "text/x-python",
   "name": "python",
   "nbconvert_exporter": "python",
   "pygments_lexer": "ipython2",
   "version": "2.7.6"
  }
 },
 "nbformat": 4,
 "nbformat_minor": 0
}
