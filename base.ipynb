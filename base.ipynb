{
 "cells": [
  {
   "cell_type": "code",
   "execution_count": 11,
   "metadata": {},
   "outputs": [],
   "source": [
    "import pandas"
   ]
  },
  {
   "cell_type": "code",
   "execution_count": 12,
   "metadata": {},
   "outputs": [
    {
     "name": "stderr",
     "output_type": "stream",
     "text": [
      "C:\\Users\\Kaninik\\AppData\\Local\\Temp\\ipykernel_24520\\2705847737.py:1: DtypeWarning: Columns (18,20) have mixed types. Specify dtype option on import or set low_memory=False.\n",
      "  data = pandas.read_csv(\"..//NYPD_Complaint_Data_Historic.csv\")\n"
     ]
    },
    {
     "data": {
      "text/plain": "pandas.core.frame.DataFrame"
     },
     "execution_count": 12,
     "metadata": {},
     "output_type": "execute_result"
    }
   ],
   "source": [
    "data = pandas.read_csv(\"..//NYPD_Complaint_Data_Historic.csv\")\n",
    "type(data)"
   ]
  },
  {
   "cell_type": "code",
   "execution_count": 13,
   "metadata": {},
   "outputs": [
    {
     "name": "stdout",
     "output_type": "stream",
     "text": [
      "<class 'pandas.core.frame.DataFrame'>\n",
      "RangeIndex: 7825499 entries, 0 to 7825498\n",
      "Data columns (total 35 columns):\n",
      " #   Column             Dtype  \n",
      "---  ------             -----  \n",
      " 0   CMPLNT_NUM         int64  \n",
      " 1   CMPLNT_FR_DT       object \n",
      " 2   CMPLNT_FR_TM       object \n",
      " 3   CMPLNT_TO_DT       object \n",
      " 4   CMPLNT_TO_TM       object \n",
      " 5   ADDR_PCT_CD        float64\n",
      " 6   RPT_DT             object \n",
      " 7   KY_CD              int64  \n",
      " 8   OFNS_DESC          object \n",
      " 9   PD_CD              float64\n",
      " 10  PD_DESC            object \n",
      " 11  CRM_ATPT_CPTD_CD   object \n",
      " 12  LAW_CAT_CD         object \n",
      " 13  BORO_NM            object \n",
      " 14  LOC_OF_OCCUR_DESC  object \n",
      " 15  PREM_TYP_DESC      object \n",
      " 16  JURIS_DESC         object \n",
      " 17  JURISDICTION_CODE  float64\n",
      " 18  PARKS_NM           object \n",
      " 19  HADEVELOPT         object \n",
      " 20  HOUSING_PSA        object \n",
      " 21  X_COORD_CD         float64\n",
      " 22  Y_COORD_CD         float64\n",
      " 23  SUSP_AGE_GROUP     object \n",
      " 24  SUSP_RACE          object \n",
      " 25  SUSP_SEX           object \n",
      " 26  TRANSIT_DISTRICT   float64\n",
      " 27  Latitude           float64\n",
      " 28  Longitude          float64\n",
      " 29  Lat_Lon            object \n",
      " 30  PATROL_BORO        object \n",
      " 31  STATION_NAME       object \n",
      " 32  VIC_AGE_GROUP      object \n",
      " 33  VIC_RACE           object \n",
      " 34  VIC_SEX            object \n",
      "dtypes: float64(8), int64(2), object(25)\n",
      "memory usage: 2.0+ GB\n"
     ]
    },
    {
     "data": {
      "text/plain": "         CMPLNT_NUM   ADDR_PCT_CD         KY_CD         PD_CD  \\\ncount  7.825499e+06  7.823333e+06  7.825499e+06  7.818738e+06   \nmean   5.500321e+08  6.334306e+01  2.968756e+02  4.126822e+02   \nstd    2.597822e+08  3.450825e+01  1.511127e+02  2.176568e+02   \nmin    1.000001e+08  1.000000e+00  1.010000e+02  1.000000e+02   \n25%    3.250977e+08  4.000000e+01  1.170000e+02  2.540000e+02   \n50%    5.500406e+08  6.300000e+01  3.410000e+02  3.800000e+02   \n75%    7.750019e+08  9.400000e+01  3.510000e+02  6.370000e+02   \nmax    9.999999e+08  1.230000e+02  8.810000e+02  9.750000e+02   \n\n       JURISDICTION_CODE    X_COORD_CD    Y_COORD_CD  TRANSIT_DISTRICT  \\\ncount       7.818738e+06  7.808160e+06  7.808160e+06     172475.000000   \nmean        7.088369e-01  1.004886e+06  2.071330e+05         13.605833   \nstd         6.648380e+00  2.169996e+04  3.139557e+04         12.475836   \nmin         0.000000e+00  1.110000e+02  1.110000e+02          1.000000   \n25%         0.000000e+00  9.917690e+05  1.844240e+05          3.000000   \n50%         0.000000e+00  1.004419e+06  2.061090e+05         11.000000   \n75%         0.000000e+00  1.016689e+06  2.351720e+05         30.000000   \nmax         9.700000e+01  1.067298e+06  7.250292e+06         34.000000   \n\n           Latitude     Longitude  \ncount  7.808160e+06  7.808160e+06  \nmean   4.073517e+01 -7.392551e+01  \nstd    8.609054e-02  7.825796e-02  \nmin    4.011271e+01 -7.751921e+01  \n25%    4.067280e+01 -7.397287e+01  \n50%    4.073236e+01 -7.392721e+01  \n75%    4.081215e+01 -7.388291e+01  \nmax    5.965727e+01 -7.368479e+01  ",
      "text/html": "<div>\n<style scoped>\n    .dataframe tbody tr th:only-of-type {\n        vertical-align: middle;\n    }\n\n    .dataframe tbody tr th {\n        vertical-align: top;\n    }\n\n    .dataframe thead th {\n        text-align: right;\n    }\n</style>\n<table border=\"1\" class=\"dataframe\">\n  <thead>\n    <tr style=\"text-align: right;\">\n      <th></th>\n      <th>CMPLNT_NUM</th>\n      <th>ADDR_PCT_CD</th>\n      <th>KY_CD</th>\n      <th>PD_CD</th>\n      <th>JURISDICTION_CODE</th>\n      <th>X_COORD_CD</th>\n      <th>Y_COORD_CD</th>\n      <th>TRANSIT_DISTRICT</th>\n      <th>Latitude</th>\n      <th>Longitude</th>\n    </tr>\n  </thead>\n  <tbody>\n    <tr>\n      <th>count</th>\n      <td>7.825499e+06</td>\n      <td>7.823333e+06</td>\n      <td>7.825499e+06</td>\n      <td>7.818738e+06</td>\n      <td>7.818738e+06</td>\n      <td>7.808160e+06</td>\n      <td>7.808160e+06</td>\n      <td>172475.000000</td>\n      <td>7.808160e+06</td>\n      <td>7.808160e+06</td>\n    </tr>\n    <tr>\n      <th>mean</th>\n      <td>5.500321e+08</td>\n      <td>6.334306e+01</td>\n      <td>2.968756e+02</td>\n      <td>4.126822e+02</td>\n      <td>7.088369e-01</td>\n      <td>1.004886e+06</td>\n      <td>2.071330e+05</td>\n      <td>13.605833</td>\n      <td>4.073517e+01</td>\n      <td>-7.392551e+01</td>\n    </tr>\n    <tr>\n      <th>std</th>\n      <td>2.597822e+08</td>\n      <td>3.450825e+01</td>\n      <td>1.511127e+02</td>\n      <td>2.176568e+02</td>\n      <td>6.648380e+00</td>\n      <td>2.169996e+04</td>\n      <td>3.139557e+04</td>\n      <td>12.475836</td>\n      <td>8.609054e-02</td>\n      <td>7.825796e-02</td>\n    </tr>\n    <tr>\n      <th>min</th>\n      <td>1.000001e+08</td>\n      <td>1.000000e+00</td>\n      <td>1.010000e+02</td>\n      <td>1.000000e+02</td>\n      <td>0.000000e+00</td>\n      <td>1.110000e+02</td>\n      <td>1.110000e+02</td>\n      <td>1.000000</td>\n      <td>4.011271e+01</td>\n      <td>-7.751921e+01</td>\n    </tr>\n    <tr>\n      <th>25%</th>\n      <td>3.250977e+08</td>\n      <td>4.000000e+01</td>\n      <td>1.170000e+02</td>\n      <td>2.540000e+02</td>\n      <td>0.000000e+00</td>\n      <td>9.917690e+05</td>\n      <td>1.844240e+05</td>\n      <td>3.000000</td>\n      <td>4.067280e+01</td>\n      <td>-7.397287e+01</td>\n    </tr>\n    <tr>\n      <th>50%</th>\n      <td>5.500406e+08</td>\n      <td>6.300000e+01</td>\n      <td>3.410000e+02</td>\n      <td>3.800000e+02</td>\n      <td>0.000000e+00</td>\n      <td>1.004419e+06</td>\n      <td>2.061090e+05</td>\n      <td>11.000000</td>\n      <td>4.073236e+01</td>\n      <td>-7.392721e+01</td>\n    </tr>\n    <tr>\n      <th>75%</th>\n      <td>7.750019e+08</td>\n      <td>9.400000e+01</td>\n      <td>3.510000e+02</td>\n      <td>6.370000e+02</td>\n      <td>0.000000e+00</td>\n      <td>1.016689e+06</td>\n      <td>2.351720e+05</td>\n      <td>30.000000</td>\n      <td>4.081215e+01</td>\n      <td>-7.388291e+01</td>\n    </tr>\n    <tr>\n      <th>max</th>\n      <td>9.999999e+08</td>\n      <td>1.230000e+02</td>\n      <td>8.810000e+02</td>\n      <td>9.750000e+02</td>\n      <td>9.700000e+01</td>\n      <td>1.067298e+06</td>\n      <td>7.250292e+06</td>\n      <td>34.000000</td>\n      <td>5.965727e+01</td>\n      <td>-7.368479e+01</td>\n    </tr>\n  </tbody>\n</table>\n</div>"
     },
     "execution_count": 13,
     "metadata": {},
     "output_type": "execute_result"
    }
   ],
   "source": [
    "data.info()\n",
    "data.describe()"
   ]
  },
  {
   "cell_type": "code",
   "execution_count": 14,
   "outputs": [],
   "source": [
    "def make_categorical(dataframe, column):\n",
    "    # make the column of the dataframe categorical\n",
    "    dataframe[column] = dataframe[column].astype('category')\n",
    "\n",
    "# get a lst of all the columns in the dataframe\n",
    "columns = ['ADDR_PCT_CD', 'BORO_NM', 'CRM_ATPT_CPTD_CD', 'HADEVELOPT', 'HOUSING_PSA', 'JURISDICTION_CODE', 'JURIS_DESC', 'KY_CD', 'LAW_CAT_CD', 'LOC_OF_OCCUR_DESC', 'OFNS_DESC', 'PARKS_NM', 'PATROL_BORO', 'PD_CD', 'PD_DESC', 'RPT_DT', 'STATION_NAME', 'SUSP_AGE_GROUP', 'SUSP_RACE', 'SUSP_SEX', 'TRANSIT_DISTRICT', 'VIC_AGE_GROUP', 'VIC_RACE', 'VIC_SEX']\n",
    "\n",
    "    # make each column categorical\n",
    "for column in columns:\n",
    "    make_categorical(data, column)\n"
   ],
   "metadata": {
    "collapsed": false
   }
  },
  {
   "cell_type": "code",
   "execution_count": 15,
   "outputs": [
    {
     "name": "stdout",
     "output_type": "stream",
     "text": [
      "<class 'pandas.core.frame.DataFrame'>\n",
      "RangeIndex: 7825499 entries, 0 to 7825498\n",
      "Data columns (total 35 columns):\n",
      " #   Column             Dtype   \n",
      "---  ------             -----   \n",
      " 0   CMPLNT_NUM         int64   \n",
      " 1   CMPLNT_FR_DT       object  \n",
      " 2   CMPLNT_FR_TM       object  \n",
      " 3   CMPLNT_TO_DT       object  \n",
      " 4   CMPLNT_TO_TM       object  \n",
      " 5   ADDR_PCT_CD        category\n",
      " 6   RPT_DT             category\n",
      " 7   KY_CD              category\n",
      " 8   OFNS_DESC          category\n",
      " 9   PD_CD              category\n",
      " 10  PD_DESC            category\n",
      " 11  CRM_ATPT_CPTD_CD   category\n",
      " 12  LAW_CAT_CD         category\n",
      " 13  BORO_NM            category\n",
      " 14  LOC_OF_OCCUR_DESC  category\n",
      " 15  PREM_TYP_DESC      object  \n",
      " 16  JURIS_DESC         category\n",
      " 17  JURISDICTION_CODE  category\n",
      " 18  PARKS_NM           category\n",
      " 19  HADEVELOPT         category\n",
      " 20  HOUSING_PSA        category\n",
      " 21  X_COORD_CD         float64 \n",
      " 22  Y_COORD_CD         float64 \n",
      " 23  SUSP_AGE_GROUP     category\n",
      " 24  SUSP_RACE          category\n",
      " 25  SUSP_SEX           category\n",
      " 26  TRANSIT_DISTRICT   category\n",
      " 27  Latitude           float64 \n",
      " 28  Longitude          float64 \n",
      " 29  Lat_Lon            object  \n",
      " 30  PATROL_BORO        category\n",
      " 31  STATION_NAME       category\n",
      " 32  VIC_AGE_GROUP      category\n",
      " 33  VIC_RACE           category\n",
      " 34  VIC_SEX            category\n",
      "dtypes: category(24), float64(4), int64(1), object(6)\n",
      "memory usage: 896.0+ MB\n"
     ]
    }
   ],
   "source": [
    "data.info()"
   ],
   "metadata": {
    "collapsed": false
   }
  },
  {
   "cell_type": "code",
   "execution_count": 16,
   "metadata": {},
   "outputs": [
    {
     "data": {
      "text/plain": "ASSAULT 3                           676780\nHARASSMENT,SUBD 3,4,5               668605\nLARCENY,PETIT FROM STORE-SHOPL      402081\nAGGRAVATED HARASSMENT 2             390612\nHARASSMENT,SUBD 1,CIVILIAN          351525\n                                     ...  \nAGGRAVATED GRAND LARCENY OF ATM          1\nUSE CHILD TO COMMIT CONT SUB OFF         1\nANARCHY,CRIMINAL                         1\nHIND PROSEC. TERR 2                      1\nSMOKING TRANSPORTATION FACILIT           1\nName: PD_DESC, Length: 422, dtype: int64"
     },
     "execution_count": 16,
     "metadata": {},
     "output_type": "execute_result"
    }
   ],
   "source": [
    "data['PD_DESC'].value_counts()"
   ]
  },
  {
   "cell_type": "code",
   "execution_count": 17,
   "metadata": {},
   "outputs": [
    {
     "data": {
      "text/plain": "101.0    676780\n638.0    668605\n333.0    402081\n639.0    390612\n637.0    351525\n          ...  \n522.0         1\n819.0         1\n667.0         1\n678.0         1\n975.0         1\nName: PD_CD, Length: 432, dtype: int64"
     },
     "execution_count": 17,
     "metadata": {},
     "output_type": "execute_result"
    }
   ],
   "source": [
    "data['PD_CD'].value_counts()"
   ]
  },
  {
   "cell_type": "code",
   "execution_count": 18,
   "metadata": {},
   "outputs": [
    {
     "data": {
      "text/plain": "         CMPLNT_NUM CMPLNT_FR_DT CMPLNT_FR_TM CMPLNT_TO_DT CMPLNT_TO_TM\n0         506547392   03/29/2018     20:30:00          NaN          NaN\n1         629632833   02/06/2018     23:15:00          NaN          NaN\n2         787203902   11/21/2018     00:15:00   11/21/2018     00:20:00\n3         280364018   06/09/2018     21:42:00   06/09/2018     21:43:00\n4         985800320   11/10/2018     19:40:00   11/10/2018     19:45:00\n...             ...          ...          ...          ...          ...\n7825494   104527061   05/01/2008     18:55:00   05/01/2018     19:00:00\n7825495   284201488   05/18/2018     14:50:00   05/18/2018     14:55:00\n7825496   808565901   11/19/2018     02:25:00   11/19/2018     02:30:00\n7825497   649441648   02/03/2018     10:02:00   02/03/2018     12:15:00\n7825498   803166404   01/05/2018     14:40:00   01/05/2018     16:00:00\n\n[7825499 rows x 5 columns]",
      "text/html": "<div>\n<style scoped>\n    .dataframe tbody tr th:only-of-type {\n        vertical-align: middle;\n    }\n\n    .dataframe tbody tr th {\n        vertical-align: top;\n    }\n\n    .dataframe thead th {\n        text-align: right;\n    }\n</style>\n<table border=\"1\" class=\"dataframe\">\n  <thead>\n    <tr style=\"text-align: right;\">\n      <th></th>\n      <th>CMPLNT_NUM</th>\n      <th>CMPLNT_FR_DT</th>\n      <th>CMPLNT_FR_TM</th>\n      <th>CMPLNT_TO_DT</th>\n      <th>CMPLNT_TO_TM</th>\n    </tr>\n  </thead>\n  <tbody>\n    <tr>\n      <th>0</th>\n      <td>506547392</td>\n      <td>03/29/2018</td>\n      <td>20:30:00</td>\n      <td>NaN</td>\n      <td>NaN</td>\n    </tr>\n    <tr>\n      <th>1</th>\n      <td>629632833</td>\n      <td>02/06/2018</td>\n      <td>23:15:00</td>\n      <td>NaN</td>\n      <td>NaN</td>\n    </tr>\n    <tr>\n      <th>2</th>\n      <td>787203902</td>\n      <td>11/21/2018</td>\n      <td>00:15:00</td>\n      <td>11/21/2018</td>\n      <td>00:20:00</td>\n    </tr>\n    <tr>\n      <th>3</th>\n      <td>280364018</td>\n      <td>06/09/2018</td>\n      <td>21:42:00</td>\n      <td>06/09/2018</td>\n      <td>21:43:00</td>\n    </tr>\n    <tr>\n      <th>4</th>\n      <td>985800320</td>\n      <td>11/10/2018</td>\n      <td>19:40:00</td>\n      <td>11/10/2018</td>\n      <td>19:45:00</td>\n    </tr>\n    <tr>\n      <th>...</th>\n      <td>...</td>\n      <td>...</td>\n      <td>...</td>\n      <td>...</td>\n      <td>...</td>\n    </tr>\n    <tr>\n      <th>7825494</th>\n      <td>104527061</td>\n      <td>05/01/2008</td>\n      <td>18:55:00</td>\n      <td>05/01/2018</td>\n      <td>19:00:00</td>\n    </tr>\n    <tr>\n      <th>7825495</th>\n      <td>284201488</td>\n      <td>05/18/2018</td>\n      <td>14:50:00</td>\n      <td>05/18/2018</td>\n      <td>14:55:00</td>\n    </tr>\n    <tr>\n      <th>7825496</th>\n      <td>808565901</td>\n      <td>11/19/2018</td>\n      <td>02:25:00</td>\n      <td>11/19/2018</td>\n      <td>02:30:00</td>\n    </tr>\n    <tr>\n      <th>7825497</th>\n      <td>649441648</td>\n      <td>02/03/2018</td>\n      <td>10:02:00</td>\n      <td>02/03/2018</td>\n      <td>12:15:00</td>\n    </tr>\n    <tr>\n      <th>7825498</th>\n      <td>803166404</td>\n      <td>01/05/2018</td>\n      <td>14:40:00</td>\n      <td>01/05/2018</td>\n      <td>16:00:00</td>\n    </tr>\n  </tbody>\n</table>\n<p>7825499 rows × 5 columns</p>\n</div>"
     },
     "execution_count": 18,
     "metadata": {},
     "output_type": "execute_result"
    }
   ],
   "source": [
    "data.iloc[:,:5]"
   ]
  },
  {
   "cell_type": "code",
   "execution_count": 19,
   "metadata": {},
   "outputs": [],
   "source": [
    "data['OCC'] = data['CMPLNT_FR_DT'].astype(str) + \" \" +data['CMPLNT_FR_TM']\n",
    "data['OCC_END'] = data['CMPLNT_TO_DT'].astype(str) + \" \" +data['CMPLNT_TO_TM']"
   ]
  },
  {
   "cell_type": "code",
   "execution_count": 20,
   "metadata": {},
   "outputs": [
    {
     "data": {
      "text/plain": "0    03/29/2018 20:30:00\n1    02/06/2018 23:15:00\n2    11/21/2018 00:15:00\n3    06/09/2018 21:42:00\n4    11/10/2018 19:40:00\nName: OCC, dtype: object"
     },
     "execution_count": 20,
     "metadata": {},
     "output_type": "execute_result"
    }
   ],
   "source": [
    "data['OCC'].head(5)"
   ]
  },
  {
   "cell_type": "code",
   "execution_count": 21,
   "metadata": {},
   "outputs": [
    {
     "data": {
      "text/plain": "0                    NaN\n1                    NaN\n2    11/21/2018 00:20:00\n3    06/09/2018 21:43:00\n4    11/10/2018 19:45:00\nName: OCC_END, dtype: object"
     },
     "execution_count": 21,
     "metadata": {},
     "output_type": "execute_result"
    }
   ],
   "source": [
    "data['OCC_END'].head(5)"
   ]
  },
  {
   "cell_type": "code",
   "execution_count": 22,
   "metadata": {},
   "outputs": [],
   "source": [
    "data['OCC'] = pandas.to_datetime(data['OCC'], errors='ignore')"
   ]
  },
  {
   "cell_type": "code",
   "execution_count": 23,
   "metadata": {
    "collapsed": false
   },
   "outputs": [],
   "source": [
    "data['OCC_END'] = pandas.to_datetime(data['OCC_END'], errors = 'ignore')\n",
    "data['RPT_DT'] = pandas.to_datetime(data['RPT_DT'], errors = 'ignore')"
   ]
  },
  {
   "cell_type": "code",
   "execution_count": 24,
   "metadata": {},
   "outputs": [
    {
     "data": {
      "text/plain": "str"
     },
     "execution_count": 24,
     "metadata": {},
     "output_type": "execute_result"
    }
   ],
   "source": [
    "type(data['OCC'][1])"
   ]
  },
  {
   "cell_type": "code",
   "execution_count": 25,
   "metadata": {},
   "outputs": [
    {
     "data": {
      "text/plain": "0                    NaN\n1                    NaN\n2    11/21/2018 00:20:00\n3    06/09/2018 21:43:00\n4    11/10/2018 19:45:00\nName: OCC_END, dtype: object"
     },
     "execution_count": 25,
     "metadata": {},
     "output_type": "execute_result"
    }
   ],
   "source": [
    "data['OCC_END'].head(5)"
   ]
  },
  {
   "cell_type": "code",
   "execution_count": 26,
   "metadata": {},
   "outputs": [
    {
     "data": {
      "text/plain": "0   2018-03-30\n1   2018-02-07\n2   2018-11-21\n3   2018-06-10\n4   2018-11-10\nName: RPT_DT, dtype: category\nCategories (5844, datetime64[ns]): [2006-01-01, 2007-01-01, 2008-01-01, 2009-01-01, ..., 2018-12-31, 2019-12-31, 2020-12-31, 2021-12-31]"
     },
     "execution_count": 26,
     "metadata": {},
     "output_type": "execute_result"
    }
   ],
   "source": [
    "data['RPT_DT'].head(5)"
   ]
  },
  {
   "cell_type": "code",
   "execution_count": 27,
   "metadata": {},
   "outputs": [],
   "source": [
    "import pickle\n",
    "\n",
    "with open('data.pickle', 'wb') as f:\n",
    "    pickle.dump(data, f)\n",
    "\n"
   ]
  },
  {
   "cell_type": "code",
   "execution_count": 28,
   "metadata": {},
   "outputs": [],
   "source": [
    "data_notexact=data[~data['CMPLNT_TO_DT'].isna()]\n",
    "data_exact=data[data['CMPLNT_TO_DT'].isna()]\n"
   ]
  },
  {
   "cell_type": "code",
   "execution_count": 29,
   "metadata": {},
   "outputs": [],
   "source": [
    "def exact_moment(x):\n",
    "    if (x < pandas.to_datetime('12:00:00')) & (x  >= pandas.to_datetime('06:00:00')):\n",
    "            return \"Morning\" \n",
    "    else:\n",
    "        if (x < pandas.to_datetime('18:00:00')) & (x >= pandas.to_datetime('12:00:00')):\n",
    "            return \"Afternoon\"\n",
    "        else:\n",
    "            if (x  <= pandas.to_datetime('23:59:59')) & (x >= pandas.to_datetime('18:00:00')):    \n",
    "                return \"Night\"\n",
    "            else:\n",
    "                return \"Dawn\"  "
   ]
  },
  {
   "cell_type": "code",
   "execution_count": 30,
   "metadata": {},
   "outputs": [
    {
     "ename": "TypeError",
     "evalue": "'<' not supported between instances of 'str' and 'Timestamp'",
     "output_type": "error",
     "traceback": [
      "\u001B[1;31m---------------------------------------------------------------------------\u001B[0m",
      "\u001B[1;31mTypeError\u001B[0m                                 Traceback (most recent call last)",
      "Cell \u001B[1;32mIn[30], line 1\u001B[0m\n\u001B[1;32m----> 1\u001B[0m data_exact[\u001B[38;5;124m'\u001B[39m\u001B[38;5;124mMoment\u001B[39m\u001B[38;5;124m'\u001B[39m]\u001B[38;5;241m=\u001B[39mdata_exact[\u001B[38;5;124m'\u001B[39m\u001B[38;5;124mOCC\u001B[39m\u001B[38;5;124m'\u001B[39m]\u001B[38;5;241m.\u001B[39mapply(exact_moment)\n",
      "File \u001B[1;32m~\\anaconda3\\envs\\Py311\\Lib\\site-packages\\pandas\\core\\series.py:4771\u001B[0m, in \u001B[0;36mSeries.apply\u001B[1;34m(self, func, convert_dtype, args, **kwargs)\u001B[0m\n\u001B[0;32m   4661\u001B[0m \u001B[38;5;28;01mdef\u001B[39;00m \u001B[38;5;21mapply\u001B[39m(\n\u001B[0;32m   4662\u001B[0m     \u001B[38;5;28mself\u001B[39m,\n\u001B[0;32m   4663\u001B[0m     func: AggFuncType,\n\u001B[1;32m   (...)\u001B[0m\n\u001B[0;32m   4666\u001B[0m     \u001B[38;5;241m*\u001B[39m\u001B[38;5;241m*\u001B[39mkwargs,\n\u001B[0;32m   4667\u001B[0m ) \u001B[38;5;241m-\u001B[39m\u001B[38;5;241m>\u001B[39m DataFrame \u001B[38;5;241m|\u001B[39m Series:\n\u001B[0;32m   4668\u001B[0m     \u001B[38;5;124;03m\"\"\"\u001B[39;00m\n\u001B[0;32m   4669\u001B[0m \u001B[38;5;124;03m    Invoke function on values of Series.\u001B[39;00m\n\u001B[0;32m   4670\u001B[0m \n\u001B[1;32m   (...)\u001B[0m\n\u001B[0;32m   4769\u001B[0m \u001B[38;5;124;03m    dtype: float64\u001B[39;00m\n\u001B[0;32m   4770\u001B[0m \u001B[38;5;124;03m    \"\"\"\u001B[39;00m\n\u001B[1;32m-> 4771\u001B[0m     \u001B[38;5;28;01mreturn\u001B[39;00m SeriesApply(\u001B[38;5;28mself\u001B[39m, func, convert_dtype, args, kwargs)\u001B[38;5;241m.\u001B[39mapply()\n",
      "File \u001B[1;32m~\\anaconda3\\envs\\Py311\\Lib\\site-packages\\pandas\\core\\apply.py:1123\u001B[0m, in \u001B[0;36mSeriesApply.apply\u001B[1;34m(self)\u001B[0m\n\u001B[0;32m   1120\u001B[0m     \u001B[38;5;28;01mreturn\u001B[39;00m \u001B[38;5;28mself\u001B[39m\u001B[38;5;241m.\u001B[39mapply_str()\n\u001B[0;32m   1122\u001B[0m \u001B[38;5;66;03m# self.f is Callable\u001B[39;00m\n\u001B[1;32m-> 1123\u001B[0m \u001B[38;5;28;01mreturn\u001B[39;00m \u001B[38;5;28mself\u001B[39m\u001B[38;5;241m.\u001B[39mapply_standard()\n",
      "File \u001B[1;32m~\\anaconda3\\envs\\Py311\\Lib\\site-packages\\pandas\\core\\apply.py:1174\u001B[0m, in \u001B[0;36mSeriesApply.apply_standard\u001B[1;34m(self)\u001B[0m\n\u001B[0;32m   1172\u001B[0m     \u001B[38;5;28;01melse\u001B[39;00m:\n\u001B[0;32m   1173\u001B[0m         values \u001B[38;5;241m=\u001B[39m obj\u001B[38;5;241m.\u001B[39mastype(\u001B[38;5;28mobject\u001B[39m)\u001B[38;5;241m.\u001B[39m_values\n\u001B[1;32m-> 1174\u001B[0m         mapped \u001B[38;5;241m=\u001B[39m lib\u001B[38;5;241m.\u001B[39mmap_infer(\n\u001B[0;32m   1175\u001B[0m             values,\n\u001B[0;32m   1176\u001B[0m             f,\n\u001B[0;32m   1177\u001B[0m             convert\u001B[38;5;241m=\u001B[39m\u001B[38;5;28mself\u001B[39m\u001B[38;5;241m.\u001B[39mconvert_dtype,\n\u001B[0;32m   1178\u001B[0m         )\n\u001B[0;32m   1180\u001B[0m \u001B[38;5;28;01mif\u001B[39;00m \u001B[38;5;28mlen\u001B[39m(mapped) \u001B[38;5;129;01mand\u001B[39;00m \u001B[38;5;28misinstance\u001B[39m(mapped[\u001B[38;5;241m0\u001B[39m], ABCSeries):\n\u001B[0;32m   1181\u001B[0m     \u001B[38;5;66;03m# GH#43986 Need to do list(mapped) in order to get treated as nested\u001B[39;00m\n\u001B[0;32m   1182\u001B[0m     \u001B[38;5;66;03m#  See also GH#25959 regarding EA support\u001B[39;00m\n\u001B[0;32m   1183\u001B[0m     \u001B[38;5;28;01mreturn\u001B[39;00m obj\u001B[38;5;241m.\u001B[39m_constructor_expanddim(\u001B[38;5;28mlist\u001B[39m(mapped), index\u001B[38;5;241m=\u001B[39mobj\u001B[38;5;241m.\u001B[39mindex)\n",
      "File \u001B[1;32m~\\anaconda3\\envs\\Py311\\Lib\\site-packages\\pandas\\_libs\\lib.pyx:2924\u001B[0m, in \u001B[0;36mpandas._libs.lib.map_infer\u001B[1;34m()\u001B[0m\n",
      "Cell \u001B[1;32mIn[29], line 2\u001B[0m, in \u001B[0;36mexact_moment\u001B[1;34m(x)\u001B[0m\n\u001B[0;32m      1\u001B[0m \u001B[38;5;28;01mdef\u001B[39;00m \u001B[38;5;21mexact_moment\u001B[39m(x):\n\u001B[1;32m----> 2\u001B[0m     \u001B[38;5;28;01mif\u001B[39;00m (x \u001B[38;5;241m<\u001B[39m pandas\u001B[38;5;241m.\u001B[39mto_datetime(\u001B[38;5;124m'\u001B[39m\u001B[38;5;124m12:00:00\u001B[39m\u001B[38;5;124m'\u001B[39m)) \u001B[38;5;241m&\u001B[39m (x  \u001B[38;5;241m>\u001B[39m\u001B[38;5;241m=\u001B[39m pandas\u001B[38;5;241m.\u001B[39mto_datetime(\u001B[38;5;124m'\u001B[39m\u001B[38;5;124m06:00:00\u001B[39m\u001B[38;5;124m'\u001B[39m)):\n\u001B[0;32m      3\u001B[0m             \u001B[38;5;28;01mreturn\u001B[39;00m \u001B[38;5;124m\"\u001B[39m\u001B[38;5;124mMorning\u001B[39m\u001B[38;5;124m\"\u001B[39m \n\u001B[0;32m      4\u001B[0m     \u001B[38;5;28;01melse\u001B[39;00m:\n",
      "\u001B[1;31mTypeError\u001B[0m: '<' not supported between instances of 'str' and 'Timestamp'"
     ]
    }
   ],
   "source": [
    "data_exact['Moment']=data_exact['OCC'].apply(exact_moment)"
   ]
  },
  {
   "cell_type": "code",
   "execution_count": null,
   "metadata": {},
   "outputs": [],
   "source": [
    "data = data[(data['PD_CD'] > 149) & (data['PD_CD'] < 181)]\n",
    "data\n",
    "#Filter data by se-related crimes"
   ]
  },
  {
   "cell_type": "code",
   "execution_count": null,
   "metadata": {},
   "outputs": [],
   "source": [
    "def notexact_moment(x):\n",
    "    if x[2]==x[3]:    \n",
    "        if (x[1] < pandas.to_datetime('12:00:00')) & (x[0]  >= pandas.to_datetime('06:00:00')):\n",
    "                return \"Morning\" \n",
    "        else:\n",
    "            if (x[1] < pandas.to_datetime('18:00:00')) & (x[0] >= pandas.to_datetime('12:00:00')):\n",
    "                return \"Afternoon\"\n",
    "            else:\n",
    "                if (x[1]  <= pandas.to_datetime('23:59:59')) & (x[0] >= pandas.to_datetime('18:00:00')):    \n",
    "                    return \"Night\"\n",
    "                else:\n",
    "                    if (x[1] < pandas.to_datetime('06:00:00')) & (x[0] >= pandas.to_datetime('00:00:00')):\n",
    "                            return \"Dawn\"    \n",
    "                    else:\n",
    "                            return \"Not certain\"\n",
    "    else:\n",
    "         return 'Not certain'    "
   ]
  },
  {
   "cell_type": "code",
   "execution_count": null,
   "metadata": {},
   "outputs": [],
   "source": [
    "data_notexact['Moment']=data_notexact[['OCC','OCC_END','CMPLNT_FR_DT','CMPLNT_TO_DT']].apply(notexact_moment)"
   ]
  }
 ],
 "metadata": {
  "kernelspec": {
   "display_name": "base",
   "language": "python",
   "name": "python3"
  },
  "language_info": {
   "codemirror_mode": {
    "name": "ipython",
    "version": 3
   },
   "file_extension": ".py",
   "mimetype": "text/x-python",
   "name": "python",
   "nbconvert_exporter": "python",
   "pygments_lexer": "ipython3",
   "version": "3.9.13"
  },
  "vscode": {
   "interpreter": {
    "hash": "38efaa045fcc2680aaeae51f7ac851acc4f32df019d3afeeab3c12114d76b9ae"
   }
  }
 },
 "nbformat": 4,
 "nbformat_minor": 1
}
