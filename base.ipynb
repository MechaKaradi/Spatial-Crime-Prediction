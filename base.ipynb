{
 "cells": [
  {
   "cell_type": "code",
   "execution_count": 12,
   "metadata": {},
   "outputs": [],
   "source": [
    "import pandas\n",
    "import altair"
   ]
  },
  {
   "cell_type": "code",
   "execution_count": 13,
   "metadata": {},
   "outputs": [
    {
     "name": "stderr",
     "output_type": "stream",
     "text": [
      "C:\\Users\\Kaninik\\AppData\\Local\\Temp\\ipykernel_12824\\2705847737.py:1: DtypeWarning: Columns (18,20) have mixed types. Specify dtype option on import or set low_memory=False.\n",
      "  data = pandas.read_csv(\"..//NYPD_Complaint_Data_Historic.csv\")\n"
     ]
    },
    {
     "data": {
      "text/plain": [
       "pandas.core.frame.DataFrame"
      ]
     },
     "execution_count": 13,
     "metadata": {},
     "output_type": "execute_result"
    }
   ],
   "source": [
    "data = pandas.read_csv(\"..//NYPD_Complaint_Data_Historic.csv\")\n",
    "type(data)"
   ]
  },
  {
   "cell_type": "code",
   "execution_count": 14,
   "metadata": {},
   "outputs": [
    {
     "name": "stdout",
     "output_type": "stream",
     "text": [
      "<class 'pandas.core.frame.DataFrame'>\n",
      "RangeIndex: 7825499 entries, 0 to 7825498\n",
      "Data columns (total 35 columns):\n",
      " #   Column             Dtype  \n",
      "---  ------             -----  \n",
      " 0   CMPLNT_NUM         int64  \n",
      " 1   CMPLNT_FR_DT       object \n",
      " 2   CMPLNT_FR_TM       object \n",
      " 3   CMPLNT_TO_DT       object \n",
      " 4   CMPLNT_TO_TM       object \n",
      " 5   ADDR_PCT_CD        float64\n",
      " 6   RPT_DT             object \n",
      " 7   KY_CD              int64  \n",
      " 8   OFNS_DESC          object \n",
      " 9   PD_CD              float64\n",
      " 10  PD_DESC            object \n",
      " 11  CRM_ATPT_CPTD_CD   object \n",
      " 12  LAW_CAT_CD         object \n",
      " 13  BORO_NM            object \n",
      " 14  LOC_OF_OCCUR_DESC  object \n",
      " 15  PREM_TYP_DESC      object \n",
      " 16  JURIS_DESC         object \n",
      " 17  JURISDICTION_CODE  float64\n",
      " 18  PARKS_NM           object \n",
      " 19  HADEVELOPT         object \n",
      " 20  HOUSING_PSA        object \n",
      " 21  X_COORD_CD         float64\n",
      " 22  Y_COORD_CD         float64\n",
      " 23  SUSP_AGE_GROUP     object \n",
      " 24  SUSP_RACE          object \n",
      " 25  SUSP_SEX           object \n",
      " 26  TRANSIT_DISTRICT   float64\n",
      " 27  Latitude           float64\n",
      " 28  Longitude          float64\n",
      " 29  Lat_Lon            object \n",
      " 30  PATROL_BORO        object \n",
      " 31  STATION_NAME       object \n",
      " 32  VIC_AGE_GROUP      object \n",
      " 33  VIC_RACE           object \n",
      " 34  VIC_SEX            object \n",
      "dtypes: float64(8), int64(2), object(25)\n",
      "memory usage: 2.0+ GB\n"
     ]
    },
    {
     "data": {
      "text/html": [
       "<div>\n",
       "<style scoped>\n",
       "    .dataframe tbody tr th:only-of-type {\n",
       "        vertical-align: middle;\n",
       "    }\n",
       "\n",
       "    .dataframe tbody tr th {\n",
       "        vertical-align: top;\n",
       "    }\n",
       "\n",
       "    .dataframe thead th {\n",
       "        text-align: right;\n",
       "    }\n",
       "</style>\n",
       "<table border=\"1\" class=\"dataframe\">\n",
       "  <thead>\n",
       "    <tr style=\"text-align: right;\">\n",
       "      <th></th>\n",
       "      <th>CMPLNT_NUM</th>\n",
       "      <th>ADDR_PCT_CD</th>\n",
       "      <th>KY_CD</th>\n",
       "      <th>PD_CD</th>\n",
       "      <th>JURISDICTION_CODE</th>\n",
       "      <th>X_COORD_CD</th>\n",
       "      <th>Y_COORD_CD</th>\n",
       "      <th>TRANSIT_DISTRICT</th>\n",
       "      <th>Latitude</th>\n",
       "      <th>Longitude</th>\n",
       "    </tr>\n",
       "  </thead>\n",
       "  <tbody>\n",
       "    <tr>\n",
       "      <th>count</th>\n",
       "      <td>7.825499e+06</td>\n",
       "      <td>7.823333e+06</td>\n",
       "      <td>7.825499e+06</td>\n",
       "      <td>7.818738e+06</td>\n",
       "      <td>7.818738e+06</td>\n",
       "      <td>7.808160e+06</td>\n",
       "      <td>7.808160e+06</td>\n",
       "      <td>172475.000000</td>\n",
       "      <td>7.808160e+06</td>\n",
       "      <td>7.808160e+06</td>\n",
       "    </tr>\n",
       "    <tr>\n",
       "      <th>mean</th>\n",
       "      <td>5.500321e+08</td>\n",
       "      <td>6.334306e+01</td>\n",
       "      <td>2.968756e+02</td>\n",
       "      <td>4.126822e+02</td>\n",
       "      <td>7.088369e-01</td>\n",
       "      <td>1.004886e+06</td>\n",
       "      <td>2.071330e+05</td>\n",
       "      <td>13.605833</td>\n",
       "      <td>4.073517e+01</td>\n",
       "      <td>-7.392551e+01</td>\n",
       "    </tr>\n",
       "    <tr>\n",
       "      <th>std</th>\n",
       "      <td>2.597822e+08</td>\n",
       "      <td>3.450825e+01</td>\n",
       "      <td>1.511127e+02</td>\n",
       "      <td>2.176568e+02</td>\n",
       "      <td>6.648380e+00</td>\n",
       "      <td>2.169996e+04</td>\n",
       "      <td>3.139557e+04</td>\n",
       "      <td>12.475836</td>\n",
       "      <td>8.609054e-02</td>\n",
       "      <td>7.825796e-02</td>\n",
       "    </tr>\n",
       "    <tr>\n",
       "      <th>min</th>\n",
       "      <td>1.000001e+08</td>\n",
       "      <td>1.000000e+00</td>\n",
       "      <td>1.010000e+02</td>\n",
       "      <td>1.000000e+02</td>\n",
       "      <td>0.000000e+00</td>\n",
       "      <td>1.110000e+02</td>\n",
       "      <td>1.110000e+02</td>\n",
       "      <td>1.000000</td>\n",
       "      <td>4.011271e+01</td>\n",
       "      <td>-7.751921e+01</td>\n",
       "    </tr>\n",
       "    <tr>\n",
       "      <th>25%</th>\n",
       "      <td>3.250977e+08</td>\n",
       "      <td>4.000000e+01</td>\n",
       "      <td>1.170000e+02</td>\n",
       "      <td>2.540000e+02</td>\n",
       "      <td>0.000000e+00</td>\n",
       "      <td>9.917690e+05</td>\n",
       "      <td>1.844240e+05</td>\n",
       "      <td>3.000000</td>\n",
       "      <td>4.067280e+01</td>\n",
       "      <td>-7.397287e+01</td>\n",
       "    </tr>\n",
       "    <tr>\n",
       "      <th>50%</th>\n",
       "      <td>5.500406e+08</td>\n",
       "      <td>6.300000e+01</td>\n",
       "      <td>3.410000e+02</td>\n",
       "      <td>3.800000e+02</td>\n",
       "      <td>0.000000e+00</td>\n",
       "      <td>1.004419e+06</td>\n",
       "      <td>2.061090e+05</td>\n",
       "      <td>11.000000</td>\n",
       "      <td>4.073236e+01</td>\n",
       "      <td>-7.392721e+01</td>\n",
       "    </tr>\n",
       "    <tr>\n",
       "      <th>75%</th>\n",
       "      <td>7.750019e+08</td>\n",
       "      <td>9.400000e+01</td>\n",
       "      <td>3.510000e+02</td>\n",
       "      <td>6.370000e+02</td>\n",
       "      <td>0.000000e+00</td>\n",
       "      <td>1.016689e+06</td>\n",
       "      <td>2.351720e+05</td>\n",
       "      <td>30.000000</td>\n",
       "      <td>4.081215e+01</td>\n",
       "      <td>-7.388291e+01</td>\n",
       "    </tr>\n",
       "    <tr>\n",
       "      <th>max</th>\n",
       "      <td>9.999999e+08</td>\n",
       "      <td>1.230000e+02</td>\n",
       "      <td>8.810000e+02</td>\n",
       "      <td>9.750000e+02</td>\n",
       "      <td>9.700000e+01</td>\n",
       "      <td>1.067298e+06</td>\n",
       "      <td>7.250292e+06</td>\n",
       "      <td>34.000000</td>\n",
       "      <td>5.965727e+01</td>\n",
       "      <td>-7.368479e+01</td>\n",
       "    </tr>\n",
       "  </tbody>\n",
       "</table>\n",
       "</div>"
      ],
      "text/plain": [
       "         CMPLNT_NUM   ADDR_PCT_CD         KY_CD         PD_CD  \\\n",
       "count  7.825499e+06  7.823333e+06  7.825499e+06  7.818738e+06   \n",
       "mean   5.500321e+08  6.334306e+01  2.968756e+02  4.126822e+02   \n",
       "std    2.597822e+08  3.450825e+01  1.511127e+02  2.176568e+02   \n",
       "min    1.000001e+08  1.000000e+00  1.010000e+02  1.000000e+02   \n",
       "25%    3.250977e+08  4.000000e+01  1.170000e+02  2.540000e+02   \n",
       "50%    5.500406e+08  6.300000e+01  3.410000e+02  3.800000e+02   \n",
       "75%    7.750019e+08  9.400000e+01  3.510000e+02  6.370000e+02   \n",
       "max    9.999999e+08  1.230000e+02  8.810000e+02  9.750000e+02   \n",
       "\n",
       "       JURISDICTION_CODE    X_COORD_CD    Y_COORD_CD  TRANSIT_DISTRICT  \\\n",
       "count       7.818738e+06  7.808160e+06  7.808160e+06     172475.000000   \n",
       "mean        7.088369e-01  1.004886e+06  2.071330e+05         13.605833   \n",
       "std         6.648380e+00  2.169996e+04  3.139557e+04         12.475836   \n",
       "min         0.000000e+00  1.110000e+02  1.110000e+02          1.000000   \n",
       "25%         0.000000e+00  9.917690e+05  1.844240e+05          3.000000   \n",
       "50%         0.000000e+00  1.004419e+06  2.061090e+05         11.000000   \n",
       "75%         0.000000e+00  1.016689e+06  2.351720e+05         30.000000   \n",
       "max         9.700000e+01  1.067298e+06  7.250292e+06         34.000000   \n",
       "\n",
       "           Latitude     Longitude  \n",
       "count  7.808160e+06  7.808160e+06  \n",
       "mean   4.073517e+01 -7.392551e+01  \n",
       "std    8.609054e-02  7.825796e-02  \n",
       "min    4.011271e+01 -7.751921e+01  \n",
       "25%    4.067280e+01 -7.397287e+01  \n",
       "50%    4.073236e+01 -7.392721e+01  \n",
       "75%    4.081215e+01 -7.388291e+01  \n",
       "max    5.965727e+01 -7.368479e+01  "
      ]
     },
     "execution_count": 14,
     "metadata": {},
     "output_type": "execute_result"
    }
   ],
   "source": [
    "data.info()\n",
    "data.describe()"
   ]
  },
  {
   "cell_type": "code",
   "execution_count": 5,
   "metadata": {
    "collapsed": false
   },
   "outputs": [],
   "source": [
    "def make_categorical(dataframe, column):\n",
    "    # make the column of the dataframe categorical\n",
    "    dataframe[column] = dataframe[column].astype('category')\n",
    "\n",
    "# get a lst of all the columns in the dataframe\n",
    "columns = ['ADDR_PCT_CD', 'BORO_NM', 'CRM_ATPT_CPTD_CD', 'HADEVELOPT', 'HOUSING_PSA', 'JURISDICTION_CODE', 'JURIS_DESC', 'KY_CD', 'LAW_CAT_CD', 'LOC_OF_OCCUR_DESC', 'OFNS_DESC', 'PARKS_NM', 'PATROL_BORO', 'PD_CD', 'PD_DESC', 'RPT_DT', 'STATION_NAME', 'SUSP_AGE_GROUP', 'SUSP_RACE', 'SUSP_SEX', 'TRANSIT_DISTRICT', 'VIC_AGE_GROUP', 'VIC_RACE', 'VIC_SEX']\n",
    "\n",
    "    # make each column categorical\n",
    "for column in columns:\n",
    "    make_categorical(data, column)\n"
   ]
  },
  {
   "cell_type": "code",
   "execution_count": 6,
   "metadata": {
    "collapsed": false
   },
   "outputs": [],
   "source": [
    "patrol_count = data['ADDR_PCT_CD'].value_counts()"
   ]
  },
  {
   "cell_type": "code",
   "execution_count": 27,
   "metadata": {
    "collapsed": false
   },
   "outputs": [
    {
     "data": {
      "text/html": [
       "\n",
       "<div id=\"altair-viz-3fd55fdea2b74295855c5de2f4a7fddf\"></div>\n",
       "<script type=\"text/javascript\">\n",
       "  var VEGA_DEBUG = (typeof VEGA_DEBUG == \"undefined\") ? {} : VEGA_DEBUG;\n",
       "  (function(spec, embedOpt){\n",
       "    let outputDiv = document.currentScript.previousElementSibling;\n",
       "    if (outputDiv.id !== \"altair-viz-3fd55fdea2b74295855c5de2f4a7fddf\") {\n",
       "      outputDiv = document.getElementById(\"altair-viz-3fd55fdea2b74295855c5de2f4a7fddf\");\n",
       "    }\n",
       "    const paths = {\n",
       "      \"vega\": \"https://cdn.jsdelivr.net/npm//vega@5?noext\",\n",
       "      \"vega-lib\": \"https://cdn.jsdelivr.net/npm//vega-lib?noext\",\n",
       "      \"vega-lite\": \"https://cdn.jsdelivr.net/npm//vega-lite@4.17.0?noext\",\n",
       "      \"vega-embed\": \"https://cdn.jsdelivr.net/npm//vega-embed@6?noext\",\n",
       "    };\n",
       "\n",
       "    function maybeLoadScript(lib, version) {\n",
       "      var key = `${lib.replace(\"-\", \"\")}_version`;\n",
       "      return (VEGA_DEBUG[key] == version) ?\n",
       "        Promise.resolve(paths[lib]) :\n",
       "        new Promise(function(resolve, reject) {\n",
       "          var s = document.createElement('script');\n",
       "          document.getElementsByTagName(\"head\")[0].appendChild(s);\n",
       "          s.async = true;\n",
       "          s.onload = () => {\n",
       "            VEGA_DEBUG[key] = version;\n",
       "            return resolve(paths[lib]);\n",
       "          };\n",
       "          s.onerror = () => reject(`Error loading script: ${paths[lib]}`);\n",
       "          s.src = paths[lib];\n",
       "        });\n",
       "    }\n",
       "\n",
       "    function showError(err) {\n",
       "      outputDiv.innerHTML = `<div class=\"error\" style=\"color:red;\">${err}</div>`;\n",
       "      throw err;\n",
       "    }\n",
       "\n",
       "    function displayChart(vegaEmbed) {\n",
       "      vegaEmbed(outputDiv, spec, embedOpt)\n",
       "        .catch(err => showError(`Javascript Error: ${err.message}<br>This usually means there's a typo in your chart specification. See the javascript console for the full traceback.`));\n",
       "    }\n",
       "\n",
       "    if(typeof define === \"function\" && define.amd) {\n",
       "      requirejs.config({paths});\n",
       "      require([\"vega-embed\"], displayChart, err => showError(`Error loading script: ${err.message}`));\n",
       "    } else {\n",
       "      maybeLoadScript(\"vega\", \"5\")\n",
       "        .then(() => maybeLoadScript(\"vega-lite\", \"4.17.0\"))\n",
       "        .then(() => maybeLoadScript(\"vega-embed\", \"6\"))\n",
       "        .catch(showError)\n",
       "        .then(() => displayChart(vegaEmbed));\n",
       "    }\n",
       "  })({\"config\": {\"view\": {\"continuousWidth\": 400, \"continuousHeight\": 300}}, \"data\": {\"name\": \"data-8848e6214820e4e7cba951c1a898ad7f\"}, \"mark\": \"bar\", \"encoding\": {\"x\": {\"field\": \"index\", \"type\": \"nominal\"}, \"y\": {\"field\": \"ADDR_PCT_CD\", \"type\": \"quantitative\"}}, \"height\": 500, \"title\": \"Number of crimes per patrol_boro\", \"width\": 1000, \"$schema\": \"https://vega.github.io/schema/vega-lite/v4.17.0.json\", \"datasets\": {\"data-8848e6214820e4e7cba951c1a898ad7f\": [{\"index\": 75.0, \"ADDR_PCT_CD\": 251053}, {\"index\": 43.0, \"ADDR_PCT_CD\": 200123}, {\"index\": 44.0, \"ADDR_PCT_CD\": 194402}, {\"index\": 40.0, \"ADDR_PCT_CD\": 188532}, {\"index\": 14.0, \"ADDR_PCT_CD\": 176797}, {\"index\": 46.0, \"ADDR_PCT_CD\": 164512}, {\"index\": 52.0, \"ADDR_PCT_CD\": 163235}, {\"index\": 73.0, \"ADDR_PCT_CD\": 159316}, {\"index\": 120.0, \"ADDR_PCT_CD\": 151535}, {\"index\": 47.0, \"ADDR_PCT_CD\": 149147}, {\"index\": 67.0, \"ADDR_PCT_CD\": 148169}, {\"index\": 114.0, \"ADDR_PCT_CD\": 144861}, {\"index\": 113.0, \"ADDR_PCT_CD\": 131608}, {\"index\": 109.0, \"ADDR_PCT_CD\": 129408}, {\"index\": 115.0, \"ADDR_PCT_CD\": 127727}, {\"index\": 48.0, \"ADDR_PCT_CD\": 127307}, {\"index\": 42.0, \"ADDR_PCT_CD\": 126706}, {\"index\": 79.0, \"ADDR_PCT_CD\": 124529}, {\"index\": 18.0, \"ADDR_PCT_CD\": 124321}, {\"index\": 70.0, \"ADDR_PCT_CD\": 122478}, {\"index\": 103.0, \"ADDR_PCT_CD\": 122035}, {\"index\": 105.0, \"ADDR_PCT_CD\": 117005}, {\"index\": 13.0, \"ADDR_PCT_CD\": 114926}, {\"index\": 104.0, \"ADDR_PCT_CD\": 111624}, {\"index\": 77.0, \"ADDR_PCT_CD\": 111447}, {\"index\": 122.0, \"ADDR_PCT_CD\": 110354}, {\"index\": 110.0, \"ADDR_PCT_CD\": 108546}, {\"index\": 71.0, \"ADDR_PCT_CD\": 107590}, {\"index\": 19.0, \"ADDR_PCT_CD\": 107469}, {\"index\": 83.0, \"ADDR_PCT_CD\": 107423}, {\"index\": 25.0, \"ADDR_PCT_CD\": 106608}, {\"index\": 32.0, \"ADDR_PCT_CD\": 106041}, {\"index\": 49.0, \"ADDR_PCT_CD\": 105546}, {\"index\": 41.0, \"ADDR_PCT_CD\": 105310}, {\"index\": 90.0, \"ADDR_PCT_CD\": 102389}, {\"index\": 23.0, \"ADDR_PCT_CD\": 101459}, {\"index\": 45.0, \"ADDR_PCT_CD\": 98938}, {\"index\": 60.0, \"ADDR_PCT_CD\": 98865}, {\"index\": 1.0, \"ADDR_PCT_CD\": 98493}, {\"index\": 102.0, \"ADDR_PCT_CD\": 96550}, {\"index\": 106.0, \"ADDR_PCT_CD\": 96228}, {\"index\": 61.0, \"ADDR_PCT_CD\": 95352}, {\"index\": 81.0, \"ADDR_PCT_CD\": 95024}, {\"index\": 62.0, \"ADDR_PCT_CD\": 93921}, {\"index\": 9.0, \"ADDR_PCT_CD\": 92556}, {\"index\": 34.0, \"ADDR_PCT_CD\": 86149}, {\"index\": 72.0, \"ADDR_PCT_CD\": 85596}, {\"index\": 6.0, \"ADDR_PCT_CD\": 83956}, {\"index\": 28.0, \"ADDR_PCT_CD\": 83930}, {\"index\": 108.0, \"ADDR_PCT_CD\": 82789}, {\"index\": 107.0, \"ADDR_PCT_CD\": 82258}, {\"index\": 84.0, \"ADDR_PCT_CD\": 81053}, {\"index\": 63.0, \"ADDR_PCT_CD\": 80233}, {\"index\": 68.0, \"ADDR_PCT_CD\": 78463}, {\"index\": 24.0, \"ADDR_PCT_CD\": 77876}, {\"index\": 69.0, \"ADDR_PCT_CD\": 75126}, {\"index\": 66.0, \"ADDR_PCT_CD\": 74189}, {\"index\": 30.0, \"ADDR_PCT_CD\": 72810}, {\"index\": 50.0, \"ADDR_PCT_CD\": 72325}, {\"index\": 33.0, \"ADDR_PCT_CD\": 70253}, {\"index\": 5.0, \"ADDR_PCT_CD\": 69360}, {\"index\": 88.0, \"ADDR_PCT_CD\": 68583}, {\"index\": 101.0, \"ADDR_PCT_CD\": 67744}, {\"index\": 7.0, \"ADDR_PCT_CD\": 66773}, {\"index\": 10.0, \"ADDR_PCT_CD\": 65978}, {\"index\": 20.0, \"ADDR_PCT_CD\": 64774}, {\"index\": 78.0, \"ADDR_PCT_CD\": 57354}, {\"index\": 112.0, \"ADDR_PCT_CD\": 56483}, {\"index\": 94.0, \"ADDR_PCT_CD\": 55290}, {\"index\": 17.0, \"ADDR_PCT_CD\": 54235}, {\"index\": 121.0, \"ADDR_PCT_CD\": 52204}, {\"index\": 26.0, \"ADDR_PCT_CD\": 52068}, {\"index\": 111.0, \"ADDR_PCT_CD\": 49140}, {\"index\": 123.0, \"ADDR_PCT_CD\": 48182}, {\"index\": 76.0, \"ADDR_PCT_CD\": 43073}, {\"index\": 100.0, \"ADDR_PCT_CD\": 41673}, {\"index\": 22.0, \"ADDR_PCT_CD\": 5948}]}}, {\"mode\": \"vega-lite\"});\n",
       "</script>"
      ],
      "text/plain": [
       "alt.Chart(...)"
      ]
     },
     "execution_count": 27,
     "metadata": {},
     "output_type": "execute_result"
    }
   ],
   "source": [
    "# using altair plot the number of crimes per patrol_boro in a bar chart\n",
    "altair.Chart(patrol_count.reset_index()).mark_bar().encode(\n",
    "    x='index',\n",
    "    y='ADDR_PCT_CD',\n",
    ").properties(\n",
    "    title='Number of crimes per patrol_boro',\n",
    "    width=1000,\n",
    "    height=500\n",
    ")"
   ]
  },
  {
   "cell_type": "code",
   "execution_count": 11,
   "metadata": {
    "collapsed": false
   },
   "outputs": [
    {
     "data": {
      "text/plain": [
       "PETIT LARCENY                      1331246\n",
       "HARRASSMENT 2                      1020122\n",
       "ASSAULT 3 & RELATED OFFENSES        822614\n",
       "CRIMINAL MISCHIEF & RELATED OF      789690\n",
       "GRAND LARCENY                       679846\n",
       "                                    ...   \n",
       "FORTUNE TELLING                         12\n",
       "ABORTION                                 7\n",
       "OFFENSES AGAINST MARRIAGE UNCL           5\n",
       "KIDNAPPING AND RELATED OFFENSES          3\n",
       "UNDER THE INFLUENCE OF DRUGS             3\n",
       "Name: OFNS_DESC, Length: 71, dtype: int64"
      ]
     },
     "execution_count": 11,
     "metadata": {},
     "output_type": "execute_result"
    }
   ],
   "source": [
    "# show the value counts for each OFNS_DESC\n",
    "data['OFNS_DESC'].value_counts()"
   ]
  },
  {
   "cell_type": "code",
   "execution_count": 10,
   "metadata": {
    "collapsed": false
   },
   "outputs": [
    {
     "data": {
      "text/html": [
       "<div>\n",
       "<style scoped>\n",
       "    .dataframe tbody tr th:only-of-type {\n",
       "        vertical-align: middle;\n",
       "    }\n",
       "\n",
       "    .dataframe tbody tr th {\n",
       "        vertical-align: top;\n",
       "    }\n",
       "\n",
       "    .dataframe thead th {\n",
       "        text-align: right;\n",
       "    }\n",
       "</style>\n",
       "<table border=\"1\" class=\"dataframe\">\n",
       "  <thead>\n",
       "    <tr style=\"text-align: right;\">\n",
       "      <th></th>\n",
       "      <th>ADDR_PCT_CD</th>\n",
       "      <th>OFNS_DESC</th>\n",
       "      <th>count</th>\n",
       "    </tr>\n",
       "  </thead>\n",
       "  <tbody>\n",
       "    <tr>\n",
       "      <th>0</th>\n",
       "      <td>1.0</td>\n",
       "      <td>ABORTION</td>\n",
       "      <td>0</td>\n",
       "    </tr>\n",
       "    <tr>\n",
       "      <th>1</th>\n",
       "      <td>1.0</td>\n",
       "      <td>ADMINISTRATIVE CODE</td>\n",
       "      <td>63</td>\n",
       "    </tr>\n",
       "    <tr>\n",
       "      <th>2</th>\n",
       "      <td>1.0</td>\n",
       "      <td>ADMINISTRATIVE CODES</td>\n",
       "      <td>0</td>\n",
       "    </tr>\n",
       "    <tr>\n",
       "      <th>3</th>\n",
       "      <td>1.0</td>\n",
       "      <td>AGRICULTURE &amp; MRKTS LAW-UNCLASSIFIED</td>\n",
       "      <td>2</td>\n",
       "    </tr>\n",
       "    <tr>\n",
       "      <th>4</th>\n",
       "      <td>1.0</td>\n",
       "      <td>ALCOHOLIC BEVERAGE CONTROL LAW</td>\n",
       "      <td>2</td>\n",
       "    </tr>\n",
       "    <tr>\n",
       "      <th>...</th>\n",
       "      <td>...</td>\n",
       "      <td>...</td>\n",
       "      <td>...</td>\n",
       "    </tr>\n",
       "    <tr>\n",
       "      <th>5462</th>\n",
       "      <td>123.0</td>\n",
       "      <td>THEFT-FRAUD</td>\n",
       "      <td>1227</td>\n",
       "    </tr>\n",
       "    <tr>\n",
       "      <th>5463</th>\n",
       "      <td>123.0</td>\n",
       "      <td>UNAUTHORIZED USE OF A VEHICLE</td>\n",
       "      <td>246</td>\n",
       "    </tr>\n",
       "    <tr>\n",
       "      <th>5464</th>\n",
       "      <td>123.0</td>\n",
       "      <td>UNDER THE INFLUENCE OF DRUGS</td>\n",
       "      <td>1</td>\n",
       "    </tr>\n",
       "    <tr>\n",
       "      <th>5465</th>\n",
       "      <td>123.0</td>\n",
       "      <td>UNLAWFUL POSS. WEAP. ON SCHOOL</td>\n",
       "      <td>0</td>\n",
       "    </tr>\n",
       "    <tr>\n",
       "      <th>5466</th>\n",
       "      <td>123.0</td>\n",
       "      <td>VEHICLE AND TRAFFIC LAWS</td>\n",
       "      <td>300</td>\n",
       "    </tr>\n",
       "  </tbody>\n",
       "</table>\n",
       "<p>5467 rows × 3 columns</p>\n",
       "</div>"
      ],
      "text/plain": [
       "     ADDR_PCT_CD                             OFNS_DESC  count\n",
       "0            1.0                              ABORTION      0\n",
       "1            1.0                   ADMINISTRATIVE CODE     63\n",
       "2            1.0                  ADMINISTRATIVE CODES      0\n",
       "3            1.0  AGRICULTURE & MRKTS LAW-UNCLASSIFIED      2\n",
       "4            1.0        ALCOHOLIC BEVERAGE CONTROL LAW      2\n",
       "...          ...                                   ...    ...\n",
       "5462       123.0                           THEFT-FRAUD   1227\n",
       "5463       123.0         UNAUTHORIZED USE OF A VEHICLE    246\n",
       "5464       123.0          UNDER THE INFLUENCE OF DRUGS      1\n",
       "5465       123.0        UNLAWFUL POSS. WEAP. ON SCHOOL      0\n",
       "5466       123.0              VEHICLE AND TRAFFIC LAWS    300\n",
       "\n",
       "[5467 rows x 3 columns]"
      ]
     },
     "execution_count": 10,
     "metadata": {},
     "output_type": "execute_result"
    }
   ],
   "source": [
    "# using altair plot the types of crime per patrol_boro in a stacked bar chart\n",
    "type_by_precint = data.groupby(['ADDR_PCT_CD', 'OFNS_DESC']).size().reset_index(name='count')\n",
    "type_by_precint"
   ]
  },
  {
   "cell_type": "code",
   "execution_count": 9,
   "metadata": {
    "collapsed": false
   },
   "outputs": [
    {
     "ename": "MaxRowsError",
     "evalue": "The number of rows in your dataset is greater than the maximum allowed (5000). For information on how to plot larger datasets in Altair, see the documentation",
     "output_type": "error",
     "traceback": [
      "\u001b[1;31m---------------------------------------------------------------------------\u001b[0m",
      "\u001b[1;31mMaxRowsError\u001b[0m                              Traceback (most recent call last)",
      "File \u001b[1;32m~\\anaconda3\\envs\\Py311\\Lib\\site-packages\\altair\\vegalite\\v4\\api.py:363\u001b[0m, in \u001b[0;36mTopLevelMixin.to_dict\u001b[1;34m(self, *args, **kwargs)\u001b[0m\n\u001b[0;32m    361\u001b[0m copy \u001b[38;5;241m=\u001b[39m \u001b[38;5;28mself\u001b[39m\u001b[38;5;241m.\u001b[39mcopy(deep\u001b[38;5;241m=\u001b[39m\u001b[38;5;28;01mFalse\u001b[39;00m)\n\u001b[0;32m    362\u001b[0m original_data \u001b[38;5;241m=\u001b[39m \u001b[38;5;28mgetattr\u001b[39m(copy, \u001b[38;5;124m\"\u001b[39m\u001b[38;5;124mdata\u001b[39m\u001b[38;5;124m\"\u001b[39m, Undefined)\n\u001b[1;32m--> 363\u001b[0m copy\u001b[38;5;241m.\u001b[39mdata \u001b[38;5;241m=\u001b[39m _prepare_data(original_data, context)\n\u001b[0;32m    365\u001b[0m \u001b[38;5;28;01mif\u001b[39;00m original_data \u001b[38;5;129;01mis\u001b[39;00m \u001b[38;5;129;01mnot\u001b[39;00m Undefined:\n\u001b[0;32m    366\u001b[0m     context[\u001b[38;5;124m\"\u001b[39m\u001b[38;5;124mdata\u001b[39m\u001b[38;5;124m\"\u001b[39m] \u001b[38;5;241m=\u001b[39m original_data\n",
      "File \u001b[1;32m~\\anaconda3\\envs\\Py311\\Lib\\site-packages\\altair\\vegalite\\v4\\api.py:84\u001b[0m, in \u001b[0;36m_prepare_data\u001b[1;34m(data, context)\u001b[0m\n\u001b[0;32m     82\u001b[0m \u001b[38;5;66;03m# convert dataframes  or objects with __geo_interface__ to dict\u001b[39;00m\n\u001b[0;32m     83\u001b[0m \u001b[38;5;28;01mif\u001b[39;00m \u001b[38;5;28misinstance\u001b[39m(data, pd\u001b[38;5;241m.\u001b[39mDataFrame) \u001b[38;5;129;01mor\u001b[39;00m \u001b[38;5;28mhasattr\u001b[39m(data, \u001b[38;5;124m\"\u001b[39m\u001b[38;5;124m__geo_interface__\u001b[39m\u001b[38;5;124m\"\u001b[39m):\n\u001b[1;32m---> 84\u001b[0m     data \u001b[38;5;241m=\u001b[39m _pipe(data, data_transformers\u001b[38;5;241m.\u001b[39mget())\n\u001b[0;32m     86\u001b[0m \u001b[38;5;66;03m# convert string input to a URLData\u001b[39;00m\n\u001b[0;32m     87\u001b[0m \u001b[38;5;28;01mif\u001b[39;00m \u001b[38;5;28misinstance\u001b[39m(data, \u001b[38;5;28mstr\u001b[39m):\n",
      "File \u001b[1;32m~\\anaconda3\\envs\\Py311\\Lib\\site-packages\\toolz\\functoolz.py:630\u001b[0m, in \u001b[0;36mpipe\u001b[1;34m(data, *funcs)\u001b[0m\n\u001b[0;32m    610\u001b[0m \u001b[38;5;124;03m\"\"\" Pipe a value through a sequence of functions\u001b[39;00m\n\u001b[0;32m    611\u001b[0m \n\u001b[0;32m    612\u001b[0m \u001b[38;5;124;03mI.e. ``pipe(data, f, g, h)`` is equivalent to ``h(g(f(data)))``\u001b[39;00m\n\u001b[1;32m   (...)\u001b[0m\n\u001b[0;32m    627\u001b[0m \u001b[38;5;124;03m    thread_last\u001b[39;00m\n\u001b[0;32m    628\u001b[0m \u001b[38;5;124;03m\"\"\"\u001b[39;00m\n\u001b[0;32m    629\u001b[0m \u001b[38;5;28;01mfor\u001b[39;00m func \u001b[38;5;129;01min\u001b[39;00m funcs:\n\u001b[1;32m--> 630\u001b[0m     data \u001b[38;5;241m=\u001b[39m func(data)\n\u001b[0;32m    631\u001b[0m \u001b[38;5;28;01mreturn\u001b[39;00m data\n",
      "File \u001b[1;32m~\\anaconda3\\envs\\Py311\\Lib\\site-packages\\toolz\\functoolz.py:306\u001b[0m, in \u001b[0;36mcurry.__call__\u001b[1;34m(self, *args, **kwargs)\u001b[0m\n\u001b[0;32m    304\u001b[0m \u001b[38;5;28;01mdef\u001b[39;00m \u001b[38;5;21m__call__\u001b[39m(\u001b[38;5;28mself\u001b[39m, \u001b[38;5;241m*\u001b[39margs, \u001b[38;5;241m*\u001b[39m\u001b[38;5;241m*\u001b[39mkwargs):\n\u001b[0;32m    305\u001b[0m     \u001b[38;5;28;01mtry\u001b[39;00m:\n\u001b[1;32m--> 306\u001b[0m         \u001b[38;5;28;01mreturn\u001b[39;00m \u001b[38;5;28mself\u001b[39m\u001b[38;5;241m.\u001b[39m_partial(\u001b[38;5;241m*\u001b[39margs, \u001b[38;5;241m*\u001b[39m\u001b[38;5;241m*\u001b[39mkwargs)\n\u001b[0;32m    307\u001b[0m     \u001b[38;5;28;01mexcept\u001b[39;00m \u001b[38;5;167;01mTypeError\u001b[39;00m \u001b[38;5;28;01mas\u001b[39;00m exc:\n\u001b[0;32m    308\u001b[0m         \u001b[38;5;28;01mif\u001b[39;00m \u001b[38;5;28mself\u001b[39m\u001b[38;5;241m.\u001b[39m_should_curry(args, kwargs, exc):\n",
      "File \u001b[1;32m~\\anaconda3\\envs\\Py311\\Lib\\site-packages\\altair\\vegalite\\data.py:19\u001b[0m, in \u001b[0;36mdefault_data_transformer\u001b[1;34m(data, max_rows)\u001b[0m\n\u001b[0;32m     17\u001b[0m \u001b[38;5;129m@curried\u001b[39m\u001b[38;5;241m.\u001b[39mcurry\n\u001b[0;32m     18\u001b[0m \u001b[38;5;28;01mdef\u001b[39;00m \u001b[38;5;21mdefault_data_transformer\u001b[39m(data, max_rows\u001b[38;5;241m=\u001b[39m\u001b[38;5;241m5000\u001b[39m):\n\u001b[1;32m---> 19\u001b[0m     \u001b[38;5;28;01mreturn\u001b[39;00m curried\u001b[38;5;241m.\u001b[39mpipe(data, limit_rows(max_rows\u001b[38;5;241m=\u001b[39mmax_rows), to_values)\n",
      "File \u001b[1;32m~\\anaconda3\\envs\\Py311\\Lib\\site-packages\\toolz\\functoolz.py:630\u001b[0m, in \u001b[0;36mpipe\u001b[1;34m(data, *funcs)\u001b[0m\n\u001b[0;32m    610\u001b[0m \u001b[38;5;124;03m\"\"\" Pipe a value through a sequence of functions\u001b[39;00m\n\u001b[0;32m    611\u001b[0m \n\u001b[0;32m    612\u001b[0m \u001b[38;5;124;03mI.e. ``pipe(data, f, g, h)`` is equivalent to ``h(g(f(data)))``\u001b[39;00m\n\u001b[1;32m   (...)\u001b[0m\n\u001b[0;32m    627\u001b[0m \u001b[38;5;124;03m    thread_last\u001b[39;00m\n\u001b[0;32m    628\u001b[0m \u001b[38;5;124;03m\"\"\"\u001b[39;00m\n\u001b[0;32m    629\u001b[0m \u001b[38;5;28;01mfor\u001b[39;00m func \u001b[38;5;129;01min\u001b[39;00m funcs:\n\u001b[1;32m--> 630\u001b[0m     data \u001b[38;5;241m=\u001b[39m func(data)\n\u001b[0;32m    631\u001b[0m \u001b[38;5;28;01mreturn\u001b[39;00m data\n",
      "File \u001b[1;32m~\\anaconda3\\envs\\Py311\\Lib\\site-packages\\toolz\\functoolz.py:306\u001b[0m, in \u001b[0;36mcurry.__call__\u001b[1;34m(self, *args, **kwargs)\u001b[0m\n\u001b[0;32m    304\u001b[0m \u001b[38;5;28;01mdef\u001b[39;00m \u001b[38;5;21m__call__\u001b[39m(\u001b[38;5;28mself\u001b[39m, \u001b[38;5;241m*\u001b[39margs, \u001b[38;5;241m*\u001b[39m\u001b[38;5;241m*\u001b[39mkwargs):\n\u001b[0;32m    305\u001b[0m     \u001b[38;5;28;01mtry\u001b[39;00m:\n\u001b[1;32m--> 306\u001b[0m         \u001b[38;5;28;01mreturn\u001b[39;00m \u001b[38;5;28mself\u001b[39m\u001b[38;5;241m.\u001b[39m_partial(\u001b[38;5;241m*\u001b[39margs, \u001b[38;5;241m*\u001b[39m\u001b[38;5;241m*\u001b[39mkwargs)\n\u001b[0;32m    307\u001b[0m     \u001b[38;5;28;01mexcept\u001b[39;00m \u001b[38;5;167;01mTypeError\u001b[39;00m \u001b[38;5;28;01mas\u001b[39;00m exc:\n\u001b[0;32m    308\u001b[0m         \u001b[38;5;28;01mif\u001b[39;00m \u001b[38;5;28mself\u001b[39m\u001b[38;5;241m.\u001b[39m_should_curry(args, kwargs, exc):\n",
      "File \u001b[1;32m~\\anaconda3\\envs\\Py311\\Lib\\site-packages\\altair\\utils\\data.py:80\u001b[0m, in \u001b[0;36mlimit_rows\u001b[1;34m(data, max_rows)\u001b[0m\n\u001b[0;32m     78\u001b[0m         \u001b[38;5;28;01mreturn\u001b[39;00m data\n\u001b[0;32m     79\u001b[0m \u001b[38;5;28;01mif\u001b[39;00m max_rows \u001b[38;5;129;01mis\u001b[39;00m \u001b[38;5;129;01mnot\u001b[39;00m \u001b[38;5;28;01mNone\u001b[39;00m \u001b[38;5;129;01mand\u001b[39;00m \u001b[38;5;28mlen\u001b[39m(values) \u001b[38;5;241m>\u001b[39m max_rows:\n\u001b[1;32m---> 80\u001b[0m     \u001b[38;5;28;01mraise\u001b[39;00m MaxRowsError(\n\u001b[0;32m     81\u001b[0m         \u001b[38;5;124m\"\u001b[39m\u001b[38;5;124mThe number of rows in your dataset is greater \u001b[39m\u001b[38;5;124m\"\u001b[39m\n\u001b[0;32m     82\u001b[0m         \u001b[38;5;124m\"\u001b[39m\u001b[38;5;124mthan the maximum allowed (\u001b[39m\u001b[38;5;132;01m{}\u001b[39;00m\u001b[38;5;124m). \u001b[39m\u001b[38;5;124m\"\u001b[39m\n\u001b[0;32m     83\u001b[0m         \u001b[38;5;124m\"\u001b[39m\u001b[38;5;124mFor information on how to plot larger datasets \u001b[39m\u001b[38;5;124m\"\u001b[39m\n\u001b[0;32m     84\u001b[0m         \u001b[38;5;124m\"\u001b[39m\u001b[38;5;124min Altair, see the documentation\u001b[39m\u001b[38;5;124m\"\u001b[39m\u001b[38;5;241m.\u001b[39mformat(max_rows)\n\u001b[0;32m     85\u001b[0m     )\n\u001b[0;32m     86\u001b[0m \u001b[38;5;28;01mreturn\u001b[39;00m data\n",
      "\u001b[1;31mMaxRowsError\u001b[0m: The number of rows in your dataset is greater than the maximum allowed (5000). For information on how to plot larger datasets in Altair, see the documentation"
     ]
    },
    {
     "data": {
      "text/plain": [
       "alt.Chart(...)"
      ]
     },
     "execution_count": 9,
     "metadata": {},
     "output_type": "execute_result"
    }
   ],
   "source": [
    "\n",
    "altair.Chart(type_by_precint).mark_bar().encode(\n",
    "    x='ADDR_PCT_CD',\n",
    "    y='count()',\n",
    "    color='OFNS_DESC'\n",
    ").properties(\n",
    "    title='Types of crime per patrol_boro',\n",
    "    width=1000,\n",
    "    height=500\n",
    ")"
   ]
  },
  {
   "cell_type": "code",
   "execution_count": 7,
   "metadata": {},
   "outputs": [],
   "source": [
    "data['OCC'] = data['CMPLNT_FR_DT'].astype(str) + \" \" +data['CMPLNT_FR_TM']\n",
    "data['OCC_END'] = data['CMPLNT_TO_DT'].astype(str) + \" \" +data['CMPLNT_TO_TM']"
   ]
  },
  {
   "cell_type": "code",
   "execution_count": 8,
   "metadata": {},
   "outputs": [
    {
     "data": {
      "text/plain": [
       "0    03/29/2018 20:30:00\n",
       "1    02/06/2018 23:15:00\n",
       "2    11/21/2018 00:15:00\n",
       "3    06/09/2018 21:42:00\n",
       "4    11/10/2018 19:40:00\n",
       "Name: OCC, dtype: object"
      ]
     },
     "execution_count": 8,
     "metadata": {},
     "output_type": "execute_result"
    }
   ],
   "source": [
    "data['OCC'].head(5)"
   ]
  },
  {
   "cell_type": "code",
   "execution_count": 9,
   "metadata": {},
   "outputs": [
    {
     "data": {
      "text/plain": [
       "0                    NaN\n",
       "1                    NaN\n",
       "2    11/21/2018 00:20:00\n",
       "3    06/09/2018 21:43:00\n",
       "4    11/10/2018 19:45:00\n",
       "Name: OCC_END, dtype: object"
      ]
     },
     "execution_count": 9,
     "metadata": {},
     "output_type": "execute_result"
    }
   ],
   "source": [
    "data['OCC_END'].head(5)"
   ]
  },
  {
   "cell_type": "code",
   "execution_count": 9,
   "metadata": {
    "collapsed": false
   },
   "outputs": [],
   "source": []
  },
  {
   "cell_type": "code",
   "execution_count": 10,
   "metadata": {},
   "outputs": [
    {
     "ename": "OutOfBoundsDatetime",
     "evalue": "Out of bounds nanosecond timestamp: 1028-06-21 18:00:00 present at position 27658",
     "output_type": "error",
     "traceback": [
      "\u001b[1;31m---------------------------------------------------------------------------\u001b[0m",
      "\u001b[1;31mOutOfBoundsDatetime\u001b[0m                       Traceback (most recent call last)",
      "Cell \u001b[1;32mIn[10], line 1\u001b[0m\n\u001b[1;32m----> 1\u001b[0m data[\u001b[38;5;124m'\u001b[39m\u001b[38;5;124mOCC\u001b[39m\u001b[38;5;124m'\u001b[39m] \u001b[38;5;241m=\u001b[39m pandas\u001b[38;5;241m.\u001b[39mto_datetime(data[\u001b[38;5;124m'\u001b[39m\u001b[38;5;124mOCC\u001b[39m\u001b[38;5;124m'\u001b[39m])\n\u001b[0;32m      2\u001b[0m data[\u001b[38;5;124m'\u001b[39m\u001b[38;5;124mOCC\u001b[39m\u001b[38;5;124m'\u001b[39m]\u001b[38;5;241m.\u001b[39mhead(\u001b[38;5;241m15\u001b[39m)\n",
      "File \u001b[1;32m~\\anaconda3\\envs\\Py311\\Lib\\site-packages\\pandas\\core\\tools\\datetimes.py:1068\u001b[0m, in \u001b[0;36mto_datetime\u001b[1;34m(arg, errors, dayfirst, yearfirst, utc, format, exact, unit, infer_datetime_format, origin, cache)\u001b[0m\n\u001b[0;32m   1066\u001b[0m         result \u001b[38;5;241m=\u001b[39m arg\u001b[38;5;241m.\u001b[39mmap(cache_array)\n\u001b[0;32m   1067\u001b[0m     \u001b[38;5;28;01melse\u001b[39;00m:\n\u001b[1;32m-> 1068\u001b[0m         values \u001b[38;5;241m=\u001b[39m convert_listlike(arg\u001b[38;5;241m.\u001b[39m_values, \u001b[38;5;28mformat\u001b[39m)\n\u001b[0;32m   1069\u001b[0m         result \u001b[38;5;241m=\u001b[39m arg\u001b[38;5;241m.\u001b[39m_constructor(values, index\u001b[38;5;241m=\u001b[39marg\u001b[38;5;241m.\u001b[39mindex, name\u001b[38;5;241m=\u001b[39marg\u001b[38;5;241m.\u001b[39mname)\n\u001b[0;32m   1070\u001b[0m \u001b[38;5;28;01melif\u001b[39;00m \u001b[38;5;28misinstance\u001b[39m(arg, (ABCDataFrame, abc\u001b[38;5;241m.\u001b[39mMutableMapping)):\n",
      "File \u001b[1;32m~\\anaconda3\\envs\\Py311\\Lib\\site-packages\\pandas\\core\\tools\\datetimes.py:438\u001b[0m, in \u001b[0;36m_convert_listlike_datetimes\u001b[1;34m(arg, format, name, tz, unit, errors, infer_datetime_format, dayfirst, yearfirst, exact)\u001b[0m\n\u001b[0;32m    436\u001b[0m \u001b[38;5;28;01massert\u001b[39;00m \u001b[38;5;28mformat\u001b[39m \u001b[38;5;129;01mis\u001b[39;00m \u001b[38;5;28;01mNone\u001b[39;00m \u001b[38;5;129;01mor\u001b[39;00m infer_datetime_format\n\u001b[0;32m    437\u001b[0m utc \u001b[38;5;241m=\u001b[39m tz \u001b[38;5;241m==\u001b[39m \u001b[38;5;124m\"\u001b[39m\u001b[38;5;124mutc\u001b[39m\u001b[38;5;124m\"\u001b[39m\n\u001b[1;32m--> 438\u001b[0m result, tz_parsed \u001b[38;5;241m=\u001b[39m objects_to_datetime64ns(\n\u001b[0;32m    439\u001b[0m     arg,\n\u001b[0;32m    440\u001b[0m     dayfirst\u001b[38;5;241m=\u001b[39mdayfirst,\n\u001b[0;32m    441\u001b[0m     yearfirst\u001b[38;5;241m=\u001b[39myearfirst,\n\u001b[0;32m    442\u001b[0m     utc\u001b[38;5;241m=\u001b[39mutc,\n\u001b[0;32m    443\u001b[0m     errors\u001b[38;5;241m=\u001b[39merrors,\n\u001b[0;32m    444\u001b[0m     require_iso8601\u001b[38;5;241m=\u001b[39mrequire_iso8601,\n\u001b[0;32m    445\u001b[0m     allow_object\u001b[38;5;241m=\u001b[39m\u001b[38;5;28;01mTrue\u001b[39;00m,\n\u001b[0;32m    446\u001b[0m )\n\u001b[0;32m    448\u001b[0m \u001b[38;5;28;01mif\u001b[39;00m tz_parsed \u001b[38;5;129;01mis\u001b[39;00m \u001b[38;5;129;01mnot\u001b[39;00m \u001b[38;5;28;01mNone\u001b[39;00m:\n\u001b[0;32m    449\u001b[0m     \u001b[38;5;66;03m# We can take a shortcut since the datetime64 numpy array\u001b[39;00m\n\u001b[0;32m    450\u001b[0m     \u001b[38;5;66;03m# is in UTC\u001b[39;00m\n\u001b[0;32m    451\u001b[0m     dta \u001b[38;5;241m=\u001b[39m DatetimeArray(result, dtype\u001b[38;5;241m=\u001b[39mtz_to_dtype(tz_parsed))\n",
      "File \u001b[1;32m~\\anaconda3\\envs\\Py311\\Lib\\site-packages\\pandas\\core\\arrays\\datetimes.py:2177\u001b[0m, in \u001b[0;36mobjects_to_datetime64ns\u001b[1;34m(data, dayfirst, yearfirst, utc, errors, require_iso8601, allow_object, allow_mixed)\u001b[0m\n\u001b[0;32m   2175\u001b[0m order: Literal[\u001b[38;5;124m\"\u001b[39m\u001b[38;5;124mF\u001b[39m\u001b[38;5;124m\"\u001b[39m, \u001b[38;5;124m\"\u001b[39m\u001b[38;5;124mC\u001b[39m\u001b[38;5;124m\"\u001b[39m] \u001b[38;5;241m=\u001b[39m \u001b[38;5;124m\"\u001b[39m\u001b[38;5;124mF\u001b[39m\u001b[38;5;124m\"\u001b[39m \u001b[38;5;28;01mif\u001b[39;00m flags\u001b[38;5;241m.\u001b[39mf_contiguous \u001b[38;5;28;01melse\u001b[39;00m \u001b[38;5;124m\"\u001b[39m\u001b[38;5;124mC\u001b[39m\u001b[38;5;124m\"\u001b[39m\n\u001b[0;32m   2176\u001b[0m \u001b[38;5;28;01mtry\u001b[39;00m:\n\u001b[1;32m-> 2177\u001b[0m     result, tz_parsed \u001b[38;5;241m=\u001b[39m tslib\u001b[38;5;241m.\u001b[39marray_to_datetime(\n\u001b[0;32m   2178\u001b[0m         data\u001b[38;5;241m.\u001b[39mravel(\u001b[38;5;124m\"\u001b[39m\u001b[38;5;124mK\u001b[39m\u001b[38;5;124m\"\u001b[39m),\n\u001b[0;32m   2179\u001b[0m         errors\u001b[38;5;241m=\u001b[39merrors,\n\u001b[0;32m   2180\u001b[0m         utc\u001b[38;5;241m=\u001b[39mutc,\n\u001b[0;32m   2181\u001b[0m         dayfirst\u001b[38;5;241m=\u001b[39mdayfirst,\n\u001b[0;32m   2182\u001b[0m         yearfirst\u001b[38;5;241m=\u001b[39myearfirst,\n\u001b[0;32m   2183\u001b[0m         require_iso8601\u001b[38;5;241m=\u001b[39mrequire_iso8601,\n\u001b[0;32m   2184\u001b[0m         allow_mixed\u001b[38;5;241m=\u001b[39mallow_mixed,\n\u001b[0;32m   2185\u001b[0m     )\n\u001b[0;32m   2186\u001b[0m     result \u001b[38;5;241m=\u001b[39m result\u001b[38;5;241m.\u001b[39mreshape(data\u001b[38;5;241m.\u001b[39mshape, order\u001b[38;5;241m=\u001b[39morder)\n\u001b[0;32m   2187\u001b[0m \u001b[38;5;28;01mexcept\u001b[39;00m \u001b[38;5;167;01mOverflowError\u001b[39;00m \u001b[38;5;28;01mas\u001b[39;00m err:\n\u001b[0;32m   2188\u001b[0m     \u001b[38;5;66;03m# Exception is raised when a part of date is greater than 32 bit signed int\u001b[39;00m\n",
      "File \u001b[1;32m~\\anaconda3\\envs\\Py311\\Lib\\site-packages\\pandas\\_libs\\tslib.pyx:427\u001b[0m, in \u001b[0;36mpandas._libs.tslib.array_to_datetime\u001b[1;34m()\u001b[0m\n",
      "File \u001b[1;32m~\\anaconda3\\envs\\Py311\\Lib\\site-packages\\pandas\\_libs\\tslib.pyx:678\u001b[0m, in \u001b[0;36mpandas._libs.tslib.array_to_datetime\u001b[1;34m()\u001b[0m\n",
      "File \u001b[1;32m~\\anaconda3\\envs\\Py311\\Lib\\site-packages\\pandas\\_libs\\tslib.pyx:674\u001b[0m, in \u001b[0;36mpandas._libs.tslib.array_to_datetime\u001b[1;34m()\u001b[0m\n",
      "File \u001b[1;32m~\\anaconda3\\envs\\Py311\\Lib\\site-packages\\pandas\\_libs\\tslib.pyx:628\u001b[0m, in \u001b[0;36mpandas._libs.tslib.array_to_datetime\u001b[1;34m()\u001b[0m\n",
      "File \u001b[1;32m~\\anaconda3\\envs\\Py311\\Lib\\site-packages\\pandas\\_libs\\tslibs\\conversion.pyx:391\u001b[0m, in \u001b[0;36mpandas._libs.tslibs.conversion.convert_datetime_to_tsobject\u001b[1;34m()\u001b[0m\n",
      "File \u001b[1;32m~\\anaconda3\\envs\\Py311\\Lib\\site-packages\\pandas\\_libs\\tslibs\\np_datetime.pyx:212\u001b[0m, in \u001b[0;36mpandas._libs.tslibs.np_datetime.check_dts_bounds\u001b[1;34m()\u001b[0m\n",
      "\u001b[1;31mOutOfBoundsDatetime\u001b[0m: Out of bounds nanosecond timestamp: 1028-06-21 18:00:00 present at position 27658"
     ]
    }
   ],
   "source": [
    "data['OCC'] = pandas.to_datetime(data['OCC'])\n",
    "data['OCC'].head(15)"
   ]
  },
  {
   "cell_type": "code",
   "execution_count": null,
   "metadata": {
    "collapsed": false
   },
   "outputs": [],
   "source": [
    "data['OCC_END'] = pandas.to_datetime(data['OCC_END'], errors = 'ignore')\n",
    "data['RPT_DT'] = pandas.to_datetime(data['RPT_DT'], errors = 'ignore')"
   ]
  },
  {
   "cell_type": "code",
   "execution_count": null,
   "metadata": {},
   "outputs": [],
   "source": [
    "(data['OCC'][3])"
   ]
  },
  {
   "cell_type": "code",
   "execution_count": null,
   "metadata": {},
   "outputs": [],
   "source": [
    "data['OCC_END'].head(5)"
   ]
  },
  {
   "cell_type": "code",
   "execution_count": null,
   "metadata": {},
   "outputs": [],
   "source": [
    "data['RPT_DT'].head(5)"
   ]
  },
  {
   "cell_type": "code",
   "execution_count": null,
   "metadata": {},
   "outputs": [],
   "source": [
    "import pickle\n",
    "\n",
    "with open('data.pickle', 'wb') as f:\n",
    "    pickle.dump(data, f)\n",
    "\n"
   ]
  },
  {
   "cell_type": "code",
   "execution_count": null,
   "metadata": {},
   "outputs": [],
   "source": [
    "data_notexact=data[~data['CMPLNT_TO_DT'].isna()]\n",
    "data_exact=data[data['CMPLNT_TO_DT'].isna()]\n"
   ]
  },
  {
   "cell_type": "code",
   "execution_count": null,
   "metadata": {},
   "outputs": [],
   "source": [
    "def exact_moment(x):\n",
    "    if (x < pandas.to_datetime('12:00:00')) & (x  >= pandas.to_datetime('06:00:00')):\n",
    "            return \"Morning\" \n",
    "    else:\n",
    "        if (x < pandas.to_datetime('18:00:00')) & (x >= pandas.to_datetime('12:00:00')):\n",
    "            return \"Afternoon\"\n",
    "        else:\n",
    "            if (x  <= pandas.to_datetime('23:59:59')) & (x >= pandas.to_datetime('18:00:00')):    \n",
    "                return \"Night\"\n",
    "            else:\n",
    "                return \"Dawn\"  "
   ]
  },
  {
   "cell_type": "code",
   "execution_count": null,
   "metadata": {},
   "outputs": [],
   "source": [
    "data_exact['Moment'] = data_exact['OCC'].apply(exact_moment)"
   ]
  },
  {
   "cell_type": "code",
   "execution_count": null,
   "metadata": {},
   "outputs": [],
   "source": [
    "data = data[(data['PD_CD'] > 149) & (data['PD_CD'] < 181)]\n",
    "data\n",
    "#Filter data by se-related crimes"
   ]
  },
  {
   "cell_type": "code",
   "execution_count": null,
   "metadata": {},
   "outputs": [],
   "source": [
    "def notexact_moment(x):\n",
    "    if x[2]==x[3]:    \n",
    "        if (x[1] < pandas.to_datetime('12:00:00')) & (x[0]  >= pandas.to_datetime('06:00:00')):\n",
    "                return \"Morning\" \n",
    "        else:\n",
    "            if (x[1] < pandas.to_datetime('18:00:00')) & (x[0] >= pandas.to_datetime('12:00:00')):\n",
    "                return \"Afternoon\"\n",
    "            else:\n",
    "                if (x[1]  <= pandas.to_datetime('23:59:59')) & (x[0] >= pandas.to_datetime('18:00:00')):    \n",
    "                    return \"Night\"\n",
    "                else:\n",
    "                    if (x[1] < pandas.to_datetime('06:00:00')) & (x[0] >= pandas.to_datetime('00:00:00')):\n",
    "                            return \"Dawn\"    \n",
    "                    else:\n",
    "                            return \"Not certain\"\n",
    "    else:\n",
    "         return 'Not certain'    "
   ]
  },
  {
   "cell_type": "code",
   "execution_count": null,
   "metadata": {},
   "outputs": [],
   "source": [
    "data_notexact['Moment']=data_notexact[['OCC','OCC_END','CMPLNT_FR_DT','CMPLNT_TO_DT']].apply(notexact_moment)"
   ]
  },
  {
   "cell_type": "code",
   "execution_count": null,
   "metadata": {},
   "outputs": [],
   "source": [
    "def year(x):\n",
    "    if len(x)>5:\n",
    "        return x.split('/')[2]"
   ]
  },
  {
   "cell_type": "code",
   "execution_count": null,
   "metadata": {},
   "outputs": [],
   "source": [
    "def day(x):\n",
    "    if len(x)>5:\n",
    "        return x.split('/')[1]"
   ]
  },
  {
   "cell_type": "code",
   "execution_count": null,
   "metadata": {},
   "outputs": [],
   "source": [
    "def month(x):\n",
    "    if len(x)>5:\n",
    "        return x.split('/')[0]"
   ]
  },
  {
   "cell_type": "code",
   "execution_count": null,
   "metadata": {},
   "outputs": [],
   "source": [
    "#separate day from month and year\n",
    "data['CMPLNT_FR_DT'] = data['CMPLNT_FR_DT'].astype(str)\n",
    "data['CMPLNT_TO_DT'] = data['CMPLNT_TO_DT'].astype(str)\n",
    "data['Year']=data['CMPLNT_FR_DT'].apply(year)\n",
    "data['YearEnd']=data['CMPLNT_TO_DT'].apply(year)\n",
    "data['Month']=data['CMPLNT_FR_DT'].apply(month)\n",
    "data['MonthEnd']=data['CMPLNT_TO_DT'].apply(month)\n",
    "data['Day']=data['CMPLNT_FR_DT'].apply(day)\n",
    "data['DayEnd']=data['CMPLNT_TO_DT'].apply(day)"
   ]
  },
  {
   "cell_type": "code",
   "execution_count": null,
   "metadata": {},
   "outputs": [],
   "source": [
    "# Functions to eliminate invalid rows\n",
    "def eliminateyear(x):\n",
    "    n=pandas.to_numeric(x)\n",
    "    if ~pandas.isna(x):\n",
    "        if (n<2006) | (n>2023):\n",
    "            return True\n",
    "        else:\n",
    "            return False\n",
    "                "
   ]
  },
  {
   "cell_type": "code",
   "execution_count": null,
   "metadata": {},
   "outputs": [],
   "source": [
    "def eliminatemonth(x):\n",
    "    n=pandas.to_numeric(x)\n",
    "    if ~pandas.isna(x):\n",
    "        if (n<1) | (n>12):\n",
    "            return True\n",
    "        else:\n",
    "            return False"
   ]
  },
  {
   "cell_type": "code",
   "execution_count": null,
   "metadata": {},
   "outputs": [],
   "source": [
    "def eliminateday(x):\n",
    "    n=pandas.to_numeric(x)\n",
    "    if ~pandas.isna(x):\n",
    "        if (n<1) | (n>31):\n",
    "            return True\n",
    "        else:\n",
    "            return False"
   ]
  },
  {
   "cell_type": "code",
   "execution_count": null,
   "metadata": {},
   "outputs": [],
   "source": [
    "y=data['Year'].apply(eliminateyear)\n",
    "y1=data['YearEnd'].apply(eliminateyear)\n",
    "m=data['Month'].apply(eliminatemonth)\n",
    "m1=data['MonthEnd'].apply(eliminatemonth)\n",
    "d=data['Day'].apply(eliminateday)\n",
    "d1=data['DayEnd'].apply(eliminateday)"
   ]
  }
 ],
 "metadata": {
  "kernelspec": {
   "display_name": "base",
   "language": "python",
   "name": "python3"
  },
  "language_info": {
   "codemirror_mode": {
    "name": "ipython",
    "version": 3
   },
   "file_extension": ".py",
   "mimetype": "text/x-python",
   "name": "python",
   "nbconvert_exporter": "python",
   "pygments_lexer": "ipython3",
   "version": "3.9.13"
  },
  "vscode": {
   "interpreter": {
    "hash": "38efaa045fcc2680aaeae51f7ac851acc4f32df019d3afeeab3c12114d76b9ae"
   }
  }
 },
 "nbformat": 4,
 "nbformat_minor": 1
}
