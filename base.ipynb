{
 "cells": [
  {
   "cell_type": "code",
   "execution_count": 2,
   "metadata": {},
   "outputs": [],
   "source": [
    "import pandas\n"
   ]
  },
  {
   "cell_type": "code",
   "execution_count": 15,
   "metadata": {},
   "outputs": [
    {
     "name": "stderr",
     "output_type": "stream",
     "text": [
      "C:\\Users\\Kelvi\\anaconda3\\lib\\site-packages\\IPython\\core\\interactiveshell.py:3071: DtypeWarning: Columns (18,20) have mixed types.Specify dtype option on import or set low_memory=False.\n",
      "  has_raised = await self.run_ast_nodes(code_ast.body, cell_name,\n"
     ]
    },
    {
     "data": {
      "text/plain": [
       "pandas.core.frame.DataFrame"
      ]
     },
     "execution_count": 15,
     "metadata": {},
     "output_type": "execute_result"
    }
   ],
   "source": [
    "data = pandas.read_csv(\"NYPD_Complaint_Data_Historic.csv\")\n",
    "type(data)"
   ]
  },
  {
   "cell_type": "code",
   "execution_count": 16,
   "metadata": {},
   "outputs": [
    {
     "name": "stdout",
     "output_type": "stream",
     "text": [
      "<class 'pandas.core.frame.DataFrame'>\n",
      "RangeIndex: 7825499 entries, 0 to 7825498\n",
      "Data columns (total 35 columns):\n",
      " #   Column             Dtype  \n",
      "---  ------             -----  \n",
      " 0   CMPLNT_NUM         int64  \n",
      " 1   CMPLNT_FR_DT       object \n",
      " 2   CMPLNT_FR_TM       object \n",
      " 3   CMPLNT_TO_DT       object \n",
      " 4   CMPLNT_TO_TM       object \n",
      " 5   ADDR_PCT_CD        float64\n",
      " 6   RPT_DT             object \n",
      " 7   KY_CD              int64  \n",
      " 8   OFNS_DESC          object \n",
      " 9   PD_CD              float64\n",
      " 10  PD_DESC            object \n",
      " 11  CRM_ATPT_CPTD_CD   object \n",
      " 12  LAW_CAT_CD         object \n",
      " 13  BORO_NM            object \n",
      " 14  LOC_OF_OCCUR_DESC  object \n",
      " 15  PREM_TYP_DESC      object \n",
      " 16  JURIS_DESC         object \n",
      " 17  JURISDICTION_CODE  float64\n",
      " 18  PARKS_NM           object \n",
      " 19  HADEVELOPT         object \n",
      " 20  HOUSING_PSA        object \n",
      " 21  X_COORD_CD         float64\n",
      " 22  Y_COORD_CD         float64\n",
      " 23  SUSP_AGE_GROUP     object \n",
      " 24  SUSP_RACE          object \n",
      " 25  SUSP_SEX           object \n",
      " 26  TRANSIT_DISTRICT   float64\n",
      " 27  Latitude           float64\n",
      " 28  Longitude          float64\n",
      " 29  Lat_Lon            object \n",
      " 30  PATROL_BORO        object \n",
      " 31  STATION_NAME       object \n",
      " 32  VIC_AGE_GROUP      object \n",
      " 33  VIC_RACE           object \n",
      " 34  VIC_SEX            object \n",
      "dtypes: float64(8), int64(2), object(25)\n",
      "memory usage: 2.0+ GB\n"
     ]
    },
    {
     "data": {
      "text/html": [
       "<div>\n",
       "<style scoped>\n",
       "    .dataframe tbody tr th:only-of-type {\n",
       "        vertical-align: middle;\n",
       "    }\n",
       "\n",
       "    .dataframe tbody tr th {\n",
       "        vertical-align: top;\n",
       "    }\n",
       "\n",
       "    .dataframe thead th {\n",
       "        text-align: right;\n",
       "    }\n",
       "</style>\n",
       "<table border=\"1\" class=\"dataframe\">\n",
       "  <thead>\n",
       "    <tr style=\"text-align: right;\">\n",
       "      <th></th>\n",
       "      <th>CMPLNT_NUM</th>\n",
       "      <th>ADDR_PCT_CD</th>\n",
       "      <th>KY_CD</th>\n",
       "      <th>PD_CD</th>\n",
       "      <th>JURISDICTION_CODE</th>\n",
       "      <th>X_COORD_CD</th>\n",
       "      <th>Y_COORD_CD</th>\n",
       "      <th>TRANSIT_DISTRICT</th>\n",
       "      <th>Latitude</th>\n",
       "      <th>Longitude</th>\n",
       "    </tr>\n",
       "  </thead>\n",
       "  <tbody>\n",
       "    <tr>\n",
       "      <th>count</th>\n",
       "      <td>7.825499e+06</td>\n",
       "      <td>7.823333e+06</td>\n",
       "      <td>7.825499e+06</td>\n",
       "      <td>7.818738e+06</td>\n",
       "      <td>7.818738e+06</td>\n",
       "      <td>7.808160e+06</td>\n",
       "      <td>7.808160e+06</td>\n",
       "      <td>172475.000000</td>\n",
       "      <td>7.808160e+06</td>\n",
       "      <td>7.808160e+06</td>\n",
       "    </tr>\n",
       "    <tr>\n",
       "      <th>mean</th>\n",
       "      <td>5.500321e+08</td>\n",
       "      <td>6.334306e+01</td>\n",
       "      <td>2.968756e+02</td>\n",
       "      <td>4.126822e+02</td>\n",
       "      <td>7.088369e-01</td>\n",
       "      <td>1.004886e+06</td>\n",
       "      <td>2.071330e+05</td>\n",
       "      <td>13.605833</td>\n",
       "      <td>4.073517e+01</td>\n",
       "      <td>-7.392551e+01</td>\n",
       "    </tr>\n",
       "    <tr>\n",
       "      <th>std</th>\n",
       "      <td>2.597822e+08</td>\n",
       "      <td>3.450825e+01</td>\n",
       "      <td>1.511127e+02</td>\n",
       "      <td>2.176568e+02</td>\n",
       "      <td>6.648380e+00</td>\n",
       "      <td>2.169996e+04</td>\n",
       "      <td>3.139557e+04</td>\n",
       "      <td>12.475836</td>\n",
       "      <td>8.609054e-02</td>\n",
       "      <td>7.825796e-02</td>\n",
       "    </tr>\n",
       "    <tr>\n",
       "      <th>min</th>\n",
       "      <td>1.000001e+08</td>\n",
       "      <td>1.000000e+00</td>\n",
       "      <td>1.010000e+02</td>\n",
       "      <td>1.000000e+02</td>\n",
       "      <td>0.000000e+00</td>\n",
       "      <td>1.110000e+02</td>\n",
       "      <td>1.110000e+02</td>\n",
       "      <td>1.000000</td>\n",
       "      <td>4.011271e+01</td>\n",
       "      <td>-7.751921e+01</td>\n",
       "    </tr>\n",
       "    <tr>\n",
       "      <th>25%</th>\n",
       "      <td>3.250977e+08</td>\n",
       "      <td>4.000000e+01</td>\n",
       "      <td>1.170000e+02</td>\n",
       "      <td>2.540000e+02</td>\n",
       "      <td>0.000000e+00</td>\n",
       "      <td>9.917690e+05</td>\n",
       "      <td>1.844240e+05</td>\n",
       "      <td>3.000000</td>\n",
       "      <td>4.067280e+01</td>\n",
       "      <td>-7.397287e+01</td>\n",
       "    </tr>\n",
       "    <tr>\n",
       "      <th>50%</th>\n",
       "      <td>5.500406e+08</td>\n",
       "      <td>6.300000e+01</td>\n",
       "      <td>3.410000e+02</td>\n",
       "      <td>3.800000e+02</td>\n",
       "      <td>0.000000e+00</td>\n",
       "      <td>1.004419e+06</td>\n",
       "      <td>2.061090e+05</td>\n",
       "      <td>11.000000</td>\n",
       "      <td>4.073236e+01</td>\n",
       "      <td>-7.392721e+01</td>\n",
       "    </tr>\n",
       "    <tr>\n",
       "      <th>75%</th>\n",
       "      <td>7.750019e+08</td>\n",
       "      <td>9.400000e+01</td>\n",
       "      <td>3.510000e+02</td>\n",
       "      <td>6.370000e+02</td>\n",
       "      <td>0.000000e+00</td>\n",
       "      <td>1.016689e+06</td>\n",
       "      <td>2.351720e+05</td>\n",
       "      <td>30.000000</td>\n",
       "      <td>4.081215e+01</td>\n",
       "      <td>-7.388291e+01</td>\n",
       "    </tr>\n",
       "    <tr>\n",
       "      <th>max</th>\n",
       "      <td>9.999999e+08</td>\n",
       "      <td>1.230000e+02</td>\n",
       "      <td>8.810000e+02</td>\n",
       "      <td>9.750000e+02</td>\n",
       "      <td>9.700000e+01</td>\n",
       "      <td>1.067298e+06</td>\n",
       "      <td>7.250292e+06</td>\n",
       "      <td>34.000000</td>\n",
       "      <td>5.965727e+01</td>\n",
       "      <td>-7.368479e+01</td>\n",
       "    </tr>\n",
       "  </tbody>\n",
       "</table>\n",
       "</div>"
      ],
      "text/plain": [
       "         CMPLNT_NUM   ADDR_PCT_CD         KY_CD         PD_CD  \\\n",
       "count  7.825499e+06  7.823333e+06  7.825499e+06  7.818738e+06   \n",
       "mean   5.500321e+08  6.334306e+01  2.968756e+02  4.126822e+02   \n",
       "std    2.597822e+08  3.450825e+01  1.511127e+02  2.176568e+02   \n",
       "min    1.000001e+08  1.000000e+00  1.010000e+02  1.000000e+02   \n",
       "25%    3.250977e+08  4.000000e+01  1.170000e+02  2.540000e+02   \n",
       "50%    5.500406e+08  6.300000e+01  3.410000e+02  3.800000e+02   \n",
       "75%    7.750019e+08  9.400000e+01  3.510000e+02  6.370000e+02   \n",
       "max    9.999999e+08  1.230000e+02  8.810000e+02  9.750000e+02   \n",
       "\n",
       "       JURISDICTION_CODE    X_COORD_CD    Y_COORD_CD  TRANSIT_DISTRICT  \\\n",
       "count       7.818738e+06  7.808160e+06  7.808160e+06     172475.000000   \n",
       "mean        7.088369e-01  1.004886e+06  2.071330e+05         13.605833   \n",
       "std         6.648380e+00  2.169996e+04  3.139557e+04         12.475836   \n",
       "min         0.000000e+00  1.110000e+02  1.110000e+02          1.000000   \n",
       "25%         0.000000e+00  9.917690e+05  1.844240e+05          3.000000   \n",
       "50%         0.000000e+00  1.004419e+06  2.061090e+05         11.000000   \n",
       "75%         0.000000e+00  1.016689e+06  2.351720e+05         30.000000   \n",
       "max         9.700000e+01  1.067298e+06  7.250292e+06         34.000000   \n",
       "\n",
       "           Latitude     Longitude  \n",
       "count  7.808160e+06  7.808160e+06  \n",
       "mean   4.073517e+01 -7.392551e+01  \n",
       "std    8.609054e-02  7.825796e-02  \n",
       "min    4.011271e+01 -7.751921e+01  \n",
       "25%    4.067280e+01 -7.397287e+01  \n",
       "50%    4.073236e+01 -7.392721e+01  \n",
       "75%    4.081215e+01 -7.388291e+01  \n",
       "max    5.965727e+01 -7.368479e+01  "
      ]
     },
     "execution_count": 16,
     "metadata": {},
     "output_type": "execute_result"
    }
   ],
   "source": [
    "\n",
    "data.info()\n",
    "data.describe()"
   ]
  },
  {
   "cell_type": "code",
   "execution_count": 18,
   "metadata": {},
   "outputs": [
    {
     "data": {
      "text/plain": [
       "ASSAULT 3                           676780\n",
       "HARASSMENT,SUBD 3,4,5               668605\n",
       "LARCENY,PETIT FROM STORE-SHOPL      402081\n",
       "AGGRAVATED HARASSMENT 2             390612\n",
       "HARASSMENT,SUBD 1,CIVILIAN          351525\n",
       "                                     ...  \n",
       "ABORTIONAL ARTICLES,ISSUING              1\n",
       "HIND PROSEC. TERR 2                      1\n",
       "ABORTION 2, 1, SELF                      1\n",
       "PUBLIC HEALTH LAW,GLUE,INHALAT           1\n",
       "USE CHILD TO COMMIT CONT SUB OFF         1\n",
       "Name: PD_DESC, Length: 422, dtype: int64"
      ]
     },
     "execution_count": 18,
     "metadata": {},
     "output_type": "execute_result"
    }
   ],
   "source": [
    "data['PD_DESC'].value_counts()"
   ]
  },
  {
   "cell_type": "code",
   "execution_count": 17,
   "metadata": {},
   "outputs": [
    {
     "data": {
      "text/plain": [
       "101.0    676780\n",
       "638.0    668605\n",
       "333.0    402081\n",
       "639.0    390612\n",
       "637.0    351525\n",
       "          ...  \n",
       "440.0         1\n",
       "146.0         1\n",
       "148.0         1\n",
       "885.0         1\n",
       "975.0         1\n",
       "Name: PD_CD, Length: 432, dtype: int64"
      ]
     },
     "execution_count": 17,
     "metadata": {},
     "output_type": "execute_result"
    }
   ],
   "source": [
    "data['PD_CD'].value_counts()"
   ]
  },
  {
   "cell_type": "code",
   "execution_count": 21,
   "metadata": {},
   "outputs": [
    {
     "data": {
      "text/html": [
       "<div>\n",
       "<style scoped>\n",
       "    .dataframe tbody tr th:only-of-type {\n",
       "        vertical-align: middle;\n",
       "    }\n",
       "\n",
       "    .dataframe tbody tr th {\n",
       "        vertical-align: top;\n",
       "    }\n",
       "\n",
       "    .dataframe thead th {\n",
       "        text-align: right;\n",
       "    }\n",
       "</style>\n",
       "<table border=\"1\" class=\"dataframe\">\n",
       "  <thead>\n",
       "    <tr style=\"text-align: right;\">\n",
       "      <th></th>\n",
       "      <th>CMPLNT_NUM</th>\n",
       "      <th>CMPLNT_FR_DT</th>\n",
       "      <th>CMPLNT_FR_TM</th>\n",
       "      <th>CMPLNT_TO_DT</th>\n",
       "      <th>CMPLNT_TO_TM</th>\n",
       "    </tr>\n",
       "  </thead>\n",
       "  <tbody>\n",
       "    <tr>\n",
       "      <th>0</th>\n",
       "      <td>506547392</td>\n",
       "      <td>03/29/2018</td>\n",
       "      <td>20:30:00</td>\n",
       "      <td>NaN</td>\n",
       "      <td>NaN</td>\n",
       "    </tr>\n",
       "    <tr>\n",
       "      <th>1</th>\n",
       "      <td>629632833</td>\n",
       "      <td>02/06/2018</td>\n",
       "      <td>23:15:00</td>\n",
       "      <td>NaN</td>\n",
       "      <td>NaN</td>\n",
       "    </tr>\n",
       "    <tr>\n",
       "      <th>2</th>\n",
       "      <td>787203902</td>\n",
       "      <td>11/21/2018</td>\n",
       "      <td>00:15:00</td>\n",
       "      <td>11/21/2018</td>\n",
       "      <td>00:20:00</td>\n",
       "    </tr>\n",
       "    <tr>\n",
       "      <th>3</th>\n",
       "      <td>280364018</td>\n",
       "      <td>06/09/2018</td>\n",
       "      <td>21:42:00</td>\n",
       "      <td>06/09/2018</td>\n",
       "      <td>21:43:00</td>\n",
       "    </tr>\n",
       "    <tr>\n",
       "      <th>4</th>\n",
       "      <td>985800320</td>\n",
       "      <td>11/10/2018</td>\n",
       "      <td>19:40:00</td>\n",
       "      <td>11/10/2018</td>\n",
       "      <td>19:45:00</td>\n",
       "    </tr>\n",
       "    <tr>\n",
       "      <th>...</th>\n",
       "      <td>...</td>\n",
       "      <td>...</td>\n",
       "      <td>...</td>\n",
       "      <td>...</td>\n",
       "      <td>...</td>\n",
       "    </tr>\n",
       "    <tr>\n",
       "      <th>7825494</th>\n",
       "      <td>104527061</td>\n",
       "      <td>05/01/2008</td>\n",
       "      <td>18:55:00</td>\n",
       "      <td>05/01/2018</td>\n",
       "      <td>19:00:00</td>\n",
       "    </tr>\n",
       "    <tr>\n",
       "      <th>7825495</th>\n",
       "      <td>284201488</td>\n",
       "      <td>05/18/2018</td>\n",
       "      <td>14:50:00</td>\n",
       "      <td>05/18/2018</td>\n",
       "      <td>14:55:00</td>\n",
       "    </tr>\n",
       "    <tr>\n",
       "      <th>7825496</th>\n",
       "      <td>808565901</td>\n",
       "      <td>11/19/2018</td>\n",
       "      <td>02:25:00</td>\n",
       "      <td>11/19/2018</td>\n",
       "      <td>02:30:00</td>\n",
       "    </tr>\n",
       "    <tr>\n",
       "      <th>7825497</th>\n",
       "      <td>649441648</td>\n",
       "      <td>02/03/2018</td>\n",
       "      <td>10:02:00</td>\n",
       "      <td>02/03/2018</td>\n",
       "      <td>12:15:00</td>\n",
       "    </tr>\n",
       "    <tr>\n",
       "      <th>7825498</th>\n",
       "      <td>803166404</td>\n",
       "      <td>01/05/2018</td>\n",
       "      <td>14:40:00</td>\n",
       "      <td>01/05/2018</td>\n",
       "      <td>16:00:00</td>\n",
       "    </tr>\n",
       "  </tbody>\n",
       "</table>\n",
       "<p>7825499 rows × 5 columns</p>\n",
       "</div>"
      ],
      "text/plain": [
       "         CMPLNT_NUM CMPLNT_FR_DT CMPLNT_FR_TM CMPLNT_TO_DT CMPLNT_TO_TM\n",
       "0         506547392   03/29/2018     20:30:00          NaN          NaN\n",
       "1         629632833   02/06/2018     23:15:00          NaN          NaN\n",
       "2         787203902   11/21/2018     00:15:00   11/21/2018     00:20:00\n",
       "3         280364018   06/09/2018     21:42:00   06/09/2018     21:43:00\n",
       "4         985800320   11/10/2018     19:40:00   11/10/2018     19:45:00\n",
       "...             ...          ...          ...          ...          ...\n",
       "7825494   104527061   05/01/2008     18:55:00   05/01/2018     19:00:00\n",
       "7825495   284201488   05/18/2018     14:50:00   05/18/2018     14:55:00\n",
       "7825496   808565901   11/19/2018     02:25:00   11/19/2018     02:30:00\n",
       "7825497   649441648   02/03/2018     10:02:00   02/03/2018     12:15:00\n",
       "7825498   803166404   01/05/2018     14:40:00   01/05/2018     16:00:00\n",
       "\n",
       "[7825499 rows x 5 columns]"
      ]
     },
     "execution_count": 21,
     "metadata": {},
     "output_type": "execute_result"
    }
   ],
   "source": [
    "data.iloc[:,:5]"
   ]
  },
  {
   "cell_type": "code",
   "execution_count": 64,
   "metadata": {},
   "outputs": [],
   "source": [
    "data['OCC'] = data['CMPLNT_FR_DT'].astype(str) + \" \" +data['CMPLNT_FR_TM']\n",
    "data['OCC_END'] = data['CMPLNT_TO_DT'].astype(str) + \" \" +data['CMPLNT_TO_TM']"
   ]
  },
  {
   "cell_type": "code",
   "execution_count": 61,
   "metadata": {},
   "outputs": [
    {
     "data": {
      "text/plain": [
       "0          03/29/2018 20:30:00\n",
       "1          02/06/2018 23:15:00\n",
       "2          11/21/2018 00:15:00\n",
       "3          06/09/2018 21:42:00\n",
       "4          11/10/2018 19:40:00\n",
       "                  ...         \n",
       "7825494    05/01/2008 18:55:00\n",
       "7825495    05/18/2018 14:50:00\n",
       "7825496    11/19/2018 02:25:00\n",
       "7825497    02/03/2018 10:02:00\n",
       "7825498    01/05/2018 14:40:00\n",
       "Name: OCC, Length: 7825499, dtype: object"
      ]
     },
     "execution_count": 61,
     "metadata": {},
     "output_type": "execute_result"
    }
   ],
   "source": [
    "data['OCC']"
   ]
  },
  {
   "cell_type": "code",
   "execution_count": 65,
   "metadata": {},
   "outputs": [
    {
     "data": {
      "text/plain": [
       "0                          NaN\n",
       "1                          NaN\n",
       "2          11/21/2018 00:20:00\n",
       "3          06/09/2018 21:43:00\n",
       "4          11/10/2018 19:45:00\n",
       "                  ...         \n",
       "7825494    05/01/2018 19:00:00\n",
       "7825495    05/18/2018 14:55:00\n",
       "7825496    11/19/2018 02:30:00\n",
       "7825497    02/03/2018 12:15:00\n",
       "7825498    01/05/2018 16:00:00\n",
       "Name: OCC_END, Length: 7825499, dtype: object"
      ]
     },
     "execution_count": 65,
     "metadata": {},
     "output_type": "execute_result"
    }
   ],
   "source": [
    "data['OCC_END']"
   ]
  },
  {
   "cell_type": "code",
   "execution_count": 66,
   "metadata": {},
   "outputs": [],
   "source": [
    "data['OCC'] = pandas.to_datetime(data['OCC'], errors = 'coerce')\n",
    "data['OCC_END'] = pandas.to_datetime(data['OCC_END'], errors = 'coerce')"
   ]
  },
  {
   "cell_type": "code",
   "execution_count": 69,
   "metadata": {},
   "outputs": [
    {
     "data": {
      "text/plain": [
       "0         2018-03-29 20:30:00\n",
       "1         2018-02-06 23:15:00\n",
       "2         2018-11-21 00:15:00\n",
       "3         2018-06-09 21:42:00\n",
       "4         2018-11-10 19:40:00\n",
       "                  ...        \n",
       "7825494   2008-05-01 18:55:00\n",
       "7825495   2018-05-18 14:50:00\n",
       "7825496   2018-11-19 02:25:00\n",
       "7825497   2018-02-03 10:02:00\n",
       "7825498   2018-01-05 14:40:00\n",
       "Name: OCC, Length: 7825499, dtype: datetime64[ns]"
      ]
     },
     "execution_count": 69,
     "metadata": {},
     "output_type": "execute_result"
    }
   ],
   "source": [
    "data['OCC']"
   ]
  },
  {
   "cell_type": "code",
   "execution_count": 70,
   "metadata": {},
   "outputs": [
    {
     "data": {
      "text/plain": [
       "0                         NaT\n",
       "1                         NaT\n",
       "2         2018-11-21 00:20:00\n",
       "3         2018-06-09 21:43:00\n",
       "4         2018-11-10 19:45:00\n",
       "                  ...        \n",
       "7825494   2018-05-01 19:00:00\n",
       "7825495   2018-05-18 14:55:00\n",
       "7825496   2018-11-19 02:30:00\n",
       "7825497   2018-02-03 12:15:00\n",
       "7825498   2018-01-05 16:00:00\n",
       "Name: OCC_END, Length: 7825499, dtype: datetime64[ns]"
      ]
     },
     "execution_count": 70,
     "metadata": {},
     "output_type": "execute_result"
    }
   ],
   "source": [
    "data['OCC_END']"
   ]
  },
  {
   "cell_type": "code",
   "execution_count": null,
   "metadata": {},
   "outputs": [],
   "source": []
  }
 ],
 "metadata": {
  "kernelspec": {
   "display_name": "Python 3",
   "language": "python",
   "name": "python3"
  },
  "language_info": {
   "codemirror_mode": {
    "name": "ipython",
    "version": 3
   },
   "file_extension": ".py",
   "mimetype": "text/x-python",
   "name": "python",
   "nbconvert_exporter": "python",
   "pygments_lexer": "ipython3",
   "version": "3.8.3"
  }
 },
 "nbformat": 4,
 "nbformat_minor": 1
}
