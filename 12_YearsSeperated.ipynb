{
 "cells": [
  {
   "cell_type": "markdown",
   "source": [
    "# Develop the crime data\n",
    "\n",
    "This notebook will create the base grid used to train and test the crime prediction model. \n",
    "The grid will be created on a 150m x 150m grid, within the bounds of the police precincts polygon.\n",
    "\n",
    "For each grid cell, the number of crimes will be calculated, disaggregated by the characteristics of the victim. The crimes affecting the following groups will be counted:\n",
    "- All Male and Female victims\n",
    "- Male victims\n",
    "- Female victims"
   ],
   "metadata": {
    "collapsed": false
   }
  },
  {
   "cell_type": "markdown",
   "source": [
    "## Import the required libraries"
   ],
   "metadata": {
    "collapsed": false
   }
  },
  {
   "cell_type": "code",
   "execution_count": 39,
   "outputs": [],
   "source": [
    "import geopandas as gpd\n",
    "import altair as alt\n",
    "import pandas as pd\n",
    "import numpy as np"
   ],
   "metadata": {
    "collapsed": false
   }
  },
  {
   "cell_type": "markdown",
   "source": [
    "## Import the police precincts shapefile\n",
    "Only points within the jurisdiction of the precincts will be considered in the analysis."
   ],
   "metadata": {
    "collapsed": false
   }
  },
  {
   "cell_type": "code",
   "execution_count": 40,
   "metadata": {},
   "outputs": [],
   "source": [
    "precint_footprint = gpd.read_file('..//data//Police Precincts.geojson')"
   ]
  },
  {
   "cell_type": "markdown",
   "metadata": {
    "collapsed": false
   },
   "source": [
    "## Create the base grid for analysis"
   ]
  },
  {
   "cell_type": "code",
   "execution_count": 41,
   "metadata": {},
   "outputs": [],
   "source": [
    "# Create a grid of points across the precincts to use as the center of the crime clusters\n",
    "# The size of the grid is n x n, where n is the number of points in each direction\n",
    "from shapely.geometry import Point, Polygon\n",
    "from rtree import index\n",
    "# get the bounds of the precincts\n",
    "min_x, min_y, max_x, max_y = precint_footprint.total_bounds\n",
    "\n",
    "idx = index.Index()\n",
    "for i, row in precint_footprint.iterrows():\n",
    "    idx.insert(i, row.geometry.bounds)\n",
    "\n",
    "grid_size = 100  # You can adjust this value\n",
    "x_points = np.linspace(min_x, max_x, grid_size)\n",
    "y_points = np.linspace(min_y, max_y, grid_size)\n",
    "\n",
    "# Round the points to 4 decimal places\n",
    "x_points = np.around(x_points, 4)\n",
    "y_points = np.around(y_points, 4)\n",
    "\n",
    "grid = [Point(x, y) for x in x_points for y in y_points]\n",
    "\n",
    "# drop the points that are not within the precincts\n",
    "def is_point_inside_precincts(point, precincts_gdf, idx):\n",
    "    for i in idx.intersection(point.bounds):\n",
    "        if point.within(precincts_gdf.iloc[i].geometry):\n",
    "            return True\n",
    "    return False\n",
    "\n",
    "filtered_grid = [point for point in grid if is_point_inside_precincts(point, precint_footprint, idx)]\n",
    "filtered_grid_df = pd.DataFrame([(point.x, point.y) for point in filtered_grid], columns=['Longitude', 'Latitude'])\n",
    "\n",
    "del grid \n",
    "del filtered_grid"
   ]
  },
  {
   "cell_type": "markdown",
   "source": [
    "## Generate the basic spatial-temporal matrix\n",
    "For each point, crime probabbility will be analysed for each hour of the day and each day of the week."
   ],
   "metadata": {
    "collapsed": false
   }
  },
  {
   "cell_type": "code",
   "execution_count": 42,
   "metadata": {
    "collapsed": false
   },
   "outputs": [],
   "source": [
    "import itertools\n",
    "\n",
    "def point_hour_day_combinations(points, hours, days_of_week):\n",
    "    for point, hour, day in itertools.product(points, hours, days_of_week):\n",
    "        yield point.x, point.y, hour, day\n",
    "\n",
    "# Convert filtered grid points to a list of Point objects\n",
    "points = [Point(lon, lat) for lon, lat in filtered_grid_df[['Longitude', 'Latitude']].values]\n",
    "\n",
    "# Define hours and days_of_week\n",
    "hours = range(24)\n",
    "days_of_week = range(7)"
   ]
  },
  {
   "cell_type": "markdown",
   "source": [
    "## Import the crime data"
   ],
   "metadata": {
    "collapsed": false
   }
  },
  {
   "cell_type": "code",
   "execution_count": 43,
   "outputs": [],
   "source": [
    "with open('..//data.pickle', 'rb') as f:\n",
    "    crime_data = pd.read_pickle(f)"
   ],
   "metadata": {
    "collapsed": false
   }
  },
  {
   "cell_type": "code",
   "execution_count": 44,
   "metadata": {
    "collapsed": false
   },
   "outputs": [
    {
     "data": {
      "text/plain": "    CMPLNT_NUM CMPLNT_FR_DT CMPLNT_FR_TM CMPLNT_TO_DT CMPLNT_TO_TM   \n0    506547392   03/29/2018     20:30:00         <NA>          NaN  \\\n3    280364018   06/09/2018     21:42:00   06/09/2018     21:43:00   \n8    570490441   01/16/2018     14:30:00   01/16/2018     15:00:00   \n9    377132404   08/04/2018     22:15:00         <NA>          NaN   \n10   504303130   09/26/2018     18:20:00   09/26/2018     18:24:00   \n\n   ADDR_PCT_CD     RPT_DT KY_CD                       OFNS_DESC  PD_CD  ...   \n0         32.0 2018-03-30   351  CRIMINAL MISCHIEF & RELATED OF  254.0  ...  \\\n3         10.0 2018-06-10   361   OFF. AGNST PUB ORD SENSBLTY &  639.0  ...   \n8         69.0 2018-01-16   344    ASSAULT 3 & RELATED OFFENSES  101.0  ...   \n9         44.0 2018-08-04   344    ASSAULT 3 & RELATED OFFENSES  101.0  ...   \n10        28.0 2018-09-26   106                  FELONY ASSAULT  109.0  ...   \n\n     Latitude  Longitude                        Lat_Lon   \n0   40.810877 -73.941064  (40.810877241, -73.941064151)  \\\n3   40.759310 -73.994706  (40.759310399, -73.994706072)   \n8   40.635516 -73.913278  (40.635516265, -73.913277993)   \n9   40.826170 -73.916831  (40.826169612, -73.916830709)   \n10  40.803905 -73.952037  (40.803905237, -73.952036608)   \n\n                PATROL_BORO STATION_NAME VIC_AGE_GROUP        VIC_RACE   \n0     PATROL BORO MAN NORTH          NaN           NaN           WHITE  \\\n3     PATROL BORO MAN SOUTH          NaN         25-44  WHITE HISPANIC   \n8   PATROL BORO BKLYN SOUTH          NaN           NaN           BLACK   \n9         PATROL BORO BRONX          NaN         45-64  WHITE HISPANIC   \n10    PATROL BORO MAN NORTH          NaN         25-44           BLACK   \n\n   VIC_SEX        OCC     OCC_END  \n0        F 2018-03-29        <NA>  \n3        F 2018-06-09  06/09/2018  \n8        M 2018-01-16  01/16/2018  \n9        F 2018-08-04        <NA>  \n10       M 2018-09-26  09/26/2018  \n\n[5 rows x 37 columns]",
      "text/html": "<div>\n<style scoped>\n    .dataframe tbody tr th:only-of-type {\n        vertical-align: middle;\n    }\n\n    .dataframe tbody tr th {\n        vertical-align: top;\n    }\n\n    .dataframe thead th {\n        text-align: right;\n    }\n</style>\n<table border=\"1\" class=\"dataframe\">\n  <thead>\n    <tr style=\"text-align: right;\">\n      <th></th>\n      <th>CMPLNT_NUM</th>\n      <th>CMPLNT_FR_DT</th>\n      <th>CMPLNT_FR_TM</th>\n      <th>CMPLNT_TO_DT</th>\n      <th>CMPLNT_TO_TM</th>\n      <th>ADDR_PCT_CD</th>\n      <th>RPT_DT</th>\n      <th>KY_CD</th>\n      <th>OFNS_DESC</th>\n      <th>PD_CD</th>\n      <th>...</th>\n      <th>Latitude</th>\n      <th>Longitude</th>\n      <th>Lat_Lon</th>\n      <th>PATROL_BORO</th>\n      <th>STATION_NAME</th>\n      <th>VIC_AGE_GROUP</th>\n      <th>VIC_RACE</th>\n      <th>VIC_SEX</th>\n      <th>OCC</th>\n      <th>OCC_END</th>\n    </tr>\n  </thead>\n  <tbody>\n    <tr>\n      <th>0</th>\n      <td>506547392</td>\n      <td>03/29/2018</td>\n      <td>20:30:00</td>\n      <td>&lt;NA&gt;</td>\n      <td>NaN</td>\n      <td>32.0</td>\n      <td>2018-03-30</td>\n      <td>351</td>\n      <td>CRIMINAL MISCHIEF &amp; RELATED OF</td>\n      <td>254.0</td>\n      <td>...</td>\n      <td>40.810877</td>\n      <td>-73.941064</td>\n      <td>(40.810877241, -73.941064151)</td>\n      <td>PATROL BORO MAN NORTH</td>\n      <td>NaN</td>\n      <td>NaN</td>\n      <td>WHITE</td>\n      <td>F</td>\n      <td>2018-03-29</td>\n      <td>&lt;NA&gt;</td>\n    </tr>\n    <tr>\n      <th>3</th>\n      <td>280364018</td>\n      <td>06/09/2018</td>\n      <td>21:42:00</td>\n      <td>06/09/2018</td>\n      <td>21:43:00</td>\n      <td>10.0</td>\n      <td>2018-06-10</td>\n      <td>361</td>\n      <td>OFF. AGNST PUB ORD SENSBLTY &amp;</td>\n      <td>639.0</td>\n      <td>...</td>\n      <td>40.759310</td>\n      <td>-73.994706</td>\n      <td>(40.759310399, -73.994706072)</td>\n      <td>PATROL BORO MAN SOUTH</td>\n      <td>NaN</td>\n      <td>25-44</td>\n      <td>WHITE HISPANIC</td>\n      <td>F</td>\n      <td>2018-06-09</td>\n      <td>06/09/2018</td>\n    </tr>\n    <tr>\n      <th>8</th>\n      <td>570490441</td>\n      <td>01/16/2018</td>\n      <td>14:30:00</td>\n      <td>01/16/2018</td>\n      <td>15:00:00</td>\n      <td>69.0</td>\n      <td>2018-01-16</td>\n      <td>344</td>\n      <td>ASSAULT 3 &amp; RELATED OFFENSES</td>\n      <td>101.0</td>\n      <td>...</td>\n      <td>40.635516</td>\n      <td>-73.913278</td>\n      <td>(40.635516265, -73.913277993)</td>\n      <td>PATROL BORO BKLYN SOUTH</td>\n      <td>NaN</td>\n      <td>NaN</td>\n      <td>BLACK</td>\n      <td>M</td>\n      <td>2018-01-16</td>\n      <td>01/16/2018</td>\n    </tr>\n    <tr>\n      <th>9</th>\n      <td>377132404</td>\n      <td>08/04/2018</td>\n      <td>22:15:00</td>\n      <td>&lt;NA&gt;</td>\n      <td>NaN</td>\n      <td>44.0</td>\n      <td>2018-08-04</td>\n      <td>344</td>\n      <td>ASSAULT 3 &amp; RELATED OFFENSES</td>\n      <td>101.0</td>\n      <td>...</td>\n      <td>40.826170</td>\n      <td>-73.916831</td>\n      <td>(40.826169612, -73.916830709)</td>\n      <td>PATROL BORO BRONX</td>\n      <td>NaN</td>\n      <td>45-64</td>\n      <td>WHITE HISPANIC</td>\n      <td>F</td>\n      <td>2018-08-04</td>\n      <td>&lt;NA&gt;</td>\n    </tr>\n    <tr>\n      <th>10</th>\n      <td>504303130</td>\n      <td>09/26/2018</td>\n      <td>18:20:00</td>\n      <td>09/26/2018</td>\n      <td>18:24:00</td>\n      <td>28.0</td>\n      <td>2018-09-26</td>\n      <td>106</td>\n      <td>FELONY ASSAULT</td>\n      <td>109.0</td>\n      <td>...</td>\n      <td>40.803905</td>\n      <td>-73.952037</td>\n      <td>(40.803905237, -73.952036608)</td>\n      <td>PATROL BORO MAN NORTH</td>\n      <td>NaN</td>\n      <td>25-44</td>\n      <td>BLACK</td>\n      <td>M</td>\n      <td>2018-09-26</td>\n      <td>09/26/2018</td>\n    </tr>\n  </tbody>\n</table>\n<p>5 rows × 37 columns</p>\n</div>"
     },
     "execution_count": 44,
     "metadata": {},
     "output_type": "execute_result"
    }
   ],
   "source": [
    "# Only keep the M and F sex values\n",
    "sexes = ['M', 'F']\n",
    "\n",
    "crime_data = crime_data.loc[crime_data['VIC_SEX'].isin(sexes)]\n",
    "# Re calculate the categories for the Sex column\n",
    "crime_data['VIC_SEX'] = crime_data['VIC_SEX'].cat.remove_unused_categories()\n",
    "\n",
    "del sexes\n",
    "crime_data.head(5)"
   ]
  },
  {
   "cell_type": "code",
   "execution_count": 45,
   "metadata": {
    "collapsed": false
   },
   "outputs": [],
   "source": [
    "# filter crime_data columns to only include the columns we need\n",
    "crime_data = crime_data[['CMPLNT_FR_DT', 'CMPLNT_FR_TM', 'Longitude','Latitude', 'VIC_SEX','VIC_AGE_GROUP']]\n",
    "crime_data.head(5)\n",
    "\n",
    "# get the day of the week and the hour of the day from the date and time columns\n",
    "crime_data['CMPLNT_FR_DT'] = pd.to_datetime(crime_data['CMPLNT_FR_DT'], format='%m/%d/%Y')\n",
    "crime_data['CMPLNT_FR_TM'] = pd.to_datetime(crime_data['CMPLNT_FR_TM'], format='%H:%M:%S')\n",
    "crime_data['day_of_week'] = crime_data['CMPLNT_FR_DT'].dt.dayofweek\n",
    "crime_data['hour'] = crime_data['CMPLNT_FR_TM'].dt.hour\n",
    "crime_data['year'] = crime_data['CMPLNT_FR_DT'].dt.year\n",
    "# convert the year to an integer\n",
    "crime_data['year'] = crime_data['year'].astype(int)"
   ]
  },
  {
   "cell_type": "code",
   "execution_count": 46,
   "metadata": {
    "collapsed": false
   },
   "outputs": [],
   "source": [
    "def nearest_grid_point(coord, grid_points):\n",
    "    nearest_index = np.argmin(np.abs(coord - grid_points))\n",
    "    return grid_points[nearest_index]\n",
    "\n",
    "# Find the nearest grid point for the longitude and latitude coordinates using the defined function\n",
    "crime_data['Longitude'] = crime_data['Longitude'].apply(nearest_grid_point, grid_points=x_points)\n",
    "crime_data['Latitude'] = crime_data['Latitude'].apply(nearest_grid_point, grid_points=y_points)\n",
    "\n",
    "\n",
    "# crime_counts = (\n",
    "#     crime_data.groupby(['Longitude', 'Latitude', 'day_of_week', 'hour', 'year', 'VIC_SEX'])\n",
    "#     .size()\n",
    "#     .reset_index(name='count')\n",
    "# )"
   ]
  },
  {
   "cell_type": "code",
   "execution_count": 47,
   "outputs": [],
   "source": [
    "crime_datasets = dict()\n",
    "\n",
    "crime_datasets['crime_counts_rest'] = (\n",
    "    crime_data.loc[crime_data['year'] == 2021]\n",
    "    .groupby(['Longitude', 'Latitude', 'day_of_week', 'hour', 'VIC_SEX'])\n",
    "    .size()\n",
    "    .reset_index(name='count')\n",
    "    )\n",
    "\n",
    "crime_datasets['crime_counts_2021'] = (\n",
    "    crime_data.loc[crime_data['year'] != 2021]\n",
    "    .groupby(['Longitude', 'Latitude', 'day_of_week', 'hour', 'VIC_SEX'])\n",
    "    .size()\n",
    "    .reset_index(name='count')\n",
    ")\n",
    "\n",
    "# add the data frames to a list\n",
    "\n",
    "# remove the year column from the data frames\n",
    "# for crime_counts in crime_datasets.values():\n",
    "#     del crime_counts['year']"
   ],
   "metadata": {
    "collapsed": false
   }
  },
  {
   "cell_type": "markdown",
   "metadata": {
    "collapsed": false
   },
   "source": []
  },
  {
   "cell_type": "code",
   "execution_count": 48,
   "metadata": {
    "collapsed": false
   },
   "outputs": [],
   "source": [
    "for key in crime_datasets.keys():\n",
    "    crime_table = crime_datasets[key]\n",
    "    crime_datasets[key] = pd.pivot_table(crime_table,\n",
    "                                         index = ['Longitude', 'Latitude', 'day_of_week', 'hour'],\n",
    "                                         values='count',\n",
    "                                         columns=['VIC_SEX'],\n",
    "                                         aggfunc= np.sum,\n",
    "                                         fill_value=0)\n",
    "    # convert the index to columns and reset the index\n",
    "    crime_datasets[key].reset_index(inplace=True)"
   ]
  },
  {
   "cell_type": "markdown",
   "source": [
    "## Trees"
   ],
   "metadata": {
    "collapsed": false
   }
  },
  {
   "cell_type": "code",
   "execution_count": 49,
   "metadata": {
    "collapsed": false
   },
   "outputs": [],
   "source": [
    "# Count the trees close to each grid point\n",
    "rows = None\n",
    "\n",
    "trees = gpd.read_file('../data/2015 Street Tree Census - Tree Data.geojson', rows=rows)\n",
    "# trees = trees.to_crs(epsg=4326)"
   ]
  },
  {
   "cell_type": "code",
   "execution_count": 50,
   "metadata": {
    "collapsed": false
   },
   "outputs": [],
   "source": [
    "trees['longitude'] = trees['longitude'].astype(float)\n",
    "trees['latitude'] = trees['latitude'].astype(float)\n",
    "\n",
    "trees['Longitude'] = trees['longitude'].apply(nearest_grid_point, grid_points=x_points)\n",
    "trees['Latitude'] = trees['latitude'].apply(nearest_grid_point, grid_points=y_points)"
   ]
  },
  {
   "cell_type": "code",
   "execution_count": 51,
   "metadata": {
    "collapsed": false
   },
   "outputs": [
    {
     "data": {
      "text/plain": "    nta health zipcode   latitude            nta_name     state trnk_wire   \n0  QN17   Fair   11375  40.723092        Forest Hills  New York        No  \\\n1  QN49   Fair   11357  40.794111          Whitestone  New York        No   \n2  BK90   Good   11211  40.717581   East Williamsburg  New York        No   \n3  BK90   Good   11211  40.713537   East Williamsburg  New York        No   \n4  BK37   Good   11215  40.666778  Park Slope-Gowanus  New York        No   \n\n            y_sp brnch_othe root_grate  ... root_other  created_at borocode   \n0  202756.768749         No         No  ...         No  08/27/2015        4  \\\n1  228644.837379         No         No  ...         No  09/03/2015        4   \n2  200716.891267         No         No  ...         No  09/05/2015        3   \n3  199244.253136         No         No  ...         No  09/05/2015        3   \n4  182202.425999         No         No  ...         No  08/30/2015        3   \n\n  block_id trnk_light tree_dbh root_stone                    geometry   \n0   348711         No        3         No  POINT (-73.84422 40.72309)  \\\n1   315986         No       21        Yes  POINT (-73.81868 40.79411)   \n2   218365         No        3         No  POINT (-73.93661 40.71758)   \n3   217969         No       10        Yes  POINT (-73.93446 40.71354)   \n4   223043         No       21        Yes  POINT (-73.97598 40.66678)   \n\n  Longitude Latitude  \n0  -73.8459  40.7249  \n1  -73.8179  40.7927  \n2  -73.9357  40.7164  \n3  -73.9357  40.7122  \n4  -73.9750  40.6656  \n\n[5 rows x 44 columns]",
      "text/html": "<div>\n<style scoped>\n    .dataframe tbody tr th:only-of-type {\n        vertical-align: middle;\n    }\n\n    .dataframe tbody tr th {\n        vertical-align: top;\n    }\n\n    .dataframe thead th {\n        text-align: right;\n    }\n</style>\n<table border=\"1\" class=\"dataframe\">\n  <thead>\n    <tr style=\"text-align: right;\">\n      <th></th>\n      <th>nta</th>\n      <th>health</th>\n      <th>zipcode</th>\n      <th>latitude</th>\n      <th>nta_name</th>\n      <th>state</th>\n      <th>trnk_wire</th>\n      <th>y_sp</th>\n      <th>brnch_othe</th>\n      <th>root_grate</th>\n      <th>...</th>\n      <th>root_other</th>\n      <th>created_at</th>\n      <th>borocode</th>\n      <th>block_id</th>\n      <th>trnk_light</th>\n      <th>tree_dbh</th>\n      <th>root_stone</th>\n      <th>geometry</th>\n      <th>Longitude</th>\n      <th>Latitude</th>\n    </tr>\n  </thead>\n  <tbody>\n    <tr>\n      <th>0</th>\n      <td>QN17</td>\n      <td>Fair</td>\n      <td>11375</td>\n      <td>40.723092</td>\n      <td>Forest Hills</td>\n      <td>New York</td>\n      <td>No</td>\n      <td>202756.768749</td>\n      <td>No</td>\n      <td>No</td>\n      <td>...</td>\n      <td>No</td>\n      <td>08/27/2015</td>\n      <td>4</td>\n      <td>348711</td>\n      <td>No</td>\n      <td>3</td>\n      <td>No</td>\n      <td>POINT (-73.84422 40.72309)</td>\n      <td>-73.8459</td>\n      <td>40.7249</td>\n    </tr>\n    <tr>\n      <th>1</th>\n      <td>QN49</td>\n      <td>Fair</td>\n      <td>11357</td>\n      <td>40.794111</td>\n      <td>Whitestone</td>\n      <td>New York</td>\n      <td>No</td>\n      <td>228644.837379</td>\n      <td>No</td>\n      <td>No</td>\n      <td>...</td>\n      <td>No</td>\n      <td>09/03/2015</td>\n      <td>4</td>\n      <td>315986</td>\n      <td>No</td>\n      <td>21</td>\n      <td>Yes</td>\n      <td>POINT (-73.81868 40.79411)</td>\n      <td>-73.8179</td>\n      <td>40.7927</td>\n    </tr>\n    <tr>\n      <th>2</th>\n      <td>BK90</td>\n      <td>Good</td>\n      <td>11211</td>\n      <td>40.717581</td>\n      <td>East Williamsburg</td>\n      <td>New York</td>\n      <td>No</td>\n      <td>200716.891267</td>\n      <td>No</td>\n      <td>No</td>\n      <td>...</td>\n      <td>No</td>\n      <td>09/05/2015</td>\n      <td>3</td>\n      <td>218365</td>\n      <td>No</td>\n      <td>3</td>\n      <td>No</td>\n      <td>POINT (-73.93661 40.71758)</td>\n      <td>-73.9357</td>\n      <td>40.7164</td>\n    </tr>\n    <tr>\n      <th>3</th>\n      <td>BK90</td>\n      <td>Good</td>\n      <td>11211</td>\n      <td>40.713537</td>\n      <td>East Williamsburg</td>\n      <td>New York</td>\n      <td>No</td>\n      <td>199244.253136</td>\n      <td>No</td>\n      <td>No</td>\n      <td>...</td>\n      <td>No</td>\n      <td>09/05/2015</td>\n      <td>3</td>\n      <td>217969</td>\n      <td>No</td>\n      <td>10</td>\n      <td>Yes</td>\n      <td>POINT (-73.93446 40.71354)</td>\n      <td>-73.9357</td>\n      <td>40.7122</td>\n    </tr>\n    <tr>\n      <th>4</th>\n      <td>BK37</td>\n      <td>Good</td>\n      <td>11215</td>\n      <td>40.666778</td>\n      <td>Park Slope-Gowanus</td>\n      <td>New York</td>\n      <td>No</td>\n      <td>182202.425999</td>\n      <td>No</td>\n      <td>No</td>\n      <td>...</td>\n      <td>No</td>\n      <td>08/30/2015</td>\n      <td>3</td>\n      <td>223043</td>\n      <td>No</td>\n      <td>21</td>\n      <td>Yes</td>\n      <td>POINT (-73.97598 40.66678)</td>\n      <td>-73.9750</td>\n      <td>40.6656</td>\n    </tr>\n  </tbody>\n</table>\n<p>5 rows × 44 columns</p>\n</div>"
     },
     "execution_count": 51,
     "metadata": {},
     "output_type": "execute_result"
    }
   ],
   "source": [
    "trees.head(5)"
   ]
  },
  {
   "cell_type": "code",
   "execution_count": 52,
   "metadata": {
    "collapsed": false
   },
   "outputs": [],
   "source": [
    "tree_counts = (\n",
    "    trees.groupby(['Longitude', 'Latitude','health'])\n",
    "    .size()\n",
    "    .reset_index(name='tree_count')\n",
    ")"
   ]
  },
  {
   "cell_type": "code",
   "execution_count": 53,
   "metadata": {
    "collapsed": false
   },
   "outputs": [],
   "source": [
    "tree_counts.head()\n",
    "\n",
    "tree_counts_pivoted = pd.pivot_table(tree_counts, values='tree_count', index=['Longitude', 'Latitude'], columns=['health'], fill_value=0)\n",
    "tree_counts_pivoted = tree_counts_pivoted.reset_index().rename(columns={'Good': 'good_tree_count', 'Fair': 'fair_tree_count', 'Poor': 'poor_tree_count'})\n",
    "\n",
    "# Remove index name\n",
    "tree_counts_pivoted.index.name = None\n"
   ]
  },
  {
   "cell_type": "code",
   "execution_count": 54,
   "metadata": {},
   "outputs": [],
   "source": [
    "all_combinations = np.array(list(point_hour_day_combinations(points, hours, days_of_week)))"
   ]
  },
  {
   "cell_type": "code",
   "execution_count": 55,
   "metadata": {},
   "outputs": [],
   "source": [
    "# Use the reindex method to index the matches directly\n",
    "for key in crime_datasets.keys():\n",
    "    crime_counts = crime_datasets[key]\n",
    "    crime_counts.set_index(['Longitude', 'Latitude', 'hour', 'day_of_week'], inplace=True)\n",
    "    crime_counts = crime_counts.reindex(\n",
    "        pd.MultiIndex.from_arrays(all_combinations.T,\n",
    "        names=crime_counts.index.names),\n",
    "        fill_value=0\n",
    "        )\n",
    "    # Reset the index of the matched_data DataFrame\n",
    "    crime_counts.reset_index(inplace=True)\n",
    "    # Add the tree counts to the matched_df DataFrame\n",
    "    crime_counts = crime_counts.merge(tree_counts_pivoted, on=['Longitude', 'Latitude'], how='left').fillna(0)\n",
    "    crime_counts[['hour', 'day_of_week']] = crime_counts[['hour', 'day_of_week']].astype(int)\n",
    "    #Convert the tree count columns to int type\n",
    "    crime_counts[['good_tree_count', 'fair_tree_count', 'poor_tree_count']] = crime_counts[['good_tree_count', 'fair_tree_count', 'poor_tree_count']].astype(int)\n",
    "    # convert the F and M columns to int type\n",
    "    crime_counts[['F', 'M']] = crime_counts[['F', 'M']].astype(int)\n",
    "    crime_datasets[key] = crime_counts"
   ]
  },
  {
   "cell_type": "code",
   "execution_count": 38,
   "outputs": [
    {
     "name": "stdout",
     "output_type": "stream",
     "text": [
      "   Longitude  Latitude  hour  day_of_week  F  M  fair_tree_count   \n",
      "0     -74.25   40.5004     0            0  0  0               20  \\\n",
      "1     -74.25   40.5004     0            1  0  0               20   \n",
      "2     -74.25   40.5004     0            2  0  0               20   \n",
      "3     -74.25   40.5004     0            3  0  0               20   \n",
      "4     -74.25   40.5004     0            4  0  0               20   \n",
      "\n",
      "   good_tree_count  poor_tree_count  \n",
      "0              154                0  \n",
      "1              154                0  \n",
      "2              154                0  \n",
      "3              154                0  \n",
      "4              154                0  \n",
      "   Longitude  Latitude  hour  day_of_week  F  M  fair_tree_count   \n",
      "0     -74.25   40.5004     0            0  0  1               20  \\\n",
      "1     -74.25   40.5004     0            1  0  0               20   \n",
      "2     -74.25   40.5004     0            2  0  1               20   \n",
      "3     -74.25   40.5004     0            3  1  0               20   \n",
      "4     -74.25   40.5004     0            4  0  0               20   \n",
      "\n",
      "   good_tree_count  poor_tree_count  \n",
      "0              154                0  \n",
      "1              154                0  \n",
      "2              154                0  \n",
      "3              154                0  \n",
      "4              154                0  \n"
     ]
    }
   ],
   "source": [
    "for key in crime_datasets.keys():\n",
    "    print(crime_datasets[key].head(5))"
   ],
   "metadata": {
    "collapsed": false
   }
  },
  {
   "cell_type": "code",
   "execution_count": 32,
   "outputs": [
    {
     "name": "stdout",
     "output_type": "stream",
     "text": [
      "../data/crime_counts_rest.parquet\n",
      "../data/crime_counts_2021.parquet\n"
     ]
    }
   ],
   "source": [
    "for key in crime_datasets.keys():\n",
    "    print(f'../data/{key}.parquet')"
   ],
   "metadata": {
    "collapsed": false
   }
  },
  {
   "cell_type": "markdown",
   "source": [
    "## Final Export"
   ],
   "metadata": {
    "collapsed": false
   }
  },
  {
   "cell_type": "code",
   "execution_count": 56,
   "metadata": {},
   "outputs": [],
   "source": [
    "# Save the matched_data DataFrame as a parquet file\n",
    "for key in crime_datasets.keys():\n",
    "    crime_datasets[key].to_parquet(f'../data/{key}.parquet', index=False)"
   ]
  },
  {
   "cell_type": "code",
   "execution_count": 78,
   "metadata": {
    "collapsed": false
   },
   "outputs": [],
   "source": []
  }
 ],
 "metadata": {
  "kernelspec": {
   "display_name": "geo_env",
   "language": "python",
   "name": "python3"
  },
  "language_info": {
   "codemirror_mode": {
    "name": "ipython",
    "version": 3
   },
   "file_extension": ".py",
   "mimetype": "text/x-python",
   "name": "python",
   "nbconvert_exporter": "python",
   "pygments_lexer": "ipython3",
   "version": "3.10.10"
  },
  "orig_nbformat": 4
 },
 "nbformat": 4,
 "nbformat_minor": 2
}
