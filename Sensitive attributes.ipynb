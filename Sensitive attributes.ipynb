{
 "cells": [
  {
   "cell_type": "markdown",
   "metadata": {
    "id": "Z5rzcaoPIU0r"
   },
   "source": [
    "![tud_logo.jpg](attachment:tud_logo.jpg)"
   ]
  },
  {
   "cell_type": "markdown",
   "metadata": {
    "id": "S8uT-aSmIU0t"
   },
   "source": [
    "# Lab 4 - Sensitive Attributes and Data Bias\n",
    "Week 4 - Q3, 22/23 <br>\n",
    "SEN163B: Responsible Data Analytics<br>\n",
    " "
   ]
  },
  {
   "cell_type": "markdown",
   "metadata": {
    "id": "M1UeTKVmIU0t"
   },
   "source": [
    "By <b> Nadia Metoui* </b> <br>\n",
    "TA <b> Anagha Magadi Rajeev</b> <br> \n",
    "Faculty of Technology, Policy, and Management (TPM)<br>\n",
    "\n",
    "<small>*Acknowledgement: Part of this lab is loosely based on the code developed by <i><b>Agathe Balayn</b></i> and <i><b>Seda Gürses</b></i>"
   ]
  },
  {
   "cell_type": "markdown",
   "metadata": {
    "id": "sKPwVwVyIU0t"
   },
   "source": [
    "***Learning Objectives***<br>\n",
    "At the end of this lab, you will be able to \n",
    "\n",
    "- Use data analytics tools to identify Sensitive attributes and proxies\n",
    "- Use data analytics tools to identify Representation Bias\n",
    "- Use data analytics tools to identify Historical Bias \n",
    "- Understanding, Analyse and Discuss Historical, Representation and Measurement Biases"
   ]
  },
  {
   "cell_type": "markdown",
   "metadata": {
    "id": "yUa9W6KW3qct"
   },
   "source": [
    "***Structure***\n",
    "- Part I. Understanding the Use Case\n",
    "- Part II Protected attributes, proxies\n",
    "- Part III: Representation Disparities, Skew and Bias\n",
    "- Part IV. Discuss Measurement Bias"
   ]
  },
  {
   "cell_type": "markdown",
   "metadata": {
    "id": "Jz9ydppeIU0u"
   },
   "source": [
    "<H2> </H2>"
   ]
  },
  {
   "cell_type": "markdown",
   "metadata": {
    "id": "VuGfHB25Ltha"
   },
   "source": [
    "## Part I. Understanding the Use Case"
   ]
  },
  {
   "cell_type": "markdown",
   "metadata": {
    "id": "g6FMhDtrIU0u"
   },
   "source": [
    "<b>Use Case Description</b> In this Lab you will be exploring a use case where a Bank wants to develop an ML-based data product in the form of ADM (automate decision system) to decide whether to <b>grant</b> or <b>not to grant</b> a loan to a given applicant. To do so the Bank uses historical data containing multiple application records, characterized by information about the loan applicants (e.g., age, gender, personal situation) and information about the loan (e.g., amount, duration, purpose). Each application is labeled <i><b> good credit </b></i> if the loan had been reimbursed or <i><b>bad credit</b></i> if the loan has not been reimbursed or if there where several issues with the reimbursement.\n",
    "\n",
    "During this lab we will not concern our selves yet with developping (coding) the data analytics product itslef. \n",
    "We will rather explore the data using data analytics tools then reflect on three categories of Bias inspired by (Suresh and Guttag 2019)\n",
    "- <i>Historical Bias</i>: Case Analysis, Sensitive attributes, Data skew\n",
    "- <i>Representation Bias</i>: Case Analysis, Sensitive attributes, Distributions\n",
    "- <i>Measurement Bias</i>: Case Analysis \n",
    "\n"
   ]
  },
  {
   "cell_type": "markdown",
   "metadata": {
    "id": "x_g92GbKf02o"
   },
   "source": [
    " \n",
    "<i><b>German credit dataset</b></i> contains 1000 entries with 20 attributes (7 numerical, 13 categorical) prepared by Prof. Hofmann. We will use the version hosted in the <a href=\"https://archive.ics.uci.edu/ml/datasets/statlog+(german+credit+data)\">UCI Machine Learning Archive</a>.<br>\n",
    "\n",
    "In this dataset, each entry represents a person who took a credit from a german bank. We have no information about the date/year of the data collcetion. However, for the sake of this exercise, we will assume the data was collected in 2018.  \n",
    "\n",
    "You can download the dataset here: https://archive.ics.uci.edu/ml/machine-learning-databases/statlog/german/german.data<br>\n",
    "\n",
    "The original data is encoded in a complex way. You can find information about the dataset and its attributes here: (https://archive.ics.uci.edu/ml/machine-learning-databases/statlog/german/german.doc).<br>\n",
    "\n",
    "We also provide you with the code to preprocess the data in more comprehensive attributes and featuers. \n",
    "\n",
    "\n",
    "\n",
    "\n"
   ]
  },
  {
   "cell_type": "markdown",
   "metadata": {
    "id": "dWv8AeWyjCJm"
   },
   "source": [
    "Analysis Steps\n",
    "- Step 1: Set-up (Provided)\n",
    "- Step 2: Explore and familiarize with the dataset\n"
   ]
  },
  {
   "cell_type": "markdown",
   "metadata": {
    "id": "0UYkPwm5IU0v"
   },
   "source": [
    "### Setp 1: Set-up\n",
    "\n",
    "You first need load (usually no installation is needed) the required libraries for this part.  The main libraries are `numpy`, `pandas`, `matplotlib` and `seaborn`. We recommend using these to easily manipulate and explore the data but you are free to use any other libraries you are more familar with.\n",
    "\n",
    "We will introduce the data visualization tool "
   ]
  },
  {
   "cell_type": "markdown",
   "metadata": {
    "id": "DnqQI4-xIU0v"
   },
   "source": [
    "<div class=\"alert alert-block alert-danger\">\n",
    "<b>Note:</b> Uncomment and run the next cell if you have not previously installed the libraries.\n",
    "</div>\n"
   ]
  },
  {
   "cell_type": "markdown",
   "metadata": {
    "id": "_0k-Qw20IU0v"
   },
   "source": [
    "<b>Installing required libraries</b>"
   ]
  },
  {
   "cell_type": "code",
   "execution_count": 7,
   "metadata": {
    "colab": {
     "base_uri": "https://localhost:8080/"
    },
    "id": "p4vG8dTvIU0w",
    "outputId": "7d627d11-5b59-4b77-cbf7-35ad27792125"
   },
   "outputs": [
    {
     "name": "stdout",
     "output_type": "stream",
     "text": [
      "Requirement already satisfied: aif360 in c:\\users\\kelvi\\anaconda3\\lib\\site-packages (0.5.0)\n",
      "Requirement already satisfied: matplotlib in c:\\users\\kelvi\\anaconda3\\lib\\site-packages (from aif360) (3.5.2)\n",
      "Requirement already satisfied: numpy>=1.16 in c:\\users\\kelvi\\anaconda3\\lib\\site-packages (from aif360) (1.20.3)\n",
      "Requirement already satisfied: pandas>=0.24.0 in c:\\users\\kelvi\\anaconda3\\lib\\site-packages (from aif360) (1.4.4)\n",
      "Requirement already satisfied: scipy>=1.2.0 in c:\\users\\kelvi\\anaconda3\\lib\\site-packages (from aif360) (1.9.1)\n",
      "Requirement already satisfied: scikit-learn>=1.0 in c:\\users\\kelvi\\anaconda3\\lib\\site-packages (from aif360) (1.0.2)\n",
      "Requirement already satisfied: python-dateutil>=2.8.1 in c:\\users\\kelvi\\anaconda3\\lib\\site-packages (from pandas>=0.24.0->aif360) (2.8.2)\n",
      "Requirement already satisfied: pytz>=2020.1 in c:\\users\\kelvi\\anaconda3\\lib\\site-packages (from pandas>=0.24.0->aif360) (2022.1)\n",
      "Requirement already satisfied: joblib>=0.11 in c:\\users\\kelvi\\anaconda3\\lib\\site-packages (from scikit-learn>=1.0->aif360) (1.1.0)\n",
      "Requirement already satisfied: threadpoolctl>=2.0.0 in c:\\users\\kelvi\\anaconda3\\lib\\site-packages (from scikit-learn>=1.0->aif360) (2.2.0)\n",
      "Requirement already satisfied: cycler>=0.10 in c:\\users\\kelvi\\anaconda3\\lib\\site-packages (from matplotlib->aif360) (0.11.0)\n",
      "Requirement already satisfied: fonttools>=4.22.0 in c:\\users\\kelvi\\anaconda3\\lib\\site-packages (from matplotlib->aif360) (4.25.0)\n",
      "Requirement already satisfied: pillow>=6.2.0 in c:\\users\\kelvi\\anaconda3\\lib\\site-packages (from matplotlib->aif360) (9.2.0)\n",
      "Requirement already satisfied: kiwisolver>=1.0.1 in c:\\users\\kelvi\\anaconda3\\lib\\site-packages (from matplotlib->aif360) (1.4.2)\n",
      "Requirement already satisfied: packaging>=20.0 in c:\\users\\kelvi\\anaconda3\\lib\\site-packages (from matplotlib->aif360) (21.3)\n",
      "Requirement already satisfied: pyparsing>=2.2.1 in c:\\users\\kelvi\\anaconda3\\lib\\site-packages (from matplotlib->aif360) (3.0.9)\n",
      "Requirement already satisfied: six>=1.5 in c:\\users\\kelvi\\anaconda3\\lib\\site-packages (from python-dateutil>=2.8.1->pandas>=0.24.0->aif360) (1.16.0)\n"
     ]
    }
   ],
   "source": [
    "# If you need to install any new libraries, add the code here \n",
    "\n",
    "# install AIF 360 Toolkit\n",
    "!pip install aif360\n"
   ]
  },
  {
   "cell_type": "markdown",
   "metadata": {
    "id": "vShFtuezIU0w"
   },
   "source": [
    "<b>Loading required libraries</b>"
   ]
  },
  {
   "cell_type": "code",
   "execution_count": 8,
   "metadata": {
    "colab": {
     "base_uri": "https://localhost:8080/"
    },
    "id": "XiHQY_LCIU0w",
    "outputId": "eba67e19-bd53-4f9c-a9c7-e68c385f1f99"
   },
   "outputs": [
    {
     "name": "stderr",
     "output_type": "stream",
     "text": [
      "WARNING:root:No module named 'tempeh': LawSchoolGPADataset will be unavailable. To install, run:\n",
      "pip install 'aif360[LawSchoolGPA]'\n"
     ]
    }
   ],
   "source": [
    "# Libraries for data processing and visualiztion \n",
    "import numpy as np\n",
    "import pandas as pd\n",
    "import matplotlib.pyplot as plt\n",
    "import seaborn as sns\n",
    "\n",
    "from IPython.display import Markdown, display\n",
    "\n",
    "\n",
    "# we will use the Faireness Tool IBM AI Fairness 360 only to help formatting the german data set \n",
    "# Please ignore this at the moment we will learn more about it in Week 6\n",
    "from aif360.datasets import GermanDataset"
   ]
  },
  {
   "cell_type": "markdown",
   "metadata": {
    "id": "MuETGJnvIU0x"
   },
   "source": [
    "### Step 2: Explore and familiarize with the dataset"
   ]
  },
  {
   "cell_type": "markdown",
   "metadata": {
    "id": "a72qzba_IU0x"
   },
   "source": [
    "<b>Q1: Analyse the dataset and answer the following:</b> \n",
    "- What is the number of records?\n",
    "- What is the number of attributes present with the preprocessing we provided? \n",
    "- What is the list of attribute names?\n",
    "- Are there missing values that could create biases?"
   ]
  },
  {
   "cell_type": "code",
   "execution_count": 9,
   "metadata": {
    "id": "TZcHsBxZIU0y"
   },
   "outputs": [
    {
     "data": {
      "text/html": [
       "<div>\n",
       "<style scoped>\n",
       "    .dataframe tbody tr th:only-of-type {\n",
       "        vertical-align: middle;\n",
       "    }\n",
       "\n",
       "    .dataframe tbody tr th {\n",
       "        vertical-align: top;\n",
       "    }\n",
       "\n",
       "    .dataframe thead th {\n",
       "        text-align: right;\n",
       "    }\n",
       "</style>\n",
       "<table border=\"1\" class=\"dataframe\">\n",
       "  <thead>\n",
       "    <tr style=\"text-align: right;\">\n",
       "      <th></th>\n",
       "      <th>CMPLNT_NUM</th>\n",
       "      <th>CMPLNT_FR_DT</th>\n",
       "      <th>CMPLNT_FR_TM</th>\n",
       "      <th>CMPLNT_TO_DT</th>\n",
       "      <th>CMPLNT_TO_TM</th>\n",
       "      <th>ADDR_PCT_CD</th>\n",
       "      <th>RPT_DT</th>\n",
       "      <th>KY_CD</th>\n",
       "      <th>OFNS_DESC</th>\n",
       "      <th>PD_CD</th>\n",
       "      <th>...</th>\n",
       "      <th>Latitude</th>\n",
       "      <th>Longitude</th>\n",
       "      <th>Lat_Lon</th>\n",
       "      <th>PATROL_BORO</th>\n",
       "      <th>STATION_NAME</th>\n",
       "      <th>VIC_AGE_GROUP</th>\n",
       "      <th>VIC_RACE</th>\n",
       "      <th>VIC_SEX</th>\n",
       "      <th>OCC</th>\n",
       "      <th>OCC_END</th>\n",
       "    </tr>\n",
       "  </thead>\n",
       "  <tbody>\n",
       "    <tr>\n",
       "      <th>0</th>\n",
       "      <td>506547392</td>\n",
       "      <td>03/29/2018</td>\n",
       "      <td>20:30:00</td>\n",
       "      <td>&lt;NA&gt;</td>\n",
       "      <td>NaN</td>\n",
       "      <td>32.0</td>\n",
       "      <td>2018-03-30</td>\n",
       "      <td>351</td>\n",
       "      <td>CRIMINAL MISCHIEF &amp; RELATED OF</td>\n",
       "      <td>254.0</td>\n",
       "      <td>...</td>\n",
       "      <td>40.810877</td>\n",
       "      <td>-73.941064</td>\n",
       "      <td>(40.810877241, -73.941064151)</td>\n",
       "      <td>PATROL BORO MAN NORTH</td>\n",
       "      <td>NaN</td>\n",
       "      <td>25-44</td>\n",
       "      <td>WHITE</td>\n",
       "      <td>F</td>\n",
       "      <td>2018-03-29</td>\n",
       "      <td>&lt;NA&gt;</td>\n",
       "    </tr>\n",
       "    <tr>\n",
       "      <th>1</th>\n",
       "      <td>629632833</td>\n",
       "      <td>02/06/2018</td>\n",
       "      <td>23:15:00</td>\n",
       "      <td>&lt;NA&gt;</td>\n",
       "      <td>NaN</td>\n",
       "      <td>52.0</td>\n",
       "      <td>2018-02-07</td>\n",
       "      <td>341</td>\n",
       "      <td>PETIT LARCENY</td>\n",
       "      <td>333.0</td>\n",
       "      <td>...</td>\n",
       "      <td>40.873671</td>\n",
       "      <td>-73.908014</td>\n",
       "      <td>(40.873671035, -73.908013649)</td>\n",
       "      <td>PATROL BORO BRONX</td>\n",
       "      <td>NaN</td>\n",
       "      <td>NaN</td>\n",
       "      <td>UNKNOWN</td>\n",
       "      <td>D</td>\n",
       "      <td>2018-02-06</td>\n",
       "      <td>&lt;NA&gt;</td>\n",
       "    </tr>\n",
       "    <tr>\n",
       "      <th>2</th>\n",
       "      <td>787203902</td>\n",
       "      <td>11/21/2018</td>\n",
       "      <td>00:15:00</td>\n",
       "      <td>11/21/2018</td>\n",
       "      <td>00:20:00</td>\n",
       "      <td>75.0</td>\n",
       "      <td>2018-11-21</td>\n",
       "      <td>341</td>\n",
       "      <td>PETIT LARCENY</td>\n",
       "      <td>321.0</td>\n",
       "      <td>...</td>\n",
       "      <td>40.651782</td>\n",
       "      <td>-73.885457</td>\n",
       "      <td>(40.651782232, -73.885456761)</td>\n",
       "      <td>PATROL BORO BKLYN NORTH</td>\n",
       "      <td>NaN</td>\n",
       "      <td>NaN</td>\n",
       "      <td>UNKNOWN</td>\n",
       "      <td>D</td>\n",
       "      <td>2018-11-21</td>\n",
       "      <td>11/21/2018</td>\n",
       "    </tr>\n",
       "    <tr>\n",
       "      <th>3</th>\n",
       "      <td>280364018</td>\n",
       "      <td>06/09/2018</td>\n",
       "      <td>21:42:00</td>\n",
       "      <td>06/09/2018</td>\n",
       "      <td>21:43:00</td>\n",
       "      <td>10.0</td>\n",
       "      <td>2018-06-10</td>\n",
       "      <td>361</td>\n",
       "      <td>OFF. AGNST PUB ORD SENSBLTY &amp;</td>\n",
       "      <td>639.0</td>\n",
       "      <td>...</td>\n",
       "      <td>40.759310</td>\n",
       "      <td>-73.994706</td>\n",
       "      <td>(40.759310399, -73.994706072)</td>\n",
       "      <td>PATROL BORO MAN SOUTH</td>\n",
       "      <td>NaN</td>\n",
       "      <td>18-24</td>\n",
       "      <td>WHITE HISPANIC</td>\n",
       "      <td>F</td>\n",
       "      <td>2018-06-09</td>\n",
       "      <td>06/09/2018</td>\n",
       "    </tr>\n",
       "    <tr>\n",
       "      <th>4</th>\n",
       "      <td>985800320</td>\n",
       "      <td>11/10/2018</td>\n",
       "      <td>19:40:00</td>\n",
       "      <td>11/10/2018</td>\n",
       "      <td>19:45:00</td>\n",
       "      <td>19.0</td>\n",
       "      <td>2018-11-10</td>\n",
       "      <td>341</td>\n",
       "      <td>PETIT LARCENY</td>\n",
       "      <td>333.0</td>\n",
       "      <td>...</td>\n",
       "      <td>40.764536</td>\n",
       "      <td>-73.970728</td>\n",
       "      <td>(40.764535539, -73.970728388)</td>\n",
       "      <td>PATROL BORO MAN NORTH</td>\n",
       "      <td>NaN</td>\n",
       "      <td>NaN</td>\n",
       "      <td>UNKNOWN</td>\n",
       "      <td>D</td>\n",
       "      <td>2018-11-10</td>\n",
       "      <td>11/10/2018</td>\n",
       "    </tr>\n",
       "    <tr>\n",
       "      <th>...</th>\n",
       "      <td>...</td>\n",
       "      <td>...</td>\n",
       "      <td>...</td>\n",
       "      <td>...</td>\n",
       "      <td>...</td>\n",
       "      <td>...</td>\n",
       "      <td>...</td>\n",
       "      <td>...</td>\n",
       "      <td>...</td>\n",
       "      <td>...</td>\n",
       "      <td>...</td>\n",
       "      <td>...</td>\n",
       "      <td>...</td>\n",
       "      <td>...</td>\n",
       "      <td>...</td>\n",
       "      <td>...</td>\n",
       "      <td>...</td>\n",
       "      <td>...</td>\n",
       "      <td>...</td>\n",
       "      <td>...</td>\n",
       "      <td>...</td>\n",
       "    </tr>\n",
       "    <tr>\n",
       "      <th>7825494</th>\n",
       "      <td>104527061</td>\n",
       "      <td>05/01/2008</td>\n",
       "      <td>18:55:00</td>\n",
       "      <td>05/01/2018</td>\n",
       "      <td>19:00:00</td>\n",
       "      <td>10.0</td>\n",
       "      <td>2018-05-01</td>\n",
       "      <td>235</td>\n",
       "      <td>DANGEROUS DRUGS</td>\n",
       "      <td>511.0</td>\n",
       "      <td>...</td>\n",
       "      <td>40.756788</td>\n",
       "      <td>-73.996540</td>\n",
       "      <td>(40.756788048, -73.996539912)</td>\n",
       "      <td>PATROL BORO MAN SOUTH</td>\n",
       "      <td>NaN</td>\n",
       "      <td>NaN</td>\n",
       "      <td>UNKNOWN</td>\n",
       "      <td>E</td>\n",
       "      <td>2008-05-01</td>\n",
       "      <td>05/01/2018</td>\n",
       "    </tr>\n",
       "    <tr>\n",
       "      <th>7825495</th>\n",
       "      <td>284201488</td>\n",
       "      <td>05/18/2018</td>\n",
       "      <td>14:50:00</td>\n",
       "      <td>05/18/2018</td>\n",
       "      <td>14:55:00</td>\n",
       "      <td>122.0</td>\n",
       "      <td>2018-05-22</td>\n",
       "      <td>344</td>\n",
       "      <td>ASSAULT 3 &amp; RELATED OFFENSES</td>\n",
       "      <td>101.0</td>\n",
       "      <td>...</td>\n",
       "      <td>40.577953</td>\n",
       "      <td>-74.102317</td>\n",
       "      <td>(40.577953265, -74.102316756)</td>\n",
       "      <td>PATROL BORO STATEN ISLAND</td>\n",
       "      <td>NaN</td>\n",
       "      <td>&lt;18</td>\n",
       "      <td>WHITE HISPANIC</td>\n",
       "      <td>M</td>\n",
       "      <td>2018-05-18</td>\n",
       "      <td>05/18/2018</td>\n",
       "    </tr>\n",
       "    <tr>\n",
       "      <th>7825496</th>\n",
       "      <td>808565901</td>\n",
       "      <td>11/19/2018</td>\n",
       "      <td>02:25:00</td>\n",
       "      <td>11/19/2018</td>\n",
       "      <td>02:30:00</td>\n",
       "      <td>110.0</td>\n",
       "      <td>2018-11-19</td>\n",
       "      <td>109</td>\n",
       "      <td>GRAND LARCENY</td>\n",
       "      <td>421.0</td>\n",
       "      <td>...</td>\n",
       "      <td>40.743188</td>\n",
       "      <td>-73.862427</td>\n",
       "      <td>(40.743188053, -73.862427079)</td>\n",
       "      <td>PATROL BORO QUEENS NORTH</td>\n",
       "      <td>NaN</td>\n",
       "      <td>25-44</td>\n",
       "      <td>ASIAN / PACIFIC ISLANDER</td>\n",
       "      <td>M</td>\n",
       "      <td>2018-11-19</td>\n",
       "      <td>11/19/2018</td>\n",
       "    </tr>\n",
       "    <tr>\n",
       "      <th>7825497</th>\n",
       "      <td>649441648</td>\n",
       "      <td>02/03/2018</td>\n",
       "      <td>10:02:00</td>\n",
       "      <td>02/03/2018</td>\n",
       "      <td>12:15:00</td>\n",
       "      <td>122.0</td>\n",
       "      <td>2018-02-03</td>\n",
       "      <td>578</td>\n",
       "      <td>HARRASSMENT 2</td>\n",
       "      <td>638.0</td>\n",
       "      <td>...</td>\n",
       "      <td>40.593665</td>\n",
       "      <td>-74.089000</td>\n",
       "      <td>(40.593664627, -74.089000194)</td>\n",
       "      <td>PATROL BORO STATEN ISLAND</td>\n",
       "      <td>NaN</td>\n",
       "      <td>45-64</td>\n",
       "      <td>WHITE</td>\n",
       "      <td>M</td>\n",
       "      <td>2018-02-03</td>\n",
       "      <td>02/03/2018</td>\n",
       "    </tr>\n",
       "    <tr>\n",
       "      <th>7825498</th>\n",
       "      <td>803166404</td>\n",
       "      <td>01/05/2018</td>\n",
       "      <td>14:40:00</td>\n",
       "      <td>01/05/2018</td>\n",
       "      <td>16:00:00</td>\n",
       "      <td>79.0</td>\n",
       "      <td>2018-01-08</td>\n",
       "      <td>233</td>\n",
       "      <td>SEX CRIMES</td>\n",
       "      <td>175.0</td>\n",
       "      <td>...</td>\n",
       "      <td>40.688872</td>\n",
       "      <td>-73.944529</td>\n",
       "      <td>(40.688872153, -73.944529032)</td>\n",
       "      <td>PATROL BORO BKLYN NORTH</td>\n",
       "      <td>NaN</td>\n",
       "      <td>&lt;18</td>\n",
       "      <td>WHITE</td>\n",
       "      <td>F</td>\n",
       "      <td>2018-01-05</td>\n",
       "      <td>01/05/2018</td>\n",
       "    </tr>\n",
       "  </tbody>\n",
       "</table>\n",
       "<p>7798898 rows × 37 columns</p>\n",
       "</div>"
      ],
      "text/plain": [
       "         CMPLNT_NUM CMPLNT_FR_DT CMPLNT_FR_TM CMPLNT_TO_DT CMPLNT_TO_TM  \\\n",
       "0         506547392   03/29/2018     20:30:00         <NA>          NaN   \n",
       "1         629632833   02/06/2018     23:15:00         <NA>          NaN   \n",
       "2         787203902   11/21/2018     00:15:00   11/21/2018     00:20:00   \n",
       "3         280364018   06/09/2018     21:42:00   06/09/2018     21:43:00   \n",
       "4         985800320   11/10/2018     19:40:00   11/10/2018     19:45:00   \n",
       "...             ...          ...          ...          ...          ...   \n",
       "7825494   104527061   05/01/2008     18:55:00   05/01/2018     19:00:00   \n",
       "7825495   284201488   05/18/2018     14:50:00   05/18/2018     14:55:00   \n",
       "7825496   808565901   11/19/2018     02:25:00   11/19/2018     02:30:00   \n",
       "7825497   649441648   02/03/2018     10:02:00   02/03/2018     12:15:00   \n",
       "7825498   803166404   01/05/2018     14:40:00   01/05/2018     16:00:00   \n",
       "\n",
       "        ADDR_PCT_CD     RPT_DT KY_CD                       OFNS_DESC  PD_CD  \\\n",
       "0              32.0 2018-03-30   351  CRIMINAL MISCHIEF & RELATED OF  254.0   \n",
       "1              52.0 2018-02-07   341                   PETIT LARCENY  333.0   \n",
       "2              75.0 2018-11-21   341                   PETIT LARCENY  321.0   \n",
       "3              10.0 2018-06-10   361   OFF. AGNST PUB ORD SENSBLTY &  639.0   \n",
       "4              19.0 2018-11-10   341                   PETIT LARCENY  333.0   \n",
       "...             ...        ...   ...                             ...    ...   \n",
       "7825494        10.0 2018-05-01   235                 DANGEROUS DRUGS  511.0   \n",
       "7825495       122.0 2018-05-22   344    ASSAULT 3 & RELATED OFFENSES  101.0   \n",
       "7825496       110.0 2018-11-19   109                   GRAND LARCENY  421.0   \n",
       "7825497       122.0 2018-02-03   578                   HARRASSMENT 2  638.0   \n",
       "7825498        79.0 2018-01-08   233                      SEX CRIMES  175.0   \n",
       "\n",
       "         ...   Latitude  Longitude                        Lat_Lon  \\\n",
       "0        ...  40.810877 -73.941064  (40.810877241, -73.941064151)   \n",
       "1        ...  40.873671 -73.908014  (40.873671035, -73.908013649)   \n",
       "2        ...  40.651782 -73.885457  (40.651782232, -73.885456761)   \n",
       "3        ...  40.759310 -73.994706  (40.759310399, -73.994706072)   \n",
       "4        ...  40.764536 -73.970728  (40.764535539, -73.970728388)   \n",
       "...      ...        ...        ...                            ...   \n",
       "7825494  ...  40.756788 -73.996540  (40.756788048, -73.996539912)   \n",
       "7825495  ...  40.577953 -74.102317  (40.577953265, -74.102316756)   \n",
       "7825496  ...  40.743188 -73.862427  (40.743188053, -73.862427079)   \n",
       "7825497  ...  40.593665 -74.089000  (40.593664627, -74.089000194)   \n",
       "7825498  ...  40.688872 -73.944529  (40.688872153, -73.944529032)   \n",
       "\n",
       "                       PATROL_BORO STATION_NAME VIC_AGE_GROUP  \\\n",
       "0            PATROL BORO MAN NORTH          NaN         25-44   \n",
       "1                PATROL BORO BRONX          NaN           NaN   \n",
       "2          PATROL BORO BKLYN NORTH          NaN           NaN   \n",
       "3            PATROL BORO MAN SOUTH          NaN         18-24   \n",
       "4            PATROL BORO MAN NORTH          NaN           NaN   \n",
       "...                            ...          ...           ...   \n",
       "7825494      PATROL BORO MAN SOUTH          NaN           NaN   \n",
       "7825495  PATROL BORO STATEN ISLAND          NaN          <18    \n",
       "7825496   PATROL BORO QUEENS NORTH          NaN         25-44   \n",
       "7825497  PATROL BORO STATEN ISLAND          NaN         45-64   \n",
       "7825498    PATROL BORO BKLYN NORTH          NaN          <18    \n",
       "\n",
       "                         VIC_RACE VIC_SEX        OCC     OCC_END  \n",
       "0                           WHITE       F 2018-03-29        <NA>  \n",
       "1                         UNKNOWN       D 2018-02-06        <NA>  \n",
       "2                         UNKNOWN       D 2018-11-21  11/21/2018  \n",
       "3                  WHITE HISPANIC       F 2018-06-09  06/09/2018  \n",
       "4                         UNKNOWN       D 2018-11-10  11/10/2018  \n",
       "...                           ...     ...        ...         ...  \n",
       "7825494                   UNKNOWN       E 2008-05-01  05/01/2018  \n",
       "7825495            WHITE HISPANIC       M 2018-05-18  05/18/2018  \n",
       "7825496  ASIAN / PACIFIC ISLANDER       M 2018-11-19  11/19/2018  \n",
       "7825497                     WHITE       M 2018-02-03  02/03/2018  \n",
       "7825498                     WHITE       F 2018-01-05  01/05/2018  \n",
       "\n",
       "[7798898 rows x 37 columns]"
      ]
     },
     "execution_count": 9,
     "metadata": {},
     "output_type": "execute_result"
    }
   ],
   "source": [
    "\n",
    "import pickle\n",
    "\n",
    "with open('data.pickle', 'rb') as f:\n",
    "    data = pickle.load(f, encoding='binary')\n",
    "data"
   ]
  },
  {
   "cell_type": "code",
   "execution_count": 10,
   "metadata": {},
   "outputs": [],
   "source": [
    "data['Year']=data['OCC'].dt.year \n",
    "data['Year'] = data['Year'].astype(str)\n",
    "demographic = data.loc[data['Year'] == '2010']"
   ]
  },
  {
   "cell_type": "markdown",
   "metadata": {
    "id": "YnL3_NqTIU0y"
   },
   "source": [
    "- "
   ]
  },
  {
   "cell_type": "code",
   "execution_count": 13,
   "metadata": {
    "id": "GOTIV9caIU0y"
   },
   "outputs": [],
   "source": [
    "### Some possible explorations ###\n",
    "# Number of records:\n",
    "\n",
    "# Number of features:\n",
    "\n",
    "# Feature names:\n",
    "\n",
    "# Number of missing values for each attribute ..."
   ]
  },
  {
   "cell_type": "markdown",
   "metadata": {
    "id": "iAtS3GZiIU0y"
   },
   "source": [
    "<div class=\"alert alert-block alert-success\">\n",
    "<b>Correct Answer:</b>\n",
    "</div>"
   ]
  },
  {
   "cell_type": "code",
   "execution_count": 14,
   "metadata": {
    "colab": {
     "base_uri": "https://localhost:8080/"
    },
    "id": "ll3aWyfiIU0y",
    "outputId": "8c15559e-d8f6-44c1-f47c-90ab793e817b"
   },
   "outputs": [
    {
     "name": "stdout",
     "output_type": "stream",
     "text": [
      "Number of records:  7798898\n",
      "Number of features:  38\n",
      "Names of features:  ['CMPLNT_NUM', 'CMPLNT_FR_DT', 'CMPLNT_FR_TM', 'CMPLNT_TO_DT', 'CMPLNT_TO_TM', 'ADDR_PCT_CD', 'RPT_DT', 'KY_CD', 'OFNS_DESC', 'PD_CD', 'PD_DESC', 'CRM_ATPT_CPTD_CD', 'LAW_CAT_CD', 'BORO_NM', 'LOC_OF_OCCUR_DESC', 'PREM_TYP_DESC', 'JURIS_DESC', 'JURISDICTION_CODE', 'PARKS_NM', 'HADEVELOPT', 'HOUSING_PSA', 'X_COORD_CD', 'Y_COORD_CD', 'SUSP_AGE_GROUP', 'SUSP_RACE', 'SUSP_SEX', 'TRANSIT_DISTRICT', 'Latitude', 'Longitude', 'Lat_Lon', 'PATROL_BORO', 'STATION_NAME', 'VIC_AGE_GROUP', 'VIC_RACE', 'VIC_SEX', 'OCC', 'OCC_END', 'Year']\n",
      "Number of missing values for each attribute:  CMPLNT_NUM                 0\n",
      "CMPLNT_FR_DT               0\n",
      "CMPLNT_FR_TM              47\n",
      "CMPLNT_TO_DT         1732977\n",
      "CMPLNT_TO_TM         1734018\n",
      "ADDR_PCT_CD             2069\n",
      "RPT_DT                     0\n",
      "KY_CD                      0\n",
      "OFNS_DESC              18755\n",
      "PD_CD                   6585\n",
      "PD_DESC                 6585\n",
      "CRM_ATPT_CPTD_CD         167\n",
      "LAW_CAT_CD                 0\n",
      "BORO_NM                12289\n",
      "LOC_OF_OCCUR_DESC    1615397\n",
      "PREM_TYP_DESC          41621\n",
      "JURIS_DESC                 0\n",
      "JURISDICTION_CODE       6585\n",
      "PARKS_NM             7768065\n",
      "HADEVELOPT           7451669\n",
      "HOUSING_PSA          7201368\n",
      "X_COORD_CD             16903\n",
      "Y_COORD_CD             16903\n",
      "SUSP_AGE_GROUP       5705151\n",
      "SUSP_RACE            3501241\n",
      "SUSP_SEX             3633357\n",
      "TRANSIT_DISTRICT     7626735\n",
      "Latitude               16903\n",
      "Longitude              16903\n",
      "Lat_Lon                16903\n",
      "PATROL_BORO             7003\n",
      "STATION_NAME         7626735\n",
      "VIC_AGE_GROUP        2436879\n",
      "VIC_RACE                 390\n",
      "VIC_SEX                  308\n",
      "OCC                        0\n",
      "OCC_END                    0\n",
      "Year                       0\n",
      "dtype: int64\n"
     ]
    }
   ],
   "source": [
    "# Number of records:\n",
    "print(\"Number of records: \",  len(data))\n",
    "# Number of features:\n",
    "\n",
    "print(\"Number of features: \",  data.shape[1])\n",
    "\n",
    "# Feature names:\n",
    "print(\"Names of features: \",  list(data.columns))\n",
    "\n",
    "\n",
    "\n",
    "# Are there missing values that could create biases\n",
    "# print(pd_gdata.isin(['NA']).sum(axis=0))\n",
    "print(\"Number of missing values for each attribute: \", data.isnull().sum())"
   ]
  },
  {
   "cell_type": "markdown",
   "metadata": {
    "id": "2wjER9PIIU0y"
   },
   "source": [
    "## Part II Protected attributes, proxies."
   ]
  },
  {
   "cell_type": "markdown",
   "metadata": {
    "id": "0BppBqRBti9k"
   },
   "source": [
    "### Step 1: Sensitive and Protected Attributes"
   ]
  },
  {
   "cell_type": "markdown",
   "metadata": {
    "id": "NQ0KNLNyIU0y"
   },
   "source": [
    "<b>Q2: Identification of protected attributes</b>\n",
    "\n",
    "a) Study the dataset and its documentation and identify which attributes that might raise unfairness concerns and should be considered protected (according to the law). Explain, in your opinion, why are these attributes protected provide exaples of bias or unfaireness for each identified attribute. "
   ]
  },
  {
   "cell_type": "markdown",
   "metadata": {
    "id": "pD7Px03DIU0y"
   },
   "source": [
    "<div class=\"alert alert-block alert-info\">\n",
    "<b>Tip:</b> \n",
    "\n",
    "Take a look at the following documents<br>\n",
    "<a href=\"https://www.equalityhumanrights.com/en/equality-act/protected-characteristics\">(1) \n",
    "Protected characteristics | Equality and Human Rights Commission (UK, 2021)</a><br>\n",
    "<a href=\"https://rm.coe.int/discrimination-artificial-intelligence-and-algorithmic-decision-making/1680925d73\">(2) Discrimination, Artificial Intelligence, and Algorithmic Decision-Making (2018)</a><br>\n",
    "<a href=\"http://ec.europa.eu/social/BlobServlet?docId=1691&langId=en&usg=AOvVaw3vI30bO3jisairH2Z7-nSl\">(3) Age discrimination and European Law (2005)</a>. \n",
    "<div> \n",
    "\n"
   ]
  },
  {
   "cell_type": "markdown",
   "metadata": {
    "id": "byYv9J9HIU0y"
   },
   "source": [
    "-"
   ]
  },
  {
   "cell_type": "markdown",
   "metadata": {
    "id": "IgsZ4jJNIU0z"
   },
   "source": [
    "b) Study the dataset and its documentation and identify any further sensitive but \"non-protect\" attributes that could cause unfairness. Explain your reasoning. Provide examples of bias or unfairness related to each attribute in your context.\n",
    "\n",
    "***Hint:*** Protected attributes are sensitive attributes protected by law. This changes from one country/region to another. Sensitive attributes are attributes that could cause historical bias and can be protected by law or not depending on these countries/regions "
   ]
  },
  {
   "cell_type": "markdown",
   "metadata": {
    "id": "-hv8Ld7dIU0z"
   },
   "source": [
    "-"
   ]
  },
  {
   "cell_type": "markdown",
   "metadata": {
    "id": "wauKqfHOIU0z"
   },
   "source": [
    "<div class=\"alert alert-block alert-success\">\n",
    "<b>Correct Answer:</b>\n",
    "\n",
    "    \n",
    "<b>Q2 - a)</b> From the documentation, personal status and sex (these two are combined into one single attribute - only gender is mentioned directly) and age could be considered protected, based on regulations. Gender is mentioned clearly in the documents. Age seems to be a complicated topic for which no definite answer is given. \n",
    "\n",
    "---------------\n",
    "\n",
    "<b>Q2 - b)</b> There is one attribute which is \"personal status and sex\" in the original data. \n",
    "\n",
    "The values for \"sex\" appear to be either \"male\" or \"female\", which can be considered a simplification, that might leave apart certain persons.\n",
    "\n",
    "Among the values of these attributes, the values taken by male and female are different (e.g. 'married/widowed' or 'divorced/separated for male', 'divorced/separated/married' for female). We pre-process the attribute to divide it into two attributes, one for the 'sex' and one for the 'personal status', but we might wonder whether that is relevant since the personal status is automatically intertwined with the sex.\n",
    "\n",
    "What about \"foreign worker\" for instance? This attribute does not correspond fully to an active choice, but mostly to an \"inherent\" characteristic of a person, using this might serve to discriminate poorer communities.\n",
    "    \n",
    "</div>\n",
    "\n"
   ]
  },
  {
   "cell_type": "markdown",
   "metadata": {
    "id": "RdR7TjuZIU0z"
   },
   "source": [
    "### Step 2: Identify Proxies"
   ]
  },
  {
   "cell_type": "markdown",
   "metadata": {
    "id": "KyQV4CWdIU0z"
   },
   "source": [
    "<b>Q3:  Identification of \"spurious\" proxies </b>\n",
    "\n",
    "a) Find the proxies for the attribute \"sex\".\n",
    "\n",
    "b) Find proxies for one additional protected attribut you identified in Q2-a.\n",
    "\n",
    "c) In your opinion, why do we want to identify proxies for protected attributes in a dataset? How should you handle the proxies?"
   ]
  },
  {
   "cell_type": "markdown",
   "metadata": {
    "id": "kPwXsAYiIU0z"
   },
   "source": [
    "<div class=\"alert alert-block alert-info\">\n",
    "<b> Tip: </b>A proxy attribute <i>Ap</i>  is an attribute that has a similar distribution as another attribute <i>Ax</i>, so having access to the proxy attribute <i>Ap</i> provides a good knowledge of the other attribute <i>Ax</i>. For instance, in the US the zipcode is a powerful proxy for race and education, the zipcode combined with websites visited is an even more powerful proxy, names in certain languages are strong proxies for gender, etc.<br>\n",
    "\n",
    "The simplest way to identify proxy attributes for a protected attribute <i>Ax</i> is to compute the correlation of <i>Ax</i>  with each other attributes in the dataset. The higher the corrolation (absolute value of the corrolation) the higher the likelihood an attribute is a proxy of <i>Ax</i> <br>\n",
    "\n",
    "You can use the `corr()` function of the pandas library to compute the correlation between two attributes\n",
    "</div> \n",
    "\n",
    "\n",
    "   "
   ]
  },
  {
   "cell_type": "markdown",
   "metadata": {
    "id": "C91Cy4gQIU0z"
   },
   "source": [
    "<div class=\"alert alert-block alert-success\">\n",
    "<b>Correct Answer:</b>\n",
    "    \n",
    "<b>Q3 - a)</b>  For sex, as expected, attributes related to the personal status are proxy attributes. Correlation of 'personal_status=single' 0.74, of 'personal_status=divorced/separated/married' -1.0.\n",
    "\n",
    "---------------\n",
    "\n",
    "<b>Q3 - b)</b> For age (or other protected attribut), it seems there is no proxy attribute (correlations remain rather low, under 0.25).  \"foreign_worker\" related attributes are proxies for each other (\"foreign_worker=yes\", \"foreign_worker=no\").\n",
    "\n",
    "\n",
    "---------------\n",
    "\n",
    "<b>Q3 - c)</b> We want to search for proxies because even if the law does not forbid to use such proxies to make decisions, it forbids to use the protected attributes, and using a proxy attribute is exactly the same as using this attribute (when correlation is very high ). The information of a proxy gives away the information about an attribute we might not want to use.\n",
    "Depending on the reason why a proxy exists, this could be handled by not using it in the training dataset, or collecting better data to populate it or modifying its values such as for the personal status attribute where we might want to get finer grain information or aggregate its values only into single and not single as these are independent from sex. However, it is to note that simply removing the protected attributes and their proxies is not enough to make the classifiers fair as more correlations might be there. Also, it is better to have access to it in the test data in order to actually measure the unfairness of the classifier.\n",
    "</div>"
   ]
  },
  {
   "cell_type": "markdown",
   "metadata": {
    "id": "JB5dyQMz0iy2"
   },
   "source": [
    "## Part III: Representation Disparities, Skew and Bias </H3>"
   ]
  },
  {
   "cell_type": "markdown",
   "metadata": {
    "id": "PWvCO1mUvV6y"
   },
   "source": [
    "### Step 1: Representation Disparity --> Representation Bias"
   ]
  },
  {
   "cell_type": "markdown",
   "metadata": {
    "id": "LrmBjYfQIU0z"
   },
   "source": [
    "<br>\n",
    "<b>Q4: Is your data representative of the population (all its categories)</b>\n",
    "\n",
    "The aim of this section is to ensure the data is representative of the population it describes. While paying particular attention to sensitive and protected attributes.\n",
    "\n",
    "Use any combination of data visualisations, Tables, Textual \"Statistics\" and Textual analysis to address these guiding questions.\n",
    "\n",
    "a) Is the dataset we are working with representative of the German population with regard to age? Add any needed code or analysis to briefly justify your answer<br>\n",
    "b) Is the dataset we are working with representative of the German population with regard to gender? Add any needed code or analysis to briefly justify your answer\n",
    "c) Look at the joint distribution of the attributes for sex and personal_status=divorced/separated/married. Does the dataset seem to be representative of the German population?<br>\n",
    "d) Similarly, look at the distribution of foreign workers. Does the dataset seem to be representative of the German population?<br>"
   ]
  },
  {
   "cell_type": "markdown",
   "metadata": {
    "id": "JcEkGsg5IU0z"
   },
   "source": [
    "<div class=\"alert alert-block alert-info\">\n",
    "<b> Tip: </b> You can find demographic information from Wikipedia <a href=https://en.wikipedia.org/wiki/Demographics_of_Germany>[Here]</a>\n",
    "    \n",
    "Go to section <b><i>Demographic statistics</i></b> take a closer look at the most racent  <b><i>Age structure</i></b> data (it should be from 2018). Use this data to build a distribution of german population across age, then across gender and compare it to the distributions from <b><i>the German credit data</i></b> we are working with.\n",
    "\n",
    "It is up to you how you want to justify your answer, however using visualizations will provide more points (i.e., plots and diagram)\n",
    "</div>\n",
    "    "
   ]
  },
  {
   "cell_type": "code",
   "execution_count": 15,
   "metadata": {
    "id": "rYvNpGAjIU0z"
   },
   "outputs": [],
   "source": [
    "# write you code here \n",
    "# \n"
   ]
  },
  {
   "cell_type": "markdown",
   "metadata": {
    "id": "-ecLni1PIU0z"
   },
   "source": [
    "-"
   ]
  },
  {
   "cell_type": "markdown",
   "metadata": {
    "id": "0-Y-iFb2IU0z"
   },
   "source": [
    "<div class=\"alert alert-block alert-success\">\n",
    "<b>Correct Answer:</b>\n",
    "\n",
    "<u>Wikipedia Data from 2018</u><br>\n",
    "0-14 years: 12.83% (male 5,299,798 /female 5,024,184)<br>\n",
    "15-24 years: 9.98% (male 4,092,901 /female 3,933,997)<br>\n",
    "25-54 years: 39.87% (male 16,181,931 /female 15,896,528)<br>\n",
    "55-64 years: 14.96% (male 5,989,111 /female 6,047,449)<br>\n",
    "65 years and over: 22.36% (male 7,930,590 /female 10,061,248)<br><br>\n",
    "\n",
    "female population: 50.76% \n",
    "male population: 49.24%\n",
    "    \n",
    "<br>\n",
    "\n"
   ]
  },
  {
   "cell_type": "code",
   "execution_count": 16,
   "metadata": {
    "colab": {
     "base_uri": "https://localhost:8080/",
     "height": 350
    },
    "id": "F4YL0QFx5sBw",
    "outputId": "bf9c4f88-6d3b-4bec-b372-03070c01abfa"
   },
   "outputs": [
    {
     "data": {
      "text/plain": [
       "<Figure size 810x500 with 0 Axes>"
      ]
     },
     "metadata": {},
     "output_type": "display_data"
    }
   ],
   "source": [
    "plt.figure(1, figsize=(8.1, 5))\n",
    "data['Year']=data['OCC'].dt.year \n",
    "data['Year'] = data['Year'].astype(str)\n",
    "demographic = data.loc[data['Year'] == '2010']"
   ]
  },
  {
   "cell_type": "code",
   "execution_count": 35,
   "metadata": {},
   "outputs": [
    {
     "data": {
      "text/plain": [
       "<matplotlib.legend.Legend at 0x1a7603e3700>"
      ]
     },
     "execution_count": 35,
     "metadata": {},
     "output_type": "execute_result"
    },
    {
     "data": {
      "image/png": "[encoded data removed]",
      "text/plain": [
       "<Figure size 640x480 with 1 Axes>"
      ]
     },
     "metadata": {},
     "output_type": "display_data"
    }
   ],
   "source": [
    "categories = ['65+', '25-44', '<18', '46-64', '18-24']\n",
    "bin_edges = np.arange(len(categories) + 1) - 0.5  # add a half bin width to shift the edges to the center of the bars\n",
    "demographic['VIC_AGE_GROUP'].hist(bins=bin_edges, align='mid', rwidth=0.8);\n",
    "\n",
    "# Format plot\n",
    "plt.xticks(range(len(categories)), categories)\n",
    "plt.xlabel('Age of victims')\n",
    "plt.ylabel('Number of victims')\n",
    "plt.title('Age distribution of victims')\n",
    "plt.plot(range(len(categories)), [39124, 109767, 80940, 70744, 33498], 'o--', c='red', linewidth=0, markersize=8, label='Expected age distribution according to New York Census 2010')\n",
    "plt.legend(loc='center left', bbox_to_anchor=(1, 0.5))"
   ]
  },
  {
   "cell_type": "code",
   "execution_count": 19,
   "metadata": {},
   "outputs": [
    {
     "data": {
      "text/plain": [
       "25-44    159208\n",
       "45-64     80799\n",
       "18-24     53441\n",
       "<18       25553\n",
       "65+       15072\n",
       "Name: VIC_AGE_GROUP, dtype: int64"
      ]
     },
     "execution_count": 19,
     "metadata": {},
     "output_type": "execute_result"
    }
   ],
   "source": [
    "demographic['VIC_AGE_GROUP'].value_counts()"
   ]
  },
  {
   "cell_type": "code",
   "execution_count": 20,
   "metadata": {},
   "outputs": [
    {
     "data": {
      "text/plain": [
       "<matplotlib.legend.Legend at 0x1a760307670>"
      ]
     },
     "execution_count": 20,
     "metadata": {},
     "output_type": "execute_result"
    },
    {
     "data": {
      "image/png": "[encoded data removed]",
      "text/plain": [
       "<Figure size 640x480 with 1 Axes>"
      ]
     },
     "metadata": {},
     "output_type": "display_data"
    }
   ],
   "source": [
    "categories = ['18-24', '25-44', '45-64', '65+', '<18']\n",
    "bin_edges = np.arange(len(categories) + 1) - 0.5  # add a half bin width to shift the edges to the center of the bars\n",
    "demographic['SUSP_AGE_GROUP'].hist(bins=bin_edges, align='mid', rwidth=0.8);\n",
    "\n",
    "# Format plot\n",
    "plt.xticks(range(len(categories)), categories)\n",
    "plt.xlabel('Age of victims')\n",
    "plt.ylabel('Number of victims')\n",
    "plt.title('Age distribution of suspects')\n",
    "plt.plot(range(len(categories)), [6800, 22282, 14360, 7942, 16430], 'o--', c='red', linewidth=0, markersize=8, label='Expected age distribution according to New York Census 2010')\n",
    "plt.legend(loc='center left', bbox_to_anchor=(1, 0.5))"
   ]
  },
  {
   "cell_type": "code",
   "execution_count": 21,
   "metadata": {},
   "outputs": [
    {
     "data": {
      "text/plain": [
       "25-44    36780\n",
       "18-24    14337\n",
       "45-64    11944\n",
       "<18       3838\n",
       "65+        915\n",
       "Name: SUSP_AGE_GROUP, dtype: int64"
      ]
     },
     "execution_count": 21,
     "metadata": {},
     "output_type": "execute_result"
    }
   ],
   "source": [
    "demographic['SUSP_AGE_GROUP'].value_counts()"
   ]
  },
  {
   "cell_type": "code",
   "execution_count": 22,
   "metadata": {},
   "outputs": [],
   "source": [
    "demographic2 = demographic.drop(demographic[demographic['VIC_SEX'] == 'E'].index)\n",
    "demographic2 = demographic2.drop(demographic[demographic['VIC_SEX'] == 'U'].index)\n",
    "demographic3 = demographic.drop(demographic[demographic['SUSP_SEX'] == 'U'].index)"
   ]
  },
  {
   "cell_type": "code",
   "execution_count": 23,
   "metadata": {},
   "outputs": [
    {
     "data": {
      "text/plain": [
       "<matplotlib.legend.Legend at 0x1a76036da90>"
      ]
     },
     "execution_count": 23,
     "metadata": {},
     "output_type": "execute_result"
    },
    {
     "data": {
      "image/png": "[encoded data removed]",
      "text/plain": [
       "<Figure size 640x480 with 1 Axes>"
      ]
     },
     "metadata": {},
     "output_type": "display_data"
    }
   ],
   "source": [
    "categories = ['F','M','D']\n",
    "bin_edges = np.arange(len(categories) + 1) - 0.5  # add a half bin width to shift the edges to the center of the bars\n",
    "demographic2['VIC_SEX'].hist(bins=bin_edges, align='mid', rwidth=0.8);\n",
    "\n",
    "# Format plot\n",
    "plt.xticks(range(len(categories)), categories)\n",
    "plt.xlabel('Sex of victims')\n",
    "plt.ylabel('Number of victims')\n",
    "plt.title('Sex distribution of victims')\n",
    "plt.plot(range(len(categories)), [211227, 190181, 11027.0], 'o--', c='red', linewidth=0, markersize=8, label='Expected sex distribution according to New York Census 2010')\n",
    "plt.legend(loc='center left', bbox_to_anchor=(1, 0.5))"
   ]
  },
  {
   "cell_type": "code",
   "execution_count": 24,
   "metadata": {},
   "outputs": [
    {
     "data": {
      "text/plain": [
       "F    195155\n",
       "M    158775\n",
       "D     58505\n",
       "E         0\n",
       "U         0\n",
       "Name: VIC_SEX, dtype: int64"
      ]
     },
     "execution_count": 24,
     "metadata": {},
     "output_type": "execute_result"
    }
   ],
   "source": [
    "demographic2['VIC_SEX'].value_counts()"
   ]
  },
  {
   "cell_type": "code",
   "execution_count": 25,
   "metadata": {},
   "outputs": [
    {
     "data": {
      "text/plain": [
       "<matplotlib.legend.Legend at 0x1a7603a8910>"
      ]
     },
     "execution_count": 25,
     "metadata": {},
     "output_type": "execute_result"
    },
    {
     "data": {
      "image/png": "[encoded data removed]",
      "text/plain": [
       "<Figure size 640x480 with 1 Axes>"
      ]
     },
     "metadata": {},
     "output_type": "display_data"
    }
   ],
   "source": [
    "categories = ['M','F']\n",
    "bin_edges = np.arange(len(categories) + 1) - 0.5  # add a half bin width to shift the edges to the center of the bars\n",
    "demographic['SUSP_SEX'].hist(bins=bin_edges, align='mid', rwidth=0.8);\n",
    "\n",
    "# Format plot\n",
    "plt.xticks(range(len(categories)), categories)\n",
    "plt.xlabel('Sex of suspects')\n",
    "plt.ylabel('Number of suspects')\n",
    "plt.title('Sex distribution of suspects')\n",
    "plt.plot(range(len(categories)), [76760.0, 85255.0], 'o--', c='red', linewidth=0, markersize=8, label='Expected sex distribution according to New York Census 2010')\n",
    "plt.legend(loc='center left', bbox_to_anchor=(1, 0.5))"
   ]
  },
  {
   "cell_type": "code",
   "execution_count": 26,
   "metadata": {},
   "outputs": [
    {
     "data": {
      "text/plain": [
       "M    120891\n",
       "F     41124\n",
       "U         0\n",
       "Name: SUSP_SEX, dtype: int64"
      ]
     },
     "execution_count": 26,
     "metadata": {},
     "output_type": "execute_result"
    }
   ],
   "source": [
    "demographic3['SUSP_SEX'].value_counts()"
   ]
  },
  {
   "cell_type": "code",
   "execution_count": 27,
   "metadata": {},
   "outputs": [],
   "source": [
    "demographic3 = demographic.drop(demographic[demographic['VIC_RACE'] == 'Other'].index)\n",
    "demographic3 = demographic3.drop(demographic3[demographic3['VIC_RACE'] == 'UNKNOWN'].index)"
   ]
  },
  {
   "cell_type": "code",
   "execution_count": 28,
   "metadata": {},
   "outputs": [
    {
     "data": {
      "text/plain": [
       "<matplotlib.legend.Legend at 0x1a7603dbf70>"
      ]
     },
     "execution_count": 28,
     "metadata": {},
     "output_type": "execute_result"
    },
    {
     "data": {
      "image/png": "[encoded data removed]",
      "text/plain": [
       "<Figure size 640x480 with 1 Axes>"
      ]
     },
     "metadata": {},
     "output_type": "display_data"
    }
   ],
   "source": [
    "categories = ['WH','B','W','BH','A/P','A/A']\n",
    "bin_edges = np.arange(len(categories) + 1) - 0.5  # add a half bin width to shift the edges to the center of the bars\n",
    "demographic3['VIC_RACE'].hist(bins=bin_edges, align='mid', rwidth=0.8);\n",
    "\n",
    "# Format plot\n",
    "plt.xticks(range(len(categories)), categories)\n",
    "plt.xlabel('Race of victims')\n",
    "plt.ylabel('Number of victims')\n",
    "plt.title('Race distribution of victims')\n",
    "plt.plot(range(len(categories)), [10921.0,107810.0,153915.0,5698.0,43025.0,6099.0], 'o--', c='red', linewidth=0, markersize=8, label='Expected race distribution according to New York Census 2010')\n",
    "plt.legend(loc='center left', bbox_to_anchor=(1, 0.5))"
   ]
  },
  {
   "cell_type": "code",
   "execution_count": 29,
   "metadata": {},
   "outputs": [
    {
     "data": {
      "text/plain": [
       "BLACK                             117688\n",
       "WHITE                              88656\n",
       "WHITE HISPANIC                     78108\n",
       "ASIAN / PACIFIC ISLANDER           25010\n",
       "BLACK HISPANIC                     15880\n",
       "AMERICAN INDIAN/ALASKAN NATIVE      2127\n",
       "OTHER                                  0\n",
       "UNKNOWN                                0\n",
       "Name: VIC_RACE, dtype: int64"
      ]
     },
     "execution_count": 29,
     "metadata": {},
     "output_type": "execute_result"
    }
   ],
   "source": [
    "demographic3['VIC_RACE'].value_counts()"
   ]
  },
  {
   "cell_type": "code",
   "execution_count": 30,
   "metadata": {},
   "outputs": [],
   "source": [
    "demographic4 = demographic.drop(demographic[demographic['SUSP_RACE'] == 'Other'].index)\n",
    "demographic4 = demographic4.drop(demographic4[demographic4['SUSP_RACE'] == 'UNKNOWN'].index)"
   ]
  },
  {
   "cell_type": "code",
   "execution_count": 31,
   "metadata": {},
   "outputs": [
    {
     "data": {
      "text/plain": [
       "<matplotlib.legend.Legend at 0x1a760521fa0>"
      ]
     },
     "execution_count": 31,
     "metadata": {},
     "output_type": "execute_result"
    },
    {
     "data": {
      "image/png": "[encoded data removed]",
      "text/plain": [
       "<Figure size 640x480 with 1 Axes>"
      ]
     },
     "metadata": {},
     "output_type": "display_data"
    }
   ],
   "source": [
    "categories = ['WH','W','BH','B','A/P','A/A']\n",
    "bin_edges = np.arange(len(categories) + 1) - 0.5  # add a half bin width to shift the edges to the center of the bars\n",
    "demographic4['SUSP_RACE'].hist(bins=bin_edges, align='mid', rwidth=0.8);\n",
    "\n",
    "# Format plot\n",
    "plt.xticks(range(len(categories)), categories)\n",
    "plt.xlabel('Race of suspects')\n",
    "plt.ylabel('Number of suspects')\n",
    "plt.title('Race distribution of suspects')\n",
    "plt.plot(range(len(categories)), [4895,68984,2554,48320,19284,2733], 'o--', c='red', linewidth=0, markersize=8, label='Expected race distribution according to New York Census 2010')\n",
    "plt.legend(loc='center left', bbox_to_anchor=(1, 0.5))"
   ]
  },
  {
   "cell_type": "code",
   "execution_count": 32,
   "metadata": {},
   "outputs": [
    {
     "data": {
      "text/plain": [
       "BLACK                             74594\n",
       "WHITE HISPANIC                    32845\n",
       "WHITE                             23471\n",
       "BLACK HISPANIC                     9838\n",
       "ASIAN / PACIFIC ISLANDER           5403\n",
       "AMERICAN INDIAN/ALASKAN NATIVE      619\n",
       "OTHER                                 0\n",
       "UNKNOWN                               0\n",
       "Name: SUSP_RACE, dtype: int64"
      ]
     },
     "execution_count": 32,
     "metadata": {},
     "output_type": "execute_result"
    }
   ],
   "source": [
    "demographic4['SUSP_RACE'].value_counts()"
   ]
  },
  {
   "cell_type": "markdown",
   "metadata": {
    "id": "D4eS8TC-5ztf"
   },
   "source": [
    "   \n",
    "<b>Q4 - a </b> From the plot, 19.9% of people are under 25 years old in Germany. German age statistics in wikipedia seem to much that population under 25 are around 22% or the population. is it that simple? what are we missing?\n",
    "<br>"
   ]
  },
  {
   "cell_type": "markdown",
   "metadata": {
    "id": "VUFJrsUq5_SD"
   },
   "source": [
    "<b>Q4 - b)</b>  From the statistics provided, we see there is an almost equal proportion of males and females in Germany, but an analysis of the dataset shows a skew towards males (70% samples in the dataset correspond to males)."
   ]
  },
  {
   "cell_type": "markdown",
   "metadata": {
    "id": "vALYwdGa54a9"
   },
   "source": [
    "### Step 2: Outcome Skews --> Historical Bias"
   ]
  },
  {
   "cell_type": "markdown",
   "metadata": {
    "id": "8KiN6t-HIU0z"
   },
   "source": [
    "<b>Q5: Outcome Skews </b> \n",
    "\n",
    "Is there a skew towards certain groups? Are these groups historically marginalised or at risk of discrimination?:<br>\n",
    "\n",
    "Use any combination of data visualisations, Tables, Textual \"Statistics\" and Textual analysis to address these guiding questions.\n",
    "\n",
    "a) Analyse the dataset, and report the numbers of males/females with bad/good credit. Do the same for \"old\" / \" young\" people in the dataset. Normalise these numbers respectively over the total number of males/females, \"old\"/\"young\" for a fair comparison. For that, you can consider having 50 individuals for each of these groups.\n",
    "\n",
    "b) Briefly describe your findings and explain the impacts (on fairness) of using this dataset as training data (if any)"
   ]
  },
  {
   "cell_type": "markdown",
   "metadata": {
    "id": "Y-JA8YQXIU0z"
   },
   "source": [
    "<div class=\"alert alert-block alert-info\">\n",
    "<b> Tip: </b> We provide a function for Normalised count per attribut and lable you are free to use it or implement your own method \n",
    "    \n",
    "`getNormalizedCount(pd_train_data, protected_attribute, label)`\n",
    "</div>\n",
    "    "
   ]
  },
  {
   "cell_type": "code",
   "execution_count": 33,
   "metadata": {
    "id": "Sa1TYykRIU0z"
   },
   "outputs": [
    {
     "ename": "NameError",
     "evalue": "name 'dataset_gcredit' is not defined",
     "output_type": "error",
     "traceback": [
      "\u001b[1;31m---------------------------------------------------------------------------\u001b[0m",
      "\u001b[1;31mNameError\u001b[0m                                 Traceback (most recent call last)",
      "\u001b[1;32m~\\AppData\\Local\\Temp\\ipykernel_14252\\3391049500.py\u001b[0m in \u001b[0;36m<module>\u001b[1;34m\u001b[0m\n\u001b[0;32m     11\u001b[0m \u001b[1;33m\u001b[0m\u001b[0m\n\u001b[0;32m     12\u001b[0m \u001b[1;31m# add the credit labels to the data set.\u001b[0m\u001b[1;33m\u001b[0m\u001b[1;33m\u001b[0m\u001b[0m\n\u001b[1;32m---> 13\u001b[1;33m \u001b[0mpd_gdata\u001b[0m\u001b[1;33m[\u001b[0m\u001b[1;34m\"credit\"\u001b[0m\u001b[1;33m]\u001b[0m \u001b[1;33m=\u001b[0m \u001b[0mdataset_gcredit\u001b[0m\u001b[1;33m.\u001b[0m\u001b[0mlabels\u001b[0m\u001b[1;33m\u001b[0m\u001b[1;33m\u001b[0m\u001b[0m\n\u001b[0m",
      "\u001b[1;31mNameError\u001b[0m: name 'dataset_gcredit' is not defined"
     ]
    }
   ],
   "source": [
    "# Normalised count per attribut and lable \n",
    "def getNormalizedCount(pd_train_data, protected_attribute, label):\n",
    "    unnormalized_count = pd_train_data[[protected_attribute, label]].value_counts()\n",
    "    counts = {}\n",
    "    for attribute_value in pd_train_data[[protected_attribute]].value_counts().keys():\n",
    "        counts[attribute_value[0]] = pd_train_data[[protected_attribute]].value_counts()[attribute_value]\n",
    "    normalized_count = unnormalized_count[:]\n",
    "    for attribute_value, credit_value in pd_train_data[[protected_attribute, label]].value_counts().keys():\n",
    "        normalized_count[attribute_value, credit_value] = normalized_count[attribute_value, credit_value] * (50 / counts[attribute_value])\n",
    "    return normalized_count\n",
    "\n",
    "# add the credit labels to the data set.\n",
    "pd_gdata[\"credit\"] = dataset_gcredit.labels"
   ]
  },
  {
   "cell_type": "code",
   "execution_count": null,
   "metadata": {
    "id": "VEBa9CquIU00"
   },
   "outputs": [],
   "source": [
    "### YOUR ANSWER HERE ###\n",
    "# ADD code here to print the AGE-CREDIT distribution\n",
    "\n",
    "\n",
    "# ADD code here to print the SEX-CREDIT distribution\n",
    "\n",
    "\n",
    "# ADD code here to visualise the results for both you can use stacked bar plots from pandas toolkit\n",
    "#<your dataframe>.size().unstack().plot(kind='bar', stacked=True)\n"
   ]
  },
  {
   "cell_type": "markdown",
   "metadata": {
    "id": "3w6LFn_TIU00"
   },
   "source": [
    "-"
   ]
  },
  {
   "cell_type": "markdown",
   "metadata": {
    "id": "jGSlGQWFuZIH"
   },
   "source": [
    "<b>Correct Answer:</b>"
   ]
  },
  {
   "cell_type": "markdown",
   "metadata": {
    "id": "u62sRJPqIU00"
   },
   "source": [
    "<div class=\"alert alert-block alert-success\">\n",
    "\n",
    "    \n",
    "<b>Q5 - a)</b> \n",
    "\n",
    "    age  credit\n",
    "\n",
    "    1.0  1.0       36\n",
    "\n",
    "         2.0       13\n",
    "     \n",
    "    0.0  1.0       28\n",
    "\n",
    "         2.0       21\n",
    "\n",
    "    sex  credit\n",
    "    \n",
    "    1.0  1.0       36\n",
    "    0.0  1.0       32\n",
    "    1.0  2.0       13\n",
    "    0.0  2.0       17\n",
    "\n",
    "For both protected attributes, the numbers are unequal. There is a certain bias.\n",
    "Younger applicants tend to receive less positive outcomes than older ones. Male tend to receive more positive outcomes than females.\n",
    "\n",
    "--------------\n",
    "\n",
    "<b>Q5 - b)</b>  In the case where the real-world situation is considered fair, we might consider a classifier trained on this data fair. However, we would need to check whether its outputs indeed reflect these input distributions (this might not be the case when the classifier makes systematic mistakes, as Q5 showed inbalance, it might indeed make mistakes).\n",
    "\n",
    "Often though, the real-world situation is considered unfair (e.g., credit ratings are given depending on some human biases) and hence datasets of historical decisions are unfair. A fair situation would often be if both the protected and unprotected groups have an equal likelihood of getting good/bad credit. Fot instance, there would be 21 good credits out of 50 for both \"old\" and \"young\" people. In such case, a classifier trained on the data we have here would not be considered fair.\n",
    "\n",
    "\n",
    "\n",
    "</div>"
   ]
  },
  {
   "cell_type": "code",
   "execution_count": null,
   "metadata": {
    "id": "LwShxvbtIU00"
   },
   "outputs": [],
   "source": [
    "### YOUR ANSWER HERE ###\n",
    "\n",
    "# The German data set contains 700 instances of good credit, and 300 instances of bad credit. \n",
    "# The good credit has credit value 1, the bad credit has credit value 2\n",
    "\n",
    "# The people over 25 are labeled age == 1, the people under 25 are labeled age == 0\n",
    "# ADD code here to print the AGE-CREDIT distribution\n",
    "protected_attribute = \"age\"\n",
    "label = \"credit\"\n",
    "agecredit = getNormalizedCount(pd_gdata, protected_attribute, label)\n",
    "\n",
    "\n",
    "# The female entries are labeled sex == 0, the male entries are labeled sex == 1\n",
    "# ADD code here to print the SEX-CREDIT distribution\n",
    "protected_attribute = \"sex\"\n",
    "# label = \"credit\" already initialized\n",
    "sexcredit= getNormalizedCount(pd_gdata, protected_attribute, label)\n"
   ]
  },
  {
   "cell_type": "code",
   "execution_count": null,
   "metadata": {
    "colab": {
     "base_uri": "https://localhost:8080/",
     "height": 318
    },
    "id": "qYFDN_fjFsfO",
    "outputId": "a9916f4e-8080-45d0-c846-f82600ea14ae"
   },
   "outputs": [],
   "source": [
    "\n",
    "# Example of overall distrimution\n",
    "#<your data>.size().unstack().plot(kind='bar', stacked=True)\n",
    "pd_gdata.groupby([ \"age\", \"credit\"]).size().unstack().plot(kind='bar', stacked=True)\n",
    "plt.title('overall good and bad credit per age group');\n",
    "plt.xticks(np.arange(0.05, 1, 0.9), labels=['< 25', '>= 25']);\n",
    "plt.xlabel('Age of loan applicants');\n",
    "plt.ylabel('Good/bad credit distribution');\n",
    "plt.legend(['Good credit', 'Bad credit'], loc='lower center');"
   ]
  },
  {
   "cell_type": "code",
   "execution_count": null,
   "metadata": {
    "colab": {
     "base_uri": "https://localhost:8080/",
     "height": 321
    },
    "id": "s5GdGyEtFsQf",
    "outputId": "217f7790-7b15-4b72-a1dc-4b9002304e37"
   },
   "outputs": [],
   "source": [
    "pd_gdata.groupby([ \"sex\", \"credit\"]).size().unstack().plot(kind='bar', stacked=True)\n",
    "\n",
    "plt.title('Overall good and bad credit per sex group');\n",
    "plt.xticks(np.arange(0.05, 1, 0.9), labels=['Female', 'Male']);\n",
    "plt.xlabel('Sex of loan applicants');\n",
    "plt.ylabel('Good/bad credit distribution');\n",
    "plt.legend(['Good credit', 'Bad credit'], loc='lower center');\n"
   ]
  },
  {
   "cell_type": "code",
   "execution_count": null,
   "metadata": {
    "colab": {
     "base_uri": "https://localhost:8080/",
     "height": 422
    },
    "id": "-fmJaioEFr-N",
    "outputId": "0561c700-9099-4384-f817-cdf51a2f7d87"
   },
   "outputs": [],
   "source": [
    "# Example of normalized distribution\n",
    "# ADD code here to visualise the results for both you can use stacked bar plots from pandas toolkit\n",
    "\n",
    "print(agecredit)\n",
    "agecredit.unstack().plot.bar(stacked=True)\n",
    "plt.title('Normalized good and bad credit per age group');\n",
    "plt.xticks(np.arange(0.05, 1, 0.9), labels=['< 25', '>= 25']);\n",
    "plt.xlabel('Age of loan applicants');\n",
    "plt.ylabel('Good/bad credit distribution per 50 individuals');\n",
    "plt.legend(['Good credit', 'Bad credit'], loc='lower center');\n"
   ]
  },
  {
   "cell_type": "code",
   "execution_count": null,
   "metadata": {
    "colab": {
     "base_uri": "https://localhost:8080/",
     "height": 425
    },
    "id": "DreRbxJfFrtj",
    "outputId": "56276f8f-7078-47ed-9a35-8ff4b3a811b5"
   },
   "outputs": [],
   "source": [
    "print(sexcredit)\n",
    "sexcredit.unstack().plot.bar(stacked=True)\n",
    "plt.title('Normalized good and bad credit per sex');\n",
    "plt.xticks(np.arange(0.05, 1, 0.9), labels=['Female', 'Male']);\n",
    "plt.xlabel('Sex of loan applicants');\n",
    "plt.ylabel('Good/bad credit distribution per 50 individuals');\n",
    "plt.legend(['Good credit', 'Bad credit'], loc='lower center');"
   ]
  },
  {
   "cell_type": "markdown",
   "metadata": {
    "id": "54WeKpG7IU00"
   },
   "source": [
    "## Part IV. Discuss Measurement Bias."
   ]
  },
  {
   "cell_type": "markdown",
   "metadata": {
    "id": "0dDQYPp9xcW8"
   },
   "source": [
    "Measurement Biases occur when choosing, collecting, or computing inadequate features and labels to use in a prediction problem. Features and labels are the concrete measurements chosen to approximate some construct (an idea or concept) that is not directly encoded or observable.\n",
    "</br></br>\n",
    "\n",
    "<b>Q6: Reflect on your featuers and lables</b> </br>\n",
    "There is no \"simple\" answer to this question, nor a \"technical\" quick fix. Your reflection and analysis should be contextual and responsible. Use outputs from Lecture 1 and the Responsible Data Guiding Principles from (D’Ignazio & Klein, 2016) to carry out your analysis and identify measurement bias in your data project. In the following, we provide a set of guiding questions that could help you articulate your thoughts and discussion for this type of bias. "
   ]
  },
  {
   "cell_type": "markdown",
   "metadata": {
    "id": "CyOhMfqp0p1M"
   },
   "source": [
    "***Sample of Guiding questions:***\n",
    "\n",
    "a) Are you using inclusive non-harmful featuers and lables? \n",
    "\n",
    "b) Is your dataset making any harmful or discriminatory abstractions.\n",
    "\n",
    "c) Are you using the correct \"proxy\"/\"lable\" to predict the correct \"concept\""
   ]
  },
  {
   "cell_type": "markdown",
   "metadata": {
    "id": "tgIv3sU10Cjp"
   },
   "source": [
    "***Important Note***\n",
    "The german data set is a processed and simplified dataset. It is not obvious what assumptions were made to clean and label the dataset there, for it is hard to identify Measurement Biases in this dataset. It does not mean it is bias-free. On the contrary, this should warn you about using pre-processed, pre-packaged datasets. They are loaded with biases you can not identify and asses\n"
   ]
  },
  {
   "cell_type": "markdown",
   "metadata": {
    "id": "DrEfASxr08pR"
   },
   "source": [
    "## End of the Lab, Well Done!"
   ]
  }
 ],
 "metadata": {
  "colab": {
   "collapsed_sections": [
    "RdR7TjuZIU0z"
   ],
   "provenance": [],
   "toc_visible": true
  },
  "kernelspec": {
   "display_name": "Python 3 (ipykernel)",
   "language": "python",
   "name": "python3"
  },
  "language_info": {
   "codemirror_mode": {
    "name": "ipython",
    "version": 3
   },
   "file_extension": ".py",
   "mimetype": "text/x-python",
   "name": "python",
   "nbconvert_exporter": "python",
   "pygments_lexer": "ipython3",
   "version": "3.9.13"
  },
  "latex_envs": {
   "LaTeX_envs_menu_present": true,
   "autoclose": false,
   "autocomplete": true,
   "bibliofile": "biblio.bib",
   "cite_by": "apalike",
   "current_citInitial": 1,
   "eqLabelWithNumbers": true,
   "eqNumInitial": 1,
   "hotkeys": {
    "equation": "Ctrl-E",
    "itemize": "Ctrl-I"
   },
   "labels_anchors": false,
   "latex_user_defs": false,
   "report_style_numbering": false,
   "user_envs_cfg": false
  },
  "widgets": {
   "application/vnd.jupyter.widget-state+json": {
    "0bea1e056fa8489cb98d92662a19e8c9": {
     "model_module": "@jupyter-widgets/controls",
     "model_module_version": "1.5.0",
     "model_name": "FloatProgressModel",
     "state": {
      "_dom_classes": [],
      "_model_module": "@jupyter-widgets/controls",
      "_model_module_version": "1.5.0",
      "_model_name": "FloatProgressModel",
      "_view_count": null,
      "_view_module": "@jupyter-widgets/controls",
      "_view_module_version": "1.5.0",
      "_view_name": "ProgressView",
      "bar_style": "success",
      "description": "",
      "description_tooltip": null,
      "layout": "IPY_MODEL_e98363ddd5b346c89675f407273152de",
      "max": 1,
      "min": 0,
      "orientation": "horizontal",
      "style": "IPY_MODEL_c439e81821864fa7b425bcfecd50e33a",
      "value": 1
     }
    },
    "0d12ebff1d914d4da47473aeb34961b6": {
     "model_module": "@jupyter-widgets/controls",
     "model_module_version": "1.5.0",
     "model_name": "FloatProgressModel",
     "state": {
      "_dom_classes": [],
      "_model_module": "@jupyter-widgets/controls",
      "_model_module_version": "1.5.0",
      "_model_name": "FloatProgressModel",
      "_view_count": null,
      "_view_module": "@jupyter-widgets/controls",
      "_view_module_version": "1.5.0",
      "_view_name": "ProgressView",
      "bar_style": "success",
      "description": "",
      "description_tooltip": null,
      "layout": "IPY_MODEL_d03438e64952437684d9a0210a209241",
      "max": 1,
      "min": 0,
      "orientation": "horizontal",
      "style": "IPY_MODEL_0e10179f0c4c487aad521af4a44ea341",
      "value": 1
     }
    },
    "0e10179f0c4c487aad521af4a44ea341": {
     "model_module": "@jupyter-widgets/controls",
     "model_module_version": "1.5.0",
     "model_name": "ProgressStyleModel",
     "state": {
      "_model_module": "@jupyter-widgets/controls",
      "_model_module_version": "1.5.0",
      "_model_name": "ProgressStyleModel",
      "_view_count": null,
      "_view_module": "@jupyter-widgets/base",
      "_view_module_version": "1.2.0",
      "_view_name": "StyleView",
      "bar_color": null,
      "description_width": ""
     }
    },
    "2441269e7cff456eb9608783647778ab": {
     "model_module": "@jupyter-widgets/base",
     "model_module_version": "1.2.0",
     "model_name": "LayoutModel",
     "state": {
      "_model_module": "@jupyter-widgets/base",
      "_model_module_version": "1.2.0",
      "_model_name": "LayoutModel",
      "_view_count": null,
      "_view_module": "@jupyter-widgets/base",
      "_view_module_version": "1.2.0",
      "_view_name": "LayoutView",
      "align_content": null,
      "align_items": null,
      "align_self": null,
      "border": null,
      "bottom": null,
      "display": null,
      "flex": null,
      "flex_flow": null,
      "grid_area": null,
      "grid_auto_columns": null,
      "grid_auto_flow": null,
      "grid_auto_rows": null,
      "grid_column": null,
      "grid_gap": null,
      "grid_row": null,
      "grid_template_areas": null,
      "grid_template_columns": null,
      "grid_template_rows": null,
      "height": null,
      "justify_content": null,
      "justify_items": null,
      "left": null,
      "margin": null,
      "max_height": null,
      "max_width": null,
      "min_height": null,
      "min_width": null,
      "object_fit": null,
      "object_position": null,
      "order": null,
      "overflow": null,
      "overflow_x": null,
      "overflow_y": null,
      "padding": null,
      "right": null,
      "top": null,
      "visibility": null,
      "width": null
     }
    },
    "2b835a06bb734c0489c9253d758102dd": {
     "model_module": "@jupyter-widgets/controls",
     "model_module_version": "1.5.0",
     "model_name": "HTMLModel",
     "state": {
      "_dom_classes": [],
      "_model_module": "@jupyter-widgets/controls",
      "_model_module_version": "1.5.0",
      "_model_name": "HTMLModel",
      "_view_count": null,
      "_view_module": "@jupyter-widgets/controls",
      "_view_module_version": "1.5.0",
      "_view_name": "HTMLView",
      "description": "",
      "description_tooltip": null,
      "layout": "IPY_MODEL_f7f82f244cd54009b70a13b3932a70b2",
      "placeholder": "​",
      "style": "IPY_MODEL_80029032a512450a9d0d14fb64f56df1",
      "value": "Summarize dataset: 100%"
     }
    },
    "2f08724e5f7d4c189ad8fbb794549553": {
     "model_module": "@jupyter-widgets/controls",
     "model_module_version": "1.5.0",
     "model_name": "HTMLModel",
     "state": {
      "_dom_classes": [],
      "_model_module": "@jupyter-widgets/controls",
      "_model_module_version": "1.5.0",
      "_model_name": "HTMLModel",
      "_view_count": null,
      "_view_module": "@jupyter-widgets/controls",
      "_view_module_version": "1.5.0",
      "_view_name": "HTMLView",
      "description": "",
      "description_tooltip": null,
      "layout": "IPY_MODEL_f9f124de29ce4814b5a93121bccbe2b1",
      "placeholder": "​",
      "style": "IPY_MODEL_f9aa132feb4945c6b3f2c42b6449c9ea",
      "value": " 1/1 [00:01&lt;00:00,  1.97s/it]"
     }
    },
    "48c8af7fd4e64c0a8b560036d2e4a2cb": {
     "model_module": "@jupyter-widgets/controls",
     "model_module_version": "1.5.0",
     "model_name": "HBoxModel",
     "state": {
      "_dom_classes": [],
      "_model_module": "@jupyter-widgets/controls",
      "_model_module_version": "1.5.0",
      "_model_name": "HBoxModel",
      "_view_count": null,
      "_view_module": "@jupyter-widgets/controls",
      "_view_module_version": "1.5.0",
      "_view_name": "HBoxView",
      "box_style": "",
      "children": [
       "IPY_MODEL_51a07ba38e2f4bd9ab1fbb8e4c4e6955",
       "IPY_MODEL_0bea1e056fa8489cb98d92662a19e8c9",
       "IPY_MODEL_e561c121f47140599b8fba5210323d35"
      ],
      "layout": "IPY_MODEL_e6b030ae3eb8476f9dd8168b9edfd1b3"
     }
    },
    "51a07ba38e2f4bd9ab1fbb8e4c4e6955": {
     "model_module": "@jupyter-widgets/controls",
     "model_module_version": "1.5.0",
     "model_name": "HTMLModel",
     "state": {
      "_dom_classes": [],
      "_model_module": "@jupyter-widgets/controls",
      "_model_module_version": "1.5.0",
      "_model_name": "HTMLModel",
      "_view_count": null,
      "_view_module": "@jupyter-widgets/controls",
      "_view_module_version": "1.5.0",
      "_view_name": "HTMLView",
      "description": "",
      "description_tooltip": null,
      "layout": "IPY_MODEL_5f59427f69fd40e7bdd47a9e864db151",
      "placeholder": "​",
      "style": "IPY_MODEL_8264e140415b4143bf070f472485943f",
      "value": "Generate report structure: 100%"
     }
    },
    "52fe6170a08241dda27842240cfc3fdb": {
     "model_module": "@jupyter-widgets/controls",
     "model_module_version": "1.5.0",
     "model_name": "DescriptionStyleModel",
     "state": {
      "_model_module": "@jupyter-widgets/controls",
      "_model_module_version": "1.5.0",
      "_model_name": "DescriptionStyleModel",
      "_view_count": null,
      "_view_module": "@jupyter-widgets/base",
      "_view_module_version": "1.2.0",
      "_view_name": "StyleView",
      "description_width": ""
     }
    },
    "57ee6c3f6d154eb2a6db2e8736b8969a": {
     "model_module": "@jupyter-widgets/base",
     "model_module_version": "1.2.0",
     "model_name": "LayoutModel",
     "state": {
      "_model_module": "@jupyter-widgets/base",
      "_model_module_version": "1.2.0",
      "_model_name": "LayoutModel",
      "_view_count": null,
      "_view_module": "@jupyter-widgets/base",
      "_view_module_version": "1.2.0",
      "_view_name": "LayoutView",
      "align_content": null,
      "align_items": null,
      "align_self": null,
      "border": null,
      "bottom": null,
      "display": null,
      "flex": null,
      "flex_flow": null,
      "grid_area": null,
      "grid_auto_columns": null,
      "grid_auto_flow": null,
      "grid_auto_rows": null,
      "grid_column": null,
      "grid_gap": null,
      "grid_row": null,
      "grid_template_areas": null,
      "grid_template_columns": null,
      "grid_template_rows": null,
      "height": null,
      "justify_content": null,
      "justify_items": null,
      "left": null,
      "margin": null,
      "max_height": null,
      "max_width": null,
      "min_height": null,
      "min_width": null,
      "object_fit": null,
      "object_position": null,
      "order": null,
      "overflow": null,
      "overflow_x": null,
      "overflow_y": null,
      "padding": null,
      "right": null,
      "top": null,
      "visibility": null,
      "width": null
     }
    },
    "5f59427f69fd40e7bdd47a9e864db151": {
     "model_module": "@jupyter-widgets/base",
     "model_module_version": "1.2.0",
     "model_name": "LayoutModel",
     "state": {
      "_model_module": "@jupyter-widgets/base",
      "_model_module_version": "1.2.0",
      "_model_name": "LayoutModel",
      "_view_count": null,
      "_view_module": "@jupyter-widgets/base",
      "_view_module_version": "1.2.0",
      "_view_name": "LayoutView",
      "align_content": null,
      "align_items": null,
      "align_self": null,
      "border": null,
      "bottom": null,
      "display": null,
      "flex": null,
      "flex_flow": null,
      "grid_area": null,
      "grid_auto_columns": null,
      "grid_auto_flow": null,
      "grid_auto_rows": null,
      "grid_column": null,
      "grid_gap": null,
      "grid_row": null,
      "grid_template_areas": null,
      "grid_template_columns": null,
      "grid_template_rows": null,
      "height": null,
      "justify_content": null,
      "justify_items": null,
      "left": null,
      "margin": null,
      "max_height": null,
      "max_width": null,
      "min_height": null,
      "min_width": null,
      "object_fit": null,
      "object_position": null,
      "order": null,
      "overflow": null,
      "overflow_x": null,
      "overflow_y": null,
      "padding": null,
      "right": null,
      "top": null,
      "visibility": null,
      "width": null
     }
    },
    "70aa333dc85040ddb54701e22237b44c": {
     "model_module": "@jupyter-widgets/controls",
     "model_module_version": "1.5.0",
     "model_name": "FloatProgressModel",
     "state": {
      "_dom_classes": [],
      "_model_module": "@jupyter-widgets/controls",
      "_model_module_version": "1.5.0",
      "_model_name": "FloatProgressModel",
      "_view_count": null,
      "_view_module": "@jupyter-widgets/controls",
      "_view_module_version": "1.5.0",
      "_view_name": "ProgressView",
      "bar_style": "success",
      "description": "",
      "description_tooltip": null,
      "layout": "IPY_MODEL_9ad87a3abaaf4082b86b56627880b635",
      "max": 5,
      "min": 0,
      "orientation": "horizontal",
      "style": "IPY_MODEL_7563480aed5643edada28cc9a494758a",
      "value": 5
     }
    },
    "7563480aed5643edada28cc9a494758a": {
     "model_module": "@jupyter-widgets/controls",
     "model_module_version": "1.5.0",
     "model_name": "ProgressStyleModel",
     "state": {
      "_model_module": "@jupyter-widgets/controls",
      "_model_module_version": "1.5.0",
      "_model_name": "ProgressStyleModel",
      "_view_count": null,
      "_view_module": "@jupyter-widgets/base",
      "_view_module_version": "1.2.0",
      "_view_name": "StyleView",
      "bar_color": null,
      "description_width": ""
     }
    },
    "7e30da3161c8479dbb1b9ff3f26c7ea6": {
     "model_module": "@jupyter-widgets/base",
     "model_module_version": "1.2.0",
     "model_name": "LayoutModel",
     "state": {
      "_model_module": "@jupyter-widgets/base",
      "_model_module_version": "1.2.0",
      "_model_name": "LayoutModel",
      "_view_count": null,
      "_view_module": "@jupyter-widgets/base",
      "_view_module_version": "1.2.0",
      "_view_name": "LayoutView",
      "align_content": null,
      "align_items": null,
      "align_self": null,
      "border": null,
      "bottom": null,
      "display": null,
      "flex": null,
      "flex_flow": null,
      "grid_area": null,
      "grid_auto_columns": null,
      "grid_auto_flow": null,
      "grid_auto_rows": null,
      "grid_column": null,
      "grid_gap": null,
      "grid_row": null,
      "grid_template_areas": null,
      "grid_template_columns": null,
      "grid_template_rows": null,
      "height": null,
      "justify_content": null,
      "justify_items": null,
      "left": null,
      "margin": null,
      "max_height": null,
      "max_width": null,
      "min_height": null,
      "min_width": null,
      "object_fit": null,
      "object_position": null,
      "order": null,
      "overflow": null,
      "overflow_x": null,
      "overflow_y": null,
      "padding": null,
      "right": null,
      "top": null,
      "visibility": null,
      "width": null
     }
    },
    "80029032a512450a9d0d14fb64f56df1": {
     "model_module": "@jupyter-widgets/controls",
     "model_module_version": "1.5.0",
     "model_name": "DescriptionStyleModel",
     "state": {
      "_model_module": "@jupyter-widgets/controls",
      "_model_module_version": "1.5.0",
      "_model_name": "DescriptionStyleModel",
      "_view_count": null,
      "_view_module": "@jupyter-widgets/base",
      "_view_module_version": "1.2.0",
      "_view_name": "StyleView",
      "description_width": ""
     }
    },
    "81b2b1b5a8f542e7a847cdbed3788f0a": {
     "model_module": "@jupyter-widgets/controls",
     "model_module_version": "1.5.0",
     "model_name": "DescriptionStyleModel",
     "state": {
      "_model_module": "@jupyter-widgets/controls",
      "_model_module_version": "1.5.0",
      "_model_name": "DescriptionStyleModel",
      "_view_count": null,
      "_view_module": "@jupyter-widgets/base",
      "_view_module_version": "1.2.0",
      "_view_name": "StyleView",
      "description_width": ""
     }
    },
    "8264e140415b4143bf070f472485943f": {
     "model_module": "@jupyter-widgets/controls",
     "model_module_version": "1.5.0",
     "model_name": "DescriptionStyleModel",
     "state": {
      "_model_module": "@jupyter-widgets/controls",
      "_model_module_version": "1.5.0",
      "_model_name": "DescriptionStyleModel",
      "_view_count": null,
      "_view_module": "@jupyter-widgets/base",
      "_view_module_version": "1.2.0",
      "_view_name": "StyleView",
      "description_width": ""
     }
    },
    "9ad87a3abaaf4082b86b56627880b635": {
     "model_module": "@jupyter-widgets/base",
     "model_module_version": "1.2.0",
     "model_name": "LayoutModel",
     "state": {
      "_model_module": "@jupyter-widgets/base",
      "_model_module_version": "1.2.0",
      "_model_name": "LayoutModel",
      "_view_count": null,
      "_view_module": "@jupyter-widgets/base",
      "_view_module_version": "1.2.0",
      "_view_name": "LayoutView",
      "align_content": null,
      "align_items": null,
      "align_self": null,
      "border": null,
      "bottom": null,
      "display": null,
      "flex": null,
      "flex_flow": null,
      "grid_area": null,
      "grid_auto_columns": null,
      "grid_auto_flow": null,
      "grid_auto_rows": null,
      "grid_column": null,
      "grid_gap": null,
      "grid_row": null,
      "grid_template_areas": null,
      "grid_template_columns": null,
      "grid_template_rows": null,
      "height": null,
      "justify_content": null,
      "justify_items": null,
      "left": null,
      "margin": null,
      "max_height": null,
      "max_width": null,
      "min_height": null,
      "min_width": null,
      "object_fit": null,
      "object_position": null,
      "order": null,
      "overflow": null,
      "overflow_x": null,
      "overflow_y": null,
      "padding": null,
      "right": null,
      "top": null,
      "visibility": null,
      "width": null
     }
    },
    "b4ce2f9ba9ed48d8a3d763c04b9ca62f": {
     "model_module": "@jupyter-widgets/controls",
     "model_module_version": "1.5.0",
     "model_name": "HBoxModel",
     "state": {
      "_dom_classes": [],
      "_model_module": "@jupyter-widgets/controls",
      "_model_module_version": "1.5.0",
      "_model_name": "HBoxModel",
      "_view_count": null,
      "_view_module": "@jupyter-widgets/controls",
      "_view_module_version": "1.5.0",
      "_view_name": "HBoxView",
      "box_style": "",
      "children": [
       "IPY_MODEL_2b835a06bb734c0489c9253d758102dd",
       "IPY_MODEL_70aa333dc85040ddb54701e22237b44c",
       "IPY_MODEL_d98ff9b75e1144f086ae846c0b1135f3"
      ],
      "layout": "IPY_MODEL_bcca681a5e0b43b3acd0923be98768c7"
     }
    },
    "b773448647d844a6aa82c21bf40a043c": {
     "model_module": "@jupyter-widgets/base",
     "model_module_version": "1.2.0",
     "model_name": "LayoutModel",
     "state": {
      "_model_module": "@jupyter-widgets/base",
      "_model_module_version": "1.2.0",
      "_model_name": "LayoutModel",
      "_view_count": null,
      "_view_module": "@jupyter-widgets/base",
      "_view_module_version": "1.2.0",
      "_view_name": "LayoutView",
      "align_content": null,
      "align_items": null,
      "align_self": null,
      "border": null,
      "bottom": null,
      "display": null,
      "flex": null,
      "flex_flow": null,
      "grid_area": null,
      "grid_auto_columns": null,
      "grid_auto_flow": null,
      "grid_auto_rows": null,
      "grid_column": null,
      "grid_gap": null,
      "grid_row": null,
      "grid_template_areas": null,
      "grid_template_columns": null,
      "grid_template_rows": null,
      "height": null,
      "justify_content": null,
      "justify_items": null,
      "left": null,
      "margin": null,
      "max_height": null,
      "max_width": null,
      "min_height": null,
      "min_width": null,
      "object_fit": null,
      "object_position": null,
      "order": null,
      "overflow": null,
      "overflow_x": null,
      "overflow_y": null,
      "padding": null,
      "right": null,
      "top": null,
      "visibility": null,
      "width": null
     }
    },
    "bcca681a5e0b43b3acd0923be98768c7": {
     "model_module": "@jupyter-widgets/base",
     "model_module_version": "1.2.0",
     "model_name": "LayoutModel",
     "state": {
      "_model_module": "@jupyter-widgets/base",
      "_model_module_version": "1.2.0",
      "_model_name": "LayoutModel",
      "_view_count": null,
      "_view_module": "@jupyter-widgets/base",
      "_view_module_version": "1.2.0",
      "_view_name": "LayoutView",
      "align_content": null,
      "align_items": null,
      "align_self": null,
      "border": null,
      "bottom": null,
      "display": null,
      "flex": null,
      "flex_flow": null,
      "grid_area": null,
      "grid_auto_columns": null,
      "grid_auto_flow": null,
      "grid_auto_rows": null,
      "grid_column": null,
      "grid_gap": null,
      "grid_row": null,
      "grid_template_areas": null,
      "grid_template_columns": null,
      "grid_template_rows": null,
      "height": null,
      "justify_content": null,
      "justify_items": null,
      "left": null,
      "margin": null,
      "max_height": null,
      "max_width": null,
      "min_height": null,
      "min_width": null,
      "object_fit": null,
      "object_position": null,
      "order": null,
      "overflow": null,
      "overflow_x": null,
      "overflow_y": null,
      "padding": null,
      "right": null,
      "top": null,
      "visibility": null,
      "width": null
     }
    },
    "be0e80b5fb8e4ed38eb8fb731b41da75": {
     "model_module": "@jupyter-widgets/controls",
     "model_module_version": "1.5.0",
     "model_name": "HTMLModel",
     "state": {
      "_dom_classes": [],
      "_model_module": "@jupyter-widgets/controls",
      "_model_module_version": "1.5.0",
      "_model_name": "HTMLModel",
      "_view_count": null,
      "_view_module": "@jupyter-widgets/controls",
      "_view_module_version": "1.5.0",
      "_view_name": "HTMLView",
      "description": "",
      "description_tooltip": null,
      "layout": "IPY_MODEL_b773448647d844a6aa82c21bf40a043c",
      "placeholder": "​",
      "style": "IPY_MODEL_52fe6170a08241dda27842240cfc3fdb",
      "value": "Render HTML: 100%"
     }
    },
    "c439e81821864fa7b425bcfecd50e33a": {
     "model_module": "@jupyter-widgets/controls",
     "model_module_version": "1.5.0",
     "model_name": "ProgressStyleModel",
     "state": {
      "_model_module": "@jupyter-widgets/controls",
      "_model_module_version": "1.5.0",
      "_model_name": "ProgressStyleModel",
      "_view_count": null,
      "_view_module": "@jupyter-widgets/base",
      "_view_module_version": "1.2.0",
      "_view_name": "StyleView",
      "bar_color": null,
      "description_width": ""
     }
    },
    "c8c443859bc0422b82767aa7719c1bb0": {
     "model_module": "@jupyter-widgets/controls",
     "model_module_version": "1.5.0",
     "model_name": "HBoxModel",
     "state": {
      "_dom_classes": [],
      "_model_module": "@jupyter-widgets/controls",
      "_model_module_version": "1.5.0",
      "_model_name": "HBoxModel",
      "_view_count": null,
      "_view_module": "@jupyter-widgets/controls",
      "_view_module_version": "1.5.0",
      "_view_name": "HBoxView",
      "box_style": "",
      "children": [
       "IPY_MODEL_be0e80b5fb8e4ed38eb8fb731b41da75",
       "IPY_MODEL_0d12ebff1d914d4da47473aeb34961b6",
       "IPY_MODEL_2f08724e5f7d4c189ad8fbb794549553"
      ],
      "layout": "IPY_MODEL_7e30da3161c8479dbb1b9ff3f26c7ea6"
     }
    },
    "c981e7ce6cce46ef91cb377b625653b8": {
     "model_module": "@jupyter-widgets/controls",
     "model_module_version": "1.5.0",
     "model_name": "DescriptionStyleModel",
     "state": {
      "_model_module": "@jupyter-widgets/controls",
      "_model_module_version": "1.5.0",
      "_model_name": "DescriptionStyleModel",
      "_view_count": null,
      "_view_module": "@jupyter-widgets/base",
      "_view_module_version": "1.2.0",
      "_view_name": "StyleView",
      "description_width": ""
     }
    },
    "d03438e64952437684d9a0210a209241": {
     "model_module": "@jupyter-widgets/base",
     "model_module_version": "1.2.0",
     "model_name": "LayoutModel",
     "state": {
      "_model_module": "@jupyter-widgets/base",
      "_model_module_version": "1.2.0",
      "_model_name": "LayoutModel",
      "_view_count": null,
      "_view_module": "@jupyter-widgets/base",
      "_view_module_version": "1.2.0",
      "_view_name": "LayoutView",
      "align_content": null,
      "align_items": null,
      "align_self": null,
      "border": null,
      "bottom": null,
      "display": null,
      "flex": null,
      "flex_flow": null,
      "grid_area": null,
      "grid_auto_columns": null,
      "grid_auto_flow": null,
      "grid_auto_rows": null,
      "grid_column": null,
      "grid_gap": null,
      "grid_row": null,
      "grid_template_areas": null,
      "grid_template_columns": null,
      "grid_template_rows": null,
      "height": null,
      "justify_content": null,
      "justify_items": null,
      "left": null,
      "margin": null,
      "max_height": null,
      "max_width": null,
      "min_height": null,
      "min_width": null,
      "object_fit": null,
      "object_position": null,
      "order": null,
      "overflow": null,
      "overflow_x": null,
      "overflow_y": null,
      "padding": null,
      "right": null,
      "top": null,
      "visibility": null,
      "width": null
     }
    },
    "d98ff9b75e1144f086ae846c0b1135f3": {
     "model_module": "@jupyter-widgets/controls",
     "model_module_version": "1.5.0",
     "model_name": "HTMLModel",
     "state": {
      "_dom_classes": [],
      "_model_module": "@jupyter-widgets/controls",
      "_model_module_version": "1.5.0",
      "_model_name": "HTMLModel",
      "_view_count": null,
      "_view_module": "@jupyter-widgets/controls",
      "_view_module_version": "1.5.0",
      "_view_name": "HTMLView",
      "description": "",
      "description_tooltip": null,
      "layout": "IPY_MODEL_57ee6c3f6d154eb2a6db2e8736b8969a",
      "placeholder": "​",
      "style": "IPY_MODEL_81b2b1b5a8f542e7a847cdbed3788f0a",
      "value": " 57/57 [00:31&lt;00:00,  1.63s/it, Completed]"
     }
    },
    "e561c121f47140599b8fba5210323d35": {
     "model_module": "@jupyter-widgets/controls",
     "model_module_version": "1.5.0",
     "model_name": "HTMLModel",
     "state": {
      "_dom_classes": [],
      "_model_module": "@jupyter-widgets/controls",
      "_model_module_version": "1.5.0",
      "_model_name": "HTMLModel",
      "_view_count": null,
      "_view_module": "@jupyter-widgets/controls",
      "_view_module_version": "1.5.0",
      "_view_name": "HTMLView",
      "description": "",
      "description_tooltip": null,
      "layout": "IPY_MODEL_2441269e7cff456eb9608783647778ab",
      "placeholder": "​",
      "style": "IPY_MODEL_c981e7ce6cce46ef91cb377b625653b8",
      "value": " 1/1 [00:17&lt;00:00, 17.55s/it]"
     }
    },
    "e6b030ae3eb8476f9dd8168b9edfd1b3": {
     "model_module": "@jupyter-widgets/base",
     "model_module_version": "1.2.0",
     "model_name": "LayoutModel",
     "state": {
      "_model_module": "@jupyter-widgets/base",
      "_model_module_version": "1.2.0",
      "_model_name": "LayoutModel",
      "_view_count": null,
      "_view_module": "@jupyter-widgets/base",
      "_view_module_version": "1.2.0",
      "_view_name": "LayoutView",
      "align_content": null,
      "align_items": null,
      "align_self": null,
      "border": null,
      "bottom": null,
      "display": null,
      "flex": null,
      "flex_flow": null,
      "grid_area": null,
      "grid_auto_columns": null,
      "grid_auto_flow": null,
      "grid_auto_rows": null,
      "grid_column": null,
      "grid_gap": null,
      "grid_row": null,
      "grid_template_areas": null,
      "grid_template_columns": null,
      "grid_template_rows": null,
      "height": null,
      "justify_content": null,
      "justify_items": null,
      "left": null,
      "margin": null,
      "max_height": null,
      "max_width": null,
      "min_height": null,
      "min_width": null,
      "object_fit": null,
      "object_position": null,
      "order": null,
      "overflow": null,
      "overflow_x": null,
      "overflow_y": null,
      "padding": null,
      "right": null,
      "top": null,
      "visibility": null,
      "width": null
     }
    },
    "e98363ddd5b346c89675f407273152de": {
     "model_module": "@jupyter-widgets/base",
     "model_module_version": "1.2.0",
     "model_name": "LayoutModel",
     "state": {
      "_model_module": "@jupyter-widgets/base",
      "_model_module_version": "1.2.0",
      "_model_name": "LayoutModel",
      "_view_count": null,
      "_view_module": "@jupyter-widgets/base",
      "_view_module_version": "1.2.0",
      "_view_name": "LayoutView",
      "align_content": null,
      "align_items": null,
      "align_self": null,
      "border": null,
      "bottom": null,
      "display": null,
      "flex": null,
      "flex_flow": null,
      "grid_area": null,
      "grid_auto_columns": null,
      "grid_auto_flow": null,
      "grid_auto_rows": null,
      "grid_column": null,
      "grid_gap": null,
      "grid_row": null,
      "grid_template_areas": null,
      "grid_template_columns": null,
      "grid_template_rows": null,
      "height": null,
      "justify_content": null,
      "justify_items": null,
      "left": null,
      "margin": null,
      "max_height": null,
      "max_width": null,
      "min_height": null,
      "min_width": null,
      "object_fit": null,
      "object_position": null,
      "order": null,
      "overflow": null,
      "overflow_x": null,
      "overflow_y": null,
      "padding": null,
      "right": null,
      "top": null,
      "visibility": null,
      "width": null
     }
    },
    "f7f82f244cd54009b70a13b3932a70b2": {
     "model_module": "@jupyter-widgets/base",
     "model_module_version": "1.2.0",
     "model_name": "LayoutModel",
     "state": {
      "_model_module": "@jupyter-widgets/base",
      "_model_module_version": "1.2.0",
      "_model_name": "LayoutModel",
      "_view_count": null,
      "_view_module": "@jupyter-widgets/base",
      "_view_module_version": "1.2.0",
      "_view_name": "LayoutView",
      "align_content": null,
      "align_items": null,
      "align_self": null,
      "border": null,
      "bottom": null,
      "display": null,
      "flex": null,
      "flex_flow": null,
      "grid_area": null,
      "grid_auto_columns": null,
      "grid_auto_flow": null,
      "grid_auto_rows": null,
      "grid_column": null,
      "grid_gap": null,
      "grid_row": null,
      "grid_template_areas": null,
      "grid_template_columns": null,
      "grid_template_rows": null,
      "height": null,
      "justify_content": null,
      "justify_items": null,
      "left": null,
      "margin": null,
      "max_height": null,
      "max_width": null,
      "min_height": null,
      "min_width": null,
      "object_fit": null,
      "object_position": null,
      "order": null,
      "overflow": null,
      "overflow_x": null,
      "overflow_y": null,
      "padding": null,
      "right": null,
      "top": null,
      "visibility": null,
      "width": null
     }
    },
    "f9aa132feb4945c6b3f2c42b6449c9ea": {
     "model_module": "@jupyter-widgets/controls",
     "model_module_version": "1.5.0",
     "model_name": "DescriptionStyleModel",
     "state": {
      "_model_module": "@jupyter-widgets/controls",
      "_model_module_version": "1.5.0",
      "_model_name": "DescriptionStyleModel",
      "_view_count": null,
      "_view_module": "@jupyter-widgets/base",
      "_view_module_version": "1.2.0",
      "_view_name": "StyleView",
      "description_width": ""
     }
    },
    "f9f124de29ce4814b5a93121bccbe2b1": {
     "model_module": "@jupyter-widgets/base",
     "model_module_version": "1.2.0",
     "model_name": "LayoutModel",
     "state": {
      "_model_module": "@jupyter-widgets/base",
      "_model_module_version": "1.2.0",
      "_model_name": "LayoutModel",
      "_view_count": null,
      "_view_module": "@jupyter-widgets/base",
      "_view_module_version": "1.2.0",
      "_view_name": "LayoutView",
      "align_content": null,
      "align_items": null,
      "align_self": null,
      "border": null,
      "bottom": null,
      "display": null,
      "flex": null,
      "flex_flow": null,
      "grid_area": null,
      "grid_auto_columns": null,
      "grid_auto_flow": null,
      "grid_auto_rows": null,
      "grid_column": null,
      "grid_gap": null,
      "grid_row": null,
      "grid_template_areas": null,
      "grid_template_columns": null,
      "grid_template_rows": null,
      "height": null,
      "justify_content": null,
      "justify_items": null,
      "left": null,
      "margin": null,
      "max_height": null,
      "max_width": null,
      "min_height": null,
      "min_width": null,
      "object_fit": null,
      "object_position": null,
      "order": null,
      "overflow": null,
      "overflow_x": null,
      "overflow_y": null,
      "padding": null,
      "right": null,
      "top": null,
      "visibility": null,
      "width": null
     }
    }
   }
  }
 },
 "nbformat": 4,
 "nbformat_minor": 1
}
