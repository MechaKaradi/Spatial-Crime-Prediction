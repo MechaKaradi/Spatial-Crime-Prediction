{
 "cells": [
  {
   "cell_type": "code",
   "execution_count": 2,
   "metadata": {
    "collapsed": true
   },
   "outputs": [],
   "source": [
    "import altair as alt\n",
    "import pandas as pd"
   ]
  },
  {
   "cell_type": "code",
   "execution_count": 3,
   "outputs": [
    {
     "data": {
      "text/plain": "   CMPLNT_NUM CMPLNT_FR_DT CMPLNT_FR_TM CMPLNT_TO_DT CMPLNT_TO_TM  \\\n0   506547392   03/29/2018     20:30:00          NaN          NaN   \n1   629632833   02/06/2018     23:15:00          NaN          NaN   \n2   787203902   11/21/2018     00:15:00   11/21/2018     00:20:00   \n3   280364018   06/09/2018     21:42:00   06/09/2018     21:43:00   \n4   985800320   11/10/2018     19:40:00   11/10/2018     19:45:00   \n\n   ADDR_PCT_CD     RPT_DT  KY_CD                       OFNS_DESC  PD_CD  ...  \\\n0         32.0 2018-03-30    351  CRIMINAL MISCHIEF & RELATED OF  254.0  ...   \n1         52.0 2018-02-07    341                   PETIT LARCENY  333.0  ...   \n2         75.0 2018-11-21    341                   PETIT LARCENY  321.0  ...   \n3         10.0 2018-06-10    361   OFF. AGNST PUB ORD SENSBLTY &  639.0  ...   \n4         19.0 2018-11-10    341                   PETIT LARCENY  333.0  ...   \n\n    Latitude  Longitude                        Lat_Lon  \\\n0  40.810877 -73.941064  (40.810877241, -73.941064151)   \n1  40.873671 -73.908014  (40.873671035, -73.908013649)   \n2  40.651782 -73.885457  (40.651782232, -73.885456761)   \n3  40.759310 -73.994706  (40.759310399, -73.994706072)   \n4  40.764536 -73.970728  (40.764535539, -73.970728388)   \n\n               PATROL_BORO STATION_NAME VIC_AGE_GROUP        VIC_RACE  \\\n0    PATROL BORO MAN NORTH          NaN         25-44           WHITE   \n1        PATROL BORO BRONX          NaN       UNKNOWN         UNKNOWN   \n2  PATROL BORO BKLYN NORTH          NaN       UNKNOWN         UNKNOWN   \n3    PATROL BORO MAN SOUTH          NaN         18-24  WHITE HISPANIC   \n4    PATROL BORO MAN NORTH          NaN       UNKNOWN         UNKNOWN   \n\n   VIC_SEX                  OCC              OCC_END  \n0        F  03/29/2018 20:30:00                  NaN  \n1        D  02/06/2018 23:15:00                  NaN  \n2        D  11/21/2018 00:15:00  11/21/2018 00:20:00  \n3        F  06/09/2018 21:42:00  06/09/2018 21:43:00  \n4        D  11/10/2018 19:40:00  11/10/2018 19:45:00  \n\n[5 rows x 37 columns]",
      "text/html": "<div>\n<style scoped>\n    .dataframe tbody tr th:only-of-type {\n        vertical-align: middle;\n    }\n\n    .dataframe tbody tr th {\n        vertical-align: top;\n    }\n\n    .dataframe thead th {\n        text-align: right;\n    }\n</style>\n<table border=\"1\" class=\"dataframe\">\n  <thead>\n    <tr style=\"text-align: right;\">\n      <th></th>\n      <th>CMPLNT_NUM</th>\n      <th>CMPLNT_FR_DT</th>\n      <th>CMPLNT_FR_TM</th>\n      <th>CMPLNT_TO_DT</th>\n      <th>CMPLNT_TO_TM</th>\n      <th>ADDR_PCT_CD</th>\n      <th>RPT_DT</th>\n      <th>KY_CD</th>\n      <th>OFNS_DESC</th>\n      <th>PD_CD</th>\n      <th>...</th>\n      <th>Latitude</th>\n      <th>Longitude</th>\n      <th>Lat_Lon</th>\n      <th>PATROL_BORO</th>\n      <th>STATION_NAME</th>\n      <th>VIC_AGE_GROUP</th>\n      <th>VIC_RACE</th>\n      <th>VIC_SEX</th>\n      <th>OCC</th>\n      <th>OCC_END</th>\n    </tr>\n  </thead>\n  <tbody>\n    <tr>\n      <th>0</th>\n      <td>506547392</td>\n      <td>03/29/2018</td>\n      <td>20:30:00</td>\n      <td>NaN</td>\n      <td>NaN</td>\n      <td>32.0</td>\n      <td>2018-03-30</td>\n      <td>351</td>\n      <td>CRIMINAL MISCHIEF &amp; RELATED OF</td>\n      <td>254.0</td>\n      <td>...</td>\n      <td>40.810877</td>\n      <td>-73.941064</td>\n      <td>(40.810877241, -73.941064151)</td>\n      <td>PATROL BORO MAN NORTH</td>\n      <td>NaN</td>\n      <td>25-44</td>\n      <td>WHITE</td>\n      <td>F</td>\n      <td>03/29/2018 20:30:00</td>\n      <td>NaN</td>\n    </tr>\n    <tr>\n      <th>1</th>\n      <td>629632833</td>\n      <td>02/06/2018</td>\n      <td>23:15:00</td>\n      <td>NaN</td>\n      <td>NaN</td>\n      <td>52.0</td>\n      <td>2018-02-07</td>\n      <td>341</td>\n      <td>PETIT LARCENY</td>\n      <td>333.0</td>\n      <td>...</td>\n      <td>40.873671</td>\n      <td>-73.908014</td>\n      <td>(40.873671035, -73.908013649)</td>\n      <td>PATROL BORO BRONX</td>\n      <td>NaN</td>\n      <td>UNKNOWN</td>\n      <td>UNKNOWN</td>\n      <td>D</td>\n      <td>02/06/2018 23:15:00</td>\n      <td>NaN</td>\n    </tr>\n    <tr>\n      <th>2</th>\n      <td>787203902</td>\n      <td>11/21/2018</td>\n      <td>00:15:00</td>\n      <td>11/21/2018</td>\n      <td>00:20:00</td>\n      <td>75.0</td>\n      <td>2018-11-21</td>\n      <td>341</td>\n      <td>PETIT LARCENY</td>\n      <td>321.0</td>\n      <td>...</td>\n      <td>40.651782</td>\n      <td>-73.885457</td>\n      <td>(40.651782232, -73.885456761)</td>\n      <td>PATROL BORO BKLYN NORTH</td>\n      <td>NaN</td>\n      <td>UNKNOWN</td>\n      <td>UNKNOWN</td>\n      <td>D</td>\n      <td>11/21/2018 00:15:00</td>\n      <td>11/21/2018 00:20:00</td>\n    </tr>\n    <tr>\n      <th>3</th>\n      <td>280364018</td>\n      <td>06/09/2018</td>\n      <td>21:42:00</td>\n      <td>06/09/2018</td>\n      <td>21:43:00</td>\n      <td>10.0</td>\n      <td>2018-06-10</td>\n      <td>361</td>\n      <td>OFF. AGNST PUB ORD SENSBLTY &amp;</td>\n      <td>639.0</td>\n      <td>...</td>\n      <td>40.759310</td>\n      <td>-73.994706</td>\n      <td>(40.759310399, -73.994706072)</td>\n      <td>PATROL BORO MAN SOUTH</td>\n      <td>NaN</td>\n      <td>18-24</td>\n      <td>WHITE HISPANIC</td>\n      <td>F</td>\n      <td>06/09/2018 21:42:00</td>\n      <td>06/09/2018 21:43:00</td>\n    </tr>\n    <tr>\n      <th>4</th>\n      <td>985800320</td>\n      <td>11/10/2018</td>\n      <td>19:40:00</td>\n      <td>11/10/2018</td>\n      <td>19:45:00</td>\n      <td>19.0</td>\n      <td>2018-11-10</td>\n      <td>341</td>\n      <td>PETIT LARCENY</td>\n      <td>333.0</td>\n      <td>...</td>\n      <td>40.764536</td>\n      <td>-73.970728</td>\n      <td>(40.764535539, -73.970728388)</td>\n      <td>PATROL BORO MAN NORTH</td>\n      <td>NaN</td>\n      <td>UNKNOWN</td>\n      <td>UNKNOWN</td>\n      <td>D</td>\n      <td>11/10/2018 19:40:00</td>\n      <td>11/10/2018 19:45:00</td>\n    </tr>\n  </tbody>\n</table>\n<p>5 rows × 37 columns</p>\n</div>"
     },
     "execution_count": 3,
     "metadata": {},
     "output_type": "execute_result"
    }
   ],
   "source": [
    "import pickle\n",
    "\n",
    "with open('data.pickle', 'rb') as f:\n",
    "    data = pickle.load(f, encoding='binary')\n",
    "\n",
    "data.head(5)"
   ],
   "metadata": {
    "collapsed": false
   }
  },
  {
   "cell_type": "code",
   "execution_count": 4,
   "outputs": [
    {
     "name": "stdout",
     "output_type": "stream",
     "text": [
      "<class 'pandas.core.frame.DataFrame'>\n",
      "RangeIndex: 7825499 entries, 0 to 7825498\n",
      "Data columns (total 37 columns):\n",
      " #   Column             Dtype         \n",
      "---  ------             -----         \n",
      " 0   CMPLNT_NUM         int64         \n",
      " 1   CMPLNT_FR_DT       object        \n",
      " 2   CMPLNT_FR_TM       object        \n",
      " 3   CMPLNT_TO_DT       object        \n",
      " 4   CMPLNT_TO_TM       object        \n",
      " 5   ADDR_PCT_CD        float64       \n",
      " 6   RPT_DT             datetime64[ns]\n",
      " 7   KY_CD              int64         \n",
      " 8   OFNS_DESC          object        \n",
      " 9   PD_CD              float64       \n",
      " 10  PD_DESC            object        \n",
      " 11  CRM_ATPT_CPTD_CD   object        \n",
      " 12  LAW_CAT_CD         object        \n",
      " 13  BORO_NM            object        \n",
      " 14  LOC_OF_OCCUR_DESC  object        \n",
      " 15  PREM_TYP_DESC      object        \n",
      " 16  JURIS_DESC         object        \n",
      " 17  JURISDICTION_CODE  float64       \n",
      " 18  PARKS_NM           object        \n",
      " 19  HADEVELOPT         object        \n",
      " 20  HOUSING_PSA        object        \n",
      " 21  X_COORD_CD         float64       \n",
      " 22  Y_COORD_CD         float64       \n",
      " 23  SUSP_AGE_GROUP     object        \n",
      " 24  SUSP_RACE          object        \n",
      " 25  SUSP_SEX           object        \n",
      " 26  TRANSIT_DISTRICT   float64       \n",
      " 27  Latitude           float64       \n",
      " 28  Longitude          float64       \n",
      " 29  Lat_Lon            object        \n",
      " 30  PATROL_BORO        object        \n",
      " 31  STATION_NAME       object        \n",
      " 32  VIC_AGE_GROUP      object        \n",
      " 33  VIC_RACE           object        \n",
      " 34  VIC_SEX            object        \n",
      " 35  OCC                object        \n",
      " 36  OCC_END            object        \n",
      "dtypes: datetime64[ns](1), float64(8), int64(2), object(26)\n",
      "memory usage: 2.2+ GB\n"
     ]
    }
   ],
   "source": [
    "data.info()"
   ],
   "metadata": {
    "collapsed": false
   }
  }
 ],
 "metadata": {
  "kernelspec": {
   "display_name": "Python 3",
   "language": "python",
   "name": "python3"
  },
  "language_info": {
   "codemirror_mode": {
    "name": "ipython",
    "version": 2
   },
   "file_extension": ".py",
   "mimetype": "text/x-python",
   "name": "python",
   "nbconvert_exporter": "python",
   "pygments_lexer": "ipython2",
   "version": "2.7.6"
  }
 },
 "nbformat": 4,
 "nbformat_minor": 0
}
