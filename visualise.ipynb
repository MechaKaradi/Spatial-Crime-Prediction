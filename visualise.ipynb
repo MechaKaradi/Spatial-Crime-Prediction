{
 "cells": [
  {
   "cell_type": "code",
   "execution_count": 1,
   "metadata": {
    "collapsed": true
   },
   "outputs": [],
   "source": [
    "import altair as alt\n",
    "import pandas as pd\n",
    "import geopandas as gpd"
   ]
  },
  {
   "cell_type": "code",
   "execution_count": 2,
   "outputs": [
    {
     "data": {
      "text/plain": "   CMPLNT_NUM CMPLNT_FR_DT CMPLNT_FR_TM CMPLNT_TO_DT CMPLNT_TO_TM ADDR_PCT_CD  \\\n0   506547392   03/29/2018     20:30:00          NaN          NaN        32.0   \n1   629632833   02/06/2018     23:15:00          NaN          NaN        52.0   \n2   787203902   11/21/2018     00:15:00   11/21/2018     00:20:00        75.0   \n3   280364018   06/09/2018     21:42:00   06/09/2018     21:43:00        10.0   \n4   985800320   11/10/2018     19:40:00   11/10/2018     19:45:00        19.0   \n\n      RPT_DT KY_CD                       OFNS_DESC  PD_CD  ...   Latitude  \\\n0 2018-03-30   351  CRIMINAL MISCHIEF & RELATED OF  254.0  ...  40.810877   \n1 2018-02-07   341                   PETIT LARCENY  333.0  ...  40.873671   \n2 2018-11-21   341                   PETIT LARCENY  321.0  ...  40.651782   \n3 2018-06-10   361   OFF. AGNST PUB ORD SENSBLTY &  639.0  ...  40.759310   \n4 2018-11-10   341                   PETIT LARCENY  333.0  ...  40.764536   \n\n   Longitude                        Lat_Lon              PATROL_BORO  \\\n0 -73.941064  (40.810877241, -73.941064151)    PATROL BORO MAN NORTH   \n1 -73.908014  (40.873671035, -73.908013649)        PATROL BORO BRONX   \n2 -73.885457  (40.651782232, -73.885456761)  PATROL BORO BKLYN NORTH   \n3 -73.994706  (40.759310399, -73.994706072)    PATROL BORO MAN SOUTH   \n4 -73.970728  (40.764535539, -73.970728388)    PATROL BORO MAN NORTH   \n\n  STATION_NAME VIC_AGE_GROUP        VIC_RACE VIC_SEX                  OCC  \\\n0          NaN         25-44           WHITE       F  03/29/2018 20:30:00   \n1          NaN       UNKNOWN         UNKNOWN       D  02/06/2018 23:15:00   \n2          NaN       UNKNOWN         UNKNOWN       D  11/21/2018 00:15:00   \n3          NaN         18-24  WHITE HISPANIC       F  06/09/2018 21:42:00   \n4          NaN       UNKNOWN         UNKNOWN       D  11/10/2018 19:40:00   \n\n               OCC_END  \n0                  NaN  \n1                  NaN  \n2  11/21/2018 00:20:00  \n3  06/09/2018 21:43:00  \n4  11/10/2018 19:45:00  \n\n[5 rows x 37 columns]",
      "text/html": "<div>\n<style scoped>\n    .dataframe tbody tr th:only-of-type {\n        vertical-align: middle;\n    }\n\n    .dataframe tbody tr th {\n        vertical-align: top;\n    }\n\n    .dataframe thead th {\n        text-align: right;\n    }\n</style>\n<table border=\"1\" class=\"dataframe\">\n  <thead>\n    <tr style=\"text-align: right;\">\n      <th></th>\n      <th>CMPLNT_NUM</th>\n      <th>CMPLNT_FR_DT</th>\n      <th>CMPLNT_FR_TM</th>\n      <th>CMPLNT_TO_DT</th>\n      <th>CMPLNT_TO_TM</th>\n      <th>ADDR_PCT_CD</th>\n      <th>RPT_DT</th>\n      <th>KY_CD</th>\n      <th>OFNS_DESC</th>\n      <th>PD_CD</th>\n      <th>...</th>\n      <th>Latitude</th>\n      <th>Longitude</th>\n      <th>Lat_Lon</th>\n      <th>PATROL_BORO</th>\n      <th>STATION_NAME</th>\n      <th>VIC_AGE_GROUP</th>\n      <th>VIC_RACE</th>\n      <th>VIC_SEX</th>\n      <th>OCC</th>\n      <th>OCC_END</th>\n    </tr>\n  </thead>\n  <tbody>\n    <tr>\n      <th>0</th>\n      <td>506547392</td>\n      <td>03/29/2018</td>\n      <td>20:30:00</td>\n      <td>NaN</td>\n      <td>NaN</td>\n      <td>32.0</td>\n      <td>2018-03-30</td>\n      <td>351</td>\n      <td>CRIMINAL MISCHIEF &amp; RELATED OF</td>\n      <td>254.0</td>\n      <td>...</td>\n      <td>40.810877</td>\n      <td>-73.941064</td>\n      <td>(40.810877241, -73.941064151)</td>\n      <td>PATROL BORO MAN NORTH</td>\n      <td>NaN</td>\n      <td>25-44</td>\n      <td>WHITE</td>\n      <td>F</td>\n      <td>03/29/2018 20:30:00</td>\n      <td>NaN</td>\n    </tr>\n    <tr>\n      <th>1</th>\n      <td>629632833</td>\n      <td>02/06/2018</td>\n      <td>23:15:00</td>\n      <td>NaN</td>\n      <td>NaN</td>\n      <td>52.0</td>\n      <td>2018-02-07</td>\n      <td>341</td>\n      <td>PETIT LARCENY</td>\n      <td>333.0</td>\n      <td>...</td>\n      <td>40.873671</td>\n      <td>-73.908014</td>\n      <td>(40.873671035, -73.908013649)</td>\n      <td>PATROL BORO BRONX</td>\n      <td>NaN</td>\n      <td>UNKNOWN</td>\n      <td>UNKNOWN</td>\n      <td>D</td>\n      <td>02/06/2018 23:15:00</td>\n      <td>NaN</td>\n    </tr>\n    <tr>\n      <th>2</th>\n      <td>787203902</td>\n      <td>11/21/2018</td>\n      <td>00:15:00</td>\n      <td>11/21/2018</td>\n      <td>00:20:00</td>\n      <td>75.0</td>\n      <td>2018-11-21</td>\n      <td>341</td>\n      <td>PETIT LARCENY</td>\n      <td>321.0</td>\n      <td>...</td>\n      <td>40.651782</td>\n      <td>-73.885457</td>\n      <td>(40.651782232, -73.885456761)</td>\n      <td>PATROL BORO BKLYN NORTH</td>\n      <td>NaN</td>\n      <td>UNKNOWN</td>\n      <td>UNKNOWN</td>\n      <td>D</td>\n      <td>11/21/2018 00:15:00</td>\n      <td>11/21/2018 00:20:00</td>\n    </tr>\n    <tr>\n      <th>3</th>\n      <td>280364018</td>\n      <td>06/09/2018</td>\n      <td>21:42:00</td>\n      <td>06/09/2018</td>\n      <td>21:43:00</td>\n      <td>10.0</td>\n      <td>2018-06-10</td>\n      <td>361</td>\n      <td>OFF. AGNST PUB ORD SENSBLTY &amp;</td>\n      <td>639.0</td>\n      <td>...</td>\n      <td>40.759310</td>\n      <td>-73.994706</td>\n      <td>(40.759310399, -73.994706072)</td>\n      <td>PATROL BORO MAN SOUTH</td>\n      <td>NaN</td>\n      <td>18-24</td>\n      <td>WHITE HISPANIC</td>\n      <td>F</td>\n      <td>06/09/2018 21:42:00</td>\n      <td>06/09/2018 21:43:00</td>\n    </tr>\n    <tr>\n      <th>4</th>\n      <td>985800320</td>\n      <td>11/10/2018</td>\n      <td>19:40:00</td>\n      <td>11/10/2018</td>\n      <td>19:45:00</td>\n      <td>19.0</td>\n      <td>2018-11-10</td>\n      <td>341</td>\n      <td>PETIT LARCENY</td>\n      <td>333.0</td>\n      <td>...</td>\n      <td>40.764536</td>\n      <td>-73.970728</td>\n      <td>(40.764535539, -73.970728388)</td>\n      <td>PATROL BORO MAN NORTH</td>\n      <td>NaN</td>\n      <td>UNKNOWN</td>\n      <td>UNKNOWN</td>\n      <td>D</td>\n      <td>11/10/2018 19:40:00</td>\n      <td>11/10/2018 19:45:00</td>\n    </tr>\n  </tbody>\n</table>\n<p>5 rows × 37 columns</p>\n</div>"
     },
     "execution_count": 2,
     "metadata": {},
     "output_type": "execute_result"
    }
   ],
   "source": [
    "\n",
    "import pickle\n",
    "\n",
    "with open('data.pickle', 'rb') as f:\n",
    "    data = pickle.load(f, encoding='binary')\n",
    "\n",
    "data.head(5)"
   ],
   "metadata": {
    "collapsed": false
   }
  },
  {
   "cell_type": "code",
   "execution_count": 3,
   "outputs": [
    {
     "name": "stdout",
     "output_type": "stream",
     "text": [
      "<class 'pandas.core.frame.DataFrame'>\n",
      "RangeIndex: 7825499 entries, 0 to 7825498\n",
      "Data columns (total 37 columns):\n",
      " #   Column             Dtype   \n",
      "---  ------             -----   \n",
      " 0   CMPLNT_NUM         int64   \n",
      " 1   CMPLNT_FR_DT       object  \n",
      " 2   CMPLNT_FR_TM       object  \n",
      " 3   CMPLNT_TO_DT       object  \n",
      " 4   CMPLNT_TO_TM       object  \n",
      " 5   ADDR_PCT_CD        category\n",
      " 6   RPT_DT             category\n",
      " 7   KY_CD              category\n",
      " 8   OFNS_DESC          category\n",
      " 9   PD_CD              category\n",
      " 10  PD_DESC            category\n",
      " 11  CRM_ATPT_CPTD_CD   category\n",
      " 12  LAW_CAT_CD         category\n",
      " 13  BORO_NM            category\n",
      " 14  LOC_OF_OCCUR_DESC  category\n",
      " 15  PREM_TYP_DESC      object  \n",
      " 16  JURIS_DESC         category\n",
      " 17  JURISDICTION_CODE  category\n",
      " 18  PARKS_NM           category\n",
      " 19  HADEVELOPT         category\n",
      " 20  HOUSING_PSA        category\n",
      " 21  X_COORD_CD         float64 \n",
      " 22  Y_COORD_CD         float64 \n",
      " 23  SUSP_AGE_GROUP     category\n",
      " 24  SUSP_RACE          category\n",
      " 25  SUSP_SEX           category\n",
      " 26  TRANSIT_DISTRICT   category\n",
      " 27  Latitude           float64 \n",
      " 28  Longitude          float64 \n",
      " 29  Lat_Lon            object  \n",
      " 30  PATROL_BORO        category\n",
      " 31  STATION_NAME       category\n",
      " 32  VIC_AGE_GROUP      category\n",
      " 33  VIC_RACE           category\n",
      " 34  VIC_SEX            category\n",
      " 35  OCC                object  \n",
      " 36  OCC_END            object  \n",
      "dtypes: category(24), float64(4), int64(1), object(8)\n",
      "memory usage: 1015.2+ MB\n"
     ]
    },
    {
     "ename": "ImportError",
     "evalue": "the 'read_file' function requires the 'fiona' package, but it is not installed or does not import correctly.\nImporting fiona resulted in: DLL load failed while importing _env: The specified module could not be found.",
     "output_type": "error",
     "traceback": [
      "\u001B[1;31m---------------------------------------------------------------------------\u001B[0m",
      "\u001B[1;31mImportError\u001B[0m                               Traceback (most recent call last)",
      "Cell \u001B[1;32mIn[3], line 3\u001B[0m\n\u001B[0;32m      1\u001B[0m data\u001B[38;5;241m.\u001B[39minfo()\n\u001B[1;32m----> 3\u001B[0m census \u001B[38;5;241m=\u001B[39m gpd\u001B[38;5;241m.\u001B[39mread_file(\u001B[38;5;124m'\u001B[39m\u001B[38;5;124m..//data//Police Precincts.geojson\u001B[39m\u001B[38;5;124m'\u001B[39m)\n\u001B[0;32m      5\u001B[0m gpd\u001B[38;5;241m.\u001B[39mGeoDataFrame(census)\u001B[38;5;241m.\u001B[39mplot()\n",
      "File \u001B[1;32m~\\anaconda3\\envs\\Py311\\Lib\\site-packages\\geopandas\\io\\file.py:127\u001B[0m, in \u001B[0;36m_read_file\u001B[1;34m(filename, bbox, mask, rows, **kwargs)\u001B[0m\n\u001B[0;32m     66\u001B[0m \u001B[38;5;28;01mdef\u001B[39;00m \u001B[38;5;21m_read_file\u001B[39m(filename, bbox\u001B[38;5;241m=\u001B[39m\u001B[38;5;28;01mNone\u001B[39;00m, mask\u001B[38;5;241m=\u001B[39m\u001B[38;5;28;01mNone\u001B[39;00m, rows\u001B[38;5;241m=\u001B[39m\u001B[38;5;28;01mNone\u001B[39;00m, \u001B[38;5;241m*\u001B[39m\u001B[38;5;241m*\u001B[39mkwargs):\n\u001B[0;32m     67\u001B[0m     \u001B[38;5;124;03m\"\"\"\u001B[39;00m\n\u001B[0;32m     68\u001B[0m \u001B[38;5;124;03m    Returns a GeoDataFrame from a file or URL.\u001B[39;00m\n\u001B[0;32m     69\u001B[0m \n\u001B[1;32m   (...)\u001B[0m\n\u001B[0;32m    125\u001B[0m \u001B[38;5;124;03m    by using the encoding keyword parameter, e.g. ``encoding='utf-8'``.\u001B[39;00m\n\u001B[0;32m    126\u001B[0m \u001B[38;5;124;03m    \"\"\"\u001B[39;00m\n\u001B[1;32m--> 127\u001B[0m     _check_fiona(\u001B[38;5;124m\"\u001B[39m\u001B[38;5;124m'\u001B[39m\u001B[38;5;124mread_file\u001B[39m\u001B[38;5;124m'\u001B[39m\u001B[38;5;124m function\u001B[39m\u001B[38;5;124m\"\u001B[39m)\n\u001B[0;32m    128\u001B[0m     \u001B[38;5;28;01mif\u001B[39;00m _is_url(filename):\n\u001B[0;32m    129\u001B[0m         req \u001B[38;5;241m=\u001B[39m _urlopen(filename)\n",
      "File \u001B[1;32m~\\anaconda3\\envs\\Py311\\Lib\\site-packages\\geopandas\\io\\file.py:42\u001B[0m, in \u001B[0;36m_check_fiona\u001B[1;34m(func)\u001B[0m\n\u001B[0;32m     40\u001B[0m \u001B[38;5;28;01mdef\u001B[39;00m \u001B[38;5;21m_check_fiona\u001B[39m(func):\n\u001B[0;32m     41\u001B[0m     \u001B[38;5;28;01mif\u001B[39;00m fiona \u001B[38;5;129;01mis\u001B[39;00m \u001B[38;5;28;01mNone\u001B[39;00m:\n\u001B[1;32m---> 42\u001B[0m         \u001B[38;5;28;01mraise\u001B[39;00m \u001B[38;5;167;01mImportError\u001B[39;00m(\n\u001B[0;32m     43\u001B[0m             \u001B[38;5;124mf\u001B[39m\u001B[38;5;124m\"\u001B[39m\u001B[38;5;124mthe \u001B[39m\u001B[38;5;132;01m{\u001B[39;00mfunc\u001B[38;5;132;01m}\u001B[39;00m\u001B[38;5;124m requires the \u001B[39m\u001B[38;5;124m'\u001B[39m\u001B[38;5;124mfiona\u001B[39m\u001B[38;5;124m'\u001B[39m\u001B[38;5;124m package, but it is not installed or does \u001B[39m\u001B[38;5;124m\"\u001B[39m\n\u001B[0;32m     44\u001B[0m             \u001B[38;5;124mf\u001B[39m\u001B[38;5;124m\"\u001B[39m\u001B[38;5;124mnot import correctly.\u001B[39m\u001B[38;5;130;01m\\n\u001B[39;00m\u001B[38;5;124mImporting fiona resulted in: \u001B[39m\u001B[38;5;132;01m{\u001B[39;00mfiona_import_error\u001B[38;5;132;01m}\u001B[39;00m\u001B[38;5;124m\"\u001B[39m\n\u001B[0;32m     45\u001B[0m         )\n",
      "\u001B[1;31mImportError\u001B[0m: the 'read_file' function requires the 'fiona' package, but it is not installed or does not import correctly.\nImporting fiona resulted in: DLL load failed while importing _env: The specified module could not be found."
     ]
    }
   ],
   "source": [
    "data.info()\n",
    "\n",
    "census = gpd.read_file('..//data//Police Precincts.geojson')\n",
    "\n",
    "gpd.GeoDataFrame(census).plot()"
   ],
   "metadata": {
    "collapsed": false
   }
  }
 ],
 "metadata": {
  "kernelspec": {
   "display_name": "Python 3",
   "language": "python",
   "name": "python3"
  },
  "language_info": {
   "codemirror_mode": {
    "name": "ipython",
    "version": 2
   },
   "file_extension": ".py",
   "mimetype": "text/x-python",
   "name": "python",
   "nbconvert_exporter": "python",
   "pygments_lexer": "ipython2",
   "version": "2.7.6"
  }
 },
 "nbformat": 4,
 "nbformat_minor": 0
}
