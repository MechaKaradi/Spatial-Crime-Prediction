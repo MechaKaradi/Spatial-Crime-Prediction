{
 "cells": [
  {
   "cell_type": "code",
   "execution_count": 1,
   "metadata": {
    "collapsed": true
   },
   "outputs": [
    {
     "ename": "ImportError",
     "evalue": "DLL load failed while importing _network: The specified module could not be found.",
     "output_type": "error",
     "traceback": [
      "\u001B[1;31m---------------------------------------------------------------------------\u001B[0m",
      "\u001B[1;31mImportError\u001B[0m                               Traceback (most recent call last)",
      "Cell \u001B[1;32mIn[1], line 3\u001B[0m\n\u001B[0;32m      1\u001B[0m \u001B[38;5;28;01mimport\u001B[39;00m \u001B[38;5;21;01maltair\u001B[39;00m \u001B[38;5;28;01mas\u001B[39;00m \u001B[38;5;21;01malt\u001B[39;00m\n\u001B[0;32m      2\u001B[0m \u001B[38;5;28;01mimport\u001B[39;00m \u001B[38;5;21;01mpandas\u001B[39;00m \u001B[38;5;28;01mas\u001B[39;00m \u001B[38;5;21;01mpd\u001B[39;00m\n\u001B[1;32m----> 3\u001B[0m \u001B[38;5;28;01mimport\u001B[39;00m \u001B[38;5;21;01mgeopandas\u001B[39;00m\n",
      "File \u001B[1;32m~\\anaconda3\\envs\\Py311\\Lib\\site-packages\\geopandas\\__init__.py:1\u001B[0m\n\u001B[1;32m----> 1\u001B[0m \u001B[38;5;28;01mfrom\u001B[39;00m \u001B[38;5;21;01mgeopandas\u001B[39;00m\u001B[38;5;21;01m.\u001B[39;00m\u001B[38;5;21;01m_config\u001B[39;00m \u001B[38;5;28;01mimport\u001B[39;00m options  \u001B[38;5;66;03m# noqa\u001B[39;00m\n\u001B[0;32m      3\u001B[0m \u001B[38;5;28;01mfrom\u001B[39;00m \u001B[38;5;21;01mgeopandas\u001B[39;00m\u001B[38;5;21;01m.\u001B[39;00m\u001B[38;5;21;01mgeoseries\u001B[39;00m \u001B[38;5;28;01mimport\u001B[39;00m GeoSeries  \u001B[38;5;66;03m# noqa\u001B[39;00m\n\u001B[0;32m      4\u001B[0m \u001B[38;5;28;01mfrom\u001B[39;00m \u001B[38;5;21;01mgeopandas\u001B[39;00m\u001B[38;5;21;01m.\u001B[39;00m\u001B[38;5;21;01mgeodataframe\u001B[39;00m \u001B[38;5;28;01mimport\u001B[39;00m GeoDataFrame  \u001B[38;5;66;03m# noqa\u001B[39;00m\n",
      "File \u001B[1;32m~\\anaconda3\\envs\\Py311\\Lib\\site-packages\\geopandas\\_config.py:126\u001B[0m\n\u001B[0;32m    119\u001B[0m     \u001B[38;5;28;01mimport\u001B[39;00m \u001B[38;5;21;01mgeopandas\u001B[39;00m\u001B[38;5;21;01m.\u001B[39;00m\u001B[38;5;21;01m_compat\u001B[39;00m \u001B[38;5;28;01mas\u001B[39;00m \u001B[38;5;21;01mcompat\u001B[39;00m\n\u001B[0;32m    121\u001B[0m     compat\u001B[38;5;241m.\u001B[39mset_use_pygeos(value)\n\u001B[0;32m    124\u001B[0m use_pygeos \u001B[38;5;241m=\u001B[39m Option(\n\u001B[0;32m    125\u001B[0m     key\u001B[38;5;241m=\u001B[39m\u001B[38;5;124m\"\u001B[39m\u001B[38;5;124muse_pygeos\u001B[39m\u001B[38;5;124m\"\u001B[39m,\n\u001B[1;32m--> 126\u001B[0m     default_value\u001B[38;5;241m=\u001B[39m_default_use_pygeos(),\n\u001B[0;32m    127\u001B[0m     doc\u001B[38;5;241m=\u001B[39m(\n\u001B[0;32m    128\u001B[0m         \u001B[38;5;124m\"\u001B[39m\u001B[38;5;124mWhether to use PyGEOS to speed up spatial operations. The default is True \u001B[39m\u001B[38;5;124m\"\u001B[39m\n\u001B[0;32m    129\u001B[0m         \u001B[38;5;124m\"\u001B[39m\u001B[38;5;124mif PyGEOS is installed, and follows the USE_PYGEOS environment variable \u001B[39m\u001B[38;5;124m\"\u001B[39m\n\u001B[0;32m    130\u001B[0m         \u001B[38;5;124m\"\u001B[39m\u001B[38;5;124mif set.\u001B[39m\u001B[38;5;124m\"\u001B[39m\n\u001B[0;32m    131\u001B[0m     ),\n\u001B[0;32m    132\u001B[0m     validator\u001B[38;5;241m=\u001B[39m_validate_bool,\n\u001B[0;32m    133\u001B[0m     callback\u001B[38;5;241m=\u001B[39m_callback_use_pygeos,\n\u001B[0;32m    134\u001B[0m )\n\u001B[0;32m    137\u001B[0m options \u001B[38;5;241m=\u001B[39m Options({\u001B[38;5;124m\"\u001B[39m\u001B[38;5;124mdisplay_precision\u001B[39m\u001B[38;5;124m\"\u001B[39m: display_precision, \u001B[38;5;124m\"\u001B[39m\u001B[38;5;124muse_pygeos\u001B[39m\u001B[38;5;124m\"\u001B[39m: use_pygeos})\n",
      "File \u001B[1;32m~\\anaconda3\\envs\\Py311\\Lib\\site-packages\\geopandas\\_config.py:112\u001B[0m, in \u001B[0;36m_default_use_pygeos\u001B[1;34m()\u001B[0m\n\u001B[0;32m    111\u001B[0m \u001B[38;5;28;01mdef\u001B[39;00m \u001B[38;5;21m_default_use_pygeos\u001B[39m():\n\u001B[1;32m--> 112\u001B[0m     \u001B[38;5;28;01mimport\u001B[39;00m \u001B[38;5;21;01mgeopandas\u001B[39;00m\u001B[38;5;21;01m.\u001B[39;00m\u001B[38;5;21;01m_compat\u001B[39;00m \u001B[38;5;28;01mas\u001B[39;00m \u001B[38;5;21;01mcompat\u001B[39;00m\n\u001B[0;32m    114\u001B[0m     \u001B[38;5;28;01mreturn\u001B[39;00m compat\u001B[38;5;241m.\u001B[39mUSE_PYGEOS\n",
      "File \u001B[1;32m~\\anaconda3\\envs\\Py311\\Lib\\site-packages\\geopandas\\_compat.py:8\u001B[0m\n\u001B[0;32m      5\u001B[0m \u001B[38;5;28;01mimport\u001B[39;00m \u001B[38;5;21;01mwarnings\u001B[39;00m\n\u001B[0;32m      7\u001B[0m \u001B[38;5;28;01mimport\u001B[39;00m \u001B[38;5;21;01mpandas\u001B[39;00m \u001B[38;5;28;01mas\u001B[39;00m \u001B[38;5;21;01mpd\u001B[39;00m\n\u001B[1;32m----> 8\u001B[0m \u001B[38;5;28;01mimport\u001B[39;00m \u001B[38;5;21;01mpyproj\u001B[39;00m\n\u001B[0;32m      9\u001B[0m \u001B[38;5;28;01mimport\u001B[39;00m \u001B[38;5;21;01mshapely\u001B[39;00m\n\u001B[0;32m     10\u001B[0m \u001B[38;5;28;01mimport\u001B[39;00m \u001B[38;5;21;01mshapely\u001B[39;00m\u001B[38;5;21;01m.\u001B[39;00m\u001B[38;5;21;01mgeos\u001B[39;00m\n",
      "File \u001B[1;32m~\\anaconda3\\envs\\Py311\\Lib\\site-packages\\pyproj\\__init__.py:33\u001B[0m\n\u001B[0;32m      1\u001B[0m \u001B[38;5;124;03m\"\"\"\u001B[39;00m\n\u001B[0;32m      2\u001B[0m \u001B[38;5;124;03mPython interface to PROJ (https://proj.org),\u001B[39;00m\n\u001B[0;32m      3\u001B[0m \u001B[38;5;124;03mcartographic projections and coordinate transformations library.\u001B[39;00m\n\u001B[1;32m   (...)\u001B[0m\n\u001B[0;32m     29\u001B[0m \u001B[38;5;124;03mSOFTWARE OR THE USE OR OTHER DEALINGS IN THE SOFTWARE.\u001B[39;00m\n\u001B[0;32m     30\u001B[0m \u001B[38;5;124;03m\"\"\"\u001B[39;00m\n\u001B[0;32m     31\u001B[0m \u001B[38;5;28;01mimport\u001B[39;00m \u001B[38;5;21;01mwarnings\u001B[39;00m\n\u001B[1;32m---> 33\u001B[0m \u001B[38;5;28;01mimport\u001B[39;00m \u001B[38;5;21;01mpyproj\u001B[39;00m\u001B[38;5;21;01m.\u001B[39;00m\u001B[38;5;21;01mnetwork\u001B[39;00m\n\u001B[0;32m     34\u001B[0m \u001B[38;5;28;01mfrom\u001B[39;00m \u001B[38;5;21;01mpyproj\u001B[39;00m\u001B[38;5;21;01m.\u001B[39;00m\u001B[38;5;21;01m_datadir\u001B[39;00m \u001B[38;5;28;01mimport\u001B[39;00m (  \u001B[38;5;66;03m# noqa: F401 pylint: disable=unused-import\u001B[39;00m\n\u001B[0;32m     35\u001B[0m     _pyproj_global_context_initialize,\n\u001B[0;32m     36\u001B[0m     set_use_global_context,\n\u001B[0;32m     37\u001B[0m )\n\u001B[0;32m     38\u001B[0m \u001B[38;5;28;01mfrom\u001B[39;00m \u001B[38;5;21;01mpyproj\u001B[39;00m\u001B[38;5;21;01m.\u001B[39;00m\u001B[38;5;21;01m_show_versions\u001B[39;00m \u001B[38;5;28;01mimport\u001B[39;00m (  \u001B[38;5;66;03m# noqa: F401 pylint: disable=unused-import\u001B[39;00m\n\u001B[0;32m     39\u001B[0m     show_versions,\n\u001B[0;32m     40\u001B[0m )\n",
      "File \u001B[1;32m~\\anaconda3\\envs\\Py311\\Lib\\site-packages\\pyproj\\network.py:10\u001B[0m\n\u001B[0;32m      6\u001B[0m \u001B[38;5;28;01mfrom\u001B[39;00m \u001B[38;5;21;01mtyping\u001B[39;00m \u001B[38;5;28;01mimport\u001B[39;00m Union\n\u001B[0;32m      8\u001B[0m \u001B[38;5;28;01mimport\u001B[39;00m \u001B[38;5;21;01mcertifi\u001B[39;00m\n\u001B[1;32m---> 10\u001B[0m \u001B[38;5;28;01mfrom\u001B[39;00m \u001B[38;5;21;01mpyproj\u001B[39;00m\u001B[38;5;21;01m.\u001B[39;00m\u001B[38;5;21;01m_network\u001B[39;00m \u001B[38;5;28;01mimport\u001B[39;00m (  \u001B[38;5;66;03m# noqa: F401 pylint: disable=unused-import\u001B[39;00m\n\u001B[0;32m     11\u001B[0m     _set_ca_bundle_path,\n\u001B[0;32m     12\u001B[0m     is_network_enabled,\n\u001B[0;32m     13\u001B[0m     set_network_enabled,\n\u001B[0;32m     14\u001B[0m )\n\u001B[0;32m     17\u001B[0m \u001B[38;5;28;01mdef\u001B[39;00m \u001B[38;5;21mset_ca_bundle_path\u001B[39m(ca_bundle_path: Union[Path, \u001B[38;5;28mstr\u001B[39m, \u001B[38;5;28mbool\u001B[39m, \u001B[38;5;28;01mNone\u001B[39;00m] \u001B[38;5;241m=\u001B[39m \u001B[38;5;28;01mNone\u001B[39;00m) \u001B[38;5;241m-\u001B[39m\u001B[38;5;241m>\u001B[39m \u001B[38;5;28;01mNone\u001B[39;00m:\n\u001B[0;32m     18\u001B[0m     \u001B[38;5;124;03m\"\"\"\u001B[39;00m\n\u001B[0;32m     19\u001B[0m \u001B[38;5;124;03m    .. versionadded:: 3.0.0\u001B[39;00m\n\u001B[0;32m     20\u001B[0m \n\u001B[1;32m   (...)\u001B[0m\n\u001B[0;32m     40\u001B[0m \u001B[38;5;124;03m        variables.\u001B[39;00m\n\u001B[0;32m     41\u001B[0m \u001B[38;5;124;03m    \"\"\"\u001B[39;00m\n",
      "\u001B[1;31mImportError\u001B[0m: DLL load failed while importing _network: The specified module could not be found."
     ]
    }
   ],
   "source": [
    "import altair as alt\n",
    "import pandas as pd\n",
    "import geopandas"
   ]
  },
  {
   "cell_type": "code",
   "execution_count": null,
   "outputs": [],
   "source": [
    "\n",
    "import pickle\n",
    "\n",
    "with open('data.pickle', 'rb') as f:\n",
    "    data = pickle.load(f, encoding='binary')\n",
    "\n",
    "data.head(5)"
   ],
   "metadata": {
    "collapsed": false
   }
  },
  {
   "cell_type": "code",
   "execution_count": null,
   "outputs": [],
   "source": [
    "data.info()\n",
    "\n",
    "census = gpd.read_file('2010 Census Tracts (water areas included).geojson')\n",
    "\n",
    "gpd.GeoDataFrame(census).plot()"
   ],
   "metadata": {
    "collapsed": false
   }
  }
 ],
 "metadata": {
  "kernelspec": {
   "display_name": "Python 3",
   "language": "python",
   "name": "python3"
  },
  "language_info": {
   "codemirror_mode": {
    "name": "ipython",
    "version": 2
   },
   "file_extension": ".py",
   "mimetype": "text/x-python",
   "name": "python",
   "nbconvert_exporter": "python",
   "pygments_lexer": "ipython2",
   "version": "2.7.6"
  }
 },
 "nbformat": 4,
 "nbformat_minor": 0
}
